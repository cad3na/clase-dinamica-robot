{
 "cells": [
  {
   "cell_type": "code",
   "execution_count": 1,
   "metadata": {
    "collapsed": false
   },
   "outputs": [
    {
     "data": {
      "text/html": [
       "<link href='http://fonts.googleapis.com/css?family=EB+Garamond' rel='stylesheet' type='text/css'>\n",
       "<link href='http://fonts.googleapis.com/css?family=Lato:100,100italic' rel='stylesheet' type='text/css'>\n",
       "<link rel=\"stylesheet\" href=\"//cdn.jsdelivr.net/font-hack/2.013/css/hack-extended.min.css\">\n",
       "\n",
       "<style>\n",
       "\t@font-face{\n",
       "   \t\tfont-family: \"Computer Modern\";\n",
       "        \tsrc: url('http://mirrors.ctan.org/fonts/cm-unicode/fonts/otf/cmunss.otf');}\n",
       "        \n",
       "        div.cell{\n",
       "\t        max-width:    800px;\n",
       "\t        margin-left:  auto;\n",
       "\t        margin-right: auto;}\n",
       "        \n",
       "\th1 {\n",
       "        \tfont-family: 'Lato', sans-serif;}\n",
       "        \n",
       "\th2 {\n",
       "        \tfont-family: 'Lato', serif;}\n",
       "        \n",
       "\th3{\n",
       "\t\tfont-family:   'Lato', serif;\n",
       "        \tmargin-top:    12px;\n",
       "\t\tmargin-bottom: 3px;}\n",
       "        \n",
       "        h4{\n",
       "\t\tfont-family: 'Lato', serif;}\n",
       "\t\n",
       "\th5 {\n",
       "        \tfont-family: 'Lato', serif;}\n",
       "    \n",
       "\tdiv.text_cell_render{\n",
       "        \tfont-family:  'EB Garamond', 'Computer Modern', 'Helvetica Neue', Arial, Helvetica, Geneva, sans-serif;\n",
       "\t        line-height:  140%;\n",
       "\t        font-size:    14pt;\n",
       "\t\tmax-width:    650px;\n",
       "\t\tmargin-left:  auto;\n",
       "        \tmargin-right: auto;}\n",
       "        \n",
       "\t.CodeMirror{\n",
       "        \tfont-family: 'Inconsolata', monospace;}\n",
       "    \n",
       "\t.text_cell_render h1 {\n",
       "\t        font-weight:   100;\n",
       "\t        font-size:     48pt;\n",
       "\t\tline-height:   100%;\n",
       "\t        color:         #CD2305;\n",
       "\t        margin-bottom: 0.5em;\n",
       "\t        margin-top:    0.5em;\n",
       "\t        display:       block;}\n",
       "        \n",
       "\t.text_cell_render h2 {\n",
       "        \tfont-weight:   100;\n",
       "        \tfont-size:     36pt;}\n",
       "        \n",
       "\t.text_cell_render h3 {\n",
       "        \tfont-weight:   100;\n",
       "        \tfont-size:     21pt;}\n",
       "        \n",
       "\t.text_cell_render h4 {\n",
       "        \tfont-weight:   100;\n",
       "        \tfont-size:     18pt;}\n",
       "        \n",
       "\t.text_cell_render h5 {\n",
       "\t        font-weight:   100;\n",
       "\t        font-size:     16pt;\n",
       "\t        color:         #CD2305;\n",
       "\t        font-style:    italic;\n",
       "\t        margin-bottom: 0.5em;\n",
       "\t        margin-top:    0.5em;\n",
       "\t        display:       block;}\n",
       "        \n",
       "\t.text_cell_render h6 {\n",
       "\t        font-weight:   100;\n",
       "\t        font-size:     14pt;\n",
       "\t        color:         #CD2305;\n",
       "\t        font-style:    italic;\n",
       "\t        margin-bottom: 0.5em;\n",
       "\t        margin-top:    0.5em;\n",
       "\t        display:       block;}\n",
       "    \n",
       "\t.warning{\n",
       "\t    \tbackground-color: #FFFFE0;\n",
       "\t    \tborder-color: #FFCC99;\n",
       "\t    \tborder-left: 5px solid #FFCC99;\n",
       "\t    \tpadding: 0.5em;}\n",
       "\t    \t\n",
       "\t.error{\n",
       "\t    \tbackground-color: #fcf2f2;\n",
       "\t    \tborder-color: #dFb5b4;\n",
       "\t    \tborder-left: 5px solid #dfb5b4;\n",
       "\t    \tpadding: 0.5em;}\n",
       "\t    \t\n",
       "</style>\n",
       "\n",
       "<script>\n",
       "\tMathJax.Hub.Config({\n",
       "        \tTeX:{extensions: [\"AMSmath.js\"]},\n",
       "\n",
       "        \tjax: [\"input/TeX\",\"output/SVG\"],\n",
       "        \tSVG: {\n",
       "        \t\tscale: 120,\n",
       "        \t\tfont: 'Gyre-Pagella'}\n",
       "        });\n",
       "</script>"
      ]
     },
     "metadata": {},
     "output_type": "display_data"
    }
   ],
   "source": [
    "from IPython.core.display import display_html\n",
    "from urllib.request import urlopen\n",
    "\n",
    "link = 'https://gist.github.com/robblack007/eca03fa9f7586860235d/raw/ef05a2f29febc94a9c9f99ca20fd0b65e74ed451/custom.css'\n",
    "display_html(urlopen(link).read(), raw=True)"
   ]
  },
  {
   "cell_type": "markdown",
   "metadata": {},
   "source": [
    "# Dinámica de un robot manipulador planar"
   ]
  },
  {
   "cell_type": "code",
   "execution_count": 2,
   "metadata": {
    "collapsed": true
   },
   "outputs": [],
   "source": [
    "from sympy import var, sin, cos, Matrix, Integer, eye, Function, Rational, exp, Symbol, I, solve, pi, trigsimp, dsolve, sinh, cosh, simplify\n",
    "from sympy.physics.mechanics import mechanics_printing\n",
    "mechanics_printing()"
   ]
  },
  {
   "cell_type": "code",
   "execution_count": 3,
   "metadata": {
    "collapsed": false
   },
   "outputs": [
    {
     "data": {
      "image/png": "[encoded data removed]",
      "text/latex": [
       "$$\\left ( m_{1}, \\quad m_{2}, \\quad J_{1}, \\quad J_{2}, \\quad L_{1}, \\quad L_{2}, \\quad l_{1}, \\quad l_{2}, \\quad t, \\quad g\\right )$$"
      ],
      "text/plain": [
       "(m₁, m₂, J₁, J₂, L₁, L₂, l₁, l₂, t, g)"
      ]
     },
     "execution_count": 3,
     "metadata": {},
     "output_type": "execute_result"
    }
   ],
   "source": [
    "var(\"m1 m2 J1 J2 L1 L2 l1 l2 t g\")"
   ]
  },
  {
   "cell_type": "code",
   "execution_count": 4,
   "metadata": {
    "collapsed": true
   },
   "outputs": [],
   "source": [
    "q1 = Function(\"q1\")(t)\n",
    "q2 = Function(\"q2\")(t)"
   ]
  },
  {
   "cell_type": "code",
   "execution_count": 5,
   "metadata": {
    "collapsed": false
   },
   "outputs": [
    {
     "data": {
      "image/png": "[encoded data removed]",
      "text/latex": [
       "$$l_{1}^{2} \\dot{q}_{1}^{2}$$"
      ],
      "text/plain": [
       "  2    2\n",
       "l₁ ⋅q₁̇ "
      ]
     },
     "execution_count": 5,
     "metadata": {},
     "output_type": "execute_result"
    }
   ],
   "source": [
    "x1 = l1*cos(q1)\n",
    "y1 = l1*sin(q1)\n",
    "v1 = x1.diff(\"t\")**2 + y1.diff(\"t\")**2\n",
    "v1.trigsimp()"
   ]
  },
  {
   "cell_type": "code",
   "execution_count": 6,
   "metadata": {
    "collapsed": false
   },
   "outputs": [
    {
     "data": {
      "image/png": "[encoded data removed]",
      "text/latex": [
       "$$L_{1}^{2} \\dot{q}_{1}^{2} + 2 L_{1} l_{2} \\operatorname{cos}\\left(q_{2}\\right) \\dot{q}_{1}^{2} + 2 L_{1} l_{2} \\operatorname{cos}\\left(q_{2}\\right) \\dot{q}_{1} \\dot{q}_{2} + l_{2}^{2} \\dot{q}_{1}^{2} + 2 l_{2}^{2} \\dot{q}_{1} \\dot{q}_{2} + l_{2}^{2} \\dot{q}_{2}^{2}$$"
      ],
      "text/plain": [
       "  2    2                      2                               2    2       2  \n",
       "L₁ ⋅q₁̇  + 2⋅L₁⋅l₂⋅cos(q₂)⋅q₁̇  + 2⋅L₁⋅l₂⋅cos(q₂)⋅q₁̇⋅q₂̇ + l₂ ⋅q₁̇  + 2⋅l₂ ⋅q\n",
       "\n",
       "           2    2\n",
       "₁̇⋅q₂̇ + l₂ ⋅q₂̇ "
      ]
     },
     "execution_count": 6,
     "metadata": {},
     "output_type": "execute_result"
    }
   ],
   "source": [
    "x2 = L1*cos(q1) + l2*cos(q1 + q2)\n",
    "y2 = L1*sin(q1) + l2*sin(q1 + q2)\n",
    "v2 = x2.diff(\"t\")**2 + y2.diff(\"t\")**2\n",
    "v2.trigsimp()"
   ]
  },
  {
   "cell_type": "code",
   "execution_count": 7,
   "metadata": {
    "collapsed": false
   },
   "outputs": [],
   "source": [
    "ω1 = q1.diff(\"t\")\n",
    "ω2 = q2.diff(\"t\")"
   ]
  },
  {
   "cell_type": "code",
   "execution_count": 8,
   "metadata": {
    "collapsed": false
   },
   "outputs": [
    {
     "data": {
      "image/png": "[encoded data removed]",
      "text/latex": [
       "$$\\frac{J_{1} \\dot{q}_{1}^{2}}{2} + \\frac{m_{1}}{2} \\left(l_{1}^{2} \\operatorname{sin}^{2}\\left(q_{1}\\right) \\dot{q}_{1}^{2} + l_{1}^{2} \\operatorname{cos}^{2}\\left(q_{1}\\right) \\dot{q}_{1}^{2}\\right)$$"
      ],
      "text/plain": [
       "      2      ⎛  2    2        2     2    2        2⎞\n",
       "J₁⋅q₁̇    m₁⋅⎝l₁ ⋅sin (q₁)⋅q₁̇  + l₁ ⋅cos (q₁)⋅q₁̇ ⎠\n",
       "─────── + ──────────────────────────────────────────\n",
       "   2                          2                     "
      ]
     },
     "execution_count": 8,
     "metadata": {},
     "output_type": "execute_result"
    }
   ],
   "source": [
    "K1 = Rational(1, 2)*m1*v1 + Rational(1, 2)*J1*ω1**2\n",
    "K1"
   ]
  },
  {
   "cell_type": "code",
   "execution_count": 9,
   "metadata": {
    "collapsed": false
   },
   "outputs": [
    {
     "data": {
      "image/png": "[encoded data removed]",
      "text/latex": [
       "$$\\frac{J_{2} \\dot{q}_{2}^{2}}{2} + \\frac{m_{1}}{2} \\left(\\left(- L_{1} \\operatorname{sin}\\left(q_{1}\\right) \\dot{q}_{1} - l_{2} \\left(\\dot{q}_{1} + \\dot{q}_{2}\\right) \\operatorname{sin}\\left(q_{1} + q_{2}\\right)\\right)^{2} + \\left(L_{1} \\operatorname{cos}\\left(q_{1}\\right) \\dot{q}_{1} + l_{2} \\left(\\dot{q}_{1} + \\dot{q}_{2}\\right) \\operatorname{cos}\\left(q_{1} + q_{2}\\right)\\right)^{2}\\right)$$"
      ],
      "text/plain": [
       "      2      ⎛                                               2                \n",
       "J₂⋅q₂̇    m₁⋅⎝(-L₁⋅sin(q₁)⋅q₁̇ - l₂⋅(q₁̇ + q₂̇)⋅sin(q₁ + q₂))  + (L₁⋅cos(q₁)⋅q\n",
       "─────── + ────────────────────────────────────────────────────────────────────\n",
       "   2                                                         2                \n",
       "\n",
       "                                 2⎞\n",
       "₁̇ + l₂⋅(q₁̇ + q₂̇)⋅cos(q₁ + q₂)) ⎠\n",
       "───────────────────────────────────\n",
       "                                   "
      ]
     },
     "execution_count": 9,
     "metadata": {},
     "output_type": "execute_result"
    }
   ],
   "source": [
    "K2 = Rational(1, 2)*m1*v2 + Rational(1, 2)*J2*ω2**2\n",
    "K2"
   ]
  },
  {
   "cell_type": "code",
   "execution_count": 10,
   "metadata": {
    "collapsed": false
   },
   "outputs": [
    {
     "data": {
      "image/png": "[encoded data removed]",
      "text/latex": [
       "$$g l_{1} m_{1} \\operatorname{sin}\\left(q_{1}\\right)$$"
      ],
      "text/plain": [
       "g⋅l₁⋅m₁⋅sin(q₁)"
      ]
     },
     "execution_count": 10,
     "metadata": {},
     "output_type": "execute_result"
    }
   ],
   "source": [
    "U1 = m1*g*y1\n",
    "U1"
   ]
  },
  {
   "cell_type": "code",
   "execution_count": 11,
   "metadata": {
    "collapsed": false
   },
   "outputs": [
    {
     "data": {
      "image/png": "[encoded data removed]",
      "text/latex": [
       "$$g m_{2} \\left(L_{1} \\operatorname{sin}\\left(q_{1}\\right) + l_{2} \\operatorname{sin}\\left(q_{1} + q_{2}\\right)\\right)$$"
      ],
      "text/plain": [
       "g⋅m₂⋅(L₁⋅sin(q₁) + l₂⋅sin(q₁ + q₂))"
      ]
     },
     "execution_count": 11,
     "metadata": {},
     "output_type": "execute_result"
    }
   ],
   "source": [
    "U2 = m2*g*y2\n",
    "U2"
   ]
  },
  {
   "cell_type": "code",
   "execution_count": 12,
   "metadata": {
    "collapsed": false
   },
   "outputs": [
    {
     "data": {
      "image/png": "[encoded data removed]",
      "text/latex": [
       "$$\\frac{J_{1} \\dot{q}_{1}^{2}}{2} + \\frac{J_{2} \\dot{q}_{2}^{2}}{2} + \\frac{m_{1}}{2} \\left(l_{1}^{2} \\operatorname{sin}^{2}\\left(q_{1}\\right) \\dot{q}_{1}^{2} + l_{1}^{2} \\operatorname{cos}^{2}\\left(q_{1}\\right) \\dot{q}_{1}^{2}\\right) + \\frac{m_{1}}{2} \\left(\\left(- L_{1} \\operatorname{sin}\\left(q_{1}\\right) \\dot{q}_{1} - l_{2} \\left(\\dot{q}_{1} + \\dot{q}_{2}\\right) \\operatorname{sin}\\left(q_{1} + q_{2}\\right)\\right)^{2} + \\left(L_{1} \\operatorname{cos}\\left(q_{1}\\right) \\dot{q}_{1} + l_{2} \\left(\\dot{q}_{1} + \\dot{q}_{2}\\right) \\operatorname{cos}\\left(q_{1} + q_{2}\\right)\\right)^{2}\\right)$$"
      ],
      "text/plain": [
       "      2         2      ⎛  2    2        2     2    2        2⎞      ⎛         \n",
       "J₁⋅q₁̇    J₂⋅q₂̇    m₁⋅⎝l₁ ⋅sin (q₁)⋅q₁̇  + l₁ ⋅cos (q₁)⋅q₁̇ ⎠   m₁⋅⎝(-L₁⋅sin(\n",
       "─────── + ─────── + ────────────────────────────────────────── + ─────────────\n",
       "   2         2                          2                                     \n",
       "\n",
       "                                      2                                       \n",
       "q₁)⋅q₁̇ - l₂⋅(q₁̇ + q₂̇)⋅sin(q₁ + q₂))  + (L₁⋅cos(q₁)⋅q₁̇ + l₂⋅(q₁̇ + q₂̇)⋅cos\n",
       "──────────────────────────────────────────────────────────────────────────────\n",
       "                                      2                                       \n",
       "\n",
       "          2⎞\n",
       "(q₁ + q₂)) ⎠\n",
       "────────────\n",
       "            "
      ]
     },
     "execution_count": 12,
     "metadata": {},
     "output_type": "execute_result"
    }
   ],
   "source": [
    "K = K1 + K2\n",
    "K"
   ]
  },
  {
   "cell_type": "code",
   "execution_count": 13,
   "metadata": {
    "collapsed": false
   },
   "outputs": [
    {
     "data": {
      "image/png": "[encoded data removed]",
      "text/latex": [
       "$$g l_{1} m_{1} \\operatorname{sin}\\left(q_{1}\\right) + g m_{2} \\left(L_{1} \\operatorname{sin}\\left(q_{1}\\right) + l_{2} \\operatorname{sin}\\left(q_{1} + q_{2}\\right)\\right)$$"
      ],
      "text/plain": [
       "g⋅l₁⋅m₁⋅sin(q₁) + g⋅m₂⋅(L₁⋅sin(q₁) + l₂⋅sin(q₁ + q₂))"
      ]
     },
     "execution_count": 13,
     "metadata": {},
     "output_type": "execute_result"
    }
   ],
   "source": [
    "U = U1 + U2\n",
    "U"
   ]
  },
  {
   "cell_type": "code",
   "execution_count": 14,
   "metadata": {
    "collapsed": false
   },
   "outputs": [
    {
     "data": {
      "image/png": "[encoded data removed]",
      "text/latex": [
       "$$\\frac{J_{1} \\dot{q}_{1}^{2}}{2} + \\frac{J_{2} \\dot{q}_{2}^{2}}{2} + \\frac{L_{1}^{2} m_{1}}{2} \\dot{q}_{1}^{2} - L_{1} g m_{2} \\operatorname{sin}\\left(q_{1}\\right) + L_{1} l_{2} m_{1} \\operatorname{cos}\\left(q_{2}\\right) \\dot{q}_{1}^{2} + L_{1} l_{2} m_{1} \\operatorname{cos}\\left(q_{2}\\right) \\dot{q}_{1} \\dot{q}_{2} - g l_{1} m_{1} \\operatorname{sin}\\left(q_{1}\\right) - g l_{2} m_{2} \\operatorname{sin}\\left(q_{1} + q_{2}\\right) + \\frac{l_{1}^{2} m_{1}}{2} \\dot{q}_{1}^{2} + \\frac{l_{2}^{2} m_{1}}{2} \\dot{q}_{1}^{2} + l_{2}^{2} m_{1} \\dot{q}_{1} \\dot{q}_{2} + \\frac{l_{2}^{2} m_{1}}{2} \\dot{q}_{2}^{2}$$"
      ],
      "text/plain": [
       "      2         2     2       2                                               \n",
       "J₁⋅q₁̇    J₂⋅q₂̇    L₁ ⋅m₁⋅q₁̇                                          2     \n",
       "─────── + ─────── + ─────────── - L₁⋅g⋅m₂⋅sin(q₁) + L₁⋅l₂⋅m₁⋅cos(q₂)⋅q₁̇  + L₁\n",
       "   2         2           2                                                    \n",
       "\n",
       "                                                                    2       2 \n",
       "                                                                  l₁ ⋅m₁⋅q₁̇  \n",
       "⋅l₂⋅m₁⋅cos(q₂)⋅q₁̇⋅q₂̇ - g⋅l₁⋅m₁⋅sin(q₁) - g⋅l₂⋅m₂⋅sin(q₁ + q₂) + ─────────── \n",
       "                                                                       2      \n",
       "\n",
       "    2       2                      2       2\n",
       "  l₂ ⋅m₁⋅q₁̇      2              l₂ ⋅m₁⋅q₂̇ \n",
       "+ ─────────── + l₂ ⋅m₁⋅q₁̇⋅q₂̇ + ───────────\n",
       "       2                              2     "
      ]
     },
     "execution_count": 14,
     "metadata": {},
     "output_type": "execute_result"
    }
   ],
   "source": [
    "L = (K - U).expand().simplify()\n",
    "L"
   ]
  },
  {
   "cell_type": "markdown",
   "metadata": {},
   "source": [
    "\n",
    "\n",
    "\n"
   ]
  },
  {
   "cell_type": "code",
   "execution_count": 15,
   "metadata": {
    "collapsed": false
   },
   "outputs": [
    {
     "data": {
      "image/png": "[encoded data removed]",
      "text/latex": [
       "$$\\left(L_{1} l_{2} m_{1} \\operatorname{cos}\\left(q_{2}\\right) + l_{2}^{2} m_{1}\\right) \\dot{q}_{2} + \\left(J_{1} + L_{1}^{2} m_{1} + 2 L_{1} l_{2} m_{1} \\operatorname{cos}\\left(q_{2}\\right) + l_{1}^{2} m_{1} + l_{2}^{2} m_{1}\\right) \\dot{q}_{1}$$"
      ],
      "text/plain": [
       "⎛                     2   ⎞       ⎛       2                             2     \n",
       "⎝L₁⋅l₂⋅m₁⋅cos(q₂) + l₂ ⋅m₁⎠⋅q₂̇ + ⎝J₁ + L₁ ⋅m₁ + 2⋅L₁⋅l₂⋅m₁⋅cos(q₂) + l₁ ⋅m₁ +\n",
       "\n",
       "   2   ⎞    \n",
       " l₂ ⋅m₁⎠⋅q₁̇"
      ]
     },
     "execution_count": 15,
     "metadata": {},
     "output_type": "execute_result"
    }
   ],
   "source": [
    "(L.diff(q1.diff(t))).simplify().expand().collect(q1.diff(t).diff(t)).collect(q2.diff(t).diff(t))"
   ]
  },
  {
   "cell_type": "code",
   "execution_count": 16,
   "metadata": {
    "collapsed": false
   },
   "outputs": [
    {
     "data": {
      "image/png": "[encoded data removed]",
      "text/latex": [
       "$$- 2 L_{1} l_{2} m_{1} \\operatorname{sin}\\left(q_{2}\\right) \\dot{q}_{1} \\dot{q}_{2} - L_{1} l_{2} m_{1} \\operatorname{sin}\\left(q_{2}\\right) \\dot{q}_{2}^{2} + \\left(L_{1} l_{2} m_{1} \\operatorname{cos}\\left(q_{2}\\right) + l_{2}^{2} m_{1}\\right) \\ddot{q}_{2} + \\left(J_{1} + L_{1}^{2} m_{1} + 2 L_{1} l_{2} m_{1} \\operatorname{cos}\\left(q_{2}\\right) + l_{1}^{2} m_{1} + l_{2}^{2} m_{1}\\right) \\ddot{q}_{1}$$"
      ],
      "text/plain": [
       "                                                  2   ⎛                     2 \n",
       "-2⋅L₁⋅l₂⋅m₁⋅sin(q₂)⋅q₁̇⋅q₂̇ - L₁⋅l₂⋅m₁⋅sin(q₂)⋅q₂̇  + ⎝L₁⋅l₂⋅m₁⋅cos(q₂) + l₂ ⋅\n",
       "\n",
       "  ⎞       ⎛       2                             2        2   ⎞    \n",
       "m₁⎠⋅q₂̈ + ⎝J₁ + L₁ ⋅m₁ + 2⋅L₁⋅l₂⋅m₁⋅cos(q₂) + l₁ ⋅m₁ + l₂ ⋅m₁⎠⋅q₁̈"
      ]
     },
     "execution_count": 16,
     "metadata": {},
     "output_type": "execute_result"
    }
   ],
   "source": [
    "(L.diff(q1.diff(t)).diff(t)).simplify().expand().collect(q1.diff(t).diff(t)).collect(q2.diff(t).diff(t))"
   ]
  },
  {
   "cell_type": "code",
   "execution_count": 17,
   "metadata": {
    "collapsed": false
   },
   "outputs": [
    {
     "data": {
      "image/png": "[encoded data removed]",
      "text/latex": [
       "$$- L_{1} g m_{2} \\operatorname{cos}\\left(q_{1}\\right) - g l_{1} m_{1} \\operatorname{cos}\\left(q_{1}\\right) - g l_{2} m_{2} \\operatorname{cos}\\left(q_{1} + q_{2}\\right)$$"
      ],
      "text/plain": [
       "-L₁⋅g⋅m₂⋅cos(q₁) - g⋅l₁⋅m₁⋅cos(q₁) - g⋅l₂⋅m₂⋅cos(q₁ + q₂)"
      ]
     },
     "execution_count": 17,
     "metadata": {},
     "output_type": "execute_result"
    }
   ],
   "source": [
    "(L.diff(q1)).simplify().expand().collect(q1.diff(t).diff(t)).collect(q2.diff(t).diff(t))"
   ]
  },
  {
   "cell_type": "markdown",
   "metadata": {},
   "source": [
    "\n",
    "\n",
    "\n"
   ]
  },
  {
   "cell_type": "code",
   "execution_count": 18,
   "metadata": {
    "collapsed": false
   },
   "outputs": [
    {
     "data": {
      "image/png": "[encoded data removed]",
      "text/latex": [
       "$$\\left(J_{2} + l_{2}^{2} m_{1}\\right) \\dot{q}_{2} + \\left(L_{1} l_{2} m_{1} \\operatorname{cos}\\left(q_{2}\\right) + l_{2}^{2} m_{1}\\right) \\dot{q}_{1}$$"
      ],
      "text/plain": [
       "⎛       2   ⎞       ⎛                     2   ⎞    \n",
       "⎝J₂ + l₂ ⋅m₁⎠⋅q₂̇ + ⎝L₁⋅l₂⋅m₁⋅cos(q₂) + l₂ ⋅m₁⎠⋅q₁̇"
      ]
     },
     "execution_count": 18,
     "metadata": {},
     "output_type": "execute_result"
    }
   ],
   "source": [
    "(L.diff(q2.diff(t))).simplify().expand().collect(q1.diff(t).diff(t)).collect(q2.diff(t).diff(t))"
   ]
  },
  {
   "cell_type": "code",
   "execution_count": 19,
   "metadata": {
    "collapsed": false
   },
   "outputs": [
    {
     "data": {
      "image/png": "[encoded data removed]",
      "text/latex": [
       "$$- L_{1} l_{2} m_{1} \\operatorname{sin}\\left(q_{2}\\right) \\dot{q}_{1} \\dot{q}_{2} + \\left(J_{2} + l_{2}^{2} m_{1}\\right) \\ddot{q}_{2} + \\left(L_{1} l_{2} m_{1} \\operatorname{cos}\\left(q_{2}\\right) + l_{2}^{2} m_{1}\\right) \\ddot{q}_{1}$$"
      ],
      "text/plain": [
       "                            ⎛       2   ⎞       ⎛                     2   ⎞   \n",
       "-L₁⋅l₂⋅m₁⋅sin(q₂)⋅q₁̇⋅q₂̇ + ⎝J₂ + l₂ ⋅m₁⎠⋅q₂̈ + ⎝L₁⋅l₂⋅m₁⋅cos(q₂) + l₂ ⋅m₁⎠⋅q₁\n",
       "\n",
       " \n",
       "̈"
      ]
     },
     "execution_count": 19,
     "metadata": {},
     "output_type": "execute_result"
    }
   ],
   "source": [
    "(L.diff(q2.diff(t)).diff(t)).simplify().expand().collect(q1.diff(t).diff(t)).collect(q2.diff(t).diff(t))"
   ]
  },
  {
   "cell_type": "code",
   "execution_count": 20,
   "metadata": {
    "collapsed": false
   },
   "outputs": [
    {
     "data": {
      "image/png": "[encoded data removed]",
      "text/latex": [
       "$$- L_{1} l_{2} m_{1} \\operatorname{sin}\\left(q_{2}\\right) \\dot{q}_{1}^{2} - L_{1} l_{2} m_{1} \\operatorname{sin}\\left(q_{2}\\right) \\dot{q}_{1} \\dot{q}_{2} - g l_{2} m_{2} \\operatorname{cos}\\left(q_{1} + q_{2}\\right)$$"
      ],
      "text/plain": [
       "                      2                                                  \n",
       "- L₁⋅l₂⋅m₁⋅sin(q₂)⋅q₁̇  - L₁⋅l₂⋅m₁⋅sin(q₂)⋅q₁̇⋅q₂̇ - g⋅l₂⋅m₂⋅cos(q₁ + q₂)"
      ]
     },
     "execution_count": 20,
     "metadata": {},
     "output_type": "execute_result"
    }
   ],
   "source": [
    "(L.diff(q2)).simplify().expand().collect(q1.diff(t).diff(t)).collect(q2.diff(t).diff(t))"
   ]
  },
  {
   "cell_type": "markdown",
   "metadata": {},
   "source": [
    "\n",
    "\n",
    "\n"
   ]
  },
  {
   "cell_type": "code",
   "execution_count": 21,
   "metadata": {
    "collapsed": true
   },
   "outputs": [],
   "source": [
    "τ1 = (L.diff(q1.diff(t)).diff(t) - L.diff(q1)).simplify().expand().collect(q1.diff(t).diff(t)).collect(q2.diff(t).diff(t))"
   ]
  },
  {
   "cell_type": "code",
   "execution_count": 22,
   "metadata": {
    "collapsed": true
   },
   "outputs": [],
   "source": [
    "τ2 = (L.diff(q2.diff(t)).diff(t) - L.diff(q2)).simplify().expand().collect(q1.diff(t).diff(t)).collect(q2.diff(t).diff(t))"
   ]
  },
  {
   "cell_type": "code",
   "execution_count": 23,
   "metadata": {
    "collapsed": false
   },
   "outputs": [
    {
     "data": {
      "image/png": "[encoded data removed]",
      "text/latex": [
       "$$L_{1} g m_{2} \\operatorname{cos}\\left(q_{1}\\right) - 2 L_{1} l_{2} m_{1} \\operatorname{sin}\\left(q_{2}\\right) \\dot{q}_{1} \\dot{q}_{2} - L_{1} l_{2} m_{1} \\operatorname{sin}\\left(q_{2}\\right) \\dot{q}_{2}^{2} + g l_{1} m_{1} \\operatorname{cos}\\left(q_{1}\\right) + g l_{2} m_{2} \\operatorname{cos}\\left(q_{1} + q_{2}\\right) + \\left(L_{1} l_{2} m_{1} \\operatorname{cos}\\left(q_{2}\\right) + l_{2}^{2} m_{1}\\right) \\ddot{q}_{2} + \\left(J_{1} + L_{1}^{2} m_{1} + 2 L_{1} l_{2} m_{1} \\operatorname{cos}\\left(q_{2}\\right) + l_{1}^{2} m_{1} + l_{2}^{2} m_{1}\\right) \\ddot{q}_{1}$$"
      ],
      "text/plain": [
       "                                                                   2          \n",
       "L₁⋅g⋅m₂⋅cos(q₁) - 2⋅L₁⋅l₂⋅m₁⋅sin(q₂)⋅q₁̇⋅q₂̇ - L₁⋅l₂⋅m₁⋅sin(q₂)⋅q₂̇  + g⋅l₁⋅m₁\n",
       "\n",
       "                                  ⎛                     2   ⎞       ⎛       2 \n",
       "⋅cos(q₁) + g⋅l₂⋅m₂⋅cos(q₁ + q₂) + ⎝L₁⋅l₂⋅m₁⋅cos(q₂) + l₂ ⋅m₁⎠⋅q₂̈ + ⎝J₁ + L₁ ⋅\n",
       "\n",
       "                            2        2   ⎞    \n",
       "m₁ + 2⋅L₁⋅l₂⋅m₁⋅cos(q₂) + l₁ ⋅m₁ + l₂ ⋅m₁⎠⋅q₁̈"
      ]
     },
     "execution_count": 23,
     "metadata": {},
     "output_type": "execute_result"
    }
   ],
   "source": [
    "τ1"
   ]
  },
  {
   "cell_type": "code",
   "execution_count": 24,
   "metadata": {
    "collapsed": false
   },
   "outputs": [
    {
     "data": {
      "image/png": "[encoded data removed]",
      "text/latex": [
       "$$L_{1} l_{2} m_{1} \\operatorname{sin}\\left(q_{2}\\right) \\dot{q}_{1}^{2} + g l_{2} m_{2} \\operatorname{cos}\\left(q_{1} + q_{2}\\right) + \\left(J_{2} + l_{2}^{2} m_{1}\\right) \\ddot{q}_{2} + \\left(L_{1} l_{2} m_{1} \\operatorname{cos}\\left(q_{2}\\right) + l_{2}^{2} m_{1}\\right) \\ddot{q}_{1}$$"
      ],
      "text/plain": [
       "                    2                          ⎛       2   ⎞       ⎛          \n",
       "L₁⋅l₂⋅m₁⋅sin(q₂)⋅q₁̇  + g⋅l₂⋅m₂⋅cos(q₁ + q₂) + ⎝J₂ + l₂ ⋅m₁⎠⋅q₂̈ + ⎝L₁⋅l₂⋅m₁⋅c\n",
       "\n",
       "           2   ⎞    \n",
       "os(q₂) + l₂ ⋅m₁⎠⋅q₁̈"
      ]
     },
     "execution_count": 24,
     "metadata": {},
     "output_type": "execute_result"
    }
   ],
   "source": [
    "τ2"
   ]
  },
  {
   "cell_type": "code",
   "execution_count": 25,
   "metadata": {
    "collapsed": true
   },
   "outputs": [],
   "source": [
    "from scipy.integrate import odeint\n",
    "from numpy import linspace"
   ]
  },
  {
   "cell_type": "code",
   "execution_count": 27,
   "metadata": {
    "collapsed": true
   },
   "outputs": [],
   "source": [
    "def pendulo_doble(estado, tiempo):\n",
    "    # Se importan funciones necesarias\n",
    "    from numpy import sin, cos, matrix\n",
    "    # Se desenvuelven variables del estado y tiempo\n",
    "    q1, q2, q̇1, q̇2 = estado\n",
    "    t = tiempo\n",
    "    \n",
    "    # Se declaran constantes del sistema\n",
    "    m1, m2 = 1, 1\n",
    "    l1, l2 = 0.5, 0.5\n",
    "    L1, L2 = 1, 1\n",
    "    g = 9.81\n",
    "    \n",
    "    # Se declaran constantes del control\n",
    "    kp1, kp2 = -30, -60\n",
    "    kv1, kv2 = -20, -20\n",
    "    \n",
    "    # Señales de control nulas\n",
    "    tau1, tau2 = 0, 0\n",
    "    \n",
    "    # Posiciones a alcanzar\n",
    "    qd1, qd2 = 1, 1\n",
    "    \n",
    "    # Se declaran señales de control del sistema\n",
    "    #tau1 = kp1*(q1 - qd1) + kv1*q̇1\n",
    "    #tau2 = kp2*(q2 - qd2) + kv2*q̇2\n",
    "    \n",
    "    # Se calculan algunos terminos comunes\n",
    "    ϕ1 = m1*l1**2\n",
    "    ϕ2 = m1*l1*l2\n",
    "    ϕ3 = m1*l2**2\n",
    "    \n",
    "    # Se calculan las matrices de masas, Coriolis,\n",
    "    # y vectores de gravedad, control, posicion y velocidad\n",
    "    M = matrix([[2*ϕ1 + 2*ϕ2*cos(q2) + ϕ3, ϕ2*cos(q2) + ϕ3],\n",
    "                [ϕ2*cos(q2) + ϕ3, ϕ3]])\n",
    "    C = matrix([[-2*ϕ2*sin(q2)*q̇2, -ϕ2*sin(q2)*q̇2], [ϕ2*sin(q2)*q̇1, 0]])\n",
    "    G = matrix([[m1*l1*cos(q1) + m2*l1*cos(q1) + m2*l2*cos(q1 + q2)], [m2*l2*cos(q1 + q2)]])\n",
    "    Tau = matrix([[tau1], [tau2]])\n",
    "    q = matrix([[q1], [q2]])\n",
    "    q̇ = matrix([[q̇1], [q̇2]])\n",
    "    \n",
    "    # Se calcula la derivada del estado del sistema\n",
    "    qp1 = q̇1\n",
    "    qp2 = q̇2\n",
    "    \n",
    "    qpp = M.I*(Tau - C*q̇ - G)\n",
    "    qpp1, qpp2 = qpp.tolist()\n",
    "    \n",
    "    return [qp1, qp2, qpp1[0], qpp2[0]]"
   ]
  },
  {
   "cell_type": "code",
   "execution_count": 28,
   "metadata": {
    "collapsed": false
   },
   "outputs": [],
   "source": [
    "t = linspace(0, 10, 1000)\n",
    "estados_simulados = odeint(func = pendulo_doble, y0  = [0, 0, 0, 0], t = t)"
   ]
  },
  {
   "cell_type": "code",
   "execution_count": 29,
   "metadata": {
    "collapsed": true
   },
   "outputs": [],
   "source": [
    "q1, q2, q̇1, q̇2 = list(zip(*estados_simulados.tolist()))"
   ]
  },
  {
   "cell_type": "code",
   "execution_count": 30,
   "metadata": {
    "collapsed": true
   },
   "outputs": [],
   "source": [
    "%matplotlib notebook\n",
    "from matplotlib.pyplot import plot, style, figure\n",
    "from mpl_toolkits.mplot3d import Axes3D\n",
    "style.use(\"ggplot\")"
   ]
  },
  {
   "cell_type": "code",
   "execution_count": 31,
   "metadata": {
    "collapsed": false
   },
   "outputs": [
    {
     "data": {
      "application/javascript": [
       "/* Put everything inside the global mpl namespace */\n",
       "window.mpl = {};\n",
       "\n",
       "mpl.get_websocket_type = function() {\n",
       "    if (typeof(WebSocket) !== 'undefined') {\n",
       "        return WebSocket;\n",
       "    } else if (typeof(MozWebSocket) !== 'undefined') {\n",
       "        return MozWebSocket;\n",
       "    } else {\n",
       "        alert('Your browser does not have WebSocket support.' +\n",
       "              'Please try Chrome, Safari or Firefox ≥ 6. ' +\n",
       "              'Firefox 4 and 5 are also supported but you ' +\n",
       "              'have to enable WebSockets in about:config.');\n",
       "    };\n",
       "}\n",
       "\n",
       "mpl.figure = function(figure_id, websocket, ondownload, parent_element) {\n",
       "    this.id = figure_id;\n",
       "\n",
       "    this.ws = websocket;\n",
       "\n",
       "    this.supports_binary = (this.ws.binaryType != undefined);\n",
       "\n",
       "    if (!this.supports_binary) {\n",
       "        var warnings = document.getElementById(\"mpl-warnings\");\n",
       "        if (warnings) {\n",
       "            warnings.style.display = 'block';\n",
       "            warnings.textContent = (\n",
       "                \"This browser does not support binary websocket messages. \" +\n",
       "                    \"Performance may be slow.\");\n",
       "        }\n",
       "    }\n",
       "\n",
       "    this.imageObj = new Image();\n",
       "\n",
       "    this.context = undefined;\n",
       "    this.message = undefined;\n",
       "    this.canvas = undefined;\n",
       "    this.rubberband_canvas = undefined;\n",
       "    this.rubberband_context = undefined;\n",
       "    this.format_dropdown = undefined;\n",
       "\n",
       "    this.image_mode = 'full';\n",
       "\n",
       "    this.root = $('<div/>');\n",
       "    this._root_extra_style(this.root)\n",
       "    this.root.attr('style', 'display: inline-block');\n",
       "\n",
       "    $(parent_element).append(this.root);\n",
       "\n",
       "    this._init_header(this);\n",
       "    this._init_canvas(this);\n",
       "    this._init_toolbar(this);\n",
       "\n",
       "    var fig = this;\n",
       "\n",
       "    this.waiting = false;\n",
       "\n",
       "    this.ws.onopen =  function () {\n",
       "            fig.send_message(\"supports_binary\", {value: fig.supports_binary});\n",
       "            fig.send_message(\"send_image_mode\", {});\n",
       "            fig.send_message(\"refresh\", {});\n",
       "        }\n",
       "\n",
       "    this.imageObj.onload = function() {\n",
       "            if (fig.image_mode == 'full') {\n",
       "                // Full images could contain transparency (where diff images\n",
       "                // almost always do), so we need to clear the canvas so that\n",
       "                // there is no ghosting.\n",
       "                fig.context.clearRect(0, 0, fig.canvas.width, fig.canvas.height);\n",
       "            }\n",
       "            fig.context.drawImage(fig.imageObj, 0, 0);\n",
       "        };\n",
       "\n",
       "    this.imageObj.onunload = function() {\n",
       "        this.ws.close();\n",
       "    }\n",
       "\n",
       "    this.ws.onmessage = this._make_on_message_function(this);\n",
       "\n",
       "    this.ondownload = ondownload;\n",
       "}\n",
       "\n",
       "mpl.figure.prototype._init_header = function() {\n",
       "    var titlebar = $(\n",
       "        '<div class=\"ui-dialog-titlebar ui-widget-header ui-corner-all ' +\n",
       "        'ui-helper-clearfix\"/>');\n",
       "    var titletext = $(\n",
       "        '<div class=\"ui-dialog-title\" style=\"width: 100%; ' +\n",
       "        'text-align: center; padding: 3px;\"/>');\n",
       "    titlebar.append(titletext)\n",
       "    this.root.append(titlebar);\n",
       "    this.header = titletext[0];\n",
       "}\n",
       "\n",
       "\n",
       "\n",
       "mpl.figure.prototype._canvas_extra_style = function(canvas_div) {\n",
       "\n",
       "}\n",
       "\n",
       "\n",
       "mpl.figure.prototype._root_extra_style = function(canvas_div) {\n",
       "\n",
       "}\n",
       "\n",
       "mpl.figure.prototype._init_canvas = function() {\n",
       "    var fig = this;\n",
       "\n",
       "    var canvas_div = $('<div/>');\n",
       "\n",
       "    canvas_div.attr('style', 'position: relative; clear: both; outline: 0');\n",
       "\n",
       "    function canvas_keyboard_event(event) {\n",
       "        return fig.key_event(event, event['data']);\n",
       "    }\n",
       "\n",
       "    canvas_div.keydown('key_press', canvas_keyboard_event);\n",
       "    canvas_div.keyup('key_release', canvas_keyboard_event);\n",
       "    this.canvas_div = canvas_div\n",
       "    this._canvas_extra_style(canvas_div)\n",
       "    this.root.append(canvas_div);\n",
       "\n",
       "    var canvas = $('<canvas/>');\n",
       "    canvas.addClass('mpl-canvas');\n",
       "    canvas.attr('style', \"left: 0; top: 0; z-index: 0; outline: 0\")\n",
       "\n",
       "    this.canvas = canvas[0];\n",
       "    this.context = canvas[0].getContext(\"2d\");\n",
       "\n",
       "    var rubberband = $('<canvas/>');\n",
       "    rubberband.attr('style', \"position: absolute; left: 0; top: 0; z-index: 1;\")\n",
       "\n",
       "    var pass_mouse_events = true;\n",
       "\n",
       "    canvas_div.resizable({\n",
       "        start: function(event, ui) {\n",
       "            pass_mouse_events = false;\n",
       "        },\n",
       "        resize: function(event, ui) {\n",
       "            fig.request_resize(ui.size.width, ui.size.height);\n",
       "        },\n",
       "        stop: function(event, ui) {\n",
       "            pass_mouse_events = true;\n",
       "            fig.request_resize(ui.size.width, ui.size.height);\n",
       "        },\n",
       "    });\n",
       "\n",
       "    function mouse_event_fn(event) {\n",
       "        if (pass_mouse_events)\n",
       "            return fig.mouse_event(event, event['data']);\n",
       "    }\n",
       "\n",
       "    rubberband.mousedown('button_press', mouse_event_fn);\n",
       "    rubberband.mouseup('button_release', mouse_event_fn);\n",
       "    // Throttle sequential mouse events to 1 every 20ms.\n",
       "    rubberband.mousemove('motion_notify', mouse_event_fn);\n",
       "\n",
       "    rubberband.mouseenter('figure_enter', mouse_event_fn);\n",
       "    rubberband.mouseleave('figure_leave', mouse_event_fn);\n",
       "\n",
       "    canvas_div.on(\"wheel\", function (event) {\n",
       "        event = event.originalEvent;\n",
       "        event['data'] = 'scroll'\n",
       "        if (event.deltaY < 0) {\n",
       "            event.step = 1;\n",
       "        } else {\n",
       "            event.step = -1;\n",
       "        }\n",
       "        mouse_event_fn(event);\n",
       "    });\n",
       "\n",
       "    canvas_div.append(canvas);\n",
       "    canvas_div.append(rubberband);\n",
       "\n",
       "    this.rubberband = rubberband;\n",
       "    this.rubberband_canvas = rubberband[0];\n",
       "    this.rubberband_context = rubberband[0].getContext(\"2d\");\n",
       "    this.rubberband_context.strokeStyle = \"#000000\";\n",
       "\n",
       "    this._resize_canvas = function(width, height) {\n",
       "        // Keep the size of the canvas, canvas container, and rubber band\n",
       "        // canvas in synch.\n",
       "        canvas_div.css('width', width)\n",
       "        canvas_div.css('height', height)\n",
       "\n",
       "        canvas.attr('width', width);\n",
       "        canvas.attr('height', height);\n",
       "\n",
       "        rubberband.attr('width', width);\n",
       "        rubberband.attr('height', height);\n",
       "    }\n",
       "\n",
       "    // Set the figure to an initial 600x600px, this will subsequently be updated\n",
       "    // upon first draw.\n",
       "    this._resize_canvas(600, 600);\n",
       "\n",
       "    // Disable right mouse context menu.\n",
       "    $(this.rubberband_canvas).bind(\"contextmenu\",function(e){\n",
       "        return false;\n",
       "    });\n",
       "\n",
       "    function set_focus () {\n",
       "        canvas.focus();\n",
       "        canvas_div.focus();\n",
       "    }\n",
       "\n",
       "    window.setTimeout(set_focus, 100);\n",
       "}\n",
       "\n",
       "mpl.figure.prototype._init_toolbar = function() {\n",
       "    var fig = this;\n",
       "\n",
       "    var nav_element = $('<div/>')\n",
       "    nav_element.attr('style', 'width: 100%');\n",
       "    this.root.append(nav_element);\n",
       "\n",
       "    // Define a callback function for later on.\n",
       "    function toolbar_event(event) {\n",
       "        return fig.toolbar_button_onclick(event['data']);\n",
       "    }\n",
       "    function toolbar_mouse_event(event) {\n",
       "        return fig.toolbar_button_onmouseover(event['data']);\n",
       "    }\n",
       "\n",
       "    for(var toolbar_ind in mpl.toolbar_items) {\n",
       "        var name = mpl.toolbar_items[toolbar_ind][0];\n",
       "        var tooltip = mpl.toolbar_items[toolbar_ind][1];\n",
       "        var image = mpl.toolbar_items[toolbar_ind][2];\n",
       "        var method_name = mpl.toolbar_items[toolbar_ind][3];\n",
       "\n",
       "        if (!name) {\n",
       "            // put a spacer in here.\n",
       "            continue;\n",
       "        }\n",
       "        var button = $('<button/>');\n",
       "        button.addClass('ui-button ui-widget ui-state-default ui-corner-all ' +\n",
       "                        'ui-button-icon-only');\n",
       "        button.attr('role', 'button');\n",
       "        button.attr('aria-disabled', 'false');\n",
       "        button.click(method_name, toolbar_event);\n",
       "        button.mouseover(tooltip, toolbar_mouse_event);\n",
       "\n",
       "        var icon_img = $('<span/>');\n",
       "        icon_img.addClass('ui-button-icon-primary ui-icon');\n",
       "        icon_img.addClass(image);\n",
       "        icon_img.addClass('ui-corner-all');\n",
       "\n",
       "        var tooltip_span = $('<span/>');\n",
       "        tooltip_span.addClass('ui-button-text');\n",
       "        tooltip_span.html(tooltip);\n",
       "\n",
       "        button.append(icon_img);\n",
       "        button.append(tooltip_span);\n",
       "\n",
       "        nav_element.append(button);\n",
       "    }\n",
       "\n",
       "    var fmt_picker_span = $('<span/>');\n",
       "\n",
       "    var fmt_picker = $('<select/>');\n",
       "    fmt_picker.addClass('mpl-toolbar-option ui-widget ui-widget-content');\n",
       "    fmt_picker_span.append(fmt_picker);\n",
       "    nav_element.append(fmt_picker_span);\n",
       "    this.format_dropdown = fmt_picker[0];\n",
       "\n",
       "    for (var ind in mpl.extensions) {\n",
       "        var fmt = mpl.extensions[ind];\n",
       "        var option = $(\n",
       "            '<option/>', {selected: fmt === mpl.default_extension}).html(fmt);\n",
       "        fmt_picker.append(option)\n",
       "    }\n",
       "\n",
       "    // Add hover states to the ui-buttons\n",
       "    $( \".ui-button\" ).hover(\n",
       "        function() { $(this).addClass(\"ui-state-hover\");},\n",
       "        function() { $(this).removeClass(\"ui-state-hover\");}\n",
       "    );\n",
       "\n",
       "    var status_bar = $('<span class=\"mpl-message\"/>');\n",
       "    nav_element.append(status_bar);\n",
       "    this.message = status_bar[0];\n",
       "}\n",
       "\n",
       "mpl.figure.prototype.request_resize = function(x_pixels, y_pixels) {\n",
       "    // Request matplotlib to resize the figure. Matplotlib will then trigger a resize in the client,\n",
       "    // which will in turn request a refresh of the image.\n",
       "    this.send_message('resize', {'width': x_pixels, 'height': y_pixels});\n",
       "}\n",
       "\n",
       "mpl.figure.prototype.send_message = function(type, properties) {\n",
       "    properties['type'] = type;\n",
       "    properties['figure_id'] = this.id;\n",
       "    this.ws.send(JSON.stringify(properties));\n",
       "}\n",
       "\n",
       "mpl.figure.prototype.send_draw_message = function() {\n",
       "    if (!this.waiting) {\n",
       "        this.waiting = true;\n",
       "        this.ws.send(JSON.stringify({type: \"draw\", figure_id: this.id}));\n",
       "    }\n",
       "}\n",
       "\n",
       "\n",
       "mpl.figure.prototype.handle_save = function(fig, msg) {\n",
       "    var format_dropdown = fig.format_dropdown;\n",
       "    var format = format_dropdown.options[format_dropdown.selectedIndex].value;\n",
       "    fig.ondownload(fig, format);\n",
       "}\n",
       "\n",
       "\n",
       "mpl.figure.prototype.handle_resize = function(fig, msg) {\n",
       "    var size = msg['size'];\n",
       "    if (size[0] != fig.canvas.width || size[1] != fig.canvas.height) {\n",
       "        fig._resize_canvas(size[0], size[1]);\n",
       "        fig.send_message(\"refresh\", {});\n",
       "    };\n",
       "}\n",
       "\n",
       "mpl.figure.prototype.handle_rubberband = function(fig, msg) {\n",
       "    var x0 = msg['x0'];\n",
       "    var y0 = fig.canvas.height - msg['y0'];\n",
       "    var x1 = msg['x1'];\n",
       "    var y1 = fig.canvas.height - msg['y1'];\n",
       "    x0 = Math.floor(x0) + 0.5;\n",
       "    y0 = Math.floor(y0) + 0.5;\n",
       "    x1 = Math.floor(x1) + 0.5;\n",
       "    y1 = Math.floor(y1) + 0.5;\n",
       "    var min_x = Math.min(x0, x1);\n",
       "    var min_y = Math.min(y0, y1);\n",
       "    var width = Math.abs(x1 - x0);\n",
       "    var height = Math.abs(y1 - y0);\n",
       "\n",
       "    fig.rubberband_context.clearRect(\n",
       "        0, 0, fig.canvas.width, fig.canvas.height);\n",
       "\n",
       "    fig.rubberband_context.strokeRect(min_x, min_y, width, height);\n",
       "}\n",
       "\n",
       "mpl.figure.prototype.handle_figure_label = function(fig, msg) {\n",
       "    // Updates the figure title.\n",
       "    fig.header.textContent = msg['label'];\n",
       "}\n",
       "\n",
       "mpl.figure.prototype.handle_cursor = function(fig, msg) {\n",
       "    var cursor = msg['cursor'];\n",
       "    switch(cursor)\n",
       "    {\n",
       "    case 0:\n",
       "        cursor = 'pointer';\n",
       "        break;\n",
       "    case 1:\n",
       "        cursor = 'default';\n",
       "        break;\n",
       "    case 2:\n",
       "        cursor = 'crosshair';\n",
       "        break;\n",
       "    case 3:\n",
       "        cursor = 'move';\n",
       "        break;\n",
       "    }\n",
       "    fig.rubberband_canvas.style.cursor = cursor;\n",
       "}\n",
       "\n",
       "mpl.figure.prototype.handle_message = function(fig, msg) {\n",
       "    fig.message.textContent = msg['message'];\n",
       "}\n",
       "\n",
       "mpl.figure.prototype.handle_draw = function(fig, msg) {\n",
       "    // Request the server to send over a new figure.\n",
       "    fig.send_draw_message();\n",
       "}\n",
       "\n",
       "mpl.figure.prototype.handle_image_mode = function(fig, msg) {\n",
       "    fig.image_mode = msg['mode'];\n",
       "}\n",
       "\n",
       "mpl.figure.prototype.updated_canvas_event = function() {\n",
       "    // Called whenever the canvas gets updated.\n",
       "    this.send_message(\"ack\", {});\n",
       "}\n",
       "\n",
       "// A function to construct a web socket function for onmessage handling.\n",
       "// Called in the figure constructor.\n",
       "mpl.figure.prototype._make_on_message_function = function(fig) {\n",
       "    return function socket_on_message(evt) {\n",
       "        if (evt.data instanceof Blob) {\n",
       "            /* FIXME: We get \"Resource interpreted as Image but\n",
       "             * transferred with MIME type text/plain:\" errors on\n",
       "             * Chrome.  But how to set the MIME type?  It doesn't seem\n",
       "             * to be part of the websocket stream */\n",
       "            evt.data.type = \"image/png\";\n",
       "\n",
       "            /* Free the memory for the previous frames */\n",
       "            if (fig.imageObj.src) {\n",
       "                (window.URL || window.webkitURL).revokeObjectURL(\n",
       "                    fig.imageObj.src);\n",
       "            }\n",
       "\n",
       "            fig.imageObj.src = (window.URL || window.webkitURL).createObjectURL(\n",
       "                evt.data);\n",
       "            fig.updated_canvas_event();\n",
       "            fig.waiting = false;\n",
       "            return;\n",
       "        }\n",
       "        else if (typeof evt.data === 'string' && evt.data.slice(0, 21) == \"data:image/png;base64\") {\n",
       "            fig.imageObj.src = evt.data;\n",
       "            fig.updated_canvas_event();\n",
       "            fig.waiting = false;\n",
       "            return;\n",
       "        }\n",
       "\n",
       "        var msg = JSON.parse(evt.data);\n",
       "        var msg_type = msg['type'];\n",
       "\n",
       "        // Call the  \"handle_{type}\" callback, which takes\n",
       "        // the figure and JSON message as its only arguments.\n",
       "        try {\n",
       "            var callback = fig[\"handle_\" + msg_type];\n",
       "        } catch (e) {\n",
       "            console.log(\"No handler for the '\" + msg_type + \"' message type: \", msg);\n",
       "            return;\n",
       "        }\n",
       "\n",
       "        if (callback) {\n",
       "            try {\n",
       "                // console.log(\"Handling '\" + msg_type + \"' message: \", msg);\n",
       "                callback(fig, msg);\n",
       "            } catch (e) {\n",
       "                console.log(\"Exception inside the 'handler_\" + msg_type + \"' callback:\", e, e.stack, msg);\n",
       "            }\n",
       "        }\n",
       "    };\n",
       "}\n",
       "\n",
       "// from http://stackoverflow.com/questions/1114465/getting-mouse-location-in-canvas\n",
       "mpl.findpos = function(e) {\n",
       "    //this section is from http://www.quirksmode.org/js/events_properties.html\n",
       "    var targ;\n",
       "    if (!e)\n",
       "        e = window.event;\n",
       "    if (e.target)\n",
       "        targ = e.target;\n",
       "    else if (e.srcElement)\n",
       "        targ = e.srcElement;\n",
       "    if (targ.nodeType == 3) // defeat Safari bug\n",
       "        targ = targ.parentNode;\n",
       "\n",
       "    // jQuery normalizes the pageX and pageY\n",
       "    // pageX,Y are the mouse positions relative to the document\n",
       "    // offset() returns the position of the element relative to the document\n",
       "    var x = e.pageX - $(targ).offset().left;\n",
       "    var y = e.pageY - $(targ).offset().top;\n",
       "\n",
       "    return {\"x\": x, \"y\": y};\n",
       "};\n",
       "\n",
       "/*\n",
       " * return a copy of an object with only non-object keys\n",
       " * we need this to avoid circular references\n",
       " * http://stackoverflow.com/a/24161582/3208463\n",
       " */\n",
       "function simpleKeys (original) {\n",
       "  return Object.keys(original).reduce(function (obj, key) {\n",
       "    if (typeof original[key] !== 'object')\n",
       "        obj[key] = original[key]\n",
       "    return obj;\n",
       "  }, {});\n",
       "}\n",
       "\n",
       "mpl.figure.prototype.mouse_event = function(event, name) {\n",
       "    var canvas_pos = mpl.findpos(event)\n",
       "\n",
       "    if (name === 'button_press')\n",
       "    {\n",
       "        this.canvas.focus();\n",
       "        this.canvas_div.focus();\n",
       "    }\n",
       "\n",
       "    var x = canvas_pos.x;\n",
       "    var y = canvas_pos.y;\n",
       "\n",
       "    this.send_message(name, {x: x, y: y, button: event.button,\n",
       "                             step: event.step,\n",
       "                             guiEvent: simpleKeys(event)});\n",
       "\n",
       "    /* This prevents the web browser from automatically changing to\n",
       "     * the text insertion cursor when the button is pressed.  We want\n",
       "     * to control all of the cursor setting manually through the\n",
       "     * 'cursor' event from matplotlib */\n",
       "    event.preventDefault();\n",
       "    return false;\n",
       "}\n",
       "\n",
       "mpl.figure.prototype._key_event_extra = function(event, name) {\n",
       "    // Handle any extra behaviour associated with a key event\n",
       "}\n",
       "\n",
       "mpl.figure.prototype.key_event = function(event, name) {\n",
       "\n",
       "    // Prevent repeat events\n",
       "    if (name == 'key_press')\n",
       "    {\n",
       "        if (event.which === this._key)\n",
       "            return;\n",
       "        else\n",
       "            this._key = event.which;\n",
       "    }\n",
       "    if (name == 'key_release')\n",
       "        this._key = null;\n",
       "\n",
       "    var value = '';\n",
       "    if (event.ctrlKey && event.which != 17)\n",
       "        value += \"ctrl+\";\n",
       "    if (event.altKey && event.which != 18)\n",
       "        value += \"alt+\";\n",
       "    if (event.shiftKey && event.which != 16)\n",
       "        value += \"shift+\";\n",
       "\n",
       "    value += 'k';\n",
       "    value += event.which.toString();\n",
       "\n",
       "    this._key_event_extra(event, name);\n",
       "\n",
       "    this.send_message(name, {key: value,\n",
       "                             guiEvent: simpleKeys(event)});\n",
       "    return false;\n",
       "}\n",
       "\n",
       "mpl.figure.prototype.toolbar_button_onclick = function(name) {\n",
       "    if (name == 'download') {\n",
       "        this.handle_save(this, null);\n",
       "    } else {\n",
       "        this.send_message(\"toolbar_button\", {name: name});\n",
       "    }\n",
       "};\n",
       "\n",
       "mpl.figure.prototype.toolbar_button_onmouseover = function(tooltip) {\n",
       "    this.message.textContent = tooltip;\n",
       "};\n",
       "mpl.toolbar_items = [[\"Home\", \"Reset original view\", \"fa fa-home icon-home\", \"home\"], [\"Back\", \"Back to  previous view\", \"fa fa-arrow-left icon-arrow-left\", \"back\"], [\"Forward\", \"Forward to next view\", \"fa fa-arrow-right icon-arrow-right\", \"forward\"], [\"\", \"\", \"\", \"\"], [\"Pan\", \"Pan axes with left mouse, zoom with right\", \"fa fa-arrows icon-move\", \"pan\"], [\"Zoom\", \"Zoom to rectangle\", \"fa fa-square-o icon-check-empty\", \"zoom\"], [\"\", \"\", \"\", \"\"], [\"Download\", \"Download plot\", \"fa fa-floppy-o icon-save\", \"download\"]];\n",
       "\n",
       "mpl.extensions = [\"eps\", \"pdf\", \"png\", \"ps\", \"raw\", \"svg\"];\n",
       "\n",
       "mpl.default_extension = \"png\";var comm_websocket_adapter = function(comm) {\n",
       "    // Create a \"websocket\"-like object which calls the given IPython comm\n",
       "    // object with the appropriate methods. Currently this is a non binary\n",
       "    // socket, so there is still some room for performance tuning.\n",
       "    var ws = {};\n",
       "\n",
       "    ws.close = function() {\n",
       "        comm.close()\n",
       "    };\n",
       "    ws.send = function(m) {\n",
       "        //console.log('sending', m);\n",
       "        comm.send(m);\n",
       "    };\n",
       "    // Register the callback with on_msg.\n",
       "    comm.on_msg(function(msg) {\n",
       "        //console.log('receiving', msg['content']['data'], msg);\n",
       "        // Pass the mpl event to the overriden (by mpl) onmessage function.\n",
       "        ws.onmessage(msg['content']['data'])\n",
       "    });\n",
       "    return ws;\n",
       "}\n",
       "\n",
       "mpl.mpl_figure_comm = function(comm, msg) {\n",
       "    // This is the function which gets called when the mpl process\n",
       "    // starts-up an IPython Comm through the \"matplotlib\" channel.\n",
       "\n",
       "    var id = msg.content.data.id;\n",
       "    // Get hold of the div created by the display call when the Comm\n",
       "    // socket was opened in Python.\n",
       "    var element = $(\"#\" + id);\n",
       "    var ws_proxy = comm_websocket_adapter(comm)\n",
       "\n",
       "    function ondownload(figure, format) {\n",
       "        window.open(figure.imageObj.src);\n",
       "    }\n",
       "\n",
       "    var fig = new mpl.figure(id, ws_proxy,\n",
       "                           ondownload,\n",
       "                           element.get(0));\n",
       "\n",
       "    // Call onopen now - mpl needs it, as it is assuming we've passed it a real\n",
       "    // web socket which is closed, not our websocket->open comm proxy.\n",
       "    ws_proxy.onopen();\n",
       "\n",
       "    fig.parent_element = element.get(0);\n",
       "    fig.cell_info = mpl.find_output_cell(\"<div id='\" + id + \"'></div>\");\n",
       "    if (!fig.cell_info) {\n",
       "        console.error(\"Failed to find cell for figure\", id, fig);\n",
       "        return;\n",
       "    }\n",
       "\n",
       "    var output_index = fig.cell_info[2]\n",
       "    var cell = fig.cell_info[0];\n",
       "\n",
       "};\n",
       "\n",
       "mpl.figure.prototype.handle_close = function(fig, msg) {\n",
       "    fig.root.unbind('remove')\n",
       "\n",
       "    // Update the output cell to use the data from the current canvas.\n",
       "    fig.push_to_output();\n",
       "    var dataURL = fig.canvas.toDataURL();\n",
       "    // Re-enable the keyboard manager in IPython - without this line, in FF,\n",
       "    // the notebook keyboard shortcuts fail.\n",
       "    IPython.keyboard_manager.enable()\n",
       "    $(fig.parent_element).html('<img src=\"' + dataURL + '\">');\n",
       "    fig.close_ws(fig, msg);\n",
       "}\n",
       "\n",
       "mpl.figure.prototype.close_ws = function(fig, msg){\n",
       "    fig.send_message('closing', msg);\n",
       "    // fig.ws.close()\n",
       "}\n",
       "\n",
       "mpl.figure.prototype.push_to_output = function(remove_interactive) {\n",
       "    // Turn the data on the canvas into data in the output cell.\n",
       "    var dataURL = this.canvas.toDataURL();\n",
       "    this.cell_info[1]['text/html'] = '<img src=\"' + dataURL + '\">';\n",
       "}\n",
       "\n",
       "mpl.figure.prototype.updated_canvas_event = function() {\n",
       "    // Tell IPython that the notebook contents must change.\n",
       "    IPython.notebook.set_dirty(true);\n",
       "    this.send_message(\"ack\", {});\n",
       "    var fig = this;\n",
       "    // Wait a second, then push the new image to the DOM so\n",
       "    // that it is saved nicely (might be nice to debounce this).\n",
       "    setTimeout(function () { fig.push_to_output() }, 1000);\n",
       "}\n",
       "\n",
       "mpl.figure.prototype._init_toolbar = function() {\n",
       "    var fig = this;\n",
       "\n",
       "    var nav_element = $('<div/>')\n",
       "    nav_element.attr('style', 'width: 100%');\n",
       "    this.root.append(nav_element);\n",
       "\n",
       "    // Define a callback function for later on.\n",
       "    function toolbar_event(event) {\n",
       "        return fig.toolbar_button_onclick(event['data']);\n",
       "    }\n",
       "    function toolbar_mouse_event(event) {\n",
       "        return fig.toolbar_button_onmouseover(event['data']);\n",
       "    }\n",
       "\n",
       "    for(var toolbar_ind in mpl.toolbar_items){\n",
       "        var name = mpl.toolbar_items[toolbar_ind][0];\n",
       "        var tooltip = mpl.toolbar_items[toolbar_ind][1];\n",
       "        var image = mpl.toolbar_items[toolbar_ind][2];\n",
       "        var method_name = mpl.toolbar_items[toolbar_ind][3];\n",
       "\n",
       "        if (!name) { continue; };\n",
       "\n",
       "        var button = $('<button class=\"btn btn-default\" href=\"#\" title=\"' + name + '\"><i class=\"fa ' + image + ' fa-lg\"></i></button>');\n",
       "        button.click(method_name, toolbar_event);\n",
       "        button.mouseover(tooltip, toolbar_mouse_event);\n",
       "        nav_element.append(button);\n",
       "    }\n",
       "\n",
       "    // Add the status bar.\n",
       "    var status_bar = $('<span class=\"mpl-message\" style=\"text-align:right; float: right;\"/>');\n",
       "    nav_element.append(status_bar);\n",
       "    this.message = status_bar[0];\n",
       "\n",
       "    // Add the close button to the window.\n",
       "    var buttongrp = $('<div class=\"btn-group inline pull-right\"></div>');\n",
       "    var button = $('<button class=\"btn btn-mini btn-primary\" href=\"#\" title=\"Stop Interaction\"><i class=\"fa fa-power-off icon-remove icon-large\"></i></button>');\n",
       "    button.click(function (evt) { fig.handle_close(fig, {}); } );\n",
       "    button.mouseover('Stop Interaction', toolbar_mouse_event);\n",
       "    buttongrp.append(button);\n",
       "    var titlebar = this.root.find($('.ui-dialog-titlebar'));\n",
       "    titlebar.prepend(buttongrp);\n",
       "}\n",
       "\n",
       "mpl.figure.prototype._root_extra_style = function(el){\n",
       "    var fig = this\n",
       "    el.on(\"remove\", function(){\n",
       "\tfig.close_ws(fig, {});\n",
       "    });\n",
       "}\n",
       "\n",
       "mpl.figure.prototype._canvas_extra_style = function(el){\n",
       "    // this is important to make the div 'focusable\n",
       "    el.attr('tabindex', 0)\n",
       "    // reach out to IPython and tell the keyboard manager to turn it's self\n",
       "    // off when our div gets focus\n",
       "\n",
       "    // location in version 3\n",
       "    if (IPython.notebook.keyboard_manager) {\n",
       "        IPython.notebook.keyboard_manager.register_events(el);\n",
       "    }\n",
       "    else {\n",
       "        // location in version 2\n",
       "        IPython.keyboard_manager.register_events(el);\n",
       "    }\n",
       "\n",
       "}\n",
       "\n",
       "mpl.figure.prototype._key_event_extra = function(event, name) {\n",
       "    var manager = IPython.notebook.keyboard_manager;\n",
       "    if (!manager)\n",
       "        manager = IPython.keyboard_manager;\n",
       "\n",
       "    // Check for shift+enter\n",
       "    if (event.shiftKey && event.which == 13) {\n",
       "        this.canvas_div.blur();\n",
       "        // select the cell after this one\n",
       "        var index = IPython.notebook.find_cell_index(this.cell_info[0]);\n",
       "        IPython.notebook.select(index + 1);\n",
       "    }\n",
       "}\n",
       "\n",
       "mpl.figure.prototype.handle_save = function(fig, msg) {\n",
       "    fig.ondownload(fig, null);\n",
       "}\n",
       "\n",
       "\n",
       "mpl.find_output_cell = function(html_output) {\n",
       "    // Return the cell and output element which can be found *uniquely* in the notebook.\n",
       "    // Note - this is a bit hacky, but it is done because the \"notebook_saving.Notebook\"\n",
       "    // IPython event is triggered only after the cells have been serialised, which for\n",
       "    // our purposes (turning an active figure into a static one), is too late.\n",
       "    var cells = IPython.notebook.get_cells();\n",
       "    var ncells = cells.length;\n",
       "    for (var i=0; i<ncells; i++) {\n",
       "        var cell = cells[i];\n",
       "        if (cell.cell_type === 'code'){\n",
       "            for (var j=0; j<cell.output_area.outputs.length; j++) {\n",
       "                var data = cell.output_area.outputs[j];\n",
       "                if (data.data) {\n",
       "                    // IPython >= 3 moved mimebundle to data attribute of output\n",
       "                    data = data.data;\n",
       "                }\n",
       "                if (data['text/html'] == html_output) {\n",
       "                    return [cell, data, j];\n",
       "                }\n",
       "            }\n",
       "        }\n",
       "    }\n",
       "}\n",
       "\n",
       "// Register the function which deals with the matplotlib target/channel.\n",
       "// The kernel may be null if the page has been refreshed.\n",
       "if (IPython.notebook.kernel != null) {\n",
       "    IPython.notebook.kernel.comm_manager.register_target('matplotlib', mpl.mpl_figure_comm);\n",
       "}\n"
      ],
      "text/plain": [
       "<IPython.core.display.Javascript object>"
      ]
     },
     "metadata": {},
     "output_type": "display_data"
    },
    {
     "data": {
      "text/html": [
       "<img src=\"data:image/png;base64,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\">"
      ],
      "text/plain": [
       "<IPython.core.display.HTML object>"
      ]
     },
     "metadata": {},
     "output_type": "display_data"
    }
   ],
   "source": [
    "fig1 = figure(figsize=(8, 8))\n",
    "\n",
    "ax1 = fig1.gca()\n",
    "\n",
    "p1, = ax1.plot(t, q1)\n",
    "p2, = ax1.plot(t, q2)\n",
    "ax1.legend([p1, p2],[r\"$q_1$\", r\"$q_2$\"])\n",
    "ax1.set_ylim(-4, 4)\n",
    "ax1.set_xlim(-0.1, 10);"
   ]
  },
  {
   "cell_type": "code",
   "execution_count": null,
   "metadata": {
    "collapsed": true
   },
   "outputs": [],
   "source": []
  },
  {
   "cell_type": "code",
   "execution_count": null,
   "metadata": {
    "collapsed": true
   },
   "outputs": [],
   "source": []
  }
 ],
 "metadata": {
  "kernelspec": {
   "display_name": "Python [default]",
   "language": "python",
   "name": "python3"
  },
  "language_info": {
   "codemirror_mode": {
    "name": "ipython",
    "version": 3
   },
   "file_extension": ".py",
   "mimetype": "text/x-python",
   "name": "python",
   "nbconvert_exporter": "python",
   "pygments_lexer": "ipython3",
   "version": "3.5.2"
  }
 },
 "nbformat": 4,
 "nbformat_minor": 0
}
