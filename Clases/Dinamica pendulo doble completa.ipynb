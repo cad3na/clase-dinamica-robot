{
 "cells": [
  {
   "cell_type": "code",
   "execution_count": 1,
   "metadata": {
    "collapsed": false
   },
   "outputs": [
    {
     "data": {
      "text/html": [
       "<link href='http://fonts.googleapis.com/css?family=EB+Garamond' rel='stylesheet' type='text/css'>\n",
       "<link href='http://fonts.googleapis.com/css?family=Lato:100,100italic' rel='stylesheet' type='text/css'>\n",
       "<link rel=\"stylesheet\" href=\"//cdn.jsdelivr.net/font-hack/2.013/css/hack-extended.min.css\">\n",
       "\n",
       "<style>\n",
       "\t@font-face{\n",
       "   \t\tfont-family: \"Computer Modern\";\n",
       "        \tsrc: url('http://mirrors.ctan.org/fonts/cm-unicode/fonts/otf/cmunss.otf');}\n",
       "        \n",
       "        div.cell{\n",
       "\t        max-width:    800px;\n",
       "\t        margin-left:  auto;\n",
       "\t        margin-right: auto;}\n",
       "        \n",
       "\th1 {\n",
       "        \tfont-family: 'Lato', sans-serif;}\n",
       "        \n",
       "\th2 {\n",
       "        \tfont-family: 'Lato', serif;}\n",
       "        \n",
       "\th3{\n",
       "\t\tfont-family:   'Lato', serif;\n",
       "        \tmargin-top:    12px;\n",
       "\t\tmargin-bottom: 3px;}\n",
       "        \n",
       "        h4{\n",
       "\t\tfont-family: 'Lato', serif;}\n",
       "\t\n",
       "\th5 {\n",
       "        \tfont-family: 'Lato', serif;}\n",
       "    \n",
       "\tdiv.text_cell_render{\n",
       "        \tfont-family:  'EB Garamond', 'Computer Modern', 'Helvetica Neue', Arial, Helvetica, Geneva, sans-serif;\n",
       "\t        line-height:  140%;\n",
       "\t        font-size:    14pt;\n",
       "\t\tmax-width:    650px;\n",
       "\t\tmargin-left:  auto;\n",
       "        \tmargin-right: auto;}\n",
       "        \n",
       "\t.CodeMirror{\n",
       "        \tfont-family: 'Inconsolata', monospace;}\n",
       "    \n",
       "\t.text_cell_render h1 {\n",
       "\t        font-weight:   100;\n",
       "\t        font-size:     48pt;\n",
       "\t\tline-height:   100%;\n",
       "\t        color:         #CD2305;\n",
       "\t        margin-bottom: 0.5em;\n",
       "\t        margin-top:    0.5em;\n",
       "\t        display:       block;}\n",
       "        \n",
       "\t.text_cell_render h2 {\n",
       "        \tfont-weight:   100;\n",
       "        \tfont-size:     36pt;}\n",
       "        \n",
       "\t.text_cell_render h3 {\n",
       "        \tfont-weight:   100;\n",
       "        \tfont-size:     21pt;}\n",
       "        \n",
       "\t.text_cell_render h4 {\n",
       "        \tfont-weight:   100;\n",
       "        \tfont-size:     18pt;}\n",
       "        \n",
       "\t.text_cell_render h5 {\n",
       "\t        font-weight:   100;\n",
       "\t        font-size:     16pt;\n",
       "\t        color:         #CD2305;\n",
       "\t        font-style:    italic;\n",
       "\t        margin-bottom: 0.5em;\n",
       "\t        margin-top:    0.5em;\n",
       "\t        display:       block;}\n",
       "        \n",
       "\t.text_cell_render h6 {\n",
       "\t        font-weight:   100;\n",
       "\t        font-size:     14pt;\n",
       "\t        color:         #CD2305;\n",
       "\t        font-style:    italic;\n",
       "\t        margin-bottom: 0.5em;\n",
       "\t        margin-top:    0.5em;\n",
       "\t        display:       block;}\n",
       "    \n",
       "\t.warning{\n",
       "\t    \tbackground-color: #FFFFE0;\n",
       "\t    \tborder-color: #FFCC99;\n",
       "\t    \tborder-left: 5px solid #FFCC99;\n",
       "\t    \tpadding: 0.5em;}\n",
       "\t    \t\n",
       "\t.error{\n",
       "\t    \tbackground-color: #fcf2f2;\n",
       "\t    \tborder-color: #dFb5b4;\n",
       "\t    \tborder-left: 5px solid #dfb5b4;\n",
       "\t    \tpadding: 0.5em;}\n",
       "\t    \t\n",
       "</style>\n",
       "\n",
       "<script>\n",
       "\tMathJax.Hub.Config({\n",
       "        \tTeX:{extensions: [\"AMSmath.js\"]},\n",
       "\n",
       "        \tjax: [\"input/TeX\",\"output/SVG\"],\n",
       "        \tSVG: {\n",
       "        \t\tscale: 120,\n",
       "        \t\tfont: 'Gyre-Pagella'}\n",
       "        });\n",
       "</script>"
      ]
     },
     "metadata": {},
     "output_type": "display_data"
    }
   ],
   "source": [
    "from IPython.core.display import display_html\n",
    "from urllib.request import urlopen\n",
    "\n",
    "link = 'https://gist.github.com/robblack007/eca03fa9f7586860235d/raw/ef05a2f29febc94a9c9f99ca20fd0b65e74ed451/custom.css'\n",
    "display_html(urlopen(link).read(), raw=True)"
   ]
  },
  {
   "cell_type": "markdown",
   "metadata": {},
   "source": [
    "# Dinámica de un robot manipulador planar"
   ]
  },
  {
   "cell_type": "code",
   "execution_count": 2,
   "metadata": {
    "collapsed": true
   },
   "outputs": [],
   "source": [
    "from sympy import var, sin, cos, Matrix, Integer, eye, Function, Rational, exp, Symbol, I, solve, pi, trigsimp, dsolve, sinh, cosh, simplify\n",
    "from sympy.physics.mechanics import mechanics_printing\n",
    "mechanics_printing()"
   ]
  },
  {
   "cell_type": "code",
   "execution_count": 3,
   "metadata": {
    "collapsed": false
   },
   "outputs": [
    {
     "data": {
      "image/png": "[encoded data removed]",
      "text/latex": [
       "$$\\left ( m_{1}, \\quad m_{2}, \\quad J_{1}, \\quad J_{2}, \\quad L_{1}, \\quad L_{2}, \\quad l_{1}, \\quad l_{2}, \\quad t, \\quad g\\right )$$"
      ],
      "text/plain": [
       "(m₁, m₂, J₁, J₂, L₁, L₂, l₁, l₂, t, g)"
      ]
     },
     "execution_count": 3,
     "metadata": {},
     "output_type": "execute_result"
    }
   ],
   "source": [
    "var(\"m1 m2 J1 J2 L1 L2 l1 l2 t g\")"
   ]
  },
  {
   "cell_type": "code",
   "execution_count": 4,
   "metadata": {
    "collapsed": true
   },
   "outputs": [],
   "source": [
    "q1 = Function(\"q1\")(t)\n",
    "q2 = Function(\"q2\")(t)"
   ]
  },
  {
   "cell_type": "code",
   "execution_count": 5,
   "metadata": {
    "collapsed": false
   },
   "outputs": [
    {
     "data": {
      "image/png": "[encoded data removed]",
      "text/latex": [
       "$$l_{1}^{2} \\left(\\dot{q}_{1}\\right)^{2}$$"
      ],
      "text/plain": [
       "  2    2\n",
       "l₁ ⋅q₁̇ "
      ]
     },
     "execution_count": 5,
     "metadata": {},
     "output_type": "execute_result"
    }
   ],
   "source": [
    "x1 = l1*cos(q1)\n",
    "y1 = l1*sin(q1)\n",
    "v1 = x1.diff(\"t\")**2 + y1.diff(\"t\")**2\n",
    "v1.trigsimp()"
   ]
  },
  {
   "cell_type": "code",
   "execution_count": 6,
   "metadata": {
    "collapsed": false
   },
   "outputs": [
    {
     "data": {
      "image/png": "[encoded data removed]",
      "text/latex": [
       "$$L_{1}^{2} \\left(\\dot{q}_{1}\\right)^{2} + 2 L_{1} l_{2} \\operatorname{cos}\\left(q_{2}\\right) \\left(\\dot{q}_{1}\\right)^{2} + 2 L_{1} l_{2} \\operatorname{cos}\\left(q_{2}\\right) \\dot{q}_{1} \\dot{q}_{2} + l_{2}^{2} \\left(\\dot{q}_{1}\\right)^{2} + 2 l_{2}^{2} \\dot{q}_{1} \\dot{q}_{2} + l_{2}^{2} \\left(\\dot{q}_{2}\\right)^{2}$$"
      ],
      "text/plain": [
       "  2    2                      2                               2    2       2  \n",
       "L₁ ⋅q₁̇  + 2⋅L₁⋅l₂⋅cos(q₂)⋅q₁̇  + 2⋅L₁⋅l₂⋅cos(q₂)⋅q₁̇⋅q₂̇ + l₂ ⋅q₁̇  + 2⋅l₂ ⋅q\n",
       "\n",
       "           2    2\n",
       "₁̇⋅q₂̇ + l₂ ⋅q₂̇ "
      ]
     },
     "execution_count": 6,
     "metadata": {},
     "output_type": "execute_result"
    }
   ],
   "source": [
    "x2 = L1*cos(q1) + l2*cos(q1 + q2)\n",
    "y2 = L1*sin(q1) + l2*sin(q1 + q2)\n",
    "v2 = x2.diff(\"t\")**2 + y2.diff(\"t\")**2\n",
    "v2.trigsimp()"
   ]
  },
  {
   "cell_type": "code",
   "execution_count": 7,
   "metadata": {
    "collapsed": false
   },
   "outputs": [],
   "source": [
    "ω1 = q1.diff(\"t\")\n",
    "ω2 = q2.diff(\"t\")"
   ]
  },
  {
   "cell_type": "code",
   "execution_count": 8,
   "metadata": {
    "collapsed": false
   },
   "outputs": [
    {
     "data": {
      "image/png": "[encoded data removed]",
      "text/latex": [
       "$$\\frac{J_{1} \\left(\\dot{q}_{1}\\right)^{2}}{2} + \\frac{m_{1}}{2} \\left(l_{1}^{2} \\operatorname{sin}^{2}\\left(q_{1}\\right) \\left(\\dot{q}_{1}\\right)^{2} + l_{1}^{2} \\operatorname{cos}^{2}\\left(q_{1}\\right) \\left(\\dot{q}_{1}\\right)^{2}\\right)$$"
      ],
      "text/plain": [
       "      2      ⎛  2    2        2     2    2        2⎞\n",
       "J₁⋅q₁̇    m₁⋅⎝l₁ ⋅sin (q₁)⋅q₁̇  + l₁ ⋅cos (q₁)⋅q₁̇ ⎠\n",
       "─────── + ──────────────────────────────────────────\n",
       "   2                          2                     "
      ]
     },
     "execution_count": 8,
     "metadata": {},
     "output_type": "execute_result"
    }
   ],
   "source": [
    "K1 = Rational(1, 2)*m1*v1 + Rational(1, 2)*J1*ω1**2\n",
    "K1"
   ]
  },
  {
   "cell_type": "code",
   "execution_count": 9,
   "metadata": {
    "collapsed": false
   },
   "outputs": [
    {
     "data": {
      "image/png": "[encoded data removed]",
      "text/latex": [
       "$$\\frac{J_{2} \\left(\\dot{q}_{2}\\right)^{2}}{2} + \\frac{m_{1}}{2} \\left(\\left(- L_{1} \\operatorname{sin}\\left(q_{1}\\right) \\dot{q}_{1} - l_{2} \\left(\\dot{q}_{1} + \\dot{q}_{2}\\right) \\operatorname{sin}\\left(q_{1} + q_{2}\\right)\\right)^{2} + \\left(L_{1} \\operatorname{cos}\\left(q_{1}\\right) \\dot{q}_{1} + l_{2} \\left(\\dot{q}_{1} + \\dot{q}_{2}\\right) \\operatorname{cos}\\left(q_{1} + q_{2}\\right)\\right)^{2}\\right)$$"
      ],
      "text/plain": [
       "      2      ⎛                                               2                \n",
       "J₂⋅q₂̇    m₁⋅⎝(-L₁⋅sin(q₁)⋅q₁̇ - l₂⋅(q₁̇ + q₂̇)⋅sin(q₁ + q₂))  + (L₁⋅cos(q₁)⋅q\n",
       "─────── + ────────────────────────────────────────────────────────────────────\n",
       "   2                                                         2                \n",
       "\n",
       "                                 2⎞\n",
       "₁̇ + l₂⋅(q₁̇ + q₂̇)⋅cos(q₁ + q₂)) ⎠\n",
       "───────────────────────────────────\n",
       "                                   "
      ]
     },
     "execution_count": 9,
     "metadata": {},
     "output_type": "execute_result"
    }
   ],
   "source": [
    "K2 = Rational(1, 2)*m1*v2 + Rational(1, 2)*J2*ω2**2\n",
    "K2"
   ]
  },
  {
   "cell_type": "code",
   "execution_count": 10,
   "metadata": {
    "collapsed": false
   },
   "outputs": [
    {
     "data": {
      "image/png": "[encoded data removed]",
      "text/latex": [
       "$$g l_{1} m_{1} \\operatorname{sin}\\left(q_{1}\\right)$$"
      ],
      "text/plain": [
       "g⋅l₁⋅m₁⋅sin(q₁)"
      ]
     },
     "execution_count": 10,
     "metadata": {},
     "output_type": "execute_result"
    }
   ],
   "source": [
    "U1 = m1*g*y1\n",
    "U1"
   ]
  },
  {
   "cell_type": "code",
   "execution_count": 11,
   "metadata": {
    "collapsed": false
   },
   "outputs": [
    {
     "data": {
      "image/png": "[encoded data removed]",
      "text/latex": [
       "$$g m_{2} \\left(L_{1} \\operatorname{sin}\\left(q_{1}\\right) + l_{2} \\operatorname{sin}\\left(q_{1} + q_{2}\\right)\\right)$$"
      ],
      "text/plain": [
       "g⋅m₂⋅(L₁⋅sin(q₁) + l₂⋅sin(q₁ + q₂))"
      ]
     },
     "execution_count": 11,
     "metadata": {},
     "output_type": "execute_result"
    }
   ],
   "source": [
    "U2 = m2*g*y2\n",
    "U2"
   ]
  },
  {
   "cell_type": "code",
   "execution_count": 12,
   "metadata": {
    "collapsed": false
   },
   "outputs": [
    {
     "data": {
      "image/png": "[encoded data removed]",
      "text/latex": [
       "$$\\frac{J_{1} \\left(\\dot{q}_{1}\\right)^{2}}{2} + \\frac{J_{2} \\left(\\dot{q}_{2}\\right)^{2}}{2} + \\frac{m_{1}}{2} \\left(l_{1}^{2} \\operatorname{sin}^{2}\\left(q_{1}\\right) \\left(\\dot{q}_{1}\\right)^{2} + l_{1}^{2} \\operatorname{cos}^{2}\\left(q_{1}\\right) \\left(\\dot{q}_{1}\\right)^{2}\\right) + \\frac{m_{1}}{2} \\left(\\left(- L_{1} \\operatorname{sin}\\left(q_{1}\\right) \\dot{q}_{1} - l_{2} \\left(\\dot{q}_{1} + \\dot{q}_{2}\\right) \\operatorname{sin}\\left(q_{1} + q_{2}\\right)\\right)^{2} + \\left(L_{1} \\operatorname{cos}\\left(q_{1}\\right) \\dot{q}_{1} + l_{2} \\left(\\dot{q}_{1} + \\dot{q}_{2}\\right) \\operatorname{cos}\\left(q_{1} + q_{2}\\right)\\right)^{2}\\right)$$"
      ],
      "text/plain": [
       "      2         2      ⎛  2    2        2     2    2        2⎞      ⎛         \n",
       "J₁⋅q₁̇    J₂⋅q₂̇    m₁⋅⎝l₁ ⋅sin (q₁)⋅q₁̇  + l₁ ⋅cos (q₁)⋅q₁̇ ⎠   m₁⋅⎝(-L₁⋅sin(\n",
       "─────── + ─────── + ────────────────────────────────────────── + ─────────────\n",
       "   2         2                          2                                     \n",
       "\n",
       "                                      2                                       \n",
       "q₁)⋅q₁̇ - l₂⋅(q₁̇ + q₂̇)⋅sin(q₁ + q₂))  + (L₁⋅cos(q₁)⋅q₁̇ + l₂⋅(q₁̇ + q₂̇)⋅cos\n",
       "──────────────────────────────────────────────────────────────────────────────\n",
       "                                      2                                       \n",
       "\n",
       "          2⎞\n",
       "(q₁ + q₂)) ⎠\n",
       "────────────\n",
       "            "
      ]
     },
     "execution_count": 12,
     "metadata": {},
     "output_type": "execute_result"
    }
   ],
   "source": [
    "K = K1 + K2\n",
    "K"
   ]
  },
  {
   "cell_type": "code",
   "execution_count": 13,
   "metadata": {
    "collapsed": false
   },
   "outputs": [
    {
     "data": {
      "image/png": "[encoded data removed]",
      "text/latex": [
       "$$g l_{1} m_{1} \\operatorname{sin}\\left(q_{1}\\right) + g m_{2} \\left(L_{1} \\operatorname{sin}\\left(q_{1}\\right) + l_{2} \\operatorname{sin}\\left(q_{1} + q_{2}\\right)\\right)$$"
      ],
      "text/plain": [
       "g⋅l₁⋅m₁⋅sin(q₁) + g⋅m₂⋅(L₁⋅sin(q₁) + l₂⋅sin(q₁ + q₂))"
      ]
     },
     "execution_count": 13,
     "metadata": {},
     "output_type": "execute_result"
    }
   ],
   "source": [
    "U = U1 + U2\n",
    "U"
   ]
  },
  {
   "cell_type": "code",
   "execution_count": 14,
   "metadata": {
    "collapsed": false
   },
   "outputs": [
    {
     "data": {
      "image/png": "[encoded data removed]",
      "text/latex": [
       "$$\\frac{J_{1} \\left(\\dot{q}_{1}\\right)^{2}}{2} + \\frac{J_{2} \\left(\\dot{q}_{2}\\right)^{2}}{2} + \\frac{L_{1}^{2} m_{1}}{2} \\left(\\dot{q}_{1}\\right)^{2} - L_{1} g m_{2} \\operatorname{sin}\\left(q_{1}\\right) + L_{1} l_{2} m_{1} \\operatorname{cos}\\left(q_{2}\\right) \\left(\\dot{q}_{1}\\right)^{2} + L_{1} l_{2} m_{1} \\operatorname{cos}\\left(q_{2}\\right) \\dot{q}_{1} \\dot{q}_{2} - g l_{1} m_{1} \\operatorname{sin}\\left(q_{1}\\right) - g l_{2} m_{2} \\operatorname{sin}\\left(q_{1} + q_{2}\\right) + \\frac{l_{1}^{2} m_{1}}{2} \\left(\\dot{q}_{1}\\right)^{2} + \\frac{l_{2}^{2} m_{1}}{2} \\left(\\dot{q}_{1}\\right)^{2} + l_{2}^{2} m_{1} \\dot{q}_{1} \\dot{q}_{2} + \\frac{l_{2}^{2} m_{1}}{2} \\left(\\dot{q}_{2}\\right)^{2}$$"
      ],
      "text/plain": [
       "      2         2     2       2                                               \n",
       "J₁⋅q₁̇    J₂⋅q₂̇    L₁ ⋅m₁⋅q₁̇                                          2     \n",
       "─────── + ─────── + ─────────── - L₁⋅g⋅m₂⋅sin(q₁) + L₁⋅l₂⋅m₁⋅cos(q₂)⋅q₁̇  + L₁\n",
       "   2         2           2                                                    \n",
       "\n",
       "                                                                    2       2 \n",
       "                                                                  l₁ ⋅m₁⋅q₁̇  \n",
       "⋅l₂⋅m₁⋅cos(q₂)⋅q₁̇⋅q₂̇ - g⋅l₁⋅m₁⋅sin(q₁) - g⋅l₂⋅m₂⋅sin(q₁ + q₂) + ─────────── \n",
       "                                                                       2      \n",
       "\n",
       "    2       2                      2       2\n",
       "  l₂ ⋅m₁⋅q₁̇      2              l₂ ⋅m₁⋅q₂̇ \n",
       "+ ─────────── + l₂ ⋅m₁⋅q₁̇⋅q₂̇ + ───────────\n",
       "       2                              2     "
      ]
     },
     "execution_count": 14,
     "metadata": {},
     "output_type": "execute_result"
    }
   ],
   "source": [
    "L = (K - U).expand().simplify()\n",
    "L"
   ]
  },
  {
   "cell_type": "markdown",
   "metadata": {},
   "source": [
    "\n",
    "\n",
    "\n"
   ]
  },
  {
   "cell_type": "code",
   "execution_count": 15,
   "metadata": {
    "collapsed": false
   },
   "outputs": [
    {
     "data": {
      "image/png": "[encoded data removed]",
      "text/latex": [
       "$$\\left(L_{1} l_{2} m_{1} \\operatorname{cos}\\left(q_{2}\\right) + l_{2}^{2} m_{1}\\right) \\dot{q}_{2} + \\left(J_{1} + L_{1}^{2} m_{1} + 2 L_{1} l_{2} m_{1} \\operatorname{cos}\\left(q_{2}\\right) + l_{1}^{2} m_{1} + l_{2}^{2} m_{1}\\right) \\dot{q}_{1}$$"
      ],
      "text/plain": [
       "⎛                     2   ⎞       ⎛       2                             2     \n",
       "⎝L₁⋅l₂⋅m₁⋅cos(q₂) + l₂ ⋅m₁⎠⋅q₂̇ + ⎝J₁ + L₁ ⋅m₁ + 2⋅L₁⋅l₂⋅m₁⋅cos(q₂) + l₁ ⋅m₁ +\n",
       "\n",
       "   2   ⎞    \n",
       " l₂ ⋅m₁⎠⋅q₁̇"
      ]
     },
     "execution_count": 15,
     "metadata": {},
     "output_type": "execute_result"
    }
   ],
   "source": [
    "(L.diff(q1.diff(t))).simplify().expand().collect(q1.diff(t).diff(t)).collect(q2.diff(t).diff(t))"
   ]
  },
  {
   "cell_type": "code",
   "execution_count": 16,
   "metadata": {
    "collapsed": false
   },
   "outputs": [
    {
     "data": {
      "image/png": "[encoded data removed]",
      "text/latex": [
       "$$- 2 L_{1} l_{2} m_{1} \\operatorname{sin}\\left(q_{2}\\right) \\dot{q}_{1} \\dot{q}_{2} - L_{1} l_{2} m_{1} \\operatorname{sin}\\left(q_{2}\\right) \\left(\\dot{q}_{2}\\right)^{2} + \\left(L_{1} l_{2} m_{1} \\operatorname{cos}\\left(q_{2}\\right) + l_{2}^{2} m_{1}\\right) \\ddot{q}_{2} + \\left(J_{1} + L_{1}^{2} m_{1} + 2 L_{1} l_{2} m_{1} \\operatorname{cos}\\left(q_{2}\\right) + l_{1}^{2} m_{1} + l_{2}^{2} m_{1}\\right) \\ddot{q}_{1}$$"
      ],
      "text/plain": [
       "                                                  2   ⎛                     2 \n",
       "-2⋅L₁⋅l₂⋅m₁⋅sin(q₂)⋅q₁̇⋅q₂̇ - L₁⋅l₂⋅m₁⋅sin(q₂)⋅q₂̇  + ⎝L₁⋅l₂⋅m₁⋅cos(q₂) + l₂ ⋅\n",
       "\n",
       "  ⎞       ⎛       2                             2        2   ⎞    \n",
       "m₁⎠⋅q₂̈ + ⎝J₁ + L₁ ⋅m₁ + 2⋅L₁⋅l₂⋅m₁⋅cos(q₂) + l₁ ⋅m₁ + l₂ ⋅m₁⎠⋅q₁̈"
      ]
     },
     "execution_count": 16,
     "metadata": {},
     "output_type": "execute_result"
    }
   ],
   "source": [
    "(L.diff(q1.diff(t)).diff(t)).simplify().expand().collect(q1.diff(t).diff(t)).collect(q2.diff(t).diff(t))"
   ]
  },
  {
   "cell_type": "code",
   "execution_count": 17,
   "metadata": {
    "collapsed": false
   },
   "outputs": [
    {
     "data": {
      "image/png": "[encoded data removed]",
      "text/latex": [
       "$$- L_{1} g m_{2} \\operatorname{cos}\\left(q_{1}\\right) - g l_{1} m_{1} \\operatorname{cos}\\left(q_{1}\\right) - g l_{2} m_{2} \\operatorname{cos}\\left(q_{1} + q_{2}\\right)$$"
      ],
      "text/plain": [
       "-L₁⋅g⋅m₂⋅cos(q₁) - g⋅l₁⋅m₁⋅cos(q₁) - g⋅l₂⋅m₂⋅cos(q₁ + q₂)"
      ]
     },
     "execution_count": 17,
     "metadata": {},
     "output_type": "execute_result"
    }
   ],
   "source": [
    "(L.diff(q1)).simplify().expand().collect(q1.diff(t).diff(t)).collect(q2.diff(t).diff(t))"
   ]
  },
  {
   "cell_type": "markdown",
   "metadata": {},
   "source": [
    "\n",
    "\n",
    "\n"
   ]
  },
  {
   "cell_type": "code",
   "execution_count": 18,
   "metadata": {
    "collapsed": false
   },
   "outputs": [
    {
     "data": {
      "image/png": "[encoded data removed]",
      "text/latex": [
       "$$\\left(J_{2} + l_{2}^{2} m_{1}\\right) \\dot{q}_{2} + \\left(L_{1} l_{2} m_{1} \\operatorname{cos}\\left(q_{2}\\right) + l_{2}^{2} m_{1}\\right) \\dot{q}_{1}$$"
      ],
      "text/plain": [
       "⎛       2   ⎞       ⎛                     2   ⎞    \n",
       "⎝J₂ + l₂ ⋅m₁⎠⋅q₂̇ + ⎝L₁⋅l₂⋅m₁⋅cos(q₂) + l₂ ⋅m₁⎠⋅q₁̇"
      ]
     },
     "execution_count": 18,
     "metadata": {},
     "output_type": "execute_result"
    }
   ],
   "source": [
    "(L.diff(q2.diff(t))).simplify().expand().collect(q1.diff(t).diff(t)).collect(q2.diff(t).diff(t))"
   ]
  },
  {
   "cell_type": "code",
   "execution_count": 19,
   "metadata": {
    "collapsed": false
   },
   "outputs": [
    {
     "data": {
      "image/png": "[encoded data removed]",
      "text/latex": [
       "$$- L_{1} l_{2} m_{1} \\operatorname{sin}\\left(q_{2}\\right) \\dot{q}_{1} \\dot{q}_{2} + \\left(J_{2} + l_{2}^{2} m_{1}\\right) \\ddot{q}_{2} + \\left(L_{1} l_{2} m_{1} \\operatorname{cos}\\left(q_{2}\\right) + l_{2}^{2} m_{1}\\right) \\ddot{q}_{1}$$"
      ],
      "text/plain": [
       "                            ⎛       2   ⎞       ⎛                     2   ⎞   \n",
       "-L₁⋅l₂⋅m₁⋅sin(q₂)⋅q₁̇⋅q₂̇ + ⎝J₂ + l₂ ⋅m₁⎠⋅q₂̈ + ⎝L₁⋅l₂⋅m₁⋅cos(q₂) + l₂ ⋅m₁⎠⋅q₁\n",
       "\n",
       " \n",
       "̈"
      ]
     },
     "execution_count": 19,
     "metadata": {},
     "output_type": "execute_result"
    }
   ],
   "source": [
    "(L.diff(q2.diff(t)).diff(t)).simplify().expand().collect(q1.diff(t).diff(t)).collect(q2.diff(t).diff(t))"
   ]
  },
  {
   "cell_type": "code",
   "execution_count": 20,
   "metadata": {
    "collapsed": false
   },
   "outputs": [
    {
     "data": {
      "image/png": "[encoded data removed]",
      "text/latex": [
       "$$- L_{1} l_{2} m_{1} \\operatorname{sin}\\left(q_{2}\\right) \\left(\\dot{q}_{1}\\right)^{2} - L_{1} l_{2} m_{1} \\operatorname{sin}\\left(q_{2}\\right) \\dot{q}_{1} \\dot{q}_{2} - g l_{2} m_{2} \\operatorname{cos}\\left(q_{1} + q_{2}\\right)$$"
      ],
      "text/plain": [
       "                      2                                                  \n",
       "- L₁⋅l₂⋅m₁⋅sin(q₂)⋅q₁̇  - L₁⋅l₂⋅m₁⋅sin(q₂)⋅q₁̇⋅q₂̇ - g⋅l₂⋅m₂⋅cos(q₁ + q₂)"
      ]
     },
     "execution_count": 20,
     "metadata": {},
     "output_type": "execute_result"
    }
   ],
   "source": [
    "(L.diff(q2)).simplify().expand().collect(q1.diff(t).diff(t)).collect(q2.diff(t).diff(t))"
   ]
  },
  {
   "cell_type": "markdown",
   "metadata": {},
   "source": [
    "\n",
    "\n",
    "\n"
   ]
  },
  {
   "cell_type": "code",
   "execution_count": 21,
   "metadata": {
    "collapsed": true
   },
   "outputs": [],
   "source": [
    "τ1 = (L.diff(q1.diff(t)).diff(t) - L.diff(q1)).simplify().expand().collect(q1.diff(t).diff(t)).collect(q2.diff(t).diff(t))"
   ]
  },
  {
   "cell_type": "code",
   "execution_count": 22,
   "metadata": {
    "collapsed": true
   },
   "outputs": [],
   "source": [
    "τ2 = (L.diff(q2.diff(t)).diff(t) - L.diff(q2)).simplify().expand().collect(q1.diff(t).diff(t)).collect(q2.diff(t).diff(t))"
   ]
  },
  {
   "cell_type": "code",
   "execution_count": 23,
   "metadata": {
    "collapsed": false
   },
   "outputs": [
    {
     "data": {
      "image/png": "[encoded data removed]",
      "text/latex": [
       "$$L_{1} g m_{2} \\operatorname{cos}\\left(q_{1}\\right) - 2 L_{1} l_{2} m_{1} \\operatorname{sin}\\left(q_{2}\\right) \\dot{q}_{1} \\dot{q}_{2} - L_{1} l_{2} m_{1} \\operatorname{sin}\\left(q_{2}\\right) \\left(\\dot{q}_{2}\\right)^{2} + g l_{1} m_{1} \\operatorname{cos}\\left(q_{1}\\right) + g l_{2} m_{2} \\operatorname{cos}\\left(q_{1} + q_{2}\\right) + \\left(L_{1} l_{2} m_{1} \\operatorname{cos}\\left(q_{2}\\right) + l_{2}^{2} m_{1}\\right) \\ddot{q}_{2} + \\left(J_{1} + L_{1}^{2} m_{1} + 2 L_{1} l_{2} m_{1} \\operatorname{cos}\\left(q_{2}\\right) + l_{1}^{2} m_{1} + l_{2}^{2} m_{1}\\right) \\ddot{q}_{1}$$"
      ],
      "text/plain": [
       "                                                                   2          \n",
       "L₁⋅g⋅m₂⋅cos(q₁) - 2⋅L₁⋅l₂⋅m₁⋅sin(q₂)⋅q₁̇⋅q₂̇ - L₁⋅l₂⋅m₁⋅sin(q₂)⋅q₂̇  + g⋅l₁⋅m₁\n",
       "\n",
       "                                  ⎛                     2   ⎞       ⎛       2 \n",
       "⋅cos(q₁) + g⋅l₂⋅m₂⋅cos(q₁ + q₂) + ⎝L₁⋅l₂⋅m₁⋅cos(q₂) + l₂ ⋅m₁⎠⋅q₂̈ + ⎝J₁ + L₁ ⋅\n",
       "\n",
       "                            2        2   ⎞    \n",
       "m₁ + 2⋅L₁⋅l₂⋅m₁⋅cos(q₂) + l₁ ⋅m₁ + l₂ ⋅m₁⎠⋅q₁̈"
      ]
     },
     "execution_count": 23,
     "metadata": {},
     "output_type": "execute_result"
    }
   ],
   "source": [
    "τ1"
   ]
  },
  {
   "cell_type": "code",
   "execution_count": 24,
   "metadata": {
    "collapsed": false
   },
   "outputs": [
    {
     "data": {
      "image/png": "[encoded data removed]",
      "text/latex": [
       "$$L_{1} l_{2} m_{1} \\operatorname{sin}\\left(q_{2}\\right) \\left(\\dot{q}_{1}\\right)^{2} + g l_{2} m_{2} \\operatorname{cos}\\left(q_{1} + q_{2}\\right) + \\left(J_{2} + l_{2}^{2} m_{1}\\right) \\ddot{q}_{2} + \\left(L_{1} l_{2} m_{1} \\operatorname{cos}\\left(q_{2}\\right) + l_{2}^{2} m_{1}\\right) \\ddot{q}_{1}$$"
      ],
      "text/plain": [
       "                    2                          ⎛       2   ⎞       ⎛          \n",
       "L₁⋅l₂⋅m₁⋅sin(q₂)⋅q₁̇  + g⋅l₂⋅m₂⋅cos(q₁ + q₂) + ⎝J₂ + l₂ ⋅m₁⎠⋅q₂̈ + ⎝L₁⋅l₂⋅m₁⋅c\n",
       "\n",
       "           2   ⎞    \n",
       "os(q₂) + l₂ ⋅m₁⎠⋅q₁̈"
      ]
     },
     "execution_count": 24,
     "metadata": {},
     "output_type": "execute_result"
    }
   ],
   "source": [
    "τ2"
   ]
  },
  {
   "cell_type": "code",
   "execution_count": 25,
   "metadata": {
    "collapsed": true
   },
   "outputs": [],
   "source": [
    "from scipy.integrate import odeint\n",
    "from numpy import linspace"
   ]
  },
  {
   "cell_type": "code",
   "execution_count": 26,
   "metadata": {
    "collapsed": true
   },
   "outputs": [],
   "source": [
    "def pendulo_doble(estado, tiempo):\n",
    "    # Se importan funciones necesarias\n",
    "    from numpy import sin, cos, matrix\n",
    "    # Se desenvuelven variables del estado y tiempo\n",
    "    q1, q2, q̇1, q̇2 = estado\n",
    "    t = tiempo\n",
    "    \n",
    "    # Se declaran constantes del sistema\n",
    "    m1, m2 = 1, 1\n",
    "    l1, l2 = 0.5, 0.5\n",
    "    L1, L2 = 1, 1\n",
    "    g = 9.81\n",
    "    \n",
    "    # Se declaran constantes del control\n",
    "    kp1, kp2 = -30, -60\n",
    "    kv1, kv2 = -20, -20\n",
    "    \n",
    "    # Señales de control nulas\n",
    "    tau1, tau2 = 0, 0\n",
    "    \n",
    "    # Posiciones a alcanzar\n",
    "    qd1, qd2 = 1, 1\n",
    "    \n",
    "    # Se declaran señales de control del sistema\n",
    "    #tau1 = kp1*(q1 - qd1) + kv1*q̇1\n",
    "    #tau2 = kp2*(q2 - qd2) + kv2*q̇2\n",
    "    \n",
    "    # Se calculan algunos terminos comunes\n",
    "    ϕ1 = m1*l1**2\n",
    "    ϕ2 = m1*l1*l2\n",
    "    ϕ3 = m1*l2**2\n",
    "    \n",
    "    # Se calculan las matrices de masas, Coriolis,\n",
    "    # y vectores de gravedad, control, posicion y velocidad\n",
    "    M = matrix([[2*ϕ1 + 2*ϕ2*cos(q2) + ϕ3, ϕ2*cos(q2) + ϕ3],\n",
    "                [ϕ2*cos(q2) + ϕ3, ϕ3]])\n",
    "    C = matrix([[-2*ϕ2*sin(q2)*q̇2, -ϕ2*sin(q2)*q̇2], [ϕ2*sin(q2)*q̇1, 0]])\n",
    "    G = matrix([[m1*l1*cos(q1) + m2*l1*cos(q1) + m2*l2*cos(q1 + q2)], [m2*l2*cos(q1 + q2)]])\n",
    "    Tau = matrix([[tau1], [tau2]])\n",
    "    q = matrix([[q1], [q2]])\n",
    "    q̇ = matrix([[q̇1], [q̇2]])\n",
    "    \n",
    "    # Se calcula la derivada del estado del sistema\n",
    "    qp1 = q̇1\n",
    "    qp2 = q̇2\n",
    "    \n",
    "    qpp = M.I*(Tau - C*q̇ - G)\n",
    "    qpp1, qpp2 = qpp.tolist()\n",
    "    \n",
    "    return [qp1, qp2, qpp1[0], qpp2[0]]"
   ]
  },
  {
   "cell_type": "code",
   "execution_count": 27,
   "metadata": {
    "collapsed": false
   },
   "outputs": [],
   "source": [
    "t = linspace(0, 10, 1000)\n",
    "estados_simulados = odeint(func = pendulo_doble, y0  = [0, 0, 0, 0], t = t)"
   ]
  },
  {
   "cell_type": "code",
   "execution_count": 28,
   "metadata": {
    "collapsed": true
   },
   "outputs": [],
   "source": [
    "q1, q2, q̇1, q̇2 = list(zip(*estados_simulados.tolist()))"
   ]
  },
  {
   "cell_type": "code",
   "execution_count": 29,
   "metadata": {
    "collapsed": true
   },
   "outputs": [],
   "source": [
    "%matplotlib notebook\n",
    "from matplotlib.pyplot import plot, style, figure\n",
    "from mpl_toolkits.mplot3d import Axes3D\n",
    "style.use(\"ggplot\")"
   ]
  },
  {
   "cell_type": "code",
   "execution_count": 30,
   "metadata": {
    "collapsed": false
   },
   "outputs": [
    {
     "data": {
      "application/javascript": [
       "/* Put everything inside the global mpl namespace */\n",
       "window.mpl = {};\n",
       "\n",
       "mpl.get_websocket_type = function() {\n",
       "    if (typeof(WebSocket) !== 'undefined') {\n",
       "        return WebSocket;\n",
       "    } else if (typeof(MozWebSocket) !== 'undefined') {\n",
       "        return MozWebSocket;\n",
       "    } else {\n",
       "        alert('Your browser does not have WebSocket support.' +\n",
       "              'Please try Chrome, Safari or Firefox ≥ 6. ' +\n",
       "              'Firefox 4 and 5 are also supported but you ' +\n",
       "              'have to enable WebSockets in about:config.');\n",
       "    };\n",
       "}\n",
       "\n",
       "mpl.figure = function(figure_id, websocket, ondownload, parent_element) {\n",
       "    this.id = figure_id;\n",
       "\n",
       "    this.ws = websocket;\n",
       "\n",
       "    this.supports_binary = (this.ws.binaryType != undefined);\n",
       "\n",
       "    if (!this.supports_binary) {\n",
       "        var warnings = document.getElementById(\"mpl-warnings\");\n",
       "        if (warnings) {\n",
       "            warnings.style.display = 'block';\n",
       "            warnings.textContent = (\n",
       "                \"This browser does not support binary websocket messages. \" +\n",
       "                    \"Performance may be slow.\");\n",
       "        }\n",
       "    }\n",
       "\n",
       "    this.imageObj = new Image();\n",
       "\n",
       "    this.context = undefined;\n",
       "    this.message = undefined;\n",
       "    this.canvas = undefined;\n",
       "    this.rubberband_canvas = undefined;\n",
       "    this.rubberband_context = undefined;\n",
       "    this.format_dropdown = undefined;\n",
       "\n",
       "    this.image_mode = 'full';\n",
       "\n",
       "    this.root = $('<div/>');\n",
       "    this._root_extra_style(this.root)\n",
       "    this.root.attr('style', 'display: inline-block');\n",
       "\n",
       "    $(parent_element).append(this.root);\n",
       "\n",
       "    this._init_header(this);\n",
       "    this._init_canvas(this);\n",
       "    this._init_toolbar(this);\n",
       "\n",
       "    var fig = this;\n",
       "\n",
       "    this.waiting = false;\n",
       "\n",
       "    this.ws.onopen =  function () {\n",
       "            fig.send_message(\"supports_binary\", {value: fig.supports_binary});\n",
       "            fig.send_message(\"send_image_mode\", {});\n",
       "            fig.send_message(\"refresh\", {});\n",
       "        }\n",
       "\n",
       "    this.imageObj.onload = function() {\n",
       "            if (fig.image_mode == 'full') {\n",
       "                // Full images could contain transparency (where diff images\n",
       "                // almost always do), so we need to clear the canvas so that\n",
       "                // there is no ghosting.\n",
       "                fig.context.clearRect(0, 0, fig.canvas.width, fig.canvas.height);\n",
       "            }\n",
       "            fig.context.drawImage(fig.imageObj, 0, 0);\n",
       "            fig.waiting = false;\n",
       "        };\n",
       "\n",
       "    this.imageObj.onunload = function() {\n",
       "        this.ws.close();\n",
       "    }\n",
       "\n",
       "    this.ws.onmessage = this._make_on_message_function(this);\n",
       "\n",
       "    this.ondownload = ondownload;\n",
       "}\n",
       "\n",
       "mpl.figure.prototype._init_header = function() {\n",
       "    var titlebar = $(\n",
       "        '<div class=\"ui-dialog-titlebar ui-widget-header ui-corner-all ' +\n",
       "        'ui-helper-clearfix\"/>');\n",
       "    var titletext = $(\n",
       "        '<div class=\"ui-dialog-title\" style=\"width: 100%; ' +\n",
       "        'text-align: center; padding: 3px;\"/>');\n",
       "    titlebar.append(titletext)\n",
       "    this.root.append(titlebar);\n",
       "    this.header = titletext[0];\n",
       "}\n",
       "\n",
       "\n",
       "\n",
       "mpl.figure.prototype._canvas_extra_style = function(canvas_div) {\n",
       "\n",
       "}\n",
       "\n",
       "\n",
       "mpl.figure.prototype._root_extra_style = function(canvas_div) {\n",
       "\n",
       "}\n",
       "\n",
       "mpl.figure.prototype._init_canvas = function() {\n",
       "    var fig = this;\n",
       "\n",
       "    var canvas_div = $('<div/>');\n",
       "\n",
       "    canvas_div.attr('style', 'position: relative; clear: both; outline: 0');\n",
       "\n",
       "    function canvas_keyboard_event(event) {\n",
       "        return fig.key_event(event, event['data']);\n",
       "    }\n",
       "\n",
       "    canvas_div.keydown('key_press', canvas_keyboard_event);\n",
       "    canvas_div.keyup('key_release', canvas_keyboard_event);\n",
       "    this.canvas_div = canvas_div\n",
       "    this._canvas_extra_style(canvas_div)\n",
       "    this.root.append(canvas_div);\n",
       "\n",
       "    var canvas = $('<canvas/>');\n",
       "    canvas.addClass('mpl-canvas');\n",
       "    canvas.attr('style', \"left: 0; top: 0; z-index: 0; outline: 0\")\n",
       "\n",
       "    this.canvas = canvas[0];\n",
       "    this.context = canvas[0].getContext(\"2d\");\n",
       "\n",
       "    var rubberband = $('<canvas/>');\n",
       "    rubberband.attr('style', \"position: absolute; left: 0; top: 0; z-index: 1;\")\n",
       "\n",
       "    var pass_mouse_events = true;\n",
       "\n",
       "    canvas_div.resizable({\n",
       "        start: function(event, ui) {\n",
       "            pass_mouse_events = false;\n",
       "        },\n",
       "        resize: function(event, ui) {\n",
       "            fig.request_resize(ui.size.width, ui.size.height);\n",
       "        },\n",
       "        stop: function(event, ui) {\n",
       "            pass_mouse_events = true;\n",
       "            fig.request_resize(ui.size.width, ui.size.height);\n",
       "        },\n",
       "    });\n",
       "\n",
       "    function mouse_event_fn(event) {\n",
       "        if (pass_mouse_events)\n",
       "            return fig.mouse_event(event, event['data']);\n",
       "    }\n",
       "\n",
       "    rubberband.mousedown('button_press', mouse_event_fn);\n",
       "    rubberband.mouseup('button_release', mouse_event_fn);\n",
       "    // Throttle sequential mouse events to 1 every 20ms.\n",
       "    rubberband.mousemove('motion_notify', mouse_event_fn);\n",
       "\n",
       "    rubberband.mouseenter('figure_enter', mouse_event_fn);\n",
       "    rubberband.mouseleave('figure_leave', mouse_event_fn);\n",
       "\n",
       "    canvas_div.on(\"wheel\", function (event) {\n",
       "        event = event.originalEvent;\n",
       "        event['data'] = 'scroll'\n",
       "        if (event.deltaY < 0) {\n",
       "            event.step = 1;\n",
       "        } else {\n",
       "            event.step = -1;\n",
       "        }\n",
       "        mouse_event_fn(event);\n",
       "    });\n",
       "\n",
       "    canvas_div.append(canvas);\n",
       "    canvas_div.append(rubberband);\n",
       "\n",
       "    this.rubberband = rubberband;\n",
       "    this.rubberband_canvas = rubberband[0];\n",
       "    this.rubberband_context = rubberband[0].getContext(\"2d\");\n",
       "    this.rubberband_context.strokeStyle = \"#000000\";\n",
       "\n",
       "    this._resize_canvas = function(width, height) {\n",
       "        // Keep the size of the canvas, canvas container, and rubber band\n",
       "        // canvas in synch.\n",
       "        canvas_div.css('width', width)\n",
       "        canvas_div.css('height', height)\n",
       "\n",
       "        canvas.attr('width', width);\n",
       "        canvas.attr('height', height);\n",
       "\n",
       "        rubberband.attr('width', width);\n",
       "        rubberband.attr('height', height);\n",
       "    }\n",
       "\n",
       "    // Set the figure to an initial 600x600px, this will subsequently be updated\n",
       "    // upon first draw.\n",
       "    this._resize_canvas(600, 600);\n",
       "\n",
       "    // Disable right mouse context menu.\n",
       "    $(this.rubberband_canvas).bind(\"contextmenu\",function(e){\n",
       "        return false;\n",
       "    });\n",
       "\n",
       "    function set_focus () {\n",
       "        canvas.focus();\n",
       "        canvas_div.focus();\n",
       "    }\n",
       "\n",
       "    window.setTimeout(set_focus, 100);\n",
       "}\n",
       "\n",
       "mpl.figure.prototype._init_toolbar = function() {\n",
       "    var fig = this;\n",
       "\n",
       "    var nav_element = $('<div/>')\n",
       "    nav_element.attr('style', 'width: 100%');\n",
       "    this.root.append(nav_element);\n",
       "\n",
       "    // Define a callback function for later on.\n",
       "    function toolbar_event(event) {\n",
       "        return fig.toolbar_button_onclick(event['data']);\n",
       "    }\n",
       "    function toolbar_mouse_event(event) {\n",
       "        return fig.toolbar_button_onmouseover(event['data']);\n",
       "    }\n",
       "\n",
       "    for(var toolbar_ind in mpl.toolbar_items) {\n",
       "        var name = mpl.toolbar_items[toolbar_ind][0];\n",
       "        var tooltip = mpl.toolbar_items[toolbar_ind][1];\n",
       "        var image = mpl.toolbar_items[toolbar_ind][2];\n",
       "        var method_name = mpl.toolbar_items[toolbar_ind][3];\n",
       "\n",
       "        if (!name) {\n",
       "            // put a spacer in here.\n",
       "            continue;\n",
       "        }\n",
       "        var button = $('<button/>');\n",
       "        button.addClass('ui-button ui-widget ui-state-default ui-corner-all ' +\n",
       "                        'ui-button-icon-only');\n",
       "        button.attr('role', 'button');\n",
       "        button.attr('aria-disabled', 'false');\n",
       "        button.click(method_name, toolbar_event);\n",
       "        button.mouseover(tooltip, toolbar_mouse_event);\n",
       "\n",
       "        var icon_img = $('<span/>');\n",
       "        icon_img.addClass('ui-button-icon-primary ui-icon');\n",
       "        icon_img.addClass(image);\n",
       "        icon_img.addClass('ui-corner-all');\n",
       "\n",
       "        var tooltip_span = $('<span/>');\n",
       "        tooltip_span.addClass('ui-button-text');\n",
       "        tooltip_span.html(tooltip);\n",
       "\n",
       "        button.append(icon_img);\n",
       "        button.append(tooltip_span);\n",
       "\n",
       "        nav_element.append(button);\n",
       "    }\n",
       "\n",
       "    var fmt_picker_span = $('<span/>');\n",
       "\n",
       "    var fmt_picker = $('<select/>');\n",
       "    fmt_picker.addClass('mpl-toolbar-option ui-widget ui-widget-content');\n",
       "    fmt_picker_span.append(fmt_picker);\n",
       "    nav_element.append(fmt_picker_span);\n",
       "    this.format_dropdown = fmt_picker[0];\n",
       "\n",
       "    for (var ind in mpl.extensions) {\n",
       "        var fmt = mpl.extensions[ind];\n",
       "        var option = $(\n",
       "            '<option/>', {selected: fmt === mpl.default_extension}).html(fmt);\n",
       "        fmt_picker.append(option)\n",
       "    }\n",
       "\n",
       "    // Add hover states to the ui-buttons\n",
       "    $( \".ui-button\" ).hover(\n",
       "        function() { $(this).addClass(\"ui-state-hover\");},\n",
       "        function() { $(this).removeClass(\"ui-state-hover\");}\n",
       "    );\n",
       "\n",
       "    var status_bar = $('<span class=\"mpl-message\"/>');\n",
       "    nav_element.append(status_bar);\n",
       "    this.message = status_bar[0];\n",
       "}\n",
       "\n",
       "mpl.figure.prototype.request_resize = function(x_pixels, y_pixels) {\n",
       "    // Request matplotlib to resize the figure. Matplotlib will then trigger a resize in the client,\n",
       "    // which will in turn request a refresh of the image.\n",
       "    this.send_message('resize', {'width': x_pixels, 'height': y_pixels});\n",
       "}\n",
       "\n",
       "mpl.figure.prototype.send_message = function(type, properties) {\n",
       "    properties['type'] = type;\n",
       "    properties['figure_id'] = this.id;\n",
       "    this.ws.send(JSON.stringify(properties));\n",
       "}\n",
       "\n",
       "mpl.figure.prototype.send_draw_message = function() {\n",
       "    if (!this.waiting) {\n",
       "        this.waiting = true;\n",
       "        this.ws.send(JSON.stringify({type: \"draw\", figure_id: this.id}));\n",
       "    }\n",
       "}\n",
       "\n",
       "\n",
       "mpl.figure.prototype.handle_save = function(fig, msg) {\n",
       "    var format_dropdown = fig.format_dropdown;\n",
       "    var format = format_dropdown.options[format_dropdown.selectedIndex].value;\n",
       "    fig.ondownload(fig, format);\n",
       "}\n",
       "\n",
       "\n",
       "mpl.figure.prototype.handle_resize = function(fig, msg) {\n",
       "    var size = msg['size'];\n",
       "    if (size[0] != fig.canvas.width || size[1] != fig.canvas.height) {\n",
       "        fig._resize_canvas(size[0], size[1]);\n",
       "        fig.send_message(\"refresh\", {});\n",
       "    };\n",
       "}\n",
       "\n",
       "mpl.figure.prototype.handle_rubberband = function(fig, msg) {\n",
       "    var x0 = msg['x0'];\n",
       "    var y0 = fig.canvas.height - msg['y0'];\n",
       "    var x1 = msg['x1'];\n",
       "    var y1 = fig.canvas.height - msg['y1'];\n",
       "    x0 = Math.floor(x0) + 0.5;\n",
       "    y0 = Math.floor(y0) + 0.5;\n",
       "    x1 = Math.floor(x1) + 0.5;\n",
       "    y1 = Math.floor(y1) + 0.5;\n",
       "    var min_x = Math.min(x0, x1);\n",
       "    var min_y = Math.min(y0, y1);\n",
       "    var width = Math.abs(x1 - x0);\n",
       "    var height = Math.abs(y1 - y0);\n",
       "\n",
       "    fig.rubberband_context.clearRect(\n",
       "        0, 0, fig.canvas.width, fig.canvas.height);\n",
       "\n",
       "    fig.rubberband_context.strokeRect(min_x, min_y, width, height);\n",
       "}\n",
       "\n",
       "mpl.figure.prototype.handle_figure_label = function(fig, msg) {\n",
       "    // Updates the figure title.\n",
       "    fig.header.textContent = msg['label'];\n",
       "}\n",
       "\n",
       "mpl.figure.prototype.handle_cursor = function(fig, msg) {\n",
       "    var cursor = msg['cursor'];\n",
       "    switch(cursor)\n",
       "    {\n",
       "    case 0:\n",
       "        cursor = 'pointer';\n",
       "        break;\n",
       "    case 1:\n",
       "        cursor = 'default';\n",
       "        break;\n",
       "    case 2:\n",
       "        cursor = 'crosshair';\n",
       "        break;\n",
       "    case 3:\n",
       "        cursor = 'move';\n",
       "        break;\n",
       "    }\n",
       "    fig.rubberband_canvas.style.cursor = cursor;\n",
       "}\n",
       "\n",
       "mpl.figure.prototype.handle_message = function(fig, msg) {\n",
       "    fig.message.textContent = msg['message'];\n",
       "}\n",
       "\n",
       "mpl.figure.prototype.handle_draw = function(fig, msg) {\n",
       "    // Request the server to send over a new figure.\n",
       "    fig.send_draw_message();\n",
       "}\n",
       "\n",
       "mpl.figure.prototype.handle_image_mode = function(fig, msg) {\n",
       "    fig.image_mode = msg['mode'];\n",
       "}\n",
       "\n",
       "mpl.figure.prototype.updated_canvas_event = function() {\n",
       "    // Called whenever the canvas gets updated.\n",
       "    this.send_message(\"ack\", {});\n",
       "}\n",
       "\n",
       "// A function to construct a web socket function for onmessage handling.\n",
       "// Called in the figure constructor.\n",
       "mpl.figure.prototype._make_on_message_function = function(fig) {\n",
       "    return function socket_on_message(evt) {\n",
       "        if (evt.data instanceof Blob) {\n",
       "            /* FIXME: We get \"Resource interpreted as Image but\n",
       "             * transferred with MIME type text/plain:\" errors on\n",
       "             * Chrome.  But how to set the MIME type?  It doesn't seem\n",
       "             * to be part of the websocket stream */\n",
       "            evt.data.type = \"image/png\";\n",
       "\n",
       "            /* Free the memory for the previous frames */\n",
       "            if (fig.imageObj.src) {\n",
       "                (window.URL || window.webkitURL).revokeObjectURL(\n",
       "                    fig.imageObj.src);\n",
       "            }\n",
       "\n",
       "            fig.imageObj.src = (window.URL || window.webkitURL).createObjectURL(\n",
       "                evt.data);\n",
       "            fig.updated_canvas_event();\n",
       "            return;\n",
       "        }\n",
       "        else if (typeof evt.data === 'string' && evt.data.slice(0, 21) == \"data:image/png;base64\") {\n",
       "            fig.imageObj.src = evt.data;\n",
       "            fig.updated_canvas_event();\n",
       "            return;\n",
       "        }\n",
       "\n",
       "        var msg = JSON.parse(evt.data);\n",
       "        var msg_type = msg['type'];\n",
       "\n",
       "        // Call the  \"handle_{type}\" callback, which takes\n",
       "        // the figure and JSON message as its only arguments.\n",
       "        try {\n",
       "            var callback = fig[\"handle_\" + msg_type];\n",
       "        } catch (e) {\n",
       "            console.log(\"No handler for the '\" + msg_type + \"' message type: \", msg);\n",
       "            return;\n",
       "        }\n",
       "\n",
       "        if (callback) {\n",
       "            try {\n",
       "                // console.log(\"Handling '\" + msg_type + \"' message: \", msg);\n",
       "                callback(fig, msg);\n",
       "            } catch (e) {\n",
       "                console.log(\"Exception inside the 'handler_\" + msg_type + \"' callback:\", e, e.stack, msg);\n",
       "            }\n",
       "        }\n",
       "    };\n",
       "}\n",
       "\n",
       "// from http://stackoverflow.com/questions/1114465/getting-mouse-location-in-canvas\n",
       "mpl.findpos = function(e) {\n",
       "    //this section is from http://www.quirksmode.org/js/events_properties.html\n",
       "    var targ;\n",
       "    if (!e)\n",
       "        e = window.event;\n",
       "    if (e.target)\n",
       "        targ = e.target;\n",
       "    else if (e.srcElement)\n",
       "        targ = e.srcElement;\n",
       "    if (targ.nodeType == 3) // defeat Safari bug\n",
       "        targ = targ.parentNode;\n",
       "\n",
       "    // jQuery normalizes the pageX and pageY\n",
       "    // pageX,Y are the mouse positions relative to the document\n",
       "    // offset() returns the position of the element relative to the document\n",
       "    var x = e.pageX - $(targ).offset().left;\n",
       "    var y = e.pageY - $(targ).offset().top;\n",
       "\n",
       "    return {\"x\": x, \"y\": y};\n",
       "};\n",
       "\n",
       "mpl.figure.prototype.mouse_event = function(event, name) {\n",
       "    var canvas_pos = mpl.findpos(event)\n",
       "\n",
       "    if (name === 'button_press')\n",
       "    {\n",
       "        this.canvas.focus();\n",
       "        this.canvas_div.focus();\n",
       "    }\n",
       "\n",
       "    var x = canvas_pos.x;\n",
       "    var y = canvas_pos.y;\n",
       "\n",
       "    this.send_message(name, {x: x, y: y, button: event.button,\n",
       "                             step: event.step});\n",
       "\n",
       "    /* This prevents the web browser from automatically changing to\n",
       "     * the text insertion cursor when the button is pressed.  We want\n",
       "     * to control all of the cursor setting manually through the\n",
       "     * 'cursor' event from matplotlib */\n",
       "    event.preventDefault();\n",
       "    return false;\n",
       "}\n",
       "\n",
       "mpl.figure.prototype._key_event_extra = function(event, name) {\n",
       "    // Handle any extra behaviour associated with a key event\n",
       "}\n",
       "\n",
       "mpl.figure.prototype.key_event = function(event, name) {\n",
       "\n",
       "    // Prevent repeat events\n",
       "    if (name == 'key_press')\n",
       "    {\n",
       "        if (event.which === this._key)\n",
       "            return;\n",
       "        else\n",
       "            this._key = event.which;\n",
       "    }\n",
       "    if (name == 'key_release')\n",
       "        this._key = null;\n",
       "\n",
       "    var value = '';\n",
       "    if (event.ctrlKey && event.which != 17)\n",
       "        value += \"ctrl+\";\n",
       "    if (event.altKey && event.which != 18)\n",
       "        value += \"alt+\";\n",
       "    if (event.shiftKey && event.which != 16)\n",
       "        value += \"shift+\";\n",
       "\n",
       "    value += 'k';\n",
       "    value += event.which.toString();\n",
       "\n",
       "    this._key_event_extra(event, name);\n",
       "\n",
       "    this.send_message(name, {key: value});\n",
       "    return false;\n",
       "}\n",
       "\n",
       "mpl.figure.prototype.toolbar_button_onclick = function(name) {\n",
       "    if (name == 'download') {\n",
       "        this.handle_save(this, null);\n",
       "    } else {\n",
       "        this.send_message(\"toolbar_button\", {name: name});\n",
       "    }\n",
       "};\n",
       "\n",
       "mpl.figure.prototype.toolbar_button_onmouseover = function(tooltip) {\n",
       "    this.message.textContent = tooltip;\n",
       "};\n",
       "mpl.toolbar_items = [[\"Home\", \"Reset original view\", \"fa fa-home icon-home\", \"home\"], [\"Back\", \"Back to  previous view\", \"fa fa-arrow-left icon-arrow-left\", \"back\"], [\"Forward\", \"Forward to next view\", \"fa fa-arrow-right icon-arrow-right\", \"forward\"], [\"\", \"\", \"\", \"\"], [\"Pan\", \"Pan axes with left mouse, zoom with right\", \"fa fa-arrows icon-move\", \"pan\"], [\"Zoom\", \"Zoom to rectangle\", \"fa fa-square-o icon-check-empty\", \"zoom\"], [\"\", \"\", \"\", \"\"], [\"Download\", \"Download plot\", \"fa fa-floppy-o icon-save\", \"download\"]];\n",
       "\n",
       "mpl.extensions = [\"eps\", \"jpeg\", \"pdf\", \"png\", \"ps\", \"raw\", \"svg\", \"tif\"];\n",
       "\n",
       "mpl.default_extension = \"png\";var comm_websocket_adapter = function(comm) {\n",
       "    // Create a \"websocket\"-like object which calls the given IPython comm\n",
       "    // object with the appropriate methods. Currently this is a non binary\n",
       "    // socket, so there is still some room for performance tuning.\n",
       "    var ws = {};\n",
       "\n",
       "    ws.close = function() {\n",
       "        comm.close()\n",
       "    };\n",
       "    ws.send = function(m) {\n",
       "        //console.log('sending', m);\n",
       "        comm.send(m);\n",
       "    };\n",
       "    // Register the callback with on_msg.\n",
       "    comm.on_msg(function(msg) {\n",
       "        //console.log('receiving', msg['content']['data'], msg);\n",
       "        // Pass the mpl event to the overriden (by mpl) onmessage function.\n",
       "        ws.onmessage(msg['content']['data'])\n",
       "    });\n",
       "    return ws;\n",
       "}\n",
       "\n",
       "mpl.mpl_figure_comm = function(comm, msg) {\n",
       "    // This is the function which gets called when the mpl process\n",
       "    // starts-up an IPython Comm through the \"matplotlib\" channel.\n",
       "\n",
       "    var id = msg.content.data.id;\n",
       "    // Get hold of the div created by the display call when the Comm\n",
       "    // socket was opened in Python.\n",
       "    var element = $(\"#\" + id);\n",
       "    var ws_proxy = comm_websocket_adapter(comm)\n",
       "\n",
       "    function ondownload(figure, format) {\n",
       "        window.open(figure.imageObj.src);\n",
       "    }\n",
       "\n",
       "    var fig = new mpl.figure(id, ws_proxy,\n",
       "                           ondownload,\n",
       "                           element.get(0));\n",
       "\n",
       "    // Call onopen now - mpl needs it, as it is assuming we've passed it a real\n",
       "    // web socket which is closed, not our websocket->open comm proxy.\n",
       "    ws_proxy.onopen();\n",
       "\n",
       "    fig.parent_element = element.get(0);\n",
       "    fig.cell_info = mpl.find_output_cell(\"<div id='\" + id + \"'></div>\");\n",
       "    if (!fig.cell_info) {\n",
       "        console.error(\"Failed to find cell for figure\", id, fig);\n",
       "        return;\n",
       "    }\n",
       "\n",
       "    var output_index = fig.cell_info[2]\n",
       "    var cell = fig.cell_info[0];\n",
       "\n",
       "};\n",
       "\n",
       "mpl.figure.prototype.handle_close = function(fig, msg) {\n",
       "    // Update the output cell to use the data from the current canvas.\n",
       "    fig.push_to_output();\n",
       "    var dataURL = fig.canvas.toDataURL();\n",
       "    // Re-enable the keyboard manager in IPython - without this line, in FF,\n",
       "    // the notebook keyboard shortcuts fail.\n",
       "    IPython.keyboard_manager.enable()\n",
       "    $(fig.parent_element).html('<img src=\"' + dataURL + '\">');\n",
       "    fig.send_message('closing', {});\n",
       "    fig.ws.close()\n",
       "}\n",
       "\n",
       "mpl.figure.prototype.push_to_output = function(remove_interactive) {\n",
       "    // Turn the data on the canvas into data in the output cell.\n",
       "    var dataURL = this.canvas.toDataURL();\n",
       "    this.cell_info[1]['text/html'] = '<img src=\"' + dataURL + '\">';\n",
       "}\n",
       "\n",
       "mpl.figure.prototype.updated_canvas_event = function() {\n",
       "    // Tell IPython that the notebook contents must change.\n",
       "    IPython.notebook.set_dirty(true);\n",
       "    this.send_message(\"ack\", {});\n",
       "    var fig = this;\n",
       "    // Wait a second, then push the new image to the DOM so\n",
       "    // that it is saved nicely (might be nice to debounce this).\n",
       "    setTimeout(function () { fig.push_to_output() }, 1000);\n",
       "}\n",
       "\n",
       "mpl.figure.prototype._init_toolbar = function() {\n",
       "    var fig = this;\n",
       "\n",
       "    var nav_element = $('<div/>')\n",
       "    nav_element.attr('style', 'width: 100%');\n",
       "    this.root.append(nav_element);\n",
       "\n",
       "    // Define a callback function for later on.\n",
       "    function toolbar_event(event) {\n",
       "        return fig.toolbar_button_onclick(event['data']);\n",
       "    }\n",
       "    function toolbar_mouse_event(event) {\n",
       "        return fig.toolbar_button_onmouseover(event['data']);\n",
       "    }\n",
       "\n",
       "    for(var toolbar_ind in mpl.toolbar_items){\n",
       "        var name = mpl.toolbar_items[toolbar_ind][0];\n",
       "        var tooltip = mpl.toolbar_items[toolbar_ind][1];\n",
       "        var image = mpl.toolbar_items[toolbar_ind][2];\n",
       "        var method_name = mpl.toolbar_items[toolbar_ind][3];\n",
       "\n",
       "        if (!name) { continue; };\n",
       "\n",
       "        var button = $('<button class=\"btn btn-default\" href=\"#\" title=\"' + name + '\"><i class=\"fa ' + image + ' fa-lg\"></i></button>');\n",
       "        button.click(method_name, toolbar_event);\n",
       "        button.mouseover(tooltip, toolbar_mouse_event);\n",
       "        nav_element.append(button);\n",
       "    }\n",
       "\n",
       "    // Add the status bar.\n",
       "    var status_bar = $('<span class=\"mpl-message\" style=\"text-align:right; float: right;\"/>');\n",
       "    nav_element.append(status_bar);\n",
       "    this.message = status_bar[0];\n",
       "\n",
       "    // Add the close button to the window.\n",
       "    var buttongrp = $('<div class=\"btn-group inline pull-right\"></div>');\n",
       "    var button = $('<button class=\"btn btn-mini btn-danger\" href=\"#\" title=\"Close figure\"><i class=\"fa fa-times icon-remove icon-large\"></i></button>');\n",
       "    button.click(function (evt) { fig.handle_close(fig, {}); } );\n",
       "    button.mouseover('Close figure', toolbar_mouse_event);\n",
       "    buttongrp.append(button);\n",
       "    var titlebar = this.root.find($('.ui-dialog-titlebar'));\n",
       "    titlebar.prepend(buttongrp);\n",
       "}\n",
       "\n",
       "\n",
       "mpl.figure.prototype._canvas_extra_style = function(el){\n",
       "    // this is important to make the div 'focusable\n",
       "    el.attr('tabindex', 0)\n",
       "    // reach out to IPython and tell the keyboard manager to turn it's self\n",
       "    // off when our div gets focus\n",
       "\n",
       "    // location in version 3\n",
       "    if (IPython.notebook.keyboard_manager) {\n",
       "        IPython.notebook.keyboard_manager.register_events(el);\n",
       "    }\n",
       "    else {\n",
       "        // location in version 2\n",
       "        IPython.keyboard_manager.register_events(el);\n",
       "    }\n",
       "\n",
       "}\n",
       "\n",
       "mpl.figure.prototype._key_event_extra = function(event, name) {\n",
       "    var manager = IPython.notebook.keyboard_manager;\n",
       "    if (!manager)\n",
       "        manager = IPython.keyboard_manager;\n",
       "\n",
       "    // Check for shift+enter\n",
       "    if (event.shiftKey && event.which == 13) {\n",
       "        this.canvas_div.blur();\n",
       "        event.shiftKey = false;\n",
       "        // Send a \"J\" for go to next cell\n",
       "        event.which = 74;\n",
       "        event.keyCode = 74;\n",
       "        manager.command_mode();\n",
       "        manager.handle_keydown(event);\n",
       "    }\n",
       "}\n",
       "\n",
       "mpl.figure.prototype.handle_save = function(fig, msg) {\n",
       "    fig.ondownload(fig, null);\n",
       "}\n",
       "\n",
       "\n",
       "mpl.find_output_cell = function(html_output) {\n",
       "    // Return the cell and output element which can be found *uniquely* in the notebook.\n",
       "    // Note - this is a bit hacky, but it is done because the \"notebook_saving.Notebook\"\n",
       "    // IPython event is triggered only after the cells have been serialised, which for\n",
       "    // our purposes (turning an active figure into a static one), is too late.\n",
       "    var cells = IPython.notebook.get_cells();\n",
       "    var ncells = cells.length;\n",
       "    for (var i=0; i<ncells; i++) {\n",
       "        var cell = cells[i];\n",
       "        if (cell.cell_type === 'code'){\n",
       "            for (var j=0; j<cell.output_area.outputs.length; j++) {\n",
       "                var data = cell.output_area.outputs[j];\n",
       "                if (data.data) {\n",
       "                    // IPython >= 3 moved mimebundle to data attribute of output\n",
       "                    data = data.data;\n",
       "                }\n",
       "                if (data['text/html'] == html_output) {\n",
       "                    return [cell, data, j];\n",
       "                }\n",
       "            }\n",
       "        }\n",
       "    }\n",
       "}\n",
       "\n",
       "// Register the function which deals with the matplotlib target/channel.\n",
       "// The kernel may be null if the page has been refreshed.\n",
       "if (IPython.notebook.kernel != null) {\n",
       "    IPython.notebook.kernel.comm_manager.register_target('matplotlib', mpl.mpl_figure_comm);\n",
       "}\n"
      ],
      "text/plain": [
       "<IPython.core.display.Javascript object>"
      ]
     },
     "metadata": {},
     "output_type": "display_data"
    },
    {
     "data": {
      "text/html": [
       "<img src=\"data:image/png;base64,iVBORw0KGgoAAAANSUhEUgAAAoAAAAKACAYAAAAMzckjAAAAAXNSR0IArs4c6QAAQABJREFUeAHs3QecVNX1wPHzBnbpSy8LSBNUFLCDqNgVewVsMZbEkBhjT0wxiSVqNBr/JtFINLZEI6BG7NiwAGJDAUGxAVKWXpa+wLz/OU+WLLCzzE59787vfj7K7JT37v3e2Z0z9917rggFAQQQQAABBBBAAAEEEEAAAQQQQAABBBBAAAEEEEAAAQQQQAABBBBAAAEEEEAAAQQQQAABBBBAAAEEEEAAAQQQQAABBBBAAAEEEEAAAQQQQAABBBBAAAEEEEAAAQQQQAABBBBAAAEEEEAAAQQQQAABBBBAAAEEEEAAAQQQQAABBBBAAAEEEEAAAQQQQAABBBBAAAEEEEAAAQQQQAABBBBAAAEEEEAAAQQQQAABBBBAAAEEEEAAAQQQQAABBBBAAAEEEEAAAQQQQAABBBBAAAEEEEAAAQQQQAABBBBAAAEEEEAAAQQQQAABBBBAAAEEEEAAAQQQQAABBBBAAAEEEEAAAQQQQAABBBBAAAEEEEAAAQQQQAABBBBAAAEEEEAAAQQQQAABBBBAAAEEEEAAAQQQQAABBBBAAAEEEEAAAQQQQAABBBBAAAEEEEAAAQQQQAABBBBAAAEEEEAAAQQQQAABBBBAAAEEEEAAAQQQQAABBBBAAAEEEEAAAQQQQAABBBBAAAEEEEAAAQQQQAABBBBAAAEEEEAAAQQQQAABBBBAAAEEEEAAAQQQQAABBBBAAAEEEEAAAQQQQAABBBBAAAEEEEAAAQQQQAABBBBAAAEEEEAAAQQQQAABBBBAAAEEEEAAAQQQQAABBBBAAAEEEEAAAQQQQAABBBBAAAEEEEAAAQQQQAABBBBAAAEEEEAAAQQQQAABBBBAAAEEEEAAAQQQQAABBBBAAAEEEEAAAQQQQAABBBBAAAEEEEAAAQQQQAABBBBAAAEEEEAAAQQQQAABBBBAAAEEEEAAAQQQQAABBBBAAAEEEEAAAQQQQAABBBBAAAEEEEAAAQQQQAABBBBAAAEEEEAAAQQQQAABBBBAAAEEEEAAAQQQQAABBBBAAAEEEEAAAQQQQAABBBBAAAEEEEAAAQQQQAABBBBAAAEEEEAAAQQQQAABBBBAAAEEEEAAAQQQQAABBBBAICICXkTqmbNqDho06ELP8/6pJzx15MiRz+bsxJwIAQQQQAABBBDIkUAsR+eJxGnOOuusLhr8/VAr+246FR4yZMjAdF7PazMjQD9kxjHdo9AP6Qpm7vX0ReYs0zkS/ZCOXuZeW+j9QAC4+b10/fXXxzZt2nR/LBb7md5Vkc5bLB6PEwCmA5ih19IPGYJM8zD0Q5qAGXw5fZFBzDQORT+kgZfBlxZ6PxAAbn4zTZs27Srf98cOHz58YgbfXxwKAQQQQAABBBAInUDd0NUoDxU688wze+k3gdMXL158SOXpNRjc4fzIzc9pr69ZWfk6+3fo0KHF+lhJ1fu4nXsB+iH35tWdkX6oTiU/99EX+XHf9qz0w7Yi+fn5mmuuaWSf41r8/NQgv2fdYZCT3+rl5uw6D+DH+ib4nZ5t/eYzttN/y+2+J598cljVWticgcph486dOze64447flT1cW4jgAACCCCAQDQENAj8x6xZs1ZbbXUK2OgRI0aMjkbN068lAWA1hoMHDx6jd9+1o1XAm0f5VsyfP1/09pYjNWnSRFau3GpQcMtj3MidAP2QO+uazkQ/1KST28foi9x6Jzob/ZBIJnf366iftGtnYz3SVG+X5+7M4TkTl4Az0BcW/FUNAO2Q2/6cgdNwiBQE6IcU0LLwEvohC6gpHpK+SBEuwy+jHzIMyuFqLUAAWA2ZjvwdXs3d3IUAAggggAACCDghwCpgJ7qRRiCAAAIIIIAAAskLEAAmb8UzEUAAAQQQQAABJwQIAJ3oRhqBAAIIIIAAAggkL8AcwOSteCYCCCCAAAKRFigpKbwUteXlBbnId4fvUwLAHRLxBAQQQAABBNwRKKSAqBAD3mTfqVwCTlaK5yGAAAIIIIAAAo4IEAA60pE0AwEEEEAAAQQQSFaAADBZKZ6HAAIIIIAAAgg4IkAA6EhH0gwEEEAAAQQQQCBZAQLAZKV4HgIIIIAAAggg4IgAAaAjHUkzEEAAAQQQQACBZAVIA5OsFM9DAAEEEEAAgZwLrF27Vu644w7p3r27VFRUyMcffyx33XWXeJ6X87q4dEICQJd6k7YggAACCCCQpoDv+yLr1qZ5lCovr98grWDtiiuukOOOO05OPfVUef311+X5559P63hValbQNwkAC7r7aTwCCCCAAALbCGjwF7/srG3uTP3H2F+eEGnQMKUDTJ48Wd577z0ZNmxY8Prp06dLv379UjoWL9pagABwaw9+QgABBBBAoLAFdMQuCNoypaDHS7WMHz9e+vfvv+Xl9vOZZ54pY8aMkUcffVQeeuihLY9xo3YCBIC18+LZCCCAAAIIOC0QzK1LccQu0zDNmjWT1q1bB4edO3euTJw4Uf7xj39Iw4YN5Z577sn06QrqeASABdXdNBYBBBBAAIHoCJxyyilB0Ddq1CiZNGmSdO7cOQj+otOC8NaUADC8fUPNEEAAAQQQKGiBBg0ayO233x4YLFu2TDZu3FjQHplsPHkAM6nJsRBAAAEEEEAgKwKW/qVv375ZOXYhHpQAsBB7nTYjgAACCCAQIQHL+/faa6/JW2+9JatWrZIRI0ZIWVmZvPLKKxFqRbiqShbFNPpDcyWV6MtX2JswyJu0+VglJSVSXl6expF5aSYE6IdMKKZ/DPohfcNMHYG+yJRkesfJZz/k89zpqaX26kTttYUupaWldtCmersgP7AZAUztPcWrEEAAAQQQQACByAoQAEa266g4AggggAACCCCQmgABYGpuvAoBBBBAAAEEEIisAAFgZLuOiiOAAAIIIIAAAqkJEACm5sarEEAAAQQQQACByAoQAEa266g4AggggAACCCCQmgABYGpuvAoBBBBAAAEEEIisAAFgZLuOiiOAAAIIIIAAAqkJEACm5sarEEAAAQQQQACByAoQAEa266g4AggggAACCCCQmgABYGpuvAoBBBBAAAEEEIisAAFgZLuOiiOAAAIIIIAAAqkJ1E3tZbwKAQQQQAABBBDIvsDatWvljjvukO7du0tFRYV8/PHHctddd4nnedk/ucNnYATQ4c6laQgggAACCNRWwPd9WbNhU8b+s+OlU6644grp3bu3nH322dKxY0eZO3cuwV86oJtfywhgBhA5BAIIIIAAAq4IrN0Yl7NHfJmx5vxnSA9pWFQnpeNNnjxZ3nvvPRk2bFjw+unTp0u/fv1SOhYv2lqAAHBrD35CAAEEEECgoAUa1I2JBW2ZKna8VMv48eOlf//+W15uPx977LHy4osvysKFC6VOnTpy3nnnbXmcG8kLEAAmb8UzEUAAAQQQcF7A5talOmKXaZxmzZpJ69atg8Papd+JEyfK/vvvL127dpXjjz9eTjjhBDnnnHOCQDDT53b9eASArvcw7UMAAQQQQCCiAqecckoQ9I0aNUomTZoknTt3lssvvzxojS0IadCgAcFfin1LAJgiHC9DAAEEEEAAgewKWIB3++23BydZtmyZbNy4ccsJH3nkEfnjH/+45Wdu1E4g9QvztTsPz0YAAQQQQAABBFIWsPQvffv2DV7/xhtvBJeA7Yd4PJ7yMQv5hYwAFnLv03YEEEAAAQQiIGB5/1577TUpLi4Wywv4wAMPSPPmzSUWi8njjz8egRaEr4pkUUyjTzS3UYm+fEVZWZlUzXNUUlIi5eXlaRyZl2ZCgH7IhGL6x6Af0jfM1BHoi0xJpnecfPZDPs+dnlpqr07UXlvoUlpaagdtqrcL8gObS8Cpvad4FQIIIIAAAgggEFkBAsDIdh0VRwABBBBAAAEEUhMgAEzNjVchgAACCCCAAAKRFSAAjGzXUXEEEEAAAQQQQCA1AQLA1Nx4FQIIIIAAAgggEFkBAsDIdh0VRwABBBBAAAEEUhMgAEzNjVchgAACCCCAAAKRFSAAjGzXUXEEEEAAAQQQQCA1AXYCSc2NVyGAAAIIIBBJAUuOTEGAAJD3AAIIIIAAAgUiwC5VBdLRSTSTS8BJIPEUBBBAAAEEEEDAJQECQJd6k7YggAACCCCAAAJJCHAJuArS4MGDX9Ef2+p/cf1vjf535ciRI9/XfykIIIAAAggggIAzAgSAVbqyuLh40GOPPVZudw0ZMuRU3/cf1pu7288UBBBAAAEEEEDAFQEuAVfpycrgz+7S4K+Z/rOgysPcRAABBBBAAAEEnBBgBHCbbtTLwI/qXYfpf3Xi8fiR2zzMjwgggAACCCCAQOQFCAC36UKd8/d9u2vQoEHfj8ViT+tNLgFvY8SPCCCAAAIIIBBtAS/a1c9u7XU00BaCdNSgcGnlmXRu4EAdGRxoP7do0aJ42LBhP121alXlw8G/OpdQKioqtrqPH3IvQD/k3ry6M9IP1ank5z76Ij/u256VfthWJD8/N27cWIYOHXrP0qVLgw9sHfQZPWLEiNH5qU3uz0oAuNlcg72mderUafTEE0/Ms7s2LwL5kwZ/PRJ1i84TtHTqK8rKymzO4JanWZZ1km1u4cjbDfohb/RbnZh+2Iojrz/QF3nl33Jy+mELRd5ueJ4npaWldv6mejtY/Jm3yuTpxFwC/h98002bNo3UQLCB3rVJA7r5+m3g5P89zC0EEEAAAQQQQMANAQLAzf2oI33f6s1+bnQrrUAAAQQQQAABBBILkAYmsQ2PIIAAAggggAACTgoQADrZrTQKAQQQQAABBBBILEAAmNiGRxBAAAEEEEAAAScFCACd7FYahQACCCCAAAIIJBYgAExswyMIIIAAAggggICTAgSATnYrjUIAAQQQQAABBBILEAAmtuERBBBAAAEEEEDASQECQCe7lUYhgAACCCCAAAKJBQgAE9vwCAIIIIAAAggg4KQAAaCT3UqjEEAAAQQQQACBxAIEgIlteAQBBBBAAAEEEHBSgADQyW6lUQgggAACCCCAQGIBAsDENjyCAAIIIIAAAgg4KUAA6GS30igEEEAAAQQQQCCxAAFgYhseQQABBBBAAAEEnBQgAHSyW2kUAggggAACCCCQWIAAMLENjyCAAAIIIIAAAk4KEAA62a00CgEEEEAAAQQQSCxAAJjYhkcQQAABBBBAAAEnBQgAnexWGoUAAggggAACCCQWIABMbMMjCCCAAAIIIICAkwIEgE52K41CAAEEEEAAAQQSCxAAJrbhEQQQQAABBBBAwEkBAkAnu5VGIYAAAggggAACiQUIABPb8AgCCCCAAAIIIOCkAAGgk91KoxBAAAEEEEAAgcQCBICJbXgEAQQQQAABBBBwUoAA0MlupVEIIIAAAggggEBiAQLAxDY8ggACCCCAAAIIOClAAOhkt9IoBBBAAAEEEEAgsQABYGIbHkEAAQQQQAABBJwUIAB0sltpFAIIIIAAAgggkFiAADCxDY8ggAACCCCAAAJOChAAOtmtNAoBBBBAAAEEEEgsQACY2IZHEEAAAQQQQAABJwUIAJ3sVhqFAAIIIIAAAggkFiAATGzDIwgggAACCCCAgJMCBIBOdiuNQgABBBBAAAEEEgsQACa24REEEEAAAQQQQMBJAQJAJ7uVRiGAAAIIIIAAAokFCAAT2/AIAggggAACCCDgpAABoJPdSqMQQAABBBBAAIHEAgSAiW14BAEEEEAAAQQQcFKAANDJbqVRCCCAAAIIIIBAYgECwMQ2PIIAAggggAACCDgpQADoZLfSKAQQQAABBBBAILEAAWBiGx5BAAEEEEAAAQScFCAAdLJbaRQCCCCAAAIIIJBYgAAwsQ2PIIAAAggggAACTgoQADrZrTQKAQQQQAABBBBILEAAmNiGRxBAAAEEEEAAAScFCACd7FYahQACCCCAAAIIJBYgAExswyMIIIAAAggggICTAgSATnYrjUIAAQQQQAABBBILEAAmtuERBBBAAAEEEEDASYG6TrYqhUYdd9xx9Ro3bjxcX9pT/1ur/y2MxWI/GT58+NcpHI6XIIAAAggggAACoRVgBHDrrrlv5MiRu+p/e3meNyoejz+w9cP8hAACCCCAAAIIRF+AEcDNffjSSy+t15svV3bppk2b3tMRwGsqf+ZfBBBAAAEEEEDAFQFGABP0pI4AXq7/PZPgYe5GAAEEEEAAAQQiK8AIYDVdN2TIkF/7vt+tYcOGF1fzMHchgAACCCCAAAKRFvAiXfssVF6Dv2s0+BtSXFx81GOPPVa+7Sn08YE6N3Cg3d+iRYviYcOG/XTVqlVbPU1fKxUVFVvdxw+5F6Afcm9e3Rnph+pU8nMffZEf923PSj9sK5Kfn3XhpwwdOvSepUuXBh/YOu1r9IgRI0bnpza5PysBYBXzwYMHX6U/nrNhw4ajnnnmmeVVHqr2pgaKJfrAirKyMtHbW55TUlIi5eXbxY5bHudGbgToh9w47+gs9MOOhHL3OH2RO+uazkQ/1KSTm8d0ipeUlpbayZrq7YL8wOYS8Ob32umnn95Rb96h/31dVFQ0RoNBe2SdrgjubzcoCCCAAAIIIICAKwIEgJt78umnn56jN1kU48o7m3YggAACCCCAQEIBAp6ENDyAAAIIIIAAAgi4KUAA6Ga/0ioEEEAAAQQQQCChAAFgQhoeQAABBBBAAAEE3BQgAHSzX2kVAggggAACCCCQUIAAMCENDyCAAAIIIIAAAm4KEAC62a+0CgEEEEAAAQQQSChAAJiQhgcQQAABBBBAAAE3BQgA3exXWoUAAggggAACCCQUIABMSMMDCCCAAAIIIICAmwIEgG72K61CAAEEEEAAAQQSChAAJqThAQQQQAABBBBAwE0BAkA3+5VWIYAAAggggAACCQUIABPS8AACCCCAAAIIIOCmAAGgm/1KqxBAAAEEEEAAgYQCBIAJaXgAAQQQQAABBBBwU4AA0M1+pVUIIIAAAggggEBCAQLAhDQ8gAACCCCAAAIIuClAAOhmv9IqBBBAAAEEEEAgoQABYEIaHkAAAQQQQAABBNwUIAB0s19pFQIIIIAAAgggkFCAADAhDQ8ggAACCCCAAAJuChAAutmvtAoBBBBAAAEEEEgoQACYkIYHEEAAAQQQQAABNwUIAN3sV1qFAAIIIIAAAggkFCAATEjDAwgggAACCCCAgJsCBIBu9iutQgABBBBAAAEEEgoQACak4QEEEEAAAQQQQMBNAQJAN/uVViGAAAIIIIAAAgkFCAAT0vAAAggggAACCCDgpgABoJv9SqsQQAABBBBAAIGEAgSACWl4AAEEEEAAAQQQcFOAANDNfqVVCCCAAAIIIIBAQgECwIQ0PIAAAggggAACCLgpQADoZr/SKgQQQAABBBBAIKEAAWBCGh5AAAEEEEAAAQTcFCAAdLNfaRUCCCCAAAIIIJBQgAAwIQ0PIIAAAggggAACbgoQALrZr7QKAQQQQAABBBBIKEAAmJCGBxBAAAEEEEAAATcFCADd7FdahQACCCCAAAIIJBQgAExIwwMIIIAAAggggICbAgSAbvYrrUIAAQQQQAABBBIKEAAmpOEBBBBAAAEEEEDATQECQDf7lVYhgAACCCCAAAIJBQgAE9LwAAIIIIAAAggg4KYAAaCb/UqrEEAAAQQQQACBhAIEgAlpeAABBBBAAAEEEHBTgADQzX6lVQgggAACCCCAQEIBAsCENDyAAAIIIIAAAgi4KUAA6Ga/0ioEEEAAAQQQQCChAAFgQhoeQAABBBBAAAEE3BQgAHSzX2kVAggggAACCCCQUIAAMCENDyCAAAIIIIAAAm4KEAC62a+0CgEEEEAAAQQQSChAAJiQhgcQQAABBBBAAAE3Beq62azat2rIkCF/8X3/JH1l53g8vtdTTz01ufZH4RUIIIAAAggggED4BRgB3NxHGvyN0JsH63+zwt9t1BABBBBAAAEEEEhdgBHAzXYjR44cazcHDx6cuiavRAABBBBAAAEEIiDACGAEOokqIoAAAggggAACmRQgAMykJsdCAAEEEEAAAQQiIMAl4Fp2ki4WGaiLRAbay4YOHVo8bNgwadKkyVZHKS4ulpKSkq3u44fcC9APuTev7oz0Q3Uq+bmPvsiP+7ZnpR+2Fcnfz/o5fsugQYMqrAaxWGz0iBEjRuevNrk9s5fb04X/bDoHcIa+CU4dPnz4pB3VVheOWJS3oqysTPT2lqdb8FdeXr7lZ27kR4B+yI/7tmelH7YVyd/P9EX+7KuemX6oqpGf257nSWlpqZ28qd4uyA9sLgFvfu9p4DdM/5utP3bQEb7RevuLzQ/xDwIIIIAAAggg4JQAl4A3d6euAh7qVM/SGAQQQAABBBBAIIEAI4AJYLgbAQQQQAABBBBwVYAA0NWepV0IIIAAAggggEACAQLABDDcjQACCCCAAAIIuCpAAOhqz9IuBBBAAAEEEEAggQABYAIY7kYAAQQQQAABBFwVIAB0tWdpFwIIIIAAAgggkECAADABDHcjgAACCCCAAAKuChAAutqztAsBBBBAAAEEEEggQCLoBDDcjQACCGRaYOaydTJ5wRpZtnajNCyKSY+WDaRX24ZSN8aunJm25ngIIFCzAAFgzT48igACCKQtYIHf/R8ukC+XrJM+7RpKq4ZFsmj1Bnnpi+Visd/gXq3k6O5N9TaBYNrYHAABBJISIABMioknIYAAAqkJvPb1chn2wQI5cdfm8pvDOurIX50tB9oU9+Xd2SvlkY8Xybhvy+WqA9tLswb8Wd4CxA0EEMiaAHMAs0bLgRFAoNAF/jttiTw4caH87vCOcv7ebbYK/symjg7/Hdy5RO4+oYs0qVdHrn1llsxfWVHobLQfAQRyIEAAmANkToEAAoUn8M7Mchk+ZYn84chO0rttoxoBbFTw6oPay/4dG8uvX/02uDxc4wt4EAEEEEhTgGsNaQLycgQQQGBbgVnL18vf3iuTnx/cQbq1qL/tw9X+bPP/frBPG6nY6MuNY2bLrcd0lsbF/7tcXO2LuDOyAms2bJK3ZpTLFF0UVL5+k7TQS//7tG8kB3UqkaI6zAWNbMdGqOKMAEaos6gqAgiEX2Cjzuv7v/Hz5IRdmst+HRrXqsKeBoFD928bLBL564Qy8X2/Vq/nydEQeOOrJfKjZ76W179ZId2a15fDu5ZIuyZFMuLTJXLp89/I1IVrotEQahlpAUYAI919VB4BBMIm8PTUJbJJ47az+7RKqWo2L/BKvRx85Ysz5Lnpy+Tk3VqkdBxeFD6BuAb0D360UN6atVJ+0q9dMNpXtZZn6mrwF79YJje8MVt+3LedHNGtadWHuY1ARgUIADPKycEQQKCQBZas2SBP6cKPG47opJfxUr/AUqILQq45uL38/vXZwWXBjiX1CpnVibbbaO597y+QT+avlvvO2EMayfrt2mXB/0ka8HduVk9ufmtukCvygJ2abPc87kAgEwKp/4XKxNk5BgIIIOCQwL8nLZb99bLvbq0bpN2qnq0byjE9msk9E+aLjRxRoi3w38+WyodzV8ktR3eS0h0E9H3aNZIrDiyVu8aXyQzNIUlBIBsCBIDZUHXgmPZtdV55hXxStlren7NSPtM5KWs3xB1oGU1AIDsCs1esF1v5e95erTN2gu/t2VoWr9kYJIzO2EE5UM4FJumo3/Api+VXh3YI5ncmU4H+OvJ3as/m8udx82TDJv72JmPGc2onwCXg2nk5/2zbseDlL5fLBE1Ou6oiLq0b1Q0uZZWv2ygrdKWabVtlk9v7aboKm7BOQQCB7wSe0rl/h+lk/raNizNGUr9uTH7St63coUHAgM5NpKQ+f7IzhpujA62u2CR/ebdMLtA8kLb1X22K7RDz/pxVweKQc/XLAAWBTArw1ySTmhE+1sJVG+RfkxYFgd8hXUrkap1/tFurBlvNY7Ktq97SEY77dFeDZz9fKpfoJGbmJkW406l6xgQWrKqQsTqx/68nds3YMSsPtE/7xtJTfxef0BWiP9qvbeXd/BsRgYc0EXjHkmI5Vi/n17bYHtE/O6A0SBB+WNem0kGPQ0EgUwJcAs6UZESPY5d6X/5ymfzshW/EUk/9/eRuwR8cS1y77ST21o2KZNAeLeXek7oGuc1+/vKs4PJwRJtOtRHImMCzny+TA3ZqLKVNsvMBfYHmB3z1q+UyRy8zU6Ij8MXitfK2fmn+ab/SlK+YWB7JwzX4e0y/oFMQyKQAAWAmNSN2LEtE+sd35ga7Ffz60I466bh9UvNTbNeCH+7bVv+otZM79dKU/YGjIFCoAus2xuUNzed24q7ZS9eyU9N6ctTOTeXRTwgCovI+s4U793+4QE7bvYW0aVyUVrXP7N0yWEBiASUFgUwJEABmSjJix7HLubbl1Bpd2HH38V1kT111Vttie5heO6CD3KM7HrynC0UoCBSigH0Baqcf8Lu2Sm7Hj1SNLEecLcr6agmrQlM1zOXrxumUgCW6gOf03VumfdqWDYvkhF2b61zAxWkfiwMgUClAAFgpUUD/zilfL9eOniXd9dLC7w/fKa2J5TY/6fL+mq5gXJl8q9tfURAoJAGbQmGJe4/ThVHZXhTVTLcKs/P8ZzKjgGF/j9no33AN1gb3ain1dCFPJorlB/ykbI18yzSATHByDBXIzDsTysgI2B+P63Tk73DNMG+XcG2ScbrlQN278qTdmsutb88hVUy6mLw+UgIz9UtP2coKXaFbkpN62+VE2zuWS4E54U75JOO/XRn8LbTL9pkqtlfwobrKfJTmE6QgkAkBAsBMKEbkGJXBnyWX/d6erTI6YnFW71bSTFNUPPLxwohoUE0E0hd4c0a5HNCxiTQoys2fUvsdO15HAbkUmH7fZesIweif5vyzBXPbLqRL95yn9mwh9p5boWm5KAikK5Cbv1rp1pLXpy1gc/6u1/0lj+neTM7p0zqjwZ9VzrYwskvB9sfJkp5SEHBdYFPcDxZA2ahMLsvJGgRwKTCX4rU71weat2+15lDN5OhfZQ1sMZDtMjNmxorKu/gXgZQFCABTpovOC1dqAmcL/vbT+Xrn6shftko7TYFhx/+H5gncsImtq7LlzHHDITBVd8fZpHO9UllAlU4LuBSYjl72X/vs9GVyvC7YyPToX2XNj9HLyqO/XCE2/5SCQDoCBIDp6EXgtes1RcVNb86Rjk2LZej+bTM+8rctgU1St2mFL3zBPJVtbfjZLQEb7ba5fzb6netilwLf0vMvXculwFzb13Q+20nJ5mfalZZslf6dmsjK9Rtl6kJSwmTLuFCOSwDocE/bN8S7dQsiS/B89UHtc/JBZYtKfqi7FYyYskRW6cgjBQEXBWyE+13dLvFQ3TUnH8UuBe5V2lCe1x15KOEReE5H/2w7wJJ6dbJWqeI6MV0M0pTLwFkTLpwDEwA63NfDdeuoLzVn2C8P6SD2RyNXxS6J7awpZkbx4ZQrcs6TY4EpC1YHCz96tMxu7r+amnVaz5bBvt2W0J2SfwHbL91yQtpe6dkutl2nfQHZsCme7VNxfIcFchcVOIwYxqaN/7Zcnpm2VH5zaAdpmocN5M/p00qe0+2xyhkFDOPbgzqlKfC+TvTv17Fx1qdU1FTN3ds0kHZNioJLwTU9j8dyIzBGL8nbF4IuzbP/pWAXPU8j3ZFpoiYGpyCQqgABYKpyIX7dN0vX6aXf+XLlQaU5+WNUHUXPNg2D1Wr/nbakuoe5L0mBVRWbggTbX2ufWr/aam6+9SeJl6WnWZqP7wLAJlk6Q3KHtcTTlhLGElGzICA5s2w9y/xf+3q5rvzN3ty/qnW3vh/QuYmMnckOTFVduF07gbq1ezrPDrvAMp0UfvNbc2Sw5qDqp/nJ8lksN6CtPrZs+LZ/MGXHAgtWVcg4TSL76eZkvys1nUR93UmgWCdy2ofMKv1Z//ZLx5Ji6d6ygexd2kj20f8aZ3HO0Y5rXVjPsGB8rS6u2kO/5OS72CKUhyYuDBYE9Gqb//rk2yNf57epNotWb5QDdYFGrsoAvQxsOzrZXtT2N4KCQG0FCABrKxbi59vI0K1vz5Xd9YPpjD2ytzF9sgSWr6pTs2J59asVcoquWqRUL2CB3cd6KecpvWT/+aI1QVqRvTSoO1svo5dqap3Gxf8Lni33nO0vOmP5On3uWnlq6hL5iy706auXI4/VBN+9NQjI9pZk1beicO59b/aqIKVSka2uynOxbcZs1MlGAQkA89cZr329QmxeXi4DsS7N6knrRkVieQctGKQgUFsBAsDaioX0+RZE/P39BWKXpy7VLd7CEgScrPtX2u4gJ2perHykywhpd22plo0mDftgvm4ntiEIkn9+cPtgR5UtT9jmhhm2aVwU/GcjvOfvLTK3vCK4/HT7O3OlfUk9Oat3y2BkMCzvgW2aEPkf7fKvjWqHpRyngf9Pn5+hXww2SMuGRWGpVsHUw1Jt2eKPG47cKadttt9vG3G09yMBYE7pnTkZ48aOdOULOgIwcd4q+ZWu+M3U5uOZoOm/UxO9dCkyYQ5zVap6WhqRh/XS3S9fmRWM+P3jlJ2DraNsq6/alg56Ofj8vdvIP07dORgJ/PP4MrlxzJxgj9raHovn1yywWIOs2eXrZe/2jWp+Yg4ftQTse7ZrKK98tTyHZ+VUlQK272/rRnXFFmbkuuzfobF8VLZKNuqVAQoCtRUgAKytWAifP1m3Xnv040Wa7qVj6EYAbMTqBB39e15XBFO+E7Ag4jevzQq2zLvz2C66e0rrjOwla/Msbf/R+07qFlwauvyFGfK0XiK2UWFKZgQ+0Uv1PXTuZdXL8pk5cnpHscUgo3WqBYFAeo6pvPoN3ZbtSN2dIx8j7t016CzWv7HTdFcaCgK1FSAArK1YyJ5viwZuHztPfqS7fNicuzAWm6Nkk6Rnr1gfxurltE62kveql2bqIo568sdjOuscyXoZP78tCLlEpwHcdFQnDQqWyw26EGc5O0ZkxNnmatqim7CVfXREskgDgQ/mrgpb1Zyuj/1eTdUFWwfrYpx8lJheBt5PRwHp93zoR/+cBIAR7sO1G+K64nduMPk4V+kHUuFqogGJXQp+tcAvUX2m39Kve+1bsXmRPzugXdYv1e/aqoHcdXwX3ZWgrlz+4gyZrltUUVIXsAU4kzQADNPl38rWWCBwtI5CFfrvWKVHrv61ZMy76O9ZqzzOvbQFYDYP0OaBUxCojQABYG20QvRc+2W3bd5sy6GL9mkToppVX5Wju9vWReUFm8POgq/rdV7eeXu1Di7T5upykV0WvkrzQdqihd+9/q1YgnBKagK2YMf2Xeiuu9yEsdhlyEk6HcRyRVJyIzB2VrmO/uUu9Ut1rbKdl2xP6Dm6GIyCQG0ECABroxWi59o2b/aB9AtdNWr774a9WIqKhkUxeU+/qRZasUvfN42ZrcFfKzkuB9tEbetrweaJu7bQQLB9kCD8+ensH7utUTI/2/w/+7AN62p2WwFseSFf15QklOwLWND1maZisqsb+Sy26K+P/n39kMv/+eyGSJ6bADCC3famTjoe9dl327yVpLBqNB9N/u4SVTN5tcA+nFbo/qA2B+/YHs2DICwf9pXntLQxN2mqiscnL9Zt+ggCK12S/dfm/1mAFeZydHf7HVsudrmakl0BG03vqfOuw5B6x6YlfDKfhSDZ7XH3jk4AGLE+tR0i7n1vvlw7oEPetnlLlezQriUyRS9R2W4lhVDsQ9gW6NgcoXP3bBWKJltdbjhiJ/kPQWCt+sN2W7DL+JZuJcxlv/aNRTMMBZeCw1xPF+o2btZKOShPiz+29dtLR6ZtJXCFbgZAQSBZgdonHUv2yDwv4wJ2KfHWt+fIxfu1FdspImrFstbbHsHv6LwZWwjherEE2CvXbZLrDu2YlxQRiXwtjcn1GgT+XkcmG+kuI0d0a5roqdy/WcB2XWnZsK60bVwcahO7PH2k9qflBNxHg8EwFD+uQUnZbPFnf6P/zhFZoXsXr/luKohXpJ4lzUVatRFvp24inbuLVy/zK+Mz7WCpnOwLgX0RD0OxXKC22G7awrWR/GwIg2Eh1oEAMCK9bln+b3pzjhynlxLtMk9Uy2G6ZdHLXy53PgD8SOfjvKJ52f58XJeM5PjLdH/bSOAvNWn4zfqessDG5rZREgtM0ZH3qGy1ZquBbWcQS1HSrEF+/sT78U0in08W/903xZ86UWT9OpFO3cQr1d0ymrcSr0NnEZu6vEEXrFhAOPVj8V8cKbJaE8bv0ku8ffqLt/8h4jUKRxC77TvDkj/bXtD58t22PjbP16Yn2DzVKA4ObNsefs6NQH7+OuSmbc6cxeaR2WiN/cEJy6XEVHH769ZFwz5YoCvW1ge58FI9TphfZ/311wllOlLbRrdmC++IkQV9P+7bTm7T/aNvObpT5KYU5PI9YFMvjtGV7FEotjPIHm0ayBvfrJDTNTF4LouvgZ7/1kviv/qsiB8Xr9+hEvvJr0S69hCvbs3b1AVpTBbNF3/y++JP0MBx5IPi9T1UvGPPEK9t+1w2Y4fnGquXf4/oVrLD5+XyCfb7/PS0Jbk8JeeKuABzAEPegasqNsn1Gvx1alovVHv8pspmOyjs16GRvKUpYVws9iF27/vzg6TcUbi0anW0y/G3ahC4ar2O2lC2E7D5f18uWRuZEUBrwNGafN0Wg+QqN5y/aZPEXxsl8V/+UPwPxkrs3KESu+1BiQ2+SLweu+8w+LM62yiW16ZUYkedInV+ebvEfvWnIIiMX/8ziT/yV/HLw7GbkKXZ+UrfD/le/WtmVcteOj911vL1JH2visLtGgUIAGvkye+DazZs0vQhc6SFXsa58sD2oU0/UVulQ7s2DTZPz9WHU23rl87zJ2iam6k6D+cSHVnLVa6/dOprrx3Su6Xs1LRY/u/deWwbVw1mVOb/Va36ATs1lpUVcfk0B1uE+V9/LvE/XKUjf6MldtGVEvv1HeLtdYB4depUrVKtb3sdu0rsgssldr0GfzpnMP7bn0p87Ks5C2oTVXicrv7trWlXmoYsA4NlhOjavB4LgBJ1HPdvJ0AAuB1JOO4o18uI171mk/Rj8gudaFxUJ/y5/pKV209TFqzUkc0vdHs4l4oF7Pfr5W1LzB2V9Dzmbyl6rtAvGLNXVMhIzS9J2VogSvP/KmteVCcmR+iqe5uHmq1i8/ziox6T+J9/K95+B0ns93eL13vfjH/xscu/dfQycuzCy8V/9j8Sv/t68Vdmr1078rLLv/na+m1HdbPLwJ9opgUKAskIEAAmo5Tj59iCj1+9+q20a1wkvzqkY9a3DMtx8zSYjQWXT96Z6dZl4McnLZZSnfN3uH7wRq3YpXlbFPLU1CVsLL9N59n8v146/zZqxRaLvauLFcqzcGnfX75U4nf+VvwPxwUjfrEThiR1mTcdQ2+vfhK74W8i9RtI/KYrxUYec11s7/UZy9bJAXlO/pyo3bYA5JOyNXkfJU1UP+4PlwABYLj6I5hrdPXLs4IEo1frzg0ujfxVpR6g+bPG6oeTKwlrbVeW0Zp64yd922Z8BKSqWzZvd21eP9iq7q7xZWKjmRSRKM7/q+y3nXTecI+W9cUSx2ey+HNnSfyWa8Rr3lJiv7nzuxW9mTxBDcfyGjSU2NBrxTvm1GDkMf7eWzU8O/MP2eifjbJZypUwlt10df9KDfjnsi1cGLsndHUiAAxRl7ytI2LXvfatnNqzufy0Xztn5vxVR2xzaOKaKHnaouhnr7e5jA9+tEBO2rV55Fc2n6BtKG1SJPd/uKC6biu4+6I4/69qJw3s0UxGa9qlTM239TW1S/y2X4o34BjxfnCVeDoal+tic2tjR50crC72/32vxF95JmdVsPl/B2kmg7AW2xbOdieZrKPWFAR2JEAAuCOhHDy+dkNc/qZpQ+7T1aM/P7iDBoAtIzuKlCyXJaw9UP+QvjNT835FvLyvOf9s/tygXrlNuZENNpsPeHn/UnlfF7PY5cNCL1Gc/1e1z+x3bLnOJ7YEwekWf8pHEv/rTeKd+UOJnXRW3v9Geb32kdjVfxD/5aeCuYjptm9Hry9bWaGrbCukX0gv/1bWv4+uBp7MPMBKDv6tQYA8gFVwzjjjjB6xWOwRvcs+ye26yQUjR46cVuUpGb85VVfpWfBnK33vPqGr2G4ZhVIO0aTQt2j6kR/t31bqakAYxbJRRzEfnrhIzu7TShoWhfOyUG1dbW9T221m2Afzpbd+mNj8wEItNv/v6Ijk/6uuj4p1vu3hmurHpifsoaPuqRZL1Bwfdpt4tip3/4NTPUzGX+d16SGxn98q8T/9SuKaZ9DmImarjNUdjPYuDf/vQx+9RP2M7hVv02vsizYFgUQCjABWkdHgb5heKrlPg75d9TLDbfrQw1UezuhNyyV1x9i5cqOmeTlGJ2vfeGSnggr+DHM3vVRRrKubo/xt1S6v2d9Y60OXyqEanHfROYG2nV2hlvWa/++rpWuDlB9RNhio703buSLVxSD+9E8l/vdbxTvvp6EK/ir7xCvtKLGrbhRfLwVbLsJslXFqGNbVv1Xb3L1FfU3nJLpYZX3Vu7mNwHYCBICbSU477bQ2enPfXr16/dvuGjFixNP6z046KtjNfs5Uscm59743Xy557psg/ca9J3WV03ZvWZDf1Oxyoy0Gsb2Bo1hWayqbJ6Yslgv2buNc/9k8K1vQYvNSbRSsEIvt9Wq53tpEfFS+cjHIGN0ZpLbF1z184/feLN5ZF0tMd/UIawlyBl5xg/ijHhf/o3EZr6btXDRHp3n07RjOremqNthG/WzXqMkLSAdT1YXb2wsQAG42qVu3rm5SKWXXX3+97lweFP0OJd/qB2GnzT+n9I9Nvp6zYr08P32pXDt6llz2wgyp2BSXO4/tIlfpKl+73FbI5eDOTWTC7FWBSdQcnvt8WZBA2XY2cbG0bVws5/RpHexssmGT/ToUVrHpGfZBasFw1EuwGEQvA9dmMYhfvlzif7lRvMNOkNjBR4eewNPt5mK6MCX+0N3iz/wyo/Udp6t/99H8pVGZ5rFnMA+wML+4ZbTjHT8YcwAz3MFvvDpBvly+UVb5dWRhrJHM3VQs630vWJl1qOaH+81hHaUkpCkEMkyR1OHscoV5TJy3OrS5tapriG3R9+znS+VXh3ZwIkCoro1234m6Kvj1r1cEX2BspLqQiu3oYl9QXCi2GOQBXdk9qWyldEtiEMvfuEFH/m4Rr+su4p1yTmQILFegpwtU4vfcrPkJNUWNpqrJRLH5f4N7tcrEoXJyDJsH+K9PFol9cXM1lVhOIB0/CQHg5g7euHHjbB0FLNURwNjmUUD72t9JvzF/W/U9MGTIkIHxeHyg3Td06NDiYcOGSZMm//uQqFdcJE02rZJWFWtl35VTpbRsunRaNlsa7rKbFDUcIMW7HiGxJtFLFFzVINO3j9qltUyYt1aO2aNDRg9dXFwsJSXZsf7vB3Ole+tGclCP0ozWOYwHu+yQrvLbl7+Qk/p0kBYNi2tdxWz2Q60rk+QLNugovV0CvvrwnfU9lPtUJ0lWs1ZPG7hba3nxsyXy6yO77vB1ax76i2zU/X2bXHadeMX1dvj8MD3BH3S+rFlUJvEH/yyNf3eXbkmX3sfcjKVrZMHqjXJkz1JpkKGFXtn+nejVxJeGxXNkzlpP9myfnb+BYerzdOqin+O3DBo0qMKOoesARuv0r9HpHC9Kr43+tY0Mag8ePHiMXu55WN8Aj+jtQXroX+iCkL6JTqHBof1mrSgrK9vq0ooFHeXl381rCy65LJgr/rRPdJP0d0T00oS338HiHXtGThOoJmpDGO63Dcx//vJMeXRQD6mveawyVar2Q6aOacex0b8fjfpad2npoAsE3Lz8u63XH3W1dsOimFymKWJqW7LVD7WtR22e/5nmp7z1rbnyyBndnRnhtakoV7w0Ux48VYPaGvax9T8cK/FH75HYbzV4at2uNmyhea6/fr3Eb9Y8hXsfILHTzkurXv/WkbR5mgLGtuTMVMnF78SdY+fpzkRFwTSOTNXbpePY1I7S0uDvWVO9Hc2J6Gl2SOY+bdOsSBhertH/UA3YhmrwN13r8wsd6bsw3XrZm8xrp6vUjjhR6lx7m+6X+VeRYl2ldfPVEr//TvGXLkr3FJF/fedm9aStbntnueeiUJ6fvky6ap0LJfizPrlwn9Zil8G+XJJ+Prko9LFd/t3dkfl/ld4ddWeQnm0ay2t6ST9R8RfM0+DvbxK76PLIBn/WNq9evWDHEP/158RS2KRa7Au8LVIboKvio1YshdOU+cwDjFq/5bK+BIBVtIcPH/6FjvgdaGlgbOTvqaeemlrl4Yzc9Np1kNh5l0jsD3/X8WZP4r+9ROKvjhI/Xrn2JCOnidxBgq3h9A9t2Iut/LW5f2f2js58oEyY2oKQU3q20B1CFm412p2JY4fxGFN15fMebdy49FvV9/TebeXFL5ZVuwWjr5d84//8s3gHHineXgdUfVkkb3sdOgWrl61N/qrU/rZ8pVs8WvqcfXUBSNSKLQSxaQy20QAFgeoECACrU8nBfV6L1sGKtZilLhjzQrCvpb+kcHOuWX6tj3QhiF1eDXOx0b8uwehf6kl1w9y+mup2xh4tZcGqCpkQkZHamtpS02OWQPezRWuDFcA1PS+Kjx3ctble0hbtw5XbVd8f/bTI2jXinf797R6L6h3eQUeJdNtV/P/cn1IT3tE0SAfs1FjzlUbvo9K+tLXSFEbTdDU7BYHqBKL3rq6uFRG+z+uxu8R+93/itSmV+E1Xiv/ZpAi3JvWqty8pFrsUPGH29h9MqR81s6+00b9ROvp3lo7+2aX9Qis2P9PabnOiLEhytVgCXUvube9H14rliDt+l+byvKYwqlr82TPEf2G4Xvq9MnKLPqq2Y9vb9nsa+94l4n/6kfgfT9j24Rp/juvl37Ga/sWuTkS19NHdX9gXOKq9l/16EwBm33iHZ/DqN5TY9y8Vb/CFEv/bHyRu81b0j0+hlQGacuMd/YMb1mKjf511HlXvNLbUCmvbkq3X0bqrxCZ9b76eQlLhZM+R7+dZ/r+eukuNq9toHb1zM/lm2Tr5asm6gDq49PuQfgk95jRN+9Ij3/wZP7/XrMV3l4L/fa/4q5P/+/KZzgPdoF90LKVKVIvVfRL7Ake1+7JebwLArBMnf4KYXq6IXXWT+C+OFH/kgwUXBNpl4Cn6x8o2rw9bqZz7Z3v+FuLoX2V/2J7N5+3ZWv4zebHYVmkulsoE0C62zdrUWPNuHt61qTynyemt2EIJ2bhRvCzuoxucKI//8w44TJN67Sz+048mXYu3dU6y5U+M6j7l1lAbAbQsC6luA5g0Fk+MpAABYMi6zdt5N4npamF/4rvi/+seXRwS7jlxmeRrrfNVdmnVQN7VPTfDVl7Q0b9OBT76V9kn9qHYokFdTQ699WXEysej/K9d9ptm8/8cH+U9cbfmYrtbLJm3QPxn/yOxc38iXl13dyUKLgWf/SPxJ4xJapeQjTryZ/snR/nyr/0eNtPf051K6skUtoWL8p+lrNWdADBrtKkf2OYDxn7xR/G/nCb+P/+voILAMO4NvGbD5rl/BT76V/mOtg/T8/duLU9NXSIrdYWkS2W27vdaoSObO+sONS6XjhoU2CrR51+aIN4+/cXbtZfLzQ3aZn9X7TJ3/PFhO8y68NHcVZqT1NNUQNFfCd6HbeGcf2+n2kACwFTlsvw6r0Urif38FvG//Ur8x+4rmMvBB+no0uc6ArN4zYYsCyd/eBvpstE/u5xC+U7A5hb1aFlfnvnsu8uIrrjY5d/ddP5flC/7JdsXZzRYJC/X7SyrTz0/2ZdE/nnesZrfX/c49se9VmNbbI7r4d2a6mKg6C/2+i4AXF1je3mwMAUIAEPc715JM4ldeaOuYJso/pMPF0QQaJcsemmgZZenwlCC0T8Ncs5i9G+77jhH5wI+r/PIVoRwzuZ2lU3yDtfn/1Uy+Drnb9cXHpCuDX15aZ5bo7iVbazu3yBB9JCLxP/vv8RfV316FJuD/NG8VXKEzpN0oeyhCc3nr9ogi1aH50u1C64utIEAMOS9GOQLtIUh774h/hsvhLy2malemC4DW7qMnRj9q7Zjd9X5mvbh4soooK28n6IJoHtpm1wv/juvaBN9GdR/Z3lO3+PrHF3QU20/7t1fRC8H+688U+3Db80ol930vd2uSe33va72gHm+s1FxHemuUxrsvU1BoKoAAWBVjZDe9tq2l9hPf6Mr2B4Rf8pHIa1l5qp1wE5NZIamqZiv+2/ms9jK32c07985jP4l7AZbFW0LZJavDd/K7YSVTvCArZZcp7sm2EIkl4u/ZrUu/HhcYoMulL07NJE2uvjqla+Wu9zkrdoWLAgZdIEGgLoDU/nWC5nsS4Bd/j1SU+W4VEgH41JvZq4tBICZs8zqkWx1sKe5AuP3/0n8ud9m9Vz5PngTTVOxd2mjIAlrPutiIyPf7fnr/ohQqs49WjYI8qQ9PW1JqocIzessYa6NaBbVif68r5pQLc2UdOisOUL2D1IaDe7VUp6ettTZtD7VWXjddxfp2Uf854Zv9fA3mgTcdrvpr19CXSq24Gey7gtciPllXerHTLeFADDTolk8XqzfoeIddbLE/6rzAlPc2zKL1cvooS0noG3Cnq+ySle32q4fZ/dpXdB5/5LxtxHSl75cLksjPgo4qWy17FnqdrC/adF83XryeYnpPLjKfJb9OjaWljr31kZyC6nEdMs7f+yr4i+ct6XZNhJqf3saFLn10WgLm2zF/tzy/F5V2QLNjVAIuPUuDwVpdivhnXS2yE7dJP6gpYdxMxGvCfbVD6X5+k38a92MPR/Fgj+bN2MLUig1C3RTp33aN5KnNS1MVIvlfftUd37o0za6uz4kY7/uqUfF0zlwniZFriwWCJ63l6b10VHcsO/FXVnnTPzrle4kXt9DgsT7djyb8vHmjBVyXI/mmTh8qI5hexnb7jaTdBSQgkClAAFgpURE/g3mr1x4mcj8OeK//FREal37ajYsqiOHdmkqL32R+1EJ+6Zsl39tfhslOYGzdY/g0Tp6siRE6XuSq/l3z/pyyVop1ku/XZq7t/9vpYM/f65U6IiXd7J+idym7KVTLro1ry//1UvBhVS84weL/97b4uvI6Ju6+MMWfHXX9EYuFksHQ0JoF3s29TYRAKZul7dXeg0bS2zotbp5+wjxp3+at3pk+8TH9mgmb80sz/moxH91JGTXVvU1CSyjf8n2cRcNHvbr0FiejOgooI2M2B7PLuR9S9Rn/nNPSPHBR4vXpn21T/mejgJaWp+oX8qvtnEJ7rQFdt5+B0n8pSflRf2yefwu7o3+VTbdFoLYSuBNOtpNQcAECAAj+j7wOu8s3uCLvlsUsnJFRFtRc7Xt0qKNSozRVXm5KpYryxI/24chpXYCZ+ko4Gtfr4hkvrHJugf1nvoB6WqxhWP+x+9K/TO+n7CJltZn3/aN5V+fLEr4HBcf8I4fIlOmzZIVazfo/D+3Fn9U7S+b0mKx3wxd6EJBwAQIACP8PvAOPVZk554Sf1T3DNb0BS6W43Zppt/Ml+sfrty077FJi6SfrgC01a2U2gl0blZPbEHByE+jNRfQcuBNX6zz//QSmaslrmlfvIOOkjqt29XYxAv3aaNJ2MuD3XhqfKJDD3qlHWVUzxPlmA0zdRqAux+JdWJeMKfZvuxQEDABd9/tBdC/wXzA712iX+mmiz/+dSdbbFvDrdUP6A90b85sl290wck43QD+e3sy9y9VaxsFHKMT6S2VRlTKp3pZrEWDImnXuCgqVa5VPf3ZM0Q+/VBsvtuOSmvNCThoj5byjw8XFMylwpmac/TT4rZywgePi+/o1ZTKfrftLCeRELqSo+D/JQCM+FvAa1IisfMvE/+J+4OJzBFvznbVL9Jv5Kf2bB6MKmVzlNOO/dDHC+UEnQPUtrEbOwBsh5mDOxPmigcAAEAASURBVDrqJPoDNWgfPiU6o4Af6peL/To02pIWJQdMOT2Fr/PbvIN07l/zlkmd99TdWwQrYu1yfiEUW/hyeLdm0qxzZ02R86LTTbZ5gNN0v+sNm3JzRcVpTAcaRwDoQCd6vfcV74DDNqeGcW9fz4Hdmwe7glii3myVd2evlJk6N2aQJsWlpCdgo4Bv6+KdKOQcs8DfAsD9dQGLi8VW/vofTxBv4GlJN88ug168X1t55JOFkV3VnWxjF+oeuWN11P80DXpjx5wm/psvil/h7hy5Tk2LpZHmOPxsUfb+liZrz/PyL0AAmP8+yEgNPN3WScqXi//qqIwcL0wHsaSsJ+7WImtzy9Zs2CQPfLhQbP5TY903k5KeQKnuoXpY1xJ5Ysri9A6Ug1d/u6JCyjXtj6v5Hv3RTwe57ryWbWqlaSu699cFIfe+p4mjczT/tlYVzNCTLfehzVu196zsvpdISTPxJ4zJ0NHDdxibNrS/tve9OdmfUhO+1lOjbQUIALcViejPXr36EtP8gP6z/xF/wf8y20e0OdtV2y7NfqNzdT7R3RoyXf4zebF+ABTJ4Rq0UDIjMKRXK5mgo6q2v26Yi43+2WUxFyf/+0sXaTDzpnjHnpFSF/xQRwEtEfsYzY/nYinTvcZf18vctpONFQuOPBsFtD2CHU6y369jE3l/zkqnA3sX36/ZaBMBYDZU83RM29/SO+hIif/LvVXBtj/wYJ2c/tDEhRmdnP75orXysm5jNrRvO2fngOXj7dhGF1QctXNTseA6zMXpy7+vPCOyp+73q6tcUyn2O3dJv3bywEcLIpnaZ0dtfkLfmwO6lIjNW60sXt8BIuvWikydWHmXc//aancb9Z4Z8i9nzsGHsEEEgCHslHSq5On+lrKoTPx3XknnMKF87Ym7Ng9WBL+eobyAdun3rvHzghGATlU+BELZ+AhWylaTfjRvlXy5KPOjtpngsB1fPtf0L/vqAhDXim/TQfRvQOy4Ha/8rantfXW0qL+mRbpj7Dyx7fJcKTYyPV5HqM/qvfWcX69ukXiHHCNxhxeD2Gj33rrzC5eBXXk3p94OAsDU7UL5Sq++7magqWH8Jx8Wf3l0VmImg2krgi/et608rKt1M7FbwT8/WiiW9uKUni2SOT3PqaVAy4ZFYru5PPTB3Fq+MjdPt8tgXTXReCutp2vFf/05kV32EEsYn275kV4KtlRM/3YkQbTNabRRzYH63qxuxb93yECRzz5xMqtC5Xuh8jJw5c/8W5gCBIAO9rvXez/x+uwn8ceGOdc6m8BsuxX8/f30Jqe/qvvW2jfgy/uXOr39V77fAGfoKODHc8uDRMv5rsu257ecjwdryhrXir92jaYzeSHt0b9Kl3p1Y/KLAe2DqRIWNEe92MifjQDa/tXVFa9ZS/H27Kcrgl+q7mEn7rNFPpb1wHY+ohSuAAGgo33vnXmxyJdTxZ/0gXMtvHjfNvL1knXy7OfLUmrbVM2Ddb8muv3Fwe2DEcCUDsKLkhJoVr+unN67rTwesrmAdvl3ku6IcJCDW3/574wWad9JPB0BzFTpWFJPLj2gnU6ZKNPAYV2mDpvz46zXkcwHdeT/gr3bSKMaVvx7hx8v/rjXnE0JY/M7e+vip3d01xdK4QoQADra95Yg2jv9PIn/Z5j468O9ErO2XVCiQcUvD+kgtm3bRJ1jVpvyhc75+sObc8RWONrqT0r2Bc7cq1TMPUxbUL2nI1ldmtWv9hJg9kWydwZ/40axy7+xo0/N+EkO7lwip+l0iRv192fJmmiOHP1b/2bYJX9LU1Rj2aWXSNPm4n8wtsanRfnBQ/TLzzuar5NSuAIEgA73vXfwMd/ltXpppHOt3EU3rr/0gFK57Z25SaeGsRQy178xW87WtA/HdG/mnElYG2QBe+UK7lzt6bwji3GzVro5+vfROJE6dUX27rcjgpQeH6yJ0vfUVaQ3vzVHbBFVlIpt+feKTv24LIlpH0FKmMN0FFAvpbtaDtDFPbM1D+accrcGCFztr2y0iwAwG6ohOaYXi0ns3J9ocuhnnMwNeIimcPiJpm+5RT+MRn22NGFeqw2b4ro12eLgebbDwcmaVJqSW4ETd2sudtn1rRDklLMUGJMX6OVfx+b/2eIGSwTvHXmyeLHsJDS3wOiSvqXSpF5duXHMHFm7IZ7bN1KKZ7Ng9e53y3Sf79bSoSS5rR69/oeJ2E4qs75K8azhfpldArcV8IwChrufslk7AsBs6obg2LYK0PYBjT+ul4IdzOh/WNemcuORneT56UvlypdmyhhNEWOXpyo06Ju7wuYJLpWfvTBDbKu3m4/upHt+Ng1BrxReFSz1xHl7tRa7BGfzsPJZ7ANv5xYNnLv8K19MDVJAWS7QbJaiOp78WqdgFMU8nU4xW9bluT931Fb7u/e3CfODZO8naCqpZItlVLC8gP7YV5N9SeSed4he1rdtG138bIhcZ+ShwgSAeUDP9Sm9U88VmTNDxC4POVh2a91A/nZiNzl652YySgO+i/77tQx+4gu54Ikp8l6Q66uV3HFsF+nRsoGDrY9Okyzpri0KeW56aot3MtXS179ZHiSpztTxwnKcuI70e4ceK1797L/PbWXwbw77LsH0DTqtwkZ3w1r+q1cHpusc1KsPal/rFf/eQUeJ/95bzs2jruwrWw28fN0m+UIX1VEKT0Ani1BcF/AaNhbbKzg+/J8S67WPfkA0dK7J9oFk3+7tPxv9W6OXpkpbNpO1q2u3SMQ5mBA1KKaXD22/ZVuEc6SOxDZvkPs/P9/o1mZzdN7TwY6t/vX1UqXtXuF97yc56/H6+jv3u8N3kjvHzZNfvjJLfq+3bQeYMBXb6cV2/LDR/6b65aPWpduuIpoWxp84Xrz+h9f65WF/gf3dPFS/mNncyF11XrXrZcW6jbpwcHUwb3x2eYU88YNS15tcY/sYAayRx50HvQMOE2nTTvwX3VsQsm0v2eVGG2myxNGUcAn0attQ9mnfSB7WLf3yUV7TKQIH6ty/hkXZmSOXjzbZOf3XdO7ffgPEctjlslgAce2ADtJb+/UXo2fKNE2xFJZi6Z7+NHZukOsz1dH/YDHIgGOcvgxsC+JsWkTUFvUk+z6zKQpv6O/9b16dJRc8/ZVOF1oWfFE5f682yR7C2efxCels127dMPtDFtPcgJYiwl9YtvWD/IRADgUu0jyOEzQJt63KzGWxD7g3vl4hx+2S/DywXNYv1XP5K3UO17tviHdM5lO/JFOnOjoXcOj+bWVwr1bBKvuaFmQlc7xMPMcu+d6sI80/0J2DDtJ5bukU7wAd+fvmcycX0plLtxb1pVOzeqFYoJVOP2372uU62vcv3b3mIg36ntFpALat4T9P6y53HtdFztXFQHvpF9FCLwSABfQO8Dp1E/tjFh/5UAG1mqaGTcDysJ2pe7AO+2B+TveXfV2Dv45Ni5271OW/9aLIzj3F26lr3rravmDa9IubjuoULLy6SYOvxXnKFWiXfX/3+uzgQz4T6Z6CnKq2M8g4dxeDmNNovQzswmKQcg38HtBE/xc/87XM0KTlNlf17uO7BFt+tsjDtJO8/VImcWICwCSQXHqKd+r3RKZPEX/aJy41i7ZETMBS8fha52f1m3kuiuUffOGLZXJSLVaB5qJe6Z7D31Ah/hu67VsWEj+nUjebR3b38V2D+XY/e36Gbh+3TDbFraezXyx4sdHH2zU36GW6a0ltVvzuqHbewUeLP/4N8TeFd7HLjtpQ0+MDdJR0waoN8tmitTU9LdSPbdjkB18+fvzcNzJvZYXcdkznYI7qHm10Nbd+QaFsL0AAuL2J0/d4TZqKd9JZuiDkAWf/mDndgY40rq5eNvxpv3byhOZn/HZF9hPRWhqgio2+zv9L73Jg2Pj9CW+KNNY26eKusJTGus2Y7bH9c91q8elpS+UqTc9kSdizWZav3Si3vD1XntMsADYKme5l3+3quvuemmBb541O+XC7h1y4o0FRTI7t0Szoryi25zOd73nFizOCxSzX6GpvW5xkl7YpNQsQANbs4+Sjts+lxDeJ/5a7m5072XGONapn64ZyvM7H+4sm6M3mKJGN/g2fskTO2KOlLgxyZyTARryCxM9HnxLKEY592jeWe07sKkfoiu/bdTHGr3Sl8Pu6BV8md4OxUR/LAXqJjvpYXsK7dPQxG6tZLbG2d+BREtf9gV0tJ+rouAXqufhClilDS0T+D51K8ntNRXTUzk2D0Wd731GSEyAATM7JqWd5dYskNuSH4o96XPxV7AXpVOdGrDHn7Nkq2E3ivzpSlK3y3uxVQZ66o7s7lgT804ki+vsbrPDPFl6ax7WV+Kfo/sH/OGVnsZxz976/QH6qwdoIHfldsKoi5aOv0ryDNtr342e/lpe+WC4/15XIv9D/mujoY7aKd+AROgL4kfjly7N1irwet6XOzT1U90jO5u9iJhs4VReRXaZJ/mcuXy//p4H/abu3FFuQREleIIXESMkfnGeGV8Drva9OHN9N/GcfF++cH4e3otTMaQFL2XPFgaWaouFb6a17zGZ69MZGiB79ZKEM0T1s7VwulSDx8xEniFeU3NZm+Wx7Y912zEZgT9YtAd/TFeBv6paAwz9drNuy1Qv2FrZ5Wp11JWqbRkXVfojbdo5zNW/b1IVrZdL81fKR5nLr1ryeXKR5JW1P21x88Hut24l07yl22T1fK66z3Yen7d5Crnhhppyli7TaNg7n+8quFozQ944Fqt/fu3VwFcFyjFJqL0AAWHszZ14RG3KRxG+8QvxDdPeAjl2caRcNiZaA5WiztAw2ed8u4ZVkcBTnOb08aKNQmVgNGiZV/9tvRL7+TLyLfx6mau2wLtYXB+uCA/vPdg+xPZknla2Rxyctlrkr1wc7dVj/W8Bol+sth5td5luqc/yK9efddJGJ5ZK8YO820j7JPX13WKlaPCHYGWT00+KH9LJ7LZpS7VM7akA+oEsT3bJxcbBzSrVPyuOdtrL8z5p43HYvuW1gZ+nanHl+6XQHAWA6ehF/rdeuo3iHHRcsCIlddVMo5xFFnJjqJylgI0PTFq0J/rj/VtM2ZGJEZ9HqDXqpcYn8+tAOGTlekk3JydOCuX/9jxBLURLVYpdrD9JFOfaflY06sjNfLwuX64f7qopNwc+224glm26rO4xYCo98j/R4+xwo/uP3icz6SqRLj6jS11jvc/q0DuZUfqXbw3VvGZ4Ay+aP2nzhfjri+7vD24q9NyjpCSCYnl/kX+2deKbI3Fkin7wX+bbQgOgKWJqGyw4olSX6DX/YBwvSzkdmCw3u1g+Lg3TLtz7t3Er46i9fIv6HY8U76uTodng1NbeV4TYCtbteDrakvbZi2yb02+Vhyx2Z7+DPquzVqyfe/gM0J6C7i0Fa62V4WxDyyMcL0/49rKaba32XXf63vH5/HlcmF+/XVn6mfycI/mrNWO0LCACrZSmcO4N9gjU3YHzEP8VyilEQyJdAI73sZ+kbLJHviE+XpFUNmx+0UEcAf6C7jrhWLO+f7LG32Ag+JfcC3oFHiv/+207/vbT5mrM0PdPYWStzD1zljDbv8xejZwX5Ce/SZM6HdnVsIVeVtubjJgFgPtRDdk7v4KNEGjbS/USfDVnNqE6hCdjow+8O7yjP6X6dj01alNIIxATN+WcBpOWhc27P3/XrNH3Ty6FJ/Fxo78+gvbp4Tkqaif/xBGebb3MwL9Zt9O7XkbdynauZ62Ipjmz/3qs1h6SN4P9RkzqXNgnnopRc22TyfASAmdSM6LEsx1WwT/ALI8UuL1EQyKdAF53YfcvRncS2brtPLwfbSt5ky0c6enjX+Hlypa4stsUlrhV//OsirdqK7LKHa02LTHtsukIwCjhO+8LhcrBOn9hFF93c9/78lL6IpUpje3bfNb5MHp64MPgSd6Gu9HYpf2eqLtl4HQFgNlQjeExPP1C8PvuJ//SjEaw9VXZNoFPTenLrMZ1k+uK18qtXZ8mcHewWEmz1pqOGt+lKYpsjZKlBXCu+JW9/dZR4jq5AjVJ/ef0P/25LzaWLolTtWtXVAt1LdUu9abrLxstf5ib34Rf6+37lizNlhe7ne/cJXWVfzR1JyZ4AAWD2bCN3ZO+MC8T/aLz430yPXN2psHsClofsdk31sFvrBnKlXgqykYhZmvS1arHA72PdveC3r30rz3y2JJhDaClGnCyTPhDZsEG8/Q52snlRapTXrKVIzz3Ff3dMlKpd67o2q19XrtKt1R7S0bipGghmq1huvyd12sZ1+ns8ULek+/0RO0lzXfVNya4Awtn1jdTRvZatxRt4msSfuF9iv7xdvBjfDyLVgQ5W1pI3/1DnIh2zczN5atoSueblmWKLRdo3KdLt40Rm68igrR49dpdm8hvdccK1OX9VuzT+yjPiHXmieHX5s13VJV+3Yzp3Oq5XTPzjBzudQsvm4F2ki6lueWuOjsp3Fhudz2SZuWyd/GXCfFmvOR9v1qkfLk7dyKRXJo/FX5JMajpwLG/gGUGKgyDbvW19REEgBAKddJeIKw9sLz/pG5dvlq7TbcR0JEyT/++kH0a2g4QFgS4Xf8YXGu1+I97PrnO5mdFqW5++Iv+6V+TLac7PyTy2R3NZvnZTsGPPDTo6161F+vkBLcm3jfqN0i39Tt6tRbD7iCUKp+ROgAAwd9aROFOQ52rQheIP17Qw+xwgXv2Gkag3lSwMAcv/ZXnidm9TGO2tbGUw9+/go8XSNlHCIeAVFYnX71Dxx78mNofa9XJWn1bBbiy/0cu0NjewMoF3bdttl3vfnlku//pkkbTSVf+3Ht05VAmna9ueKD+fcDvKvZelugdzjHTfS//FJ7N0Bg6LAALJCvhLNB3Ox+/q5d+Tkn0Jz8uRgHeQ5gT8cJz469bm6Iz5Pc3pmh/wsv6lco9esv0/XW2/XLfoS7ZYQudXvloulz7/TZDi6Xzdx/c2XegVpt1Gkm2LK89jBNCVnsxgO2z1V+zsiyV+27XiDzhGgk3QM3h8DoUAAskL+G88J6KXG/k9TN4sV8/0Ou0s0rpUF8+NE9snuBBKf11h310vAT+oC0N+NOprObxbUzm0S4nsqiljtt3CcbVu6ffZorXy/pxVMvbbcmmui0oG92olh+jzXZ+2EYX3AgFgFHopD3W0P2xev8MkPvJBqXPJr/NQA06JAAL+2jXiv/OKxC77PRghFQhGAW1ruAIJAK0bLGH7tQM6BPNxX/himdz69txgEYcla25UHNN9nEWW6raOS3SE0PZx3ksXktge37tpkGgDDJRwCBAAaj8MHjz4BP3nRv1vD31z/n3EiBFXhqN78lsLT7eI86/7sfifTRJPUx5QEEAgtwL+2FdFSncSr3vP3J6YsyUtYF+U/aceFn/hPPHatE/6dS480RaDWN5Nm9c3d2WFlOnWbWs1+rN9m1s2rBvs3tGCdC6h7WrmAGrXxOPxL/S/CzX4+1NoeyoPFfN0uyPvxLOCtDD+ptxvB5SHJnNKBEIjYL9z/uvP6bZvp4SmTlRkewGviead7LO/Zk94Y/sHC+Qeu/Rr6WH66eXhw3S/XrvEu4cu1iL4C/cbgABQ++epp576Uv+brEFg8jNaw92vGaudd4QOjtoOBG++lLFjciAEENixgD/x3e+etHf/HT+ZZ+RVIHbgUZoU+g2x3VooCERFgAAwKj2Vp3p6dYskdtaPxB/1mPgrluWpFpwWgcIS8HWHE/9VTfx81Eni1alTWI2PYmt77RN8UZbPJkex9tS5QAUKYg6gzvGzr9Ldq+lj22V+75EjR86t5jHu2izg7bG3ePoHzh/xT/EuvgYXBBDItsAXU0UWzBVPc/9Rwi9gQbp3wOFBEn37e0lBIAoCBREAaoCXsWsoQ4YMGaiXigda5w4dOrR42LBh0qTJ1hvPFxcXS0mJW/uRxi+6XFZcdb40mPmFFPXZLwrvbXGxHyIBv00l6YdtQJL4ceVrz0ixbsvYoE27JJ6d/FPoi+StavvMTQNPkfJrfyiNdT5crPHWnwnbHot+2FYkfz/r5/gtgwYNqrAaxGKx0boIdHT+apPbMxdEAJgsqXb+Dtenb35zBG8QvUxjUd5PV65cKXbJprJY8FdeXl75oxv/1i0W79RzZdX9d0rs+r+KV1Qc+nY52Q+hV9++gvTD9iY13ePPniHxaZ9I/LxLZUOG/47QFzXJp/lYk+a6N2E3KX/9BYkdfnyNB6MfauTJyYOWjqZx48aigzi/1tuOfWAnR8gcQHXS6P9IvUw8W4O4K/W/H9htve/E5AgL51neYceJNGgk/kvsEFI4vU5Lcy3gv/y0eAceKbYKnxItgS05AaNVbWpboAKMAGrHP/nkk6/rPzsV6Hsg6WZ7sToSO+8Sid/+S/H7HiJeu45Jv5YnIoDAjgX8xQvEnzhOYjfeu+Mn84zQCXj7DdB91B8Qf+4s8Tp0Dl39qBACVQUYAayqwe0dCnidu4s3YKDEH/2bpjzQdO8UBBDImID/iq781bQvbPuWMdKcHshr2CjoP992BqEgEHIBAsCQd1AYq+eddp7I8qXiv/F8GKtHnRCIpIC/coWuIn1VvGNPj2T9qfR3ArYnsD/hTfE3klaW90S4BQgAw90/oaydV6++xC64TPxn/i3+gnmhrCOVQiBqAv4bL2iyqt3F9uGmRFhg194ixfVEPv0wwo2g6oUgQABYCL2chTZ6u/QKcpTFH76b7PdZ8OWQhSXgr18n/hhdPXrsGYXVcAdb68Vi4vU/QuLjbGo5BYHwChAAhrdvQl+z4FKw7g7iv86l4NB3FhUMtYD/1ssirdqK7NYn1PWkcskJeAceITLlI/HL2T0pOTGelQ8BAsB8qDtyzuBS8IVXfHcpeM4MR1pFMxDIrYBfsV780U9L7MQzxXKTUaIvECzi6d4zmAsY/dbQAlcFCABd7dkctcvroXOWdMeC+LA/ib9ubY7OymkQcEfAf+cVkRJNIrxnX3caRUskWAyil4GrbhIACwJhEiAADFNvRLQuno5cSNPm4j8+LKItoNoI5EfA31Ah/stPSewkRv/y0wPZO6u3z4EiSxeJzPwqeyfhyAikIUAAmAYeL/1OIEgQ/cOrxJ/yocTHM/GZ9wUCyQoE+eIa6b6xex2Q7Et4XkQEvHr1xNtfE0OPJydgRLqs4KpJAFhwXZ6dBnvNWkrsB1cGo4D+LL7xZkeZo7ok4G/cEGyr6J0wRGzlKMU9AdvSz3//bbGRXgoCYRPgr07YeiTC9fF67SveCWdK/G83i6+JoikIIJBYwH93jOaLqy/evnqpkOKmwM676fzOZuJ/PMHN9tGqSAsQAEa6+8JXedvFwOvZR+L3aBCoqxspCCCwvYC/QUf/XhihX5hs9K/O9k/gHicEbFV3MApITkAn+tO1RhAAutajeW5P8AfvvEtF6taV+D90ZTDbIeW5Rzh9GAX8t0eL1G8gXt8BYawedcqggNf/cJHpU8S3BSEUBEIkQAAYos5wpSpeUZHELv1tsALOf+j/2CnElY6lHRkRsHRJ/gvDJXbquYz+ZUQ03Aex+dGyx94SpPsJd1WpXYEJEAAWWIfnqrleo8YSu+IG8b/9Wvx/3UsQmCt4zhN6Af/150Rat9O8f/1CX1cqmBmB2OEniO32Ypf+KQiERYAAMCw94WA9PJ38HLvyJvG/+kz8++/kj5+DfUyTaifgr16pu378V2KnnceuH7Wji/azd99LpEEj8SeOj3Y7qL1TAgSATnVn+BrjtWglsV/8UfzFCyT+1xvFX7smfJWkRgjkSMB/6SmRLt3FY8/fHImH4zSW5sc7/Hjxx7wQjgpRCwRUgACQt0HWBbwmJRK7+iaROnUkfss14pfNyfo5OQECYRPwF83XAOB5iZ1xftiqRn1yIOAdeITInJlCntQcYHOKpAQIAJNi4knpCnj1G0rsZ78Vb+9+Er9Vg8CJ76Z7SF6PQKQE/KceCXaG8Dp3j1S9qWxmBLyGjcU74DBGATPDyVEyIEAAmAFEDpGcQLBl3OnnS+z8yyT+8F8kbotD1q9L7sU8C4EIC/hfTBX/04ninXpehFtB1dMV8GwxyPvvSHzlinQPxesRSFuAADBtQg5QWwHb+SD2+7v1UvC3Er9Jt49j67jaEvL8CAn48bjEhz8g3nFniNesRYRqTlUzLeB16CzSbVepeOPFTB+a4yFQawECwFqT8YJMCHgt20jsmpvFkqTGb/+lxF96UlPFxDNxaI6BQKgE/LdfFlmzSryjTwlVvahMfgRiR5wg63QlOEny8+PPWf8nQAD4Pwtu5VgguCSsW2HFrrk1SJIav1vzBnJpJMe9wOmyKeAvXyL+049K7Nwfi1dcL5un4thREdirn3i6U5L/0bio1Jh6OipAAOhox0apWV7XHhK77i7Nk9VA4jdeLjZfioKACwL+E3rpt9e+wX8utIc2pC9gX3zr6Rdf/xUdBfT99A/IERBIUYAAMEU4XpZZAa9hI4kNvVbnSQ2S+N3XS/ydVzJ7Ao6GQI4F/MkfiP/ZJ+Kd9cMcn5nThV2g3mHHBltlyueTw15V6uewQF2H20bTIibgeZ54R5wovk6Ujt97i8SXLRHvpLPYMSFi/Uh1RacylEv80b+JN/gi8UqaQ4LAVgJevfriHXa8xF95Rur03HOrx/gBgVwJMAKYK2nOk7SAt2tv3T3kNvHHvir+f4ZxmSRpOZ4YBgG7rBf/9z0iXXcV76CjwlAl6hBCAdsZRKZPEX/urBDWjioVggABYCH0cgTb6HXoJLFrNQic/KH4Ix4kCIxgHxZqle2Li3z9ucS+fymj14X6Jkii3TYyHCSG1hXBFATyIUAAmA91zpmUgNeytcSuukn8D98R/7knknoNT0IgnwL+jC/Ff+J+iV10pdgWiBQEahLwBp4u/gf6921hWU1P4zEEsiJAAJgVVg6aKQGvTanErrhR/NdGSXzCm5k6LMdBIOMCfvlyif/9VvFOPlu83ffK+PE5oHsCXtv24u13sPgvjnSvcbQo9AIEgKHvIioYXA7+0c/F/9c94uulNQoCYRPw162R+F9vEq97T/GOOS1s1aM+IRbwLCXMe2+Jv2h+iGtJ1VwUIAB0sVcdbFOQS+2070n8Pp0XqCssKQiERcCvWC/xv90soqmMvAuvYN5fWDomIvXw2nUQ2x7T192QKAjkUoAAMJfanCstAe/Ik3UfzV0k/uBdbBuXliQvzpSAv1ZH/v72B5GNGyR2ya/FKyrK1KE5TgEJeCecKf67Y8RfvKCAWk1T8y1AAJjvHuD8SQtYnsDY+T8TWTA3mBOY9At5IgJZEPAXztN9rH8lEovpPNUbxHK7URBIRcAr7SjePjoKyFzAVPh4TYoCBIApwvGy/Ah4DRvrCssrxB/1uPhlc/JTCc5a0AJ+PB7sVBP/w1Xi7dpLYpf+Vrz6DQrahManL2CLh3xd6ObP/Tb9g3EEBJIQIABMAomnhEvA6767eIceK/GH79ZLwZvCVTlq46yAv2mT+B+Nk/jNV4v/wgiJ/eBqiZ11sXh12VDJ2U7PYcOCFcEDjpH4Uw/n8KycqpAF+MtVyL0f4bZ7p35P/Bt1JPDVZ8UbyKrLCHdlaKvub9ggMm+W+N9+I/LFVPGnfChiW3gdeZJu43WceMX1Qlt3KhZNAe/Es8T/zY/E1z2Cvd36RLMR1DoyAgSAkekqKlpVwD58YxdcJvG7fif+Pv3Fa92u6sPcRqDWAv7ypd8FeZpqyJ/1tUiZXoqzeX07dRNPFx/FfvZb3d5tF/F0zh8FgWwIWPJw77jBEh/5kMR+cyfvtWwgc8wtAgSAWyi4ETWBIOdav0MlPvwBqXPpdVGrPvUNgYDN55NJ70v8tWdFvpr2XYBne1GfeKZIp24irdqS1iUE/VRIVfCOPFH8t17SvdBfEe+QYwup6bQ1xwIEgDkG53SZFfBO+7741/1Y9wz+QLw++2f24BzNaQF/5pcSf3yYyLLF4h11snhDfy62PysFgXwKBFc3zv2xxB+4U/y9+vGezGdnOH5urmU43sGuNy+4ZHLaeRLX/Vf9DRWuN5f2ZUAgWMU7+mmJ/0nz9vXaR2J/GCYx3ZOV4C8DuBwiIwJe7/1Eeu4p/vAHM3I8DoJAdQIEgNWpcF+kBLxDjhFp0EgXhIyKVL2pbO4Fgl07/v5H8d98SWLX3Cyxk8/R/H0s5sh9T3DGHQnYCnN/ygfiT/14R0/lcQRSEiAATImNF4VJwIvVkdjgC8V/+Sm2iQtTx4SsLv6a1RK/+waRlcsldt2fxdMFHRQEwirgNWsp3unna7qrv4i/emVYq0m9IixAABjhzqPq/xMIUiZofkD/heH/u5NbCGwW8Nev0+DvepHiYoldeaN4jZpgg0DoBSzfqXTeWeKP3iO+74e+vlQwWgIEgNHqL2pbg0DsdF0Q8vZo8RfNr+FZPFRoAv7GjRK/7zaRIg3+bL9etmwrtLdAZNu7ZfvLrz8L/rZFtiFUPJQCBICh7BYqlYqA17GLeH0HiP/Mv1N5Oa9xUMBGTfzH/i6iOf6C4E+DQAoCURLwmjSV2MXXiD/in+JPnxKlqlPXkAsQAIa8g6he7QS8k88V/5MJmsj3q9q9kGc7KeC/oyPCmufPkjh7DRs52UYa5b6Ap7kpPV0UErcFTAvnud9gWpgTAQLAnDBzklwJeC1a6TZdx0v82f/k6pSc5//buw8wK6qzgePvmaWzgKISQaQjQTECasCGqAgqCtJBRYxtLRgl0RjUL9EQTVRsUTQbo6KCCCxgQINEUVRssUSjYoOIikIUMdKkzvneM7AJLMuyd2+b8p/nuc/unTtzyu+9u/e9U84JqYD95CMdRuM+8YquFPe+YEEgygKezhNsjuwh/i3XaBK4NMpdoe0hESABDEkgaEbmBIyO6SY6l+amhR9krlBKipSAu2vSHS0xfU8X065DpNpOYxHYmYAZcJaYzkcEY1jaZUt2thnrEaiUAAlgpZjYKEoCpv5uwVHAddPGR6nZtDVDAsF1fxP0uj+dys0c3zdDpVIMAvkXcDeFmMFnizn8OPFvuEIvb3gt/42iBZEVIAGMbOhoeEUCplc/2fjeW2I/+biizXgthgL2788HF8t7Z17MPL4xjG/SuxTcGdzvDDFnXCj+vWN1nMA7GP806W+KKvafBLCKcOwWbgF3FLBmz1PFn8W1gOGOVGZbZ1csF/vIH8Ubrskf8/pmFpfSQiXg/bibeNfdJXa1Xu4w+lzx3V3CSxaHqo00JtwC1cLdPFqHQNUFavUZKutHDg2OApqWbateEHtGQsCd+vUn3C3moC5iOnWNRJtpJALpCJg99pKCkXpTyL8+FPv0TPF/d7lIw73EtD1ApE17Ma3bizRqzJHwdJBjvC8JYIyDm/Suee5awG69xH+yRAouHJ10jvj3/82XRBZ/LGbM3fHvKz1EYBsB06qdmPP1msB134u8/7bYhVsGjrYPjxOpVUfEvd76h2I66pejJs222ZNfkyxAApjk6Ceg76ZHX7FXF4m7Y87s3TQBPU5mF4N5fifdqxfIn8M0b8l8C9BrFTC1aovo0e/SI+B240aRzxZtOUL48XtiH9epMn+wj5gefcR0OVpMNVKAJL9xiL5Gf/DgwT/V00fn6a9uskX91d5UUlIyMclvjLj0PRgXsEs3sXNmiBlxSVy6RT/KCNgZD4vs0yz4UCvzEk8RSKyAqV5dxB3504foHfH2+7ViX58v9q9Txer10d7Qc/WoIJdLJPUNwk0gGnlN+N5dv3794VOnTv3R5s2be+tdVrcPGDCgVVLfFHHrtxsX0L4yT+y338Sta/RHBYLrn16aK97pF3KtE+8IBCoQMLXriBtQ2hszTszJQ/QO4jtl8z2/4y7iCszi/BIJoEZXE79nZs6cucoFevr06Uv0x7KCggLOFzqQGCym8b4iBx6sF0n/JQa9oQvbCljfF/+RYjEnDBCjF7uzIIDArgWMVyDekcdrIqjXy7qbp347iiGzds0Wuy1IAMuEVE8H99BVu+lRQUbYLGMT5aeeJgj2OZ0XVmeIYImPgH3lWZFV34kb95EFAQRSEzD1GoinN8iZY3uLP/YqsW+8mFoBbB1pgURcAzho0KCXNUptyomUu+avkx4B/MK9ptsdqInf/foYotcA6u1ULHERcHfJSYs2Yp/9a3DqIy79SnI/7Dq9nmn6Q2KGnCemRs0kU9B3BKosEMwu4i6T0Zvk3MDSRscV9I4+ocrlsWN0BEx0mprdlmryt7/W8FdN/s7R5G/uzmrTI4S9fN/v5V5v2LBhjeLi4otXr1693eY1atSQDRs2bLeOJ7kXKBuHjW/9Xdbcdb00GDdZTM1auW9QQmssG4dMMXyvd/1u+uAdKbz2Dq79qyRqtmJRyerZbKtAWOOwSedQX33jaKl92vlSMwHTKBYWFkpRUdG4FStWBB/YnufNmTJlypykvFFJADXSQ4YMaa9J3Wz99Tw9GvhUZYOvyWJ93fa7pUuXuhtJ/rtb/fr1ZeXKlf99zi/5ESgbBxcj/zeXidFvt173E/PTqATWWjYOmSCwXy8T/9qR4v3iRjHNW2eiyESUkY1YJAIuw50McxzswgXi336dmNMvEO+wYzLc8/AU5458Nm4cXDfcQH9P5Ad2Ik4B7+otp8nfHbpNPX3cpEcCSzf/RSrJYOlO/AyvQHCq4/g+YmeXiNUBoo3HJbDhjVbFLfNLxov5sY5jRvJXMRSvIpCigGmzv3gXjRZ/3PVidVzB0jEFUyyGzSMgQAKoQdJEr2cEYkUTMyBgDtUxAac9KPLem3pn8CEZKJEici3ghn1x8TPXF+e6aupDIBECZv+O4p3zM/Hvu028K67XL1rlXUKfCIpYd5JDILEOL50rK+AGRjXHnCT+UwwJU9YmKs99HfTZHHeKmAa7R6XJtBOByAmYzoeJOWWo+Hf+VuyK5ZFrPw3etQAJ4K6N2CJmAuZovf7PzZW5ZHHMehb/7tgFbwVTWzHsS/xjTQ/zL2B6nipGx1D17xojdv36/DeIFmRUgAQwo5wUFgUBN/aV6dpdB4aeGYXm0satAsFNPO7onxv0uU4hLgggkGWB4LppvRlEdNQEO/Ge7W52zHLVFJ8DARLAHCBTRfgE3GTo9tXnxK78NnyNo0XlC/zjFZFvl+ugtaeU/zprEUAg4wKmWnXxin4h9t03xL4wJ+PlU2D+BEgA82dPzXkUME2aibTrIHaeG/2HJewC1t8s/mMTxPQeomM4Muhz2ONF++IlYHbbY0sSOPk+sYs/jlfnEtwbEsAEBz/pXfd69A0SQLuRQbvD/l6wr8wT0TiZo44Pe1NpHwKxFDDtDhTTZ5j4f7xR7NrtJz+IZYcT0CkSwAQEmS7uROCATiKF9YNTwTvZgtUhELAbN4qdOUk/fE4TdzqKBQEE8iNgevYTabyv2Ifv5nrA/IQgo7WSAGaUk8KiJLBlYGg9Cqg3g2w7k0uU+pCEtgbXHelF6KZLtyR0lz4iEFoB9z/T+8mlYj96V+xLO50xNbTtp2HbC5AAbu/Bs4QJmC5H62R+eiPI+28nrOfR6K5dv07sE1PEO/UMnbmlIBqNppUIxFjA1N9Nk8DLxOpc3HbZFzHuafy7RgIY/xjTwwoETI2awdzA/txZFWzFS/kSsC4uezQS6dglX02gXgQQKCNgOnQW062n+H++ReymjWVe5WlUBEgAoxIp2pk1AdNdB4bWAYbtv7/MWh0UnLqAXbNa7Jzp4vUbLu7UEwsCCIRHwPQ7U0TvzrczJoSnUbQkJQESwJS42DiOAm6IA3PIERIcbYpjByPaJztnmojOQWraHxTRHtBsBOIr4KbV9M67Quxzs8VyCU0kA00CGMmw0ehMC7i5Zd1FzQxvkGnZqpVn9bpMO/fx4Ohf1UpgLwQQyLaAadxUzMCzxH/gDnFH7FmiJUACGK140dosCZgWbUX2bSl2/lNZqoFiUxGwT0wW2b+TmJb7pbIb2yKAQI4FgrnVm7Zgqrgcu2eiOhLATChSRiwEPDc93DNPiN28ORb9iWon7NfLNBF/OrjzN6p9oN0IJEUgGBrmrEvEfvBPxlSNWNBJACMWMJqbRYGOXUUHBBR5+9UsVkLRuxKws3TQZ70m0+yj0/WxIIBA6AVM/d3FO3Ok2EeKxX7zVejbSwO3CJAA8k5AYKuAKSgQc+zJ4uvA0Cz5EbBffCb29RfFnDIsPw2gVgQQqJKA0aGazKFHin//7eLm7mYJvwAJYPhjRAtzKGCO1LlmP/uX2E8X5rBWqioV8B+bIObIHmL22rt0FT8RQCAiAmbQ2SL/+Ubs3x6LSIuT3UwSwGTHn96XETB1C8UcfqxOD8fA0GVosv7UfvKRjsf4DzG9h2S9LipAAIHMC5hatcU752fiLuOwny3KfAWUmFEBEsCMclJYHATcaWD7+nyx/1kRh+5Epg/+jIfFHHeymAa7R6bNNBQBBLYXMK3aiTlhoM4ScqvYDeu3f5FnoRIgAQxVOGhMGATM3k1FdPBhN8ApS24EgoFk9bS76TUgNxVSCwIIZE3AnDRIpHYdsdMezFodFJy+AAlg+oaUEEMBr4cODD1PR7jfuCGGvQtXl6zeeR0c/evVX9wpeBYEEIi2gLuhLjgV/KIOrv/uG9HuTIxbTwIY4+DStTQE2ncUqdeAca3SIKz0rm/psDs6dISbjYUFAQTiIWAaNRYz9Fzxx/9B7KqV8ehUzHpBAhizgNKdzAi4wU2NGxh67iwdGlDHBmTJioAbLiI4+td7sJiatbJSB4UigEB+BMwRPUT0mkD/obv4P5qfEFRYKwlghTy8mGQB07V7MKSBfPhOkhmy2nf76vMieqG46dYrq/VQOAII5F4gmCVk+EiRTz4U++LTuW8ANVYoQAJYIQ8vJlnA1KipickJDAydpTeB3bRR7MxHxPQZJqZa9SzVQrEIIJBPAVOvvnhnXSp28p/FfrU0n02h7jICJIBlQHiKwLYCpvtJIu+9qf+4vtx2Nb9nQMC+8DeR6jUkONKagfIoAgEEwilgOnTW8VWP01lCbmOu9RCFiAQwRMGgKeETMLvvIabz4WKfeSJ8jYtwi+y678U+Plm8/sPFeAUR7glNRwCBygiYASNE1q4RO3tqZTZnmxwIkADmAJkqoi0Q3Awy/2mx+s+LJTMC7uYa2fMHIgd1yUyBlIIAAqEWcJfUeOfqLCGzSySY9SfUrU1G40gAkxFnepmGgGm5n0jT5lzEnIbhtrva1SvFzpmuR/9GiLtInAUBBJIhYJq1FnPyMJ0l5BZxZwFY8itAAphff2qPiIA5ToeEeeZxccOWsKQn4I4ASOsfimnXIb2C2BsBBCInYHqdKrJbQ7FT749c2+PWYBLAuEWU/mRFwHQ+TMQlf2+/lpXyk1KoXfG1zrDyV/H6nZmULtNPBBDYRsBd8+udPUrsazrfuhsEniVvAiSAeaOn4igJuKmNTPfeDAmTZtDsrEfFdOwqplmrNEtidwQQiKqA2aORmNOKxH/wTrHffRvVbkS+3SSAkQ8hHciVgOnWU2Txx2I/W5SrKmNVj126JJhaz/Q9LVb9ojMIIJC6gOlytJj2B20ZGoZLa1IHzMAeJIAZQKSIZAiYuvWCsazsnBnJ6HCGe+k/NkHMEceJadQkwyVTHAIIRE0gmG5z+MUiK5aLfWxi1Jofi/aSAMYijHQiVwKmVz+xb77EwNApgttPPg4G1Da9h6S4J5sjgEBcBUztOuJddFVwXbD7v8qSWwESwNx6U1vEBYyOXWcOOUqHMeEoYGVDaa0Vv+QBMcedIkbv/mNBAAEESgVM46bBVHH+A3eIXfp56Wp+5kCABDAHyFQRLwFz4gCxLz8r9ttv4tWxLPVm4+sviug/dnPCgCzVQLEIIBBlATfKgjn2ZPHvvkHs92uj3JVItZ0EMFLhorFhEDBNmono3Jb2qcfC0JxQt8Fu2iTfTywW0+c0cad7WBBAAIHyBIKbw/TuYP/escwXXB5QFtaRAGYBlSLjL+CdOEjs83PEzWrBsnMB+9yTIm4InaP0DmoWBBBAYCcCwfiA518hsvzfYh+9V9ylIyzZFSABzK4vpcdUwLRsK9KqXTA7SEy7mHa37NrVYh+fJHXOuEDcOIosCCCAQEUCpk6heJf+Wuw/XtYzLH+paFNey4AACWAGECkimQJe78Fi584Sl+iw7Chgn5gqsm8rqdaxy44vsgYBBBAoR8ANEu2NvEbszEli3+DO4HKIMraKBDBjlBSUNAHT7sAgweGb6o6Rt18v06EdnhBv0NnixvtiQQABBCorYFq0Fe/cn4n/wO1iP/hnZXdjuxQFSABTBGNzBLYV8E49XezTM8Wu4lrAbV3s9IfEHNpNzL4tt13N7wgggEClBIyeOTDDdLq4cdeLXfRBpfZho9QESABT82JrBLYTMG32F2nTXscFnL7d+iQ/sR++K/adN8RocsyCAAIIVFXAczMH9T9T/D9cxxScVUWsYD8SwApweAmBygh4ffUo4LNPMKm5YtnNm8WfpMO+nDJEB33eozJ8bIMAAgjsVMA7preYEweKf9uvxOpc7CyZEyABzJwlJSVUwF2vIvt3Eju7JKEC/+u2S4RFk0A36wcLAgggkAkBTweRD5LAW/9P3BkGlswIkABmxpFSEi4QXAvoxgX86svEStiV3+qde4+IN+w8MdWqJ9aBjiOAQOYFvJ79xOhNZf6dvxH7z9cyX0ECSyQBTGDQ6XLmBcw+zcUcdoz40x7MfOERKdGWaN/bdxSjR0NZEEAAgUwLeDqgvBnxU/GLbxLfXXbDYNFpEZMApsXHzgj8TyCYymjBW4k8RWEXLtAxu14Ub/A5/wPhNwQQQCDDAt6hR4o3So8CznpU7MR7xE03yVI1ARLAqrmxFwI7CJj6u2+5TmXKfWJ9f4fX47rCbtoo/kPjxJysN37ssVdcu0m/EEAgJAJGR17wrr5V7L8+FP+mX4obd5QldQESwNTN2AOBnQqY4/uKrFkl9pVnd7pN3F6ws6fpfL/VxBx/aty6Rn8QQCCkAu7Lpjf6ZnE34fljLhP/5Wc5JZxirEgAUwRjcwQqEjDVa4gZMELcQMhJmCLOfvmZ2CdLxBsxUm/8qFYRDa8hgAACGRVw/2+904rEO3uU2JIHxL9d5xFO8I14qeKSAKYqxvYI7ELAHHKkiN4UYmdM2MWW0X7Zneb2H7pLTPeTJBgKJ9rdofUIIBBRATdriDfmbjGNmoh/3aXiu8twdFQClooFSAAr9uFVBFIWcHPfeqdfIPalucE1KikXEJEdgjH/vvtWTJ/TItJimokAAnEVMHUKg/+73pW/16OAS8Uffb74j94r7iwFS/kCnLNRl8GDB1+st5MX6a+b9eEGMHtw6tSpN+tPFgSqJOC+iQYDlz58t3jX3CqmoKBK5YR1p+DUr57m9i79tZiatcLaTNqFAAIJEzDNWkvByGvEfvJxME+7P2aUSPPWEswtfEBnkaYtxH1JZxHhCKC+C6pXr/6wJnw/0ken9evXH6arRg4ZMuRQ3iAIpCNgevXXrxSb9Bo5vUkiRktw1+99mtS6KZr26xCjntEVBBCIi4Bp2Va8834u3tjxYrp2F7vwffFvvFL8S4fJ5t//QvyHx8Wlq1XuB0cAlW7ixIkrSwXr1KlTb7NOZaXLitJ1/ESgKgKmenXxzhmlwxSMFnvgweK+mcZhceNviW/F6BzILAgggECYBUzdesF1yqLXKrsvr/Ll53pa+FMRvXwl6QsJ4NZ3gJ4GHqCnga/T5K+t/rxy8uTJi5L+5qD/6QuY5m30VPAA8e+7bcupYL1rLcqL/ei94LSKd9VYcQkuCwIIIBAVgWCKymat9Mu4PjgNLIk4ET5o0KCX9Q3appw3qdV1nfTU7xelr/Xv3795QUHBM5oEDi8pKXmpdH15P3Wb+rr+u6VLl243/lD9+vVl5cr/HlQsb1fW5UAgLHGwekTZnXowrXXw0iHRnSnD3VXn/2aUmN6DxNPTv5VdwhKHyrY3ztsRi3BElzjkPw4uAWzcuLFrSAP9PZEf2IlIAFN9qw0cOPAe3WehJoC3lN1XjxT28n2/l1vfsGHDGsXFxRevXr16u81q1KghGzZs2G4dT3IvEKY4bF66RFaOLpK6F/1Savz4qNxjpFmj1WsZV19/hZjdGkrdS65J6dtzmOKQJkPkdycW4QghcQhHHAoLC6WoqGjcihUrgg9sz/PmTJkyZU44Wpf9VpAAqrHe8NFeT/m+77j1aKGby+oFfZyrRwbnu3U7WzgCuDOZcKwP27dsN1eu/+Bdeir4lmC8qnAoVa4VvhvY+q1XJTj1W6t25XbaulXY4pBS42O2MbEIR0CJQ/7jwBFAEa4B1PehJnKXauLnDsu4bwH61N6oR/8qTP7y//alBVETMAcfIWbhB+Lfc6N4v7xJh0+pGYku+DqtnZ03W6dd0janmPxFooM0EgEEEEigAEcA0wg6RwDTwMvBrmH8lm03bRL/tl+JuEFLL9TrAr1wjw/obvrw77hWvIuvErN/pypFLYxxqFJHYrATsQhHEIlD/uPAEUDGAcz/u5AWJErAzZfrXTRaZJkORTDl/lD33S5bokcrbxCjN65UNfkLdQdpHAIIIJBgAQaCTnDw6Xp+BNy4VN5PddLyvz8v/t9m5KcRu6jVfr1M/Fv+T8xRvcTrdsIutuZlBBBAAIGoCZAARi1itDcWAmavvTUJ/JXYJ6aIP3dWqPpkVyzX5E/v9D34cDH9hoeqbTQGAQQQQCAzAiSAmXGkFARSFjAtdKqiy64T+5dHNAl8POX9s7FDMIn6WHe9X0c99XtuSsO9ZKM9lIkAAgggkB0BEsDsuFIqApUSMC33E2+UJoEzJ4r/2ITtBhSvVAEZ3Mh+ukh8nSMzmDT9jItI/jJoS1EIIIBA2ARIAMMWEdqTOIEgCbzyRrGvzBP751vFbtT5KnO82H+8oqd9rxbTq794g/WmD49/DTkOAdUhgAACORXgv3xOuakMgfIFTJNmOsjyzWK/XhpMG2f//WX5G2Z4bTBNXckD4t+vcxWPuES8Xv0yXAPFIYAAAgiEUYAEMIxRoU2JFDD1dxfvit+JaXuA+GNGif/i01k9JWyXfi7+Tb8U+84b4l2ts5PoQNUsCCCAAALJEGAmkGTEmV5GRMBUrx6Mu2cP6Cj++DvFvvyseMOKxOzTLGM9sOvWip0zQ6wOQWO69xbT57TIzEqSMQQKQgABBBIuQAKY8DcA3Q+ngOlwsHhj7hY7a5L4vx0lprMOydJ7kLhTxVVd7No1Yuc/JfbJaSI/aCLe5Xq0sWXbqhbHfggggAACERYgAYxw8Gh6vAVM7Tpi9IYMe0zvIGnzx1wm0mI/MYcfK+ZHh4ppsPsuAdzUc/LRO2Jff1EHnn5BpGlz8c4cKXLQj7nLd5d6bIAAAgjEV4C5gNOILXMBp4GXg13jNt+mXbVS7Kt6p7DOICKLF4o0bipm35Yie+8jUthApFYtEXcH8fdrRJZ/JfaLT3W7j0RqF4o55AgxXbrn5Yhf3OKQg7du1qogFlmjTalg4pASV1Y2Zi5gEY4AZuWtRaEIZF7A1KsvpkcfEX3Y1StFFi4Qu2SxyL+Xil30ociGdSIF+iddu66YPRuJ6aoJ3xkX6unefRjWJfPhoEQEEEAg0gIkgJEOH41PqoAprC/SsasO2tw1qQT0GwEEEEAgDQGGgUkDj10RQAABBBBAAIEoCpAARjFqtBkBBBBAAAEEEEhDgAQwDTx2RQABBBBAAAEEoihAAhjFqNFmBBBAAAEEEEAgDQESwDTw2BUBBBBAAAEEEIiiAAlgFKNGmxFAAAEEEEAAgTQESADTwGNXBBBAAAEEEEAgigIkgFGMGm1GAAEEEEAAAQTSECABTAOPXRFAAAEEEEAAgSgKkABGMWq0GQEEEEAAAQQQSEOABDANPHZFAAEEEEAAAQQ/CxaHAAALO0lEQVSiKEACGMWo0WYEEEAAAQQQQCANARLANPDYFQEEEEAAAQQQiKIACWAUo0abEUAAAQQQQACBNARIANPAY1cEEEAAAQQQQCCKAiSAUYwabUYAAQQQQAABBNIQIAFMA49dEUAAAQQQQACBKAqQAEYxarQZAQQQQAABBBBIQ4AEMA08dkUAAQQQQAABBKIoQAIYxajRZgQQQAABBBBAIA0BEsA08NgVAQQQQAABBBCIogAJYBSjRpsRQAABBBBAAIE0BEgA08BjVwQQQAABBBBAIIoCJIBRjBptRgABBBBAAAEE0hAgAUwDj10RQAABBBBAAIEoCpAARjFqtBkBBBBAAAEEEEhDgAQwDTx2RQABBBBAAAEEoihAAhjFqNFmBBBAAAEEEEAgDQESwDTw2BUBBBBAAAEEEIiiAAlgFKNGmxFAAAEEEEAAgTQESADTwGNXBBBAAAEEEEAgigIkgFGMGm1GAAEEEEAAAQTSECABTAOPXRFAAAEEEEAAgSgKkABGMWq0GQEEEEAAAQQQSEOABDANPHZFAAEEEEAAAQSiKEACGMWo0WYEEEAAAQQQQCANARLANPDYFQEEEEAAAQQQiKIACWAUo0abEUAAAQQQQACBNARIANPAY1cEEEAAAQQQQCCKAiSAUYwabUYAAQQQQAABBNIQIAFMA49dEUAAAQQQQACBKApUi2Kjs9Hmfv36NapWrdo7WvZLU6dO7ZeNOigTAQQQQAABBBAIgwBHALdGQZO/Yv11VhiCQhsQQAABBBBAAIFsCpAAqu6gQYPOMcYs0scL2cSmbAQQQAABBBBAIAwCiU8ANflrqYEoWrVq1dXWWhOGoNAGBBBAAAEEEEAgmwKxvwZQE7yXFbBNOYh28+bNnXX9/foYOXv27PW6bTmb7XqVHjncYaPy1u2wESuyLkAcsk5cqQqIQ6WYcrIRscgJ8y4rIQ67JMrqBviL7Ji5ZJU8XIVrwtdAW7RIH6u2tqxQf9bRh7sR5Pit67b7MXjw4F6+7/dyK5s3b1537Nix52+3AU8QQAABBBBAIBICl19++Z8+/fTTNa6xnufNmTJlypxINDwDjUx0AljWT5O7EXoa+NTK3gW89ZRxEy2nNIEMiiwqKrqhuLj4qrLl8zy3AsQht947q4047Ewm9+uJRe7Ny6uROJSnkvt1mvzdrAdxLtCjgTb3tee/xtifAq4CcaXfCFvfNF+UrWPgwIEb9LWVZdfzPLcCxCG33jurjTjsTCb364lF7s3Lq5E4lKeS+3UahzVJTf6cNgngNu85PfT7oD51DxYEEEAAAQQQQCC2Aom/CzgbkXXXEWSjXMpMTYA4pOaVra2JQ7ZkUy+XWKRulo09iEM2VFMvkzikbsYeCCCAAAIIIIAAAggggAACCCCAAAIIIIAAAggggAACCCCAAAIIIIAAAggggAACCCCQfwHGAcxgDAYMGNBWLyp1dxHvoY/v9HGWjim4IINVUFQlBE488cSahYWFk3XT9vr4Xh9faVwunDx5shv0myXHAjrUwk90qIX7tFo3xubMHFdPdSrg/ibq1q17i8ahpz5dp2OYvl1SUjIcnNwK6N9Cf43Br7RWN9xYNY3DzRqHh3LbiuTVpmP8/kGtT9GeN9eJHDpOmzbtn06hX79+japVq+b8W+ljvW5zkcbjBfdaEhbuAs5glDXJKNY30B/1Q66d/pHfqEWPz2DxFJWaQBAHjUVHjcVf9I/+z6ntztaZEBg6dGgL9T9Xy3JTMrLkSaBevXq/16o369/Dfvr4kU6D+fM8NSWx1V577bWe/i08qJ8TZ2gMOmkMTtbnxcOHD6+bWJQcdVw/l6doVUfq49Ntq6xevbr7u3Azf+2nnxE/0Xg80r1798QMj0cCuO27IY3f3TcJ3f3gDh06THDF6JiC0/XHvnpU0H2zYMmhgJvXWf+gnyytUv/Rvqq/tyh9zs/cCLgPPLW/Vz/wLtEaN+SmVmopK+ASDP0APFs/3K4ufW3GjBlflf7Oz9wI6N+DrzUt07+J3V2NGg83Fenyzz//fL17zpI9Af08mK+PHSZt0L+LQZs2bfqjq1mPCr6uP77cc889j85eS8JVMglghuKhh5H31aKWbv0jd6W6Q/yf6R95M/eEJX8CGoNL9fFY/lqQzJoXLFjwM/0HO19Pvb+ZTIFw9Hrt2rWttSUr9HG1zn/+mj6e18ex4Whd4lpxpvtfpP6L9YuRO9U4Yt68eZsSpxCCDutBG3epVvVtvwzp/6vFui4xn9kkgCF4I9KE7AnotR9X6T/cVnXq1BmdvVoouazAkCFDOug/0/7Lly+/vvQ1fc41x6UYOfypX07dKa3m+nfwnh4FOVR//6k+Jm89a5HDliS7Kk36ClVgqj76ahxa6CnH4/T3CVsTkWTjhKj3+ndS6elgQ9TsKjWFBLBKbDvupIeRP9e1jd1pr62vug+7Zvqh99mOW7MmFwKa/F2u/qfWqFHjxPHjx6/LRZ3UsUVA3d31Ni322muvj/WD7xP9vav+Y/2TXgRfhFFuBfRIk/sf5OtlKRNdzZp8vKU/PtG8sIN7zpIzgf21pjXqP9/VuPWU45KCgoKOOWsBFf1XQI/8faNPNg0bNuwHpSv1f1QL/T0xn9mlyUpp//lZRYGth5Hf1NNewZ11+qE3QIv6XP/I/1XFItktDQH1d6cfh27cuLHnxIkTV6ZRFLtWQUCTDXcTThN9tHQPLeIVfZynd9gVV6E4dklDYNKkSct197mafJ/gitG/DRePlnot2vvuOUvOBBZqTY30uvAfuho1Dm30R2s9Evihe86SGwH94uMOzpQuU/Uz4gL3RM9auKPj++jjOfc8Ccu2EEnob1b7qG8gdyfReK0kGAbG3VWkCeB7Wa2UwncQ6N+/f1P9Vu2+xS3Sx+qtG6zTROSwHTZmRU4E9MPuWa3oNo0Bw8DkRHz7SrYmfffp2j314W5GuE5jMWP7rXiWbQFNwvvqUaZfaz3us7dAv6TeoF+KHs12vUkvX9//7ovnSfpwR/vc9bAr9f2/n7sMQhPCh/V5S32s18dIXZ+YBFD7y4IAAggggAACCCCAAAIIIIAAAggggAACCCCAAAIIIIAAAggggAACCCCAAAIIIIAAAggggAACCCCAAAIIIIAAAggggAACCCCAAAIIIIAAAggggAACCCCAAAIIIIAAAggggAACCCCAAAIIIIAAAggggAACCCCAAAIIIIAAAggggAACCCCAAAIIIIAAAggggAACCCCAAAIIIIAAAggggAACCCCAAAIIIIAAAggggAACCCCAAAIIIIAAAggggAACCCCAAAIIIIAAAggggAACCCCAAAIIIIAAAggggAACCCCAAAIIIIAAAggggAACCCCAAAIIIIAAAggggAACCCCAAAIIIIAAAggggAACCCCAAAIIIIAAAggggAACCCCAAAIIIIAAAggggAACCCCAAAIIIIAAAggggAACCCCAAAIIIIAAAggggAACCCCAAAIIIIAAAggggAACCCCAAAIIIIAAAggggAACCCCAAAIIIIAAAggggAACCCCAAAIIIIAAAggggAACCCCAAAIIIIAAAggggAACCCCAAAIIIIAAAggggAACCCCAAAIIIIAAAggggAACCCCAAAIIIIAAAggggAACCCCAAAIIIIAAAggggAACCCCAAAIIIIAAAggggAACCCCAAAIIIIAAAggggAACCCCAAAIIIIAAAggggAACCCCAAAIIIIAAAggggAACCCCAAAIIIIAAAggggAACCCCAAAIIIIAAAggggAACCCCAAAIIIIAAAggggAACCCCAAAIIIIAAAggggAACCCCAQFgE/h8J8Ah9rBb8aAAAAABJRU5ErkJggg==\">"
      ],
      "text/plain": [
       "<IPython.core.display.HTML object>"
      ]
     },
     "metadata": {},
     "output_type": "display_data"
    }
   ],
   "source": [
    "fig1 = figure(figsize=(8, 8))\n",
    "\n",
    "ax1 = fig1.gca()\n",
    "\n",
    "p1, = ax1.plot(t, q1)\n",
    "p2, = ax1.plot(t, q2)\n",
    "ax1.legend([p1, p2],[r\"$q_1$\", r\"$q_2$\"])\n",
    "ax1.set_ylim(-4, 4)\n",
    "ax1.set_xlim(-0.1, 10);"
   ]
  },
  {
   "cell_type": "code",
   "execution_count": null,
   "metadata": {
    "collapsed": true
   },
   "outputs": [],
   "source": []
  }
 ],
 "metadata": {
  "kernelspec": {
   "display_name": "Python 3",
   "language": "python",
   "name": "python3"
  },
  "language_info": {
   "codemirror_mode": {
    "name": "ipython",
    "version": 3
   },
   "file_extension": ".py",
   "mimetype": "text/x-python",
   "name": "python",
   "nbconvert_exporter": "python",
   "pygments_lexer": "ipython3",
   "version": "3.4.3"
  }
 },
 "nbformat": 4,
 "nbformat_minor": 0
}
