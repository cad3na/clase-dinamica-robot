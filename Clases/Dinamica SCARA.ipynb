{
 "cells": [
  {
   "cell_type": "code",
   "execution_count": 1,
   "metadata": {
    "collapsed": false
   },
   "outputs": [
    {
     "data": {
      "text/html": [
       "<link href='http://fonts.googleapis.com/css?family=EB+Garamond' rel='stylesheet' type='text/css'>\n",
       "<link href='http://fonts.googleapis.com/css?family=Lato:100,100italic' rel='stylesheet' type='text/css'>\n",
       "<link rel=\"stylesheet\" href=\"//cdn.jsdelivr.net/font-hack/2.013/css/hack-extended.min.css\">\n",
       "\n",
       "<style>\n",
       "\t@font-face{\n",
       "   \t\tfont-family: \"Computer Modern\";\n",
       "        \tsrc: url('http://mirrors.ctan.org/fonts/cm-unicode/fonts/otf/cmunss.otf');}\n",
       "        \n",
       "        div.cell{\n",
       "\t        max-width:    800px;\n",
       "\t        margin-left:  auto;\n",
       "\t        margin-right: auto;}\n",
       "        \n",
       "\th1 {\n",
       "        \tfont-family: 'Lato', sans-serif;}\n",
       "        \n",
       "\th2 {\n",
       "        \tfont-family: 'Lato', serif;}\n",
       "        \n",
       "\th3{\n",
       "\t\tfont-family:   'Lato', serif;\n",
       "        \tmargin-top:    12px;\n",
       "\t\tmargin-bottom: 3px;}\n",
       "        \n",
       "        h4{\n",
       "\t\tfont-family: 'Lato', serif;}\n",
       "\t\n",
       "\th5 {\n",
       "        \tfont-family: 'Lato', serif;}\n",
       "    \n",
       "\tdiv.text_cell_render{\n",
       "        \tfont-family:  'EB Garamond', 'Computer Modern', 'Helvetica Neue', Arial, Helvetica, Geneva, sans-serif;\n",
       "\t        line-height:  140%;\n",
       "\t        font-size:    14pt;\n",
       "\t\tmax-width:    650px;\n",
       "\t\tmargin-left:  auto;\n",
       "        \tmargin-right: auto;}\n",
       "        \n",
       "\t.CodeMirror{\n",
       "        \tfont-family: 'Hack', 'Consolas', 'Inconsolata', monospace;}\n",
       "    \n",
       "\t.text_cell_render h1 {\n",
       "\t        font-weight:   100;\n",
       "\t        font-size:     48pt;\n",
       "\t\tline-height:   100%;\n",
       "\t        color:         #CD2305;\n",
       "\t        margin-bottom: 0.5em;\n",
       "\t        margin-top:    0.5em;\n",
       "\t        display:       block;}\n",
       "        \n",
       "\t.text_cell_render h2 {\n",
       "        \tfont-weight:   100;\n",
       "        \tfont-size:     36pt;}\n",
       "        \n",
       "\t.text_cell_render h3 {\n",
       "        \tfont-weight:   100;\n",
       "        \tfont-size:     21pt;}\n",
       "        \n",
       "\t.text_cell_render h4 {\n",
       "        \tfont-weight:   100;\n",
       "        \tfont-size:     18pt;}\n",
       "        \n",
       "\t.text_cell_render h5 {\n",
       "\t        font-weight:   100;\n",
       "\t        font-size:     16pt;\n",
       "\t        color:         #CD2305;\n",
       "\t        font-style:    italic;\n",
       "\t        margin-bottom: 0.5em;\n",
       "\t        margin-top:    0.5em;\n",
       "\t        display:       block;}\n",
       "        \n",
       "\t.text_cell_render h6 {\n",
       "\t        font-weight:   100;\n",
       "\t        font-size:     14pt;\n",
       "\t        color:         #CD2305;\n",
       "\t        font-style:    italic;\n",
       "\t        margin-bottom: 0.5em;\n",
       "\t        margin-top:    0.5em;\n",
       "\t        display:       block;}\n",
       "    \n",
       "\t.warning{\n",
       "\t    \tbackground-color: #FFFFE0;\n",
       "\t    \tborder-color: #FFCC99;\n",
       "\t    \tborder-left: 5px solid #FFCC99;\n",
       "\t    \tpadding: 0.5em;}\n",
       "\t    \t\n",
       "\t.error{\n",
       "\t    \tbackground-color: #fcf2f2;\n",
       "\t    \tborder-color: #dFb5b4;\n",
       "\t    \tborder-left: 5px solid #dfb5b4;\n",
       "\t    \tpadding: 0.5em;}\n",
       "\t    \t\n",
       "</style>\n",
       "\n",
       "<script>\n",
       "\tMathJax.Hub.Config({\n",
       "        \tTeX:{extensions: [\"AMSmath.js\"]},\n",
       "\n",
       "        \tjax: [\"input/TeX\",\"output/SVG\"],\n",
       "        \tSVG: {\n",
       "        \t\tscale: 120,\n",
       "        \t\tfont: 'Gyre-Pagella'}\n",
       "        });\n",
       "</script>"
      ]
     },
     "metadata": {},
     "output_type": "display_data"
    }
   ],
   "source": [
    "from IPython.core.display import display_html\n",
    "from urllib.request import urlopen\n",
    "\n",
    "display_html(urlopen('http://j.mp/1Ye5iWA').read(), raw=True)"
   ]
  },
  {
   "cell_type": "markdown",
   "metadata": {},
   "source": [
    "# Dinámica del Robot Manipulador SCARA"
   ]
  },
  {
   "cell_type": "markdown",
   "metadata": {},
   "source": [
    "Se tiene un robot manipulador tipo SCARA, como el de la siguiente figura, del cual se quiere obtener sus ecuaciones de movimiento, asi como una simulación bajo cierta ley de  control.\n",
    "\n",
    "\n",
    "\n",
    "Empezaremos obteniendo una representación simple de las posiciones de los centros de masa para los eslabones del robot.\n",
    "\n",
    "Primero tenemos que importar las librerias de computo simbolico:"
   ]
  },
  {
   "cell_type": "code",
   "execution_count": 2,
   "metadata": {
    "collapsed": false
   },
   "outputs": [],
   "source": [
    "from sympy import var, sin, cos, Matrix, Integer, eye, Function, Rational, exp, Symbol, I, solve, pi, trigsimp, dsolve, sinh, cosh, simplify\n",
    "from sympy.physics.mechanics import mechanics_printing\n",
    "mechanics_printing()"
   ]
  },
  {
   "cell_type": "markdown",
   "metadata": {},
   "source": [
    "Y declaramos todas las constantes involucradas en este calculo simbolico:"
   ]
  },
  {
   "cell_type": "code",
   "execution_count": 3,
   "metadata": {
    "collapsed": false
   },
   "outputs": [
    {
     "data": {
      "image/png": "[encoded data removed]",
      "text/latex": [
       "$$\\left ( m_{1}, \\quad m_{2}, \\quad m_{3}, \\quad J_{1}, \\quad J_{2}, \\quad J_{3}, \\quad l_{1}, \\quad l_{2}, \\quad L_{1}, \\quad L_{2}, \\quad L_{0}, \\quad t, \\quad g\\right )$$"
      ],
      "text/plain": [
       "(m₁, m₂, m₃, J₁, J₂, J₃, l₁, l₂, L₁, L₂, L₀, t, g)"
      ]
     },
     "execution_count": 3,
     "metadata": {},
     "output_type": "execute_result"
    }
   ],
   "source": [
    "var(\"m1 m2 m3 J1 J2 J3 l1 l2 L1 L2 L0 t g\")"
   ]
  },
  {
   "cell_type": "markdown",
   "metadata": {},
   "source": [
    "Asi como algunas de las variables de nuestro problema:"
   ]
  },
  {
   "cell_type": "code",
   "execution_count": 4,
   "metadata": {
    "collapsed": true
   },
   "outputs": [],
   "source": [
    "q1 = Function(\"q1\")(t)\n",
    "q2 = Function(\"q2\")(t)\n",
    "q3 = Function(\"q3\")(t)"
   ]
  },
  {
   "cell_type": "markdown",
   "metadata": {},
   "source": [
    "Y empezamos con el calculo de la posicion de los centros de masa de los eslabones, asi como su derivada y el cuadrado de la velocidad lineal de cada eslabon:"
   ]
  },
  {
   "cell_type": "code",
   "execution_count": 5,
   "metadata": {
    "collapsed": false
   },
   "outputs": [
    {
     "data": {
      "image/png": "[encoded data removed]",
      "text/latex": [
       "$$l_{1}^{2} \\left(\\dot{q}_{1}\\right)^{2}$$"
      ],
      "text/plain": [
       "  2    2\n",
       "l₁ ⋅q₁̇ "
      ]
     },
     "execution_count": 5,
     "metadata": {},
     "output_type": "execute_result"
    }
   ],
   "source": [
    "x1 = l1*cos(q1)\n",
    "y1 = l1*sin(q1)\n",
    "z1 = L0\n",
    "v1 = x1.diff(\"t\")**2 + y1.diff(\"t\")**2 + z1.diff(\"t\")**2\n",
    "v1.trigsimp()"
   ]
  },
  {
   "cell_type": "code",
   "execution_count": 6,
   "metadata": {
    "collapsed": false
   },
   "outputs": [
    {
     "data": {
      "image/png": "[encoded data removed]",
      "text/latex": [
       "$$L_{1}^{2} \\left(\\dot{q}_{1}\\right)^{2} + 2 L_{1} l_{2} \\operatorname{cos}\\left(q_{2}\\right) \\left(\\dot{q}_{1}\\right)^{2} + 2 L_{1} l_{2} \\operatorname{cos}\\left(q_{2}\\right) \\dot{q}_{1} \\dot{q}_{2} + l_{2}^{2} \\left(\\dot{q}_{1}\\right)^{2} + 2 l_{2}^{2} \\dot{q}_{1} \\dot{q}_{2} + l_{2}^{2} \\left(\\dot{q}_{2}\\right)^{2}$$"
      ],
      "text/plain": [
       "  2    2                      2                               2    2       2  \n",
       "L₁ ⋅q₁̇  + 2⋅L₁⋅l₂⋅cos(q₂)⋅q₁̇  + 2⋅L₁⋅l₂⋅cos(q₂)⋅q₁̇⋅q₂̇ + l₂ ⋅q₁̇  + 2⋅l₂ ⋅q\n",
       "\n",
       "           2    2\n",
       "₁̇⋅q₂̇ + l₂ ⋅q₂̇ "
      ]
     },
     "execution_count": 6,
     "metadata": {},
     "output_type": "execute_result"
    }
   ],
   "source": [
    "x2 = L1*cos(q1) + l2*cos(q1 + q2)\n",
    "y2 = L1*sin(q1) + l2*sin(q1 + q2)\n",
    "z2 = L0\n",
    "v2 = x2.diff(\"t\")**2 + y2.diff(\"t\")**2 + z2.diff(\"t\")**2\n",
    "v2.trigsimp()"
   ]
  },
  {
   "cell_type": "code",
   "execution_count": 7,
   "metadata": {
    "collapsed": false
   },
   "outputs": [
    {
     "data": {
      "image/png": "[encoded data removed]",
      "text/latex": [
       "$$L_{1}^{2} \\left(\\dot{q}_{1}\\right)^{2} + 2 L_{1} L_{2} \\operatorname{cos}\\left(q_{2}\\right) \\left(\\dot{q}_{1}\\right)^{2} + 2 L_{1} L_{2} \\operatorname{cos}\\left(q_{2}\\right) \\dot{q}_{1} \\dot{q}_{2} + L_{2}^{2} \\left(\\dot{q}_{1}\\right)^{2} + 2 L_{2}^{2} \\dot{q}_{1} \\dot{q}_{2} + L_{2}^{2} \\left(\\dot{q}_{2}\\right)^{2} + \\left(\\dot{q}_{3}\\right)^{2}$$"
      ],
      "text/plain": [
       "  2    2                      2                               2    2       2  \n",
       "L₁ ⋅q₁̇  + 2⋅L₁⋅L₂⋅cos(q₂)⋅q₁̇  + 2⋅L₁⋅L₂⋅cos(q₂)⋅q₁̇⋅q₂̇ + L₂ ⋅q₁̇  + 2⋅L₂ ⋅q\n",
       "\n",
       "           2    2      2\n",
       "₁̇⋅q₂̇ + L₂ ⋅q₂̇  + q₃̇ "
      ]
     },
     "execution_count": 7,
     "metadata": {},
     "output_type": "execute_result"
    }
   ],
   "source": [
    "x3 = L1*cos(q1) + L2*cos(q1 + q2)\n",
    "y3 = L1*sin(q1) + L2*sin(q1 + q2)\n",
    "z3 = L0 - q3\n",
    "v3 = x3.diff(\"t\")**2 + y3.diff(\"t\")**2 + z3.diff(\"t\")**2\n",
    "v3.trigsimp()"
   ]
  },
  {
   "cell_type": "markdown",
   "metadata": {},
   "source": [
    "Declaramos $\\omega_i$ como la velocidad angular de cada eslabon:"
   ]
  },
  {
   "cell_type": "code",
   "execution_count": 8,
   "metadata": {
    "collapsed": true
   },
   "outputs": [],
   "source": [
    "ω1 = q1.diff(\"t\")\n",
    "ω2 = q2.diff(\"t\")\n",
    "ω3 = 0"
   ]
  },
  {
   "cell_type": "markdown",
   "metadata": {},
   "source": [
    "Y procedemos al calculo de la energía cinética de cada eslabon:"
   ]
  },
  {
   "cell_type": "code",
   "execution_count": 9,
   "metadata": {
    "collapsed": false
   },
   "outputs": [
    {
     "data": {
      "image/png": "[encoded data removed]",
      "text/latex": [
       "$$\\frac{J_{1} \\left(\\dot{q}_{1}\\right)^{2}}{2} + \\frac{m_{1}}{2} \\left(l_{1}^{2} \\operatorname{sin}^{2}\\left(q_{1}\\right) \\left(\\dot{q}_{1}\\right)^{2} + l_{1}^{2} \\operatorname{cos}^{2}\\left(q_{1}\\right) \\left(\\dot{q}_{1}\\right)^{2}\\right)$$"
      ],
      "text/plain": [
       "      2      ⎛  2    2        2     2    2        2⎞\n",
       "J₁⋅q₁̇    m₁⋅⎝l₁ ⋅sin (q₁)⋅q₁̇  + l₁ ⋅cos (q₁)⋅q₁̇ ⎠\n",
       "─────── + ──────────────────────────────────────────\n",
       "   2                          2                     "
      ]
     },
     "execution_count": 9,
     "metadata": {},
     "output_type": "execute_result"
    }
   ],
   "source": [
    "K1 = Rational(1, 2)*m1*v1 + Rational(1, 2)*J1*ω1**2\n",
    "K1"
   ]
  },
  {
   "cell_type": "code",
   "execution_count": 10,
   "metadata": {
    "collapsed": false
   },
   "outputs": [
    {
     "data": {
      "image/png": "[encoded data removed]",
      "text/latex": [
       "$$\\frac{J_{2} \\left(\\dot{q}_{2}\\right)^{2}}{2} + \\frac{m_{1}}{2} \\left(\\left(- L_{1} \\operatorname{sin}\\left(q_{1}\\right) \\dot{q}_{1} - l_{2} \\left(\\dot{q}_{1} + \\dot{q}_{2}\\right) \\operatorname{sin}\\left(q_{1} + q_{2}\\right)\\right)^{2} + \\left(L_{1} \\operatorname{cos}\\left(q_{1}\\right) \\dot{q}_{1} + l_{2} \\left(\\dot{q}_{1} + \\dot{q}_{2}\\right) \\operatorname{cos}\\left(q_{1} + q_{2}\\right)\\right)^{2}\\right)$$"
      ],
      "text/plain": [
       "      2      ⎛                                               2                \n",
       "J₂⋅q₂̇    m₁⋅⎝(-L₁⋅sin(q₁)⋅q₁̇ - l₂⋅(q₁̇ + q₂̇)⋅sin(q₁ + q₂))  + (L₁⋅cos(q₁)⋅q\n",
       "─────── + ────────────────────────────────────────────────────────────────────\n",
       "   2                                                         2                \n",
       "\n",
       "                                 2⎞\n",
       "₁̇ + l₂⋅(q₁̇ + q₂̇)⋅cos(q₁ + q₂)) ⎠\n",
       "───────────────────────────────────\n",
       "                                   "
      ]
     },
     "execution_count": 10,
     "metadata": {},
     "output_type": "execute_result"
    }
   ],
   "source": [
    "K2 = Rational(1, 2)*m1*v2 + Rational(1, 2)*J2*ω2**2\n",
    "K2"
   ]
  },
  {
   "cell_type": "code",
   "execution_count": 11,
   "metadata": {
    "collapsed": false
   },
   "outputs": [
    {
     "data": {
      "image/png": "[encoded data removed]",
      "text/latex": [
       "$$\\frac{m_{1}}{2} \\left(\\left(- L_{1} \\operatorname{sin}\\left(q_{1}\\right) \\dot{q}_{1} - L_{2} \\left(\\dot{q}_{1} + \\dot{q}_{2}\\right) \\operatorname{sin}\\left(q_{1} + q_{2}\\right)\\right)^{2} + \\left(L_{1} \\operatorname{cos}\\left(q_{1}\\right) \\dot{q}_{1} + L_{2} \\left(\\dot{q}_{1} + \\dot{q}_{2}\\right) \\operatorname{cos}\\left(q_{1} + q_{2}\\right)\\right)^{2} + \\left(\\dot{q}_{3}\\right)^{2}\\right)$$"
      ],
      "text/plain": [
       "   ⎛                                               2                          \n",
       "m₁⋅⎝(-L₁⋅sin(q₁)⋅q₁̇ - L₂⋅(q₁̇ + q₂̇)⋅sin(q₁ + q₂))  + (L₁⋅cos(q₁)⋅q₁̇ + L₂⋅(q\n",
       "──────────────────────────────────────────────────────────────────────────────\n",
       "                                                      2                       \n",
       "\n",
       "                       2      2⎞\n",
       "₁̇ + q₂̇)⋅cos(q₁ + q₂))  + q₃̇ ⎠\n",
       "────────────────────────────────\n",
       "                                "
      ]
     },
     "execution_count": 11,
     "metadata": {},
     "output_type": "execute_result"
    }
   ],
   "source": [
    "K3 = Rational(1, 2)*m1*v3 + Rational(1, 2)*J3*ω3**2\n",
    "K3"
   ]
  },
  {
   "cell_type": "markdown",
   "metadata": {},
   "source": [
    "Calculamos tambien la energía potencial de cada eslabon:"
   ]
  },
  {
   "cell_type": "code",
   "execution_count": 12,
   "metadata": {
    "collapsed": false
   },
   "outputs": [
    {
     "data": {
      "image/png": "[encoded data removed]",
      "text/latex": [
       "$$L_{0} g m_{1}$$"
      ],
      "text/plain": [
       "L₀⋅g⋅m₁"
      ]
     },
     "execution_count": 12,
     "metadata": {},
     "output_type": "execute_result"
    }
   ],
   "source": [
    "U1 = m1*g*z1\n",
    "U1"
   ]
  },
  {
   "cell_type": "code",
   "execution_count": 13,
   "metadata": {
    "collapsed": false
   },
   "outputs": [
    {
     "data": {
      "image/png": "[encoded data removed]",
      "text/latex": [
       "$$L_{0} g m_{2}$$"
      ],
      "text/plain": [
       "L₀⋅g⋅m₂"
      ]
     },
     "execution_count": 13,
     "metadata": {},
     "output_type": "execute_result"
    }
   ],
   "source": [
    "U2 = m2*g*z2\n",
    "U2"
   ]
  },
  {
   "cell_type": "code",
   "execution_count": 14,
   "metadata": {
    "collapsed": false
   },
   "outputs": [
    {
     "data": {
      "image/png": "[encoded data removed]",
      "text/latex": [
       "$$g m_{3} \\left(L_{0} - q_{3}\\right)$$"
      ],
      "text/plain": [
       "g⋅m₃⋅(L₀ - q₃)"
      ]
     },
     "execution_count": 14,
     "metadata": {},
     "output_type": "execute_result"
    }
   ],
   "source": [
    "U3 = m3*g*z3\n",
    "U3"
   ]
  },
  {
   "cell_type": "markdown",
   "metadata": {},
   "source": [
    "Por lo que ya podemos calcular tanto la energía cinética de nuestro sistema como la potencial:"
   ]
  },
  {
   "cell_type": "code",
   "execution_count": 15,
   "metadata": {
    "collapsed": false
   },
   "outputs": [
    {
     "data": {
      "image/png": "[encoded data removed]",
      "text/latex": [
       "$$\\frac{J_{1} \\left(\\dot{q}_{1}\\right)^{2}}{2} + \\frac{J_{2} \\left(\\dot{q}_{2}\\right)^{2}}{2} + \\frac{m_{1}}{2} \\left(l_{1}^{2} \\operatorname{sin}^{2}\\left(q_{1}\\right) \\left(\\dot{q}_{1}\\right)^{2} + l_{1}^{2} \\operatorname{cos}^{2}\\left(q_{1}\\right) \\left(\\dot{q}_{1}\\right)^{2}\\right) + \\frac{m_{1}}{2} \\left(\\left(- L_{1} \\operatorname{sin}\\left(q_{1}\\right) \\dot{q}_{1} - l_{2} \\left(\\dot{q}_{1} + \\dot{q}_{2}\\right) \\operatorname{sin}\\left(q_{1} + q_{2}\\right)\\right)^{2} + \\left(L_{1} \\operatorname{cos}\\left(q_{1}\\right) \\dot{q}_{1} + l_{2} \\left(\\dot{q}_{1} + \\dot{q}_{2}\\right) \\operatorname{cos}\\left(q_{1} + q_{2}\\right)\\right)^{2}\\right) + \\frac{m_{1}}{2} \\left(\\left(- L_{1} \\operatorname{sin}\\left(q_{1}\\right) \\dot{q}_{1} - L_{2} \\left(\\dot{q}_{1} + \\dot{q}_{2}\\right) \\operatorname{sin}\\left(q_{1} + q_{2}\\right)\\right)^{2} + \\left(L_{1} \\operatorname{cos}\\left(q_{1}\\right) \\dot{q}_{1} + L_{2} \\left(\\dot{q}_{1} + \\dot{q}_{2}\\right) \\operatorname{cos}\\left(q_{1} + q_{2}\\right)\\right)^{2} + \\left(\\dot{q}_{3}\\right)^{2}\\right)$$"
      ],
      "text/plain": [
       "      2         2      ⎛  2    2        2     2    2        2⎞      ⎛         \n",
       "J₁⋅q₁̇    J₂⋅q₂̇    m₁⋅⎝l₁ ⋅sin (q₁)⋅q₁̇  + l₁ ⋅cos (q₁)⋅q₁̇ ⎠   m₁⋅⎝(-L₁⋅sin(\n",
       "─────── + ─────── + ────────────────────────────────────────── + ─────────────\n",
       "   2         2                          2                                     \n",
       "\n",
       "                                      2                                       \n",
       "q₁)⋅q₁̇ - l₂⋅(q₁̇ + q₂̇)⋅sin(q₁ + q₂))  + (L₁⋅cos(q₁)⋅q₁̇ + l₂⋅(q₁̇ + q₂̇)⋅cos\n",
       "──────────────────────────────────────────────────────────────────────────────\n",
       "                                      2                                       \n",
       "\n",
       "          2⎞      ⎛                                               2           \n",
       "(q₁ + q₂)) ⎠   m₁⋅⎝(-L₁⋅sin(q₁)⋅q₁̇ - L₂⋅(q₁̇ + q₂̇)⋅sin(q₁ + q₂))  + (L₁⋅cos(\n",
       "──────────── + ───────────────────────────────────────────────────────────────\n",
       "                                                                     2        \n",
       "\n",
       "                                      2      2⎞\n",
       "q₁)⋅q₁̇ + L₂⋅(q₁̇ + q₂̇)⋅cos(q₁ + q₂))  + q₃̇ ⎠\n",
       "───────────────────────────────────────────────\n",
       "                                               "
      ]
     },
     "execution_count": 15,
     "metadata": {},
     "output_type": "execute_result"
    }
   ],
   "source": [
    "K = K1 + K2 + K3\n",
    "K"
   ]
  },
  {
   "cell_type": "code",
   "execution_count": 16,
   "metadata": {
    "collapsed": false
   },
   "outputs": [
    {
     "data": {
      "image/png": "[encoded data removed]",
      "text/latex": [
       "$$L_{0} g m_{1} + L_{0} g m_{2} + g m_{3} \\left(L_{0} - q_{3}\\right)$$"
      ],
      "text/plain": [
       "L₀⋅g⋅m₁ + L₀⋅g⋅m₂ + g⋅m₃⋅(L₀ - q₃)"
      ]
     },
     "execution_count": 16,
     "metadata": {},
     "output_type": "execute_result"
    }
   ],
   "source": [
    "U = U1 + U2 + U3\n",
    "U"
   ]
  },
  {
   "cell_type": "markdown",
   "metadata": {},
   "source": [
    "y el Lagrangiano queda:"
   ]
  },
  {
   "cell_type": "code",
   "execution_count": 17,
   "metadata": {
    "collapsed": false
   },
   "outputs": [
    {
     "data": {
      "image/png": "[encoded data removed]",
      "text/latex": [
       "$$\\frac{J_{1} \\left(\\dot{q}_{1}\\right)^{2}}{2} + \\frac{J_{2} \\left(\\dot{q}_{2}\\right)^{2}}{2} - L_{0} g m_{1} - L_{0} g m_{2} - L_{0} g m_{3} + L_{1}^{2} m_{1} \\left(\\dot{q}_{1}\\right)^{2} + L_{1} L_{2} m_{1} \\operatorname{cos}\\left(q_{2}\\right) \\left(\\dot{q}_{1}\\right)^{2} + L_{1} L_{2} m_{1} \\operatorname{cos}\\left(q_{2}\\right) \\dot{q}_{1} \\dot{q}_{2} + L_{1} l_{2} m_{1} \\operatorname{cos}\\left(q_{2}\\right) \\left(\\dot{q}_{1}\\right)^{2} + L_{1} l_{2} m_{1} \\operatorname{cos}\\left(q_{2}\\right) \\dot{q}_{1} \\dot{q}_{2} + \\frac{L_{2}^{2} m_{1}}{2} \\left(\\dot{q}_{1}\\right)^{2} + L_{2}^{2} m_{1} \\dot{q}_{1} \\dot{q}_{2} + \\frac{L_{2}^{2} m_{1}}{2} \\left(\\dot{q}_{2}\\right)^{2} + g m_{3} q_{3} + \\frac{l_{1}^{2} m_{1}}{2} \\left(\\dot{q}_{1}\\right)^{2} + \\frac{l_{2}^{2} m_{1}}{2} \\left(\\dot{q}_{1}\\right)^{2} + l_{2}^{2} m_{1} \\dot{q}_{1} \\dot{q}_{2} + \\frac{l_{2}^{2} m_{1}}{2} \\left(\\dot{q}_{2}\\right)^{2} + \\frac{m_{1} \\left(\\dot{q}_{3}\\right)^{2}}{2}$$"
      ],
      "text/plain": [
       "      2         2                                                             \n",
       "J₁⋅q₁̇    J₂⋅q₂̇                                    2       2                 \n",
       "─────── + ─────── - L₀⋅g⋅m₁ - L₀⋅g⋅m₂ - L₀⋅g⋅m₃ + L₁ ⋅m₁⋅q₁̇  + L₁⋅L₂⋅m₁⋅cos(q\n",
       "   2         2                                                                \n",
       "\n",
       "                                                                              \n",
       "      2                                                  2                    \n",
       "₂)⋅q₁̇  + L₁⋅L₂⋅m₁⋅cos(q₂)⋅q₁̇⋅q₂̇ + L₁⋅l₂⋅m₁⋅cos(q₂)⋅q₁̇  + L₁⋅l₂⋅m₁⋅cos(q₂)⋅\n",
       "                                                                              \n",
       "\n",
       "            2       2                      2       2               2       2  \n",
       "          L₂ ⋅m₁⋅q₁̇      2              L₂ ⋅m₁⋅q₂̇              l₁ ⋅m₁⋅q₁̇   \n",
       "q₁̇⋅q₂̇ + ─────────── + L₂ ⋅m₁⋅q₁̇⋅q₂̇ + ─────────── + g⋅m₃⋅q₃ + ─────────── +\n",
       "               2                              2                       2       \n",
       "\n",
       "   2       2                      2       2         2\n",
       " l₂ ⋅m₁⋅q₁̇      2              l₂ ⋅m₁⋅q₂̇    m₁⋅q₃̇ \n",
       " ─────────── + l₂ ⋅m₁⋅q₁̇⋅q₂̇ + ─────────── + ───────\n",
       "      2                              2           2   "
      ]
     },
     "execution_count": 17,
     "metadata": {},
     "output_type": "execute_result"
    }
   ],
   "source": [
    "L = (K - U).expand().simplify()\n",
    "L"
   ]
  },
  {
   "cell_type": "markdown",
   "metadata": {},
   "source": [
    "Por lo que ahora solo tenemos que aplicar la ecuación de Euler-Lagrange para obtener las ecuaciones de movimiento del sistema:"
   ]
  },
  {
   "cell_type": "code",
   "execution_count": 18,
   "metadata": {
    "collapsed": true
   },
   "outputs": [],
   "source": [
    "τ1 = (L.diff(q1.diff(t)).diff(t) - L.diff(q1)).simplify().expand().collect(q1.diff(t).diff(t)).collect(q2.diff(t).diff(t))"
   ]
  },
  {
   "cell_type": "code",
   "execution_count": 19,
   "metadata": {
    "collapsed": true
   },
   "outputs": [],
   "source": [
    "τ2 = (L.diff(q2.diff(t)).diff(t) - L.diff(q2)).simplify().expand().collect(q1.diff(t).diff(t)).collect(q2.diff(t).diff(t))"
   ]
  },
  {
   "cell_type": "code",
   "execution_count": 20,
   "metadata": {
    "collapsed": true
   },
   "outputs": [],
   "source": [
    "τ3 = (L.diff(q3.diff(t)).diff(t) - L.diff(q3)).simplify().expand().collect(q1.diff(t).diff(t)).collect(q2.diff(t).diff(t))"
   ]
  },
  {
   "cell_type": "code",
   "execution_count": 21,
   "metadata": {
    "collapsed": false
   },
   "outputs": [
    {
     "data": {
      "image/png": "[encoded data removed]",
      "text/latex": [
       "$$\\left(- L_{1} L_{2} m_{1} \\operatorname{sin}\\left(q_{2}\\right) - L_{1} l_{2} m_{1} \\operatorname{sin}\\left(q_{2}\\right)\\right) \\left(\\dot{q}_{2}\\right)^{2} + \\left(- 2 L_{1} L_{2} m_{1} \\operatorname{sin}\\left(q_{2}\\right) \\dot{q}_{2} - 2 L_{1} l_{2} m_{1} \\operatorname{sin}\\left(q_{2}\\right) \\dot{q}_{2}\\right) \\dot{q}_{1} + \\left(L_{1} L_{2} m_{1} \\operatorname{cos}\\left(q_{2}\\right) + L_{1} l_{2} m_{1} \\operatorname{cos}\\left(q_{2}\\right) + L_{2}^{2} m_{1} + l_{2}^{2} m_{1}\\right) \\ddot{q}_{2} + \\left(J_{1} + 2 L_{1}^{2} m_{1} + 2 L_{1} L_{2} m_{1} \\operatorname{cos}\\left(q_{2}\\right) + 2 L_{1} l_{2} m_{1} \\operatorname{cos}\\left(q_{2}\\right) + L_{2}^{2} m_{1} + l_{1}^{2} m_{1} + l_{2}^{2} m_{1}\\right) \\ddot{q}_{1}$$"
      ],
      "text/plain": [
       "                                          2                                   \n",
       "(-L₁⋅L₂⋅m₁⋅sin(q₂) - L₁⋅l₂⋅m₁⋅sin(q₂))⋅q₂̇  + (-2⋅L₁⋅L₂⋅m₁⋅sin(q₂)⋅q₂̇ - 2⋅L₁⋅\n",
       "\n",
       "                         ⎛                                        2        2  \n",
       "l₂⋅m₁⋅sin(q₂)⋅q₂̇)⋅q₁̇ + ⎝L₁⋅L₂⋅m₁⋅cos(q₂) + L₁⋅l₂⋅m₁⋅cos(q₂) + L₂ ⋅m₁ + l₂ ⋅m\n",
       "\n",
       " ⎞       ⎛         2                                                  2       \n",
       "₁⎠⋅q₂̈ + ⎝J₁ + 2⋅L₁ ⋅m₁ + 2⋅L₁⋅L₂⋅m₁⋅cos(q₂) + 2⋅L₁⋅l₂⋅m₁⋅cos(q₂) + L₂ ⋅m₁ + l\n",
       "\n",
       " 2        2   ⎞    \n",
       "₁ ⋅m₁ + l₂ ⋅m₁⎠⋅q₁̈"
      ]
     },
     "execution_count": 21,
     "metadata": {},
     "output_type": "execute_result"
    }
   ],
   "source": [
    "τ1"
   ]
  },
  {
   "cell_type": "code",
   "execution_count": 22,
   "metadata": {
    "collapsed": false
   },
   "outputs": [
    {
     "data": {
      "image/png": "[encoded data removed]",
      "text/latex": [
       "$$\\left(L_{1} L_{2} m_{1} \\operatorname{sin}\\left(q_{2}\\right) + L_{1} l_{2} m_{1} \\operatorname{sin}\\left(q_{2}\\right)\\right) \\left(\\dot{q}_{1}\\right)^{2} + \\left(J_{2} + L_{2}^{2} m_{1} + l_{2}^{2} m_{1}\\right) \\ddot{q}_{2} + \\left(L_{1} L_{2} m_{1} \\operatorname{cos}\\left(q_{2}\\right) + L_{1} l_{2} m_{1} \\operatorname{cos}\\left(q_{2}\\right) + L_{2}^{2} m_{1} + l_{2}^{2} m_{1}\\right) \\ddot{q}_{1}$$"
      ],
      "text/plain": [
       "                                         2   ⎛       2        2   ⎞       ⎛   \n",
       "(L₁⋅L₂⋅m₁⋅sin(q₂) + L₁⋅l₂⋅m₁⋅sin(q₂))⋅q₁̇  + ⎝J₂ + L₂ ⋅m₁ + l₂ ⋅m₁⎠⋅q₂̈ + ⎝L₁⋅\n",
       "\n",
       "                                     2        2   ⎞    \n",
       "L₂⋅m₁⋅cos(q₂) + L₁⋅l₂⋅m₁⋅cos(q₂) + L₂ ⋅m₁ + l₂ ⋅m₁⎠⋅q₁̈"
      ]
     },
     "execution_count": 22,
     "metadata": {},
     "output_type": "execute_result"
    }
   ],
   "source": [
    "τ2"
   ]
  },
  {
   "cell_type": "code",
   "execution_count": 23,
   "metadata": {
    "collapsed": false
   },
   "outputs": [
    {
     "data": {
      "image/png": "[encoded data removed]",
      "text/latex": [
       "$$- g m_{3} + m_{1} \\ddot{q}_{3}$$"
      ],
      "text/plain": [
       "-g⋅m₃ + m₁⋅q₃̈"
      ]
     },
     "execution_count": 23,
     "metadata": {},
     "output_type": "execute_result"
    }
   ],
   "source": [
    "τ3"
   ]
  },
  {
   "cell_type": "markdown",
   "metadata": {},
   "source": [
    "Una vez que tenemos las ecuaciones de movimiento, debemos simular el comportamiento del sistema por medio de la función ```odeint```, y obtener una gráfica de la trayectoria del sistema:"
   ]
  },
  {
   "cell_type": "code",
   "execution_count": 5,
   "metadata": {
    "collapsed": true
   },
   "outputs": [],
   "source": [
    "from scipy.integrate import odeint\n",
    "from numpy import linspace"
   ]
  },
  {
   "cell_type": "markdown",
   "metadata": {},
   "source": [
    "Para utilizar la función ```odeint```, debemos crear una función, que describa la dinámica del sistema:"
   ]
  },
  {
   "cell_type": "code",
   "execution_count": 6,
   "metadata": {
    "collapsed": true
   },
   "outputs": [],
   "source": [
    "def scara(estado, tiempo):\n",
    "    # Se importan funciones necesarias\n",
    "    from numpy import sin, cos, matrix\n",
    "    # Se desenvuelven variables del estado y tiempo\n",
    "    q1, q2, q3, q̇1, q̇2, q̇3 = estado\n",
    "    t = tiempo\n",
    "    \n",
    "    # Se declaran constantes del sistema\n",
    "    m1, m2, m3 = 1, 1, 1\n",
    "    J1, J2, J3 = 1, 1, 1\n",
    "    l1, l2 = 0.5, 0.5\n",
    "    L1, L2 = 1, 1\n",
    "    L = 1\n",
    "    g = 9.81\n",
    "    \n",
    "    # Se declaran constantes del control\n",
    "    kp1, kp2, kp3 = -30, -60, -60\n",
    "    kv1, kv2, kv3 = -20, -20, -18\n",
    "    \n",
    "    # Señales de control nulas\n",
    "    #tau1, tau2, tau3 = 0, 0, 0\n",
    "    \n",
    "    # Posiciones a alcanzar\n",
    "    qd1, qd2, qd3 = 1, 1, 1\n",
    "    \n",
    "    # Se declaran señales de control del sistema\n",
    "    tau1 = kp1*(q1 - qd1) + kv1*q̇1\n",
    "    tau2 = kp2*(q2 - qd2) + kv2*q̇2\n",
    "    tau3 = kp3*(q3 - qd3) + kv3*q̇3 + m3*g\n",
    "    \n",
    "    # Se calculan algunos terminos comunes\n",
    "    λ1 = m1*L1*(l2 + L2)\n",
    "    λ2 = m1*(l2**2 + L2**2)\n",
    "    λ3 = m1*(l1**2 + L1**2)\n",
    "    \n",
    "    # Se calculan las matrices de masas, Coriolis,\n",
    "    # y vectores de gravedad, control, posicion y velocidad\n",
    "    M = matrix([[J1 + 2*λ1*cos(q2) + m1*L1**2 + λ2 + λ3, λ1*cos(q2) + λ2, 0],\n",
    "                [λ1*cos(q2) + λ2, J2 + λ2, 0],\n",
    "                [0, 0, m1]])\n",
    "    C = matrix([[-2*q̇1, -q̇2, 0], [q̇1, 0, 0], [0, 0, 0]])\n",
    "    G = matrix([[0], [0], [-m3*g]])\n",
    "    Tau = matrix([[tau1], [tau2], [tau3]])\n",
    "    q = matrix([[q1], [q2], [q3]])\n",
    "    q̇ = matrix([[q̇1], [q̇2], [q̇3]])\n",
    "    \n",
    "    # Se calcula la derivada del estado del sistema\n",
    "    qp1 = q̇1\n",
    "    qp2 = q̇2\n",
    "    qp3 = q̇3\n",
    "    \n",
    "    qpp = M.I*(Tau - C*q̇ - G)\n",
    "    qpp1, qpp2, qpp3 = qpp.tolist()\n",
    "    \n",
    "    return [qp1, qp2, qp3, qpp1[0], qpp2[0], qpp3[0]]"
   ]
  },
  {
   "cell_type": "markdown",
   "metadata": {},
   "source": [
    "Y declarar un arreglo con todos los tiempos a simular, mandar a llamar a la función ```odeint```, y listo!"
   ]
  },
  {
   "cell_type": "code",
   "execution_count": 7,
   "metadata": {
    "collapsed": false
   },
   "outputs": [],
   "source": [
    "t = linspace(0, 10, 1000)\n",
    "estados_simulados = odeint(func = scara, y0  = [0, 0, 0, 0, 0, 0], t = t)"
   ]
  },
  {
   "cell_type": "markdown",
   "metadata": {},
   "source": [
    "Desempacamos los elementos que nos entrega ```odeint```:"
   ]
  },
  {
   "cell_type": "code",
   "execution_count": 8,
   "metadata": {
    "collapsed": false
   },
   "outputs": [],
   "source": [
    "q1, q2, q3, q̇1, q̇2, q̇3 = list(zip(*estados_simulados.tolist()))"
   ]
  },
  {
   "cell_type": "markdown",
   "metadata": {},
   "source": [
    "Importamos la libreria para graficar:"
   ]
  },
  {
   "cell_type": "code",
   "execution_count": 9,
   "metadata": {
    "collapsed": false
   },
   "outputs": [],
   "source": [
    "%matplotlib notebook\n",
    "from matplotlib.pyplot import plot, style, figure\n",
    "from mpl_toolkits.mplot3d import Axes3D\n",
    "style.use(\"ggplot\")"
   ]
  },
  {
   "cell_type": "markdown",
   "metadata": {},
   "source": [
    "Hacemos la grafica de las trayectorias del sistema, $q_1$, $q_2$ y $q_3$:"
   ]
  },
  {
   "cell_type": "code",
   "execution_count": 10,
   "metadata": {
    "collapsed": false
   },
   "outputs": [
    {
     "data": {
      "application/javascript": [
       "/* Put everything inside the global mpl namespace */\n",
       "window.mpl = {};\n",
       "\n",
       "mpl.get_websocket_type = function() {\n",
       "    if (typeof(WebSocket) !== 'undefined') {\n",
       "        return WebSocket;\n",
       "    } else if (typeof(MozWebSocket) !== 'undefined') {\n",
       "        return MozWebSocket;\n",
       "    } else {\n",
       "        alert('Your browser does not have WebSocket support.' +\n",
       "              'Please try Chrome, Safari or Firefox ≥ 6. ' +\n",
       "              'Firefox 4 and 5 are also supported but you ' +\n",
       "              'have to enable WebSockets in about:config.');\n",
       "    };\n",
       "}\n",
       "\n",
       "mpl.figure = function(figure_id, websocket, ondownload, parent_element) {\n",
       "    this.id = figure_id;\n",
       "\n",
       "    this.ws = websocket;\n",
       "\n",
       "    this.supports_binary = (this.ws.binaryType != undefined);\n",
       "\n",
       "    if (!this.supports_binary) {\n",
       "        var warnings = document.getElementById(\"mpl-warnings\");\n",
       "        if (warnings) {\n",
       "            warnings.style.display = 'block';\n",
       "            warnings.textContent = (\n",
       "                \"This browser does not support binary websocket messages. \" +\n",
       "                    \"Performance may be slow.\");\n",
       "        }\n",
       "    }\n",
       "\n",
       "    this.imageObj = new Image();\n",
       "\n",
       "    this.context = undefined;\n",
       "    this.message = undefined;\n",
       "    this.canvas = undefined;\n",
       "    this.rubberband_canvas = undefined;\n",
       "    this.rubberband_context = undefined;\n",
       "    this.format_dropdown = undefined;\n",
       "\n",
       "    this.image_mode = 'full';\n",
       "\n",
       "    this.root = $('<div/>');\n",
       "    this._root_extra_style(this.root)\n",
       "    this.root.attr('style', 'display: inline-block');\n",
       "\n",
       "    $(parent_element).append(this.root);\n",
       "\n",
       "    this._init_header(this);\n",
       "    this._init_canvas(this);\n",
       "    this._init_toolbar(this);\n",
       "\n",
       "    var fig = this;\n",
       "\n",
       "    this.waiting = false;\n",
       "\n",
       "    this.ws.onopen =  function () {\n",
       "            fig.send_message(\"supports_binary\", {value: fig.supports_binary});\n",
       "            fig.send_message(\"send_image_mode\", {});\n",
       "            fig.send_message(\"refresh\", {});\n",
       "        }\n",
       "\n",
       "    this.imageObj.onload = function() {\n",
       "            if (fig.image_mode == 'full') {\n",
       "                // Full images could contain transparency (where diff images\n",
       "                // almost always do), so we need to clear the canvas so that\n",
       "                // there is no ghosting.\n",
       "                fig.context.clearRect(0, 0, fig.canvas.width, fig.canvas.height);\n",
       "            }\n",
       "            fig.context.drawImage(fig.imageObj, 0, 0);\n",
       "        };\n",
       "\n",
       "    this.imageObj.onunload = function() {\n",
       "        this.ws.close();\n",
       "    }\n",
       "\n",
       "    this.ws.onmessage = this._make_on_message_function(this);\n",
       "\n",
       "    this.ondownload = ondownload;\n",
       "}\n",
       "\n",
       "mpl.figure.prototype._init_header = function() {\n",
       "    var titlebar = $(\n",
       "        '<div class=\"ui-dialog-titlebar ui-widget-header ui-corner-all ' +\n",
       "        'ui-helper-clearfix\"/>');\n",
       "    var titletext = $(\n",
       "        '<div class=\"ui-dialog-title\" style=\"width: 100%; ' +\n",
       "        'text-align: center; padding: 3px;\"/>');\n",
       "    titlebar.append(titletext)\n",
       "    this.root.append(titlebar);\n",
       "    this.header = titletext[0];\n",
       "}\n",
       "\n",
       "\n",
       "\n",
       "mpl.figure.prototype._canvas_extra_style = function(canvas_div) {\n",
       "\n",
       "}\n",
       "\n",
       "\n",
       "mpl.figure.prototype._root_extra_style = function(canvas_div) {\n",
       "\n",
       "}\n",
       "\n",
       "mpl.figure.prototype._init_canvas = function() {\n",
       "    var fig = this;\n",
       "\n",
       "    var canvas_div = $('<div/>');\n",
       "\n",
       "    canvas_div.attr('style', 'position: relative; clear: both; outline: 0');\n",
       "\n",
       "    function canvas_keyboard_event(event) {\n",
       "        return fig.key_event(event, event['data']);\n",
       "    }\n",
       "\n",
       "    canvas_div.keydown('key_press', canvas_keyboard_event);\n",
       "    canvas_div.keyup('key_release', canvas_keyboard_event);\n",
       "    this.canvas_div = canvas_div\n",
       "    this._canvas_extra_style(canvas_div)\n",
       "    this.root.append(canvas_div);\n",
       "\n",
       "    var canvas = $('<canvas/>');\n",
       "    canvas.addClass('mpl-canvas');\n",
       "    canvas.attr('style', \"left: 0; top: 0; z-index: 0; outline: 0\")\n",
       "\n",
       "    this.canvas = canvas[0];\n",
       "    this.context = canvas[0].getContext(\"2d\");\n",
       "\n",
       "    var rubberband = $('<canvas/>');\n",
       "    rubberband.attr('style', \"position: absolute; left: 0; top: 0; z-index: 1;\")\n",
       "\n",
       "    var pass_mouse_events = true;\n",
       "\n",
       "    canvas_div.resizable({\n",
       "        start: function(event, ui) {\n",
       "            pass_mouse_events = false;\n",
       "        },\n",
       "        resize: function(event, ui) {\n",
       "            fig.request_resize(ui.size.width, ui.size.height);\n",
       "        },\n",
       "        stop: function(event, ui) {\n",
       "            pass_mouse_events = true;\n",
       "            fig.request_resize(ui.size.width, ui.size.height);\n",
       "        },\n",
       "    });\n",
       "\n",
       "    function mouse_event_fn(event) {\n",
       "        if (pass_mouse_events)\n",
       "            return fig.mouse_event(event, event['data']);\n",
       "    }\n",
       "\n",
       "    rubberband.mousedown('button_press', mouse_event_fn);\n",
       "    rubberband.mouseup('button_release', mouse_event_fn);\n",
       "    // Throttle sequential mouse events to 1 every 20ms.\n",
       "    rubberband.mousemove('motion_notify', mouse_event_fn);\n",
       "\n",
       "    rubberband.mouseenter('figure_enter', mouse_event_fn);\n",
       "    rubberband.mouseleave('figure_leave', mouse_event_fn);\n",
       "\n",
       "    canvas_div.on(\"wheel\", function (event) {\n",
       "        event = event.originalEvent;\n",
       "        event['data'] = 'scroll'\n",
       "        if (event.deltaY < 0) {\n",
       "            event.step = 1;\n",
       "        } else {\n",
       "            event.step = -1;\n",
       "        }\n",
       "        mouse_event_fn(event);\n",
       "    });\n",
       "\n",
       "    canvas_div.append(canvas);\n",
       "    canvas_div.append(rubberband);\n",
       "\n",
       "    this.rubberband = rubberband;\n",
       "    this.rubberband_canvas = rubberband[0];\n",
       "    this.rubberband_context = rubberband[0].getContext(\"2d\");\n",
       "    this.rubberband_context.strokeStyle = \"#000000\";\n",
       "\n",
       "    this._resize_canvas = function(width, height) {\n",
       "        // Keep the size of the canvas, canvas container, and rubber band\n",
       "        // canvas in synch.\n",
       "        canvas_div.css('width', width)\n",
       "        canvas_div.css('height', height)\n",
       "\n",
       "        canvas.attr('width', width);\n",
       "        canvas.attr('height', height);\n",
       "\n",
       "        rubberband.attr('width', width);\n",
       "        rubberband.attr('height', height);\n",
       "    }\n",
       "\n",
       "    // Set the figure to an initial 600x600px, this will subsequently be updated\n",
       "    // upon first draw.\n",
       "    this._resize_canvas(600, 600);\n",
       "\n",
       "    // Disable right mouse context menu.\n",
       "    $(this.rubberband_canvas).bind(\"contextmenu\",function(e){\n",
       "        return false;\n",
       "    });\n",
       "\n",
       "    function set_focus () {\n",
       "        canvas.focus();\n",
       "        canvas_div.focus();\n",
       "    }\n",
       "\n",
       "    window.setTimeout(set_focus, 100);\n",
       "}\n",
       "\n",
       "mpl.figure.prototype._init_toolbar = function() {\n",
       "    var fig = this;\n",
       "\n",
       "    var nav_element = $('<div/>')\n",
       "    nav_element.attr('style', 'width: 100%');\n",
       "    this.root.append(nav_element);\n",
       "\n",
       "    // Define a callback function for later on.\n",
       "    function toolbar_event(event) {\n",
       "        return fig.toolbar_button_onclick(event['data']);\n",
       "    }\n",
       "    function toolbar_mouse_event(event) {\n",
       "        return fig.toolbar_button_onmouseover(event['data']);\n",
       "    }\n",
       "\n",
       "    for(var toolbar_ind in mpl.toolbar_items) {\n",
       "        var name = mpl.toolbar_items[toolbar_ind][0];\n",
       "        var tooltip = mpl.toolbar_items[toolbar_ind][1];\n",
       "        var image = mpl.toolbar_items[toolbar_ind][2];\n",
       "        var method_name = mpl.toolbar_items[toolbar_ind][3];\n",
       "\n",
       "        if (!name) {\n",
       "            // put a spacer in here.\n",
       "            continue;\n",
       "        }\n",
       "        var button = $('<button/>');\n",
       "        button.addClass('ui-button ui-widget ui-state-default ui-corner-all ' +\n",
       "                        'ui-button-icon-only');\n",
       "        button.attr('role', 'button');\n",
       "        button.attr('aria-disabled', 'false');\n",
       "        button.click(method_name, toolbar_event);\n",
       "        button.mouseover(tooltip, toolbar_mouse_event);\n",
       "\n",
       "        var icon_img = $('<span/>');\n",
       "        icon_img.addClass('ui-button-icon-primary ui-icon');\n",
       "        icon_img.addClass(image);\n",
       "        icon_img.addClass('ui-corner-all');\n",
       "\n",
       "        var tooltip_span = $('<span/>');\n",
       "        tooltip_span.addClass('ui-button-text');\n",
       "        tooltip_span.html(tooltip);\n",
       "\n",
       "        button.append(icon_img);\n",
       "        button.append(tooltip_span);\n",
       "\n",
       "        nav_element.append(button);\n",
       "    }\n",
       "\n",
       "    var fmt_picker_span = $('<span/>');\n",
       "\n",
       "    var fmt_picker = $('<select/>');\n",
       "    fmt_picker.addClass('mpl-toolbar-option ui-widget ui-widget-content');\n",
       "    fmt_picker_span.append(fmt_picker);\n",
       "    nav_element.append(fmt_picker_span);\n",
       "    this.format_dropdown = fmt_picker[0];\n",
       "\n",
       "    for (var ind in mpl.extensions) {\n",
       "        var fmt = mpl.extensions[ind];\n",
       "        var option = $(\n",
       "            '<option/>', {selected: fmt === mpl.default_extension}).html(fmt);\n",
       "        fmt_picker.append(option)\n",
       "    }\n",
       "\n",
       "    // Add hover states to the ui-buttons\n",
       "    $( \".ui-button\" ).hover(\n",
       "        function() { $(this).addClass(\"ui-state-hover\");},\n",
       "        function() { $(this).removeClass(\"ui-state-hover\");}\n",
       "    );\n",
       "\n",
       "    var status_bar = $('<span class=\"mpl-message\"/>');\n",
       "    nav_element.append(status_bar);\n",
       "    this.message = status_bar[0];\n",
       "}\n",
       "\n",
       "mpl.figure.prototype.request_resize = function(x_pixels, y_pixels) {\n",
       "    // Request matplotlib to resize the figure. Matplotlib will then trigger a resize in the client,\n",
       "    // which will in turn request a refresh of the image.\n",
       "    this.send_message('resize', {'width': x_pixels, 'height': y_pixels});\n",
       "}\n",
       "\n",
       "mpl.figure.prototype.send_message = function(type, properties) {\n",
       "    properties['type'] = type;\n",
       "    properties['figure_id'] = this.id;\n",
       "    this.ws.send(JSON.stringify(properties));\n",
       "}\n",
       "\n",
       "mpl.figure.prototype.send_draw_message = function() {\n",
       "    if (!this.waiting) {\n",
       "        this.waiting = true;\n",
       "        this.ws.send(JSON.stringify({type: \"draw\", figure_id: this.id}));\n",
       "    }\n",
       "}\n",
       "\n",
       "\n",
       "mpl.figure.prototype.handle_save = function(fig, msg) {\n",
       "    var format_dropdown = fig.format_dropdown;\n",
       "    var format = format_dropdown.options[format_dropdown.selectedIndex].value;\n",
       "    fig.ondownload(fig, format);\n",
       "}\n",
       "\n",
       "\n",
       "mpl.figure.prototype.handle_resize = function(fig, msg) {\n",
       "    var size = msg['size'];\n",
       "    if (size[0] != fig.canvas.width || size[1] != fig.canvas.height) {\n",
       "        fig._resize_canvas(size[0], size[1]);\n",
       "        fig.send_message(\"refresh\", {});\n",
       "    };\n",
       "}\n",
       "\n",
       "mpl.figure.prototype.handle_rubberband = function(fig, msg) {\n",
       "    var x0 = msg['x0'];\n",
       "    var y0 = fig.canvas.height - msg['y0'];\n",
       "    var x1 = msg['x1'];\n",
       "    var y1 = fig.canvas.height - msg['y1'];\n",
       "    x0 = Math.floor(x0) + 0.5;\n",
       "    y0 = Math.floor(y0) + 0.5;\n",
       "    x1 = Math.floor(x1) + 0.5;\n",
       "    y1 = Math.floor(y1) + 0.5;\n",
       "    var min_x = Math.min(x0, x1);\n",
       "    var min_y = Math.min(y0, y1);\n",
       "    var width = Math.abs(x1 - x0);\n",
       "    var height = Math.abs(y1 - y0);\n",
       "\n",
       "    fig.rubberband_context.clearRect(\n",
       "        0, 0, fig.canvas.width, fig.canvas.height);\n",
       "\n",
       "    fig.rubberband_context.strokeRect(min_x, min_y, width, height);\n",
       "}\n",
       "\n",
       "mpl.figure.prototype.handle_figure_label = function(fig, msg) {\n",
       "    // Updates the figure title.\n",
       "    fig.header.textContent = msg['label'];\n",
       "}\n",
       "\n",
       "mpl.figure.prototype.handle_cursor = function(fig, msg) {\n",
       "    var cursor = msg['cursor'];\n",
       "    switch(cursor)\n",
       "    {\n",
       "    case 0:\n",
       "        cursor = 'pointer';\n",
       "        break;\n",
       "    case 1:\n",
       "        cursor = 'default';\n",
       "        break;\n",
       "    case 2:\n",
       "        cursor = 'crosshair';\n",
       "        break;\n",
       "    case 3:\n",
       "        cursor = 'move';\n",
       "        break;\n",
       "    }\n",
       "    fig.rubberband_canvas.style.cursor = cursor;\n",
       "}\n",
       "\n",
       "mpl.figure.prototype.handle_message = function(fig, msg) {\n",
       "    fig.message.textContent = msg['message'];\n",
       "}\n",
       "\n",
       "mpl.figure.prototype.handle_draw = function(fig, msg) {\n",
       "    // Request the server to send over a new figure.\n",
       "    fig.send_draw_message();\n",
       "}\n",
       "\n",
       "mpl.figure.prototype.handle_image_mode = function(fig, msg) {\n",
       "    fig.image_mode = msg['mode'];\n",
       "}\n",
       "\n",
       "mpl.figure.prototype.updated_canvas_event = function() {\n",
       "    // Called whenever the canvas gets updated.\n",
       "    this.send_message(\"ack\", {});\n",
       "}\n",
       "\n",
       "// A function to construct a web socket function for onmessage handling.\n",
       "// Called in the figure constructor.\n",
       "mpl.figure.prototype._make_on_message_function = function(fig) {\n",
       "    return function socket_on_message(evt) {\n",
       "        if (evt.data instanceof Blob) {\n",
       "            /* FIXME: We get \"Resource interpreted as Image but\n",
       "             * transferred with MIME type text/plain:\" errors on\n",
       "             * Chrome.  But how to set the MIME type?  It doesn't seem\n",
       "             * to be part of the websocket stream */\n",
       "            evt.data.type = \"image/png\";\n",
       "\n",
       "            /* Free the memory for the previous frames */\n",
       "            if (fig.imageObj.src) {\n",
       "                (window.URL || window.webkitURL).revokeObjectURL(\n",
       "                    fig.imageObj.src);\n",
       "            }\n",
       "\n",
       "            fig.imageObj.src = (window.URL || window.webkitURL).createObjectURL(\n",
       "                evt.data);\n",
       "            fig.updated_canvas_event();\n",
       "            fig.waiting = false;\n",
       "            return;\n",
       "        }\n",
       "        else if (typeof evt.data === 'string' && evt.data.slice(0, 21) == \"data:image/png;base64\") {\n",
       "            fig.imageObj.src = evt.data;\n",
       "            fig.updated_canvas_event();\n",
       "            fig.waiting = false;\n",
       "            return;\n",
       "        }\n",
       "\n",
       "        var msg = JSON.parse(evt.data);\n",
       "        var msg_type = msg['type'];\n",
       "\n",
       "        // Call the  \"handle_{type}\" callback, which takes\n",
       "        // the figure and JSON message as its only arguments.\n",
       "        try {\n",
       "            var callback = fig[\"handle_\" + msg_type];\n",
       "        } catch (e) {\n",
       "            console.log(\"No handler for the '\" + msg_type + \"' message type: \", msg);\n",
       "            return;\n",
       "        }\n",
       "\n",
       "        if (callback) {\n",
       "            try {\n",
       "                // console.log(\"Handling '\" + msg_type + \"' message: \", msg);\n",
       "                callback(fig, msg);\n",
       "            } catch (e) {\n",
       "                console.log(\"Exception inside the 'handler_\" + msg_type + \"' callback:\", e, e.stack, msg);\n",
       "            }\n",
       "        }\n",
       "    };\n",
       "}\n",
       "\n",
       "// from http://stackoverflow.com/questions/1114465/getting-mouse-location-in-canvas\n",
       "mpl.findpos = function(e) {\n",
       "    //this section is from http://www.quirksmode.org/js/events_properties.html\n",
       "    var targ;\n",
       "    if (!e)\n",
       "        e = window.event;\n",
       "    if (e.target)\n",
       "        targ = e.target;\n",
       "    else if (e.srcElement)\n",
       "        targ = e.srcElement;\n",
       "    if (targ.nodeType == 3) // defeat Safari bug\n",
       "        targ = targ.parentNode;\n",
       "\n",
       "    // jQuery normalizes the pageX and pageY\n",
       "    // pageX,Y are the mouse positions relative to the document\n",
       "    // offset() returns the position of the element relative to the document\n",
       "    var x = e.pageX - $(targ).offset().left;\n",
       "    var y = e.pageY - $(targ).offset().top;\n",
       "\n",
       "    return {\"x\": x, \"y\": y};\n",
       "};\n",
       "\n",
       "/*\n",
       " * return a copy of an object with only non-object keys\n",
       " * we need this to avoid circular references\n",
       " * http://stackoverflow.com/a/24161582/3208463\n",
       " */\n",
       "function simpleKeys (original) {\n",
       "  return Object.keys(original).reduce(function (obj, key) {\n",
       "    if (typeof original[key] !== 'object')\n",
       "        obj[key] = original[key]\n",
       "    return obj;\n",
       "  }, {});\n",
       "}\n",
       "\n",
       "mpl.figure.prototype.mouse_event = function(event, name) {\n",
       "    var canvas_pos = mpl.findpos(event)\n",
       "\n",
       "    if (name === 'button_press')\n",
       "    {\n",
       "        this.canvas.focus();\n",
       "        this.canvas_div.focus();\n",
       "    }\n",
       "\n",
       "    var x = canvas_pos.x;\n",
       "    var y = canvas_pos.y;\n",
       "\n",
       "    this.send_message(name, {x: x, y: y, button: event.button,\n",
       "                             step: event.step,\n",
       "                             guiEvent: simpleKeys(event)});\n",
       "\n",
       "    /* This prevents the web browser from automatically changing to\n",
       "     * the text insertion cursor when the button is pressed.  We want\n",
       "     * to control all of the cursor setting manually through the\n",
       "     * 'cursor' event from matplotlib */\n",
       "    event.preventDefault();\n",
       "    return false;\n",
       "}\n",
       "\n",
       "mpl.figure.prototype._key_event_extra = function(event, name) {\n",
       "    // Handle any extra behaviour associated with a key event\n",
       "}\n",
       "\n",
       "mpl.figure.prototype.key_event = function(event, name) {\n",
       "\n",
       "    // Prevent repeat events\n",
       "    if (name == 'key_press')\n",
       "    {\n",
       "        if (event.which === this._key)\n",
       "            return;\n",
       "        else\n",
       "            this._key = event.which;\n",
       "    }\n",
       "    if (name == 'key_release')\n",
       "        this._key = null;\n",
       "\n",
       "    var value = '';\n",
       "    if (event.ctrlKey && event.which != 17)\n",
       "        value += \"ctrl+\";\n",
       "    if (event.altKey && event.which != 18)\n",
       "        value += \"alt+\";\n",
       "    if (event.shiftKey && event.which != 16)\n",
       "        value += \"shift+\";\n",
       "\n",
       "    value += 'k';\n",
       "    value += event.which.toString();\n",
       "\n",
       "    this._key_event_extra(event, name);\n",
       "\n",
       "    this.send_message(name, {key: value,\n",
       "                             guiEvent: simpleKeys(event)});\n",
       "    return false;\n",
       "}\n",
       "\n",
       "mpl.figure.prototype.toolbar_button_onclick = function(name) {\n",
       "    if (name == 'download') {\n",
       "        this.handle_save(this, null);\n",
       "    } else {\n",
       "        this.send_message(\"toolbar_button\", {name: name});\n",
       "    }\n",
       "};\n",
       "\n",
       "mpl.figure.prototype.toolbar_button_onmouseover = function(tooltip) {\n",
       "    this.message.textContent = tooltip;\n",
       "};\n",
       "mpl.toolbar_items = [[\"Home\", \"Reset original view\", \"fa fa-home icon-home\", \"home\"], [\"Back\", \"Back to  previous view\", \"fa fa-arrow-left icon-arrow-left\", \"back\"], [\"Forward\", \"Forward to next view\", \"fa fa-arrow-right icon-arrow-right\", \"forward\"], [\"\", \"\", \"\", \"\"], [\"Pan\", \"Pan axes with left mouse, zoom with right\", \"fa fa-arrows icon-move\", \"pan\"], [\"Zoom\", \"Zoom to rectangle\", \"fa fa-square-o icon-check-empty\", \"zoom\"], [\"\", \"\", \"\", \"\"], [\"Download\", \"Download plot\", \"fa fa-floppy-o icon-save\", \"download\"]];\n",
       "\n",
       "mpl.extensions = [\"eps\", \"pdf\", \"png\", \"ps\", \"raw\", \"svg\"];\n",
       "\n",
       "mpl.default_extension = \"png\";var comm_websocket_adapter = function(comm) {\n",
       "    // Create a \"websocket\"-like object which calls the given IPython comm\n",
       "    // object with the appropriate methods. Currently this is a non binary\n",
       "    // socket, so there is still some room for performance tuning.\n",
       "    var ws = {};\n",
       "\n",
       "    ws.close = function() {\n",
       "        comm.close()\n",
       "    };\n",
       "    ws.send = function(m) {\n",
       "        //console.log('sending', m);\n",
       "        comm.send(m);\n",
       "    };\n",
       "    // Register the callback with on_msg.\n",
       "    comm.on_msg(function(msg) {\n",
       "        //console.log('receiving', msg['content']['data'], msg);\n",
       "        // Pass the mpl event to the overriden (by mpl) onmessage function.\n",
       "        ws.onmessage(msg['content']['data'])\n",
       "    });\n",
       "    return ws;\n",
       "}\n",
       "\n",
       "mpl.mpl_figure_comm = function(comm, msg) {\n",
       "    // This is the function which gets called when the mpl process\n",
       "    // starts-up an IPython Comm through the \"matplotlib\" channel.\n",
       "\n",
       "    var id = msg.content.data.id;\n",
       "    // Get hold of the div created by the display call when the Comm\n",
       "    // socket was opened in Python.\n",
       "    var element = $(\"#\" + id);\n",
       "    var ws_proxy = comm_websocket_adapter(comm)\n",
       "\n",
       "    function ondownload(figure, format) {\n",
       "        window.open(figure.imageObj.src);\n",
       "    }\n",
       "\n",
       "    var fig = new mpl.figure(id, ws_proxy,\n",
       "                           ondownload,\n",
       "                           element.get(0));\n",
       "\n",
       "    // Call onopen now - mpl needs it, as it is assuming we've passed it a real\n",
       "    // web socket which is closed, not our websocket->open comm proxy.\n",
       "    ws_proxy.onopen();\n",
       "\n",
       "    fig.parent_element = element.get(0);\n",
       "    fig.cell_info = mpl.find_output_cell(\"<div id='\" + id + \"'></div>\");\n",
       "    if (!fig.cell_info) {\n",
       "        console.error(\"Failed to find cell for figure\", id, fig);\n",
       "        return;\n",
       "    }\n",
       "\n",
       "    var output_index = fig.cell_info[2]\n",
       "    var cell = fig.cell_info[0];\n",
       "\n",
       "};\n",
       "\n",
       "mpl.figure.prototype.handle_close = function(fig, msg) {\n",
       "    fig.root.unbind('remove')\n",
       "\n",
       "    // Update the output cell to use the data from the current canvas.\n",
       "    fig.push_to_output();\n",
       "    var dataURL = fig.canvas.toDataURL();\n",
       "    // Re-enable the keyboard manager in IPython - without this line, in FF,\n",
       "    // the notebook keyboard shortcuts fail.\n",
       "    IPython.keyboard_manager.enable()\n",
       "    $(fig.parent_element).html('<img src=\"' + dataURL + '\">');\n",
       "    fig.close_ws(fig, msg);\n",
       "}\n",
       "\n",
       "mpl.figure.prototype.close_ws = function(fig, msg){\n",
       "    fig.send_message('closing', msg);\n",
       "    // fig.ws.close()\n",
       "}\n",
       "\n",
       "mpl.figure.prototype.push_to_output = function(remove_interactive) {\n",
       "    // Turn the data on the canvas into data in the output cell.\n",
       "    var dataURL = this.canvas.toDataURL();\n",
       "    this.cell_info[1]['text/html'] = '<img src=\"' + dataURL + '\">';\n",
       "}\n",
       "\n",
       "mpl.figure.prototype.updated_canvas_event = function() {\n",
       "    // Tell IPython that the notebook contents must change.\n",
       "    IPython.notebook.set_dirty(true);\n",
       "    this.send_message(\"ack\", {});\n",
       "    var fig = this;\n",
       "    // Wait a second, then push the new image to the DOM so\n",
       "    // that it is saved nicely (might be nice to debounce this).\n",
       "    setTimeout(function () { fig.push_to_output() }, 1000);\n",
       "}\n",
       "\n",
       "mpl.figure.prototype._init_toolbar = function() {\n",
       "    var fig = this;\n",
       "\n",
       "    var nav_element = $('<div/>')\n",
       "    nav_element.attr('style', 'width: 100%');\n",
       "    this.root.append(nav_element);\n",
       "\n",
       "    // Define a callback function for later on.\n",
       "    function toolbar_event(event) {\n",
       "        return fig.toolbar_button_onclick(event['data']);\n",
       "    }\n",
       "    function toolbar_mouse_event(event) {\n",
       "        return fig.toolbar_button_onmouseover(event['data']);\n",
       "    }\n",
       "\n",
       "    for(var toolbar_ind in mpl.toolbar_items){\n",
       "        var name = mpl.toolbar_items[toolbar_ind][0];\n",
       "        var tooltip = mpl.toolbar_items[toolbar_ind][1];\n",
       "        var image = mpl.toolbar_items[toolbar_ind][2];\n",
       "        var method_name = mpl.toolbar_items[toolbar_ind][3];\n",
       "\n",
       "        if (!name) { continue; };\n",
       "\n",
       "        var button = $('<button class=\"btn btn-default\" href=\"#\" title=\"' + name + '\"><i class=\"fa ' + image + ' fa-lg\"></i></button>');\n",
       "        button.click(method_name, toolbar_event);\n",
       "        button.mouseover(tooltip, toolbar_mouse_event);\n",
       "        nav_element.append(button);\n",
       "    }\n",
       "\n",
       "    // Add the status bar.\n",
       "    var status_bar = $('<span class=\"mpl-message\" style=\"text-align:right; float: right;\"/>');\n",
       "    nav_element.append(status_bar);\n",
       "    this.message = status_bar[0];\n",
       "\n",
       "    // Add the close button to the window.\n",
       "    var buttongrp = $('<div class=\"btn-group inline pull-right\"></div>');\n",
       "    var button = $('<button class=\"btn btn-mini btn-primary\" href=\"#\" title=\"Stop Interaction\"><i class=\"fa fa-power-off icon-remove icon-large\"></i></button>');\n",
       "    button.click(function (evt) { fig.handle_close(fig, {}); } );\n",
       "    button.mouseover('Stop Interaction', toolbar_mouse_event);\n",
       "    buttongrp.append(button);\n",
       "    var titlebar = this.root.find($('.ui-dialog-titlebar'));\n",
       "    titlebar.prepend(buttongrp);\n",
       "}\n",
       "\n",
       "mpl.figure.prototype._root_extra_style = function(el){\n",
       "    var fig = this\n",
       "    el.on(\"remove\", function(){\n",
       "\tfig.close_ws(fig, {});\n",
       "    });\n",
       "}\n",
       "\n",
       "mpl.figure.prototype._canvas_extra_style = function(el){\n",
       "    // this is important to make the div 'focusable\n",
       "    el.attr('tabindex', 0)\n",
       "    // reach out to IPython and tell the keyboard manager to turn it's self\n",
       "    // off when our div gets focus\n",
       "\n",
       "    // location in version 3\n",
       "    if (IPython.notebook.keyboard_manager) {\n",
       "        IPython.notebook.keyboard_manager.register_events(el);\n",
       "    }\n",
       "    else {\n",
       "        // location in version 2\n",
       "        IPython.keyboard_manager.register_events(el);\n",
       "    }\n",
       "\n",
       "}\n",
       "\n",
       "mpl.figure.prototype._key_event_extra = function(event, name) {\n",
       "    var manager = IPython.notebook.keyboard_manager;\n",
       "    if (!manager)\n",
       "        manager = IPython.keyboard_manager;\n",
       "\n",
       "    // Check for shift+enter\n",
       "    if (event.shiftKey && event.which == 13) {\n",
       "        this.canvas_div.blur();\n",
       "        // select the cell after this one\n",
       "        var index = IPython.notebook.find_cell_index(this.cell_info[0]);\n",
       "        IPython.notebook.select(index + 1);\n",
       "    }\n",
       "}\n",
       "\n",
       "mpl.figure.prototype.handle_save = function(fig, msg) {\n",
       "    fig.ondownload(fig, null);\n",
       "}\n",
       "\n",
       "\n",
       "mpl.find_output_cell = function(html_output) {\n",
       "    // Return the cell and output element which can be found *uniquely* in the notebook.\n",
       "    // Note - this is a bit hacky, but it is done because the \"notebook_saving.Notebook\"\n",
       "    // IPython event is triggered only after the cells have been serialised, which for\n",
       "    // our purposes (turning an active figure into a static one), is too late.\n",
       "    var cells = IPython.notebook.get_cells();\n",
       "    var ncells = cells.length;\n",
       "    for (var i=0; i<ncells; i++) {\n",
       "        var cell = cells[i];\n",
       "        if (cell.cell_type === 'code'){\n",
       "            for (var j=0; j<cell.output_area.outputs.length; j++) {\n",
       "                var data = cell.output_area.outputs[j];\n",
       "                if (data.data) {\n",
       "                    // IPython >= 3 moved mimebundle to data attribute of output\n",
       "                    data = data.data;\n",
       "                }\n",
       "                if (data['text/html'] == html_output) {\n",
       "                    return [cell, data, j];\n",
       "                }\n",
       "            }\n",
       "        }\n",
       "    }\n",
       "}\n",
       "\n",
       "// Register the function which deals with the matplotlib target/channel.\n",
       "// The kernel may be null if the page has been refreshed.\n",
       "if (IPython.notebook.kernel != null) {\n",
       "    IPython.notebook.kernel.comm_manager.register_target('matplotlib', mpl.mpl_figure_comm);\n",
       "}\n"
      ],
      "text/plain": [
       "<IPython.core.display.Javascript object>"
      ]
     },
     "metadata": {},
     "output_type": "display_data"
    },
    {
     "data": {
      "text/html": [
       "<img src=\"data:image/png;base64,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\">"
      ],
      "text/plain": [
       "<IPython.core.display.HTML object>"
      ]
     },
     "metadata": {},
     "output_type": "display_data"
    }
   ],
   "source": [
    "fig1 = figure(figsize=(12, 8))\n",
    "\n",
    "ax1 = fig1.gca()\n",
    "\n",
    "p1, = ax1.plot(t, q1)\n",
    "p2, = ax1.plot(t, q2)\n",
    "p3, = ax1.plot(t, q3)\n",
    "ax1.legend([p1, p2, p3],[r\"$q_1$\", r\"$q_2$\", r\"$q_3$\"])\n",
    "ax1.set_ylim(-0.1, 1.2)\n",
    "ax1.set_xlim(-0.1, 10);"
   ]
  },
  {
   "cell_type": "markdown",
   "metadata": {},
   "source": [
    "Realizamos la cinemática del manipulador para poder graficar en 3D:"
   ]
  },
  {
   "cell_type": "code",
   "execution_count": 11,
   "metadata": {
    "collapsed": false
   },
   "outputs": [],
   "source": [
    "def tras_x(x):\n",
    "    from numpy import matrix\n",
    "    A = matrix([[1, 0, 0, x],\n",
    "                [0, 1, 0, 0],\n",
    "                [0, 0, 1, 0],\n",
    "                [0, 0, 0, 1]])\n",
    "    return A\n",
    "\n",
    "def tras_z(z):\n",
    "    from numpy import matrix\n",
    "    A = matrix([[1, 0, 0, 0],\n",
    "                [0, 1, 0, 0],\n",
    "                [0, 0, 1, z],\n",
    "                [0, 0, 0, 1]])\n",
    "    return A\n",
    "\n",
    "def rot_z(θ):\n",
    "    from numpy import matrix, sin, cos\n",
    "    A = matrix([[cos(θ), -sin(θ), 0, 0],\n",
    "                [sin(θ), cos(θ), 0, 0],\n",
    "                [0, 0, 1, 0],\n",
    "                [0, 0, 0, 1]])\n",
    "    return A\n",
    "\n",
    "def cinematica_scara(q1, q2, q3, l1, l2, L):\n",
    "    from numpy import matrix\n",
    "    p0 = matrix([[0], [0], [0], [1]])\n",
    "    p1 = tras_z(L)*p0\n",
    "    p2 = rot_z(q1)*tras_x(l1)*p1\n",
    "    p3 = rot_z(q2)*tras_x(l2)*p2\n",
    "    p4 = tras_z(-q3)*p3\n",
    "    \n",
    "    return [[p0.tolist()[0][0], p1.tolist()[0][0], p2.tolist()[0][0], p3.tolist()[0][0], p4.tolist()[0][0]],\n",
    "             [p0.tolist()[1][0], p1.tolist()[1][0], p2.tolist()[1][0], p3.tolist()[1][0], p4.tolist()[1][0]],\n",
    "             [p0.tolist()[2][0], p1.tolist()[2][0], p2.tolist()[2][0], p3.tolist()[2][0], p4.tolist()[2][0]]]"
   ]
  },
  {
   "cell_type": "code",
   "execution_count": 12,
   "metadata": {
    "collapsed": true
   },
   "outputs": [],
   "source": [
    "from numpy import pi\n",
    "τ = 2*pi\n",
    "xs, ys, zs = cinematica_scara(τ/12, τ/9, 0.5, 1, 1, 1)"
   ]
  },
  {
   "cell_type": "code",
   "execution_count": 13,
   "metadata": {
    "collapsed": false
   },
   "outputs": [
    {
     "data": {
      "application/javascript": [
       "/* Put everything inside the global mpl namespace */\n",
       "window.mpl = {};\n",
       "\n",
       "mpl.get_websocket_type = function() {\n",
       "    if (typeof(WebSocket) !== 'undefined') {\n",
       "        return WebSocket;\n",
       "    } else if (typeof(MozWebSocket) !== 'undefined') {\n",
       "        return MozWebSocket;\n",
       "    } else {\n",
       "        alert('Your browser does not have WebSocket support.' +\n",
       "              'Please try Chrome, Safari or Firefox ≥ 6. ' +\n",
       "              'Firefox 4 and 5 are also supported but you ' +\n",
       "              'have to enable WebSockets in about:config.');\n",
       "    };\n",
       "}\n",
       "\n",
       "mpl.figure = function(figure_id, websocket, ondownload, parent_element) {\n",
       "    this.id = figure_id;\n",
       "\n",
       "    this.ws = websocket;\n",
       "\n",
       "    this.supports_binary = (this.ws.binaryType != undefined);\n",
       "\n",
       "    if (!this.supports_binary) {\n",
       "        var warnings = document.getElementById(\"mpl-warnings\");\n",
       "        if (warnings) {\n",
       "            warnings.style.display = 'block';\n",
       "            warnings.textContent = (\n",
       "                \"This browser does not support binary websocket messages. \" +\n",
       "                    \"Performance may be slow.\");\n",
       "        }\n",
       "    }\n",
       "\n",
       "    this.imageObj = new Image();\n",
       "\n",
       "    this.context = undefined;\n",
       "    this.message = undefined;\n",
       "    this.canvas = undefined;\n",
       "    this.rubberband_canvas = undefined;\n",
       "    this.rubberband_context = undefined;\n",
       "    this.format_dropdown = undefined;\n",
       "\n",
       "    this.image_mode = 'full';\n",
       "\n",
       "    this.root = $('<div/>');\n",
       "    this._root_extra_style(this.root)\n",
       "    this.root.attr('style', 'display: inline-block');\n",
       "\n",
       "    $(parent_element).append(this.root);\n",
       "\n",
       "    this._init_header(this);\n",
       "    this._init_canvas(this);\n",
       "    this._init_toolbar(this);\n",
       "\n",
       "    var fig = this;\n",
       "\n",
       "    this.waiting = false;\n",
       "\n",
       "    this.ws.onopen =  function () {\n",
       "            fig.send_message(\"supports_binary\", {value: fig.supports_binary});\n",
       "            fig.send_message(\"send_image_mode\", {});\n",
       "            fig.send_message(\"refresh\", {});\n",
       "        }\n",
       "\n",
       "    this.imageObj.onload = function() {\n",
       "            if (fig.image_mode == 'full') {\n",
       "                // Full images could contain transparency (where diff images\n",
       "                // almost always do), so we need to clear the canvas so that\n",
       "                // there is no ghosting.\n",
       "                fig.context.clearRect(0, 0, fig.canvas.width, fig.canvas.height);\n",
       "            }\n",
       "            fig.context.drawImage(fig.imageObj, 0, 0);\n",
       "        };\n",
       "\n",
       "    this.imageObj.onunload = function() {\n",
       "        this.ws.close();\n",
       "    }\n",
       "\n",
       "    this.ws.onmessage = this._make_on_message_function(this);\n",
       "\n",
       "    this.ondownload = ondownload;\n",
       "}\n",
       "\n",
       "mpl.figure.prototype._init_header = function() {\n",
       "    var titlebar = $(\n",
       "        '<div class=\"ui-dialog-titlebar ui-widget-header ui-corner-all ' +\n",
       "        'ui-helper-clearfix\"/>');\n",
       "    var titletext = $(\n",
       "        '<div class=\"ui-dialog-title\" style=\"width: 100%; ' +\n",
       "        'text-align: center; padding: 3px;\"/>');\n",
       "    titlebar.append(titletext)\n",
       "    this.root.append(titlebar);\n",
       "    this.header = titletext[0];\n",
       "}\n",
       "\n",
       "\n",
       "\n",
       "mpl.figure.prototype._canvas_extra_style = function(canvas_div) {\n",
       "\n",
       "}\n",
       "\n",
       "\n",
       "mpl.figure.prototype._root_extra_style = function(canvas_div) {\n",
       "\n",
       "}\n",
       "\n",
       "mpl.figure.prototype._init_canvas = function() {\n",
       "    var fig = this;\n",
       "\n",
       "    var canvas_div = $('<div/>');\n",
       "\n",
       "    canvas_div.attr('style', 'position: relative; clear: both; outline: 0');\n",
       "\n",
       "    function canvas_keyboard_event(event) {\n",
       "        return fig.key_event(event, event['data']);\n",
       "    }\n",
       "\n",
       "    canvas_div.keydown('key_press', canvas_keyboard_event);\n",
       "    canvas_div.keyup('key_release', canvas_keyboard_event);\n",
       "    this.canvas_div = canvas_div\n",
       "    this._canvas_extra_style(canvas_div)\n",
       "    this.root.append(canvas_div);\n",
       "\n",
       "    var canvas = $('<canvas/>');\n",
       "    canvas.addClass('mpl-canvas');\n",
       "    canvas.attr('style', \"left: 0; top: 0; z-index: 0; outline: 0\")\n",
       "\n",
       "    this.canvas = canvas[0];\n",
       "    this.context = canvas[0].getContext(\"2d\");\n",
       "\n",
       "    var rubberband = $('<canvas/>');\n",
       "    rubberband.attr('style', \"position: absolute; left: 0; top: 0; z-index: 1;\")\n",
       "\n",
       "    var pass_mouse_events = true;\n",
       "\n",
       "    canvas_div.resizable({\n",
       "        start: function(event, ui) {\n",
       "            pass_mouse_events = false;\n",
       "        },\n",
       "        resize: function(event, ui) {\n",
       "            fig.request_resize(ui.size.width, ui.size.height);\n",
       "        },\n",
       "        stop: function(event, ui) {\n",
       "            pass_mouse_events = true;\n",
       "            fig.request_resize(ui.size.width, ui.size.height);\n",
       "        },\n",
       "    });\n",
       "\n",
       "    function mouse_event_fn(event) {\n",
       "        if (pass_mouse_events)\n",
       "            return fig.mouse_event(event, event['data']);\n",
       "    }\n",
       "\n",
       "    rubberband.mousedown('button_press', mouse_event_fn);\n",
       "    rubberband.mouseup('button_release', mouse_event_fn);\n",
       "    // Throttle sequential mouse events to 1 every 20ms.\n",
       "    rubberband.mousemove('motion_notify', mouse_event_fn);\n",
       "\n",
       "    rubberband.mouseenter('figure_enter', mouse_event_fn);\n",
       "    rubberband.mouseleave('figure_leave', mouse_event_fn);\n",
       "\n",
       "    canvas_div.on(\"wheel\", function (event) {\n",
       "        event = event.originalEvent;\n",
       "        event['data'] = 'scroll'\n",
       "        if (event.deltaY < 0) {\n",
       "            event.step = 1;\n",
       "        } else {\n",
       "            event.step = -1;\n",
       "        }\n",
       "        mouse_event_fn(event);\n",
       "    });\n",
       "\n",
       "    canvas_div.append(canvas);\n",
       "    canvas_div.append(rubberband);\n",
       "\n",
       "    this.rubberband = rubberband;\n",
       "    this.rubberband_canvas = rubberband[0];\n",
       "    this.rubberband_context = rubberband[0].getContext(\"2d\");\n",
       "    this.rubberband_context.strokeStyle = \"#000000\";\n",
       "\n",
       "    this._resize_canvas = function(width, height) {\n",
       "        // Keep the size of the canvas, canvas container, and rubber band\n",
       "        // canvas in synch.\n",
       "        canvas_div.css('width', width)\n",
       "        canvas_div.css('height', height)\n",
       "\n",
       "        canvas.attr('width', width);\n",
       "        canvas.attr('height', height);\n",
       "\n",
       "        rubberband.attr('width', width);\n",
       "        rubberband.attr('height', height);\n",
       "    }\n",
       "\n",
       "    // Set the figure to an initial 600x600px, this will subsequently be updated\n",
       "    // upon first draw.\n",
       "    this._resize_canvas(600, 600);\n",
       "\n",
       "    // Disable right mouse context menu.\n",
       "    $(this.rubberband_canvas).bind(\"contextmenu\",function(e){\n",
       "        return false;\n",
       "    });\n",
       "\n",
       "    function set_focus () {\n",
       "        canvas.focus();\n",
       "        canvas_div.focus();\n",
       "    }\n",
       "\n",
       "    window.setTimeout(set_focus, 100);\n",
       "}\n",
       "\n",
       "mpl.figure.prototype._init_toolbar = function() {\n",
       "    var fig = this;\n",
       "\n",
       "    var nav_element = $('<div/>')\n",
       "    nav_element.attr('style', 'width: 100%');\n",
       "    this.root.append(nav_element);\n",
       "\n",
       "    // Define a callback function for later on.\n",
       "    function toolbar_event(event) {\n",
       "        return fig.toolbar_button_onclick(event['data']);\n",
       "    }\n",
       "    function toolbar_mouse_event(event) {\n",
       "        return fig.toolbar_button_onmouseover(event['data']);\n",
       "    }\n",
       "\n",
       "    for(var toolbar_ind in mpl.toolbar_items) {\n",
       "        var name = mpl.toolbar_items[toolbar_ind][0];\n",
       "        var tooltip = mpl.toolbar_items[toolbar_ind][1];\n",
       "        var image = mpl.toolbar_items[toolbar_ind][2];\n",
       "        var method_name = mpl.toolbar_items[toolbar_ind][3];\n",
       "\n",
       "        if (!name) {\n",
       "            // put a spacer in here.\n",
       "            continue;\n",
       "        }\n",
       "        var button = $('<button/>');\n",
       "        button.addClass('ui-button ui-widget ui-state-default ui-corner-all ' +\n",
       "                        'ui-button-icon-only');\n",
       "        button.attr('role', 'button');\n",
       "        button.attr('aria-disabled', 'false');\n",
       "        button.click(method_name, toolbar_event);\n",
       "        button.mouseover(tooltip, toolbar_mouse_event);\n",
       "\n",
       "        var icon_img = $('<span/>');\n",
       "        icon_img.addClass('ui-button-icon-primary ui-icon');\n",
       "        icon_img.addClass(image);\n",
       "        icon_img.addClass('ui-corner-all');\n",
       "\n",
       "        var tooltip_span = $('<span/>');\n",
       "        tooltip_span.addClass('ui-button-text');\n",
       "        tooltip_span.html(tooltip);\n",
       "\n",
       "        button.append(icon_img);\n",
       "        button.append(tooltip_span);\n",
       "\n",
       "        nav_element.append(button);\n",
       "    }\n",
       "\n",
       "    var fmt_picker_span = $('<span/>');\n",
       "\n",
       "    var fmt_picker = $('<select/>');\n",
       "    fmt_picker.addClass('mpl-toolbar-option ui-widget ui-widget-content');\n",
       "    fmt_picker_span.append(fmt_picker);\n",
       "    nav_element.append(fmt_picker_span);\n",
       "    this.format_dropdown = fmt_picker[0];\n",
       "\n",
       "    for (var ind in mpl.extensions) {\n",
       "        var fmt = mpl.extensions[ind];\n",
       "        var option = $(\n",
       "            '<option/>', {selected: fmt === mpl.default_extension}).html(fmt);\n",
       "        fmt_picker.append(option)\n",
       "    }\n",
       "\n",
       "    // Add hover states to the ui-buttons\n",
       "    $( \".ui-button\" ).hover(\n",
       "        function() { $(this).addClass(\"ui-state-hover\");},\n",
       "        function() { $(this).removeClass(\"ui-state-hover\");}\n",
       "    );\n",
       "\n",
       "    var status_bar = $('<span class=\"mpl-message\"/>');\n",
       "    nav_element.append(status_bar);\n",
       "    this.message = status_bar[0];\n",
       "}\n",
       "\n",
       "mpl.figure.prototype.request_resize = function(x_pixels, y_pixels) {\n",
       "    // Request matplotlib to resize the figure. Matplotlib will then trigger a resize in the client,\n",
       "    // which will in turn request a refresh of the image.\n",
       "    this.send_message('resize', {'width': x_pixels, 'height': y_pixels});\n",
       "}\n",
       "\n",
       "mpl.figure.prototype.send_message = function(type, properties) {\n",
       "    properties['type'] = type;\n",
       "    properties['figure_id'] = this.id;\n",
       "    this.ws.send(JSON.stringify(properties));\n",
       "}\n",
       "\n",
       "mpl.figure.prototype.send_draw_message = function() {\n",
       "    if (!this.waiting) {\n",
       "        this.waiting = true;\n",
       "        this.ws.send(JSON.stringify({type: \"draw\", figure_id: this.id}));\n",
       "    }\n",
       "}\n",
       "\n",
       "\n",
       "mpl.figure.prototype.handle_save = function(fig, msg) {\n",
       "    var format_dropdown = fig.format_dropdown;\n",
       "    var format = format_dropdown.options[format_dropdown.selectedIndex].value;\n",
       "    fig.ondownload(fig, format);\n",
       "}\n",
       "\n",
       "\n",
       "mpl.figure.prototype.handle_resize = function(fig, msg) {\n",
       "    var size = msg['size'];\n",
       "    if (size[0] != fig.canvas.width || size[1] != fig.canvas.height) {\n",
       "        fig._resize_canvas(size[0], size[1]);\n",
       "        fig.send_message(\"refresh\", {});\n",
       "    };\n",
       "}\n",
       "\n",
       "mpl.figure.prototype.handle_rubberband = function(fig, msg) {\n",
       "    var x0 = msg['x0'];\n",
       "    var y0 = fig.canvas.height - msg['y0'];\n",
       "    var x1 = msg['x1'];\n",
       "    var y1 = fig.canvas.height - msg['y1'];\n",
       "    x0 = Math.floor(x0) + 0.5;\n",
       "    y0 = Math.floor(y0) + 0.5;\n",
       "    x1 = Math.floor(x1) + 0.5;\n",
       "    y1 = Math.floor(y1) + 0.5;\n",
       "    var min_x = Math.min(x0, x1);\n",
       "    var min_y = Math.min(y0, y1);\n",
       "    var width = Math.abs(x1 - x0);\n",
       "    var height = Math.abs(y1 - y0);\n",
       "\n",
       "    fig.rubberband_context.clearRect(\n",
       "        0, 0, fig.canvas.width, fig.canvas.height);\n",
       "\n",
       "    fig.rubberband_context.strokeRect(min_x, min_y, width, height);\n",
       "}\n",
       "\n",
       "mpl.figure.prototype.handle_figure_label = function(fig, msg) {\n",
       "    // Updates the figure title.\n",
       "    fig.header.textContent = msg['label'];\n",
       "}\n",
       "\n",
       "mpl.figure.prototype.handle_cursor = function(fig, msg) {\n",
       "    var cursor = msg['cursor'];\n",
       "    switch(cursor)\n",
       "    {\n",
       "    case 0:\n",
       "        cursor = 'pointer';\n",
       "        break;\n",
       "    case 1:\n",
       "        cursor = 'default';\n",
       "        break;\n",
       "    case 2:\n",
       "        cursor = 'crosshair';\n",
       "        break;\n",
       "    case 3:\n",
       "        cursor = 'move';\n",
       "        break;\n",
       "    }\n",
       "    fig.rubberband_canvas.style.cursor = cursor;\n",
       "}\n",
       "\n",
       "mpl.figure.prototype.handle_message = function(fig, msg) {\n",
       "    fig.message.textContent = msg['message'];\n",
       "}\n",
       "\n",
       "mpl.figure.prototype.handle_draw = function(fig, msg) {\n",
       "    // Request the server to send over a new figure.\n",
       "    fig.send_draw_message();\n",
       "}\n",
       "\n",
       "mpl.figure.prototype.handle_image_mode = function(fig, msg) {\n",
       "    fig.image_mode = msg['mode'];\n",
       "}\n",
       "\n",
       "mpl.figure.prototype.updated_canvas_event = function() {\n",
       "    // Called whenever the canvas gets updated.\n",
       "    this.send_message(\"ack\", {});\n",
       "}\n",
       "\n",
       "// A function to construct a web socket function for onmessage handling.\n",
       "// Called in the figure constructor.\n",
       "mpl.figure.prototype._make_on_message_function = function(fig) {\n",
       "    return function socket_on_message(evt) {\n",
       "        if (evt.data instanceof Blob) {\n",
       "            /* FIXME: We get \"Resource interpreted as Image but\n",
       "             * transferred with MIME type text/plain:\" errors on\n",
       "             * Chrome.  But how to set the MIME type?  It doesn't seem\n",
       "             * to be part of the websocket stream */\n",
       "            evt.data.type = \"image/png\";\n",
       "\n",
       "            /* Free the memory for the previous frames */\n",
       "            if (fig.imageObj.src) {\n",
       "                (window.URL || window.webkitURL).revokeObjectURL(\n",
       "                    fig.imageObj.src);\n",
       "            }\n",
       "\n",
       "            fig.imageObj.src = (window.URL || window.webkitURL).createObjectURL(\n",
       "                evt.data);\n",
       "            fig.updated_canvas_event();\n",
       "            fig.waiting = false;\n",
       "            return;\n",
       "        }\n",
       "        else if (typeof evt.data === 'string' && evt.data.slice(0, 21) == \"data:image/png;base64\") {\n",
       "            fig.imageObj.src = evt.data;\n",
       "            fig.updated_canvas_event();\n",
       "            fig.waiting = false;\n",
       "            return;\n",
       "        }\n",
       "\n",
       "        var msg = JSON.parse(evt.data);\n",
       "        var msg_type = msg['type'];\n",
       "\n",
       "        // Call the  \"handle_{type}\" callback, which takes\n",
       "        // the figure and JSON message as its only arguments.\n",
       "        try {\n",
       "            var callback = fig[\"handle_\" + msg_type];\n",
       "        } catch (e) {\n",
       "            console.log(\"No handler for the '\" + msg_type + \"' message type: \", msg);\n",
       "            return;\n",
       "        }\n",
       "\n",
       "        if (callback) {\n",
       "            try {\n",
       "                // console.log(\"Handling '\" + msg_type + \"' message: \", msg);\n",
       "                callback(fig, msg);\n",
       "            } catch (e) {\n",
       "                console.log(\"Exception inside the 'handler_\" + msg_type + \"' callback:\", e, e.stack, msg);\n",
       "            }\n",
       "        }\n",
       "    };\n",
       "}\n",
       "\n",
       "// from http://stackoverflow.com/questions/1114465/getting-mouse-location-in-canvas\n",
       "mpl.findpos = function(e) {\n",
       "    //this section is from http://www.quirksmode.org/js/events_properties.html\n",
       "    var targ;\n",
       "    if (!e)\n",
       "        e = window.event;\n",
       "    if (e.target)\n",
       "        targ = e.target;\n",
       "    else if (e.srcElement)\n",
       "        targ = e.srcElement;\n",
       "    if (targ.nodeType == 3) // defeat Safari bug\n",
       "        targ = targ.parentNode;\n",
       "\n",
       "    // jQuery normalizes the pageX and pageY\n",
       "    // pageX,Y are the mouse positions relative to the document\n",
       "    // offset() returns the position of the element relative to the document\n",
       "    var x = e.pageX - $(targ).offset().left;\n",
       "    var y = e.pageY - $(targ).offset().top;\n",
       "\n",
       "    return {\"x\": x, \"y\": y};\n",
       "};\n",
       "\n",
       "/*\n",
       " * return a copy of an object with only non-object keys\n",
       " * we need this to avoid circular references\n",
       " * http://stackoverflow.com/a/24161582/3208463\n",
       " */\n",
       "function simpleKeys (original) {\n",
       "  return Object.keys(original).reduce(function (obj, key) {\n",
       "    if (typeof original[key] !== 'object')\n",
       "        obj[key] = original[key]\n",
       "    return obj;\n",
       "  }, {});\n",
       "}\n",
       "\n",
       "mpl.figure.prototype.mouse_event = function(event, name) {\n",
       "    var canvas_pos = mpl.findpos(event)\n",
       "\n",
       "    if (name === 'button_press')\n",
       "    {\n",
       "        this.canvas.focus();\n",
       "        this.canvas_div.focus();\n",
       "    }\n",
       "\n",
       "    var x = canvas_pos.x;\n",
       "    var y = canvas_pos.y;\n",
       "\n",
       "    this.send_message(name, {x: x, y: y, button: event.button,\n",
       "                             step: event.step,\n",
       "                             guiEvent: simpleKeys(event)});\n",
       "\n",
       "    /* This prevents the web browser from automatically changing to\n",
       "     * the text insertion cursor when the button is pressed.  We want\n",
       "     * to control all of the cursor setting manually through the\n",
       "     * 'cursor' event from matplotlib */\n",
       "    event.preventDefault();\n",
       "    return false;\n",
       "}\n",
       "\n",
       "mpl.figure.prototype._key_event_extra = function(event, name) {\n",
       "    // Handle any extra behaviour associated with a key event\n",
       "}\n",
       "\n",
       "mpl.figure.prototype.key_event = function(event, name) {\n",
       "\n",
       "    // Prevent repeat events\n",
       "    if (name == 'key_press')\n",
       "    {\n",
       "        if (event.which === this._key)\n",
       "            return;\n",
       "        else\n",
       "            this._key = event.which;\n",
       "    }\n",
       "    if (name == 'key_release')\n",
       "        this._key = null;\n",
       "\n",
       "    var value = '';\n",
       "    if (event.ctrlKey && event.which != 17)\n",
       "        value += \"ctrl+\";\n",
       "    if (event.altKey && event.which != 18)\n",
       "        value += \"alt+\";\n",
       "    if (event.shiftKey && event.which != 16)\n",
       "        value += \"shift+\";\n",
       "\n",
       "    value += 'k';\n",
       "    value += event.which.toString();\n",
       "\n",
       "    this._key_event_extra(event, name);\n",
       "\n",
       "    this.send_message(name, {key: value,\n",
       "                             guiEvent: simpleKeys(event)});\n",
       "    return false;\n",
       "}\n",
       "\n",
       "mpl.figure.prototype.toolbar_button_onclick = function(name) {\n",
       "    if (name == 'download') {\n",
       "        this.handle_save(this, null);\n",
       "    } else {\n",
       "        this.send_message(\"toolbar_button\", {name: name});\n",
       "    }\n",
       "};\n",
       "\n",
       "mpl.figure.prototype.toolbar_button_onmouseover = function(tooltip) {\n",
       "    this.message.textContent = tooltip;\n",
       "};\n",
       "mpl.toolbar_items = [[\"Home\", \"Reset original view\", \"fa fa-home icon-home\", \"home\"], [\"Back\", \"Back to  previous view\", \"fa fa-arrow-left icon-arrow-left\", \"back\"], [\"Forward\", \"Forward to next view\", \"fa fa-arrow-right icon-arrow-right\", \"forward\"], [\"\", \"\", \"\", \"\"], [\"Pan\", \"Pan axes with left mouse, zoom with right\", \"fa fa-arrows icon-move\", \"pan\"], [\"Zoom\", \"Zoom to rectangle\", \"fa fa-square-o icon-check-empty\", \"zoom\"], [\"\", \"\", \"\", \"\"], [\"Download\", \"Download plot\", \"fa fa-floppy-o icon-save\", \"download\"]];\n",
       "\n",
       "mpl.extensions = [\"eps\", \"pdf\", \"png\", \"ps\", \"raw\", \"svg\"];\n",
       "\n",
       "mpl.default_extension = \"png\";var comm_websocket_adapter = function(comm) {\n",
       "    // Create a \"websocket\"-like object which calls the given IPython comm\n",
       "    // object with the appropriate methods. Currently this is a non binary\n",
       "    // socket, so there is still some room for performance tuning.\n",
       "    var ws = {};\n",
       "\n",
       "    ws.close = function() {\n",
       "        comm.close()\n",
       "    };\n",
       "    ws.send = function(m) {\n",
       "        //console.log('sending', m);\n",
       "        comm.send(m);\n",
       "    };\n",
       "    // Register the callback with on_msg.\n",
       "    comm.on_msg(function(msg) {\n",
       "        //console.log('receiving', msg['content']['data'], msg);\n",
       "        // Pass the mpl event to the overriden (by mpl) onmessage function.\n",
       "        ws.onmessage(msg['content']['data'])\n",
       "    });\n",
       "    return ws;\n",
       "}\n",
       "\n",
       "mpl.mpl_figure_comm = function(comm, msg) {\n",
       "    // This is the function which gets called when the mpl process\n",
       "    // starts-up an IPython Comm through the \"matplotlib\" channel.\n",
       "\n",
       "    var id = msg.content.data.id;\n",
       "    // Get hold of the div created by the display call when the Comm\n",
       "    // socket was opened in Python.\n",
       "    var element = $(\"#\" + id);\n",
       "    var ws_proxy = comm_websocket_adapter(comm)\n",
       "\n",
       "    function ondownload(figure, format) {\n",
       "        window.open(figure.imageObj.src);\n",
       "    }\n",
       "\n",
       "    var fig = new mpl.figure(id, ws_proxy,\n",
       "                           ondownload,\n",
       "                           element.get(0));\n",
       "\n",
       "    // Call onopen now - mpl needs it, as it is assuming we've passed it a real\n",
       "    // web socket which is closed, not our websocket->open comm proxy.\n",
       "    ws_proxy.onopen();\n",
       "\n",
       "    fig.parent_element = element.get(0);\n",
       "    fig.cell_info = mpl.find_output_cell(\"<div id='\" + id + \"'></div>\");\n",
       "    if (!fig.cell_info) {\n",
       "        console.error(\"Failed to find cell for figure\", id, fig);\n",
       "        return;\n",
       "    }\n",
       "\n",
       "    var output_index = fig.cell_info[2]\n",
       "    var cell = fig.cell_info[0];\n",
       "\n",
       "};\n",
       "\n",
       "mpl.figure.prototype.handle_close = function(fig, msg) {\n",
       "    fig.root.unbind('remove')\n",
       "\n",
       "    // Update the output cell to use the data from the current canvas.\n",
       "    fig.push_to_output();\n",
       "    var dataURL = fig.canvas.toDataURL();\n",
       "    // Re-enable the keyboard manager in IPython - without this line, in FF,\n",
       "    // the notebook keyboard shortcuts fail.\n",
       "    IPython.keyboard_manager.enable()\n",
       "    $(fig.parent_element).html('<img src=\"' + dataURL + '\">');\n",
       "    fig.close_ws(fig, msg);\n",
       "}\n",
       "\n",
       "mpl.figure.prototype.close_ws = function(fig, msg){\n",
       "    fig.send_message('closing', msg);\n",
       "    // fig.ws.close()\n",
       "}\n",
       "\n",
       "mpl.figure.prototype.push_to_output = function(remove_interactive) {\n",
       "    // Turn the data on the canvas into data in the output cell.\n",
       "    var dataURL = this.canvas.toDataURL();\n",
       "    this.cell_info[1]['text/html'] = '<img src=\"' + dataURL + '\">';\n",
       "}\n",
       "\n",
       "mpl.figure.prototype.updated_canvas_event = function() {\n",
       "    // Tell IPython that the notebook contents must change.\n",
       "    IPython.notebook.set_dirty(true);\n",
       "    this.send_message(\"ack\", {});\n",
       "    var fig = this;\n",
       "    // Wait a second, then push the new image to the DOM so\n",
       "    // that it is saved nicely (might be nice to debounce this).\n",
       "    setTimeout(function () { fig.push_to_output() }, 1000);\n",
       "}\n",
       "\n",
       "mpl.figure.prototype._init_toolbar = function() {\n",
       "    var fig = this;\n",
       "\n",
       "    var nav_element = $('<div/>')\n",
       "    nav_element.attr('style', 'width: 100%');\n",
       "    this.root.append(nav_element);\n",
       "\n",
       "    // Define a callback function for later on.\n",
       "    function toolbar_event(event) {\n",
       "        return fig.toolbar_button_onclick(event['data']);\n",
       "    }\n",
       "    function toolbar_mouse_event(event) {\n",
       "        return fig.toolbar_button_onmouseover(event['data']);\n",
       "    }\n",
       "\n",
       "    for(var toolbar_ind in mpl.toolbar_items){\n",
       "        var name = mpl.toolbar_items[toolbar_ind][0];\n",
       "        var tooltip = mpl.toolbar_items[toolbar_ind][1];\n",
       "        var image = mpl.toolbar_items[toolbar_ind][2];\n",
       "        var method_name = mpl.toolbar_items[toolbar_ind][3];\n",
       "\n",
       "        if (!name) { continue; };\n",
       "\n",
       "        var button = $('<button class=\"btn btn-default\" href=\"#\" title=\"' + name + '\"><i class=\"fa ' + image + ' fa-lg\"></i></button>');\n",
       "        button.click(method_name, toolbar_event);\n",
       "        button.mouseover(tooltip, toolbar_mouse_event);\n",
       "        nav_element.append(button);\n",
       "    }\n",
       "\n",
       "    // Add the status bar.\n",
       "    var status_bar = $('<span class=\"mpl-message\" style=\"text-align:right; float: right;\"/>');\n",
       "    nav_element.append(status_bar);\n",
       "    this.message = status_bar[0];\n",
       "\n",
       "    // Add the close button to the window.\n",
       "    var buttongrp = $('<div class=\"btn-group inline pull-right\"></div>');\n",
       "    var button = $('<button class=\"btn btn-mini btn-primary\" href=\"#\" title=\"Stop Interaction\"><i class=\"fa fa-power-off icon-remove icon-large\"></i></button>');\n",
       "    button.click(function (evt) { fig.handle_close(fig, {}); } );\n",
       "    button.mouseover('Stop Interaction', toolbar_mouse_event);\n",
       "    buttongrp.append(button);\n",
       "    var titlebar = this.root.find($('.ui-dialog-titlebar'));\n",
       "    titlebar.prepend(buttongrp);\n",
       "}\n",
       "\n",
       "mpl.figure.prototype._root_extra_style = function(el){\n",
       "    var fig = this\n",
       "    el.on(\"remove\", function(){\n",
       "\tfig.close_ws(fig, {});\n",
       "    });\n",
       "}\n",
       "\n",
       "mpl.figure.prototype._canvas_extra_style = function(el){\n",
       "    // this is important to make the div 'focusable\n",
       "    el.attr('tabindex', 0)\n",
       "    // reach out to IPython and tell the keyboard manager to turn it's self\n",
       "    // off when our div gets focus\n",
       "\n",
       "    // location in version 3\n",
       "    if (IPython.notebook.keyboard_manager) {\n",
       "        IPython.notebook.keyboard_manager.register_events(el);\n",
       "    }\n",
       "    else {\n",
       "        // location in version 2\n",
       "        IPython.keyboard_manager.register_events(el);\n",
       "    }\n",
       "\n",
       "}\n",
       "\n",
       "mpl.figure.prototype._key_event_extra = function(event, name) {\n",
       "    var manager = IPython.notebook.keyboard_manager;\n",
       "    if (!manager)\n",
       "        manager = IPython.keyboard_manager;\n",
       "\n",
       "    // Check for shift+enter\n",
       "    if (event.shiftKey && event.which == 13) {\n",
       "        this.canvas_div.blur();\n",
       "        // select the cell after this one\n",
       "        var index = IPython.notebook.find_cell_index(this.cell_info[0]);\n",
       "        IPython.notebook.select(index + 1);\n",
       "    }\n",
       "}\n",
       "\n",
       "mpl.figure.prototype.handle_save = function(fig, msg) {\n",
       "    fig.ondownload(fig, null);\n",
       "}\n",
       "\n",
       "\n",
       "mpl.find_output_cell = function(html_output) {\n",
       "    // Return the cell and output element which can be found *uniquely* in the notebook.\n",
       "    // Note - this is a bit hacky, but it is done because the \"notebook_saving.Notebook\"\n",
       "    // IPython event is triggered only after the cells have been serialised, which for\n",
       "    // our purposes (turning an active figure into a static one), is too late.\n",
       "    var cells = IPython.notebook.get_cells();\n",
       "    var ncells = cells.length;\n",
       "    for (var i=0; i<ncells; i++) {\n",
       "        var cell = cells[i];\n",
       "        if (cell.cell_type === 'code'){\n",
       "            for (var j=0; j<cell.output_area.outputs.length; j++) {\n",
       "                var data = cell.output_area.outputs[j];\n",
       "                if (data.data) {\n",
       "                    // IPython >= 3 moved mimebundle to data attribute of output\n",
       "                    data = data.data;\n",
       "                }\n",
       "                if (data['text/html'] == html_output) {\n",
       "                    return [cell, data, j];\n",
       "                }\n",
       "            }\n",
       "        }\n",
       "    }\n",
       "}\n",
       "\n",
       "// Register the function which deals with the matplotlib target/channel.\n",
       "// The kernel may be null if the page has been refreshed.\n",
       "if (IPython.notebook.kernel != null) {\n",
       "    IPython.notebook.kernel.comm_manager.register_target('matplotlib', mpl.mpl_figure_comm);\n",
       "}\n"
      ],
      "text/plain": [
       "<IPython.core.display.Javascript object>"
      ]
     },
     "metadata": {},
     "output_type": "display_data"
    },
    {
     "data": {
      "text/html": [
       "<img src=\"data:image/png;base64,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\">"
      ],
      "text/plain": [
       "<IPython.core.display.HTML object>"
      ]
     },
     "metadata": {},
     "output_type": "display_data"
    }
   ],
   "source": [
    "fig2 = figure(figsize=(8, 8))\n",
    "ax2 = fig2.gca(projection='3d')\n",
    "ax2.plot(xs, ys, zs, \"-o\")\n",
    "ax2.set_xlim(-2, 2)\n",
    "ax2.set_ylim(-2, 2)\n",
    "ax2.set_zlim(0, 1.5);"
   ]
  },
  {
   "cell_type": "markdown",
   "metadata": {},
   "source": [
    "Cambiamos el ambiente de matplotlib, para poder graficar interactivamente, y declaramos una función que tome la cinematica del robot y grafique los puntos:"
   ]
  },
  {
   "cell_type": "code",
   "execution_count": 14,
   "metadata": {
    "collapsed": true
   },
   "outputs": [],
   "source": [
    "%matplotlib inline"
   ]
  },
  {
   "cell_type": "code",
   "execution_count": 15,
   "metadata": {
    "collapsed": true
   },
   "outputs": [],
   "source": [
    "def grafica_scara(q1, q2, q3, l1, l2, L):\n",
    "    xs, ys , zs = cinematica_scara(q1, q2, q3, l1, l2, L)\n",
    "    \n",
    "    fig = figure(figsize=(8, 8))\n",
    "    \n",
    "    ax = fig.gca(projection='3d')\n",
    "    \n",
    "    ax.plot(xs, ys, zs, \"-o\")\n",
    "    \n",
    "    ax.set_xlim(-2, 2)\n",
    "    ax.set_ylim(-2, 2)\n",
    "    ax.set_zlim(0, 1.5);"
   ]
  },
  {
   "cell_type": "code",
   "execution_count": 16,
   "metadata": {
    "collapsed": false
   },
   "outputs": [
    {
     "data": {
      "image/png": "[encoded data removed]",
      "text/plain": [
       "<matplotlib.figure.Figure at 0x112ecc320>"
      ]
     },
     "metadata": {},
     "output_type": "display_data"
    }
   ],
   "source": [
    "grafica_scara(τ/12, τ/9, 0.2, 1, 1, 1)"
   ]
  },
  {
   "cell_type": "markdown",
   "metadata": {},
   "source": [
    "Importamos la libreria para interactuar con los datos y le pasamos la función que grafica:"
   ]
  },
  {
   "cell_type": "code",
   "execution_count": 17,
   "metadata": {
    "collapsed": false
   },
   "outputs": [
    {
     "name": "stderr",
     "output_type": "stream",
     "text": [
      "/Users/roberto/miniconda3/lib/python3.5/site-packages/IPython/html.py:14: ShimWarning: The `IPython.html` package has been deprecated. You should import from `notebook` instead. `IPython.html.widgets` has moved to `ipywidgets`.\n",
      "  \"`IPython.html.widgets` has moved to `ipywidgets`.\", ShimWarning)\n"
     ]
    }
   ],
   "source": [
    "# Se importan widgets de IPython para interactuar con la funcion\n",
    "from IPython.html.widgets import interact, fixed"
   ]
  },
  {
   "cell_type": "code",
   "execution_count": 18,
   "metadata": {
    "collapsed": false
   },
   "outputs": [
    {
     "data": {
      "image/png": "[encoded data removed]",
      "text/plain": [
       "<matplotlib.figure.Figure at 0x114a9c6a0>"
      ]
     },
     "metadata": {},
     "output_type": "display_data"
    }
   ],
   "source": [
    "# Se llama a la funcion interactiva\n",
    "interact(grafica_scara, q1=(0, τ), q2=(0, τ), q3=(0, 1.0), l1=fixed(1), l2=fixed(1), L=fixed(1))"
   ]
  },
  {
   "cell_type": "markdown",
   "metadata": {},
   "source": [
    "Para realizar una animación con los datos de la simulación primero importamos la libreria necesaria y creamos la misma grafica dentro del ambiente de animación:"
   ]
  },
  {
   "cell_type": "code",
   "execution_count": 39,
   "metadata": {
    "collapsed": true
   },
   "outputs": [],
   "source": [
    "from matplotlib import animation\n",
    "from numpy import arange"
   ]
  },
  {
   "cell_type": "code",
   "execution_count": 40,
   "metadata": {
    "collapsed": false
   },
   "outputs": [
    {
     "data": {
      "image/png": "[encoded data removed]",
      "text/plain": [
       "<matplotlib.figure.Figure at 0x10d117780>"
      ]
     },
     "metadata": {},
     "output_type": "display_data"
    }
   ],
   "source": [
    "# Se define el tamaño de la figura\n",
    "fig = figure(figsize=(8, 8))\n",
    "\n",
    "# Se define una sola grafica en la figura y se dan los limites de los ejes x y y\n",
    "axi = fig.add_subplot(111, autoscale_on=False, xlim=(-2, 2), ylim=(-2, 2), projection='3d')\n",
    "\n",
    "# Se utilizan graficas de linea para el resorte y amortiguador\n",
    "robot, = axi.plot([], [], [], \"-o\", lw=2)\n",
    "\n",
    "def init():\n",
    "    # Esta funcion se ejecuta una sola vez y sirve para inicializar el sistema\n",
    "    robot.set_data([], [])\n",
    "    return robot\n",
    "\n",
    "def animate(i):\n",
    "    # Esta funcion se ejecuta para cada cuadro del GIF\n",
    "    \n",
    "    # Se obtienen las coordenadas del robot y se meten los datos en su grafica de linea\n",
    "    xs, ys, zs = cinematica_scara(q1[i], q2[i], q3[i], 1, 1, 1)\n",
    "    robot.set_data(xs, ys)\n",
    "    robot .set_3d_properties(zs)\n",
    "    \n",
    "    return robot\n",
    "\n",
    "# Se hace la animacion dandole el nombre de la figura definida al principio, la funcion que\n",
    "# se debe ejecutar para cada cuadro, el numero de cuadros que se debe de hacer, el periodo \n",
    "# de cada cuadro y la funcion inicial\n",
    "ani = animation.FuncAnimation(fig, animate, arange(1, len(q1)), interval=25,\n",
    "                              blit=True, init_func=init)\n",
    "\n",
    "# Se guarda el GIF en el archivo indicado\n",
    "ani.save('./imagenes/simulacion-scara.gif', writer='imagemagick');"
   ]
  },
  {
   "cell_type": "markdown",
   "metadata": {},
   "source": [
    "![](./imagenes/simulacion-scara.gif)"
   ]
  }
 ],
 "metadata": {
  "anaconda-cloud": {},
  "kernelspec": {
   "display_name": "Python [default]",
   "language": "python",
   "name": "python3"
  },
  "language_info": {
   "codemirror_mode": {
    "name": "ipython",
    "version": 3
   },
   "file_extension": ".py",
   "mimetype": "text/x-python",
   "name": "python",
   "nbconvert_exporter": "python",
   "pygments_lexer": "ipython3",
   "version": "3.5.2"
  },
  "widgets": {
   "state": {
    "d70c467745844b00a29875452b7ee8ef": {
     "views": [
      {
       "cell_index": 56
      }
     ]
    }
   },
   "version": "1.2.0"
  }
 },
 "nbformat": 4,
 "nbformat_minor": 0
}
