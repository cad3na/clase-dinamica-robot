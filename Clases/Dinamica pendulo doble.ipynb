{
 "cells": [
  {
   "cell_type": "code",
   "execution_count": 1,
   "metadata": {
    "collapsed": false
   },
   "outputs": [
    {
     "data": {
      "text/html": [
       "<link href='http://fonts.googleapis.com/css?family=EB+Garamond' rel='stylesheet' type='text/css'>\n",
       "<link href='http://fonts.googleapis.com/css?family=Lato:100,100italic' rel='stylesheet' type='text/css'>\n",
       "<link rel=\"stylesheet\" href=\"//cdn.jsdelivr.net/font-hack/2.013/css/hack-extended.min.css\">\n",
       "\n",
       "<style>\n",
       "\t@font-face{\n",
       "   \t\tfont-family: \"Computer Modern\";\n",
       "        \tsrc: url('http://mirrors.ctan.org/fonts/cm-unicode/fonts/otf/cmunss.otf');}\n",
       "        \n",
       "        div.cell{\n",
       "\t        max-width:    800px;\n",
       "\t        margin-left:  auto;\n",
       "\t        margin-right: auto;}\n",
       "        \n",
       "\th1 {\n",
       "        \tfont-family: 'Lato', sans-serif;}\n",
       "        \n",
       "\th2 {\n",
       "        \tfont-family: 'Lato', serif;}\n",
       "        \n",
       "\th3{\n",
       "\t\tfont-family:   'Lato', serif;\n",
       "        \tmargin-top:    12px;\n",
       "\t\tmargin-bottom: 3px;}\n",
       "        \n",
       "        h4{\n",
       "\t\tfont-family: 'Lato', serif;}\n",
       "\t\n",
       "\th5 {\n",
       "        \tfont-family: 'Lato', serif;}\n",
       "    \n",
       "\tdiv.text_cell_render{\n",
       "        \tfont-family:  'EB Garamond', 'Computer Modern', 'Helvetica Neue', Arial, Helvetica, Geneva, sans-serif;\n",
       "\t        line-height:  140%;\n",
       "\t        font-size:    14pt;\n",
       "\t\tmax-width:    650px;\n",
       "\t\tmargin-left:  auto;\n",
       "        \tmargin-right: auto;}\n",
       "        \n",
       "\t.CodeMirror{\n",
       "        \tfont-family: 'Inconsolata', monospace;}\n",
       "    \n",
       "\t.text_cell_render h1 {\n",
       "\t        font-weight:   100;\n",
       "\t        font-size:     48pt;\n",
       "\t\tline-height:   100%;\n",
       "\t        color:         #CD2305;\n",
       "\t        margin-bottom: 0.5em;\n",
       "\t        margin-top:    0.5em;\n",
       "\t        display:       block;}\n",
       "        \n",
       "\t.text_cell_render h2 {\n",
       "        \tfont-weight:   100;\n",
       "        \tfont-size:     36pt;}\n",
       "        \n",
       "\t.text_cell_render h3 {\n",
       "        \tfont-weight:   100;\n",
       "        \tfont-size:     21pt;}\n",
       "        \n",
       "\t.text_cell_render h4 {\n",
       "        \tfont-weight:   100;\n",
       "        \tfont-size:     18pt;}\n",
       "        \n",
       "\t.text_cell_render h5 {\n",
       "\t        font-weight:   100;\n",
       "\t        font-size:     16pt;\n",
       "\t        color:         #CD2305;\n",
       "\t        font-style:    italic;\n",
       "\t        margin-bottom: 0.5em;\n",
       "\t        margin-top:    0.5em;\n",
       "\t        display:       block;}\n",
       "        \n",
       "\t.text_cell_render h6 {\n",
       "\t        font-weight:   100;\n",
       "\t        font-size:     14pt;\n",
       "\t        color:         #CD2305;\n",
       "\t        font-style:    italic;\n",
       "\t        margin-bottom: 0.5em;\n",
       "\t        margin-top:    0.5em;\n",
       "\t        display:       block;}\n",
       "    \n",
       "\t.warning{\n",
       "\t    \tbackground-color: #FFFFE0;\n",
       "\t    \tborder-color: #FFCC99;\n",
       "\t    \tborder-left: 5px solid #FFCC99;\n",
       "\t    \tpadding: 0.5em;}\n",
       "\t    \t\n",
       "\t.error{\n",
       "\t    \tbackground-color: #fcf2f2;\n",
       "\t    \tborder-color: #dFb5b4;\n",
       "\t    \tborder-left: 5px solid #dfb5b4;\n",
       "\t    \tpadding: 0.5em;}\n",
       "\t    \t\n",
       "</style>\n",
       "\n",
       "<script>\n",
       "\tMathJax.Hub.Config({\n",
       "        \tTeX:{extensions: [\"AMSmath.js\"]},\n",
       "\n",
       "        \tjax: [\"input/TeX\",\"output/SVG\"],\n",
       "        \tSVG: {\n",
       "        \t\tscale: 120,\n",
       "        \t\tfont: 'Gyre-Pagella'}\n",
       "        });\n",
       "</script>"
      ]
     },
     "metadata": {},
     "output_type": "display_data"
    }
   ],
   "source": [
    "from IPython.core.display import display_html\n",
    "from urllib.request import urlopen\n",
    "\n",
    "link = 'https://gist.github.com/robblack007/eca03fa9f7586860235d/raw/ef05a2f29febc94a9c9f99ca20fd0b65e74ed451/custom.css'\n",
    "display_html(urlopen(link).read(), raw=True)"
   ]
  },
  {
   "cell_type": "markdown",
   "metadata": {},
   "source": [
    "# Dinámica de un robot manipulador planar"
   ]
  },
  {
   "cell_type": "code",
   "execution_count": 2,
   "metadata": {
    "collapsed": true
   },
   "outputs": [],
   "source": [
    "from sympy import var, sin, cos, Matrix, Integer, eye, Function, Rational, exp, Symbol, I, solve, pi, trigsimp, dsolve, sinh, cosh, simplify\n",
    "from sympy.physics.mechanics import mechanics_printing\n",
    "mechanics_printing()"
   ]
  },
  {
   "cell_type": "code",
   "execution_count": 3,
   "metadata": {
    "collapsed": false
   },
   "outputs": [
    {
     "data": {
      "image/png": "[encoded data removed]",
      "text/latex": [
       "$$\\left ( m_{1}, \\quad m_{2}, \\quad J_{1}, \\quad J_{2}, \\quad l_{1}, \\quad l_{2}, \\quad t, \\quad g\\right )$$"
      ],
      "text/plain": [
       "(m₁, m₂, J₁, J₂, l₁, l₂, t, g)"
      ]
     },
     "execution_count": 3,
     "metadata": {},
     "output_type": "execute_result"
    }
   ],
   "source": [
    "var(\"m1 m2 J1 J2 l1 l2 t g\")"
   ]
  },
  {
   "cell_type": "code",
   "execution_count": 4,
   "metadata": {
    "collapsed": true
   },
   "outputs": [],
   "source": [
    "q1 = Function(\"q1\")(t)\n",
    "q2 = Function(\"q2\")(t)"
   ]
  },
  {
   "cell_type": "code",
   "execution_count": 5,
   "metadata": {
    "collapsed": false
   },
   "outputs": [
    {
     "data": {
      "image/png": "[encoded data removed]",
      "text/latex": [
       "$$l_{1}^{2} \\dot{q}_{1}^{2}$$"
      ],
      "text/plain": [
       "  2    2\n",
       "l₁ ⋅q₁̇ "
      ]
     },
     "execution_count": 5,
     "metadata": {},
     "output_type": "execute_result"
    }
   ],
   "source": [
    "x1 = l1*cos(q1)\n",
    "y1 = l1*sin(q1)\n",
    "v1 = x1.diff(\"t\")**2 + y1.diff(\"t\")**2\n",
    "v1.trigsimp()"
   ]
  },
  {
   "cell_type": "code",
   "execution_count": 6,
   "metadata": {
    "collapsed": false
   },
   "outputs": [
    {
     "data": {
      "image/png": "[encoded data removed]",
      "text/latex": [
       "$$l_{1}^{2} \\dot{q}_{1}^{2} + 2 l_{1} l_{2} \\operatorname{cos}\\left(q_{2}\\right) \\dot{q}_{1}^{2} + 2 l_{1} l_{2} \\operatorname{cos}\\left(q_{2}\\right) \\dot{q}_{1} \\dot{q}_{2} + l_{2}^{2} \\dot{q}_{1}^{2} + 2 l_{2}^{2} \\dot{q}_{1} \\dot{q}_{2} + l_{2}^{2} \\dot{q}_{2}^{2}$$"
      ],
      "text/plain": [
       "  2    2                      2                               2    2       2  \n",
       "l₁ ⋅q₁̇  + 2⋅l₁⋅l₂⋅cos(q₂)⋅q₁̇  + 2⋅l₁⋅l₂⋅cos(q₂)⋅q₁̇⋅q₂̇ + l₂ ⋅q₁̇  + 2⋅l₂ ⋅q\n",
       "\n",
       "           2    2\n",
       "₁̇⋅q₂̇ + l₂ ⋅q₂̇ "
      ]
     },
     "execution_count": 6,
     "metadata": {},
     "output_type": "execute_result"
    }
   ],
   "source": [
    "x2 = l1*cos(q1) + l2*cos(q1 + q2)\n",
    "y2 = l1*sin(q1) + l2*sin(q1 + q2)\n",
    "v2 = x2.diff(\"t\")**2 + y2.diff(\"t\")**2\n",
    "v2.trigsimp()"
   ]
  },
  {
   "cell_type": "code",
   "execution_count": 7,
   "metadata": {
    "collapsed": false
   },
   "outputs": [
    {
     "data": {
      "image/png": "[encoded data removed]",
      "text/latex": [
       "$$\\frac{m_{1}}{2} \\left(l_{1}^{2} \\operatorname{sin}^{2}\\left(q_{1}\\right) \\dot{q}_{1}^{2} + l_{1}^{2} \\operatorname{cos}^{2}\\left(q_{1}\\right) \\dot{q}_{1}^{2}\\right)$$"
      ],
      "text/plain": [
       "   ⎛  2    2        2     2    2        2⎞\n",
       "m₁⋅⎝l₁ ⋅sin (q₁)⋅q₁̇  + l₁ ⋅cos (q₁)⋅q₁̇ ⎠\n",
       "──────────────────────────────────────────\n",
       "                    2                     "
      ]
     },
     "execution_count": 7,
     "metadata": {},
     "output_type": "execute_result"
    }
   ],
   "source": [
    "K1 = Rational(1, 2)*m1*v1\n",
    "K1"
   ]
  },
  {
   "cell_type": "code",
   "execution_count": 8,
   "metadata": {
    "collapsed": false
   },
   "outputs": [
    {
     "data": {
      "image/png": "[encoded data removed]",
      "text/latex": [
       "$$\\frac{m_{1}}{2} \\left(\\left(- l_{1} \\operatorname{sin}\\left(q_{1}\\right) \\dot{q}_{1} - l_{2} \\left(\\dot{q}_{1} + \\dot{q}_{2}\\right) \\operatorname{sin}\\left(q_{1} + q_{2}\\right)\\right)^{2} + \\left(l_{1} \\operatorname{cos}\\left(q_{1}\\right) \\dot{q}_{1} + l_{2} \\left(\\dot{q}_{1} + \\dot{q}_{2}\\right) \\operatorname{cos}\\left(q_{1} + q_{2}\\right)\\right)^{2}\\right)$$"
      ],
      "text/plain": [
       "   ⎛                                               2                          \n",
       "m₁⋅⎝(-l₁⋅sin(q₁)⋅q₁̇ - l₂⋅(q₁̇ + q₂̇)⋅sin(q₁ + q₂))  + (l₁⋅cos(q₁)⋅q₁̇ + l₂⋅(q\n",
       "──────────────────────────────────────────────────────────────────────────────\n",
       "                                                   2                          \n",
       "\n",
       "                       2⎞\n",
       "₁̇ + q₂̇)⋅cos(q₁ + q₂)) ⎠\n",
       "─────────────────────────\n",
       "                         "
      ]
     },
     "execution_count": 8,
     "metadata": {},
     "output_type": "execute_result"
    }
   ],
   "source": [
    "K2 = Rational(1, 2)*m1*v2\n",
    "K2"
   ]
  },
  {
   "cell_type": "code",
   "execution_count": 9,
   "metadata": {
    "collapsed": false
   },
   "outputs": [
    {
     "data": {
      "image/png": "[encoded data removed]",
      "text/latex": [
       "$$g l_{1} m_{1} \\operatorname{sin}\\left(q_{1}\\right)$$"
      ],
      "text/plain": [
       "g⋅l₁⋅m₁⋅sin(q₁)"
      ]
     },
     "execution_count": 9,
     "metadata": {},
     "output_type": "execute_result"
    }
   ],
   "source": [
    "U1 = m1*g*y1\n",
    "U1"
   ]
  },
  {
   "cell_type": "code",
   "execution_count": 10,
   "metadata": {
    "collapsed": false
   },
   "outputs": [
    {
     "data": {
      "image/png": "[encoded data removed]",
      "text/latex": [
       "$$g m_{2} \\left(l_{1} \\operatorname{sin}\\left(q_{1}\\right) + l_{2} \\operatorname{sin}\\left(q_{1} + q_{2}\\right)\\right)$$"
      ],
      "text/plain": [
       "g⋅m₂⋅(l₁⋅sin(q₁) + l₂⋅sin(q₁ + q₂))"
      ]
     },
     "execution_count": 10,
     "metadata": {},
     "output_type": "execute_result"
    }
   ],
   "source": [
    "U2 = m2*g*y2\n",
    "U2"
   ]
  },
  {
   "cell_type": "code",
   "execution_count": 11,
   "metadata": {
    "collapsed": false
   },
   "outputs": [
    {
     "data": {
      "image/png": "[encoded data removed]",
      "text/latex": [
       "$$\\frac{m_{1}}{2} \\left(l_{1}^{2} \\operatorname{sin}^{2}\\left(q_{1}\\right) \\dot{q}_{1}^{2} + l_{1}^{2} \\operatorname{cos}^{2}\\left(q_{1}\\right) \\dot{q}_{1}^{2}\\right) + \\frac{m_{1}}{2} \\left(\\left(- l_{1} \\operatorname{sin}\\left(q_{1}\\right) \\dot{q}_{1} - l_{2} \\left(\\dot{q}_{1} + \\dot{q}_{2}\\right) \\operatorname{sin}\\left(q_{1} + q_{2}\\right)\\right)^{2} + \\left(l_{1} \\operatorname{cos}\\left(q_{1}\\right) \\dot{q}_{1} + l_{2} \\left(\\dot{q}_{1} + \\dot{q}_{2}\\right) \\operatorname{cos}\\left(q_{1} + q_{2}\\right)\\right)^{2}\\right)$$"
      ],
      "text/plain": [
       "   ⎛  2    2        2     2    2        2⎞      ⎛                             \n",
       "m₁⋅⎝l₁ ⋅sin (q₁)⋅q₁̇  + l₁ ⋅cos (q₁)⋅q₁̇ ⎠   m₁⋅⎝(-l₁⋅sin(q₁)⋅q₁̇ - l₂⋅(q₁̇ + \n",
       "────────────────────────────────────────── + ─────────────────────────────────\n",
       "                    2                                                         \n",
       "\n",
       "                  2                                                 2⎞\n",
       "q₂̇)⋅sin(q₁ + q₂))  + (l₁⋅cos(q₁)⋅q₁̇ + l₂⋅(q₁̇ + q₂̇)⋅cos(q₁ + q₂)) ⎠\n",
       "──────────────────────────────────────────────────────────────────────\n",
       "                  2                                                   "
      ]
     },
     "execution_count": 11,
     "metadata": {},
     "output_type": "execute_result"
    }
   ],
   "source": [
    "K = K1 + K2\n",
    "K"
   ]
  },
  {
   "cell_type": "code",
   "execution_count": 12,
   "metadata": {
    "collapsed": false
   },
   "outputs": [
    {
     "data": {
      "image/png": "[encoded data removed]",
      "text/latex": [
       "$$g l_{1} m_{1} \\operatorname{sin}\\left(q_{1}\\right) + g m_{2} \\left(l_{1} \\operatorname{sin}\\left(q_{1}\\right) + l_{2} \\operatorname{sin}\\left(q_{1} + q_{2}\\right)\\right)$$"
      ],
      "text/plain": [
       "g⋅l₁⋅m₁⋅sin(q₁) + g⋅m₂⋅(l₁⋅sin(q₁) + l₂⋅sin(q₁ + q₂))"
      ]
     },
     "execution_count": 12,
     "metadata": {},
     "output_type": "execute_result"
    }
   ],
   "source": [
    "U = U1 + U2\n",
    "U"
   ]
  },
  {
   "cell_type": "code",
   "execution_count": 13,
   "metadata": {
    "collapsed": false
   },
   "outputs": [
    {
     "data": {
      "image/png": "[encoded data removed]",
      "text/latex": [
       "$$- g l_{1} m_{1} \\operatorname{sin}\\left(q_{1}\\right) - g l_{1} m_{2} \\operatorname{sin}\\left(q_{1}\\right) - g l_{2} m_{2} \\operatorname{sin}\\left(q_{1} + q_{2}\\right) + l_{1}^{2} m_{1} \\dot{q}_{1}^{2} + l_{1} l_{2} m_{1} \\operatorname{cos}\\left(q_{2}\\right) \\dot{q}_{1}^{2} + l_{1} l_{2} m_{1} \\operatorname{cos}\\left(q_{2}\\right) \\dot{q}_{1} \\dot{q}_{2} + \\frac{l_{2}^{2} m_{1}}{2} \\dot{q}_{1}^{2} + l_{2}^{2} m_{1} \\dot{q}_{1} \\dot{q}_{2} + \\frac{l_{2}^{2} m_{1}}{2} \\dot{q}_{2}^{2}$$"
      ],
      "text/plain": [
       "                                                                              \n",
       "                                                              2       2       \n",
       "-g⋅l₁⋅m₁⋅sin(q₁) - g⋅l₁⋅m₂⋅sin(q₁) - g⋅l₂⋅m₂⋅sin(q₁ + q₂) + l₁ ⋅m₁⋅q₁̇  + l₁⋅l\n",
       "                                                                              \n",
       "\n",
       "                                                 2       2                    \n",
       "                2                              l₂ ⋅m₁⋅q₁̇      2              \n",
       "₂⋅m₁⋅cos(q₂)⋅q₁̇  + l₁⋅l₂⋅m₁⋅cos(q₂)⋅q₁̇⋅q₂̇ + ─────────── + l₂ ⋅m₁⋅q₁̇⋅q₂̇ + \n",
       "                                                    2                         \n",
       "\n",
       "  2       2\n",
       "l₂ ⋅m₁⋅q₂̇ \n",
       "───────────\n",
       "     2     "
      ]
     },
     "execution_count": 13,
     "metadata": {},
     "output_type": "execute_result"
    }
   ],
   "source": [
    "L = (K - U).expand().simplify()\n",
    "L"
   ]
  },
  {
   "cell_type": "code",
   "execution_count": 14,
   "metadata": {
    "collapsed": true
   },
   "outputs": [],
   "source": [
    "τ1 = (L.diff(q1.diff(t)).diff(t) - L.diff(q1)).simplify().expand().collect(q1.diff(t).diff(t)).collect(q2.diff(t).diff(t))"
   ]
  },
  {
   "cell_type": "code",
   "execution_count": 15,
   "metadata": {
    "collapsed": true
   },
   "outputs": [],
   "source": [
    "τ2 = (L.diff(q2.diff(t)).diff(t) - L.diff(q2)).simplify().expand().collect(q1.diff(t).diff(t)).collect(q2.diff(t).diff(t))"
   ]
  },
  {
   "cell_type": "code",
   "execution_count": 16,
   "metadata": {
    "collapsed": false
   },
   "outputs": [
    {
     "data": {
      "image/png": "[encoded data removed]",
      "text/latex": [
       "$$g l_{1} m_{1} \\operatorname{cos}\\left(q_{1}\\right) + g l_{1} m_{2} \\operatorname{cos}\\left(q_{1}\\right) + g l_{2} m_{2} \\operatorname{cos}\\left(q_{1} + q_{2}\\right) - 2 l_{1} l_{2} m_{1} \\operatorname{sin}\\left(q_{2}\\right) \\dot{q}_{1} \\dot{q}_{2} - l_{1} l_{2} m_{1} \\operatorname{sin}\\left(q_{2}\\right) \\dot{q}_{2}^{2} + \\left(l_{1} l_{2} m_{1} \\operatorname{cos}\\left(q_{2}\\right) + l_{2}^{2} m_{1}\\right) \\ddot{q}_{2} + \\left(2 l_{1}^{2} m_{1} + 2 l_{1} l_{2} m_{1} \\operatorname{cos}\\left(q_{2}\\right) + l_{2}^{2} m_{1}\\right) \\ddot{q}_{1}$$"
      ],
      "text/plain": [
       "                                                                              \n",
       "g⋅l₁⋅m₁⋅cos(q₁) + g⋅l₁⋅m₂⋅cos(q₁) + g⋅l₂⋅m₂⋅cos(q₁ + q₂) - 2⋅l₁⋅l₂⋅m₁⋅sin(q₂)⋅\n",
       "\n",
       "                              2   ⎛                     2   ⎞       ⎛    2    \n",
       "q₁̇⋅q₂̇ - l₁⋅l₂⋅m₁⋅sin(q₂)⋅q₂̇  + ⎝l₁⋅l₂⋅m₁⋅cos(q₂) + l₂ ⋅m₁⎠⋅q₂̈ + ⎝2⋅l₁ ⋅m₁ \n",
       "\n",
       "                         2   ⎞    \n",
       "+ 2⋅l₁⋅l₂⋅m₁⋅cos(q₂) + l₂ ⋅m₁⎠⋅q₁̈"
      ]
     },
     "execution_count": 16,
     "metadata": {},
     "output_type": "execute_result"
    }
   ],
   "source": [
    "τ1"
   ]
  },
  {
   "cell_type": "code",
   "execution_count": 17,
   "metadata": {
    "collapsed": false
   },
   "outputs": [
    {
     "data": {
      "image/png": "[encoded data removed]",
      "text/latex": [
       "$$g l_{2} m_{2} \\operatorname{cos}\\left(q_{1} + q_{2}\\right) + l_{1} l_{2} m_{1} \\operatorname{sin}\\left(q_{2}\\right) \\dot{q}_{1}^{2} + l_{2}^{2} m_{1} \\ddot{q}_{2} + \\left(l_{1} l_{2} m_{1} \\operatorname{cos}\\left(q_{2}\\right) + l_{2}^{2} m_{1}\\right) \\ddot{q}_{1}$$"
      ],
      "text/plain": [
       "                                           2     2          ⎛                 \n",
       "g⋅l₂⋅m₂⋅cos(q₁ + q₂) + l₁⋅l₂⋅m₁⋅sin(q₂)⋅q₁̇  + l₂ ⋅m₁⋅q₂̈ + ⎝l₁⋅l₂⋅m₁⋅cos(q₂) \n",
       "\n",
       "    2   ⎞    \n",
       "+ l₂ ⋅m₁⎠⋅q₁̈"
      ]
     },
     "execution_count": 17,
     "metadata": {},
     "output_type": "execute_result"
    }
   ],
   "source": [
    "τ2"
   ]
  },
  {
   "cell_type": "code",
   "execution_count": 42,
   "metadata": {
    "collapsed": true
   },
   "outputs": [],
   "source": [
    "from scipy.integrate import odeint\n",
    "from numpy import linspace"
   ]
  },
  {
   "cell_type": "code",
   "execution_count": 43,
   "metadata": {
    "collapsed": true
   },
   "outputs": [],
   "source": [
    "def pendulo_doble(estado, tiempo):\n",
    "    # Se importan funciones necesarias\n",
    "    from numpy import sin, cos, matrix\n",
    "    # Se desenvuelven variables del estado y tiempo\n",
    "    q1, q2, q̇1, q̇2 = estado\n",
    "    t = tiempo\n",
    "    \n",
    "    # Se declaran constantes del sistema\n",
    "    m1, m2 = 1, 1\n",
    "    l1, l2 = 1, 1\n",
    "    g = 9.81\n",
    "    \n",
    "    # Se declaran constantes del control\n",
    "    kp1, kp2 = -30, -60\n",
    "    kv1, kv2 = -20, -20\n",
    "    \n",
    "    # Señales de control nulas\n",
    "    tau1, tau2 = 0, 0\n",
    "    \n",
    "    # Posiciones a alcanzar\n",
    "    qd1, qd2 = 1, 1\n",
    "    \n",
    "    # Se declaran señales de control del sistema\n",
    "    #tau1 = kp1*(q1 - qd1) + kv1*q̇1\n",
    "    #tau2 = kp2*(q2 - qd2) + kv2*q̇2\n",
    "    \n",
    "    # Se calculan algunos terminos comunes\n",
    "    ϕ1 = m1*l1**2\n",
    "    ϕ2 = m1*l1*l2\n",
    "    ϕ3 = m1*l2**2\n",
    "    \n",
    "    # Se calculan las matrices de masas, Coriolis,\n",
    "    # y vectores de gravedad, control, posicion y velocidad\n",
    "    M = matrix([[2*ϕ1 + 2*ϕ2*cos(q2) + ϕ3, ϕ2*cos(q2) + ϕ3],\n",
    "                [ϕ2*cos(q2) + ϕ3, ϕ3]])\n",
    "    C = matrix([[-2*ϕ2*sin(q2)*q̇2, -ϕ2*sin(q2)*q̇2], [ϕ2*sin(q2)*q̇1, 0]])\n",
    "    G = matrix([[m1*l1*cos(q1) + m2*l1*cos(q1) + m2*l2*cos(q1 + q2)], [m2*l2*cos(q1 + q2)]])\n",
    "    Tau = matrix([[tau1], [tau2]])\n",
    "    q = matrix([[q1], [q2]])\n",
    "    q̇ = matrix([[q̇1], [q̇2]])\n",
    "    \n",
    "    # Se calcula la derivada del estado del sistema\n",
    "    qp1 = q̇1\n",
    "    qp2 = q̇2\n",
    "    \n",
    "    qpp = M.I*(Tau - C*q̇ - G)\n",
    "    qpp1, qpp2 = qpp.tolist()\n",
    "    \n",
    "    return [qp1, qp2, qpp1[0], qpp2[0]]"
   ]
  },
  {
   "cell_type": "code",
   "execution_count": 63,
   "metadata": {
    "collapsed": false
   },
   "outputs": [],
   "source": [
    "t = linspace(0, 30, 500)\n",
    "estados_simulados = odeint(func = pendulo_doble, y0  = [0, 0, 0, 0], t = t)"
   ]
  },
  {
   "cell_type": "code",
   "execution_count": 64,
   "metadata": {
    "collapsed": true
   },
   "outputs": [],
   "source": [
    "q1, q2, q̇1, q̇2 = list(zip(*estados_simulados.tolist()))"
   ]
  },
  {
   "cell_type": "code",
   "execution_count": 65,
   "metadata": {
    "collapsed": false
   },
   "outputs": [],
   "source": [
    "%matplotlib notebook\n",
    "from matplotlib.pyplot import plot, style, figure\n",
    "from mpl_toolkits.mplot3d import Axes3D\n",
    "style.use(\"ggplot\")"
   ]
  },
  {
   "cell_type": "code",
   "execution_count": 66,
   "metadata": {
    "collapsed": false
   },
   "outputs": [
    {
     "data": {
      "application/javascript": [
       "/* Put everything inside the global mpl namespace */\n",
       "window.mpl = {};\n",
       "\n",
       "mpl.get_websocket_type = function() {\n",
       "    if (typeof(WebSocket) !== 'undefined') {\n",
       "        return WebSocket;\n",
       "    } else if (typeof(MozWebSocket) !== 'undefined') {\n",
       "        return MozWebSocket;\n",
       "    } else {\n",
       "        alert('Your browser does not have WebSocket support.' +\n",
       "              'Please try Chrome, Safari or Firefox ≥ 6. ' +\n",
       "              'Firefox 4 and 5 are also supported but you ' +\n",
       "              'have to enable WebSockets in about:config.');\n",
       "    };\n",
       "}\n",
       "\n",
       "mpl.figure = function(figure_id, websocket, ondownload, parent_element) {\n",
       "    this.id = figure_id;\n",
       "\n",
       "    this.ws = websocket;\n",
       "\n",
       "    this.supports_binary = (this.ws.binaryType != undefined);\n",
       "\n",
       "    if (!this.supports_binary) {\n",
       "        var warnings = document.getElementById(\"mpl-warnings\");\n",
       "        if (warnings) {\n",
       "            warnings.style.display = 'block';\n",
       "            warnings.textContent = (\n",
       "                \"This browser does not support binary websocket messages. \" +\n",
       "                    \"Performance may be slow.\");\n",
       "        }\n",
       "    }\n",
       "\n",
       "    this.imageObj = new Image();\n",
       "\n",
       "    this.context = undefined;\n",
       "    this.message = undefined;\n",
       "    this.canvas = undefined;\n",
       "    this.rubberband_canvas = undefined;\n",
       "    this.rubberband_context = undefined;\n",
       "    this.format_dropdown = undefined;\n",
       "\n",
       "    this.image_mode = 'full';\n",
       "\n",
       "    this.root = $('<div/>');\n",
       "    this._root_extra_style(this.root)\n",
       "    this.root.attr('style', 'display: inline-block');\n",
       "\n",
       "    $(parent_element).append(this.root);\n",
       "\n",
       "    this._init_header(this);\n",
       "    this._init_canvas(this);\n",
       "    this._init_toolbar(this);\n",
       "\n",
       "    var fig = this;\n",
       "\n",
       "    this.waiting = false;\n",
       "\n",
       "    this.ws.onopen =  function () {\n",
       "            fig.send_message(\"supports_binary\", {value: fig.supports_binary});\n",
       "            fig.send_message(\"send_image_mode\", {});\n",
       "            fig.send_message(\"refresh\", {});\n",
       "        }\n",
       "\n",
       "    this.imageObj.onload = function() {\n",
       "            if (fig.image_mode == 'full') {\n",
       "                // Full images could contain transparency (where diff images\n",
       "                // almost always do), so we need to clear the canvas so that\n",
       "                // there is no ghosting.\n",
       "                fig.context.clearRect(0, 0, fig.canvas.width, fig.canvas.height);\n",
       "            }\n",
       "            fig.context.drawImage(fig.imageObj, 0, 0);\n",
       "        };\n",
       "\n",
       "    this.imageObj.onunload = function() {\n",
       "        this.ws.close();\n",
       "    }\n",
       "\n",
       "    this.ws.onmessage = this._make_on_message_function(this);\n",
       "\n",
       "    this.ondownload = ondownload;\n",
       "}\n",
       "\n",
       "mpl.figure.prototype._init_header = function() {\n",
       "    var titlebar = $(\n",
       "        '<div class=\"ui-dialog-titlebar ui-widget-header ui-corner-all ' +\n",
       "        'ui-helper-clearfix\"/>');\n",
       "    var titletext = $(\n",
       "        '<div class=\"ui-dialog-title\" style=\"width: 100%; ' +\n",
       "        'text-align: center; padding: 3px;\"/>');\n",
       "    titlebar.append(titletext)\n",
       "    this.root.append(titlebar);\n",
       "    this.header = titletext[0];\n",
       "}\n",
       "\n",
       "\n",
       "\n",
       "mpl.figure.prototype._canvas_extra_style = function(canvas_div) {\n",
       "\n",
       "}\n",
       "\n",
       "\n",
       "mpl.figure.prototype._root_extra_style = function(canvas_div) {\n",
       "\n",
       "}\n",
       "\n",
       "mpl.figure.prototype._init_canvas = function() {\n",
       "    var fig = this;\n",
       "\n",
       "    var canvas_div = $('<div/>');\n",
       "\n",
       "    canvas_div.attr('style', 'position: relative; clear: both; outline: 0');\n",
       "\n",
       "    function canvas_keyboard_event(event) {\n",
       "        return fig.key_event(event, event['data']);\n",
       "    }\n",
       "\n",
       "    canvas_div.keydown('key_press', canvas_keyboard_event);\n",
       "    canvas_div.keyup('key_release', canvas_keyboard_event);\n",
       "    this.canvas_div = canvas_div\n",
       "    this._canvas_extra_style(canvas_div)\n",
       "    this.root.append(canvas_div);\n",
       "\n",
       "    var canvas = $('<canvas/>');\n",
       "    canvas.addClass('mpl-canvas');\n",
       "    canvas.attr('style', \"left: 0; top: 0; z-index: 0; outline: 0\")\n",
       "\n",
       "    this.canvas = canvas[0];\n",
       "    this.context = canvas[0].getContext(\"2d\");\n",
       "\n",
       "    var rubberband = $('<canvas/>');\n",
       "    rubberband.attr('style', \"position: absolute; left: 0; top: 0; z-index: 1;\")\n",
       "\n",
       "    var pass_mouse_events = true;\n",
       "\n",
       "    canvas_div.resizable({\n",
       "        start: function(event, ui) {\n",
       "            pass_mouse_events = false;\n",
       "        },\n",
       "        resize: function(event, ui) {\n",
       "            fig.request_resize(ui.size.width, ui.size.height);\n",
       "        },\n",
       "        stop: function(event, ui) {\n",
       "            pass_mouse_events = true;\n",
       "            fig.request_resize(ui.size.width, ui.size.height);\n",
       "        },\n",
       "    });\n",
       "\n",
       "    function mouse_event_fn(event) {\n",
       "        if (pass_mouse_events)\n",
       "            return fig.mouse_event(event, event['data']);\n",
       "    }\n",
       "\n",
       "    rubberband.mousedown('button_press', mouse_event_fn);\n",
       "    rubberband.mouseup('button_release', mouse_event_fn);\n",
       "    // Throttle sequential mouse events to 1 every 20ms.\n",
       "    rubberband.mousemove('motion_notify', mouse_event_fn);\n",
       "\n",
       "    rubberband.mouseenter('figure_enter', mouse_event_fn);\n",
       "    rubberband.mouseleave('figure_leave', mouse_event_fn);\n",
       "\n",
       "    canvas_div.on(\"wheel\", function (event) {\n",
       "        event = event.originalEvent;\n",
       "        event['data'] = 'scroll'\n",
       "        if (event.deltaY < 0) {\n",
       "            event.step = 1;\n",
       "        } else {\n",
       "            event.step = -1;\n",
       "        }\n",
       "        mouse_event_fn(event);\n",
       "    });\n",
       "\n",
       "    canvas_div.append(canvas);\n",
       "    canvas_div.append(rubberband);\n",
       "\n",
       "    this.rubberband = rubberband;\n",
       "    this.rubberband_canvas = rubberband[0];\n",
       "    this.rubberband_context = rubberband[0].getContext(\"2d\");\n",
       "    this.rubberband_context.strokeStyle = \"#000000\";\n",
       "\n",
       "    this._resize_canvas = function(width, height) {\n",
       "        // Keep the size of the canvas, canvas container, and rubber band\n",
       "        // canvas in synch.\n",
       "        canvas_div.css('width', width)\n",
       "        canvas_div.css('height', height)\n",
       "\n",
       "        canvas.attr('width', width);\n",
       "        canvas.attr('height', height);\n",
       "\n",
       "        rubberband.attr('width', width);\n",
       "        rubberband.attr('height', height);\n",
       "    }\n",
       "\n",
       "    // Set the figure to an initial 600x600px, this will subsequently be updated\n",
       "    // upon first draw.\n",
       "    this._resize_canvas(600, 600);\n",
       "\n",
       "    // Disable right mouse context menu.\n",
       "    $(this.rubberband_canvas).bind(\"contextmenu\",function(e){\n",
       "        return false;\n",
       "    });\n",
       "\n",
       "    function set_focus () {\n",
       "        canvas.focus();\n",
       "        canvas_div.focus();\n",
       "    }\n",
       "\n",
       "    window.setTimeout(set_focus, 100);\n",
       "}\n",
       "\n",
       "mpl.figure.prototype._init_toolbar = function() {\n",
       "    var fig = this;\n",
       "\n",
       "    var nav_element = $('<div/>')\n",
       "    nav_element.attr('style', 'width: 100%');\n",
       "    this.root.append(nav_element);\n",
       "\n",
       "    // Define a callback function for later on.\n",
       "    function toolbar_event(event) {\n",
       "        return fig.toolbar_button_onclick(event['data']);\n",
       "    }\n",
       "    function toolbar_mouse_event(event) {\n",
       "        return fig.toolbar_button_onmouseover(event['data']);\n",
       "    }\n",
       "\n",
       "    for(var toolbar_ind in mpl.toolbar_items) {\n",
       "        var name = mpl.toolbar_items[toolbar_ind][0];\n",
       "        var tooltip = mpl.toolbar_items[toolbar_ind][1];\n",
       "        var image = mpl.toolbar_items[toolbar_ind][2];\n",
       "        var method_name = mpl.toolbar_items[toolbar_ind][3];\n",
       "\n",
       "        if (!name) {\n",
       "            // put a spacer in here.\n",
       "            continue;\n",
       "        }\n",
       "        var button = $('<button/>');\n",
       "        button.addClass('ui-button ui-widget ui-state-default ui-corner-all ' +\n",
       "                        'ui-button-icon-only');\n",
       "        button.attr('role', 'button');\n",
       "        button.attr('aria-disabled', 'false');\n",
       "        button.click(method_name, toolbar_event);\n",
       "        button.mouseover(tooltip, toolbar_mouse_event);\n",
       "\n",
       "        var icon_img = $('<span/>');\n",
       "        icon_img.addClass('ui-button-icon-primary ui-icon');\n",
       "        icon_img.addClass(image);\n",
       "        icon_img.addClass('ui-corner-all');\n",
       "\n",
       "        var tooltip_span = $('<span/>');\n",
       "        tooltip_span.addClass('ui-button-text');\n",
       "        tooltip_span.html(tooltip);\n",
       "\n",
       "        button.append(icon_img);\n",
       "        button.append(tooltip_span);\n",
       "\n",
       "        nav_element.append(button);\n",
       "    }\n",
       "\n",
       "    var fmt_picker_span = $('<span/>');\n",
       "\n",
       "    var fmt_picker = $('<select/>');\n",
       "    fmt_picker.addClass('mpl-toolbar-option ui-widget ui-widget-content');\n",
       "    fmt_picker_span.append(fmt_picker);\n",
       "    nav_element.append(fmt_picker_span);\n",
       "    this.format_dropdown = fmt_picker[0];\n",
       "\n",
       "    for (var ind in mpl.extensions) {\n",
       "        var fmt = mpl.extensions[ind];\n",
       "        var option = $(\n",
       "            '<option/>', {selected: fmt === mpl.default_extension}).html(fmt);\n",
       "        fmt_picker.append(option)\n",
       "    }\n",
       "\n",
       "    // Add hover states to the ui-buttons\n",
       "    $( \".ui-button\" ).hover(\n",
       "        function() { $(this).addClass(\"ui-state-hover\");},\n",
       "        function() { $(this).removeClass(\"ui-state-hover\");}\n",
       "    );\n",
       "\n",
       "    var status_bar = $('<span class=\"mpl-message\"/>');\n",
       "    nav_element.append(status_bar);\n",
       "    this.message = status_bar[0];\n",
       "}\n",
       "\n",
       "mpl.figure.prototype.request_resize = function(x_pixels, y_pixels) {\n",
       "    // Request matplotlib to resize the figure. Matplotlib will then trigger a resize in the client,\n",
       "    // which will in turn request a refresh of the image.\n",
       "    this.send_message('resize', {'width': x_pixels, 'height': y_pixels});\n",
       "}\n",
       "\n",
       "mpl.figure.prototype.send_message = function(type, properties) {\n",
       "    properties['type'] = type;\n",
       "    properties['figure_id'] = this.id;\n",
       "    this.ws.send(JSON.stringify(properties));\n",
       "}\n",
       "\n",
       "mpl.figure.prototype.send_draw_message = function() {\n",
       "    if (!this.waiting) {\n",
       "        this.waiting = true;\n",
       "        this.ws.send(JSON.stringify({type: \"draw\", figure_id: this.id}));\n",
       "    }\n",
       "}\n",
       "\n",
       "\n",
       "mpl.figure.prototype.handle_save = function(fig, msg) {\n",
       "    var format_dropdown = fig.format_dropdown;\n",
       "    var format = format_dropdown.options[format_dropdown.selectedIndex].value;\n",
       "    fig.ondownload(fig, format);\n",
       "}\n",
       "\n",
       "\n",
       "mpl.figure.prototype.handle_resize = function(fig, msg) {\n",
       "    var size = msg['size'];\n",
       "    if (size[0] != fig.canvas.width || size[1] != fig.canvas.height) {\n",
       "        fig._resize_canvas(size[0], size[1]);\n",
       "        fig.send_message(\"refresh\", {});\n",
       "    };\n",
       "}\n",
       "\n",
       "mpl.figure.prototype.handle_rubberband = function(fig, msg) {\n",
       "    var x0 = msg['x0'];\n",
       "    var y0 = fig.canvas.height - msg['y0'];\n",
       "    var x1 = msg['x1'];\n",
       "    var y1 = fig.canvas.height - msg['y1'];\n",
       "    x0 = Math.floor(x0) + 0.5;\n",
       "    y0 = Math.floor(y0) + 0.5;\n",
       "    x1 = Math.floor(x1) + 0.5;\n",
       "    y1 = Math.floor(y1) + 0.5;\n",
       "    var min_x = Math.min(x0, x1);\n",
       "    var min_y = Math.min(y0, y1);\n",
       "    var width = Math.abs(x1 - x0);\n",
       "    var height = Math.abs(y1 - y0);\n",
       "\n",
       "    fig.rubberband_context.clearRect(\n",
       "        0, 0, fig.canvas.width, fig.canvas.height);\n",
       "\n",
       "    fig.rubberband_context.strokeRect(min_x, min_y, width, height);\n",
       "}\n",
       "\n",
       "mpl.figure.prototype.handle_figure_label = function(fig, msg) {\n",
       "    // Updates the figure title.\n",
       "    fig.header.textContent = msg['label'];\n",
       "}\n",
       "\n",
       "mpl.figure.prototype.handle_cursor = function(fig, msg) {\n",
       "    var cursor = msg['cursor'];\n",
       "    switch(cursor)\n",
       "    {\n",
       "    case 0:\n",
       "        cursor = 'pointer';\n",
       "        break;\n",
       "    case 1:\n",
       "        cursor = 'default';\n",
       "        break;\n",
       "    case 2:\n",
       "        cursor = 'crosshair';\n",
       "        break;\n",
       "    case 3:\n",
       "        cursor = 'move';\n",
       "        break;\n",
       "    }\n",
       "    fig.rubberband_canvas.style.cursor = cursor;\n",
       "}\n",
       "\n",
       "mpl.figure.prototype.handle_message = function(fig, msg) {\n",
       "    fig.message.textContent = msg['message'];\n",
       "}\n",
       "\n",
       "mpl.figure.prototype.handle_draw = function(fig, msg) {\n",
       "    // Request the server to send over a new figure.\n",
       "    fig.send_draw_message();\n",
       "}\n",
       "\n",
       "mpl.figure.prototype.handle_image_mode = function(fig, msg) {\n",
       "    fig.image_mode = msg['mode'];\n",
       "}\n",
       "\n",
       "mpl.figure.prototype.updated_canvas_event = function() {\n",
       "    // Called whenever the canvas gets updated.\n",
       "    this.send_message(\"ack\", {});\n",
       "}\n",
       "\n",
       "// A function to construct a web socket function for onmessage handling.\n",
       "// Called in the figure constructor.\n",
       "mpl.figure.prototype._make_on_message_function = function(fig) {\n",
       "    return function socket_on_message(evt) {\n",
       "        if (evt.data instanceof Blob) {\n",
       "            /* FIXME: We get \"Resource interpreted as Image but\n",
       "             * transferred with MIME type text/plain:\" errors on\n",
       "             * Chrome.  But how to set the MIME type?  It doesn't seem\n",
       "             * to be part of the websocket stream */\n",
       "            evt.data.type = \"image/png\";\n",
       "\n",
       "            /* Free the memory for the previous frames */\n",
       "            if (fig.imageObj.src) {\n",
       "                (window.URL || window.webkitURL).revokeObjectURL(\n",
       "                    fig.imageObj.src);\n",
       "            }\n",
       "\n",
       "            fig.imageObj.src = (window.URL || window.webkitURL).createObjectURL(\n",
       "                evt.data);\n",
       "            fig.updated_canvas_event();\n",
       "            fig.waiting = false;\n",
       "            return;\n",
       "        }\n",
       "        else if (typeof evt.data === 'string' && evt.data.slice(0, 21) == \"data:image/png;base64\") {\n",
       "            fig.imageObj.src = evt.data;\n",
       "            fig.updated_canvas_event();\n",
       "            fig.waiting = false;\n",
       "            return;\n",
       "        }\n",
       "\n",
       "        var msg = JSON.parse(evt.data);\n",
       "        var msg_type = msg['type'];\n",
       "\n",
       "        // Call the  \"handle_{type}\" callback, which takes\n",
       "        // the figure and JSON message as its only arguments.\n",
       "        try {\n",
       "            var callback = fig[\"handle_\" + msg_type];\n",
       "        } catch (e) {\n",
       "            console.log(\"No handler for the '\" + msg_type + \"' message type: \", msg);\n",
       "            return;\n",
       "        }\n",
       "\n",
       "        if (callback) {\n",
       "            try {\n",
       "                // console.log(\"Handling '\" + msg_type + \"' message: \", msg);\n",
       "                callback(fig, msg);\n",
       "            } catch (e) {\n",
       "                console.log(\"Exception inside the 'handler_\" + msg_type + \"' callback:\", e, e.stack, msg);\n",
       "            }\n",
       "        }\n",
       "    };\n",
       "}\n",
       "\n",
       "// from http://stackoverflow.com/questions/1114465/getting-mouse-location-in-canvas\n",
       "mpl.findpos = function(e) {\n",
       "    //this section is from http://www.quirksmode.org/js/events_properties.html\n",
       "    var targ;\n",
       "    if (!e)\n",
       "        e = window.event;\n",
       "    if (e.target)\n",
       "        targ = e.target;\n",
       "    else if (e.srcElement)\n",
       "        targ = e.srcElement;\n",
       "    if (targ.nodeType == 3) // defeat Safari bug\n",
       "        targ = targ.parentNode;\n",
       "\n",
       "    // jQuery normalizes the pageX and pageY\n",
       "    // pageX,Y are the mouse positions relative to the document\n",
       "    // offset() returns the position of the element relative to the document\n",
       "    var x = e.pageX - $(targ).offset().left;\n",
       "    var y = e.pageY - $(targ).offset().top;\n",
       "\n",
       "    return {\"x\": x, \"y\": y};\n",
       "};\n",
       "\n",
       "/*\n",
       " * return a copy of an object with only non-object keys\n",
       " * we need this to avoid circular references\n",
       " * http://stackoverflow.com/a/24161582/3208463\n",
       " */\n",
       "function simpleKeys (original) {\n",
       "  return Object.keys(original).reduce(function (obj, key) {\n",
       "    if (typeof original[key] !== 'object')\n",
       "        obj[key] = original[key]\n",
       "    return obj;\n",
       "  }, {});\n",
       "}\n",
       "\n",
       "mpl.figure.prototype.mouse_event = function(event, name) {\n",
       "    var canvas_pos = mpl.findpos(event)\n",
       "\n",
       "    if (name === 'button_press')\n",
       "    {\n",
       "        this.canvas.focus();\n",
       "        this.canvas_div.focus();\n",
       "    }\n",
       "\n",
       "    var x = canvas_pos.x;\n",
       "    var y = canvas_pos.y;\n",
       "\n",
       "    this.send_message(name, {x: x, y: y, button: event.button,\n",
       "                             step: event.step,\n",
       "                             guiEvent: simpleKeys(event)});\n",
       "\n",
       "    /* This prevents the web browser from automatically changing to\n",
       "     * the text insertion cursor when the button is pressed.  We want\n",
       "     * to control all of the cursor setting manually through the\n",
       "     * 'cursor' event from matplotlib */\n",
       "    event.preventDefault();\n",
       "    return false;\n",
       "}\n",
       "\n",
       "mpl.figure.prototype._key_event_extra = function(event, name) {\n",
       "    // Handle any extra behaviour associated with a key event\n",
       "}\n",
       "\n",
       "mpl.figure.prototype.key_event = function(event, name) {\n",
       "\n",
       "    // Prevent repeat events\n",
       "    if (name == 'key_press')\n",
       "    {\n",
       "        if (event.which === this._key)\n",
       "            return;\n",
       "        else\n",
       "            this._key = event.which;\n",
       "    }\n",
       "    if (name == 'key_release')\n",
       "        this._key = null;\n",
       "\n",
       "    var value = '';\n",
       "    if (event.ctrlKey && event.which != 17)\n",
       "        value += \"ctrl+\";\n",
       "    if (event.altKey && event.which != 18)\n",
       "        value += \"alt+\";\n",
       "    if (event.shiftKey && event.which != 16)\n",
       "        value += \"shift+\";\n",
       "\n",
       "    value += 'k';\n",
       "    value += event.which.toString();\n",
       "\n",
       "    this._key_event_extra(event, name);\n",
       "\n",
       "    this.send_message(name, {key: value,\n",
       "                             guiEvent: simpleKeys(event)});\n",
       "    return false;\n",
       "}\n",
       "\n",
       "mpl.figure.prototype.toolbar_button_onclick = function(name) {\n",
       "    if (name == 'download') {\n",
       "        this.handle_save(this, null);\n",
       "    } else {\n",
       "        this.send_message(\"toolbar_button\", {name: name});\n",
       "    }\n",
       "};\n",
       "\n",
       "mpl.figure.prototype.toolbar_button_onmouseover = function(tooltip) {\n",
       "    this.message.textContent = tooltip;\n",
       "};\n",
       "mpl.toolbar_items = [[\"Home\", \"Reset original view\", \"fa fa-home icon-home\", \"home\"], [\"Back\", \"Back to  previous view\", \"fa fa-arrow-left icon-arrow-left\", \"back\"], [\"Forward\", \"Forward to next view\", \"fa fa-arrow-right icon-arrow-right\", \"forward\"], [\"\", \"\", \"\", \"\"], [\"Pan\", \"Pan axes with left mouse, zoom with right\", \"fa fa-arrows icon-move\", \"pan\"], [\"Zoom\", \"Zoom to rectangle\", \"fa fa-square-o icon-check-empty\", \"zoom\"], [\"\", \"\", \"\", \"\"], [\"Download\", \"Download plot\", \"fa fa-floppy-o icon-save\", \"download\"]];\n",
       "\n",
       "mpl.extensions = [\"eps\", \"pdf\", \"png\", \"ps\", \"raw\", \"svg\"];\n",
       "\n",
       "mpl.default_extension = \"png\";var comm_websocket_adapter = function(comm) {\n",
       "    // Create a \"websocket\"-like object which calls the given IPython comm\n",
       "    // object with the appropriate methods. Currently this is a non binary\n",
       "    // socket, so there is still some room for performance tuning.\n",
       "    var ws = {};\n",
       "\n",
       "    ws.close = function() {\n",
       "        comm.close()\n",
       "    };\n",
       "    ws.send = function(m) {\n",
       "        //console.log('sending', m);\n",
       "        comm.send(m);\n",
       "    };\n",
       "    // Register the callback with on_msg.\n",
       "    comm.on_msg(function(msg) {\n",
       "        //console.log('receiving', msg['content']['data'], msg);\n",
       "        // Pass the mpl event to the overriden (by mpl) onmessage function.\n",
       "        ws.onmessage(msg['content']['data'])\n",
       "    });\n",
       "    return ws;\n",
       "}\n",
       "\n",
       "mpl.mpl_figure_comm = function(comm, msg) {\n",
       "    // This is the function which gets called when the mpl process\n",
       "    // starts-up an IPython Comm through the \"matplotlib\" channel.\n",
       "\n",
       "    var id = msg.content.data.id;\n",
       "    // Get hold of the div created by the display call when the Comm\n",
       "    // socket was opened in Python.\n",
       "    var element = $(\"#\" + id);\n",
       "    var ws_proxy = comm_websocket_adapter(comm)\n",
       "\n",
       "    function ondownload(figure, format) {\n",
       "        window.open(figure.imageObj.src);\n",
       "    }\n",
       "\n",
       "    var fig = new mpl.figure(id, ws_proxy,\n",
       "                           ondownload,\n",
       "                           element.get(0));\n",
       "\n",
       "    // Call onopen now - mpl needs it, as it is assuming we've passed it a real\n",
       "    // web socket which is closed, not our websocket->open comm proxy.\n",
       "    ws_proxy.onopen();\n",
       "\n",
       "    fig.parent_element = element.get(0);\n",
       "    fig.cell_info = mpl.find_output_cell(\"<div id='\" + id + \"'></div>\");\n",
       "    if (!fig.cell_info) {\n",
       "        console.error(\"Failed to find cell for figure\", id, fig);\n",
       "        return;\n",
       "    }\n",
       "\n",
       "    var output_index = fig.cell_info[2]\n",
       "    var cell = fig.cell_info[0];\n",
       "\n",
       "};\n",
       "\n",
       "mpl.figure.prototype.handle_close = function(fig, msg) {\n",
       "    fig.root.unbind('remove')\n",
       "\n",
       "    // Update the output cell to use the data from the current canvas.\n",
       "    fig.push_to_output();\n",
       "    var dataURL = fig.canvas.toDataURL();\n",
       "    // Re-enable the keyboard manager in IPython - without this line, in FF,\n",
       "    // the notebook keyboard shortcuts fail.\n",
       "    IPython.keyboard_manager.enable()\n",
       "    $(fig.parent_element).html('<img src=\"' + dataURL + '\">');\n",
       "    fig.close_ws(fig, msg);\n",
       "}\n",
       "\n",
       "mpl.figure.prototype.close_ws = function(fig, msg){\n",
       "    fig.send_message('closing', msg);\n",
       "    // fig.ws.close()\n",
       "}\n",
       "\n",
       "mpl.figure.prototype.push_to_output = function(remove_interactive) {\n",
       "    // Turn the data on the canvas into data in the output cell.\n",
       "    var dataURL = this.canvas.toDataURL();\n",
       "    this.cell_info[1]['text/html'] = '<img src=\"' + dataURL + '\">';\n",
       "}\n",
       "\n",
       "mpl.figure.prototype.updated_canvas_event = function() {\n",
       "    // Tell IPython that the notebook contents must change.\n",
       "    IPython.notebook.set_dirty(true);\n",
       "    this.send_message(\"ack\", {});\n",
       "    var fig = this;\n",
       "    // Wait a second, then push the new image to the DOM so\n",
       "    // that it is saved nicely (might be nice to debounce this).\n",
       "    setTimeout(function () { fig.push_to_output() }, 1000);\n",
       "}\n",
       "\n",
       "mpl.figure.prototype._init_toolbar = function() {\n",
       "    var fig = this;\n",
       "\n",
       "    var nav_element = $('<div/>')\n",
       "    nav_element.attr('style', 'width: 100%');\n",
       "    this.root.append(nav_element);\n",
       "\n",
       "    // Define a callback function for later on.\n",
       "    function toolbar_event(event) {\n",
       "        return fig.toolbar_button_onclick(event['data']);\n",
       "    }\n",
       "    function toolbar_mouse_event(event) {\n",
       "        return fig.toolbar_button_onmouseover(event['data']);\n",
       "    }\n",
       "\n",
       "    for(var toolbar_ind in mpl.toolbar_items){\n",
       "        var name = mpl.toolbar_items[toolbar_ind][0];\n",
       "        var tooltip = mpl.toolbar_items[toolbar_ind][1];\n",
       "        var image = mpl.toolbar_items[toolbar_ind][2];\n",
       "        var method_name = mpl.toolbar_items[toolbar_ind][3];\n",
       "\n",
       "        if (!name) { continue; };\n",
       "\n",
       "        var button = $('<button class=\"btn btn-default\" href=\"#\" title=\"' + name + '\"><i class=\"fa ' + image + ' fa-lg\"></i></button>');\n",
       "        button.click(method_name, toolbar_event);\n",
       "        button.mouseover(tooltip, toolbar_mouse_event);\n",
       "        nav_element.append(button);\n",
       "    }\n",
       "\n",
       "    // Add the status bar.\n",
       "    var status_bar = $('<span class=\"mpl-message\" style=\"text-align:right; float: right;\"/>');\n",
       "    nav_element.append(status_bar);\n",
       "    this.message = status_bar[0];\n",
       "\n",
       "    // Add the close button to the window.\n",
       "    var buttongrp = $('<div class=\"btn-group inline pull-right\"></div>');\n",
       "    var button = $('<button class=\"btn btn-mini btn-primary\" href=\"#\" title=\"Stop Interaction\"><i class=\"fa fa-power-off icon-remove icon-large\"></i></button>');\n",
       "    button.click(function (evt) { fig.handle_close(fig, {}); } );\n",
       "    button.mouseover('Stop Interaction', toolbar_mouse_event);\n",
       "    buttongrp.append(button);\n",
       "    var titlebar = this.root.find($('.ui-dialog-titlebar'));\n",
       "    titlebar.prepend(buttongrp);\n",
       "}\n",
       "\n",
       "mpl.figure.prototype._root_extra_style = function(el){\n",
       "    var fig = this\n",
       "    el.on(\"remove\", function(){\n",
       "\tfig.close_ws(fig, {});\n",
       "    });\n",
       "}\n",
       "\n",
       "mpl.figure.prototype._canvas_extra_style = function(el){\n",
       "    // this is important to make the div 'focusable\n",
       "    el.attr('tabindex', 0)\n",
       "    // reach out to IPython and tell the keyboard manager to turn it's self\n",
       "    // off when our div gets focus\n",
       "\n",
       "    // location in version 3\n",
       "    if (IPython.notebook.keyboard_manager) {\n",
       "        IPython.notebook.keyboard_manager.register_events(el);\n",
       "    }\n",
       "    else {\n",
       "        // location in version 2\n",
       "        IPython.keyboard_manager.register_events(el);\n",
       "    }\n",
       "\n",
       "}\n",
       "\n",
       "mpl.figure.prototype._key_event_extra = function(event, name) {\n",
       "    var manager = IPython.notebook.keyboard_manager;\n",
       "    if (!manager)\n",
       "        manager = IPython.keyboard_manager;\n",
       "\n",
       "    // Check for shift+enter\n",
       "    if (event.shiftKey && event.which == 13) {\n",
       "        this.canvas_div.blur();\n",
       "        event.shiftKey = false;\n",
       "        // Send a \"J\" for go to next cell\n",
       "        event.which = 74;\n",
       "        event.keyCode = 74;\n",
       "        manager.command_mode();\n",
       "        manager.handle_keydown(event);\n",
       "    }\n",
       "}\n",
       "\n",
       "mpl.figure.prototype.handle_save = function(fig, msg) {\n",
       "    fig.ondownload(fig, null);\n",
       "}\n",
       "\n",
       "\n",
       "mpl.find_output_cell = function(html_output) {\n",
       "    // Return the cell and output element which can be found *uniquely* in the notebook.\n",
       "    // Note - this is a bit hacky, but it is done because the \"notebook_saving.Notebook\"\n",
       "    // IPython event is triggered only after the cells have been serialised, which for\n",
       "    // our purposes (turning an active figure into a static one), is too late.\n",
       "    var cells = IPython.notebook.get_cells();\n",
       "    var ncells = cells.length;\n",
       "    for (var i=0; i<ncells; i++) {\n",
       "        var cell = cells[i];\n",
       "        if (cell.cell_type === 'code'){\n",
       "            for (var j=0; j<cell.output_area.outputs.length; j++) {\n",
       "                var data = cell.output_area.outputs[j];\n",
       "                if (data.data) {\n",
       "                    // IPython >= 3 moved mimebundle to data attribute of output\n",
       "                    data = data.data;\n",
       "                }\n",
       "                if (data['text/html'] == html_output) {\n",
       "                    return [cell, data, j];\n",
       "                }\n",
       "            }\n",
       "        }\n",
       "    }\n",
       "}\n",
       "\n",
       "// Register the function which deals with the matplotlib target/channel.\n",
       "// The kernel may be null if the page has been refreshed.\n",
       "if (IPython.notebook.kernel != null) {\n",
       "    IPython.notebook.kernel.comm_manager.register_target('matplotlib', mpl.mpl_figure_comm);\n",
       "}\n"
      ],
      "text/plain": [
       "<IPython.core.display.Javascript object>"
      ]
     },
     "metadata": {},
     "output_type": "display_data"
    },
    {
     "data": {
      "text/html": [
       "<img src=\"data:image/png;base64,iVBORw0KGgoAAAANSUhEUgAAAoAAAAKACAYAAAAMzckjAAAAAXNSR0IArs4c6QAAQABJREFUeAHs3Qd8FGX6wPFnJiSBQBI6hI6IBXtBVMSCBTt3Uixnb9gFwV6xFxDsYjn1PD0Fe0dPORscFgTOLr2FXkILJTP/5x0Ugf9u2Gy2TPnN5xPZzM7OvO/3XTfPvvO+zyvChgACCCCAAAIIIIAAAggggAACCCCAAAIIIIAAAggggAACCCCAAAIIIIAAAggggAACCCCAAAIIIIAAAggggAACCCCAAAIIIIAAAggggAACCCCAAAIIIIAAAggggAACCCCAAAIIIIAAAggggAACCCCAAAIIIIAAAggggAACCCCAAAIIIIAAAggggAACCCCAAAIIIIAAAggggAACCCCAAAIIIIAAAggggAACCCCAAAIIIIAAAggggAACCCCAAAIIIIAAAggggAACCCCAAAIIIIAAAggggAACCCCAAAIIIIAAAggggAACCCCAAAIIIIAAAggggAACCCCAAAIIIIAAAggggAACCCCAAAIIIIAAAggggAACCCCAAAIIIIAAAggggAACCCCAAAIIIIAAAggggAACCCCAAAIIIIAAAggggAACCCCAAAIIIIAAAggggAACCCCAAAIIIIAAAggggAACCCCAAAIIIIAAAggggAACCCCAAAIIIIAAAggggAACCCCAAAIIIIAAAggggAACCCCAAAIIIIAAAggggAACCCCAAAIIIIAAAggggAACCCCAAAIIIIAAAggggAACCCCAAAIIIIAAAggggAACCCCAAAIIIIAAAggggAACCCCAAAIIIIAAAggggAACCCCAAAIIIIAAAggggAACCCCAAAIIIIAAAggggAACCCCAAAIIIIAAAggggAACCCCAAAIIIIAAAggggAACCCCAAAIIIIAAAggggAACCCCAAAIIIIAAAggggAACCCCAAAIIIIAAAggggAACCCCAAAIIIIAAAggggAACCCCAAAIIIIAAAggggAACCCCAAAIIIIAAAggggAACCCCAAAIIIIAAAggggAACCCCAAAIIIIAAAggggAACCCCAAAIIIIAAAggggAACCCCAAAIIIIAAAggggAACCCCAAAIIIIAAAggggAACCCCAAAIIIIAAAggggAACCCCAAAIIIBAQASsg5cxYMXv27HmWZVlP6wX/MmLEiLcydmEuhAACCCCAAAIIZEjAztB1AnGZE044obUGf+dqYcdUp8C9e/fuVp3X89rUCNAOqXGs7lloh+oKpu71tEXqLKtzJtqhOnqpe23U24EA8M/3kpWTk/OU4ziX6K61f+6u+iM9BwFg1dlS/graIeWkSZ2QdkiKLS0voi3Swlrlk9IOVSZLywui3g4EgL+/rfTW7xX68PNXX331u7S80zgpAggggAACCCDgE4EaPilHVovRo0ePnfTWbw8tRJeqFMR1XTOGspn+LN/0dX369MnT54o23cfjzAvQDpk3j3VF2iGWSnb20RbZcd/yqrTDliLZ+X3AgAG1zd9x3dzslCC7V2USiPrrOIAL9E1woz5coz/GpKn+LNN9N7/yyivD9PHGzYwZ+KPbuHXr1rUHDRp0/sYneYAAAggggAACgRHQIPCJ6dOnrzQFtm175PDhw0cGpvDVLCgBYAzAXr16jdLdQ7Y2C/j3Xr5lc+fOFX288UyFhYWyfPlmnYIbn+NB5gRoh8xZV3Yl2qEyncw+R1tk1jve1WiHeDKZ26+9ftK0qenrkWJ9XJa5K/vnStwCjt0Wf0ZzsZ/fbK8J/jYNAM2TW/6+2Qv4JWMCtEPGqCu9EO1QKU9Gn6QtMsod92K0Q1wansiQAAFgDGjt+esaYze7EEAAAQQQQACBUAgwCzgUzUglEEAAAQQQQACBxAUIABO34kgEEEAAAQQQQCAUAgSAoWhGKoEAAggggAACCCQuwBjAxK04EgEEEEAAgUALmBnIZgZsVDYz2YasHLFbmwAwtgt7EUAAAQQQCJ2ACf7KyqKT9aSoiDUZ4r2JuQUcT4b9CCCAAAIIIIBASAUIAEPasFQLAQQQQAABBBCIJ0AAGE+G/QgggAACCCCAQEgFCABD2rBUCwEEEEAAAQQQiCdAABhPhv0IIIAAAggggEBIBQgAQ9qwVAsBBBBAAAEEEIgnQAAYT4b9CCCAAAIIIIBASAXIAxjShqVaCCCAAAIIJCNgkidL+epkXhr7NTVrVSv5dHl5uQwaNEjat28vq1evlvHjx8vQoUNjX4u9CQsQACZMxYEIIIAAAghEQECDP+eyk1JWUfvBl0RqFSR9vr59+8pRRx0l3bt3lw8//FDefffdpM/FC/8UIAD804JHCCCAAAIIIKA9dl7QlioJPV+y28SJE2Xs2LHy+OOPe6f45ZdfZPvtt5dRo0bJP/7xD3nmmWeSPXXkX8cYwMi/BQBAAAEEEEDgTwGzXJylPXYp+6nG2sNjxoyRfffdd2PhRo8eLYcffrgccsghsmLFio37eVB1AQLAqpvxCgQQQAABBBDIgEBxcbE0atTIu9KsWbO88X977713Bq4c/ktwCzj8bUwNEUAAAQQQCKSAGfc3btw4efPNN2XChAnSqlUrqV27diDr4rdCEwD6rUUoDwIIIIAAAgh4ArVq1ZJ7773Xe7xkyRJZt27dRhlvtvLG33hQVQFuAVdVjOMRQAABBBBAIOMCJv1Lx44dZdWqVTJixAgpLS31ZgVnvCAhuSA9gCFpSKqBAAIIIIBAWAWGDBkiH330keTn50vXrl2lV69e3k9Y65uJehEAZkKZayCAAAIIIIBA0gL9+vUT88OWOgFuAafOkjMhgAACCCCAAAKBECAADEQzUUgEEEAAAQQQQCB1AgSAqbPkTAgggAACCCCAQCAECAAD0UwUEgEEEEAAAQQQSJ0AAWDqLDkTAggggAACCCAQCAECwEA0E4VEAAEEEEAAAQRSJ0AAmDpLzoQAAggggAACCARCgAAwEM1EIRFAAAEEEEAAgdQJEACmzpIzIYAAAggggAACgRAgAAxEM1FIBBBAAAEEEEAgdQIEgKmz5EwIIIAAAggggEAgBAgAA9FMFBIBBBBAAAEEEEidQI3UnYozIYAAAggggEDQBVzXldXrnZRVo1YNWyzLSvp85eXlMmjQIGnfvr2sXr1axo8fL0OHDk36fLxwgwABIO8EBBBAAAEEENgoYIK/k4f/tvH36j74V+/2UpCbk/Rp+vbtK0cddZR0795dPvzwQ3n33XeTPhcv/FOAAPBPCx4hgAACCCAQeQHTY2eCtlRt5nzJbhMnTpSxY8fK448/7p3il19+kaZNm8p7770n8+fPl5ycHDnttNOSPX2kX0cAGOnmp/IIIIAAAghsLmBu11anx27zs1XvtzFjxsi+++678SSjR4+WLl26SGFhoRx99NFyzDHHyCmnnOIFghsP4kFCAgSACTFxEAIIIIAAAghkWqC4uFgaNWrkXXbWrFne+L+nnnpKateuLWvXrpWCggKCvyQbhQAwSThehgACCCCAAALpFTDj/saNGydvvvmmTJgwQVq1auUFf+aqzz//vNx1113pLUCIz04AGOLGpWoIIIAAAggEWaBWrVpy7733elVYsmSJrFu3zns8atQoOfLII8XMEDazlqszyzjIPtUpOwFgdfR4LQIIIIAAAghkRMCkf+natau888478vDDD0u9evW8wO/FF1/MyPXDdhECwLC1KPVBAAEEEEAgZAJDhgyRjz76SPLz8+XGG2+UY489NmQ1zHx1CAAzb84VEUAAAQQQQKAKAv369RPzw5Y6geST86SuDJwJAQQQQAABBBBAIIMCBIAZxOZSCCCAAAIIIICAHwQIAP3QCpQBAQQQQAABBBDIoAABYAaxuRQCCCCAAAIIIOAHAQJAP7QCZUAAAQQQQAABBDIoQACYQWwuhQACCCCAAAII+EGANDB+aAXKgAACCCCAQAYEzKoZRUVFGbiSPy5h6ssWW4AAMLYLexFAAAEEEAidwPLly0NXJyqUnAC3gJNz41UIIIAAAggggEBgBegB/L3pevXqNVIfNtEf019cpj+XjxgxYrz+y4YAAggggAACCIRKgADw9+bMy8vr9cILL5jAT3r37v0XHTfwrD7c3fzOhgACCCCAAAIIhEmAW8C/t+YfwZ/5VYO/uvqP8/tT/IMAAggggAACCIRKgB7ATZpTe/6e0+DvEN3lOo5z9CZP8RABBBBAAAEEEAiNAD2AmzTl8OHDz9Bxf6101w22bd+7yVM8RAABBBBAAAEEQiNghaYmKa6ITgpZlZub2/zFF19csumptZewm/YOdjP76tevnzds2LCLV6xYsekhouMJZe3atZvt45fMC9AOmTePdUXaIZZKdvbRFtlx3/KqtMOWItn5vU6dOtKnT59HFi9e7P3B1o6fkdoRZCaERmIjANRm1mCvuKKiouC1114rNa3++ySQB3/vDYz7RtDbxSab5rLS0lIzbnDjcSbJZlmZN59k4z4eZF6Adsi8eawr0g6xVLKzj7bIjvuWV6UdthTJ/O+WZUlJSYm5cLE+juQfbMYAbnjfFefk5IzQQLCm/qqxnDtfe/mO3fAU/0UAAQQQQAABBMIlQACo7ak9fTP0n07halpqgwACCCCAAAIIxBZgEkhsF/YigAACCCCAAAKhFSAADG3TUjEEEEAAAQQQQCC2AAFgbBf2IoAAAggggAACoRUgAAxt01IxBBBAAAEEEEAgtgABYGwX9iKAAAIIIIAAAqEVIAAMbdNSMQQQQAABBBBAILYAAWBsF/YigAACCCCAAAKhFSAADG3TUjEEEEAAAQQQQCC2AAFgbBf2IoAAAggggAACoRUgAAxt01IxBBBAAAEEEEAgtgABYGwX9iKAAAIIIIAAAqEVIAAMbdNSMQQQQAABBBBAILYAAWBsF/YigAACCCCAAAKhFSAADG3TUjEEEEAAAQQQQCC2AAFgbBf2IoAAAggggAACoRUgAAxt01IxBBBAAAEEEEAgtgABYGwX9iKAAAIIIIAAAqEVIAAMbdNSMQQQQAABBBBAILYAAWBsF/YigAACCCCAAAKhFSAADG3TUjEEEEAAAQQQQCC2AAFgbBf2IoAAAggggAACoRUgAAxt01IxBBBAAAEEEEAgtgABYGwX9iKAAAIIIIAAAqEVIAAMbdNSMQQQQAABBBBAILYAAWBsF/YigAACCCCAAAKhFSAADG3TUjEEEEAAAQQQQCC2AAFgbBf2IoAAAggggAACoRUgAAxt01IxBBBAAAEEEEAgtgABYGwX9iKAAAIIIIAAAqEVIAAMbdNSMQQQQAABBBBAILYAAWBsF/YigAACCCCAAAKhFSAADG3TUjEEEEAAAQQQQCC2AAFgbBf2IoAAAggggAACoRUgAAxt01IxBBBAAAEEEEAgtgABYGwX9iKAAAIIIIAAAqEVIAAMbdNSMQQQQAABBBBAILYAAWBsF/YigAACCCCAAAKhFSAADG3TUjEEEEAAAQQQQCC2AAFgbBf2IoAAAggggAACoRUgAAxt01IxBBBAAAEEEEAgtgABYGwX9iKAAAIIIIAAAqEVIAAMbdNSMQQQQAABBBBAILYAAWBsF/YigAACCCCAAAKhFSAADG3TUjEEEEAAAQQQQCC2AAFgbBf2IoAAAggggAACoRUgAAxt01IxBBBAAAEEEEAgtgABYGwX9iKAAAIIIIAAAqEVIAAMbdNSMQQQQAABBBBAILYAAWBsF/YigAACCCCAAAKhFSAADG3TUjEEEEAAAQQQQCC2AAFgbBf2IoAAAggggAACoRUgAAxt01IxBBBAAAEEEEAgtgABYGwX9iKAAAIIIIAAAqEVqBHamlWhYkcddVR+nTp1XtKX7Kg/q/Vnvm3bF7388suTq3AaDkUAAQQQQAABBAIhQA/gn800bMSIETvozx6WZb3lOM5Tfz7FIwQQQAABBBBAIDwC9ABqW77//vtr9J8P/mhW13X/q4/7//E7/yKAAAIIIIAAAmESoAcwdmterkHgG7GfYi8CCCCAAAIIIBBsAXoAt2i/3r17X6fBXzsdE3j+Fk/xKwIIIIAAAgggEAoBKxS1SFElNPgboMFf7zVr1hz61ltvLY91Wj2mm44P7Gaeq1+/ft6wYcMuXrFixWaH5uXlydq1azfbxy+ZF6AdMm8e64q0QyyV7OyjLbLjvuVVaYctRbLzu3b0SJ8+fR5ZvHix9wdbJ3+OHD58+MjslCbzVyUA/N28V69eV+jDU/TnUJ0IsiyRptBgsUiPW1ZaWir6eONLioqKpKysbOPvPMiOAO2QHfctr0o7bCmSvd9pi+zZb3pl2mFTjew81smeUlJSYi5erI8j+QebW8Da+hr8Ndd/BumPSfsySn83gXG5BoL76b9sCCCAAAIIIIBAqAQIALU5NdCbrf8wISZUb20qgwACCCCAAALxBAh64smwHwEEEEAAAQQQCKkAAWBIG5ZqIYAAAggggAAC8QQIAOPJsB8BBBBAAAEEEAipAAFgSBuWaiGAAAIIIIAAAvEECADjybAfAQQQQAABBBAIqQABYEgblmohgAACCCCAAALxBAgA48mwHwEEEEAAAQQQCKkAAWBIG5ZqIYAAAggggAAC8QQIAOPJsB8BBBBAAAEEEAipAAFgSBuWaiGAAAIIIIAAAvEECADjybAfAQQQQAABBBAIqQABYEgblmohgAACCCCAAALxBAgA48mwHwEEEEAAAQQQCKkAAWBIG5ZqIYAAAggggAAC8QQIAOPJsB8BBBBAAAEEEAipAAFgSBuWaiGAAAIIIIAAAvEECADjybAfAQQQQAABBBAIqQABYEgblmohgAACCCCAAALxBAgA48mwHwEEEEAAAQQQCKkAAWBIG5ZqIYAAAggggAAC8QQIAOPJsB8BBBBAAAEEEAipAAFgSBuWaiGAAAIIIIAAAvEECADjybAfAQQQQAABBBAIqQABYEgblmohgAACCCCAAALxBAgA48mwHwEEEEAAAQQQCKkAAWBIG5ZqIYAAAggggAAC8QQIAOPJsB8BBBBAAAEEEAipAAFgSBuWaiGAAAIIIIAAAvEECADjybAfAQQQQAABBBAIqQABYEgblmohgAACCCCAAALxBAgA48mwHwEEEEAAAQQQCKkAAWBIG5ZqIYAAAggggAAC8QQIAOPJsB8BBBBAAAEEEAipAAFgSBuWaiGAAAIIIIAAAvEECADjybAfAQQQQAABBBAIqQABYEgblmohgAACCCCAAALxBAgA48mwHwEEEEAAAQQQCKkAAWBIG5ZqIYAAAggggAAC8QQIAOPJsB8BBBBAAAEEEAipAAFgSBuWaiGAAAIIIIAAAvEECADjybAfAQQQQAABBBAIqQABYEgblmohgAACCCCAAALxBAgA48mwHwEEEEAAAQQQCKkAAWBIG5ZqIYAAAggggAAC8QQIAOPJsB8BBBBAAAEEEAipAAFgSBuWaiGAAAIIIIAAAvEECADjybAfAQQQQAABBBAIqQABYEgblmohgAACCCCAAALxBAgA48mwHwEEEEAAAQQQCKkAAWBIG5ZqIYAAAggggAAC8QQIAOPJsB8BBBBAAAEEEAipAAFgSBuWaiGAAAIIIIAAAvEECADjybAfAQQQQAABBBAIqUCNkNarStXq2bPnA5ZlHa8vau04zu6vvvrqxCqdgIMRQAABBBBAAIEACdADqI2lwd+InJyczvpwWoDajqIigAACCCCAAAJJCdADqGwjRoz4wuj16tXLSkqRFyGAAAIIIIAAAgESoAcwQI1FURFAAAEEEEAAgVQIEACmQpFzIIAAAggggAACARLgFnAVG6t3797ddKJIN/OyPn365A0bNkwKCws3O0teXp4UFRVtto9fMi9AO2TePNYVaYdYKtnZR1tkx33Lq9IOW4pk73f9O36nTgRda0pg2/bI4cOHj8xeaTJ7Zca8beKtYwCnanDXPdFZwK7rmihvWWlpqejjjWcywV9ZWdnG33mQHQHaITvuW16VdthSJHu/0xbZs9/0yrTDphrZeayTP6WkpMRcvFgfR/IPNreAtfW1V+9xDf5m6sPm5huAPv7VvCvYEEAAAQQQQACBMApwC1hbVbt8Lwhj41InBBBAAAEEEEAglgA9gLFU2IcAAggggAACCIRYgAAwxI1L1RBAAAEEEEAAgVgCBICxVNiHAAIIIIAAAgiEWIAAMMSNS9UQQAABBBBAAIFYAgSAsVTYhwACCCCAAAIIhFiAADDEjUvVEEAAAQQQQACBWAIEgLFU2IcAAggggAACCIRYgAAwxI1L1RBAAAEEEEAAgVgCJIKOpcI+BBBAAIFIC5jlPX9euFomzF0lUxaXy9Qla2RdhSO1cm39yZG29fJlr2a1ZbemtaV2Xk6krah8MAUIAIPZbpQaAQQQQCANAhWOK2NmLpc3flosc8rWyl7N60iHxrXkmO3rSa0atqxa58jKdRXyy4LV8sKEhTLoiznSuXWRnLhLA2lRlJ+GEnFKBNIjQACYHlfOigACCCAQMIFZy9bI4C/nyIq1FXLcDvXlsHbFUqC9fbG2zq2K5Oy9REqXr5VXflgkfd+dpoFgoZy+eyNpUJAb6yXsQ8BXAowB9FVzUBgEEEAAgUwLmNu9H05aKv0/mObd0n30uHZyvAaA8YK/TctXUpgnl+5bIg8f21YcR+Tyd6d6PYibHsNjBPwoQA+gH1uFMiGAAAIIZETA0eDv0bFz5ZvZK+TaA1vI7iW1k7puUw0E+x/QTD6fViYP/bdUvtXznbd3E8nX28ZsCPhRgHemH1uFMiGAAAIIpF3ABH+PaPD3w/xVMvioNkkHf5sWtEubInng6LYyY9lauenjmbJ8TcWmT/MYAd8IEAD6pikoCAIIIIBApgT+6Pkzwd/th7VK6bi9RrVz5bZDW0pxzRy59qPpsmDlukxVi+sgkLAAAWDCVByIAAIIIBAWgX98t0D+Ny/1wd8fPubW79VdmkuHRgVy9YfTvckifzzHvwj4QYAA0A+tQBkQQAABBDImMGbGchmpkz5uPqSlNEzjjN0c25IL92kinVsVereDF62iJzBjjcyFtipAALhVIg5Ih4BJqGpuwbAhgAACmRQwaVvMJI1L920qzYry0n5py7Lk7D0by85NCmTgJ7NkBWMC027OBRITYBZwYk4claTAmvWOl03/Rx1n87MmTp2vY2GWlld4yVQtPWdBni2FmkV/m/o1ZSdNtrpT4wJpUzdfzIcmGwIIIJBKAfN5dM/ns6Wr5vfbX/P4ZWozn2eXdGoqd+u1b/3PLHngr8WZujTXQSCuAAFgXBqeSFbAZNKfqGNrRk1ZJv/VjPqF+TmaSb9AOrUslGaaKqFerRpSrPvW6XEm4eoyDQh/W7Ra0zCslOfHL5SmdXLlWM26f6DOpiOFQrKtwOsQQGBLgecnLJC8HEvO2L3xlk+l/XdzO/hKTRNz479nyuBPp8rFezfki27a1blAZQIEgJXp8FyVBNbqbd2PJy+T135c7K2ZeVDbYrmnW2tdM7Nm3POY2XJmM7m3eum/5foN/dOpZfL2z0vkufEL5LTdGsnh2xaLTY+g58R/EEAgOYHJup7vyN+WyhBN95KrQWA2trwcW645sLkMGDld3i7M8ZJNZ6McXBMBI0AAyPug2gLrtSfPfLCO0OWQivR27mm6FJIZ9Gy+8VZ1q6kz57q1rytHaND3tSZSffKbeTJq6jK5aJ+m0kpvDbMhgAACVRUwdyUe+2qu/GXH+tKiOLufI+YOyMAj2ssVb/3kDXfZtWlyiaerasDxCGwpQAC4pQi/V0lgfOlKeerbeWLmc1zQsYns06JOSnrrzJiZfVoUivlw/NfEhd4STX30/Ie1q1ul8nEwAgggYGb8moTMPXdq4AuMDk3ryLm6Ssh9X8yRoUe3SWkOQl9UkEIEQoAAMBDN5L9CLl29XoZp79wEDQBP2rWhHL1dPamRRI/f1mpmegTP0hl0ezWr7Q3enqnZ9c1i68n0Lm7tWjyPAALhE1isn1X/1OEkA3T8nZ/GFB+xbV35acEqGTq6VAZq0miGuYTvvef3GpEGxu8t5LPymUXTzVqXl+iC52Z79LhtvHEs6Qj+Nq266Qm8r1sb+WrWCrnrs9lixhuyIYAAAlsTeEnvIOymY4z3bFZna4dm/HmzVrDJjPCGjptmQyDTAgSAmRYP8PVW6ozdQV/OkSe05+9CvR1rstzX1fEsmdpMzq77dFJJmd7KuffzOWLGHrIhgAAC8QRMzr9PNBvB33ZrGO+QrO4vyM2RKzo3k3/9b6FMWlSe1bJw8egJEABGr82TqvEvC1dL3/emycq1jjx0TFvp3DpzObQ2LXAdTR9z0yEtZKFm1B86eo6Ywd1sCCCAQCyBlzSw6qLppFoUZXfiR6yy/bFv+4a1pNfODWSwfrk2eQrZEMiUAAFgpqQDeh1zy/fNnxbLDf+eIUdtV9cLvjLZ6xeLrY7ONB7YtaVMXbJGHv96rk5AIQiM5cQ+BKIsMGPZGhmtS76dtIs/Jn5U1hY9OjTw8qW+qLer2RDIlAABYKakA3id1esc75avCQBvP6yVnKAfUn4ZqFxcs4bcqgOnv9Xk0e/8siSAuhQZAQTSKWDG/h26TbE0qZP+5d6qWw8zqc0sTffer0vE3G1hQyATAgSAmVAO4DXM2JmrNVmpWbbtfk1TYG5T+G1roIu4X6XjEJ/XGX5mqTk2BBBAwAhM0aTPJo+oubUalK2l5ic8ceeG3jrFZq10NgTSLUAAmG7hAJ7/f/NWypUfTNOZcwVyq95qrau9bX7ddmhUS87Yo7FOCpktJt0DGwIIIPC63rU4XNf7NV8Sg7T9pUN9b6m64d8vClKxKWtABQgAA9pw6Sr2R5ow9bZRs7yg6py9mgQi397ROjZxN5MmRoNAJoWk653BeREIhsACTatixv4dt0P9YBR4k1KadFqX7lsib2gAO33pmk2e4SECqRfwb9dO6uvKGSsRMIHTP/RW6seTl8qNOst2lybBWZ7IrBpyYaem0u+9qfL2L4t1uafg3PappEki95RZB3rRqvXak7tOlq6ukHX6njSpfhyd5GMSgtfWlBl18mxpVCdX6mv6Ib+MR41cQ/m8wmYc3d7Na0tJof/H/sWiNGunm8T6j+vSdXce3krM5xsbAukQIABMh2rAzmkme5gUBLPL1sq9mmzZ5NsL2mYCBPPN+ZZPZuqHfx1fp30Imm06ymu+cEzScVoT5q70xmuZGd1zV6yTXO0BqV9QQ4cd5OitMNvrgTa3KUxwuErfp8s1F+ViDRLNoPmmGghuU7+mtG/wx0+ttKxGk476c870CJjPMrMu+Q0Ht0jPBTJ01pN2aSiXvDPFy2F4KMtfZkg9epchAIxem29WY3O75Pb/zJIi/YNrkiybPHtB3To0LpAj2teVB8fMlbv0mzObvwRM0GcCvlFTy+S7OSvEDHPfVXuat9MJRke2rydt6uZLsb4Pt9bjYQbIL1i5XuboRCUTRE6cu0pG6JipdRWurh1doCs+1Jb9Whbqufh489c7IP2l+XjKUu8L7I46NjjIW61c21sr+NGxc6WjroleFODP5SC3Q9jLTt9yNVpY88+ZbMjLSktLN8tFV1RUJGVlZdU4c2ZeatIN3PnpLOmkHzDn68oe6V7OLRO1MolUL9dbwUdpQHFapzaBaIdMuGTzGutr1JR/fTNTPtYVGcwHzsFti7z3nOm5S9WazuY2selFHK9rU5vlAn9btFqDwdpykCYB3r9Voa/WgM1mWwTlsykZI/MF46K3p+iqH43kQG13P2+JtIPJb2q+nJse8Ys7lfi5OoEsm/miWVLiuRbrY///wU6DMl+R04AahFN+puv5PjK2VE7VD8tjt6+31V6XINTJlNEs9m5uBQ/UW8FHdCiRYPcDBEU9djnn6y3d135c5AV+u2nP3GWa58xM1klV0LfpVc14wHZ6O9j89NipgZhrfzGjTF75YZE8/e08OUxvo5lE5kHICbdpvXicuMA32qtsxo2agD8MmwlQzBfzS96ZKkdsW1eHOvBpFoZ29VMd6AGsRmsEsQfQ9JSY5ZHe/nmJDNA1KPfS8XJh3Mwyca5dQ/rt2ziM1fN1ncw4LBN4vfXzYu3pqyNndGotjXKzk6LH9KL8MH+1l2DX9Ax2bl0ovTRAbKE516K4JdLzFFSXW0fN9IYTmPFzft+q0g4vTFigQydWyT1HMCEkle1KD6AIaWBS+Y7y+bnM7dH7vpgj/9ExWHcf0Tq0wZ9phtM1N+DYGUvl+3kkiM7k2/KL6WXebTjjbt5jAw5oLu0aFGSyCJtdy3zI79ykwEsY/tCxbb1JJmZNazPpad6KtZsdyy/BFTBjmc340sM091/YNtOjvVDrZ+7asCGQSgECwFRq+vhcC1etk2s/mi7LytfLIJ3s0VoH3Id5M2lCTturuTz5zTxyA2agoVesqZBBX8yWYV/P0xySjTT4a+Xdjs3ApRO+hEkLcokOD3js+G10vKt4t9ae+26+rNSZxWzBFvh48jLZXYcXNAxY4udE1E2GA/P/1HPfLfBmwyfyGo5BIBEBAsBElAJ+zK862WPA+9PE5Jca2LWVzviNxtDPHrs2kbU6Y3SkJrdmS5/ARO15uUwn3pg0LQ8e01YneRT7ekxpo9q5cvl+zXSmeGsx/29crGOsxmjiYLZgCpjJHx9p/lIzTi6sm5nUYt63r+rQCjYEUiVAAJgqSZ+ex9w2uPHjGfLXDg3kEk2WnJsTnWGfJo+cWc3kRR1DQy9P6t+gZnydGednZiqacXU3au61etrzGpRtW52FfPthreSM3RvJIybprs6IX6Q95WzBEjAzvzUDkJf/M1glT7y0ZijDuXs3ljd1hRCGLiTuxpGVCxAAVu4T2GfNCgrPjJsvj+kftqt0HFb3Hev7ulcmXdB7aU64Vnq72yytxJY6AZOL78H/zpXXtEfiNg2ijtKVC8wfqaBtpsyHbFMsj+j4QHOr7fJ36Q0MWhuaHv7DtA3TMbvcTxZmFvABrYu8W8F+KhdlCa5AcL6uB9c44yU3vRhmsoeZjTnoyDbSPIAre6QKzfyBP017eMwKIcdokFI3QD1UqTJI9XlMb6rp9TMpNwYf1UYahGDclUkafYXOijeTWB7S9EjfakqRc/du4gWFqfbjfKkTWLx6vddW5+wVjdn+5rPswremeJPbzOSmMG3ues0UULZEl/1ZveFnnU7SsnVhghz9ydPVqQr1Fn9hkVhmH1tKBAgAU8Lon5OY2yFmhmNHTe/SR3NImbx4Ud92bFTgrW08QnurztM/6mzJCyzVSUQmx6K51XtLl+ahe3+ZHpbtdWWS+/X/oSs/mCbXHtgikEsjJt/CwXrlZ9OWSQf9/zsq+R3N/3e9d24gT2luy8H65T6IvZ5uhU66mjFF3BmTRWbqv7OniyxaILJU79K4uj5QvuY7rFlTJFeDPkePNcev1WBw9UrR6E+kWAPBpi3EKtHl/pq3EavdDiLNNEWOzd+6qv7fSwBYVTGfHm8GQpvlsF7/aUOQYxLfsv0pcOpuDeXKkdPl+B3qReaPxZ+1T80jk2rjpo9n6vq7+dJXJ1GEdTypGWxvxgaaGcIDRk6T/vuHN19mat4Z2TvLp5rS6hhNZB+l7Tj9DDO3vf+tM5+76dKXQdjchfPE/e6/4v40QeS3Hzb07LVuJ1bLbcQ68EixGuoX8waNNLjToUqmxy/G5poewbJlIksWiFs6S2TuLHG//VLcEX/f0EvYfiexdu244adu/RhnYNeWAgSAW4oE8Pclehtk6JhSXf1grSYLbS1tdLYv2+YCxmR/XR/2XxMXSl/9g85WNQEzrOCGf8/w1tq9oGPTQPY8VKXGpmflbJ1AZFYWuVfT25y4c0OdSBXNcbRVccvksTOWrZFZZWu9dZ8zed1sXytXJ7edrbe8H9YxuCaxeZ282AFTtsvp6u1cd8wocb/+QmTWNJHtdxFrpz3E+supIi20566KPXaW6RE0QaL+WNt22Fg9r0dx1lRxfxwv7uiPxX3hMZG224m1f1ex9u4iVkHtjcfyYHMBAsDNPQL325c6Zukxzb22h+bAulrHYxXk+vPDwA+wJ+/a0Mv91mvntZEeF1nVtijT2743623fDo0L5MJ9mopZdi0q20Ga0sasGnKbrjIxX3tAzRCCIN52C2N7md4/M9Sltk8DoHSa76P1blsvX17WVZ1MpgO/bCYzgPz6vbij3hN3wlgR0yt3yNFi7d5JrNrpWaLP6zFsva1Y+iNH9RS3bKn2DI4W97MPxX3pKQ0CDxDriO5itWjrFybflCM6n+RpIM/mUnDmj/KT386X73Swuvmj3FnHLrFtLhBruaUHtKfUfEjRC7i5VbzfzIQPk0bIjLEySwcmE/zEaod41/PrfrO28EANApvphCrjENSxtWFoC/MeMUta9nlzspyrwU8n7dkP2paKdpi+dI0M0HGqQ45uIy2KspvY33V07N7Er8R57xWR+aViHXC43to9QqzG2b3bYsYXup+8qz2Rn3jBqH1UD7F22NV7u5gJgiUlJeZxsT6O5DIrjJoM2CeHCV4+1qSnF2nyWrO024PHbkPwV4U2NAOov5i+XEqX63gStkoF1mlytTs/my11zQxZvW2eTPBX6QUC9GTjOrne8AoTEJve0FXrdGA6W9YEfl6w2stysGezcK5lngisWc3JLH33jHYEZHNzvx8nzm19xfnn415vm333U2L3PDPrwZ8xsZq3Fvu0i8SUydpme3EevUsqhtws7vRJ2STzzbUJAH3TFFsvyJTF5d44rBd0HJtJ6nzdQS3ELHnGlriAWQ7sAB03M1wnzLDFFzBfNB79qlT/yFZ46+iGdcJHfIH//0yd/By5+ZCWXmoYMxnGLH/Hlh2BTzXB/f6tikI7ESlR1ZN3bSQ/62o24/ROUKY3V8fdVQy5SZwnB+l4u0PFvusJsY/4i1g1dRavzzarqK7Y3U/xymi1bCvOvdeK8+xDPitl5otDAJh58ypf0QzAN7cur/5wumyryUAf1qS1+wbwtkeVK56mF/TWAf2f6x8QegHjA5sAeeLcVXLDwRsCnvhHRusZc+v3+oOae1+8btBb42YoBltmBUzPtBn7fHBbhr0U6ZeSk3ZpKE9rL6BJ/p+JzV1TLs4rz4hz15U6rq6N2Hdq4He4jrEzkzR8vplxiKZ30r79cS2p3raO+EYA6OM3gAn8nvpmnpf409zuNYHfWXs2ZqJHNdvMjOPq3KpQXmFdzZiSZvlAs3KKWdqNHub/T2RmYV6lORBNb/JNejt4hd4WZsucwLjSFVIr15YdGvmvpylzCn9eyazCY7b3f9Ukymne3B+/E+eWS8Wd9JPY190vdq+zdXJH8G7DW/UaiH3m5WnW8v/puX/4exv16tVLpxDJc/rTUH+W2rZ95ssvv/zT709n9B+T3uDdX5bIJ1OWyZ66lNmdumi9WbeULXUCvXZpIH3fneYlVY1KEtlE9Mwwg0d0JYwrdflA0gnFF6uhaWL662SQu3WM5K06OeSWri35YhafK6XPmNm/B7YpjtRs9MoAzXvRrIRiFgAws9ZNr2CqN5ODz33tH+J+/pFYPc/YkLuvimlcUl0mzld9AXoA/zQcpg8fHzFixPY6I+hex3FMMJixzfTwmWWortdca1e8N03K9ff7urX2ViIg+Et9M5hZc/vRC7gZ7HId03b357OlR4cGsremmWCrXMD84b2qy4YZwXd8OtublFX5K3i2ugJmEs7Xs1dooMPt300tzWQYs4LNvybqihop3tzZM8S5o/+GXr+bhoh9sKZ1IfhLsXJ2TkcAqO7a+6fZJWWvnXba6QXTDMOHD39V/2nZo0ePbczv6drMraMxM5bLYF239/RXf5MXJiyUvUpqy9//2k766axLemDSJb/hvCfqjOBRU8o0gfa69F4oAGc3K8kM0h6ENjqzsKe6sCUmkKe3g6/XyVjrdVya6YExjmzpExgzc7mmPMmTVpqbkW1zAZMc2qwOMkPTw6RqczSJszfWT1fYsK++xxcze1NVN84jwi1gfRfo7d6W2uNXesstt2w6KnSG9gS20qenpOKNYvJWzV2+TqYsKZfJepvt+3mrZJL+a8YRdWpRR+7S27wmsafJTcSWGQGT4Hc/nUxjxgJepLOqo7y9pAllTSA8+ChNm8B7sEpvhZo6MeQGHS95jU7SelLH7Jo1uPn/uEqECR9sZv/S+xeby9zVOFKXhntS1wm+VYckVOc96OoavO5rz2sy5Q/EPq+/WLvtE/ui7A20AAFgipvvkw//K5OWrpPVri1r7Bqy1Kopi9xcWbTeFtM30LpuTS/QMwN3d21aIA0LclNcAk5XFYHeOhbwivenSS/t9TJrwEZxG1+6Ut76ebHc242VZJJt/8LfU8RcpUFgQ30f9dyJXtRkLeO9zkyK+0G/OPfdz0veG++wSO8/UWcEX/z2FBmtd5aSXRzALV8tzrB7RXT9Xvs6TfHStEWkTcNceQJAbV3t/Zup/5RoD6C9SS9gK82FNmPLxu/du3c3Pb6b2d+nT5+8YcOGSWHhn5noc/NypcBdJXXXr5E8/SlatUTqLy2VBgumSePyJZLforXktNlWauTtIrkt9xK7iD8UWxqn6ve8vDwxGfcr23bSpzu3XSZv/bZc+h3YprJDQ/ncwpVrZcjoSXLpAW1kl1ZmJETqt0TaIfVXzfwZzVvt3mNrSt83f5bWDYvk0Pb++387yG3xwZRS2a1ZkbRt6j/Xqr7b0tUO5tPuwv1by5NjZ8rBO5TobOmqTQhxli6WFUNulBoFdaTOXZrYWf8N+6Z/x+/s2bOntzKA3g0cqUPARoa9zn/Uj/uNv0voOMBPtMv8OW385/RxT919lU4IqbTfWwNE8//bstLSDcuL/YEaa5kfb6mchXNFZkwRd8ZkcX/5XmTabyKNS3SdxH3F6thFRx22rVa3/R/X598NArHaIZaNGTPT/4Np8tjx20SqR9aMVzNpTBpqMvG+++v7ME23fhNth1htE8R93+okhXu/mC23HdpKttOB+X7agtwW/d6bKsdsX09Xv6jrJ9KkypLOdjBJ3K/7aIY3KeRMTRuW6ObOnS3OA7eI1W4Hsc68TKwa4b4jYj7vor4UHD2Av//foZH/Bdqz96wGf9fprmX6+KxE/8dJ5Dhv1pRZF1F/zOLUZnNXrRT5eaK3cLVz7zUidRvoGoqHidVZ11EsNLElWyYEWunEB7Oo/Ks6FrBPx+iMBRyhyZ6XrF4vN+gkhnQFf5loP79dYy99L52iKzTc+eksGXRUm0h9qUhXW5jUWLPK1npjdtN1jbCc1/y/bMahXjlyunTVpeISmTBj1sx1Bt/grehhnXA6s3zD8mbYSj3oAdwKUGVPV6UHsLLzmOfcNWvE1cW03U8/0Gknv2iQ2FmsbrpwdXMzD4UtGYGqfMueppNzzAfm49oL2CAC4zJ/mr/KW9P27iNayzb105tjsirtkEw7+/E1phfm4bFzxeRVvEuNzUQRP2xBbYvnxy/wVu4xCbjDsGWiHZ7WySDm/Xf7Ya0q/YJn7kg5uqSbdehxYh97Uhh4E6oDPYA6ATYhKQ5Ku4CVny+23gbOGXCH2NffL5Kbr7mXrpCKx+4Wd+bUtF8/6hcwKXf20lxar/64OPQUJpfa/aPnyN92a5T24C/0mHEqaP64XKC9ySbwe0wDQRMQsiUnYDIofDZtGbN/q8h38q4NZa7O7DepYeJtrg5DcgbfqJ0NJ0Qq+IvnEbX9BIA+bHHT62efdpG3XqFVt744d18pzlODxV2c+iSfPqx+1op0ks4I/mjSUjGzDcO6mUDksa/mSnNNGXHcDhuWkAprXbNdr9wcS67UHqsJc1fKB78tzXZxAnv9nxesltXrHNmzJPwTElLZSAU6AcR8CXnmu/neUI8tz+3d9h1ys1jH9Bb7yB5bPs3vERAgAPRxI1v1G4p98vli3/aYV0rnxovEefMFcdemLtGnj6uf8aKZXkCz9N7rIe4FHKXLaE2cu0ou11Qa5PtL/1vMrKVsgsBnxs2XXxeuTv8FQ3gFk/vPpDQxATVb1QQ6ao7Z3ZvW9vJTbvpKd/6cDbd9Dzte7CP+sulTPI6QAAFgABrbqt9I7HP7i623h90ffl+M+6cJASh58Ip44s4NZaT2Ai7WyRFh20qXr5Unvp4nl2nwV08DE7bMCOzUuMC73X6PLrNXVh6+91U6FdfpCitf6hKZB7VhUlyyzufv3cTrhR47a7l3CnfxQnHu1zF/+xwo1rEnJntaXhcCAQLAADWi1XY7sa/R5XgOPV6cR+4U59kHNswkDlAd/F5UMyFiD12O7/UfF/m9qFUq33pN+WKWKjOzAlnnt0p0KTn4eL3d3r5BLZaLq6LmuNIVXi67HRr5K51OFauR1cPr6pe9szQdzGNfzZOypWXiPDhQrB12FavX2ZVODslqobl4RgQIADPCnLqLWHaO2IceK/bAh8VdslicWy8X97cfU3cBziQmm/5IHbO1NES9gP+auFDWrnflzD3Sk+yZt03lAmZSyGX7NZX5K9eLWXaPLTGBT3XIwoHa+8dwhcS84h116DbF0q5ungx7dbRIPU03dtrFBH/xsCK0nwAwoI1tNdDbwpfrAF4dw+EMvVmcN/4pbkVFQGvjr2K3017AXXXczOs/hWNG8P/mrZS3dam3/gc0k7wc/pfP1rvNDMq/5sDmuuzeEvlGk0WzVS5gZqt/rU6s/Vu5U6LPXjTzfZmQ20RGH6PBX07VVghJ9BocFywB/hoEq702K61JLm2bQbzX3ifuuDHeoF63bMlmx/BLcgInaS/g+78ukaUBH7O1TMs/+MtS7xZQa014zZZdAdMGF+3TxEvDM2+Ft/pUdgvk46t/qevZtizOTyiRsY+r4YuiuR+8JnW//69coOMBh323JJRjnH0BHbBCEAAGrMFiFddq0WbDot1FdcW5rZ+4k7glHMupKvu2bVBTdmlSEOgZwSZ/2tDRpbKjjp86sn3wl8+qSvv5+diD2hbLgTqr9b4v5oiZ5MAWW8DkrzO3LtmqJ+D+7xtx331Z7EtukAM6NNMxznXkoTGlYj4f2KItQAAYkva3atYS67wBYh3ZU3sC9Zbwl/8OSc2yV41Td28k72kv4FydPRvE7Q29hW2Wz7q4U1PG+/isAc/eq7GYiTnPj5/vs5L5ozizdOk3s4qFGf/HlryAt77vk4M3jPlr3c47UR/tgZ6tn2lvhDjdVfJi0XolAWCI2tsMNPcmiFx6o7jD/y7OK8+I6zAuMNkmbqt5Ac0foGe/C14C7l8055yZ+HGljvurk8d4n2TfA+l6nRmLedUBzeXDScvkq9/Tc6TrWkE878dTlsk+msOuMJ/3brLt565epdki7hDrwCPE7nTQxtOYzwPzufAvnYz004JVG/fzIHoCBIAhbHMzxd++bpC4478Sxywlp+sMsyUncKoul/Zd6Ur5YV5wPihXrKmQQV/M1txzDWW7hqTPSK7l0/+qZkV5cpH2zj6gt+MWrAzv6jNVlazQntH/6OzfwzRlEVtyAmbFH5MmTDSHrHXC6f/vJCYlkflsG6zDEJbr5wVbNAUIAEPa7laTZt7kEFm5XG8Ja4+g/stWdQGTMLnnTvXlaV3JIQhjZswH/8NjS73B88fvUL/qFeYVGRUwPcz7tyrU8YCzvVvCGb24Ty82Xr9wmW03nYnPlpyA+/HbIlN/8xYQMKnDYm0mN6VZ/WiIrgtugm626AkQAIa4za3adcTuO1DETA655xrWEk6yrU0gZVZwGKW3pfy+va/5C39ZWC59WerN7021sXzn7tVEyjVH4z/HB2+owcZKpPCBuf17SNsiybFZ+i0ZVnfyz+K+/rzY518pVmH8MZRmyFDf/UvErBD0og4XYYueAAFgyNvcyssX+4KrxWq/kzh3Xy1mDUi2qgnk17DlHP0j/YyOBTRpVfy6TdZB889qT2X/zs2kqCZLvfm1nbYsl3l/XaVjskzwHvX8gOaL1lezVngr1mzpxO9bF3BX6EofT9wrVve/ibXtjlt9gRkPeP1BLbyUV5/pmsts0RIgAIxAe5tbANapF4rVsYs4910n7txZEah1aqu4n96m26lxLXnqG3/O2jSrltzx6SxvFZOdNX0NW7AEWmi+uws6NpGhOh5w4arojgc0qV+217RFLYrIWVnVd/CGcX8PirTcRqzDuyf8cvPeu0K/ND6iQ0cmLSpP+HUcGHwBAsDgt2FCNTDd/VbPM8Xar6s4g64Xt3RmQq/joD8F+nRsKt/q2qR+66UxueTu+Xy2dNA/nCd0YNzfny0WrEeHaM67fZrX8QbmR3FMlqmz6QU9ejtyVibzznU/fV9k+mSxz7ysymmfzPrgJ+7cUG7/z0whQXky+sF8DQFgMNstqVJ7QeBfTxOryxEbegJnT0/qPFF9UX2dEHK2Lqr+6FdzZdU6/8yce+rbeTqGzJFL9y2p8gd/VNvSr/U+X3sBl+sSaFEckzVuzkpvIkynFoV+bR7flsvVz3J3xDNin9NPrDrxx/1VVoG/6pfH/TVB+S2fzPTGPFd2LM+FQ4AAMBztmHAtvFyBZnzIIcds6AmcNTXh13KgeCsTNNf0HU/65Fbwm5rseYwumXWdjuMxY8nYgi1Q04wH7NJc3vllsYybE631gk3S9W66Yk0NJn9U6U3srl0jzpODvHXhTQqwZDfzt+Ec/YJr8p/e9p9Z3pfKZM/F64IhwF+MYLRTyktpH3eS94HhDL5B3BmTU37+sJ7QfEiaGbbf6iL1/568NKvVNIO2TbLnGw9pIY1q52a1LFw8dQKtdEzW+bpmq1nGb1FExgOamagTNdfmEdty+7eq7yT39X+K6GQ/67iTq/rS/3e8mXltZgbn6ReRO3VM8Rq9s8AWXgECwPC27VZrZh/TW6xuJ2iewJvEnTNjq8dzwAaBBgW50l9nbT75zTxvuapsuJhcaWbQ9tUHNheT1JUtXAKHtqsrezarLfd/GY0cbe9r79++LeuIGWbBlriA+8v34n4+Uuyz+4pVIzV2ZpWa6w9qLmt1bDFBYOJtEcQjCQCD2GopLLN9ZA+xDtbbwbp+sLtwXgrPHO5TmSS1PTo08CZfrNQxW5nczPJNZtLHhfs01YXdSZabSftMXstMOlpaXiEv6ZJdYd5Wr3PE5P47un29MFcz5XVzy3Wpt2eGimXGdTdtkdLzF+TmyE16Z2GNCQI/m01PYEp1/XMyAkD/tEXWSmIdf7JYe+y7oSewbEnWyhG0C/fcuYGY8YB36wfk2orM3CqZOHelDPxklpyxRyM5uC1LZQXtPVOV8tbKtb01W9/6ebH8sTpGVV4flGM/nLRUSgrzpIOmWWJLXMCs9y4Nm3jjuRN/VeJH/hEElmuAfuuomZLpL7qJl5QjkxUgAExWLkSv82YHn3SeWNtsr0HgLeKuitbg82Sb0tbxgFce0Nz7lnyPBoEmHUs6NzMpwOT6MzNFj6S3JJ3Uvjm3WarLJCE3y3Ut0VyPYdvW6RenN3QiU4+dGjCDvQqN6/7vW3G/+ULssy4Xy07fn3ETBA48tKU3wey6j2ZEZkxqFZoi0Iem750TaJboFd58iFhnXCbSoJE4D90m7po10UNIosaml8bcKlmsf5zTuabmSM2PZnoaL+lUIl01XxxbdAQOb1csu+qQgzCOBxw1tUwK9P+hTi3qRKdBq1lTs66789xDYvU+R6wGjat5tq2/3MxMN1kGtqmfL9d8OF1mLeNvw9bVgnEEAWAw2ikjpTSDiM36kaIrhziP3yXu+uiuSFAVcLOc0sCuLWWGfjDepUFaKm+VmB4SM9njhQkLvNm+Xdokl+OrKvXhWH8JmB76C/dpoiuErJcRPyzyV+GqURqT+PlVrU9P7f0zvelsiQm4Lz4h0rqdWJ0PS+wFKTjKpOa5TPOMHtSmWK4aOd13yfBTUMVInoIAMPkowSMAADxlSURBVJLNHr/S3trBl9wgUrZM3GceENfJzNi2+CUKxjNm7d27Dm8t5o/agA+myYyl1f+WbAJKc9tlyuI1MvioNrJLEyZ8BOPdkPpSmltxV3VpJq9pwGTGgYZh+1LzV+r/LsKXmsRb0/32S3F/GCf2aRdn/Ja5+SJy6u6NvMln930xW0Z8v1DM8nNswRUgAAxu26Wt5FatArEv11nBU38V943n03adsJ24MD9Hbji4hXRuVSRX6rdkk8w3mXGBZlbks+PmS//3p8mOurzbXUe0Is9f2N4sSdTHJOg9SxP1mlvBQc8P6GjgYHr/zOoTJH5O7M3g6gQ955+PivU3Xde9bvaWfDQBu/mya4al3PHpbFYNSaz5fHkUAaAvmyX7hbKK6op9mQaBn38ozn90jUm2hARMIlXzLflq7a35QD8gL35nivxn6jKvZ3BrJ1ioSX9f0sTOF749RX5ZuFru69ZaztYJACYvFxsCRuBIXSljD80PaIYaZGrmeTrkTRLzFZo+6VDGsybMa279WtvvKnbHAxJ+TboO3KZ+TRlydFsN3kUue2+aTAhJr3S6vPx6XgZeVKNltPvbDMhaVlpaullXeFFRkZSVlVXjzP55qTvpR3GG3iL2eVeKtVtH/xQsgZJkux3M7WAT/JnVOlZpRv3ddSC/Se7bWFftMJNHcjVYLF2xTqYtKZdfF5brSggrvWPMclgddXF2c8slDFu22yEMhpvWwQR+1+vQAJOC6HJdlaYq7xM/tIVZXeIi/ZJzmn5Rimoqo6q2gztujDj/eFjsWx8R8+XcL5u5BfzhpGXy93Hz5DBNXn7qbo28zza/lK+ycpj/b0pKSswhxfo4HH+wK6twjOfC8RcmRsUysSsKAaBxNONOnGceFHvA7WK1aZ8J2pRco6ofsim5aIyTmEBw0uJyb23X8aWrNLnvem+dzTXrXWlcJ1fX3syXbfT23n4tC73fY5wi0Lv80g6BRtyi8OYWcP8Ppstfd6wv3fUn0c0PbfHK94tk9MzlMujI1pGd/FGVdnBXrhDnZh3z1/NMsfc9JNGmzuhxs8vWepPVFqxc540R3LOZ/2d1EwCKpGbtmIy+1bhYpgWsvTqLtWiBOA/eKva194nVqGmmixDo65nbwts3rOX9nJz8Wu2BNqDwqRUwyxFep8sA3vjxDE2inCv7tChM7QXSdDbz5ecVHft3/cHNIxv8VZXWHfG0SCud9dvp4Kq+NGPHm97o2w9rpb2BS+W+L+aIWSnpTE1W31QTfLP5V4DBRf5tG1+VzDq8u1gdu3hBoMlDxYYAAtkV2E6/VJhbwIO/LJXfFq3ObmESvLoZ47pL0wJmtCfo5f7wnd6BGS32qTrxw+dDQkwqH5Og/tHjtpHaebZc+u5Uee67+d5YzwSry2EZFiAAzDB4UC9nPnysE88RadpcnEfJERjUdqTc4RLYX2ecn7JrQ7n9P7Nk3oq1vq6cmdhk1vw1yxiybV3ALV8tzvM65q/HmWLVD45ZvVo15FLNGXjPEa1l0qJyOf+Nyd7ktlTmR926HkckIkAAmIgSx3gCliaIts/tL6KLkLsvDtts4gtECCCQHYHjd6inqYcKZeCoWbJMb7H6cTMTVx4cUyon7txQWhTl+7GIviuT+7qm4NKVmawDu/mubIkUyMwUvk1vC5tVRP6nE9zO00DQ9AiacYJs/hAgAPRHOwSmFFZ+TbEvvkHcid+I+9GbgSk3BUUgrAKmd96sF7yNTia6+ZOZvrzlZmbCmyXFTN4/tq0LmOwL7hcfiX36pWld63frJan+ETs3KZA7NG/g9Zoj1UwWueCtKTJIE0mbhOYmHyRb9gQIALNnH9grW/UbahB4vbhvvSjuhK8DWw8KjkBYBMxEo777N5OGOjnkVu0JNMnE/bL9qrd+3/lliTde0ZSTrXIBd93aDWv9Hn+KWE2aVX5wgJ7dqXGB1xv48LFtpb7eJh6kk0VMMGjGhc5kfeGstCQBYFbYg39Rq217sc+8TJynBok7a2rwK0QNEAi4gFlRwywXl1/Dkts/9UcQuGpdhQz9/dZvq7rc+k3kLea+/ZJIfi2xDjs+kcMDd0yJzgw2Ce6f/uu23so2UzQP6hW66tHFmhvyn+MXyA/zV8l6s0ZgmjeTnivqG1/HqvEOiEoewMqInHde0tVC9FbF9YM0QWm9yg7N+HNVybWV8cJF6IK0Q2Ybu1wTLd+hAWC59gLedEhLMUsU/rFlsi3MH9g7tRwV+nf2Rr39R+/fH60gEq8d3BmTxbnnak23pZ+nLdr8+YKQPzI91t/OWSFjZ67wVhVZo2+anRpvSJ1lZrtvq+MJN30fJ8NhklbP1cT7JsD8Yf5q+WnBannrAm9VFRJBJwMa9dcQAGqSaP2fyn3qfnEXzRO7vyaKzvVP3qd4H7JRf99muv60Q6bFxVsmztxiM3/wBnZtKWZmptky2RZmwP9/9Q/6fZrwuU7en0Fo5jX8d8VY7eCuXy/Onf11xaVOYnc/xX+FzlCJzLjA6UvX6MSRVbpC0mpNcVTuvY/r1szRCUR50kx/zC3k+rVypVj3mbGl+TmW9wXDfOlYpz+r9UvQsvIKWbp6vczXSSczl62VmWVrxCTf365BTemgt6P30tWWDtutnalVZANAEkFn6E0d1st4uanOvFTcQTom8NmHRM69wvf5qsLaFtQLgT8EzPrRV3VpLg/p7ddrPpwu1+tMzEzegjVLII40SYG7tSH4+6NRtvKv++HrIhUVYh3TaytHhvtpk0+wra6MZH7+2FasqZDZy9fKLB0rOGf5Op1JvF7XSy+XsjXrvaDOLC9obhubYRCmp9kEhSZgrFuzhjTUpTfNRJSWxfleAJmvz5nN+9v1xwUi+i8BYEQbPpXVNr1+9sXXiXPHAJF3h4t17ImpPD3nQgCBJATMH8PL9y+Rl/63UK7WILCvPj68g1m+PL3bZ9PK5NGxc+VaDTrNChFsWxdwS2eJq5+d9oA7xKqRu/UXROyIOjqMYXsdF2lWVGJLnQABYOosI30mM/7PvvQGHb9yjbiaLNra2xtbEWkTKo9AtgVMb8opuzaS1joB435dMWT2Sle6ty9M23i8kb8tlb+Pmy/X6DJ1e5TUznb1A3F916nQWb8PinXQkWK13S4QZaaQ4RAgAAxHO/qiFlaLtl6iaOfJQWI3bCJWm/a+KBeFQCDqAp11xZBmOvtyyJi5MnrqYi8li7kllqrNjNt6Vdf4ff3HxXLzIS28MVapOnfYz+OOel+kbKlY3U8Ne1Wpn88ESAPjswYJenGs3fYR6/iTxXn4DnEXLwx6dSg/AqERMGOqnui5s86uLJD+mnZjxPcLdfxU9fMFmpUdbvp4pnw0eZm38oMZYM+WmIC7cJ6YFT/s0y8RKz91AXliV+eoqAsQAEb9HZCG+luH/0WsXfYS55HbxV1TnoYrcEoEEEhGIE8HwJ+1Z2NvZvAYnaHbRxPxvv/rkqTyrpnl3cxrL3t3qpQU5srQo9tIO03XwZaYgMmg4K312+lAsXbYNbEXcRQCKRQgAEwhJqfaIGBmV1l/u0CkZoE4fx8irlP9XgZsEUAgdQI7ai/dYE3Pcv7ejb1VOs55fZI89e08maQpN0xgUtm2WFNrvKwTS87VtV3f1QCwf+dmcnGnEinIJdVLZW5bPud++W+ROTPF6nHmlk/xOwIZEWAMYEaYo3cRM5PNvvAace66Utw3nhfrhDOih0CNEfCxgPmitr+ODezUotDLufbptGVy/b9nSC1dSaSN3i5uoxNHTJ41k8jZ5Febo+u4/qx52eZpbsFdmxZI3/1KvIkepNOoeiM7ixeIO/zvYp+nef8KmCxTdUFekQoBAsBUKHKOmAJWnSKdGXyjFwQ6TZqL3fmwmMexEwEEsidg8qbtrjN2zc8FHR2ZsrhcpmkiXvOzYPE6ydFAUQ+RJnqb96C2RWJWZiCxc/LtZXpYVz15v1i763jpXfZO/kS8EoFqChAAVhOQl1cuYDVtIfYF2hP4sI4HbNhUrO13rvwFPIsAAlkTMElyze1h88OWHgF37KeyfvLPYg18OD0X4KwIJCjAGMAEoTgseQFrx93EOuk8cR67S9x5c5I/Ea9EAAEEAizgLlsi7ktPSoFZMal2YYBrQtHDIEAAGIZWDEAd7C5HiKW3gJ0HbxV35fIAlJgiIoAAAqkVcF4cJlaH3SVvny6pPTFnQyAJAQLAJNB4SXICVo/TRZq11J7Au8Vdvy65k/AqBBBAIIAC7jdfiPz6vVgnnx/A0lPkMApEPgDs3bv30b169fpGf8p79ux5fxgb2S91suwcb6UQWb1S3H8+ttV0E34pN+VAAAEEqiPgLi8Tr/dPgz+rsLg6p+K1CKRMIPIBoM7I+lU1z9J/702ZKieKK2Dl1xT7khvF/eE7cd8bEfc4nkAAAQTCImDG/Um7HcXqyK3fsLRpGOoR+QBwxIgRk/Tnf9qYFWFo0CDUwarXQOzLbxJ35OvijP44CEWmjAgggEBSAu74seJ+/43YmhyfnIlJEfKiNAlEPgBMkyun3YqA1aKtlyjafeFx/XAct5WjeRoBBBAInoC7coU4OtzFOvFcserWD14FKHGoBUKfB1DH9o3WFtx2i1bUtKZi1jvaQ3v/Zm/xHL9mSMBLD6OLoDvD7hF7wJ1itW6XoStzGQQQQCD9Au7wp0VathVrv67pvxhXQKCKAqEPADXA27+KJpUerpNGujmO080c1KdPn7xhw4ZJYeHm+Zzy8vKkqKio0vPw5O8Chx8n5eUrpfyhW6XO7Y9KTuOSlNHQDimjrNaJaIdq8aX0xbRFSjkrPdk6vfW74rv/SvGgZ8Qu3nziB+1QKV1Gn9S/43fqBNC15qK2bY8cPnz4yIwWIIsXMz1hbCqgb4CbtfHrauP3SxREJ46YKG9ZaWnpZjNaTfBXVlaW6Gkif5xZGsl9+SnvVrB99T06Sy41wTPt4I+3Fu3gj3YwpaAtMtMW7iq99TvwMrGO6S32gUf+v4vSDv+PJOM7zHjMkhKvw6FYH0fyD3boewC39q7SW8Smb/45/SnUQMTS33vovxe98sor72zttTyfGgFvYHTvc0SWLtYl424T+4rbxcrPT83JOQsCCCCQYQFv1m9JS7G6eDeLMnx1LodAYgKRDwD1FvEnStUyMS6OSpeAZet8pHP6iTv0FnEevVNTxdwgVm5uui7HeRFAAIG0CLjjRos74Wuxb3mIWb9pEeakqRJgFnCqJDlPtQWs3Dwv8BNz++SpQeJWkJmn2qicAAEEMiZg1vp1nn9ULJPyRdNdsSHgZwECQD+3TgTLZtUq0ByBN4vMmyPucw+K6zgRVKDKCCAQNAEzltl5/hEx2Q3sfQ4MWvEpbwQFCAAj2Oh+r7JVp0jsvgPFnfyzLhn3KEGg3xuM8iGAgLhf/ltk2iSv9w8OBIIgQAAYhFaKYBlN0lS7/x3i/jyRIDCC7U+VEQiSgLtgrpfJwD7zUrFqb54WLEj1oKzREiAAjFZ7B6q2Vv2GXoJogsBANRuFRSBSAmaYivPsA2J1OkisnfeKVN2pbLAFCACD3X6hL/3GIPCX/4n7zFBx168PfZ2pIAIIBEfA/febIksWidXr7OAUmpIioAIEgLwNfC/gBYFX3S3urGniPK7/rvOStvu+3BQQAQTCLeBOnyzumy+Kfc4Vmru0ZrgrS+1CJ0AAGLomDWeFrOJ63u1gWVEmzgM6QURTxbAhgAAC2RJwy1eJ88S93mofVrsdslUMrotA0gIEgEnT8cJMC1i164jd71aRvHxx7r5a3EXzM10ErocAAgh4S3+6zz8m0qCxWEf2QASBQAoQAAay2aJbaHObxb74erG230WcOweIO/W36GJQcwQQyIqASfni/jR+w61fs4oRGwIBFOCdG8BGi3qRrZwcsU7p433zdgZfL85os5ofGwIIIJB+AXfODDFr/drn6rg/HZrChkBQBSK/FnBQGy7q5bYsS6zDu4tb0kKXjbtfnKm/iNX7XNYPjvobg/ojkEYBd+0aHfd3n1hdjxGrwx5pvBKnRiD9AvQApt+YK6RRwOTdsm+437sV7Nx3rbjz56TxapwaAQSiLOC+/JRIzVpiHf+3KDNQ95AIEACGpCGjXA2rYROxr75brLbbiXNrP3E++8AbpB1lE+qOAAKpFXC+/kLcb74Q+7wBYtXg5llqdTlbNgR4F2dDnWumXMDKzRPr5PPF3a2jOM88KO74r6SizwCR/IKUX4sTIoBAtAS8cX//eEjss/uJpTN/2RAIgwA9gGFoReqwUcCMy7FveUisorpS1v9Mcd5/ldVDNurwAAEEqirgrlopziN36ri/48TaY9+qvpzjEfCtAAGgb5uGgiUr4OULPPMyKbzuPnHH/kdvC18u7oSvuC2cLCivQyCiAt46v0/fL9K4RKzuJ0dUgWqHVYAAMKwtS72kxg676ASRIWIdfJQ4zz0k3iSRyT8jgwACCCQk4L79L5HSmZrypb9Ydk5Cr+EgBIIiwBjAoLQU5UxKwAzWtroeK+5+XcX98HVxhtwkst3OYnc/RazW2yZ1Tl6EAALhF3D+O0rcj9/RCWb3iLmrwIZA2AToAQxbi1KfmAJWrQIN+v4m9l1PitWspTj3XisVD98u7ozJMY9nJwIIRFfA/fUHcZ9/VOw+V4nVvFV0Iah5qAUIAEPdvFRuSwGrsFjsnmdpIPiEWDqux7nnGql49E5xZ03d8lB+RwCBCAqYXKKOfiZYvc8RayeSPUfwLRCZKhMARqapqeimAlZRPbH1A96+Y5hY9RuJc9eVUvH43eLOnr7pYTxGAIEICbhLF+kwkZvF6nyY2AcdGaGaU9UoChAARrHVqfNGAatufbFPOk/s2zUQ1KDQuaO/t9STqwO/2RBAIDoC7srlG4I/HSNs9TgjOhWnppEVIACMbNNT8U0FrHoNxD6ljwaCj4kU1BbnNl1R5MnBLC23KRKPEQipgFu+WpwHBoo0aSbW6ZfojF/+NIa0qanWJgK8yzfB4CEC5nawfepFYt/2qK4iki/OwMvFeXe4JpNeBw4CCIRQwC1fJc5Dt3pr/HrLvOWQ7iWEzUyVYggQAMZAYRcCZrknW3sC7AF3eOt/mh5Bd+qvwCCAQIgE3JUrxLlfU0PVyBP74hvELCnJhkBUBAgAo9LS1DMpAavtdmJff79YnQ4SZ9D1G5aWc5ykzsWLEEDAPwLu8mXiDL5eRJeNtC/R4E97/NkQiJIAiaCj1NrUNSkBL5n00b3E3XF3HReoy8v9PGHDovDF9ZI6Hy9CAIHsCrhzZoijeUCtNu3FOrufmP/H2RCImgA9gFFrceqbtIDVtr3YNw7VVQEKvdnC7owpSZ+LFyKAQHYE3P99K87dmuB5nwPFMku8EfxlpyG4atYFCACz3gQUIEgCZkUR67wBG9YX1tVE3PH/DVLxKSsCkRVwnQpvQpczTJd2+9uFYv/lVGb7RvbdQMWNAP3evA8QqKKAZVlimVvCTZqL85SOD/zraWIfelwVz8LhCCCQKQF3wVxx/j5EZHmZN7HL3PplQyDqAgSAUX8HUP+kBay99he7fkMvf5izepVYx/QWExyyIYCAPwRM+ib3P++L++YLYu13iCZ4PovJHv5oGkrhAwECQB80AkUIroA3S1hTxThDNJWEJpMVXUGAIDC47UnJwyHguq7IuNHivPqciKZ2sS+8RqwOrOsbjtalFqkSIABMlSTniayA1aKN2FfepUHgjSIVFSK9zyYIjOy7gYpnU8As5+aO+UTcTz8QWb1arO6niLX/oWKR3DmbzcK1fSpAAOjThqFYwRKwmjYXu7/2BOrEEKlVS6zjTwlWBSgtAgEUcE1OznlzxP1xvP58J/LTBJHW2+pwjBPFDNEgsXMAG5UiZ0yAADBj1Fwo7AJW4xKxr7hVnPuuFadmLbGP+GvYq0z9EEi7gJm9K4sXiswv1bW5S0UW/P6vBn6ikzu0u12k/U5i7bS7WD3PFKukZdrLxAUQCIMAAWAYWpE6+EbAatZK7L4DdYWBG8UpqCP2AYf7pmwUBAG/C3jB3pRfxZ2myy5OnSTuTM21qQGfmJ6+hk1E9EuW1Uh/tt9FrAO7iehjadhYc/nl+r1qlA8B3wkQAPquSShQ0AUsvQVlX3ydOA/eKq7OEmbwedBblPKnU8AL+n7QW7g6acMdP3bDpbbZXkyqFrvTgSI6vELqmyCPP1fpbAfOHT0B/o+KXptT4wwIeD0Up10kzuP3iH21Jp5t3joDV+USCARHwF2zRidsfCzuR2+KrF0j1t4H6GxdHUO77Q6aoDknOBWhpAgEVIAAMKANR7H9L2Dve4g4C+ZpT+BAsa8dJFbd+v4vNCVEIM0CpsfP/eLf4r7xT5Hi+mIdd5IX/HEbN83wnB6BLQQIALcA4VcEUilgHXuiN3jdefxub5awlctYpVT6cq5gCbiTfhTnX09oipZVYp9+schunUiZFKwmpLQhEmAt4BA1JlXxn4C3bJz5Q7d+vbj/GiZeglr/FZMSIZBWAbMih/PKM+IMvUWsPXUFnYEPi7X7vgR/aVXn5AhULkAPYOU+PItAtQVMLjL7Ik0Nc/sVIq3aiXXwUdU+JydAICgC7txZ3prZord+7esHk6YlKA1HOUMvQA9g6JuYCvpBwKrfSOwLrhF3xN/F3AZjQyAKAu6Er8S5o7+mbdl5wzhYcvRFodmpY0AECAAD0lAUM/gC1naarPaE08UZdp+4y5cFv0LUAIE4Amaog/PBq+I8OVjsMy8Tu5cuj8j41zha7EYgOwIEgNlx56oRFbC6HiuiOc6cp+8XbxmriDpQ7fAKuGa867MPivvxO7pG9p26JFvn8FaWmiEQYAECwAA3HkUPnoCZFGKfcemGZa3efyV4FaDECFQi4K5bq7kv7xZ3xuQN4/1at6vkaJ5CAIFsChAAZlOfa0dSwCqoLXafq8V9b4S4v/4QSQMqHT4Bt3yVt/qNrCgTe4D2/JH3MnyNTI1CJUAAGKrmpDJBEbC0Z8T662ni/H2IuKtWBqXYlBOBmAJe8KcpXjSvi7cWtlW7Tszj2IkAAv4RIAD0T1tQkogJeOMBmzQT9yVNjMuGQEAF3DXl4jxwq0h+LbEvvVGsmrUCWhOKjUC0BAgAo9Xe1NZHApZti33W5eJO/Eacr7/wUckoCgKJCbi6hq/z8O0iOTliX3ydzvTNS+yFHIUAAlkXIADMehNQgCgLWHUbiH3aReL+81FxFy+MMgV1D5iAme3rPHa3t8qN1/OXlx+wGlBcBKItQAAY7fan9j4QMGkyrN07ifPsA6SG8UF7UIStC5gURu5zD4osWyz2ZTeJlV9z6y/iCAQQ8JVA5JeC69mz56WamuN8bRVHfzR/qXvfK6+88oKvWonChF7AOuk8cW/V28Efvy3W4d1DX18qGGwB99XnxJ38s9hX3yNWrYJgV4bSIxBRgcj3ANq2/f2aNWv2HzFixG4VFRXHajA4tFevXm0j+n6g2lkSMH9E7XP6ifvGP8WdNS1LpeCyCGxdwPnoTXHHfKKzfW8Rq7je1l/AEQgg4EuByAeAw4cPH/XWW28tN63z2muvzdJ/5moQ2NKXrUWhQi1gbdvB6/1znhos7rp1oa4rlQumgDtujLhvvrjhtm/jZsGsBKVGAAFPIPIB4Kbvg969ex+mv9fV28Bfb7qfxwhkSsA69iSRGrnivvNSpi7JdRBISMCd+pvmrRwq9rn9xGrTPqHXcBACCPhXIPRjAPV27mjl33aLJrD0d1d/9tBbv7PNc3rcLhr4/V0f9tZ9q80+NgQyLWDVqCH2mZeKc9eV4u65v5iE0WwIZFvAXbRAnEduF+v4k3XC0r7ZLg7XRwCBFAiYQCjymwZ/HRThXf05R4O/TyoD0V7Cbo7jdDPH1K9fP2/YsGEXr1ixYrOX5OXlydq1azfbxy+ZFwhyO6we8ays++pzKbzrcbG0RzDIW5DbIcjuscqeTFu45atl+U2XSE77DlJw7hW62Ad/NmLZVmVfMu1QlfNzbGICderUkT59+jyyePFi7w+2zgkYqcPCRib26uAfFfn/k0888cQdNaB7T5vyfA3+PqpKk2qPYZEev6y0tNRMH9740qKiIikrK9v4Ow+yIxDkdnDXrxPnjv5iaS+gfZzeFg7wFuR2CDB7zKJXtS3M55r75CBxTbqXfrfpl5HQ3zSK6ZbqnVVth1Rfn/OZVQstKSkpMRTF+jiSf7AjPwZQg78H9A1gArl7tCfwO/0Zpz+Hm3cFGwLZEjC9fvaZl4n7wSvMCs5WI3BdcUe+Ju6kn8TuczXBH+8HBEImEPmvc9rrd0TI2pTqhETAar2tWIcerwmiHxT72vvE0uW22BDIlID7/bc6Gellsa+8U6yiupm6LNdBAIEMCUS+BzBDzlwGgaQELHP7V9dbdT98I6nX8yIEkhFw588RR2/9WqdeqBORtpxDl8wZeQ0CCPhNgADQby1CeRDYRMDKzRP7jEu9tDBu6axNnuEhAukRcMtXifPwHWJ1PkzsfQ9Jz0U4KwIIZF2AADDrTUABEKhcwGq3g1gHHSmOrr3qOhWVH8yzCFRDwKzx6zw9VLOh1herx5nVOBMvRQABvwsQAPq9hSgfAipgdT9VpGypuKPexwOBtAm4778iMnOK2OdfyZjTtClzYgT8IUAA6I92oBQIVCpg5eeLfdrF4r7+vJikvGwIpFrA/WmCuO+NEPuia8WqYxIjsCGAQJgFCADD3LrULVQC1o67ibV3Z3FeeGyzvJOhqiSVyYqAu3TRhkkfJ50nVitWn8lKI3BRBDIsQACYYXAuh0B1BKxeZ4lMnyTuV59V5zS8FoGNAm5FhThPaJqhnfcU6wBSoG6E4QECIRcgAAx5A1O9cAlYtQvFPvl8cV96UtzlkUxeH64G9UFtzLACWblCrL9pyheWefNBi1AEBDIjQACYGWeugkDqBPbqLKIzg90RT6funJwpkgLu+LHifvq+2BdeI1Z+zUgaUGkEoipAABjVlqfegRUwvTT2KReI98f7h+8CWw8Knl0Bd8FccZ4ZKtbpl4jVtEV2C8PVEUAg4wIEgBkn54IIVF/Aqt9QrBNOF+f5R8RdU179E3KGSAm469aKM+xesTodJHbHLpGqO5VFAIENAgSAvBMQCKiAdeCRIvUaiPvmCwGtAcXOloA7XIcPaE+y1eucbBWB6yKAQJYFCACz3ABcHoFkBSzbFltv35kxXO7U35I9Da+LmIAz9lOdRf652H2uEis3N2K1p7oIIPCHAAHgHxL8i0AABaySlmId1VOcfzwk7vr1AawBRc6kQMWs6eI+/6jY5/QTq2GTTF6aayGAgM8ECAB91iAUB4GqClhH9hDRNVzdD1+v6ks5PkICZqzoiiE3i9X1aLF27RihmlNVBBCIJUAAGEuFfQgESMCqkbvhVvC7w8WdOztAJaeomRJwXVd7/h4Ru6h4w7rSmbow10EAAd8KEAD6tmkoGAKJC1iaF9DqcoTOCn5YXO0NZENgUwH3s5Fi1vqtfdlNYuXkbPoUjxFAIKICBIARbXiqHT4B6y9/E1k4X9wvPgxf5ahR0gLu9MliZv3a518pts4aZ0MAAQSMAAEg7wMEQiJg1SwQ+9SLxH3lOXGXLgpJrf6vvTuBr6K6Fzj+P5OAiCwVFQXFgCAuiIjUBVu12vpwqX2yhfYhKoqCgOJTXHCDPpeHLaXuEoWPWJRHWJ4aXmvRoqgUt6pVUR/FDRCxUkQWkcRkTv8nQBoCkUly79xZfvP5zOfeO5mZc873f5d/zsyZoRkNEbCbNoo/abyYM/uLOaRrQ3bFtgggkDABEsCEBZTmpFvAdO0hpuv3xZ9elG4IWi/uvD//4btEto4UhwQBBBCoLkACWF2D5wgkQMD8fIjI0nfFvrEoAa2hCfUVsE8/IbL8I/EuvELcNSOZEEAAgeoCfCtU1+A5AgkQMM11pOeAIZW9gO4QIFP6BOzS98SWTBdv2LVimrVIHwAtRgCBXQqQAO6SiBUQiJ+AOe5HIge01/MBp8av8tS4QQJ2/VfiP6j3+e17vpgOnRu0LzZGAIHkCpAAJje2tCzFAkbv81o5IOTVF8QueSfFEulquvUrxJ/8GzEHdxFzylnpajytRQCBOgmQANaJi5URiI+Au9WXuzSM/7v7xJaVxqfi1LTeAnbuDJG1/xBz3ghx/wQwIYAAArUJkADWJsNyBBIgYE79qUjTPcT+X3ECWkMTvkvALn5d7DNP6nl/14m7JBATAggg8F0CJIDfpcPfEIi5gPHyxDt/pNj5JWJXfBzz1lD92gTsmtXiT5ko5j+Gidm/oLbVWI4AAghUCZAAVlHwBIFkCpgDOoj5yTniP3KP2IqKZDYyxa2y5d+KX3SHmO49xTvh1BRL0HQEEKiLAAlgXbRYF4GYCpifFops/kZ7AufGtAVUuzaBypHemgSaX1xS2yosRwABBHYQIAHcgYQFCCRPwDRqLJ4ODHDXhrOrP09eA1PaIvuXhWIXPbvlvD+NMRMCCCAQVIAEMKgU6yEQcwHT+Qhx1wf0H72/8jZhMW9O6qtvP1+pI7zvFe+Cy8W0bpN6DwAQQKBuAiSAdfNibQRiLeAuDiwrl4t96blYtyPtlbebN4l//+1iTuol5uieaeeg/QggUA8BEsB6oLEJAnEVMHpJGG/gMLEzp4i7YwRT/ASsteI/fLfI91qJ6X1e/BpAjRFAIBICJICRCAOVQCA8AdP9eJFDuootnhxeoZSUMQH7xzkiyz4Q7+KrxeTlZWy/7AgBBNIlQAKYrnjTWgQqBTwdMWrf0QsHv/0aIjESsIvfqLyot3fpGDHNW8So5lQVAQSiJkACGLWIUB8EQhAw7vBh/8HiT9PbxH29IYQSKaKhAm70tv/QBDEDLxVT0LGhu2N7BBBIuQAJYMrfADQ/vQLmh6eJHNhR7KMPMCo44m8DW1qqgz7+W0dxn8zFniMeK6qHQFwESADjEinqiUCGBYwxW24Tt+Qdsa8syPDe2V2mBNygDzvtXpEmu4spvChTu2U/CCCQcgESwJS/AWh+ugVMiz01CbxM7PQisWu+SDdGRFtvn35crCbp3rBrxeTnR7SWVAsBBOImQAIYt4hRXwQyLGC6HSvmmBPFnzyRewVn2Lahu7N/fUXs3BnijbxRTMs9G7o7tkcAAQSqBEgAqyh4gkB6BUzhEBEdDGLn/k96ESLWcrviY/GnTBRv8Cgd9NEpYrWjOgggEHcBEsC4R5D6I5ABAbPbbuINvUbsn0rEvv9WBvbILhoiYNetFf/eW8T06iOmxw8asiu2RQABBHYqQAK4UxYWIpA+AbN/gQ4yuLCy18muX5s+gIi02H5btuU2b526iDmrMCK1ohoIIJA0ARLApEWU9iDQAAFzot5btvMRW84H9CsasCc2rY9A5YjfR+4RvS6PmAsuEzdSmwkBBBDIhgAJYDZU2ScCMRVwCYc5b4TI2jVin3gspq2Ib7XtH2aJXfqueCNuENOocXwbQs0RQCDyAiSAkQ8RFUQgXAHTpKl4w8eIfe73Yt98OdzCU1ya//Jz4u7z6428iRG/KX4f0HQEwhIgAQxLmnIQiJGAadNOvAsuF//hO8V+/mmMah7PqtrFel/mafeLd+l1Ytp1iGcjqDUCCMRKgAQwVuGisgiEJ+BGn5qTThf/vtv0fsEbwys4ZSXZj5aIP+lXYvSC3Obw7ilrPc1FAIFcCZAA5kqechGIgYDpM0ikdVvxi+4QW14egxrHq4qud9W/57/E9D5XvGNPilflqS0CCMRagAQw1uGj8ghkV8B4eeJdfJXIhnViix/Swak2uwWmaO9WB9r4vx1b2cvq/fjsFLWcpiKAQBQESACjEAXqgECEBSoHheityOzri8TOL4lwTeNTNXdI3b9rnJjDuok559z4VJyaIoBAYgRIABMTShqCQPYEzF6txbvsJr00zHTxX30hewWlYM+2dLPe5eNWkb33FTNoBNf6S0HMaSICURQgAYxiVKgTAhEUMB06izfsWrF6oWL73psRrGH0q2RLS/Wcv1tE8tyh9avF6CMTAgggkAuB/FwUGqUy+/XrN1wvfjtM6+Rue5Cn5zg9NHv2bL0UPxMCCNQUMEccXdlr5T8wXrwrbxXT4eCaq/C6FgFbpsnffdrzZ33xLtdz//T+y0wIIIBArgRS3wNYVlY2bdasWUfq7K6/cIImg6MHDBjQLVcBoVwEoi7gHf+jyvPW/DvHil3+YdSrG4n6Vfb86eV0RO/z6112syZ/TSJRLyqBAALpFUh9AlhSUrJhW/grKiqa6/PU94pu8+ARgdoE3KhVc2Z/8SfeLHbFx7WtxnIVsN9s0gEfY0XKvxVvlPb8NdkdFwQQQCDnAiQ7GoLCwsK+euj3l/q0o/YAXl9cXPxWziNDBRCIuIDXq7f4vq9J4I1bDgdzB4sdImY3rhf/znEizVvo+ZNjOOy7gxALEEAgVwImVwWHVW7//v0XaVmdapTn2u0uaNZdD/2u3PY3XfdAff6E/qgNmDNnztJty2t71KSxhf5t3apVq7a7PlqLFi1k/fr1tW3G8pAEiEM40P5Ts7fcw1ZHCZtOh+9QaFrjYNesrrzUi7Q5QLwho8U0arSDTdgL0hqLsJ13VR5x2JVQ9v+unT3Spk0bV1BLfZ7KH+zEJ4B1fRvpoJAHPM/728yZM3+7s221t7CXJoi93N9atWrVuKioaMTGjdvfJqtx48ai5xbubHOWhShAHMLDLn2mRDY9+oA0u2KsNOp+/HYFpzEO5Z8slY3jx0ijo3tK04tG6WjfaBxsSWMstnszRuQFcYhGIJo1ayZDhw6978svv6z8wdbf/nn62z8vGrXLfi1SnwDqgI/D9JDv+45aewD30YeF2rM3XEcCz98VPz2AuxLK7d/5Lztcf/+1hWKn3iVm4DDxTvhxVeFpi4Nd/Ib4D+q9fU/vK+aMfpG6zl/aYlH1JozYE+KQ+4DQA8iAB3fodpQmfifq27FUZ6OvJwZJ/nL/9qUGCERLwDvmh2KbNRd/0njxV32q97cdJMZLzzgz/e4Q+8yTYp98rPJSOW60NBMCCCAQVYHU9wA2JDD0ADZEL/vb8l929o13VoL9/FO92PGtIm3biXfRf0rL1vsl/pxYd5kXO+1esUsWizdcB3voRbOjOPGZiEZUiEPu40APoEh6/j3P/fuNGiCQCgGznw56uP7X2qeutzy79SopX5bsawVa7e30x18jbtCHd+PEyCZ/qXjz0UgEEAgsQAIYmIoVEUAgqIDZo7l4V4wTc+xJsuGmEeK/MG+7kfJB9xPl9dwhX//Fp8W/7SoxXbqLd9UtYlruGeUqUzcEEECgSiAaQ9OqqsMTBBBIioDx8sT87Beye7fvy8a7bxH7zuvinXtpIpIku26t+NMniXzwvh7yvU7M4e5GQkwIIIBAfAToAYxPrKgpArEUaNS1h3jj7qm8Dp4/dqT4rzwf297Ayl6/P88X/+YROsAlT7yxd5P8xfJdSaURQIAeQN4DCCCQdQHTvKWYS64W+/oi8R97QOyi+eINGCKmrbv2ejwmd8s7v3iyyN9XijdYr+131HHxqDi1RAABBHYiQAK4ExQWIYBAdgRMjxPEO+xIsXNn6ACRK8Wc1EvMWYXiEsSoTu5wr7u0i315gZhTzhIz/HoxTfeIanWpFwIIIBBIgAQwEBMrIYBApgRM02ZitPfPavLnz3pY7JiLtyRW/9ZbE0F3d8VoTHbtGrHz/lfsi3pjgC5H62FsPdzbum00KkctEEAAgQYKkAA2EJDNEUCgfgKmTTvJu/xmsR8tEV97BO0YPSTc81RNBs/M6aFhq5etsQv+IFbPVZQjNPG75g4xBR3r10i2QgABBCIqQAIY0cBQLQTSImAOOkTyRo0Vu+wDsc/+vvLQsOgy0/MUMXpfYddjmO3Jblgn9s2XxC78k8jKZWKOO1mvZThBzAHts100+0cAAQRyIkACmBN2CkUAgZoCpqCTGB1cYfsNrhwkYp/TXrhH7xfRS6yYI3qIOaybyL5tM3JvXTeaVz5bLvb/3xb71qsif1ss0v5gMXr7NnO8Jp6c41czPLxGAIGECZAAJiygNAeBuAu48wBNr94iOtu/fyb2jUVb5pk6AreZDhZpr4liu4N07iCyV2uRVnuL6IWn3a2dak7W90U2rhfR8/lk9Sqxn35SOYsednZ3KpGDD9+SXJ5/uZi99qm5Oa8RQACBxAqQACY2tDQMgfgLGNfjd0Y/EZ3d/Xbl4yVil+ut5dwlWd58WeTL1SKbNork61fZbrvrvJtInj7/9ludy0Q2fyNSUa6JY3NNFvfVQ7oFYg7tqglmH5EO2uOX3yj+SLQAAQQQqIcACWA90NgEAQTCFzAuuTv0SE3gjtyucLt5k8hXa0XKNEF0c7kmf40ab5mbNBH53l5iGuu2TAgggAACVQIkgFUUPEEAgTgKmCZNRfbTmQkBBBBAILAAt4ILTMWKCCCAAAIIIIBAMgRIAJMRR1qBAAIIIIAAAggEFiABDEzFiggggAACCCCAQDIESACTEUdagQACCCCAAAIIBBYgAQxMxYoIIIAAAggggEAyBEgAkxFHWoEAAggggAACCAQWIAEMTMWKCCCAAAIIIIBAMgRIAJMRR1qBAAIIIIAAAggEFiABDEzFiggggAACCCCAQDIESACTEUdagQACCCCAAAIIBBYgAQxMxYoIIIAAAggggEAyBEgAkxFHWoEAAggggAACCAQWIAEMTMWKCCCAAAIIIIBAMgRIAJMRR1qBAAIIIIAAAggEFiABDEzFiggggAACCCCAQDIESACTEUdagQACCCCAAAIIBBYgAQxMxYoIIIAAAggggEAyBEgAkxFHWoEAAggggAACCAQWIAEMTMWKCCCAAAIIIIBAMgRIAJMRR1qBAAIIIIAAAggEFiABDEzFiggggAACCCCAQDIESACTEUdagQACCCCAAAIIBBYgAQxMxYoIIIAAAggggEAyBEgAkxFHWoEAAggggAACCAQWIAEMTMWKCCCAAAIIIIBAMgRIAJMRR1qBAAIIIIAAAggEFiABDEzFiggggAACCCCAQDIESACTEUdagQACCCCAAAIIBBYgAQxMxYoIIIAAAggggEAyBEgAkxFHWoEAAggggAACCAQWIAEMTMWKCCCAAAIIIIBAMgRIAJMRR1qBAAIIIIAAAggEFiABDEzFiggggAACCCCAQDIESACTEUdagQACCCCAAAIIBBYgAQxMxYoIIIAAAggggEAyBEgAkxFHWoEAAggggAACCAQWIAEMTMWKCCCAAAIIIIBAMgRIAJMRR1qBAAIIIIAAAggEFiABDEzFiggggAACCCCAQDIE8pPRjIa3onfv3q3z8/Pf1j0tmjVrVp+G75E9IIAAAggggAAC0RSgB3BrXDT5m2SMmRvNMFErBBBAAAEEEEAgcwIkgGpZWFh4oSZ/H+nThZmjZU8IIIAAAggggEA0BVKfAPbv37+DtXbohg0bbohmiKgVAggggAACCCCQWYHEnwOoCd4iJetUg83oa1tRUXG0Pk7xPG/kU089VarruuV1nrT3cIdtdrZsh5VYkHUB4pB14kAFEIdATKGsRCxCYd5lIcRhl0RZXQF/kR0zl6ySR2vnAwcObFFWVvah1mrD1po118fddX5JB4KctnXZdg96uLiX7/u93MKCgoI9JkyYcMl2K/ACAQQQQAABBGIhMHr06AeXLVv2tausdgbNmzlz5rxYVDwDlUx1AljTT5O78/Vw8L8HHQWs6zq/tjpvSyArdzl06NDbi4qKrq+5f16HK0AcwvWurTTiUJtM+MuJRfjmOyuROOxMJfxlmvz9WjtxhmlvoA2/9NyXmPhDwNkk3vqmWVmzjH79+pXp39bXXM7rcAWIQ7jetZVGHGqTCX85sQjffGclEoedqYS/TOPwdVqTP6dNAljtPaddv4/oSzczIYAAAggggAACiRVI/SjgbETWnUeQjf2yz7oJEIe6eWVrbeKQLdm675dY1N0sG1sQh2yo1n2fxKHuZmyBAAIIIIAAAggggAACCCCAAAIIIIAAAggggAACCCCAAAIIIIAAAggggAACCCCAAAK5F+A6gBmMgd5JxN1xxI0i3lvnr/QE0wuKi4vfz2AR7GoXAmecccZuzZo1m6GrHabzNzp/oXEYrnFwF/xmyoGAXmphsF5qYYoWfY5eY7MkB1VIfZH63dRYEX6js7uIvftcvKWxOE8fmUIU0GvNnqnXj71Fi3QDMPP0+YTZs2f/LsQqpLIo/Q66S7+DfqaNL9AbORw1Z86ctx2Efi720Qfn31HnzRqPERqPF/V5KiZGAWc2zEW6u0n6xXqIvtl+pW80LimTWd+geyvSGByqc3eNQ4nGYXLQDVkvswJ9+vQp0BgM0b2+lNk9s7e6CGgM7tAfN18/E5117lZeXj66LtuzbmYENAbT9PvoPPfdpLciPVvjUjRo0KA9MrN39lKbgDrPysvL+4H+/ZPq62g8xutrd+evzhqXC3W96ZoU5lVfJ8nPSQAzFN2t/0n06NKly2Nul3pNwTn60K5v374HZagIdhNAwN3TWT/Mf9y2qn7AX9bnBdte8xiqgNEv3cn6xTpSSy0LtWQKqxI4++yzm+rnwP243bBt4eOPP/7Ftuc8hirg6xGJPV2JGo+W+vCPFStWlIZagxQWpr8JC2fMmPGZY6/efI1Bof4zNMkt017Bv+iDu7HDye51GiYSwAxFWT/U7XRXq8aNG+dX2+VyfYMdWO01T8MXGKU/fk+EXywl6mGXK1XhRf1ifRON3Ak0adLEHd76Uucb9B/V13R+XudTc1ej9Jas30U/19Y/rv6f6G/GC/r8/AULFpSnVyR3LdcYtNLS86v/M6TxWabLUvObTQKYu/cfJWdZQM+3cfdj7qjnBHJf5ixb19y99nx30X9++ury22r+jdfhCmgPrLvjU4H+uC3WnpBj9PkonYv1B9Cd/8QUkoB65+ln4kad3bmw7TUuP9GiH92aiIRUC4pB4F8CJID/smjQM/0wr9AdtNEewOqmB+qX7vIG7ZiN6yWgyd9otT+ntLT09KlTp26u107YqN4Ceuj3RN3YHXpfqj9wH+vj8To/qL2CQ/WRKUQB/W5y30EVenL7dFesJh9/1QcXk67uNVNoAkdpSW309KA/uxK3HnL8VL+nuodWAwqqEtDPgesVL+/du3frbQs1OW+vz1Pzm109WdlmwGM9BPTNtFo3e+O9994b5DbXH71++rBCP+QfuddM4Qmo/ZX6peoOtZxWUlKyIbySKWmbgP7IucFQ++t8kM4ddLk7F/MSTULcQCmmEAX0ENcaLW6+Jt+nu2L18+Hi0V4HIXCFAgcS0qTnmlV2Emjv+KGuSI2Du2rEQZqgLwmpChRTQ0ATPjc45FK3eMCAAa53vK3Oz7vXaZhMGhoZVhv1DeRGEk3V8vbSeZ0+H6wJ4LthlU85lV+q+6uD+6L9UGeX/Ln3+GZNQnrqI1OOBPTH7lkt+k6NA5eByUEMtiZ9U7Rod4mqCv3h+6Um6ZwbG3IsNA4DtEg3GKdCZ9cBc7t+Jor1kSmLAnpEaJJ2CpylReyrs/uHaIO6d3a9f/n5+dP0tfunqFQ/FyP0c/GCPmdCAAEEEEAAAQQQQAABBBBAAAEEEEAAAQQQQAABBBBAAAEEEEAAAQQQQAABBBBAAAEEEEAAAQQQQAABBBBAAAEEEEAAAQQQQAABBBBAAAEEEEAAAQQQQAABBBBAAAEEEEAAAQQQQAABBBBAAAEEEEAAAQQQQAABBBBAAAEEEEAAAQQQQAABBBBAAAEEEEAAAQQQQAABBBBAAAEEEEAAAQQQQAABBBBAAAEEEEAAAQQQQAABBBBAAAEEEEAAAQQQQAABBBBAAAEEEEAAAQQQQAABBBBAAAEEEEAAAQQQQAABBBBAAAEEEEAAAQQQQAABBBBAAAEEEEAAAQQQQAABBBBAAAEEEEAAAQQQQAABBBBAAAEEEEAAAQQQQAABBBBAAAEEEEAAAQQQQAABBBBAAAEEEEAAAQQQQAABBBBAAAEEEEAAAQQQQAABBBBAAAEEEEAAAQQQQAABBBBAAAEEEEAAAQQQQAABBBBAAAEEEEAAAQQQQAABBBBAAAEEEEAAAQQQQAABBBBAAAEEEEAAAQQQQAABBBBAAAEEEEAAAQQQQAABBBBAAAEEEEAAAQQQQAABBBBAAAEEEEAAAQQQQAABBBBAAAEEEEAAAQQQQAABBBBAAAEEEEAAAQQQQAABBBBAAAEEEEAAAQQQQAABBBBAAAEEEEAAAQQQQAABBBBAAAEEEEAAAQQQQAABBBBAAAEEEEAAAQQQQAABBBBAAAEEEEAAAQQQQAABBBBAAAEEEEAAAQQQQAABBBBAAAEEEEAAAQQQQAABBBBAAAEEEEAAAQQQQAABBBBAAAEEEEAAAQQQQAABBBBAAAEEEEAAAQQQQAABBBBAAAEEEEAAAQQQQAABBBBAAAEEEEAAAQQQQAABBBBAAAEEEEAAAQQQQAABBBBAAAEEEEAAAQQQQAABBBBAAAEEEEAAAQQQQAABBBBAAAEEEEAAAQQQQAABBBBAAAEEEEAAAQQQQAABBBBAAAEEEEAAAQQQQAABBBBAAAEEEEAAAQQQQAABBBBAAAEEEEAAAQQQQAABBBBAoKEC/wSJi+6IsK55vQAAAABJRU5ErkJggg==\">"
      ],
      "text/plain": [
       "<IPython.core.display.HTML object>"
      ]
     },
     "metadata": {},
     "output_type": "display_data"
    }
   ],
   "source": [
    "fig1 = figure(figsize=(8, 8))\n",
    "\n",
    "ax1 = fig1.gca()\n",
    "\n",
    "p1, = ax1.plot(t, q1)\n",
    "p2, = ax1.plot(t, q2)\n",
    "ax1.legend([p1, p2],[r\"$q_1$\", r\"$q_2$\"])\n",
    "ax1.set_ylim(-4, 4)\n",
    "ax1.set_xlim(-0.1, 10);"
   ]
  },
  {
   "cell_type": "code",
   "execution_count": 68,
   "metadata": {
    "collapsed": true
   },
   "outputs": [],
   "source": [
    "%matplotlib inline\n",
    "from matplotlib import animation\n",
    "from numpy import sin, cos, arange"
   ]
  },
  {
   "cell_type": "code",
   "execution_count": 69,
   "metadata": {
    "collapsed": false
   },
   "outputs": [
    {
     "data": {
      "image/png": "[encoded data removed]",
      "text/plain": [
       "<matplotlib.figure.Figure at 0x1106bf080>"
      ]
     },
     "metadata": {},
     "output_type": "display_data"
    }
   ],
   "source": [
    "l1, l2 = 1, 1\n",
    "# Se define el tamaño de la figura\n",
    "fig = figure(figsize=(12.6, 6.6))\n",
    "\n",
    "# Se define una sola grafica en la figura y se dan los limites de los ejes x y y\n",
    "axi = fig.add_subplot(111, autoscale_on=False, xlim=(-2.1, 2.1), ylim=(-2.1, 0.1))\n",
    "axi.set_xticklabels([])\n",
    "axi.set_yticklabels([])\n",
    "axi.axes.get_xaxis().set_visible(False)\n",
    "axi.axes.get_yaxis().set_visible(False)\n",
    "\n",
    "# Se utilizan graficas de linea para el eslabon del pendulo\n",
    "linea, = axi.plot([], [], \"-o\", lw=2, color='gray')\n",
    "\n",
    "def init():\n",
    "    # Esta funcion se ejecuta una sola vez y sirve para inicializar el sistema\n",
    "    linea.set_data([], [])\n",
    "    return linea\n",
    "\n",
    "def animate(i):\n",
    "    # Esta funcion se ejecuta para cada cuadro del GIF\n",
    "    \n",
    "    # Se obtienen las coordenadas x y y para el eslabon\n",
    "    xs, ys = [[0, l1*cos(q1[i]), l1*cos(q1[i]) + l2*cos(q1[i]+q2[i])],\n",
    "              [0, l1*sin(q1[i]), l1*sin(q1[i]) + l2*sin(q1[i]+q2[i])]]\n",
    "    linea.set_data(xs, ys)\n",
    "    \n",
    "    return linea\n",
    "\n",
    "# Se hace la animacion dandole el nombre de la figura definida al principio, la funcion que\n",
    "# se debe ejecutar para cada cuadro, el numero de cuadros que se debe de hacer, el periodo \n",
    "# de cada cuadro y la funcion inicial\n",
    "ani = animation.FuncAnimation(fig, animate, arange(1, len(q1)),\n",
    "                              interval=25, init_func=init)\n",
    "\n",
    "# Se guarda el GIF en el archivo indicado\n",
    "ani.save('./imagenes/simulacion-doble.gif', writer='imagemagick');"
   ]
  },
  {
   "cell_type": "markdown",
   "metadata": {},
   "source": [
    "![](./imagenes/simulacion-doble.gif)"
   ]
  }
 ],
 "metadata": {
  "kernelspec": {
   "display_name": "Python 3",
   "language": "python",
   "name": "python3"
  },
  "language_info": {
   "codemirror_mode": {
    "name": "ipython",
    "version": 3
   },
   "file_extension": ".py",
   "mimetype": "text/x-python",
   "name": "python",
   "nbconvert_exporter": "python",
   "pygments_lexer": "ipython3",
   "version": "3.5.1"
  }
 },
 "nbformat": 4,
 "nbformat_minor": 0
}
