{
 "cells": [
  {
   "cell_type": "code",
   "execution_count": 24,
   "metadata": {
    "collapsed": false
   },
   "outputs": [
    {
     "data": {
      "text/html": [
       "<link href='http://fonts.googleapis.com/css?family=EB+Garamond' rel='stylesheet' type='text/css'>\n",
       "<link href='http://fonts.googleapis.com/css?family=Lato:100,100italic' rel='stylesheet' type='text/css'>\n",
       "<link rel=\"stylesheet\" href=\"//cdn.jsdelivr.net/font-hack/2.013/css/hack-extended.min.css\">\n",
       "\n",
       "<style>\n",
       "\t@font-face{\n",
       "   \t\tfont-family: \"Computer Modern\";\n",
       "        \tsrc: url('http://mirrors.ctan.org/fonts/cm-unicode/fonts/otf/cmunss.otf');}\n",
       "        \n",
       "        div.cell{\n",
       "\t        max-width:    800px;\n",
       "\t        margin-left:  auto;\n",
       "\t        margin-right: auto;}\n",
       "        \n",
       "\th1 {\n",
       "        \tfont-family: 'Lato', sans-serif;}\n",
       "        \n",
       "\th2 {\n",
       "        \tfont-family: 'Lato', serif;}\n",
       "        \n",
       "\th3{\n",
       "\t\tfont-family:   'Lato', serif;\n",
       "        \tmargin-top:    12px;\n",
       "\t\tmargin-bottom: 3px;}\n",
       "        \n",
       "        h4{\n",
       "\t\tfont-family: 'Lato', serif;}\n",
       "\t\n",
       "\th5 {\n",
       "        \tfont-family: 'Lato', serif;}\n",
       "    \n",
       "\tdiv.text_cell_render{\n",
       "        \tfont-family:  'EB Garamond', 'Computer Modern', 'Helvetica Neue', Arial, Helvetica, Geneva, sans-serif;\n",
       "\t        line-height:  140%;\n",
       "\t        font-size:    14pt;\n",
       "\t\tmax-width:    650px;\n",
       "\t\tmargin-left:  auto;\n",
       "        \tmargin-right: auto;}\n",
       "        \n",
       "\t.CodeMirror{\n",
       "        \tfont-family: 'Inconsolata', monospace;}\n",
       "    \n",
       "\t.text_cell_render h1 {\n",
       "\t        font-weight:   100;\n",
       "\t        font-size:     48pt;\n",
       "\t\tline-height:   100%;\n",
       "\t        color:         #CD2305;\n",
       "\t        margin-bottom: 0.5em;\n",
       "\t        margin-top:    0.5em;\n",
       "\t        display:       block;}\n",
       "        \n",
       "\t.text_cell_render h2 {\n",
       "        \tfont-weight:   100;\n",
       "        \tfont-size:     36pt;}\n",
       "        \n",
       "\t.text_cell_render h3 {\n",
       "        \tfont-weight:   100;\n",
       "        \tfont-size:     21pt;}\n",
       "        \n",
       "\t.text_cell_render h4 {\n",
       "        \tfont-weight:   100;\n",
       "        \tfont-size:     18pt;}\n",
       "        \n",
       "\t.text_cell_render h5 {\n",
       "\t        font-weight:   100;\n",
       "\t        font-size:     16pt;\n",
       "\t        color:         #CD2305;\n",
       "\t        font-style:    italic;\n",
       "\t        margin-bottom: 0.5em;\n",
       "\t        margin-top:    0.5em;\n",
       "\t        display:       block;}\n",
       "        \n",
       "\t.text_cell_render h6 {\n",
       "\t        font-weight:   100;\n",
       "\t        font-size:     14pt;\n",
       "\t        color:         #CD2305;\n",
       "\t        font-style:    italic;\n",
       "\t        margin-bottom: 0.5em;\n",
       "\t        margin-top:    0.5em;\n",
       "\t        display:       block;}\n",
       "    \n",
       "\t.warning{\n",
       "\t    \tbackground-color: #FFFFE0;\n",
       "\t    \tborder-color: #FFCC99;\n",
       "\t    \tborder-left: 5px solid #FFCC99;\n",
       "\t    \tpadding: 0.5em;}\n",
       "\t    \t\n",
       "\t.error{\n",
       "\t    \tbackground-color: #fcf2f2;\n",
       "\t    \tborder-color: #dFb5b4;\n",
       "\t    \tborder-left: 5px solid #dfb5b4;\n",
       "\t    \tpadding: 0.5em;}\n",
       "\t    \t\n",
       "</style>\n",
       "\n",
       "<script>\n",
       "\tMathJax.Hub.Config({\n",
       "        \tTeX:{extensions: [\"AMSmath.js\"]},\n",
       "\n",
       "        \tjax: [\"input/TeX\",\"output/SVG\"],\n",
       "        \tSVG: {\n",
       "        \t\tscale: 120,\n",
       "        \t\tfont: 'Gyre-Pagella'}\n",
       "        });\n",
       "</script>"
      ]
     },
     "metadata": {},
     "output_type": "display_data"
    }
   ],
   "source": [
    "from IPython.core.display import display_html\n",
    "from urllib.request import urlopen\n",
    "\n",
    "link = 'https://gist.github.com/robblack007/eca03fa9f7586860235d/raw/ef05a2f29febc94a9c9f99ca20fd0b65e74ed451/custom.css'\n",
    "display_html(urlopen(link).read(), raw=True)"
   ]
  },
  {
   "cell_type": "markdown",
   "metadata": {},
   "source": [
    "# Dinámica de un robot manipulador planar"
   ]
  },
  {
   "cell_type": "code",
   "execution_count": 2,
   "metadata": {
    "collapsed": true
   },
   "outputs": [],
   "source": [
    "from sympy import var, sin, cos, Matrix, Integer, eye, Function, Rational, exp, Symbol, I, solve, pi, trigsimp, dsolve, sinh, cosh, simplify\n",
    "from sympy.physics.mechanics import mechanics_printing\n",
    "mechanics_printing()"
   ]
  },
  {
   "cell_type": "code",
   "execution_count": 3,
   "metadata": {
    "collapsed": false
   },
   "outputs": [
    {
     "data": {
      "image/png": "[encoded data removed]",
      "text/latex": [
       "$$\\left ( m_{1}, \\quad m_{2}, \\quad J_{1}, \\quad J_{2}, \\quad l_{1}, \\quad l_{2}, \\quad t, \\quad g\\right )$$"
      ],
      "text/plain": [
       "(m₁, m₂, J₁, J₂, l₁, l₂, t, g)"
      ]
     },
     "execution_count": 3,
     "metadata": {},
     "output_type": "execute_result"
    }
   ],
   "source": [
    "var(\"m1 m2 J1 J2 l1 l2 t g\")"
   ]
  },
  {
   "cell_type": "code",
   "execution_count": 4,
   "metadata": {
    "collapsed": true
   },
   "outputs": [],
   "source": [
    "q1 = Function(\"q1\")(t)\n",
    "q2 = Function(\"q2\")(t)"
   ]
  },
  {
   "cell_type": "code",
   "execution_count": 5,
   "metadata": {
    "collapsed": false
   },
   "outputs": [
    {
     "data": {
      "image/png": "[encoded data removed]",
      "text/latex": [
       "$$l_{1}^{2} \\left(\\dot{q}_{1}\\right)^{2}$$"
      ],
      "text/plain": [
       "  2    2\n",
       "l₁ ⋅q₁̇ "
      ]
     },
     "execution_count": 5,
     "metadata": {},
     "output_type": "execute_result"
    }
   ],
   "source": [
    "x1 = l1*cos(q1)\n",
    "y1 = l1*sin(q1)\n",
    "v1 = x1.diff(\"t\")**2 + y1.diff(\"t\")**2\n",
    "v1.trigsimp()"
   ]
  },
  {
   "cell_type": "code",
   "execution_count": 7,
   "metadata": {
    "collapsed": false
   },
   "outputs": [
    {
     "data": {
      "image/png": "[encoded data removed]",
      "text/latex": [
       "$$l_{1}^{2} \\left(\\dot{q}_{1}\\right)^{2} + 2 l_{1} l_{2} \\operatorname{cos}\\left(q_{2}\\right) \\left(\\dot{q}_{1}\\right)^{2} + 2 l_{1} l_{2} \\operatorname{cos}\\left(q_{2}\\right) \\dot{q}_{1} \\dot{q}_{2} + l_{2}^{2} \\left(\\dot{q}_{1}\\right)^{2} + 2 l_{2}^{2} \\dot{q}_{1} \\dot{q}_{2} + l_{2}^{2} \\left(\\dot{q}_{2}\\right)^{2}$$"
      ],
      "text/plain": [
       "  2    2                      2                               2    2       2  \n",
       "l₁ ⋅q₁̇  + 2⋅l₁⋅l₂⋅cos(q₂)⋅q₁̇  + 2⋅l₁⋅l₂⋅cos(q₂)⋅q₁̇⋅q₂̇ + l₂ ⋅q₁̇  + 2⋅l₂ ⋅q\n",
       "\n",
       "           2    2\n",
       "₁̇⋅q₂̇ + l₂ ⋅q₂̇ "
      ]
     },
     "execution_count": 7,
     "metadata": {},
     "output_type": "execute_result"
    }
   ],
   "source": [
    "x2 = l1*cos(q1) + l2*cos(q1 + q2)\n",
    "y2 = l1*sin(q1) + l2*sin(q1 + q2)\n",
    "v2 = x2.diff(\"t\")**2 + y2.diff(\"t\")**2\n",
    "v2.trigsimp()"
   ]
  },
  {
   "cell_type": "code",
   "execution_count": 8,
   "metadata": {
    "collapsed": false
   },
   "outputs": [
    {
     "data": {
      "image/png": "[encoded data removed]",
      "text/latex": [
       "$$\\frac{m_{1}}{2} \\left(l_{1}^{2} \\operatorname{sin}^{2}\\left(q_{1}\\right) \\left(\\dot{q}_{1}\\right)^{2} + l_{1}^{2} \\operatorname{cos}^{2}\\left(q_{1}\\right) \\left(\\dot{q}_{1}\\right)^{2}\\right)$$"
      ],
      "text/plain": [
       "   ⎛  2    2        2     2    2        2⎞\n",
       "m₁⋅⎝l₁ ⋅sin (q₁)⋅q₁̇  + l₁ ⋅cos (q₁)⋅q₁̇ ⎠\n",
       "──────────────────────────────────────────\n",
       "                    2                     "
      ]
     },
     "execution_count": 8,
     "metadata": {},
     "output_type": "execute_result"
    }
   ],
   "source": [
    "K1 = Rational(1, 2)*m1*v1\n",
    "K1"
   ]
  },
  {
   "cell_type": "code",
   "execution_count": 9,
   "metadata": {
    "collapsed": false
   },
   "outputs": [
    {
     "data": {
      "image/png": "[encoded data removed]",
      "text/latex": [
       "$$\\frac{m_{1}}{2} \\left(\\left(- l_{1} \\operatorname{sin}\\left(q_{1}\\right) \\dot{q}_{1} - l_{2} \\left(\\dot{q}_{1} + \\dot{q}_{2}\\right) \\operatorname{sin}\\left(q_{1} + q_{2}\\right)\\right)^{2} + \\left(l_{1} \\operatorname{cos}\\left(q_{1}\\right) \\dot{q}_{1} + l_{2} \\left(\\dot{q}_{1} + \\dot{q}_{2}\\right) \\operatorname{cos}\\left(q_{1} + q_{2}\\right)\\right)^{2}\\right)$$"
      ],
      "text/plain": [
       "   ⎛                                               2                          \n",
       "m₁⋅⎝(-l₁⋅sin(q₁)⋅q₁̇ - l₂⋅(q₁̇ + q₂̇)⋅sin(q₁ + q₂))  + (l₁⋅cos(q₁)⋅q₁̇ + l₂⋅(q\n",
       "──────────────────────────────────────────────────────────────────────────────\n",
       "                                                   2                          \n",
       "\n",
       "                       2⎞\n",
       "₁̇ + q₂̇)⋅cos(q₁ + q₂)) ⎠\n",
       "─────────────────────────\n",
       "                         "
      ]
     },
     "execution_count": 9,
     "metadata": {},
     "output_type": "execute_result"
    }
   ],
   "source": [
    "K2 = Rational(1, 2)*m1*v2\n",
    "K2"
   ]
  },
  {
   "cell_type": "code",
   "execution_count": 10,
   "metadata": {
    "collapsed": false
   },
   "outputs": [
    {
     "data": {
      "image/png": "[encoded data removed]",
      "text/latex": [
       "$$g l_{1} m_{1} \\operatorname{sin}\\left(q_{1}\\right)$$"
      ],
      "text/plain": [
       "g⋅l₁⋅m₁⋅sin(q₁)"
      ]
     },
     "execution_count": 10,
     "metadata": {},
     "output_type": "execute_result"
    }
   ],
   "source": [
    "U1 = m1*g*y1\n",
    "U1"
   ]
  },
  {
   "cell_type": "code",
   "execution_count": 11,
   "metadata": {
    "collapsed": false
   },
   "outputs": [
    {
     "data": {
      "image/png": "[encoded data removed]",
      "text/latex": [
       "$$g m_{2} \\left(l_{1} \\operatorname{sin}\\left(q_{1}\\right) + l_{2} \\operatorname{sin}\\left(q_{1} + q_{2}\\right)\\right)$$"
      ],
      "text/plain": [
       "g⋅m₂⋅(l₁⋅sin(q₁) + l₂⋅sin(q₁ + q₂))"
      ]
     },
     "execution_count": 11,
     "metadata": {},
     "output_type": "execute_result"
    }
   ],
   "source": [
    "U2 = m2*g*y2\n",
    "U2"
   ]
  },
  {
   "cell_type": "code",
   "execution_count": 13,
   "metadata": {
    "collapsed": false
   },
   "outputs": [
    {
     "data": {
      "image/png": "[encoded data removed]",
      "text/latex": [
       "$$\\frac{m_{1}}{2} \\left(l_{1}^{2} \\operatorname{sin}^{2}\\left(q_{1}\\right) \\left(\\dot{q}_{1}\\right)^{2} + l_{1}^{2} \\operatorname{cos}^{2}\\left(q_{1}\\right) \\left(\\dot{q}_{1}\\right)^{2}\\right) + \\frac{m_{1}}{2} \\left(\\left(- l_{1} \\operatorname{sin}\\left(q_{1}\\right) \\dot{q}_{1} - l_{2} \\left(\\dot{q}_{1} + \\dot{q}_{2}\\right) \\operatorname{sin}\\left(q_{1} + q_{2}\\right)\\right)^{2} + \\left(l_{1} \\operatorname{cos}\\left(q_{1}\\right) \\dot{q}_{1} + l_{2} \\left(\\dot{q}_{1} + \\dot{q}_{2}\\right) \\operatorname{cos}\\left(q_{1} + q_{2}\\right)\\right)^{2}\\right)$$"
      ],
      "text/plain": [
       "   ⎛  2    2        2     2    2        2⎞      ⎛                             \n",
       "m₁⋅⎝l₁ ⋅sin (q₁)⋅q₁̇  + l₁ ⋅cos (q₁)⋅q₁̇ ⎠   m₁⋅⎝(-l₁⋅sin(q₁)⋅q₁̇ - l₂⋅(q₁̇ + \n",
       "────────────────────────────────────────── + ─────────────────────────────────\n",
       "                    2                                                         \n",
       "\n",
       "                  2                                                 2⎞\n",
       "q₂̇)⋅sin(q₁ + q₂))  + (l₁⋅cos(q₁)⋅q₁̇ + l₂⋅(q₁̇ + q₂̇)⋅cos(q₁ + q₂)) ⎠\n",
       "──────────────────────────────────────────────────────────────────────\n",
       "                  2                                                   "
      ]
     },
     "execution_count": 13,
     "metadata": {},
     "output_type": "execute_result"
    }
   ],
   "source": [
    "K = K1 + K2\n",
    "K"
   ]
  },
  {
   "cell_type": "code",
   "execution_count": 14,
   "metadata": {
    "collapsed": false
   },
   "outputs": [
    {
     "data": {
      "image/png": "[encoded data removed]",
      "text/latex": [
       "$$g l_{1} m_{1} \\operatorname{sin}\\left(q_{1}\\right) + g m_{2} \\left(l_{1} \\operatorname{sin}\\left(q_{1}\\right) + l_{2} \\operatorname{sin}\\left(q_{1} + q_{2}\\right)\\right)$$"
      ],
      "text/plain": [
       "g⋅l₁⋅m₁⋅sin(q₁) + g⋅m₂⋅(l₁⋅sin(q₁) + l₂⋅sin(q₁ + q₂))"
      ]
     },
     "execution_count": 14,
     "metadata": {},
     "output_type": "execute_result"
    }
   ],
   "source": [
    "U = U1 + U2\n",
    "U"
   ]
  },
  {
   "cell_type": "code",
   "execution_count": 15,
   "metadata": {
    "collapsed": false
   },
   "outputs": [
    {
     "data": {
      "image/png": "[encoded data removed]",
      "text/latex": [
       "$$- g l_{1} m_{1} \\operatorname{sin}\\left(q_{1}\\right) - g l_{1} m_{2} \\operatorname{sin}\\left(q_{1}\\right) - g l_{2} m_{2} \\operatorname{sin}\\left(q_{1} + q_{2}\\right) + l_{1}^{2} m_{1} \\left(\\dot{q}_{1}\\right)^{2} + l_{1} l_{2} m_{1} \\operatorname{cos}\\left(q_{2}\\right) \\left(\\dot{q}_{1}\\right)^{2} + l_{1} l_{2} m_{1} \\operatorname{cos}\\left(q_{2}\\right) \\dot{q}_{1} \\dot{q}_{2} + \\frac{l_{2}^{2} m_{1}}{2} \\left(\\dot{q}_{1}\\right)^{2} + l_{2}^{2} m_{1} \\dot{q}_{1} \\dot{q}_{2} + \\frac{l_{2}^{2} m_{1}}{2} \\left(\\dot{q}_{2}\\right)^{2}$$"
      ],
      "text/plain": [
       "                                                                              \n",
       "                                                              2       2       \n",
       "-g⋅l₁⋅m₁⋅sin(q₁) - g⋅l₁⋅m₂⋅sin(q₁) - g⋅l₂⋅m₂⋅sin(q₁ + q₂) + l₁ ⋅m₁⋅q₁̇  + l₁⋅l\n",
       "                                                                              \n",
       "\n",
       "                                                 2       2                    \n",
       "                2                              l₂ ⋅m₁⋅q₁̇      2              \n",
       "₂⋅m₁⋅cos(q₂)⋅q₁̇  + l₁⋅l₂⋅m₁⋅cos(q₂)⋅q₁̇⋅q₂̇ + ─────────── + l₂ ⋅m₁⋅q₁̇⋅q₂̇ + \n",
       "                                                    2                         \n",
       "\n",
       "  2       2\n",
       "l₂ ⋅m₁⋅q₂̇ \n",
       "───────────\n",
       "     2     "
      ]
     },
     "execution_count": 15,
     "metadata": {},
     "output_type": "execute_result"
    }
   ],
   "source": [
    "L = (K - U).expand().simplify()\n",
    "L"
   ]
  },
  {
   "cell_type": "code",
   "execution_count": 16,
   "metadata": {
    "collapsed": true
   },
   "outputs": [],
   "source": [
    "τ1 = (L.diff(q1.diff(t)).diff(t) - L.diff(q1)).simplify().expand().collect(q1.diff(t).diff(t)).collect(q2.diff(t).diff(t))"
   ]
  },
  {
   "cell_type": "code",
   "execution_count": 18,
   "metadata": {
    "collapsed": true
   },
   "outputs": [],
   "source": [
    "τ2 = (L.diff(q2.diff(t)).diff(t) - L.diff(q2)).simplify().expand().collect(q1.diff(t).diff(t)).collect(q2.diff(t).diff(t))"
   ]
  },
  {
   "cell_type": "code",
   "execution_count": 19,
   "metadata": {
    "collapsed": false
   },
   "outputs": [
    {
     "data": {
      "image/png": "[encoded data removed]",
      "text/latex": [
       "$$g l_{1} m_{1} \\operatorname{cos}\\left(q_{1}\\right) + g l_{1} m_{2} \\operatorname{cos}\\left(q_{1}\\right) + g l_{2} m_{2} \\operatorname{cos}\\left(q_{1} + q_{2}\\right) - 2 l_{1} l_{2} m_{1} \\operatorname{sin}\\left(q_{2}\\right) \\dot{q}_{1} \\dot{q}_{2} - l_{1} l_{2} m_{1} \\operatorname{sin}\\left(q_{2}\\right) \\left(\\dot{q}_{2}\\right)^{2} + \\left(l_{1} l_{2} m_{1} \\operatorname{cos}\\left(q_{2}\\right) + l_{2}^{2} m_{1}\\right) \\ddot{q}_{2} + \\left(2 l_{1}^{2} m_{1} + 2 l_{1} l_{2} m_{1} \\operatorname{cos}\\left(q_{2}\\right) + l_{2}^{2} m_{1}\\right) \\ddot{q}_{1}$$"
      ],
      "text/plain": [
       "                                                                              \n",
       "g⋅l₁⋅m₁⋅cos(q₁) + g⋅l₁⋅m₂⋅cos(q₁) + g⋅l₂⋅m₂⋅cos(q₁ + q₂) - 2⋅l₁⋅l₂⋅m₁⋅sin(q₂)⋅\n",
       "\n",
       "                              2   ⎛                     2   ⎞       ⎛    2    \n",
       "q₁̇⋅q₂̇ - l₁⋅l₂⋅m₁⋅sin(q₂)⋅q₂̇  + ⎝l₁⋅l₂⋅m₁⋅cos(q₂) + l₂ ⋅m₁⎠⋅q₂̈ + ⎝2⋅l₁ ⋅m₁ \n",
       "\n",
       "                         2   ⎞    \n",
       "+ 2⋅l₁⋅l₂⋅m₁⋅cos(q₂) + l₂ ⋅m₁⎠⋅q₁̈"
      ]
     },
     "execution_count": 19,
     "metadata": {},
     "output_type": "execute_result"
    }
   ],
   "source": [
    "τ1"
   ]
  },
  {
   "cell_type": "code",
   "execution_count": 20,
   "metadata": {
    "collapsed": false
   },
   "outputs": [
    {
     "data": {
      "image/png": "[encoded data removed]",
      "text/latex": [
       "$$g l_{2} m_{2} \\operatorname{cos}\\left(q_{1} + q_{2}\\right) + l_{1} l_{2} m_{1} \\operatorname{sin}\\left(q_{2}\\right) \\left(\\dot{q}_{1}\\right)^{2} + l_{2}^{2} m_{1} \\ddot{q}_{2} + \\left(l_{1} l_{2} m_{1} \\operatorname{cos}\\left(q_{2}\\right) + l_{2}^{2} m_{1}\\right) \\ddot{q}_{1}$$"
      ],
      "text/plain": [
       "                                           2     2          ⎛                 \n",
       "g⋅l₂⋅m₂⋅cos(q₁ + q₂) + l₁⋅l₂⋅m₁⋅sin(q₂)⋅q₁̇  + l₂ ⋅m₁⋅q₂̈ + ⎝l₁⋅l₂⋅m₁⋅cos(q₂) \n",
       "\n",
       "    2   ⎞    \n",
       "+ l₂ ⋅m₁⎠⋅q₁̈"
      ]
     },
     "execution_count": 20,
     "metadata": {},
     "output_type": "execute_result"
    }
   ],
   "source": [
    "τ2"
   ]
  },
  {
   "cell_type": "code",
   "execution_count": 21,
   "metadata": {
    "collapsed": true
   },
   "outputs": [],
   "source": [
    "from scipy.integrate import odeint\n",
    "from numpy import linspace"
   ]
  },
  {
   "cell_type": "code",
   "execution_count": 28,
   "metadata": {
    "collapsed": true
   },
   "outputs": [],
   "source": [
    "def pendulo_doble(estado, tiempo):\n",
    "    # Se importan funciones necesarias\n",
    "    from numpy import sin, cos, matrix\n",
    "    # Se desenvuelven variables del estado y tiempo\n",
    "    q1, q2, q̇1, q̇2 = estado\n",
    "    t = tiempo\n",
    "    \n",
    "    # Se declaran constantes del sistema\n",
    "    m1, m2 = 1, 1\n",
    "    l1, l2 = 1, 1\n",
    "    g = 9.81\n",
    "    \n",
    "    # Se declaran constantes del control\n",
    "    kp1, kp2 = -30, -60\n",
    "    kv1, kv2 = -20, -20\n",
    "    \n",
    "    # Señales de control nulas\n",
    "    tau1, tau2 = 0, 0\n",
    "    \n",
    "    # Posiciones a alcanzar\n",
    "    qd1, qd2 = 1, 1\n",
    "    \n",
    "    # Se declaran señales de control del sistema\n",
    "    #tau1 = kp1*(q1 - qd1) + kv1*q̇1\n",
    "    #tau2 = kp2*(q2 - qd2) + kv2*q̇2\n",
    "    \n",
    "    # Se calculan algunos terminos comunes\n",
    "    ϕ1 = m1*l1**2\n",
    "    ϕ2 = m1*l1*l2\n",
    "    ϕ3 = m1*l2**2\n",
    "    \n",
    "    # Se calculan las matrices de masas, Coriolis,\n",
    "    # y vectores de gravedad, control, posicion y velocidad\n",
    "    M = matrix([[2*ϕ1 + 2*ϕ2*cos(q2) + ϕ3, ϕ2*cos(q2) + ϕ3],\n",
    "                [ϕ2*cos(q2) + ϕ3, ϕ3]])\n",
    "    C = matrix([[-2*ϕ2*sin(q2)*q̇2, -ϕ2*sin(q2)*q̇2], [ϕ2*sin(q2)*q̇1, 0]])\n",
    "    G = matrix([[m1*l1*cos(q1) + m2*l1*cos(q1) + m2*l2*cos(q1 + q2)], [m2*l2*cos(q1 + q2)]])\n",
    "    Tau = matrix([[tau1], [tau2]])\n",
    "    q = matrix([[q1], [q2]])\n",
    "    q̇ = matrix([[q̇1], [q̇2]])\n",
    "    \n",
    "    # Se calcula la derivada del estado del sistema\n",
    "    qp1 = q̇1\n",
    "    qp2 = q̇2\n",
    "    \n",
    "    qpp = M.I*(Tau - C*q̇ - G)\n",
    "    qpp1, qpp2 = qpp.tolist()\n",
    "    \n",
    "    return [qp1, qp2, qpp1[0], qpp2[0]]"
   ]
  },
  {
   "cell_type": "code",
   "execution_count": 30,
   "metadata": {
    "collapsed": false
   },
   "outputs": [],
   "source": [
    "t = linspace(0, 10, 1000)\n",
    "estados_simulados = odeint(func = pendulo_doble, y0  = [0, 0, 0, 0], t = t)"
   ]
  },
  {
   "cell_type": "code",
   "execution_count": 31,
   "metadata": {
    "collapsed": true
   },
   "outputs": [],
   "source": [
    "q1, q2, q̇1, q̇2 = list(zip(*estados_simulados.tolist()))"
   ]
  },
  {
   "cell_type": "code",
   "execution_count": 32,
   "metadata": {
    "collapsed": true
   },
   "outputs": [],
   "source": [
    "%matplotlib notebook\n",
    "from matplotlib.pyplot import plot, style, figure\n",
    "from mpl_toolkits.mplot3d import Axes3D\n",
    "style.use(\"ggplot\")"
   ]
  },
  {
   "cell_type": "code",
   "execution_count": 40,
   "metadata": {
    "collapsed": false
   },
   "outputs": [
    {
     "data": {
      "application/javascript": [
       "/* Put everything inside the global mpl namespace */\n",
       "window.mpl = {};\n",
       "\n",
       "mpl.get_websocket_type = function() {\n",
       "    if (typeof(WebSocket) !== 'undefined') {\n",
       "        return WebSocket;\n",
       "    } else if (typeof(MozWebSocket) !== 'undefined') {\n",
       "        return MozWebSocket;\n",
       "    } else {\n",
       "        alert('Your browser does not have WebSocket support.' +\n",
       "              'Please try Chrome, Safari or Firefox ≥ 6. ' +\n",
       "              'Firefox 4 and 5 are also supported but you ' +\n",
       "              'have to enable WebSockets in about:config.');\n",
       "    };\n",
       "}\n",
       "\n",
       "mpl.figure = function(figure_id, websocket, ondownload, parent_element) {\n",
       "    this.id = figure_id;\n",
       "\n",
       "    this.ws = websocket;\n",
       "\n",
       "    this.supports_binary = (this.ws.binaryType != undefined);\n",
       "\n",
       "    if (!this.supports_binary) {\n",
       "        var warnings = document.getElementById(\"mpl-warnings\");\n",
       "        if (warnings) {\n",
       "            warnings.style.display = 'block';\n",
       "            warnings.textContent = (\n",
       "                \"This browser does not support binary websocket messages. \" +\n",
       "                    \"Performance may be slow.\");\n",
       "        }\n",
       "    }\n",
       "\n",
       "    this.imageObj = new Image();\n",
       "\n",
       "    this.context = undefined;\n",
       "    this.message = undefined;\n",
       "    this.canvas = undefined;\n",
       "    this.rubberband_canvas = undefined;\n",
       "    this.rubberband_context = undefined;\n",
       "    this.format_dropdown = undefined;\n",
       "\n",
       "    this.image_mode = 'full';\n",
       "\n",
       "    this.root = $('<div/>');\n",
       "    this._root_extra_style(this.root)\n",
       "    this.root.attr('style', 'display: inline-block');\n",
       "\n",
       "    $(parent_element).append(this.root);\n",
       "\n",
       "    this._init_header(this);\n",
       "    this._init_canvas(this);\n",
       "    this._init_toolbar(this);\n",
       "\n",
       "    var fig = this;\n",
       "\n",
       "    this.waiting = false;\n",
       "\n",
       "    this.ws.onopen =  function () {\n",
       "            fig.send_message(\"supports_binary\", {value: fig.supports_binary});\n",
       "            fig.send_message(\"send_image_mode\", {});\n",
       "            fig.send_message(\"refresh\", {});\n",
       "        }\n",
       "\n",
       "    this.imageObj.onload = function() {\n",
       "            if (fig.image_mode == 'full') {\n",
       "                // Full images could contain transparency (where diff images\n",
       "                // almost always do), so we need to clear the canvas so that\n",
       "                // there is no ghosting.\n",
       "                fig.context.clearRect(0, 0, fig.canvas.width, fig.canvas.height);\n",
       "            }\n",
       "            fig.context.drawImage(fig.imageObj, 0, 0);\n",
       "            fig.waiting = false;\n",
       "        };\n",
       "\n",
       "    this.imageObj.onunload = function() {\n",
       "        this.ws.close();\n",
       "    }\n",
       "\n",
       "    this.ws.onmessage = this._make_on_message_function(this);\n",
       "\n",
       "    this.ondownload = ondownload;\n",
       "}\n",
       "\n",
       "mpl.figure.prototype._init_header = function() {\n",
       "    var titlebar = $(\n",
       "        '<div class=\"ui-dialog-titlebar ui-widget-header ui-corner-all ' +\n",
       "        'ui-helper-clearfix\"/>');\n",
       "    var titletext = $(\n",
       "        '<div class=\"ui-dialog-title\" style=\"width: 100%; ' +\n",
       "        'text-align: center; padding: 3px;\"/>');\n",
       "    titlebar.append(titletext)\n",
       "    this.root.append(titlebar);\n",
       "    this.header = titletext[0];\n",
       "}\n",
       "\n",
       "\n",
       "\n",
       "mpl.figure.prototype._canvas_extra_style = function(canvas_div) {\n",
       "\n",
       "}\n",
       "\n",
       "\n",
       "mpl.figure.prototype._root_extra_style = function(canvas_div) {\n",
       "\n",
       "}\n",
       "\n",
       "mpl.figure.prototype._init_canvas = function() {\n",
       "    var fig = this;\n",
       "\n",
       "    var canvas_div = $('<div/>');\n",
       "\n",
       "    canvas_div.attr('style', 'position: relative; clear: both; outline: 0');\n",
       "\n",
       "    function canvas_keyboard_event(event) {\n",
       "        return fig.key_event(event, event['data']);\n",
       "    }\n",
       "\n",
       "    canvas_div.keydown('key_press', canvas_keyboard_event);\n",
       "    canvas_div.keyup('key_release', canvas_keyboard_event);\n",
       "    this.canvas_div = canvas_div\n",
       "    this._canvas_extra_style(canvas_div)\n",
       "    this.root.append(canvas_div);\n",
       "\n",
       "    var canvas = $('<canvas/>');\n",
       "    canvas.addClass('mpl-canvas');\n",
       "    canvas.attr('style', \"left: 0; top: 0; z-index: 0; outline: 0\")\n",
       "\n",
       "    this.canvas = canvas[0];\n",
       "    this.context = canvas[0].getContext(\"2d\");\n",
       "\n",
       "    var rubberband = $('<canvas/>');\n",
       "    rubberband.attr('style', \"position: absolute; left: 0; top: 0; z-index: 1;\")\n",
       "\n",
       "    var pass_mouse_events = true;\n",
       "\n",
       "    canvas_div.resizable({\n",
       "        start: function(event, ui) {\n",
       "            pass_mouse_events = false;\n",
       "        },\n",
       "        resize: function(event, ui) {\n",
       "            fig.request_resize(ui.size.width, ui.size.height);\n",
       "        },\n",
       "        stop: function(event, ui) {\n",
       "            pass_mouse_events = true;\n",
       "            fig.request_resize(ui.size.width, ui.size.height);\n",
       "        },\n",
       "    });\n",
       "\n",
       "    function mouse_event_fn(event) {\n",
       "        if (pass_mouse_events)\n",
       "            return fig.mouse_event(event, event['data']);\n",
       "    }\n",
       "\n",
       "    rubberband.mousedown('button_press', mouse_event_fn);\n",
       "    rubberband.mouseup('button_release', mouse_event_fn);\n",
       "    // Throttle sequential mouse events to 1 every 20ms.\n",
       "    rubberband.mousemove('motion_notify', mouse_event_fn);\n",
       "\n",
       "    rubberband.mouseenter('figure_enter', mouse_event_fn);\n",
       "    rubberband.mouseleave('figure_leave', mouse_event_fn);\n",
       "\n",
       "    canvas_div.on(\"wheel\", function (event) {\n",
       "        event = event.originalEvent;\n",
       "        event['data'] = 'scroll'\n",
       "        if (event.deltaY < 0) {\n",
       "            event.step = 1;\n",
       "        } else {\n",
       "            event.step = -1;\n",
       "        }\n",
       "        mouse_event_fn(event);\n",
       "    });\n",
       "\n",
       "    canvas_div.append(canvas);\n",
       "    canvas_div.append(rubberband);\n",
       "\n",
       "    this.rubberband = rubberband;\n",
       "    this.rubberband_canvas = rubberband[0];\n",
       "    this.rubberband_context = rubberband[0].getContext(\"2d\");\n",
       "    this.rubberband_context.strokeStyle = \"#000000\";\n",
       "\n",
       "    this._resize_canvas = function(width, height) {\n",
       "        // Keep the size of the canvas, canvas container, and rubber band\n",
       "        // canvas in synch.\n",
       "        canvas_div.css('width', width)\n",
       "        canvas_div.css('height', height)\n",
       "\n",
       "        canvas.attr('width', width);\n",
       "        canvas.attr('height', height);\n",
       "\n",
       "        rubberband.attr('width', width);\n",
       "        rubberband.attr('height', height);\n",
       "    }\n",
       "\n",
       "    // Set the figure to an initial 600x600px, this will subsequently be updated\n",
       "    // upon first draw.\n",
       "    this._resize_canvas(600, 600);\n",
       "\n",
       "    // Disable right mouse context menu.\n",
       "    $(this.rubberband_canvas).bind(\"contextmenu\",function(e){\n",
       "        return false;\n",
       "    });\n",
       "\n",
       "    function set_focus () {\n",
       "        canvas.focus();\n",
       "        canvas_div.focus();\n",
       "    }\n",
       "\n",
       "    window.setTimeout(set_focus, 100);\n",
       "}\n",
       "\n",
       "mpl.figure.prototype._init_toolbar = function() {\n",
       "    var fig = this;\n",
       "\n",
       "    var nav_element = $('<div/>')\n",
       "    nav_element.attr('style', 'width: 100%');\n",
       "    this.root.append(nav_element);\n",
       "\n",
       "    // Define a callback function for later on.\n",
       "    function toolbar_event(event) {\n",
       "        return fig.toolbar_button_onclick(event['data']);\n",
       "    }\n",
       "    function toolbar_mouse_event(event) {\n",
       "        return fig.toolbar_button_onmouseover(event['data']);\n",
       "    }\n",
       "\n",
       "    for(var toolbar_ind in mpl.toolbar_items) {\n",
       "        var name = mpl.toolbar_items[toolbar_ind][0];\n",
       "        var tooltip = mpl.toolbar_items[toolbar_ind][1];\n",
       "        var image = mpl.toolbar_items[toolbar_ind][2];\n",
       "        var method_name = mpl.toolbar_items[toolbar_ind][3];\n",
       "\n",
       "        if (!name) {\n",
       "            // put a spacer in here.\n",
       "            continue;\n",
       "        }\n",
       "        var button = $('<button/>');\n",
       "        button.addClass('ui-button ui-widget ui-state-default ui-corner-all ' +\n",
       "                        'ui-button-icon-only');\n",
       "        button.attr('role', 'button');\n",
       "        button.attr('aria-disabled', 'false');\n",
       "        button.click(method_name, toolbar_event);\n",
       "        button.mouseover(tooltip, toolbar_mouse_event);\n",
       "\n",
       "        var icon_img = $('<span/>');\n",
       "        icon_img.addClass('ui-button-icon-primary ui-icon');\n",
       "        icon_img.addClass(image);\n",
       "        icon_img.addClass('ui-corner-all');\n",
       "\n",
       "        var tooltip_span = $('<span/>');\n",
       "        tooltip_span.addClass('ui-button-text');\n",
       "        tooltip_span.html(tooltip);\n",
       "\n",
       "        button.append(icon_img);\n",
       "        button.append(tooltip_span);\n",
       "\n",
       "        nav_element.append(button);\n",
       "    }\n",
       "\n",
       "    var fmt_picker_span = $('<span/>');\n",
       "\n",
       "    var fmt_picker = $('<select/>');\n",
       "    fmt_picker.addClass('mpl-toolbar-option ui-widget ui-widget-content');\n",
       "    fmt_picker_span.append(fmt_picker);\n",
       "    nav_element.append(fmt_picker_span);\n",
       "    this.format_dropdown = fmt_picker[0];\n",
       "\n",
       "    for (var ind in mpl.extensions) {\n",
       "        var fmt = mpl.extensions[ind];\n",
       "        var option = $(\n",
       "            '<option/>', {selected: fmt === mpl.default_extension}).html(fmt);\n",
       "        fmt_picker.append(option)\n",
       "    }\n",
       "\n",
       "    // Add hover states to the ui-buttons\n",
       "    $( \".ui-button\" ).hover(\n",
       "        function() { $(this).addClass(\"ui-state-hover\");},\n",
       "        function() { $(this).removeClass(\"ui-state-hover\");}\n",
       "    );\n",
       "\n",
       "    var status_bar = $('<span class=\"mpl-message\"/>');\n",
       "    nav_element.append(status_bar);\n",
       "    this.message = status_bar[0];\n",
       "}\n",
       "\n",
       "mpl.figure.prototype.request_resize = function(x_pixels, y_pixels) {\n",
       "    // Request matplotlib to resize the figure. Matplotlib will then trigger a resize in the client,\n",
       "    // which will in turn request a refresh of the image.\n",
       "    this.send_message('resize', {'width': x_pixels, 'height': y_pixels});\n",
       "}\n",
       "\n",
       "mpl.figure.prototype.send_message = function(type, properties) {\n",
       "    properties['type'] = type;\n",
       "    properties['figure_id'] = this.id;\n",
       "    this.ws.send(JSON.stringify(properties));\n",
       "}\n",
       "\n",
       "mpl.figure.prototype.send_draw_message = function() {\n",
       "    if (!this.waiting) {\n",
       "        this.waiting = true;\n",
       "        this.ws.send(JSON.stringify({type: \"draw\", figure_id: this.id}));\n",
       "    }\n",
       "}\n",
       "\n",
       "\n",
       "mpl.figure.prototype.handle_save = function(fig, msg) {\n",
       "    var format_dropdown = fig.format_dropdown;\n",
       "    var format = format_dropdown.options[format_dropdown.selectedIndex].value;\n",
       "    fig.ondownload(fig, format);\n",
       "}\n",
       "\n",
       "\n",
       "mpl.figure.prototype.handle_resize = function(fig, msg) {\n",
       "    var size = msg['size'];\n",
       "    if (size[0] != fig.canvas.width || size[1] != fig.canvas.height) {\n",
       "        fig._resize_canvas(size[0], size[1]);\n",
       "        fig.send_message(\"refresh\", {});\n",
       "    };\n",
       "}\n",
       "\n",
       "mpl.figure.prototype.handle_rubberband = function(fig, msg) {\n",
       "    var x0 = msg['x0'];\n",
       "    var y0 = fig.canvas.height - msg['y0'];\n",
       "    var x1 = msg['x1'];\n",
       "    var y1 = fig.canvas.height - msg['y1'];\n",
       "    x0 = Math.floor(x0) + 0.5;\n",
       "    y0 = Math.floor(y0) + 0.5;\n",
       "    x1 = Math.floor(x1) + 0.5;\n",
       "    y1 = Math.floor(y1) + 0.5;\n",
       "    var min_x = Math.min(x0, x1);\n",
       "    var min_y = Math.min(y0, y1);\n",
       "    var width = Math.abs(x1 - x0);\n",
       "    var height = Math.abs(y1 - y0);\n",
       "\n",
       "    fig.rubberband_context.clearRect(\n",
       "        0, 0, fig.canvas.width, fig.canvas.height);\n",
       "\n",
       "    fig.rubberband_context.strokeRect(min_x, min_y, width, height);\n",
       "}\n",
       "\n",
       "mpl.figure.prototype.handle_figure_label = function(fig, msg) {\n",
       "    // Updates the figure title.\n",
       "    fig.header.textContent = msg['label'];\n",
       "}\n",
       "\n",
       "mpl.figure.prototype.handle_cursor = function(fig, msg) {\n",
       "    var cursor = msg['cursor'];\n",
       "    switch(cursor)\n",
       "    {\n",
       "    case 0:\n",
       "        cursor = 'pointer';\n",
       "        break;\n",
       "    case 1:\n",
       "        cursor = 'default';\n",
       "        break;\n",
       "    case 2:\n",
       "        cursor = 'crosshair';\n",
       "        break;\n",
       "    case 3:\n",
       "        cursor = 'move';\n",
       "        break;\n",
       "    }\n",
       "    fig.rubberband_canvas.style.cursor = cursor;\n",
       "}\n",
       "\n",
       "mpl.figure.prototype.handle_message = function(fig, msg) {\n",
       "    fig.message.textContent = msg['message'];\n",
       "}\n",
       "\n",
       "mpl.figure.prototype.handle_draw = function(fig, msg) {\n",
       "    // Request the server to send over a new figure.\n",
       "    fig.send_draw_message();\n",
       "}\n",
       "\n",
       "mpl.figure.prototype.handle_image_mode = function(fig, msg) {\n",
       "    fig.image_mode = msg['mode'];\n",
       "}\n",
       "\n",
       "mpl.figure.prototype.updated_canvas_event = function() {\n",
       "    // Called whenever the canvas gets updated.\n",
       "    this.send_message(\"ack\", {});\n",
       "}\n",
       "\n",
       "// A function to construct a web socket function for onmessage handling.\n",
       "// Called in the figure constructor.\n",
       "mpl.figure.prototype._make_on_message_function = function(fig) {\n",
       "    return function socket_on_message(evt) {\n",
       "        if (evt.data instanceof Blob) {\n",
       "            /* FIXME: We get \"Resource interpreted as Image but\n",
       "             * transferred with MIME type text/plain:\" errors on\n",
       "             * Chrome.  But how to set the MIME type?  It doesn't seem\n",
       "             * to be part of the websocket stream */\n",
       "            evt.data.type = \"image/png\";\n",
       "\n",
       "            /* Free the memory for the previous frames */\n",
       "            if (fig.imageObj.src) {\n",
       "                (window.URL || window.webkitURL).revokeObjectURL(\n",
       "                    fig.imageObj.src);\n",
       "            }\n",
       "\n",
       "            fig.imageObj.src = (window.URL || window.webkitURL).createObjectURL(\n",
       "                evt.data);\n",
       "            fig.updated_canvas_event();\n",
       "            return;\n",
       "        }\n",
       "        else if (typeof evt.data === 'string' && evt.data.slice(0, 21) == \"data:image/png;base64\") {\n",
       "            fig.imageObj.src = evt.data;\n",
       "            fig.updated_canvas_event();\n",
       "            return;\n",
       "        }\n",
       "\n",
       "        var msg = JSON.parse(evt.data);\n",
       "        var msg_type = msg['type'];\n",
       "\n",
       "        // Call the  \"handle_{type}\" callback, which takes\n",
       "        // the figure and JSON message as its only arguments.\n",
       "        try {\n",
       "            var callback = fig[\"handle_\" + msg_type];\n",
       "        } catch (e) {\n",
       "            console.log(\"No handler for the '\" + msg_type + \"' message type: \", msg);\n",
       "            return;\n",
       "        }\n",
       "\n",
       "        if (callback) {\n",
       "            try {\n",
       "                // console.log(\"Handling '\" + msg_type + \"' message: \", msg);\n",
       "                callback(fig, msg);\n",
       "            } catch (e) {\n",
       "                console.log(\"Exception inside the 'handler_\" + msg_type + \"' callback:\", e, e.stack, msg);\n",
       "            }\n",
       "        }\n",
       "    };\n",
       "}\n",
       "\n",
       "// from http://stackoverflow.com/questions/1114465/getting-mouse-location-in-canvas\n",
       "mpl.findpos = function(e) {\n",
       "    //this section is from http://www.quirksmode.org/js/events_properties.html\n",
       "    var targ;\n",
       "    if (!e)\n",
       "        e = window.event;\n",
       "    if (e.target)\n",
       "        targ = e.target;\n",
       "    else if (e.srcElement)\n",
       "        targ = e.srcElement;\n",
       "    if (targ.nodeType == 3) // defeat Safari bug\n",
       "        targ = targ.parentNode;\n",
       "\n",
       "    // jQuery normalizes the pageX and pageY\n",
       "    // pageX,Y are the mouse positions relative to the document\n",
       "    // offset() returns the position of the element relative to the document\n",
       "    var x = e.pageX - $(targ).offset().left;\n",
       "    var y = e.pageY - $(targ).offset().top;\n",
       "\n",
       "    return {\"x\": x, \"y\": y};\n",
       "};\n",
       "\n",
       "mpl.figure.prototype.mouse_event = function(event, name) {\n",
       "    var canvas_pos = mpl.findpos(event)\n",
       "\n",
       "    if (name === 'button_press')\n",
       "    {\n",
       "        this.canvas.focus();\n",
       "        this.canvas_div.focus();\n",
       "    }\n",
       "\n",
       "    var x = canvas_pos.x;\n",
       "    var y = canvas_pos.y;\n",
       "\n",
       "    this.send_message(name, {x: x, y: y, button: event.button,\n",
       "                             step: event.step});\n",
       "\n",
       "    /* This prevents the web browser from automatically changing to\n",
       "     * the text insertion cursor when the button is pressed.  We want\n",
       "     * to control all of the cursor setting manually through the\n",
       "     * 'cursor' event from matplotlib */\n",
       "    event.preventDefault();\n",
       "    return false;\n",
       "}\n",
       "\n",
       "mpl.figure.prototype._key_event_extra = function(event, name) {\n",
       "    // Handle any extra behaviour associated with a key event\n",
       "}\n",
       "\n",
       "mpl.figure.prototype.key_event = function(event, name) {\n",
       "\n",
       "    // Prevent repeat events\n",
       "    if (name == 'key_press')\n",
       "    {\n",
       "        if (event.which === this._key)\n",
       "            return;\n",
       "        else\n",
       "            this._key = event.which;\n",
       "    }\n",
       "    if (name == 'key_release')\n",
       "        this._key = null;\n",
       "\n",
       "    var value = '';\n",
       "    if (event.ctrlKey && event.which != 17)\n",
       "        value += \"ctrl+\";\n",
       "    if (event.altKey && event.which != 18)\n",
       "        value += \"alt+\";\n",
       "    if (event.shiftKey && event.which != 16)\n",
       "        value += \"shift+\";\n",
       "\n",
       "    value += 'k';\n",
       "    value += event.which.toString();\n",
       "\n",
       "    this._key_event_extra(event, name);\n",
       "\n",
       "    this.send_message(name, {key: value});\n",
       "    return false;\n",
       "}\n",
       "\n",
       "mpl.figure.prototype.toolbar_button_onclick = function(name) {\n",
       "    if (name == 'download') {\n",
       "        this.handle_save(this, null);\n",
       "    } else {\n",
       "        this.send_message(\"toolbar_button\", {name: name});\n",
       "    }\n",
       "};\n",
       "\n",
       "mpl.figure.prototype.toolbar_button_onmouseover = function(tooltip) {\n",
       "    this.message.textContent = tooltip;\n",
       "};\n",
       "mpl.toolbar_items = [[\"Home\", \"Reset original view\", \"fa fa-home icon-home\", \"home\"], [\"Back\", \"Back to  previous view\", \"fa fa-arrow-left icon-arrow-left\", \"back\"], [\"Forward\", \"Forward to next view\", \"fa fa-arrow-right icon-arrow-right\", \"forward\"], [\"\", \"\", \"\", \"\"], [\"Pan\", \"Pan axes with left mouse, zoom with right\", \"fa fa-arrows icon-move\", \"pan\"], [\"Zoom\", \"Zoom to rectangle\", \"fa fa-square-o icon-check-empty\", \"zoom\"], [\"\", \"\", \"\", \"\"], [\"Download\", \"Download plot\", \"fa fa-floppy-o icon-save\", \"download\"]];\n",
       "\n",
       "mpl.extensions = [\"eps\", \"jpeg\", \"pdf\", \"png\", \"ps\", \"raw\", \"svg\", \"tif\"];\n",
       "\n",
       "mpl.default_extension = \"png\";var comm_websocket_adapter = function(comm) {\n",
       "    // Create a \"websocket\"-like object which calls the given IPython comm\n",
       "    // object with the appropriate methods. Currently this is a non binary\n",
       "    // socket, so there is still some room for performance tuning.\n",
       "    var ws = {};\n",
       "\n",
       "    ws.close = function() {\n",
       "        comm.close()\n",
       "    };\n",
       "    ws.send = function(m) {\n",
       "        //console.log('sending', m);\n",
       "        comm.send(m);\n",
       "    };\n",
       "    // Register the callback with on_msg.\n",
       "    comm.on_msg(function(msg) {\n",
       "        //console.log('receiving', msg['content']['data'], msg);\n",
       "        // Pass the mpl event to the overriden (by mpl) onmessage function.\n",
       "        ws.onmessage(msg['content']['data'])\n",
       "    });\n",
       "    return ws;\n",
       "}\n",
       "\n",
       "mpl.mpl_figure_comm = function(comm, msg) {\n",
       "    // This is the function which gets called when the mpl process\n",
       "    // starts-up an IPython Comm through the \"matplotlib\" channel.\n",
       "\n",
       "    var id = msg.content.data.id;\n",
       "    // Get hold of the div created by the display call when the Comm\n",
       "    // socket was opened in Python.\n",
       "    var element = $(\"#\" + id);\n",
       "    var ws_proxy = comm_websocket_adapter(comm)\n",
       "\n",
       "    function ondownload(figure, format) {\n",
       "        window.open(figure.imageObj.src);\n",
       "    }\n",
       "\n",
       "    var fig = new mpl.figure(id, ws_proxy,\n",
       "                           ondownload,\n",
       "                           element.get(0));\n",
       "\n",
       "    // Call onopen now - mpl needs it, as it is assuming we've passed it a real\n",
       "    // web socket which is closed, not our websocket->open comm proxy.\n",
       "    ws_proxy.onopen();\n",
       "\n",
       "    fig.parent_element = element.get(0);\n",
       "    fig.cell_info = mpl.find_output_cell(\"<div id='\" + id + \"'></div>\");\n",
       "    if (!fig.cell_info) {\n",
       "        console.error(\"Failed to find cell for figure\", id, fig);\n",
       "        return;\n",
       "    }\n",
       "\n",
       "    var output_index = fig.cell_info[2]\n",
       "    var cell = fig.cell_info[0];\n",
       "\n",
       "};\n",
       "\n",
       "mpl.figure.prototype.handle_close = function(fig, msg) {\n",
       "    // Update the output cell to use the data from the current canvas.\n",
       "    fig.push_to_output();\n",
       "    var dataURL = fig.canvas.toDataURL();\n",
       "    // Re-enable the keyboard manager in IPython - without this line, in FF,\n",
       "    // the notebook keyboard shortcuts fail.\n",
       "    IPython.keyboard_manager.enable()\n",
       "    $(fig.parent_element).html('<img src=\"' + dataURL + '\">');\n",
       "    fig.send_message('closing', {});\n",
       "    fig.ws.close()\n",
       "}\n",
       "\n",
       "mpl.figure.prototype.push_to_output = function(remove_interactive) {\n",
       "    // Turn the data on the canvas into data in the output cell.\n",
       "    var dataURL = this.canvas.toDataURL();\n",
       "    this.cell_info[1]['text/html'] = '<img src=\"' + dataURL + '\">';\n",
       "}\n",
       "\n",
       "mpl.figure.prototype.updated_canvas_event = function() {\n",
       "    // Tell IPython that the notebook contents must change.\n",
       "    IPython.notebook.set_dirty(true);\n",
       "    this.send_message(\"ack\", {});\n",
       "    var fig = this;\n",
       "    // Wait a second, then push the new image to the DOM so\n",
       "    // that it is saved nicely (might be nice to debounce this).\n",
       "    setTimeout(function () { fig.push_to_output() }, 1000);\n",
       "}\n",
       "\n",
       "mpl.figure.prototype._init_toolbar = function() {\n",
       "    var fig = this;\n",
       "\n",
       "    var nav_element = $('<div/>')\n",
       "    nav_element.attr('style', 'width: 100%');\n",
       "    this.root.append(nav_element);\n",
       "\n",
       "    // Define a callback function for later on.\n",
       "    function toolbar_event(event) {\n",
       "        return fig.toolbar_button_onclick(event['data']);\n",
       "    }\n",
       "    function toolbar_mouse_event(event) {\n",
       "        return fig.toolbar_button_onmouseover(event['data']);\n",
       "    }\n",
       "\n",
       "    for(var toolbar_ind in mpl.toolbar_items){\n",
       "        var name = mpl.toolbar_items[toolbar_ind][0];\n",
       "        var tooltip = mpl.toolbar_items[toolbar_ind][1];\n",
       "        var image = mpl.toolbar_items[toolbar_ind][2];\n",
       "        var method_name = mpl.toolbar_items[toolbar_ind][3];\n",
       "\n",
       "        if (!name) { continue; };\n",
       "\n",
       "        var button = $('<button class=\"btn btn-default\" href=\"#\" title=\"' + name + '\"><i class=\"fa ' + image + ' fa-lg\"></i></button>');\n",
       "        button.click(method_name, toolbar_event);\n",
       "        button.mouseover(tooltip, toolbar_mouse_event);\n",
       "        nav_element.append(button);\n",
       "    }\n",
       "\n",
       "    // Add the status bar.\n",
       "    var status_bar = $('<span class=\"mpl-message\" style=\"text-align:right; float: right;\"/>');\n",
       "    nav_element.append(status_bar);\n",
       "    this.message = status_bar[0];\n",
       "\n",
       "    // Add the close button to the window.\n",
       "    var buttongrp = $('<div class=\"btn-group inline pull-right\"></div>');\n",
       "    var button = $('<button class=\"btn btn-mini btn-danger\" href=\"#\" title=\"Close figure\"><i class=\"fa fa-times icon-remove icon-large\"></i></button>');\n",
       "    button.click(function (evt) { fig.handle_close(fig, {}); } );\n",
       "    button.mouseover('Close figure', toolbar_mouse_event);\n",
       "    buttongrp.append(button);\n",
       "    var titlebar = this.root.find($('.ui-dialog-titlebar'));\n",
       "    titlebar.prepend(buttongrp);\n",
       "}\n",
       "\n",
       "\n",
       "mpl.figure.prototype._canvas_extra_style = function(el){\n",
       "    // this is important to make the div 'focusable\n",
       "    el.attr('tabindex', 0)\n",
       "    // reach out to IPython and tell the keyboard manager to turn it's self\n",
       "    // off when our div gets focus\n",
       "\n",
       "    // location in version 3\n",
       "    if (IPython.notebook.keyboard_manager) {\n",
       "        IPython.notebook.keyboard_manager.register_events(el);\n",
       "    }\n",
       "    else {\n",
       "        // location in version 2\n",
       "        IPython.keyboard_manager.register_events(el);\n",
       "    }\n",
       "\n",
       "}\n",
       "\n",
       "mpl.figure.prototype._key_event_extra = function(event, name) {\n",
       "    var manager = IPython.notebook.keyboard_manager;\n",
       "    if (!manager)\n",
       "        manager = IPython.keyboard_manager;\n",
       "\n",
       "    // Check for shift+enter\n",
       "    if (event.shiftKey && event.which == 13) {\n",
       "        this.canvas_div.blur();\n",
       "        event.shiftKey = false;\n",
       "        // Send a \"J\" for go to next cell\n",
       "        event.which = 74;\n",
       "        event.keyCode = 74;\n",
       "        manager.command_mode();\n",
       "        manager.handle_keydown(event);\n",
       "    }\n",
       "}\n",
       "\n",
       "mpl.figure.prototype.handle_save = function(fig, msg) {\n",
       "    fig.ondownload(fig, null);\n",
       "}\n",
       "\n",
       "\n",
       "mpl.find_output_cell = function(html_output) {\n",
       "    // Return the cell and output element which can be found *uniquely* in the notebook.\n",
       "    // Note - this is a bit hacky, but it is done because the \"notebook_saving.Notebook\"\n",
       "    // IPython event is triggered only after the cells have been serialised, which for\n",
       "    // our purposes (turning an active figure into a static one), is too late.\n",
       "    var cells = IPython.notebook.get_cells();\n",
       "    var ncells = cells.length;\n",
       "    for (var i=0; i<ncells; i++) {\n",
       "        var cell = cells[i];\n",
       "        if (cell.cell_type === 'code'){\n",
       "            for (var j=0; j<cell.output_area.outputs.length; j++) {\n",
       "                var data = cell.output_area.outputs[j];\n",
       "                if (data.data) {\n",
       "                    // IPython >= 3 moved mimebundle to data attribute of output\n",
       "                    data = data.data;\n",
       "                }\n",
       "                if (data['text/html'] == html_output) {\n",
       "                    return [cell, data, j];\n",
       "                }\n",
       "            }\n",
       "        }\n",
       "    }\n",
       "}\n",
       "\n",
       "// Register the function which deals with the matplotlib target/channel.\n",
       "// The kernel may be null if the page has been refreshed.\n",
       "if (IPython.notebook.kernel != null) {\n",
       "    IPython.notebook.kernel.comm_manager.register_target('matplotlib', mpl.mpl_figure_comm);\n",
       "}\n"
      ],
      "text/plain": [
       "<IPython.core.display.Javascript object>"
      ]
     },
     "metadata": {},
     "output_type": "display_data"
    },
    {
     "data": {
      "text/html": [
       "<img src=\"data:image/png;base64,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\">"
      ],
      "text/plain": [
       "<IPython.core.display.HTML object>"
      ]
     },
     "metadata": {},
     "output_type": "display_data"
    }
   ],
   "source": [
    "fig1 = figure(figsize=(8, 8))\n",
    "\n",
    "ax1 = fig1.gca()\n",
    "\n",
    "p1, = ax1.plot(t, q1)\n",
    "p2, = ax1.plot(t, q2)\n",
    "ax1.legend([p1, p2],[r\"$q_1$\", r\"$q_2$\"])\n",
    "ax1.set_ylim(-4, 4)\n",
    "ax1.set_xlim(-0.1, 10);"
   ]
  },
  {
   "cell_type": "code",
   "execution_count": null,
   "metadata": {
    "collapsed": true
   },
   "outputs": [],
   "source": []
  }
 ],
 "metadata": {
  "kernelspec": {
   "display_name": "Python 3",
   "language": "python",
   "name": "python3"
  },
  "language_info": {
   "codemirror_mode": {
    "name": "ipython",
    "version": 3
   },
   "file_extension": ".py",
   "mimetype": "text/x-python",
   "name": "python",
   "nbconvert_exporter": "python",
   "pygments_lexer": "ipython3",
   "version": "3.4.3"
  }
 },
 "nbformat": 4,
 "nbformat_minor": 0
}
