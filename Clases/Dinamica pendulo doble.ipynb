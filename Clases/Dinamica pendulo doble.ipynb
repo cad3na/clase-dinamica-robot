{
 "cells": [
  {
   "cell_type": "code",
   "execution_count": 1,
   "metadata": {
    "collapsed": false
   },
   "outputs": [
    {
     "data": {
      "text/html": [
       "<link href='http://fonts.googleapis.com/css?family=EB+Garamond' rel='stylesheet' type='text/css'>\n",
       "<link href='http://fonts.googleapis.com/css?family=Lato:100,100italic' rel='stylesheet' type='text/css'>\n",
       "<link rel=\"stylesheet\" href=\"//cdn.jsdelivr.net/font-hack/2.013/css/hack-extended.min.css\">\n",
       "\n",
       "<style>\n",
       "\t@font-face{\n",
       "   \t\tfont-family: \"Computer Modern\";\n",
       "        \tsrc: url('http://mirrors.ctan.org/fonts/cm-unicode/fonts/otf/cmunss.otf');}\n",
       "        \n",
       "        div.cell{\n",
       "\t        max-width:    800px;\n",
       "\t        margin-left:  auto;\n",
       "\t        margin-right: auto;}\n",
       "        \n",
       "\th1 {\n",
       "        \tfont-family: 'Lato', sans-serif;}\n",
       "        \n",
       "\th2 {\n",
       "        \tfont-family: 'Lato', serif;}\n",
       "        \n",
       "\th3{\n",
       "\t\tfont-family:   'Lato', serif;\n",
       "        \tmargin-top:    12px;\n",
       "\t\tmargin-bottom: 3px;}\n",
       "        \n",
       "        h4{\n",
       "\t\tfont-family: 'Lato', serif;}\n",
       "\t\n",
       "\th5 {\n",
       "        \tfont-family: 'Lato', serif;}\n",
       "    \n",
       "\tdiv.text_cell_render{\n",
       "        \tfont-family:  'EB Garamond', 'Computer Modern', 'Helvetica Neue', Arial, Helvetica, Geneva, sans-serif;\n",
       "\t        line-height:  140%;\n",
       "\t        font-size:    14pt;\n",
       "\t\tmax-width:    650px;\n",
       "\t\tmargin-left:  auto;\n",
       "        \tmargin-right: auto;}\n",
       "        \n",
       "\t.CodeMirror{\n",
       "        \tfont-family: 'Inconsolata', monospace;}\n",
       "    \n",
       "\t.text_cell_render h1 {\n",
       "\t        font-weight:   100;\n",
       "\t        font-size:     48pt;\n",
       "\t\tline-height:   100%;\n",
       "\t        color:         #CD2305;\n",
       "\t        margin-bottom: 0.5em;\n",
       "\t        margin-top:    0.5em;\n",
       "\t        display:       block;}\n",
       "        \n",
       "\t.text_cell_render h2 {\n",
       "        \tfont-weight:   100;\n",
       "        \tfont-size:     36pt;}\n",
       "        \n",
       "\t.text_cell_render h3 {\n",
       "        \tfont-weight:   100;\n",
       "        \tfont-size:     21pt;}\n",
       "        \n",
       "\t.text_cell_render h4 {\n",
       "        \tfont-weight:   100;\n",
       "        \tfont-size:     18pt;}\n",
       "        \n",
       "\t.text_cell_render h5 {\n",
       "\t        font-weight:   100;\n",
       "\t        font-size:     16pt;\n",
       "\t        color:         #CD2305;\n",
       "\t        font-style:    italic;\n",
       "\t        margin-bottom: 0.5em;\n",
       "\t        margin-top:    0.5em;\n",
       "\t        display:       block;}\n",
       "        \n",
       "\t.text_cell_render h6 {\n",
       "\t        font-weight:   100;\n",
       "\t        font-size:     14pt;\n",
       "\t        color:         #CD2305;\n",
       "\t        font-style:    italic;\n",
       "\t        margin-bottom: 0.5em;\n",
       "\t        margin-top:    0.5em;\n",
       "\t        display:       block;}\n",
       "    \n",
       "\t.warning{\n",
       "\t    \tbackground-color: #FFFFE0;\n",
       "\t    \tborder-color: #FFCC99;\n",
       "\t    \tborder-left: 5px solid #FFCC99;\n",
       "\t    \tpadding: 0.5em;}\n",
       "\t    \t\n",
       "\t.error{\n",
       "\t    \tbackground-color: #fcf2f2;\n",
       "\t    \tborder-color: #dFb5b4;\n",
       "\t    \tborder-left: 5px solid #dfb5b4;\n",
       "\t    \tpadding: 0.5em;}\n",
       "\t    \t\n",
       "</style>\n",
       "\n",
       "<script>\n",
       "\tMathJax.Hub.Config({\n",
       "        \tTeX:{extensions: [\"AMSmath.js\"]},\n",
       "\n",
       "        \tjax: [\"input/TeX\",\"output/SVG\"],\n",
       "        \tSVG: {\n",
       "        \t\tscale: 120,\n",
       "        \t\tfont: 'Gyre-Pagella'}\n",
       "        });\n",
       "</script>"
      ]
     },
     "metadata": {},
     "output_type": "display_data"
    }
   ],
   "source": [
    "from IPython.core.display import display_html\n",
    "from urllib.request import urlopen\n",
    "\n",
    "link = 'https://gist.github.com/robblack007/eca03fa9f7586860235d/raw/ef05a2f29febc94a9c9f99ca20fd0b65e74ed451/custom.css'\n",
    "display_html(urlopen(link).read(), raw=True)"
   ]
  },
  {
   "cell_type": "markdown",
   "metadata": {},
   "source": [
    "# Dinámica de un robot manipulador planar"
   ]
  },
  {
   "cell_type": "code",
   "execution_count": 2,
   "metadata": {
    "collapsed": true
   },
   "outputs": [],
   "source": [
    "from sympy import var, sin, cos, Matrix, Integer, eye, Function, Rational, exp, Symbol, I, solve, pi, trigsimp, dsolve, sinh, cosh, simplify\n",
    "from sympy.physics.mechanics import mechanics_printing\n",
    "mechanics_printing()"
   ]
  },
  {
   "cell_type": "code",
   "execution_count": 3,
   "metadata": {
    "collapsed": false
   },
   "outputs": [
    {
     "data": {
      "image/png": "[encoded data removed]",
      "text/latex": [
       "$$\\left ( m_{1}, \\quad m_{2}, \\quad J_{1}, \\quad J_{2}, \\quad l_{1}, \\quad l_{2}, \\quad t, \\quad g\\right )$$"
      ],
      "text/plain": [
       "(m₁, m₂, J₁, J₂, l₁, l₂, t, g)"
      ]
     },
     "execution_count": 3,
     "metadata": {},
     "output_type": "execute_result"
    }
   ],
   "source": [
    "var(\"m1 m2 J1 J2 l1 l2 t g\")"
   ]
  },
  {
   "cell_type": "code",
   "execution_count": 4,
   "metadata": {
    "collapsed": true
   },
   "outputs": [],
   "source": [
    "q1 = Function(\"q1\")(t)\n",
    "q2 = Function(\"q2\")(t)"
   ]
  },
  {
   "cell_type": "code",
   "execution_count": 5,
   "metadata": {
    "collapsed": false
   },
   "outputs": [
    {
     "data": {
      "image/png": "[encoded data removed]",
      "text/latex": [
       "$$l_{1}^{2} \\dot{q}_{1}^{2}$$"
      ],
      "text/plain": [
       "  2    2\n",
       "l₁ ⋅q₁̇ "
      ]
     },
     "execution_count": 5,
     "metadata": {},
     "output_type": "execute_result"
    }
   ],
   "source": [
    "x1 = l1*cos(q1)\n",
    "y1 = l1*sin(q1)\n",
    "v1 = x1.diff(\"t\")**2 + y1.diff(\"t\")**2\n",
    "v1.trigsimp()"
   ]
  },
  {
   "cell_type": "code",
   "execution_count": 6,
   "metadata": {
    "collapsed": false
   },
   "outputs": [
    {
     "data": {
      "image/png": "[encoded data removed]",
      "text/latex": [
       "$$l_{1}^{2} \\dot{q}_{1}^{2} + 2 l_{1} l_{2} \\operatorname{cos}\\left(q_{2}\\right) \\dot{q}_{1}^{2} + 2 l_{1} l_{2} \\operatorname{cos}\\left(q_{2}\\right) \\dot{q}_{1} \\dot{q}_{2} + l_{2}^{2} \\dot{q}_{1}^{2} + 2 l_{2}^{2} \\dot{q}_{1} \\dot{q}_{2} + l_{2}^{2} \\dot{q}_{2}^{2}$$"
      ],
      "text/plain": [
       "  2    2                      2                               2    2       2  \n",
       "l₁ ⋅q₁̇  + 2⋅l₁⋅l₂⋅cos(q₂)⋅q₁̇  + 2⋅l₁⋅l₂⋅cos(q₂)⋅q₁̇⋅q₂̇ + l₂ ⋅q₁̇  + 2⋅l₂ ⋅q\n",
       "\n",
       "           2    2\n",
       "₁̇⋅q₂̇ + l₂ ⋅q₂̇ "
      ]
     },
     "execution_count": 6,
     "metadata": {},
     "output_type": "execute_result"
    }
   ],
   "source": [
    "x2 = l1*cos(q1) + l2*cos(q1 + q2)\n",
    "y2 = l1*sin(q1) + l2*sin(q1 + q2)\n",
    "v2 = x2.diff(\"t\")**2 + y2.diff(\"t\")**2\n",
    "v2.trigsimp()"
   ]
  },
  {
   "cell_type": "code",
   "execution_count": 7,
   "metadata": {
    "collapsed": false
   },
   "outputs": [
    {
     "data": {
      "image/png": "[encoded data removed]",
      "text/latex": [
       "$$\\frac{m_{1}}{2} \\left(l_{1}^{2} \\operatorname{sin}^{2}\\left(q_{1}\\right) \\dot{q}_{1}^{2} + l_{1}^{2} \\operatorname{cos}^{2}\\left(q_{1}\\right) \\dot{q}_{1}^{2}\\right)$$"
      ],
      "text/plain": [
       "   ⎛  2    2        2     2    2        2⎞\n",
       "m₁⋅⎝l₁ ⋅sin (q₁)⋅q₁̇  + l₁ ⋅cos (q₁)⋅q₁̇ ⎠\n",
       "──────────────────────────────────────────\n",
       "                    2                     "
      ]
     },
     "execution_count": 7,
     "metadata": {},
     "output_type": "execute_result"
    }
   ],
   "source": [
    "K1 = Rational(1, 2)*m1*v1\n",
    "K1"
   ]
  },
  {
   "cell_type": "code",
   "execution_count": 8,
   "metadata": {
    "collapsed": false
   },
   "outputs": [
    {
     "data": {
      "image/png": "[encoded data removed]",
      "text/latex": [
       "$$\\frac{m_{1}}{2} \\left(\\left(- l_{1} \\operatorname{sin}\\left(q_{1}\\right) \\dot{q}_{1} - l_{2} \\left(\\dot{q}_{1} + \\dot{q}_{2}\\right) \\operatorname{sin}\\left(q_{1} + q_{2}\\right)\\right)^{2} + \\left(l_{1} \\operatorname{cos}\\left(q_{1}\\right) \\dot{q}_{1} + l_{2} \\left(\\dot{q}_{1} + \\dot{q}_{2}\\right) \\operatorname{cos}\\left(q_{1} + q_{2}\\right)\\right)^{2}\\right)$$"
      ],
      "text/plain": [
       "   ⎛                                               2                          \n",
       "m₁⋅⎝(-l₁⋅sin(q₁)⋅q₁̇ - l₂⋅(q₁̇ + q₂̇)⋅sin(q₁ + q₂))  + (l₁⋅cos(q₁)⋅q₁̇ + l₂⋅(q\n",
       "──────────────────────────────────────────────────────────────────────────────\n",
       "                                                   2                          \n",
       "\n",
       "                       2⎞\n",
       "₁̇ + q₂̇)⋅cos(q₁ + q₂)) ⎠\n",
       "─────────────────────────\n",
       "                         "
      ]
     },
     "execution_count": 8,
     "metadata": {},
     "output_type": "execute_result"
    }
   ],
   "source": [
    "K2 = Rational(1, 2)*m1*v2\n",
    "K2"
   ]
  },
  {
   "cell_type": "code",
   "execution_count": 9,
   "metadata": {
    "collapsed": false
   },
   "outputs": [
    {
     "data": {
      "image/png": "[encoded data removed]",
      "text/latex": [
       "$$g l_{1} m_{1} \\operatorname{sin}\\left(q_{1}\\right)$$"
      ],
      "text/plain": [
       "g⋅l₁⋅m₁⋅sin(q₁)"
      ]
     },
     "execution_count": 9,
     "metadata": {},
     "output_type": "execute_result"
    }
   ],
   "source": [
    "U1 = m1*g*y1\n",
    "U1"
   ]
  },
  {
   "cell_type": "code",
   "execution_count": 10,
   "metadata": {
    "collapsed": false
   },
   "outputs": [
    {
     "data": {
      "image/png": "[encoded data removed]",
      "text/latex": [
       "$$g m_{2} \\left(l_{1} \\operatorname{sin}\\left(q_{1}\\right) + l_{2} \\operatorname{sin}\\left(q_{1} + q_{2}\\right)\\right)$$"
      ],
      "text/plain": [
       "g⋅m₂⋅(l₁⋅sin(q₁) + l₂⋅sin(q₁ + q₂))"
      ]
     },
     "execution_count": 10,
     "metadata": {},
     "output_type": "execute_result"
    }
   ],
   "source": [
    "U2 = m2*g*y2\n",
    "U2"
   ]
  },
  {
   "cell_type": "code",
   "execution_count": 11,
   "metadata": {
    "collapsed": false
   },
   "outputs": [
    {
     "data": {
      "image/png": "[encoded data removed]",
      "text/latex": [
       "$$\\frac{m_{1}}{2} \\left(l_{1}^{2} \\operatorname{sin}^{2}\\left(q_{1}\\right) \\dot{q}_{1}^{2} + l_{1}^{2} \\operatorname{cos}^{2}\\left(q_{1}\\right) \\dot{q}_{1}^{2}\\right) + \\frac{m_{1}}{2} \\left(\\left(- l_{1} \\operatorname{sin}\\left(q_{1}\\right) \\dot{q}_{1} - l_{2} \\left(\\dot{q}_{1} + \\dot{q}_{2}\\right) \\operatorname{sin}\\left(q_{1} + q_{2}\\right)\\right)^{2} + \\left(l_{1} \\operatorname{cos}\\left(q_{1}\\right) \\dot{q}_{1} + l_{2} \\left(\\dot{q}_{1} + \\dot{q}_{2}\\right) \\operatorname{cos}\\left(q_{1} + q_{2}\\right)\\right)^{2}\\right)$$"
      ],
      "text/plain": [
       "   ⎛  2    2        2     2    2        2⎞      ⎛                             \n",
       "m₁⋅⎝l₁ ⋅sin (q₁)⋅q₁̇  + l₁ ⋅cos (q₁)⋅q₁̇ ⎠   m₁⋅⎝(-l₁⋅sin(q₁)⋅q₁̇ - l₂⋅(q₁̇ + \n",
       "────────────────────────────────────────── + ─────────────────────────────────\n",
       "                    2                                                         \n",
       "\n",
       "                  2                                                 2⎞\n",
       "q₂̇)⋅sin(q₁ + q₂))  + (l₁⋅cos(q₁)⋅q₁̇ + l₂⋅(q₁̇ + q₂̇)⋅cos(q₁ + q₂)) ⎠\n",
       "──────────────────────────────────────────────────────────────────────\n",
       "                  2                                                   "
      ]
     },
     "execution_count": 11,
     "metadata": {},
     "output_type": "execute_result"
    }
   ],
   "source": [
    "K = K1 + K2\n",
    "K"
   ]
  },
  {
   "cell_type": "code",
   "execution_count": 12,
   "metadata": {
    "collapsed": false
   },
   "outputs": [
    {
     "data": {
      "image/png": "[encoded data removed]",
      "text/latex": [
       "$$g l_{1} m_{1} \\operatorname{sin}\\left(q_{1}\\right) + g m_{2} \\left(l_{1} \\operatorname{sin}\\left(q_{1}\\right) + l_{2} \\operatorname{sin}\\left(q_{1} + q_{2}\\right)\\right)$$"
      ],
      "text/plain": [
       "g⋅l₁⋅m₁⋅sin(q₁) + g⋅m₂⋅(l₁⋅sin(q₁) + l₂⋅sin(q₁ + q₂))"
      ]
     },
     "execution_count": 12,
     "metadata": {},
     "output_type": "execute_result"
    }
   ],
   "source": [
    "U = U1 + U2\n",
    "U"
   ]
  },
  {
   "cell_type": "code",
   "execution_count": 13,
   "metadata": {
    "collapsed": false
   },
   "outputs": [
    {
     "data": {
      "image/png": "[encoded data removed]",
      "text/latex": [
       "$$- g l_{1} m_{1} \\operatorname{sin}\\left(q_{1}\\right) - g l_{1} m_{2} \\operatorname{sin}\\left(q_{1}\\right) - g l_{2} m_{2} \\operatorname{sin}\\left(q_{1} + q_{2}\\right) + l_{1}^{2} m_{1} \\dot{q}_{1}^{2} + l_{1} l_{2} m_{1} \\operatorname{cos}\\left(q_{2}\\right) \\dot{q}_{1}^{2} + l_{1} l_{2} m_{1} \\operatorname{cos}\\left(q_{2}\\right) \\dot{q}_{1} \\dot{q}_{2} + \\frac{l_{2}^{2} m_{1}}{2} \\dot{q}_{1}^{2} + l_{2}^{2} m_{1} \\dot{q}_{1} \\dot{q}_{2} + \\frac{l_{2}^{2} m_{1}}{2} \\dot{q}_{2}^{2}$$"
      ],
      "text/plain": [
       "                                                                              \n",
       "                                                              2       2       \n",
       "-g⋅l₁⋅m₁⋅sin(q₁) - g⋅l₁⋅m₂⋅sin(q₁) - g⋅l₂⋅m₂⋅sin(q₁ + q₂) + l₁ ⋅m₁⋅q₁̇  + l₁⋅l\n",
       "                                                                              \n",
       "\n",
       "                                                 2       2                    \n",
       "                2                              l₂ ⋅m₁⋅q₁̇      2              \n",
       "₂⋅m₁⋅cos(q₂)⋅q₁̇  + l₁⋅l₂⋅m₁⋅cos(q₂)⋅q₁̇⋅q₂̇ + ─────────── + l₂ ⋅m₁⋅q₁̇⋅q₂̇ + \n",
       "                                                    2                         \n",
       "\n",
       "  2       2\n",
       "l₂ ⋅m₁⋅q₂̇ \n",
       "───────────\n",
       "     2     "
      ]
     },
     "execution_count": 13,
     "metadata": {},
     "output_type": "execute_result"
    }
   ],
   "source": [
    "L = (K - U).expand().simplify()\n",
    "L"
   ]
  },
  {
   "cell_type": "code",
   "execution_count": 14,
   "metadata": {
    "collapsed": true
   },
   "outputs": [],
   "source": [
    "τ1 = (L.diff(q1.diff(t)).diff(t) - L.diff(q1)).simplify().expand().collect(q1.diff(t).diff(t)).collect(q2.diff(t).diff(t))"
   ]
  },
  {
   "cell_type": "code",
   "execution_count": 15,
   "metadata": {
    "collapsed": true
   },
   "outputs": [],
   "source": [
    "τ2 = (L.diff(q2.diff(t)).diff(t) - L.diff(q2)).simplify().expand().collect(q1.diff(t).diff(t)).collect(q2.diff(t).diff(t))"
   ]
  },
  {
   "cell_type": "code",
   "execution_count": 16,
   "metadata": {
    "collapsed": false
   },
   "outputs": [
    {
     "data": {
      "image/png": "[encoded data removed]",
      "text/latex": [
       "$$g l_{1} m_{1} \\operatorname{cos}\\left(q_{1}\\right) + g l_{1} m_{2} \\operatorname{cos}\\left(q_{1}\\right) + g l_{2} m_{2} \\operatorname{cos}\\left(q_{1} + q_{2}\\right) - 2 l_{1} l_{2} m_{1} \\operatorname{sin}\\left(q_{2}\\right) \\dot{q}_{1} \\dot{q}_{2} - l_{1} l_{2} m_{1} \\operatorname{sin}\\left(q_{2}\\right) \\dot{q}_{2}^{2} + \\left(l_{1} l_{2} m_{1} \\operatorname{cos}\\left(q_{2}\\right) + l_{2}^{2} m_{1}\\right) \\ddot{q}_{2} + \\left(2 l_{1}^{2} m_{1} + 2 l_{1} l_{2} m_{1} \\operatorname{cos}\\left(q_{2}\\right) + l_{2}^{2} m_{1}\\right) \\ddot{q}_{1}$$"
      ],
      "text/plain": [
       "                                                                              \n",
       "g⋅l₁⋅m₁⋅cos(q₁) + g⋅l₁⋅m₂⋅cos(q₁) + g⋅l₂⋅m₂⋅cos(q₁ + q₂) - 2⋅l₁⋅l₂⋅m₁⋅sin(q₂)⋅\n",
       "\n",
       "                              2   ⎛                     2   ⎞       ⎛    2    \n",
       "q₁̇⋅q₂̇ - l₁⋅l₂⋅m₁⋅sin(q₂)⋅q₂̇  + ⎝l₁⋅l₂⋅m₁⋅cos(q₂) + l₂ ⋅m₁⎠⋅q₂̈ + ⎝2⋅l₁ ⋅m₁ \n",
       "\n",
       "                         2   ⎞    \n",
       "+ 2⋅l₁⋅l₂⋅m₁⋅cos(q₂) + l₂ ⋅m₁⎠⋅q₁̈"
      ]
     },
     "execution_count": 16,
     "metadata": {},
     "output_type": "execute_result"
    }
   ],
   "source": [
    "τ1"
   ]
  },
  {
   "cell_type": "code",
   "execution_count": 17,
   "metadata": {
    "collapsed": false
   },
   "outputs": [
    {
     "data": {
      "image/png": "[encoded data removed]",
      "text/latex": [
       "$$g l_{2} m_{2} \\operatorname{cos}\\left(q_{1} + q_{2}\\right) + l_{1} l_{2} m_{1} \\operatorname{sin}\\left(q_{2}\\right) \\dot{q}_{1}^{2} + l_{2}^{2} m_{1} \\ddot{q}_{2} + \\left(l_{1} l_{2} m_{1} \\operatorname{cos}\\left(q_{2}\\right) + l_{2}^{2} m_{1}\\right) \\ddot{q}_{1}$$"
      ],
      "text/plain": [
       "                                           2     2          ⎛                 \n",
       "g⋅l₂⋅m₂⋅cos(q₁ + q₂) + l₁⋅l₂⋅m₁⋅sin(q₂)⋅q₁̇  + l₂ ⋅m₁⋅q₂̈ + ⎝l₁⋅l₂⋅m₁⋅cos(q₂) \n",
       "\n",
       "    2   ⎞    \n",
       "+ l₂ ⋅m₁⎠⋅q₁̈"
      ]
     },
     "execution_count": 17,
     "metadata": {},
     "output_type": "execute_result"
    }
   ],
   "source": [
    "τ2"
   ]
  },
  {
   "cell_type": "code",
   "execution_count": 18,
   "metadata": {
    "collapsed": true
   },
   "outputs": [],
   "source": [
    "from scipy.integrate import odeint\n",
    "from numpy import linspace"
   ]
  },
  {
   "cell_type": "code",
   "execution_count": 27,
   "metadata": {
    "collapsed": true
   },
   "outputs": [],
   "source": [
    "def pendulo_doble(estado, tiempo):\n",
    "    # Se importan funciones necesarias\n",
    "    from numpy import sin, cos, matrix\n",
    "    # Se desenvuelven variables del estado y tiempo\n",
    "    q1, q2, q̇1, q̇2 = estado\n",
    "    t = tiempo\n",
    "    \n",
    "    # Se declaran constantes del sistema\n",
    "    m1, m2 = 1, 1\n",
    "    l1, l2 = 1, 1\n",
    "    g = 9.81\n",
    "    \n",
    "    # Se declaran constantes del control\n",
    "    kp1, kp2 = -30, -60\n",
    "    kv1, kv2 = -20, -20\n",
    "    \n",
    "    # Señales de control nulas\n",
    "    #tau1, tau2 = 0, 0\n",
    "    \n",
    "    # Posiciones a alcanzar\n",
    "    qd1, qd2 = 1, 1\n",
    "    \n",
    "    # Se declaran señales de control del sistema\n",
    "    tau1 = kp1*(q1 - qd1) + kv1*q̇1\n",
    "    tau2 = kp2*(q2 - qd2) + kv2*q̇2\n",
    "    \n",
    "    # Se calculan algunos terminos comunes\n",
    "    ϕ1 = m1*l1**2\n",
    "    ϕ2 = m1*l1*l2\n",
    "    ϕ3 = m1*l2**2\n",
    "    \n",
    "    # Se calculan las matrices de masas, Coriolis,\n",
    "    # y vectores de gravedad, control, posicion y velocidad\n",
    "    M = matrix([[2*ϕ1 + 2*ϕ2*cos(q2) + ϕ3, ϕ2*cos(q2) + ϕ3],\n",
    "                [ϕ2*cos(q2) + ϕ3, ϕ3]])\n",
    "    C = matrix([[-2*ϕ2*sin(q2)*q̇2, -ϕ2*sin(q2)*q̇2], [ϕ2*sin(q2)*q̇1, 0]])\n",
    "    G = matrix([[m1*l1*cos(q1) + m2*l1*cos(q1) + m2*l2*cos(q1 + q2)], [m2*l2*cos(q1 + q2)]])\n",
    "    Tau = matrix([[tau1], [tau2]])\n",
    "    q = matrix([[q1], [q2]])\n",
    "    q̇ = matrix([[q̇1], [q̇2]])\n",
    "    \n",
    "    # Se calcula la derivada del estado del sistema\n",
    "    qp1 = q̇1\n",
    "    qp2 = q̇2\n",
    "    \n",
    "    qpp = M.I*(Tau - C*q̇ - G)\n",
    "    qpp1, qpp2 = qpp.tolist()\n",
    "    \n",
    "    return [qp1, qp2, qpp1[0], qpp2[0]]"
   ]
  },
  {
   "cell_type": "code",
   "execution_count": 28,
   "metadata": {
    "collapsed": false
   },
   "outputs": [],
   "source": [
    "t = linspace(0, 30, 500)\n",
    "estados_simulados = odeint(func = pendulo_doble, y0  = [0, 0, 0, 0], t = t)"
   ]
  },
  {
   "cell_type": "code",
   "execution_count": 29,
   "metadata": {
    "collapsed": true
   },
   "outputs": [],
   "source": [
    "q1, q2, q̇1, q̇2 = list(zip(*estados_simulados.tolist()))"
   ]
  },
  {
   "cell_type": "code",
   "execution_count": 30,
   "metadata": {
    "collapsed": false
   },
   "outputs": [],
   "source": [
    "%matplotlib notebook\n",
    "from matplotlib.pyplot import plot, style, figure\n",
    "from mpl_toolkits.mplot3d import Axes3D\n",
    "style.use(\"ggplot\")"
   ]
  },
  {
   "cell_type": "code",
   "execution_count": 31,
   "metadata": {
    "collapsed": false
   },
   "outputs": [
    {
     "data": {
      "application/javascript": [
       "/* Put everything inside the global mpl namespace */\n",
       "window.mpl = {};\n",
       "\n",
       "mpl.get_websocket_type = function() {\n",
       "    if (typeof(WebSocket) !== 'undefined') {\n",
       "        return WebSocket;\n",
       "    } else if (typeof(MozWebSocket) !== 'undefined') {\n",
       "        return MozWebSocket;\n",
       "    } else {\n",
       "        alert('Your browser does not have WebSocket support.' +\n",
       "              'Please try Chrome, Safari or Firefox ≥ 6. ' +\n",
       "              'Firefox 4 and 5 are also supported but you ' +\n",
       "              'have to enable WebSockets in about:config.');\n",
       "    };\n",
       "}\n",
       "\n",
       "mpl.figure = function(figure_id, websocket, ondownload, parent_element) {\n",
       "    this.id = figure_id;\n",
       "\n",
       "    this.ws = websocket;\n",
       "\n",
       "    this.supports_binary = (this.ws.binaryType != undefined);\n",
       "\n",
       "    if (!this.supports_binary) {\n",
       "        var warnings = document.getElementById(\"mpl-warnings\");\n",
       "        if (warnings) {\n",
       "            warnings.style.display = 'block';\n",
       "            warnings.textContent = (\n",
       "                \"This browser does not support binary websocket messages. \" +\n",
       "                    \"Performance may be slow.\");\n",
       "        }\n",
       "    }\n",
       "\n",
       "    this.imageObj = new Image();\n",
       "\n",
       "    this.context = undefined;\n",
       "    this.message = undefined;\n",
       "    this.canvas = undefined;\n",
       "    this.rubberband_canvas = undefined;\n",
       "    this.rubberband_context = undefined;\n",
       "    this.format_dropdown = undefined;\n",
       "\n",
       "    this.image_mode = 'full';\n",
       "\n",
       "    this.root = $('<div/>');\n",
       "    this._root_extra_style(this.root)\n",
       "    this.root.attr('style', 'display: inline-block');\n",
       "\n",
       "    $(parent_element).append(this.root);\n",
       "\n",
       "    this._init_header(this);\n",
       "    this._init_canvas(this);\n",
       "    this._init_toolbar(this);\n",
       "\n",
       "    var fig = this;\n",
       "\n",
       "    this.waiting = false;\n",
       "\n",
       "    this.ws.onopen =  function () {\n",
       "            fig.send_message(\"supports_binary\", {value: fig.supports_binary});\n",
       "            fig.send_message(\"send_image_mode\", {});\n",
       "            fig.send_message(\"refresh\", {});\n",
       "        }\n",
       "\n",
       "    this.imageObj.onload = function() {\n",
       "            if (fig.image_mode == 'full') {\n",
       "                // Full images could contain transparency (where diff images\n",
       "                // almost always do), so we need to clear the canvas so that\n",
       "                // there is no ghosting.\n",
       "                fig.context.clearRect(0, 0, fig.canvas.width, fig.canvas.height);\n",
       "            }\n",
       "            fig.context.drawImage(fig.imageObj, 0, 0);\n",
       "        };\n",
       "\n",
       "    this.imageObj.onunload = function() {\n",
       "        this.ws.close();\n",
       "    }\n",
       "\n",
       "    this.ws.onmessage = this._make_on_message_function(this);\n",
       "\n",
       "    this.ondownload = ondownload;\n",
       "}\n",
       "\n",
       "mpl.figure.prototype._init_header = function() {\n",
       "    var titlebar = $(\n",
       "        '<div class=\"ui-dialog-titlebar ui-widget-header ui-corner-all ' +\n",
       "        'ui-helper-clearfix\"/>');\n",
       "    var titletext = $(\n",
       "        '<div class=\"ui-dialog-title\" style=\"width: 100%; ' +\n",
       "        'text-align: center; padding: 3px;\"/>');\n",
       "    titlebar.append(titletext)\n",
       "    this.root.append(titlebar);\n",
       "    this.header = titletext[0];\n",
       "}\n",
       "\n",
       "\n",
       "\n",
       "mpl.figure.prototype._canvas_extra_style = function(canvas_div) {\n",
       "\n",
       "}\n",
       "\n",
       "\n",
       "mpl.figure.prototype._root_extra_style = function(canvas_div) {\n",
       "\n",
       "}\n",
       "\n",
       "mpl.figure.prototype._init_canvas = function() {\n",
       "    var fig = this;\n",
       "\n",
       "    var canvas_div = $('<div/>');\n",
       "\n",
       "    canvas_div.attr('style', 'position: relative; clear: both; outline: 0');\n",
       "\n",
       "    function canvas_keyboard_event(event) {\n",
       "        return fig.key_event(event, event['data']);\n",
       "    }\n",
       "\n",
       "    canvas_div.keydown('key_press', canvas_keyboard_event);\n",
       "    canvas_div.keyup('key_release', canvas_keyboard_event);\n",
       "    this.canvas_div = canvas_div\n",
       "    this._canvas_extra_style(canvas_div)\n",
       "    this.root.append(canvas_div);\n",
       "\n",
       "    var canvas = $('<canvas/>');\n",
       "    canvas.addClass('mpl-canvas');\n",
       "    canvas.attr('style', \"left: 0; top: 0; z-index: 0; outline: 0\")\n",
       "\n",
       "    this.canvas = canvas[0];\n",
       "    this.context = canvas[0].getContext(\"2d\");\n",
       "\n",
       "    var rubberband = $('<canvas/>');\n",
       "    rubberband.attr('style', \"position: absolute; left: 0; top: 0; z-index: 1;\")\n",
       "\n",
       "    var pass_mouse_events = true;\n",
       "\n",
       "    canvas_div.resizable({\n",
       "        start: function(event, ui) {\n",
       "            pass_mouse_events = false;\n",
       "        },\n",
       "        resize: function(event, ui) {\n",
       "            fig.request_resize(ui.size.width, ui.size.height);\n",
       "        },\n",
       "        stop: function(event, ui) {\n",
       "            pass_mouse_events = true;\n",
       "            fig.request_resize(ui.size.width, ui.size.height);\n",
       "        },\n",
       "    });\n",
       "\n",
       "    function mouse_event_fn(event) {\n",
       "        if (pass_mouse_events)\n",
       "            return fig.mouse_event(event, event['data']);\n",
       "    }\n",
       "\n",
       "    rubberband.mousedown('button_press', mouse_event_fn);\n",
       "    rubberband.mouseup('button_release', mouse_event_fn);\n",
       "    // Throttle sequential mouse events to 1 every 20ms.\n",
       "    rubberband.mousemove('motion_notify', mouse_event_fn);\n",
       "\n",
       "    rubberband.mouseenter('figure_enter', mouse_event_fn);\n",
       "    rubberband.mouseleave('figure_leave', mouse_event_fn);\n",
       "\n",
       "    canvas_div.on(\"wheel\", function (event) {\n",
       "        event = event.originalEvent;\n",
       "        event['data'] = 'scroll'\n",
       "        if (event.deltaY < 0) {\n",
       "            event.step = 1;\n",
       "        } else {\n",
       "            event.step = -1;\n",
       "        }\n",
       "        mouse_event_fn(event);\n",
       "    });\n",
       "\n",
       "    canvas_div.append(canvas);\n",
       "    canvas_div.append(rubberband);\n",
       "\n",
       "    this.rubberband = rubberband;\n",
       "    this.rubberband_canvas = rubberband[0];\n",
       "    this.rubberband_context = rubberband[0].getContext(\"2d\");\n",
       "    this.rubberband_context.strokeStyle = \"#000000\";\n",
       "\n",
       "    this._resize_canvas = function(width, height) {\n",
       "        // Keep the size of the canvas, canvas container, and rubber band\n",
       "        // canvas in synch.\n",
       "        canvas_div.css('width', width)\n",
       "        canvas_div.css('height', height)\n",
       "\n",
       "        canvas.attr('width', width);\n",
       "        canvas.attr('height', height);\n",
       "\n",
       "        rubberband.attr('width', width);\n",
       "        rubberband.attr('height', height);\n",
       "    }\n",
       "\n",
       "    // Set the figure to an initial 600x600px, this will subsequently be updated\n",
       "    // upon first draw.\n",
       "    this._resize_canvas(600, 600);\n",
       "\n",
       "    // Disable right mouse context menu.\n",
       "    $(this.rubberband_canvas).bind(\"contextmenu\",function(e){\n",
       "        return false;\n",
       "    });\n",
       "\n",
       "    function set_focus () {\n",
       "        canvas.focus();\n",
       "        canvas_div.focus();\n",
       "    }\n",
       "\n",
       "    window.setTimeout(set_focus, 100);\n",
       "}\n",
       "\n",
       "mpl.figure.prototype._init_toolbar = function() {\n",
       "    var fig = this;\n",
       "\n",
       "    var nav_element = $('<div/>')\n",
       "    nav_element.attr('style', 'width: 100%');\n",
       "    this.root.append(nav_element);\n",
       "\n",
       "    // Define a callback function for later on.\n",
       "    function toolbar_event(event) {\n",
       "        return fig.toolbar_button_onclick(event['data']);\n",
       "    }\n",
       "    function toolbar_mouse_event(event) {\n",
       "        return fig.toolbar_button_onmouseover(event['data']);\n",
       "    }\n",
       "\n",
       "    for(var toolbar_ind in mpl.toolbar_items) {\n",
       "        var name = mpl.toolbar_items[toolbar_ind][0];\n",
       "        var tooltip = mpl.toolbar_items[toolbar_ind][1];\n",
       "        var image = mpl.toolbar_items[toolbar_ind][2];\n",
       "        var method_name = mpl.toolbar_items[toolbar_ind][3];\n",
       "\n",
       "        if (!name) {\n",
       "            // put a spacer in here.\n",
       "            continue;\n",
       "        }\n",
       "        var button = $('<button/>');\n",
       "        button.addClass('ui-button ui-widget ui-state-default ui-corner-all ' +\n",
       "                        'ui-button-icon-only');\n",
       "        button.attr('role', 'button');\n",
       "        button.attr('aria-disabled', 'false');\n",
       "        button.click(method_name, toolbar_event);\n",
       "        button.mouseover(tooltip, toolbar_mouse_event);\n",
       "\n",
       "        var icon_img = $('<span/>');\n",
       "        icon_img.addClass('ui-button-icon-primary ui-icon');\n",
       "        icon_img.addClass(image);\n",
       "        icon_img.addClass('ui-corner-all');\n",
       "\n",
       "        var tooltip_span = $('<span/>');\n",
       "        tooltip_span.addClass('ui-button-text');\n",
       "        tooltip_span.html(tooltip);\n",
       "\n",
       "        button.append(icon_img);\n",
       "        button.append(tooltip_span);\n",
       "\n",
       "        nav_element.append(button);\n",
       "    }\n",
       "\n",
       "    var fmt_picker_span = $('<span/>');\n",
       "\n",
       "    var fmt_picker = $('<select/>');\n",
       "    fmt_picker.addClass('mpl-toolbar-option ui-widget ui-widget-content');\n",
       "    fmt_picker_span.append(fmt_picker);\n",
       "    nav_element.append(fmt_picker_span);\n",
       "    this.format_dropdown = fmt_picker[0];\n",
       "\n",
       "    for (var ind in mpl.extensions) {\n",
       "        var fmt = mpl.extensions[ind];\n",
       "        var option = $(\n",
       "            '<option/>', {selected: fmt === mpl.default_extension}).html(fmt);\n",
       "        fmt_picker.append(option)\n",
       "    }\n",
       "\n",
       "    // Add hover states to the ui-buttons\n",
       "    $( \".ui-button\" ).hover(\n",
       "        function() { $(this).addClass(\"ui-state-hover\");},\n",
       "        function() { $(this).removeClass(\"ui-state-hover\");}\n",
       "    );\n",
       "\n",
       "    var status_bar = $('<span class=\"mpl-message\"/>');\n",
       "    nav_element.append(status_bar);\n",
       "    this.message = status_bar[0];\n",
       "}\n",
       "\n",
       "mpl.figure.prototype.request_resize = function(x_pixels, y_pixels) {\n",
       "    // Request matplotlib to resize the figure. Matplotlib will then trigger a resize in the client,\n",
       "    // which will in turn request a refresh of the image.\n",
       "    this.send_message('resize', {'width': x_pixels, 'height': y_pixels});\n",
       "}\n",
       "\n",
       "mpl.figure.prototype.send_message = function(type, properties) {\n",
       "    properties['type'] = type;\n",
       "    properties['figure_id'] = this.id;\n",
       "    this.ws.send(JSON.stringify(properties));\n",
       "}\n",
       "\n",
       "mpl.figure.prototype.send_draw_message = function() {\n",
       "    if (!this.waiting) {\n",
       "        this.waiting = true;\n",
       "        this.ws.send(JSON.stringify({type: \"draw\", figure_id: this.id}));\n",
       "    }\n",
       "}\n",
       "\n",
       "\n",
       "mpl.figure.prototype.handle_save = function(fig, msg) {\n",
       "    var format_dropdown = fig.format_dropdown;\n",
       "    var format = format_dropdown.options[format_dropdown.selectedIndex].value;\n",
       "    fig.ondownload(fig, format);\n",
       "}\n",
       "\n",
       "\n",
       "mpl.figure.prototype.handle_resize = function(fig, msg) {\n",
       "    var size = msg['size'];\n",
       "    if (size[0] != fig.canvas.width || size[1] != fig.canvas.height) {\n",
       "        fig._resize_canvas(size[0], size[1]);\n",
       "        fig.send_message(\"refresh\", {});\n",
       "    };\n",
       "}\n",
       "\n",
       "mpl.figure.prototype.handle_rubberband = function(fig, msg) {\n",
       "    var x0 = msg['x0'];\n",
       "    var y0 = fig.canvas.height - msg['y0'];\n",
       "    var x1 = msg['x1'];\n",
       "    var y1 = fig.canvas.height - msg['y1'];\n",
       "    x0 = Math.floor(x0) + 0.5;\n",
       "    y0 = Math.floor(y0) + 0.5;\n",
       "    x1 = Math.floor(x1) + 0.5;\n",
       "    y1 = Math.floor(y1) + 0.5;\n",
       "    var min_x = Math.min(x0, x1);\n",
       "    var min_y = Math.min(y0, y1);\n",
       "    var width = Math.abs(x1 - x0);\n",
       "    var height = Math.abs(y1 - y0);\n",
       "\n",
       "    fig.rubberband_context.clearRect(\n",
       "        0, 0, fig.canvas.width, fig.canvas.height);\n",
       "\n",
       "    fig.rubberband_context.strokeRect(min_x, min_y, width, height);\n",
       "}\n",
       "\n",
       "mpl.figure.prototype.handle_figure_label = function(fig, msg) {\n",
       "    // Updates the figure title.\n",
       "    fig.header.textContent = msg['label'];\n",
       "}\n",
       "\n",
       "mpl.figure.prototype.handle_cursor = function(fig, msg) {\n",
       "    var cursor = msg['cursor'];\n",
       "    switch(cursor)\n",
       "    {\n",
       "    case 0:\n",
       "        cursor = 'pointer';\n",
       "        break;\n",
       "    case 1:\n",
       "        cursor = 'default';\n",
       "        break;\n",
       "    case 2:\n",
       "        cursor = 'crosshair';\n",
       "        break;\n",
       "    case 3:\n",
       "        cursor = 'move';\n",
       "        break;\n",
       "    }\n",
       "    fig.rubberband_canvas.style.cursor = cursor;\n",
       "}\n",
       "\n",
       "mpl.figure.prototype.handle_message = function(fig, msg) {\n",
       "    fig.message.textContent = msg['message'];\n",
       "}\n",
       "\n",
       "mpl.figure.prototype.handle_draw = function(fig, msg) {\n",
       "    // Request the server to send over a new figure.\n",
       "    fig.send_draw_message();\n",
       "}\n",
       "\n",
       "mpl.figure.prototype.handle_image_mode = function(fig, msg) {\n",
       "    fig.image_mode = msg['mode'];\n",
       "}\n",
       "\n",
       "mpl.figure.prototype.updated_canvas_event = function() {\n",
       "    // Called whenever the canvas gets updated.\n",
       "    this.send_message(\"ack\", {});\n",
       "}\n",
       "\n",
       "// A function to construct a web socket function for onmessage handling.\n",
       "// Called in the figure constructor.\n",
       "mpl.figure.prototype._make_on_message_function = function(fig) {\n",
       "    return function socket_on_message(evt) {\n",
       "        if (evt.data instanceof Blob) {\n",
       "            /* FIXME: We get \"Resource interpreted as Image but\n",
       "             * transferred with MIME type text/plain:\" errors on\n",
       "             * Chrome.  But how to set the MIME type?  It doesn't seem\n",
       "             * to be part of the websocket stream */\n",
       "            evt.data.type = \"image/png\";\n",
       "\n",
       "            /* Free the memory for the previous frames */\n",
       "            if (fig.imageObj.src) {\n",
       "                (window.URL || window.webkitURL).revokeObjectURL(\n",
       "                    fig.imageObj.src);\n",
       "            }\n",
       "\n",
       "            fig.imageObj.src = (window.URL || window.webkitURL).createObjectURL(\n",
       "                evt.data);\n",
       "            fig.updated_canvas_event();\n",
       "            fig.waiting = false;\n",
       "            return;\n",
       "        }\n",
       "        else if (typeof evt.data === 'string' && evt.data.slice(0, 21) == \"data:image/png;base64\") {\n",
       "            fig.imageObj.src = evt.data;\n",
       "            fig.updated_canvas_event();\n",
       "            fig.waiting = false;\n",
       "            return;\n",
       "        }\n",
       "\n",
       "        var msg = JSON.parse(evt.data);\n",
       "        var msg_type = msg['type'];\n",
       "\n",
       "        // Call the  \"handle_{type}\" callback, which takes\n",
       "        // the figure and JSON message as its only arguments.\n",
       "        try {\n",
       "            var callback = fig[\"handle_\" + msg_type];\n",
       "        } catch (e) {\n",
       "            console.log(\"No handler for the '\" + msg_type + \"' message type: \", msg);\n",
       "            return;\n",
       "        }\n",
       "\n",
       "        if (callback) {\n",
       "            try {\n",
       "                // console.log(\"Handling '\" + msg_type + \"' message: \", msg);\n",
       "                callback(fig, msg);\n",
       "            } catch (e) {\n",
       "                console.log(\"Exception inside the 'handler_\" + msg_type + \"' callback:\", e, e.stack, msg);\n",
       "            }\n",
       "        }\n",
       "    };\n",
       "}\n",
       "\n",
       "// from http://stackoverflow.com/questions/1114465/getting-mouse-location-in-canvas\n",
       "mpl.findpos = function(e) {\n",
       "    //this section is from http://www.quirksmode.org/js/events_properties.html\n",
       "    var targ;\n",
       "    if (!e)\n",
       "        e = window.event;\n",
       "    if (e.target)\n",
       "        targ = e.target;\n",
       "    else if (e.srcElement)\n",
       "        targ = e.srcElement;\n",
       "    if (targ.nodeType == 3) // defeat Safari bug\n",
       "        targ = targ.parentNode;\n",
       "\n",
       "    // jQuery normalizes the pageX and pageY\n",
       "    // pageX,Y are the mouse positions relative to the document\n",
       "    // offset() returns the position of the element relative to the document\n",
       "    var x = e.pageX - $(targ).offset().left;\n",
       "    var y = e.pageY - $(targ).offset().top;\n",
       "\n",
       "    return {\"x\": x, \"y\": y};\n",
       "};\n",
       "\n",
       "/*\n",
       " * return a copy of an object with only non-object keys\n",
       " * we need this to avoid circular references\n",
       " * http://stackoverflow.com/a/24161582/3208463\n",
       " */\n",
       "function simpleKeys (original) {\n",
       "  return Object.keys(original).reduce(function (obj, key) {\n",
       "    if (typeof original[key] !== 'object')\n",
       "        obj[key] = original[key]\n",
       "    return obj;\n",
       "  }, {});\n",
       "}\n",
       "\n",
       "mpl.figure.prototype.mouse_event = function(event, name) {\n",
       "    var canvas_pos = mpl.findpos(event)\n",
       "\n",
       "    if (name === 'button_press')\n",
       "    {\n",
       "        this.canvas.focus();\n",
       "        this.canvas_div.focus();\n",
       "    }\n",
       "\n",
       "    var x = canvas_pos.x;\n",
       "    var y = canvas_pos.y;\n",
       "\n",
       "    this.send_message(name, {x: x, y: y, button: event.button,\n",
       "                             step: event.step,\n",
       "                             guiEvent: simpleKeys(event)});\n",
       "\n",
       "    /* This prevents the web browser from automatically changing to\n",
       "     * the text insertion cursor when the button is pressed.  We want\n",
       "     * to control all of the cursor setting manually through the\n",
       "     * 'cursor' event from matplotlib */\n",
       "    event.preventDefault();\n",
       "    return false;\n",
       "}\n",
       "\n",
       "mpl.figure.prototype._key_event_extra = function(event, name) {\n",
       "    // Handle any extra behaviour associated with a key event\n",
       "}\n",
       "\n",
       "mpl.figure.prototype.key_event = function(event, name) {\n",
       "\n",
       "    // Prevent repeat events\n",
       "    if (name == 'key_press')\n",
       "    {\n",
       "        if (event.which === this._key)\n",
       "            return;\n",
       "        else\n",
       "            this._key = event.which;\n",
       "    }\n",
       "    if (name == 'key_release')\n",
       "        this._key = null;\n",
       "\n",
       "    var value = '';\n",
       "    if (event.ctrlKey && event.which != 17)\n",
       "        value += \"ctrl+\";\n",
       "    if (event.altKey && event.which != 18)\n",
       "        value += \"alt+\";\n",
       "    if (event.shiftKey && event.which != 16)\n",
       "        value += \"shift+\";\n",
       "\n",
       "    value += 'k';\n",
       "    value += event.which.toString();\n",
       "\n",
       "    this._key_event_extra(event, name);\n",
       "\n",
       "    this.send_message(name, {key: value,\n",
       "                             guiEvent: simpleKeys(event)});\n",
       "    return false;\n",
       "}\n",
       "\n",
       "mpl.figure.prototype.toolbar_button_onclick = function(name) {\n",
       "    if (name == 'download') {\n",
       "        this.handle_save(this, null);\n",
       "    } else {\n",
       "        this.send_message(\"toolbar_button\", {name: name});\n",
       "    }\n",
       "};\n",
       "\n",
       "mpl.figure.prototype.toolbar_button_onmouseover = function(tooltip) {\n",
       "    this.message.textContent = tooltip;\n",
       "};\n",
       "mpl.toolbar_items = [[\"Home\", \"Reset original view\", \"fa fa-home icon-home\", \"home\"], [\"Back\", \"Back to  previous view\", \"fa fa-arrow-left icon-arrow-left\", \"back\"], [\"Forward\", \"Forward to next view\", \"fa fa-arrow-right icon-arrow-right\", \"forward\"], [\"\", \"\", \"\", \"\"], [\"Pan\", \"Pan axes with left mouse, zoom with right\", \"fa fa-arrows icon-move\", \"pan\"], [\"Zoom\", \"Zoom to rectangle\", \"fa fa-square-o icon-check-empty\", \"zoom\"], [\"\", \"\", \"\", \"\"], [\"Download\", \"Download plot\", \"fa fa-floppy-o icon-save\", \"download\"]];\n",
       "\n",
       "mpl.extensions = [\"eps\", \"pdf\", \"png\", \"ps\", \"raw\", \"svg\"];\n",
       "\n",
       "mpl.default_extension = \"png\";var comm_websocket_adapter = function(comm) {\n",
       "    // Create a \"websocket\"-like object which calls the given IPython comm\n",
       "    // object with the appropriate methods. Currently this is a non binary\n",
       "    // socket, so there is still some room for performance tuning.\n",
       "    var ws = {};\n",
       "\n",
       "    ws.close = function() {\n",
       "        comm.close()\n",
       "    };\n",
       "    ws.send = function(m) {\n",
       "        //console.log('sending', m);\n",
       "        comm.send(m);\n",
       "    };\n",
       "    // Register the callback with on_msg.\n",
       "    comm.on_msg(function(msg) {\n",
       "        //console.log('receiving', msg['content']['data'], msg);\n",
       "        // Pass the mpl event to the overriden (by mpl) onmessage function.\n",
       "        ws.onmessage(msg['content']['data'])\n",
       "    });\n",
       "    return ws;\n",
       "}\n",
       "\n",
       "mpl.mpl_figure_comm = function(comm, msg) {\n",
       "    // This is the function which gets called when the mpl process\n",
       "    // starts-up an IPython Comm through the \"matplotlib\" channel.\n",
       "\n",
       "    var id = msg.content.data.id;\n",
       "    // Get hold of the div created by the display call when the Comm\n",
       "    // socket was opened in Python.\n",
       "    var element = $(\"#\" + id);\n",
       "    var ws_proxy = comm_websocket_adapter(comm)\n",
       "\n",
       "    function ondownload(figure, format) {\n",
       "        window.open(figure.imageObj.src);\n",
       "    }\n",
       "\n",
       "    var fig = new mpl.figure(id, ws_proxy,\n",
       "                           ondownload,\n",
       "                           element.get(0));\n",
       "\n",
       "    // Call onopen now - mpl needs it, as it is assuming we've passed it a real\n",
       "    // web socket which is closed, not our websocket->open comm proxy.\n",
       "    ws_proxy.onopen();\n",
       "\n",
       "    fig.parent_element = element.get(0);\n",
       "    fig.cell_info = mpl.find_output_cell(\"<div id='\" + id + \"'></div>\");\n",
       "    if (!fig.cell_info) {\n",
       "        console.error(\"Failed to find cell for figure\", id, fig);\n",
       "        return;\n",
       "    }\n",
       "\n",
       "    var output_index = fig.cell_info[2]\n",
       "    var cell = fig.cell_info[0];\n",
       "\n",
       "};\n",
       "\n",
       "mpl.figure.prototype.handle_close = function(fig, msg) {\n",
       "    fig.root.unbind('remove')\n",
       "\n",
       "    // Update the output cell to use the data from the current canvas.\n",
       "    fig.push_to_output();\n",
       "    var dataURL = fig.canvas.toDataURL();\n",
       "    // Re-enable the keyboard manager in IPython - without this line, in FF,\n",
       "    // the notebook keyboard shortcuts fail.\n",
       "    IPython.keyboard_manager.enable()\n",
       "    $(fig.parent_element).html('<img src=\"' + dataURL + '\">');\n",
       "    fig.close_ws(fig, msg);\n",
       "}\n",
       "\n",
       "mpl.figure.prototype.close_ws = function(fig, msg){\n",
       "    fig.send_message('closing', msg);\n",
       "    // fig.ws.close()\n",
       "}\n",
       "\n",
       "mpl.figure.prototype.push_to_output = function(remove_interactive) {\n",
       "    // Turn the data on the canvas into data in the output cell.\n",
       "    var dataURL = this.canvas.toDataURL();\n",
       "    this.cell_info[1]['text/html'] = '<img src=\"' + dataURL + '\">';\n",
       "}\n",
       "\n",
       "mpl.figure.prototype.updated_canvas_event = function() {\n",
       "    // Tell IPython that the notebook contents must change.\n",
       "    IPython.notebook.set_dirty(true);\n",
       "    this.send_message(\"ack\", {});\n",
       "    var fig = this;\n",
       "    // Wait a second, then push the new image to the DOM so\n",
       "    // that it is saved nicely (might be nice to debounce this).\n",
       "    setTimeout(function () { fig.push_to_output() }, 1000);\n",
       "}\n",
       "\n",
       "mpl.figure.prototype._init_toolbar = function() {\n",
       "    var fig = this;\n",
       "\n",
       "    var nav_element = $('<div/>')\n",
       "    nav_element.attr('style', 'width: 100%');\n",
       "    this.root.append(nav_element);\n",
       "\n",
       "    // Define a callback function for later on.\n",
       "    function toolbar_event(event) {\n",
       "        return fig.toolbar_button_onclick(event['data']);\n",
       "    }\n",
       "    function toolbar_mouse_event(event) {\n",
       "        return fig.toolbar_button_onmouseover(event['data']);\n",
       "    }\n",
       "\n",
       "    for(var toolbar_ind in mpl.toolbar_items){\n",
       "        var name = mpl.toolbar_items[toolbar_ind][0];\n",
       "        var tooltip = mpl.toolbar_items[toolbar_ind][1];\n",
       "        var image = mpl.toolbar_items[toolbar_ind][2];\n",
       "        var method_name = mpl.toolbar_items[toolbar_ind][3];\n",
       "\n",
       "        if (!name) { continue; };\n",
       "\n",
       "        var button = $('<button class=\"btn btn-default\" href=\"#\" title=\"' + name + '\"><i class=\"fa ' + image + ' fa-lg\"></i></button>');\n",
       "        button.click(method_name, toolbar_event);\n",
       "        button.mouseover(tooltip, toolbar_mouse_event);\n",
       "        nav_element.append(button);\n",
       "    }\n",
       "\n",
       "    // Add the status bar.\n",
       "    var status_bar = $('<span class=\"mpl-message\" style=\"text-align:right; float: right;\"/>');\n",
       "    nav_element.append(status_bar);\n",
       "    this.message = status_bar[0];\n",
       "\n",
       "    // Add the close button to the window.\n",
       "    var buttongrp = $('<div class=\"btn-group inline pull-right\"></div>');\n",
       "    var button = $('<button class=\"btn btn-mini btn-primary\" href=\"#\" title=\"Stop Interaction\"><i class=\"fa fa-power-off icon-remove icon-large\"></i></button>');\n",
       "    button.click(function (evt) { fig.handle_close(fig, {}); } );\n",
       "    button.mouseover('Stop Interaction', toolbar_mouse_event);\n",
       "    buttongrp.append(button);\n",
       "    var titlebar = this.root.find($('.ui-dialog-titlebar'));\n",
       "    titlebar.prepend(buttongrp);\n",
       "}\n",
       "\n",
       "mpl.figure.prototype._root_extra_style = function(el){\n",
       "    var fig = this\n",
       "    el.on(\"remove\", function(){\n",
       "\tfig.close_ws(fig, {});\n",
       "    });\n",
       "}\n",
       "\n",
       "mpl.figure.prototype._canvas_extra_style = function(el){\n",
       "    // this is important to make the div 'focusable\n",
       "    el.attr('tabindex', 0)\n",
       "    // reach out to IPython and tell the keyboard manager to turn it's self\n",
       "    // off when our div gets focus\n",
       "\n",
       "    // location in version 3\n",
       "    if (IPython.notebook.keyboard_manager) {\n",
       "        IPython.notebook.keyboard_manager.register_events(el);\n",
       "    }\n",
       "    else {\n",
       "        // location in version 2\n",
       "        IPython.keyboard_manager.register_events(el);\n",
       "    }\n",
       "\n",
       "}\n",
       "\n",
       "mpl.figure.prototype._key_event_extra = function(event, name) {\n",
       "    var manager = IPython.notebook.keyboard_manager;\n",
       "    if (!manager)\n",
       "        manager = IPython.keyboard_manager;\n",
       "\n",
       "    // Check for shift+enter\n",
       "    if (event.shiftKey && event.which == 13) {\n",
       "        this.canvas_div.blur();\n",
       "        // select the cell after this one\n",
       "        var index = IPython.notebook.find_cell_index(this.cell_info[0]);\n",
       "        IPython.notebook.select(index + 1);\n",
       "    }\n",
       "}\n",
       "\n",
       "mpl.figure.prototype.handle_save = function(fig, msg) {\n",
       "    fig.ondownload(fig, null);\n",
       "}\n",
       "\n",
       "\n",
       "mpl.find_output_cell = function(html_output) {\n",
       "    // Return the cell and output element which can be found *uniquely* in the notebook.\n",
       "    // Note - this is a bit hacky, but it is done because the \"notebook_saving.Notebook\"\n",
       "    // IPython event is triggered only after the cells have been serialised, which for\n",
       "    // our purposes (turning an active figure into a static one), is too late.\n",
       "    var cells = IPython.notebook.get_cells();\n",
       "    var ncells = cells.length;\n",
       "    for (var i=0; i<ncells; i++) {\n",
       "        var cell = cells[i];\n",
       "        if (cell.cell_type === 'code'){\n",
       "            for (var j=0; j<cell.output_area.outputs.length; j++) {\n",
       "                var data = cell.output_area.outputs[j];\n",
       "                if (data.data) {\n",
       "                    // IPython >= 3 moved mimebundle to data attribute of output\n",
       "                    data = data.data;\n",
       "                }\n",
       "                if (data['text/html'] == html_output) {\n",
       "                    return [cell, data, j];\n",
       "                }\n",
       "            }\n",
       "        }\n",
       "    }\n",
       "}\n",
       "\n",
       "// Register the function which deals with the matplotlib target/channel.\n",
       "// The kernel may be null if the page has been refreshed.\n",
       "if (IPython.notebook.kernel != null) {\n",
       "    IPython.notebook.kernel.comm_manager.register_target('matplotlib', mpl.mpl_figure_comm);\n",
       "}\n"
      ],
      "text/plain": [
       "<IPython.core.display.Javascript object>"
      ]
     },
     "metadata": {},
     "output_type": "display_data"
    },
    {
     "data": {
      "text/html": [
       "<img src=\"data:image/png;base64,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\">"
      ],
      "text/plain": [
       "<IPython.core.display.HTML object>"
      ]
     },
     "metadata": {},
     "output_type": "display_data"
    }
   ],
   "source": [
    "fig1 = figure(figsize=(8, 8))\n",
    "\n",
    "ax1 = fig1.gca()\n",
    "\n",
    "p1, = ax1.plot(t, q1)\n",
    "p2, = ax1.plot(t, q2)\n",
    "ax1.legend([p1, p2],[r\"$q_1$\", r\"$q_2$\"])\n",
    "ax1.set_ylim(-4, 4)\n",
    "ax1.set_xlim(-0.1, 10);"
   ]
  },
  {
   "cell_type": "code",
   "execution_count": 32,
   "metadata": {
    "collapsed": true
   },
   "outputs": [],
   "source": [
    "%matplotlib inline\n",
    "from matplotlib import animation\n",
    "from numpy import sin, cos, arange"
   ]
  },
  {
   "cell_type": "code",
   "execution_count": 34,
   "metadata": {
    "collapsed": false
   },
   "outputs": [
    {
     "data": {
      "image/png": "[encoded data removed]",
      "text/plain": [
       "<matplotlib.figure.Figure at 0x1132c6d68>"
      ]
     },
     "metadata": {},
     "output_type": "display_data"
    }
   ],
   "source": [
    "l1, l2 = 1, 1\n",
    "# Se define el tamaño de la figura\n",
    "fig = figure(figsize=(12.6, 6.6))\n",
    "\n",
    "# Se define una sola grafica en la figura y se dan los limites de los ejes x y y\n",
    "axi = fig.add_subplot(111, autoscale_on=False, xlim=(-2.1, 2.1), ylim=(-2.1, 2.1))\n",
    "axi.set_xticklabels([])\n",
    "axi.set_yticklabels([])\n",
    "axi.axes.get_xaxis().set_visible(False)\n",
    "axi.axes.get_yaxis().set_visible(False)\n",
    "\n",
    "# Se utilizan graficas de linea para el eslabon del pendulo\n",
    "linea, = axi.plot([], [], \"-o\", lw=2, color='gray')\n",
    "\n",
    "def init():\n",
    "    # Esta funcion se ejecuta una sola vez y sirve para inicializar el sistema\n",
    "    linea.set_data([], [])\n",
    "    return linea\n",
    "\n",
    "def animate(i):\n",
    "    # Esta funcion se ejecuta para cada cuadro del GIF\n",
    "    \n",
    "    # Se obtienen las coordenadas x y y para el eslabon\n",
    "    xs, ys = [[0, l1*cos(q1[i]), l1*cos(q1[i]) + l2*cos(q1[i]+q2[i])],\n",
    "              [0, l1*sin(q1[i]), l1*sin(q1[i]) + l2*sin(q1[i]+q2[i])]]\n",
    "    linea.set_data(xs, ys)\n",
    "    \n",
    "    return linea\n",
    "\n",
    "# Se hace la animacion dandole el nombre de la figura definida al principio, la funcion que\n",
    "# se debe ejecutar para cada cuadro, el numero de cuadros que se debe de hacer, el periodo \n",
    "# de cada cuadro y la funcion inicial\n",
    "ani = animation.FuncAnimation(fig, animate, arange(1, len(q1)),\n",
    "                              interval=25, init_func=init)\n",
    "\n",
    "# Se guarda el GIF en el archivo indicado\n",
    "ani.save('./imagenes/simulacion-doble.gif', writer='imagemagick');"
   ]
  },
  {
   "cell_type": "markdown",
   "metadata": {},
   "source": [
    "![](./imagenes/simulacion-doble.gif)"
   ]
  },
  {
   "cell_type": "code",
   "execution_count": null,
   "metadata": {
    "collapsed": true
   },
   "outputs": [],
   "source": []
  }
 ],
 "metadata": {
  "kernelspec": {
   "display_name": "Python [default]",
   "language": "python",
   "name": "python3"
  },
  "language_info": {
   "codemirror_mode": {
    "name": "ipython",
    "version": 3
   },
   "file_extension": ".py",
   "mimetype": "text/x-python",
   "name": "python",
   "nbconvert_exporter": "python",
   "pygments_lexer": "ipython3",
   "version": "3.5.2"
  }
 },
 "nbformat": 4,
 "nbformat_minor": 0
}
