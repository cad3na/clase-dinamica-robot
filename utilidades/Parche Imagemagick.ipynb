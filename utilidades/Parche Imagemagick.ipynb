{
 "cells": [
  {
   "cell_type": "markdown",
   "metadata": {},
   "source": [
    "# Parche de Imagemagick para crear GIF's en Windows"
   ]
  },
  {
   "cell_type": "markdown",
   "metadata": {},
   "source": [
    "Dentro del sistema operativo Windows, existen diversas aplicaciones que tan solo tiene que ser invocadas por su nombre, debido a que se encuentran dentro del ```PATH```, la cual es una variable que guarda los directorios en donde se encuentran estas funciones.\n",
    "\n",
    "Una de las aplicaciones utilizadas por Windows se llama ```convert```, la cual convierte archivos del sistema ```FAT32``` al sistema ```NTFS```, sin embargo el archivo de Imagemagick requerido por matplotlib para crear los GIF's tambien se llama ```convert```, por lo que no podemos agregar a Imagemagick al ```PATH``` de Windows, sin temor a provocar un error en el funcionamiento del sistema operativo, por lo que en vez de eso, le decimos a matplotlib en donde buscar a ```convert``` de Imagemagick.\n",
    "\n",
    "Lo primero que tenemos que hacer es obtener la ruta al archivo de configuración de matplotlib:"
   ]
  },
  {
   "cell_type": "code",
   "execution_count": 1,
   "metadata": {
    "collapsed": false
   },
   "outputs": [
    {
     "data": {
      "text/plain": [
       "'C:\\\\Users\\\\robbl_000\\\\Anaconda3\\\\lib\\\\site-packages\\\\matplotlib\\\\mpl-data\\\\matplotlibrc'"
      ]
     },
     "execution_count": 1,
     "metadata": {},
     "output_type": "execute_result"
    }
   ],
   "source": [
    "import matplotlib\n",
    "ruta = matplotlib.matplotlib_fname()\n",
    "ruta"
   ]
  },
  {
   "cell_type": "markdown",
   "metadata": {},
   "source": [
    "Buscamos el lugar en que esta instalado Imagemagick y ponemos la ruta del ejecutable ```convert```, agregando al inicio la etiqueta correspondiente al ejecutable:"
   ]
  },
  {
   "cell_type": "code",
   "execution_count": 2,
   "metadata": {
    "collapsed": false
   },
   "outputs": [
    {
     "data": {
      "text/plain": [
       "'\\r\\nanimation.convert_path: C:\\\\Program Files\\\\ImageMagick-6.9.1-Q8\\\\convert'"
      ]
     },
     "execution_count": 2,
     "metadata": {},
     "output_type": "execute_result"
    }
   ],
   "source": [
    "import os\n",
    "path_imagemagick = \"C:\\\\Program Files\\\\ImageMagick-6.9.1-Q8\\\\convert\"\n",
    "matplotlib_config = os.linesep + \"animation.convert_path: \" + path_imagemagick\n",
    "matplotlib_config"
   ]
  },
  {
   "cell_type": "markdown",
   "metadata": {},
   "source": [
    "Por ultimo agregamos esta linea al final del archivo:"
   ]
  },
  {
   "cell_type": "code",
   "execution_count": 3,
   "metadata": {
    "collapsed": false
   },
   "outputs": [],
   "source": [
    "f = open(ruta, \"a\")\n",
    "f.write(matplotlib_config)\n",
    "f.close()"
   ]
  }
 ],
 "metadata": {
  "kernelspec": {
   "display_name": "Python 3",
   "language": "python",
   "name": "python3"
  },
  "language_info": {
   "codemirror_mode": {
    "name": "ipython",
    "version": 3
   },
   "file_extension": ".py",
   "mimetype": "text/x-python",
   "name": "python",
   "nbconvert_exporter": "python",
   "pygments_lexer": "ipython3",
   "version": "3.4.3"
  }
 },
 "nbformat": 4,
 "nbformat_minor": 0
}
