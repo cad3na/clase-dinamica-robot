{
 "cells": [
  {
   "cell_type": "markdown",
   "metadata": {},
   "source": [
    "# Práctica 1 - Introducción a Jupyter lab y libreria ```robots```"
   ]
  },
  {
   "cell_type": "markdown",
   "metadata": {},
   "source": [
    "## Introducción a la libreria ```robots``` y sus simuladores"
   ]
  },
  {
   "cell_type": "markdown",
   "metadata": {},
   "source": [
    "Recordando los resultados obtenidos en el documento anterior, tenemos que:\n",
    "\n",
    "$$\n",
    "\\tau_1 = \\left[ m_1 l_1^2 + J_1 \\right] \\ddot{q}_1 + g\\left[ m_1 l_1 \\cos(q_1) \\right]\n",
    "$$\n",
    "\n",
    "sin embargo, no tenemos una buena manera de simular el comportamiento de este sistema ya que este sistema es de segundo orden y no lineal; por lo que el primer paso para simular este sistema es convertirlo a un sistema de primer orden.\n",
    "\n",
    "Primero necesitamos definir una variable de estado para el sistema, y ya que queremos convertir un sistema de segundo orden, en uno de primer orden, necesitamos duplicar el numero de variables."
   ]
  },
  {
   "cell_type": "markdown",
   "metadata": {},
   "source": [
    "> Nota: Si tuvieramos un sistema de tercer orden tendriamos que triplicar el numero de variables para convertirlo en un sistema de primer orden y asi sucesivamente."
   ]
  },
  {
   "cell_type": "markdown",
   "metadata": {},
   "source": [
    "Si definimos el estado del sistema $x$ como:\n",
    "\n",
    "$$\n",
    "x =\n",
    "\\begin{pmatrix} q_1 \\\\ \\dot{q}_1 \\end{pmatrix}\n",
    "$$\n",
    "\n",
    "entonces es claro que podemos obtener la derivada del sistema haciendo:\n",
    "\n",
    "$$\n",
    "\\dot{x} = \\frac{d}{dt} x = \\frac{d}{dt}\n",
    "\\begin{pmatrix} q_1 \\\\ \\dot{q}_1 \\end{pmatrix} = \n",
    "\\begin{pmatrix} \\dot{q}_1 \\\\ \\ddot{q}_1 \\end{pmatrix}\n",
    "$$\n",
    "\n",
    "por lo que podemos utilizar métodos numéricos como el método de Euler, Runge-Kutta, etc. para obtener el comportamiento de estas variables a traves del tiempo, tomando en cuenta que siempre es necesario tener una función $f$ tal que:\n",
    "\n",
    "$$\n",
    "\\dot{x} = f(x,t)\n",
    "$$"
   ]
  },
  {
   "cell_type": "markdown",
   "metadata": {},
   "source": [
    "Nuestra tarea entonces, es construir una función ```f```, tal que, cuando le demos como datos $x = \\begin{pmatrix} q_1 \\\\ \\dot{q}_1 \\end{pmatrix}$, nos pueda devolver como resultado $\\dot{x} = \\begin{pmatrix} \\dot{q}_1 \\\\ \\ddot{q}_1 \\end{pmatrix}$.\n",
    "\n",
    "Para esto necesitamos calcular $\\dot{q}_1$ y $\\ddot{q}_1$, pero si revisamos la ecuación de movimiento calculada en el documento anterior (```simbolico.ipynb```), podemos ver que $\\ddot{q}_1$ es facilmente despejable:\n",
    "\n",
    "$$\n",
    "\\ddot{q}_1 = \\frac{1}{m_1 l_1^2 + J_1} \\left[ \\tau_1 - g m_1 l_1 \\cos{q}_1 \\right]\n",
    "$$"
   ]
  },
  {
   "cell_type": "markdown",
   "metadata": {},
   "source": [
    "Para calcular $\\dot{q}_1$, tan solo tenemos que darnos cuenta que uno de nuestros datos es $\\dot{q}_1$, por lo que esta ecuación es trivial:\n",
    "\n",
    "$$\n",
    "\\dot{q}_1 = \\dot{q}_1\n",
    "$$\n",
    "\n",
    "con lo que ya tenemos todo lo necesario para construir la función ```f```:"
   ]
  },
  {
   "cell_type": "code",
   "execution_count": null,
   "metadata": {},
   "outputs": [],
   "source": [
    "def f(x, t):\n",
    "    # Se importan funciones matematicas necesarias\n",
    "    from numpy import cos\n",
    "    # Se desenvuelven las variables que componen al estado\n",
    "    q1, q̇1 = x\n",
    "    # Se definen constantes del sistema\n",
    "    g = 9.81\n",
    "    m1, J1 = 0.3, 0.0005\n",
    "    l1 = 0.2\n",
    "    τ1 = 0\n",
    "    \n",
    "    # Se calculan las variables a devolver por el sistema\n",
    "    q1p = q̇1\n",
    "    q1pp = 1/(m1*l1**2 + J1)*(τ1 - g*m1*l1*cos(q1))\n",
    "    # Se devuelve la derivada de las variables de entrada\n",
    "    return [q1p, q1pp]"
   ]
  },
  {
   "cell_type": "markdown",
   "metadata": {},
   "source": [
    "Una vez que tenemos la función ```f```, tenemos que importar la función ```odeint``` de la librería ```integrate``` de ```scipy```."
   ]
  },
  {
   "cell_type": "code",
   "execution_count": null,
   "metadata": {},
   "outputs": [],
   "source": [
    "from scipy.integrate import odeint"
   ]
  },
  {
   "cell_type": "markdown",
   "metadata": {},
   "source": [
    "Esta función implementará un método numérico para integrar el estado del sistema a traves del tiempo, definiremos tambien un vector con todos los tiempos en los que nos interesa saber el estado del sistema, para esto importamos ```linspace```."
   ]
  },
  {
   "cell_type": "code",
   "execution_count": null,
   "metadata": {},
   "outputs": [],
   "source": [
    "from numpy import linspace"
   ]
  },
  {
   "cell_type": "markdown",
   "metadata": {},
   "source": [
    "Definimos los tiempos como $0s$ hasta $10s$ con mil datos en total, y la condición inicial de nuestro sistema:\n",
    "\n",
    "$$\n",
    "x_0 = \\begin{pmatrix} 0 \\\\ 0 \\end{pmatrix} = \\begin{pmatrix} q_1 \\\\ \\dot{q}_1 \\end{pmatrix}\n",
    "$$"
   ]
  },
  {
   "cell_type": "code",
   "execution_count": null,
   "metadata": {},
   "outputs": [],
   "source": [
    "ts = linspace(0, 10, 1000)\n",
    "x0 = [0, 0]"
   ]
  },
  {
   "cell_type": "markdown",
   "metadata": {},
   "source": [
    "Y con estos datos, mandamos llamar a la función ```odeint```:"
   ]
  },
  {
   "cell_type": "code",
   "execution_count": null,
   "metadata": {},
   "outputs": [],
   "source": [
    "xs = odeint(f, x0, ts)"
   ]
  },
  {
   "cell_type": "markdown",
   "metadata": {},
   "source": [
    "Para visualizar estos datos importamos la libreria ```matplotlib``` para graficación:"
   ]
  },
  {
   "cell_type": "code",
   "execution_count": null,
   "metadata": {},
   "outputs": [],
   "source": [
    "from matplotlib.pyplot import plot, legend\n",
    "%matplotlib widget"
   ]
  },
  {
   "cell_type": "markdown",
   "metadata": {},
   "source": [
    "Y graficamos:"
   ]
  },
  {
   "cell_type": "code",
   "execution_count": null,
   "metadata": {},
   "outputs": [],
   "source": [
    "graf_pos, graf_vel = plot(xs)\n",
    "legend([graf_pos, graf_vel], [\"posicion\", \"velocidad\"])"
   ]
  },
  {
   "cell_type": "markdown",
   "metadata": {},
   "source": [
    "Sin embargo, en esta clase utilizaremos un sistema de simulación a medida, el cual nos quita la responsabilidad del codigo de graficación y nos brindará algunas ventajas en practicas posteriores. A continuación importamos la función ```simulador``` de la librería simuladores del paquete ```robots```:"
   ]
  },
  {
   "cell_type": "code",
   "execution_count": null,
   "metadata": {},
   "outputs": [],
   "source": [
    "from robots.simuladores import simulador"
   ]
  },
  {
   "cell_type": "markdown",
   "metadata": {},
   "source": [
    "> Nota que dentro de la carpeta de esta práctica existe una carpeta llamada robots, esta carpeta contiene todo el código que hace funcionar las siguientes funciones, si deseas averiguar como funciona, puedes abrir esos archivos y estudiarlos."
   ]
  },
  {
   "cell_type": "markdown",
   "metadata": {},
   "source": [
    "Definimos de nuevo la función ```f``` con la única diferencia del orden de las entradas:"
   ]
  },
  {
   "cell_type": "code",
   "execution_count": null,
   "metadata": {},
   "outputs": [],
   "source": [
    "def f(t, x):\n",
    "    # Se importan funciones matematicas necesarias\n",
    "    from numpy import cos\n",
    "    # Se desenvuelven las variables que componen al estado\n",
    "    q1, q̇1 = x\n",
    "    # Se definen constantes del sistema\n",
    "    g = 9.81\n",
    "    m1, J1 = 0.3, 0.0005\n",
    "    l1 = 0.4\n",
    "    τ1 = 0\n",
    "    \n",
    "    # Se calculan las variables a devolver por el sistema\n",
    "    q1p = q̇1\n",
    "    q1pp = 1/(m1*l1**2 + J1)*(τ1 - g*m1*l1*cos(q1))\n",
    "    # Se devuelve la derivada de las variables de entrada\n",
    "    return [q1p, q1pp]"
   ]
  },
  {
   "cell_type": "markdown",
   "metadata": {},
   "source": [
    "Mandamos llamar al simulador"
   ]
  },
  {
   "cell_type": "code",
   "execution_count": null,
   "metadata": {},
   "outputs": [],
   "source": [
    "%matplotlib widget\n",
    "ts, xs = simulador(puerto_zmq=\"5551\", f=f, x0=[0,0], dt=0.02)"
   ]
  },
  {
   "cell_type": "markdown",
   "metadata": {},
   "source": [
    "> El argumento ```puerto_zmq``` se refiere al puerto por el cual esta mandando datos, para el visualizador descrito a continuación."
   ]
  },
  {
   "cell_type": "markdown",
   "metadata": {},
   "source": [
    "Estos datos se estan actualizando en tiempo real, y si bien es posible ver el comportamiento general con esta gráfica, tambien es posible ver una visualización en tiempo real de este manipulador, para lo cual es necesario mantener este documento abierto, mientras se abre el documento ```visualizacion.ipynb```."
   ]
  }
 ],
 "metadata": {
  "kernelspec": {
   "display_name": "Python 3",
   "language": "python",
   "name": "python3"
  },
  "language_info": {
   "codemirror_mode": {
    "name": "ipython",
    "version": 3
   },
   "file_extension": ".py",
   "mimetype": "text/x-python",
   "name": "python",
   "nbconvert_exporter": "python",
   "pygments_lexer": "ipython3",
   "version": "3.6.6"
  }
 },
 "nbformat": 4,
 "nbformat_minor": 2
}
