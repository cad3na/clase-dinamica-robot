{
 "cells": [
  {
   "cell_type": "markdown",
   "metadata": {},
   "source": [
    "# Práctica 3 - Cinemática directa y dinámica de manipuladores"
   ]
  },
  {
   "cell_type": "code",
   "execution_count": null,
   "metadata": {
    "deletable": false,
    "nbgrader": {
     "checksum": "99c1fd13027498f1f6565477b09250bc",
     "grade": false,
     "grade_id": "cell-f34c4d5201ef0e67",
     "locked": false,
     "schema_version": 1,
     "solution": true
    }
   },
   "outputs": [],
   "source": [
    "def f(t, x):\n",
    "    # Se importan funciones matematicas necesarias\n",
    "    from numpy import matrix, sin, cos\n",
    "    # Se desenvuelven las variables que componen al estado\n",
    "    q1, q2, q3, q̇1, q̇2, q̇3 = x\n",
    "    # Se definen constantes del sistema\n",
    "    g = 9.81\n",
    "    m1, m2, m3, J1, J2, J3 = 0.3, 0.2, 0.2, 0.0005, 0.0002, 0.0002\n",
    "    l1, l2, l3 = 0.5, 0.4, 0.3\n",
    "    τ1, τ2, τ3 = 0, 0, 0\n",
    "    # Se agrupan terminos en vectores\n",
    "    q̇ = matrix([[q̇1], [q̇2], [q̇3]])\n",
    "    τ = matrix([[τ1], [τ2], [τ3]])\n",
    "    # Se calculan terminos comúnes\n",
    "    μ1 = (m2 + m3)*l2**2\n",
    "    μ2 = m3*l3**2\n",
    "    μ3 = m3*l2*l3\n",
    "    c2 = cos(q2)\n",
    "    c3 = cos(q3)\n",
    "    s2 = sin(q2)\n",
    "    s3 = sin(q3)\n",
    "    c23 = cos(q2 + q3)\n",
    "    cris1 = μ3*(sin(2*q2+q3)+s3) + μ2*sin(2*(q2+q3))\n",
    "    cris2 = μ1*sin(2*q2) + 2*μ3*sin(2*q2+q3) + μ2*sin(2*(q2+q3))\n",
    "    cris3 = 2*μ3*sin(q2+q3)*cos(q2) + μ2*sin(2*(q2+q3))\n",
    "    # Se calculan las matrices de la ecuación de movimiento\n",
    "    # ESCRIBE TU CODIGO AQUI\n",
    "    raise NotImplementedError\n",
    "    # Se calculan las variables a devolver por el sistema\n",
    "    # ESCRIBE TU CODIGO AQUI\n",
    "    raise NotImplementedError\n",
    "    q1pp = qpp.item(0)\n",
    "    q2pp = qpp.item(1)\n",
    "    q3pp = qpp.item(2)\n",
    "    # Se devuelve la derivada de las variables de entrada\n",
    "    return [q1p, q2p, q3p, q1pp, q2pp, q3pp]"
   ]
  },
  {
   "cell_type": "code",
   "execution_count": null,
   "metadata": {
    "deletable": false,
    "editable": false,
    "nbgrader": {
     "checksum": "58508d6927dd69d9def209ea7ba8b824",
     "grade": true,
     "grade_id": "cell-38c4d0977442c793",
     "locked": true,
     "points": 3,
     "schema_version": 1,
     "solution": false
    }
   },
   "outputs": [],
   "source": [
    "from numpy.testing import assert_almost_equal\n",
    "assert_almost_equal(f(0, [0,0,0,0,0,0]), [0, 0, 0, 0.0, -24.37, 24.17], 2)\n",
    "assert_almost_equal(f(0, [1,1,1,0,0,0]), [0, 0, 0, 0.0, -18.60, 45.32], 2)\n",
    "print(\"Sin errores\")"
   ]
  },
  {
   "cell_type": "markdown",
   "metadata": {},
   "source": [
    "Mandamos llamar al simulador"
   ]
  },
  {
   "cell_type": "code",
   "execution_count": null,
   "metadata": {},
   "outputs": [],
   "source": [
    "from robots.simuladores import simulador"
   ]
  },
  {
   "cell_type": "code",
   "execution_count": null,
   "metadata": {},
   "outputs": [],
   "source": [
    "%matplotlib widget\n",
    "ts, xs = simulador(puerto_zmq=\"5551\", f=f, x0=[0, 0, 0, 0.1, 0, 0], dt=0.04)"
   ]
  },
  {
   "cell_type": "markdown",
   "metadata": {},
   "source": [
    "> El argumento ```puerto_zmq``` se refiere al puerto por el cual esta mandando datos, para el visualizador descrito a continuación."
   ]
  },
  {
   "cell_type": "markdown",
   "metadata": {},
   "source": [
    "Estos datos se estan actualizando en tiempo real, y si bien es posible ver el comportamiento general con esta gráfica, tambien es posible ver una visualización en tiempo real de este manipulador, para lo cual es necesario mantener este documento abierto, mientras se abre el documento ```visualizacion.ipynb```."
   ]
  }
 ],
 "metadata": {
  "kernelspec": {
   "display_name": "Python 3",
   "language": "python",
   "name": "python3"
  },
  "language_info": {
   "codemirror_mode": {
    "name": "ipython",
    "version": 3
   },
   "file_extension": ".py",
   "mimetype": "text/x-python",
   "name": "python",
   "nbconvert_exporter": "python",
   "pygments_lexer": "ipython3",
   "version": "3.6.6"
  }
 },
 "nbformat": 4,
 "nbformat_minor": 2
}
