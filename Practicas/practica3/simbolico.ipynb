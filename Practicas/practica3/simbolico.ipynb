{
 "cells": [
  {
   "cell_type": "markdown",
   "metadata": {},
   "source": [
    "# Práctica 3 - Dinámica de manipuladores"
   ]
  },
  {
   "cell_type": "markdown",
   "metadata": {},
   "source": [
    "En esta práctica nuestro objetivo será simular el comportamiento de un manipulador tipo PUMA, empecemos importando las liberrias necesarias:"
   ]
  },
  {
   "cell_type": "code",
   "execution_count": null,
   "metadata": {},
   "outputs": [],
   "source": [
    "from sympy.physics.mechanics import mechanics_printing\n",
    "mechanics_printing()"
   ]
  },
  {
   "cell_type": "code",
   "execution_count": null,
   "metadata": {},
   "outputs": [],
   "source": [
    "from sympy import var, Function, pi"
   ]
  },
  {
   "cell_type": "code",
   "execution_count": null,
   "metadata": {},
   "outputs": [],
   "source": [
    "var(\"l1:4\")"
   ]
  },
  {
   "cell_type": "code",
   "execution_count": null,
   "metadata": {},
   "outputs": [],
   "source": [
    "var(\"m1:4\")"
   ]
  },
  {
   "cell_type": "code",
   "execution_count": null,
   "metadata": {},
   "outputs": [],
   "source": [
    "var(\"g t\")"
   ]
  },
  {
   "cell_type": "code",
   "execution_count": null,
   "metadata": {},
   "outputs": [],
   "source": [
    "q1 = Function(\"q1\")(t)\n",
    "q2 = Function(\"q2\")(t)\n",
    "q3 = Function(\"q3\")(t)"
   ]
  },
  {
   "cell_type": "markdown",
   "metadata": {},
   "source": [
    "Y copiando la función para generar matrices de transformación homogéneas a partir de los parametros DH:"
   ]
  },
  {
   "cell_type": "code",
   "execution_count": null,
   "metadata": {},
   "outputs": [],
   "source": [
    "def DH(params):\n",
    "    from sympy import Matrix, sin, cos\n",
    "    a, d, α, θ = params\n",
    "    A = Matrix([[cos(θ), -sin(θ)*cos(α), sin(θ)*sin(α), a*cos(θ)],\n",
    "                [sin(θ), cos(θ)*cos(α), -cos(θ)*sin(α), a*sin(θ)],\n",
    "                [0, sin(α), cos(α), d],\n",
    "                [0, 0, 0, 1]])\n",
    "    return A"
   ]
  },
  {
   "cell_type": "code",
   "execution_count": null,
   "metadata": {},
   "outputs": [],
   "source": [
    "A1 = DH([0, l1, pi/2, q1])\n",
    "A2 = DH([l2, 0, 0, q2])\n",
    "A3 = DH([l3, 0, 0, q3])\n",
    "\n",
    "As = [A1, A2, A3]\n",
    "As"
   ]
  },
  {
   "cell_type": "markdown",
   "metadata": {},
   "source": [
    "He guardado todas las matrices de transformación homgénea en un solo arreglo, de tal manera que puedo hacer una función que tome todas las transformaciones de cada eslabon, y me devuelva las transformaciones a cada articulacion:"
   ]
  },
  {
   "cell_type": "code",
   "execution_count": null,
   "metadata": {},
   "outputs": [],
   "source": [
    "def transf_art(transformaciones):\n",
    "    from sympy import eye, simplify\n",
    "    Hs = [eye(4)]\n",
    "    for trans in transformaciones:\n",
    "        Hs.append(simplify(Hs[-1]*trans))\n",
    "        \n",
    "    return Hs[1:]"
   ]
  },
  {
   "cell_type": "code",
   "execution_count": null,
   "metadata": {},
   "outputs": [],
   "source": [
    "Hs = transf_art(As)\n",
    "Hs"
   ]
  },
  {
   "cell_type": "markdown",
   "metadata": {},
   "source": [
    "Una vez obtenido esto, puedo obtener las posiciones de cada articulación con una *List comprehension*:"
   ]
  },
  {
   "cell_type": "code",
   "execution_count": null,
   "metadata": {},
   "outputs": [],
   "source": [
    "ps = [H[0:3, 3:4] for H in Hs]\n",
    "ps"
   ]
  },
  {
   "cell_type": "markdown",
   "metadata": {},
   "source": [
    "---\n",
    "## Ejercicio"
   ]
  },
  {
   "cell_type": "markdown",
   "metadata": {},
   "source": [
    "* Genera una lista que contenga todas las matrices de rotación de cada articulación usando list comprehensions"
   ]
  },
  {
   "cell_type": "code",
   "execution_count": null,
   "metadata": {
    "deletable": false,
    "nbgrader": {
     "checksum": "b758b22a1cac8247fd860f2e6ea144f3",
     "grade": false,
     "grade_id": "cell-09f57f56a679819c",
     "locked": false,
     "schema_version": 1,
     "solution": true
    }
   },
   "outputs": [],
   "source": [
    "# ESCRIBE TU CODIGO AQUI\n",
    "raise NotImplementedError\n",
    "Rs"
   ]
  },
  {
   "cell_type": "code",
   "execution_count": null,
   "metadata": {
    "deletable": false,
    "editable": false,
    "nbgrader": {
     "checksum": "a9430828c64fe5e660b283da03e3429b",
     "grade": true,
     "grade_id": "cell-885562a013c4c556",
     "locked": true,
     "points": 1,
     "schema_version": 1,
     "solution": false
    }
   },
   "outputs": [],
   "source": [
    "from nose.tools import assert_equal\n",
    "from sympy import Matrix, sin, cos, var\n",
    "\n",
    "R1 = Matrix([[cos(q1), 0, sin(q1)],\n",
    "             [sin(q1), 0, -cos(q1)],\n",
    "             [0, 1, 0]])\n",
    "R2 = Matrix([[cos(q1)*cos(q2), -sin(q2)*cos(q1), sin(q1)],\n",
    "             [sin(q1)*cos(q2), -sin(q2)*sin(q1), -cos(q1)],\n",
    "             [sin(q2), cos(q2), 0]])\n",
    "R3 = Matrix([[cos(q1)*cos(q2+q3), -sin(q2+q3)*cos(q1), sin(q1)],\n",
    "             [sin(q1)*cos(q2+q3), -sin(q2+q3)*sin(q1), -cos(q1)],\n",
    "             [sin(q2+q3), cos(q2+q3), 0]])\n",
    "\n",
    "assert_equal(Rs[0], R1)\n",
    "assert_equal(Rs[1], R2)\n",
    "assert_equal(Rs[2], R3)"
   ]
  },
  {
   "cell_type": "markdown",
   "metadata": {},
   "source": [
    "Si ahora declaramos un vector con todos los grados de libertad:"
   ]
  },
  {
   "cell_type": "code",
   "execution_count": null,
   "metadata": {},
   "outputs": [],
   "source": [
    "q = [q1, q2, q3]"
   ]
  },
  {
   "cell_type": "markdown",
   "metadata": {},
   "source": [
    "podemos obtener el Jacobiano traslacional de cada articulacion con:"
   ]
  },
  {
   "cell_type": "code",
   "execution_count": null,
   "metadata": {},
   "outputs": [],
   "source": [
    "ps[1].jacobian(q)"
   ]
  },
  {
   "cell_type": "markdown",
   "metadata": {},
   "source": [
    "---\n",
    "## Ejercicio"
   ]
  },
  {
   "cell_type": "markdown",
   "metadata": {},
   "source": [
    "* Genera una lista con los Jacobianos traslacionales"
   ]
  },
  {
   "cell_type": "code",
   "execution_count": null,
   "metadata": {
    "deletable": false,
    "nbgrader": {
     "checksum": "2a9b4bd3a4f2e0fd9fed5043696ba577",
     "grade": false,
     "grade_id": "cell-49f35465135573b2",
     "locked": false,
     "schema_version": 1,
     "solution": true
    }
   },
   "outputs": [],
   "source": [
    "# ESCRIBE TU CODIGO AQUI\n",
    "raise NotImplementedError\n",
    "Jvs"
   ]
  },
  {
   "cell_type": "code",
   "execution_count": null,
   "metadata": {
    "deletable": false,
    "editable": false,
    "nbgrader": {
     "checksum": "a42007a518784bc5562e713be9a35a59",
     "grade": true,
     "grade_id": "cell-0cdb2b0f2cca1197",
     "locked": true,
     "points": 1,
     "schema_version": 1,
     "solution": false
    }
   },
   "outputs": [],
   "source": [
    "from nose.tools import assert_equal\n",
    "assert_equal(Jvs[0], ps[0].jacobian(q))\n",
    "assert_equal(Jvs[1], ps[1].jacobian(q))\n",
    "assert_equal(Jvs[2], ps[2].jacobian(q))"
   ]
  },
  {
   "cell_type": "markdown",
   "metadata": {},
   "source": [
    "Un paso que tenemos que hacer manualmente es definir los vectores de orientación (compuesto por $\\phi$, $\\theta$ y $\\psi$) ya que se tiene un sistema sobrerestringido, pero son lo suficientemente faciles de obtener:"
   ]
  },
  {
   "cell_type": "code",
   "execution_count": null,
   "metadata": {},
   "outputs": [],
   "source": [
    "o1 = Matrix([[0], [0], [q1]])\n",
    "o1"
   ]
  },
  {
   "cell_type": "code",
   "execution_count": null,
   "metadata": {},
   "outputs": [],
   "source": [
    "o2 = Matrix([[0], [q2], [q1]])\n",
    "o2"
   ]
  },
  {
   "cell_type": "code",
   "execution_count": null,
   "metadata": {},
   "outputs": [],
   "source": [
    "o3 = Matrix([[0], [q2 + q3], [q1]])\n",
    "o3"
   ]
  },
  {
   "cell_type": "markdown",
   "metadata": {},
   "source": [
    "y si se guarda una lista con cada uno de estos vectores, se puede obtener el jacobiano rotacional de la misma manera que el traslacional:"
   ]
  },
  {
   "cell_type": "code",
   "execution_count": null,
   "metadata": {},
   "outputs": [],
   "source": [
    "os = [o1, o2, o3]"
   ]
  },
  {
   "cell_type": "markdown",
   "metadata": {},
   "source": [
    "---\n",
    "## Ejercicio"
   ]
  },
  {
   "cell_type": "markdown",
   "metadata": {},
   "source": [
    "* Genera una lista con los Jacobianos rotacionales"
   ]
  },
  {
   "cell_type": "code",
   "execution_count": null,
   "metadata": {
    "deletable": false,
    "nbgrader": {
     "checksum": "40b5e9431132bcf547fb63d2622dca70",
     "grade": false,
     "grade_id": "cell-44e0e2d24f3d181e",
     "locked": false,
     "schema_version": 1,
     "solution": true
    }
   },
   "outputs": [],
   "source": [
    "# ESCRIBE TU CODIGO AQUI\n",
    "raise NotImplementedError\n",
    "Jωs"
   ]
  },
  {
   "cell_type": "code",
   "execution_count": null,
   "metadata": {
    "deletable": false,
    "editable": false,
    "nbgrader": {
     "checksum": "c0a8424392941c13f5555fb2439f7b56",
     "grade": true,
     "grade_id": "cell-d1b12388ac633af3",
     "locked": true,
     "points": 1,
     "schema_version": 1,
     "solution": false
    }
   },
   "outputs": [],
   "source": [
    "from nose.tools import assert_equal\n",
    "assert_equal(Jωs[0], os[0].jacobian(q))\n",
    "assert_equal(Jωs[1], os[1].jacobian(q))\n",
    "assert_equal(Jωs[2], os[2].jacobian(q))"
   ]
  },
  {
   "cell_type": "markdown",
   "metadata": {},
   "source": [
    "Otra cosa que podemos hacer en automatico es definir los tensores de inercia necesarios para el manipulador, ya que esto solo depende del numero de grados de libertad, defino la función que va a tomar el vector con el estado del sistema, $q$, y va a calcular una lista con los tensores:"
   ]
  },
  {
   "cell_type": "code",
   "execution_count": null,
   "metadata": {},
   "outputs": [],
   "source": [
    "def tens_iner(q):\n",
    "    from sympy import Matrix\n",
    "    Is = []\n",
    "    for i in range(len(q)):\n",
    "        Js = [var(\"J_{\" + str(i+1) + \"_\" + eje + \"}\") for eje in \"xyz\"]\n",
    "        I = Matrix([[Js[0], 0, 0], [0, Js[1], 0], [0, 0, Js[2]]])\n",
    "        Is.append(I)\n",
    "    return Is"
   ]
  },
  {
   "cell_type": "code",
   "execution_count": null,
   "metadata": {},
   "outputs": [],
   "source": [
    "Is = tens_iner(q)\n",
    "Is"
   ]
  },
  {
   "cell_type": "markdown",
   "metadata": {},
   "source": [
    "definiré una lista con todas las masas de los eslabones:"
   ]
  },
  {
   "cell_type": "code",
   "execution_count": null,
   "metadata": {},
   "outputs": [],
   "source": [
    "ms = [m1, m2, m3]"
   ]
  },
  {
   "cell_type": "markdown",
   "metadata": {},
   "source": [
    "De tal manera que podamos hacer una función que tome estas, los jacobianos y los tensores de inercia,para calcular la matriz de masas:"
   ]
  },
  {
   "cell_type": "code",
   "execution_count": null,
   "metadata": {},
   "outputs": [],
   "source": [
    "def matriz_masas(ms, Jvs, Is, Jωs):\n",
    "    from sympy import zeros, expand, simplify\n",
    "    M = zeros(len(ms))\n",
    "    for m, Jv, I, Jω in zip(ms, Jvs, Is, Jωs):\n",
    "        M += simplify(expand(m*Jv.T*Jv + Jω.T*I*Jω))\n",
    "    return M"
   ]
  },
  {
   "cell_type": "code",
   "execution_count": null,
   "metadata": {},
   "outputs": [],
   "source": [
    "M = matriz_masas(ms, Jvs, Is, Jωs)\n",
    "M"
   ]
  },
  {
   "cell_type": "markdown",
   "metadata": {},
   "source": [
    "mmm... un poco grande, tratemos de simplificar un poco:"
   ]
  },
  {
   "cell_type": "code",
   "execution_count": null,
   "metadata": {},
   "outputs": [],
   "source": [
    "from sympy import simplify"
   ]
  },
  {
   "cell_type": "code",
   "execution_count": null,
   "metadata": {},
   "outputs": [],
   "source": [
    "simplify(M)"
   ]
  },
  {
   "cell_type": "markdown",
   "metadata": {},
   "source": [
    "mmm... un poco mejor, pero aun no es viable; los terminos del segundo y tercer grado de libertad son simples, el problema es el primero, tratemos de simplificar solo ese termino, intentaremos factorizar $l_2^2$ y $l_3^2$ y despues simplificar:"
   ]
  },
  {
   "cell_type": "code",
   "execution_count": null,
   "metadata": {},
   "outputs": [],
   "source": [
    "M[0].collect(l2**2).collect(l3**2).collect(m3).simplify()"
   ]
  },
  {
   "cell_type": "markdown",
   "metadata": {},
   "source": [
    "esto se ve aceptable, apliquemoslo a toda la matriz:"
   ]
  },
  {
   "cell_type": "code",
   "execution_count": null,
   "metadata": {},
   "outputs": [],
   "source": [
    "M = simplify(M.applyfunc(lambda M: collect(M, l2**2)).applyfunc(lambda M: collect(M, l3**2)).applyfunc(lambda M: collect(M, m3)))\n",
    "M"
   ]
  },
  {
   "cell_type": "markdown",
   "metadata": {},
   "source": [
    "---\n",
    "## Ejercicio"
   ]
  },
  {
   "cell_type": "markdown",
   "metadata": {},
   "source": [
    "* Escribe el código de una función, que dada la matriz de masas, una lista con los grados de libertad y los indices de posición, calcule el símbolo de Christoffel pedido, recuerde que la formula es:\n",
    "\n",
    "$$\n",
    "c_{ijk} = \\frac{1}{2}\\left\\{\\frac{\\partial M_{kj}}{\\partial q_i} + \\frac{\\partial M_{ki}}{\\partial q_j} - \\frac{\\partial M_{ij}}{\\partial q_k}\\right\\}\n",
    "$$"
   ]
  },
  {
   "cell_type": "code",
   "execution_count": null,
   "metadata": {
    "deletable": false,
    "nbgrader": {
     "checksum": "aad721df7239380868244845dace9202",
     "grade": false,
     "grade_id": "cell-c824366ecb28e65d",
     "locked": false,
     "schema_version": 1,
     "solution": true
    }
   },
   "outputs": [],
   "source": [
    "def christoffel(M, q, i, j, k):\n",
    "    from sympy import Rational, simplify\n",
    "    # ESCRIBE TU CODIGO AQUI\n",
    "    raise NotImplementedError\n",
    "    return simplify(simbolo)"
   ]
  },
  {
   "cell_type": "code",
   "execution_count": null,
   "metadata": {
    "deletable": false,
    "editable": false,
    "nbgrader": {
     "checksum": "b5510cfa193d1f771d1e45ffa2a302e9",
     "grade": true,
     "grade_id": "cell-03602238bee80363",
     "locked": true,
     "points": 1,
     "schema_version": 1,
     "solution": false
    }
   },
   "outputs": [],
   "source": [
    "from nose.tools import assert_equal\n",
    "from sympy import Rational, expand\n",
    "assert_equal(christoffel(M, q, 0,0,1), expand(Rational(1,2)*((m2+m3)*l2**2*sin(2*q2) + m3*l3**2*sin(2*(q2+q3))) + m3*l2*l3*sin(2*q2+q3)))\n",
    "assert_equal(christoffel(M, q, 0,0,0), 0)"
   ]
  },
  {
   "cell_type": "markdown",
   "metadata": {},
   "source": [
    "Con esta función podemos calcular cualquier simbolo de Christoffel (recordando que los indices en Python empiezan en $0$:"
   ]
  },
  {
   "cell_type": "code",
   "execution_count": null,
   "metadata": {},
   "outputs": [],
   "source": [
    "c113 = christoffel(M, q, 0,0,2)\n",
    "c113"
   ]
  },
  {
   "cell_type": "markdown",
   "metadata": {},
   "source": [
    "y crear una función que calcule todos los simbolos de Christoffel a partir de esta función:"
   ]
  },
  {
   "cell_type": "code",
   "execution_count": null,
   "metadata": {},
   "outputs": [],
   "source": [
    "def simbolos_chris(M, q):\n",
    "    simbolos = []\n",
    "    for i in range(len(q)):\n",
    "        sim = []\n",
    "        for j in range(len(q)):\n",
    "            s = [christoffel(M, q, i, j, k) for k in range(len(q))]\n",
    "            sim.append(s)\n",
    "        simbolos.append(sim)\n",
    "    return simbolos"
   ]
  },
  {
   "cell_type": "code",
   "execution_count": null,
   "metadata": {},
   "outputs": [],
   "source": [
    "simbolos_christoffel = simbolos_chris(M, q)"
   ]
  },
  {
   "cell_type": "code",
   "execution_count": null,
   "metadata": {},
   "outputs": [],
   "source": [
    "simbolos_christoffel[0][0][2]"
   ]
  },
  {
   "cell_type": "markdown",
   "metadata": {},
   "source": [
    "Y ya con los simbolos de Christoffel, calcular la matriz de Coriolis:"
   ]
  },
  {
   "cell_type": "code",
   "execution_count": null,
   "metadata": {},
   "outputs": [],
   "source": [
    "def matriz_coriolis(simbolos, q̇):\n",
    "    from sympy import Matrix\n",
    "    coriolis = []\n",
    "    for k in range(len(simbolos)):\n",
    "        cor = []\n",
    "        for j in range(len(simbolos)):\n",
    "            c=0\n",
    "            for i in range(len(simbolos)):\n",
    "                c+= simbolos[i][j][k]*q̇[i]\n",
    "            cor.append(c)\n",
    "        coriolis.append(cor)\n",
    "    return Matrix(coriolis)"
   ]
  },
  {
   "cell_type": "code",
   "execution_count": null,
   "metadata": {},
   "outputs": [],
   "source": [
    "C = simplify(matriz_coriolis(simbolos_christoffel, q̇))\n",
    "C"
   ]
  },
  {
   "cell_type": "markdown",
   "metadata": {},
   "source": [
    "En este punto tenemos un resultado lo suficientemente compacto para copiarlo a las definiciones numéricas, por lo que seguimos al vector de gravedad:"
   ]
  },
  {
   "cell_type": "code",
   "execution_count": null,
   "metadata": {},
   "outputs": [],
   "source": [
    "def ener_pot(params):\n",
    "    m, h = params\n",
    "    U = m*g*h\n",
    "    return U"
   ]
  },
  {
   "cell_type": "markdown",
   "metadata": {},
   "source": [
    "Y calculando las energías potenciales:"
   ]
  },
  {
   "cell_type": "code",
   "execution_count": null,
   "metadata": {},
   "outputs": [],
   "source": [
    "h1, h2, h3 = ps[0][2], ps[1][2], ps[2][2]"
   ]
  },
  {
   "cell_type": "code",
   "execution_count": null,
   "metadata": {},
   "outputs": [],
   "source": [
    "U1 = ener_pot([m1, h1])\n",
    "U2 = ener_pot([m2, h2])\n",
    "U3 = ener_pot([m3, h3])"
   ]
  },
  {
   "cell_type": "code",
   "execution_count": null,
   "metadata": {},
   "outputs": [],
   "source": [
    "U = U1 + U2 + U3"
   ]
  },
  {
   "cell_type": "code",
   "execution_count": null,
   "metadata": {},
   "outputs": [],
   "source": [
    "def vector_grav(U, q):\n",
    "    from sympy import Matrix\n",
    "    return Matrix([[U]]).jacobian(q).T"
   ]
  },
  {
   "cell_type": "code",
   "execution_count": null,
   "metadata": {},
   "outputs": [],
   "source": [
    "G = vector_grav(U, q)\n",
    "G"
   ]
  },
  {
   "cell_type": "markdown",
   "metadata": {},
   "source": [
    "Una vez que hemos concluido este proceso, podemos pasar al documento llamado ```numerico.ipynb```"
   ]
  }
 ],
 "metadata": {
  "kernelspec": {
   "display_name": "Python 3",
   "language": "python",
   "name": "python3"
  },
  "language_info": {
   "codemirror_mode": {
    "name": "ipython",
    "version": 3
   },
   "file_extension": ".py",
   "mimetype": "text/x-python",
   "name": "python",
   "nbconvert_exporter": "python",
   "pygments_lexer": "ipython3",
   "version": "3.6.6"
  }
 },
 "nbformat": 4,
 "nbformat_minor": 2
}
