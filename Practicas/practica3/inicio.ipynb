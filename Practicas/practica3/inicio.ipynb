{
 "cells": [
  {
   "cell_type": "markdown",
   "metadata": {},
   "source": [
    "# Práctica 3 - Dinámica de manipuladores"
   ]
  },
  {
   "cell_type": "markdown",
   "metadata": {},
   "source": [
    "## List comprehensions"
   ]
  },
  {
   "cell_type": "markdown",
   "metadata": {},
   "source": [
    "En esta práctica nos enfocaremos en temas avanzados de programación que se aplican directamente al lenguaje de programación Python y a algunos otros lenguajes de programación. En primer lugar veamos la instrucción ```range```:"
   ]
  },
  {
   "cell_type": "code",
   "execution_count": null,
   "metadata": {},
   "outputs": [],
   "source": [
    "range(5)"
   ]
  },
  {
   "cell_type": "markdown",
   "metadata": {},
   "source": [
    "Mmmm..., realmente no hizo nada... bueno, el objetivo de esta función de la libreria standard de Python es crear un arreglo de enteros desde $0$ hasta el numero que le demos como argumento:"
   ]
  },
  {
   "cell_type": "code",
   "execution_count": null,
   "metadata": {},
   "outputs": [],
   "source": [
    "for i in range(5):\n",
    "    print(i)"
   ]
  },
  {
   "cell_type": "markdown",
   "metadata": {},
   "source": [
    "En este caso es obvio como se estan generando los numeros, desde $0$ hasta ¿$4$?. Mas bien hasta que el numero de elementos sea el numero dado, o bien $n-1$; de cualquier manera, esta forma de utilizar el ciclo ```for``` es la que nos da el vinculo con el ```for``` tradicional de otros lenguajes de programación, pero en Python tenemos una manera diferente de usar este mismo ```for```, *List Comprehensions*:"
   ]
  },
  {
   "cell_type": "code",
   "execution_count": null,
   "metadata": {},
   "outputs": [],
   "source": [
    "[i for i in range(5)]"
   ]
  },
  {
   "cell_type": "markdown",
   "metadata": {},
   "source": [
    "Si recuerdas la práctica 1, para crear un arreglo con numeros adentro, podiamos utilizar el siguiente código:"
   ]
  },
  {
   "cell_type": "code",
   "execution_count": null,
   "metadata": {},
   "outputs": [],
   "source": [
    "A = []\n",
    "for i in range(5):\n",
    "    A.append(i)\n",
    "    \n",
    "A"
   ]
  },
  {
   "cell_type": "markdown",
   "metadata": {},
   "source": [
    "Sin embargo, comparandolo con la simplicidad del código anterior, este enfoque palidece, por lo que en Python es normal ver este tipo de construcciones, podemos diseccionarlo en dos partes:\n",
    "\n",
    "```Python\n",
    "[i for i in range(5)]\n",
    "```\n",
    "\n",
    "en la primera, ```i``` ocupa el lugar del elemento que nos dicta que es lo que vamos a guardar en el arreglo final; en este caso, es el numero a secas, por lo que no hacemos ninguna operación, pero si queremos guardar en un arreglo, por ejemplo, los cuadrados de los primeros $10$ enteros positivos, tendremos:"
   ]
  },
  {
   "cell_type": "code",
   "execution_count": null,
   "metadata": {},
   "outputs": [],
   "source": [
    "[i**2 for i in range(10)]"
   ]
  },
  {
   "cell_type": "markdown",
   "metadata": {},
   "source": [
    "La segunda parte de este código,\n",
    "\n",
    "```Python\n",
    "[i for i in range(5)]\n",
    "```\n",
    "\n",
    "es el ```for```, esta es la razon por la que usamos ```i``` anteriormente, da lo mismo escribir:"
   ]
  },
  {
   "cell_type": "code",
   "execution_count": null,
   "metadata": {},
   "outputs": [],
   "source": [
    "[x**2 for x in range(10)]"
   ]
  },
  {
   "cell_type": "markdown",
   "metadata": {},
   "source": [
    "y por supuesto **no** funcionará si:"
   ]
  },
  {
   "cell_type": "code",
   "execution_count": null,
   "metadata": {},
   "outputs": [],
   "source": [
    "[x**2 for i in range(10)]"
   ]
  },
  {
   "cell_type": "markdown",
   "metadata": {},
   "source": [
    "Pero regresemos por un momento al primer pedazo de código que escribimos:"
   ]
  },
  {
   "cell_type": "code",
   "execution_count": null,
   "metadata": {},
   "outputs": [],
   "source": [
    "range(5)"
   ]
  },
  {
   "cell_type": "markdown",
   "metadata": {},
   "source": [
    "Si ese... lo que esta pasando aqui es que Python realmente no quiere evaluar esta expresión hasta que sea completamente necesario, a este concepto se le llama *Lazy Evaluation*, o evaluación floja; a pesar de la mala reputación que tiene Python por ser lento, y por ocupar demasiada memoria de ejecución, tiene caracteristicas bastante interesantes, como el hecho de no evaluar expresiones que no van a ser necesarias.\n",
    "\n",
    "Hagamos un ejemplo para que quede mas claro:"
   ]
  },
  {
   "cell_type": "code",
   "execution_count": null,
   "metadata": {},
   "outputs": [],
   "source": [
    "if False:\n",
    "    A = []\n",
    "    for i in range(5):\n",
    "        A.append(i)\n",
    "else:\n",
    "    pass"
   ]
  },
  {
   "cell_type": "markdown",
   "metadata": {},
   "source": [
    "En este código las lineas dentro del ```if``` nunca serán ejecutadas, por lo que si tuvieramos un lenguaje de programación compilado (como C), en primer lugar tendría que reservar espacio en memoria para el arreglo que va a guardar los datos de ```A```, sin embargo nunca se utilizaria ese espacio, en Python nunca se ejecutarán esas lineas y lo demostraremos:"
   ]
  },
  {
   "cell_type": "code",
   "execution_count": null,
   "metadata": {},
   "outputs": [],
   "source": [
    "%%timeit\n",
    "A = [i for i in range(5)]"
   ]
  },
  {
   "cell_type": "markdown",
   "metadata": {},
   "source": [
    "Una de las funciones especiales de Jupyter (no de Python) es que si escribo ```%%timeit``` al inicio de cualquier celda, la ejecutará muchas veces y me reportará el promedio de tiempo que se tardó en ejecutar esta celda, en este caso nuestro programa se tardó $739ns$ en promedio.\n",
    "\n",
    "Si por el otro lado, ejecuto las lineas en donde saltará especificamente la creación de este arreglo tendremos:"
   ]
  },
  {
   "cell_type": "code",
   "execution_count": null,
   "metadata": {},
   "outputs": [],
   "source": [
    "%%timeit\n",
    "if False:\n",
    "    A =[]\n",
    "    for i in range(5):\n",
    "        A.append(i)\n",
    "else:\n",
    "    pass"
   ]
  },
  {
   "cell_type": "markdown",
   "metadata": {},
   "source": [
    "En esta ocasión se tarda $12.4ns$ ya que en realidad no esta haciendo nada..."
   ]
  },
  {
   "cell_type": "markdown",
   "metadata": {},
   "source": [
    "Por cierto, una cosa más... las list comprehensions funcionan no solo con ```range```, sino con cualquier arreglo, como en el siguiente caso:"
   ]
  },
  {
   "cell_type": "code",
   "execution_count": null,
   "metadata": {},
   "outputs": [],
   "source": [
    "[x**2 + 1 for x in [2,4,6,8,10]]"
   ]
  },
  {
   "cell_type": "markdown",
   "metadata": {},
   "source": [
    "o incluso este:"
   ]
  },
  {
   "cell_type": "code",
   "execution_count": null,
   "metadata": {},
   "outputs": [],
   "source": [
    "[caracter + \" abc\" for caracter in \"pizza\"]"
   ]
  },
  {
   "cell_type": "markdown",
   "metadata": {},
   "source": [
    "---\n",
    "## Ejercicio"
   ]
  },
  {
   "cell_type": "markdown",
   "metadata": {},
   "source": [
    "Utilizando list comprehensions:"
   ]
  },
  {
   "cell_type": "markdown",
   "metadata": {},
   "source": [
    "* Genera un arreglo con los simbolos de sympy que representan la longitud de 5 eslabones, recuerda que para generar el simbolo de $l_1$ tenemos que escribir:\n",
    "\n",
    "```Python\n",
    "var(\"l1\")\n",
    "```"
   ]
  },
  {
   "cell_type": "code",
   "execution_count": null,
   "metadata": {
    "deletable": false,
    "editable": false,
    "nbgrader": {
     "checksum": "72266cca2146bf9d0cd535a9dab773e0",
     "grade": false,
     "grade_id": "cell-bb484e0dbf7563b3",
     "locked": true,
     "schema_version": 1,
     "solution": false
    }
   },
   "outputs": [],
   "source": [
    "from sympy.physics.mechanics import mechanics_printing\n",
    "mechanics_printing()"
   ]
  },
  {
   "cell_type": "code",
   "execution_count": null,
   "metadata": {
    "deletable": false,
    "nbgrader": {
     "checksum": "f6bc9994e137cf3de3940132fbd85763",
     "grade": false,
     "grade_id": "cell-5e465fabfc924411",
     "locked": false,
     "schema_version": 1,
     "solution": true
    }
   },
   "outputs": [],
   "source": [
    "from sympy import var\n",
    "# ESCRIBE TU CODIGO AQUI\n",
    "raise NotImplementedError\n",
    "longs"
   ]
  },
  {
   "cell_type": "code",
   "execution_count": null,
   "metadata": {
    "deletable": false,
    "editable": false,
    "nbgrader": {
     "checksum": "87eb2738ee05c709dfe7216f75a50164",
     "grade": true,
     "grade_id": "cell-64f46c6b11e02986",
     "locked": true,
     "points": 1,
     "schema_version": 1,
     "solution": false
    }
   },
   "outputs": [],
   "source": [
    "from nose.tools import assert_equal\n",
    "from sympy import var\n",
    "assert_equal(longs, [var(\"l1\"), var(\"l2\"), var(\"l3\"), var(\"l4\"), var(\"l5\")])"
   ]
  },
  {
   "cell_type": "markdown",
   "metadata": {},
   "source": [
    "* Genera un arreglo con las matrices simbolicas de sympy que contengan las matrices de transformación homogéneas de los 5 grados de libertad descritos en el siguiente arreglo con parametros DH:"
   ]
  },
  {
   "cell_type": "code",
   "execution_count": null,
   "metadata": {
    "deletable": false,
    "editable": false,
    "nbgrader": {
     "checksum": "a785212f3e2ffc1b63d6efa96719b029",
     "grade": false,
     "grade_id": "cell-77c8a048322dabc7",
     "locked": true,
     "schema_version": 1,
     "solution": false
    }
   },
   "outputs": [],
   "source": [
    "parametros_DH = [[ \"0\", \"l1\", \"0\", \"q1\"],\n",
    "                 [\"l2\",  \"0\", \"0\", \"q2\"],\n",
    "                 [ \"0\", \"l3\", \"0\", \"q3\"],\n",
    "                 [\"l4\",  \"0\", \"0\", \"q4\"],\n",
    "                 [ \"0\", \"l5\", \"0\", \"q5\"]]"
   ]
  },
  {
   "cell_type": "code",
   "execution_count": null,
   "metadata": {
    "deletable": false,
    "nbgrader": {
     "checksum": "de37054f5b8daeb53be077ddbd044fe5",
     "grade": false,
     "grade_id": "cell-8114c0dd895f13c3",
     "locked": false,
     "schema_version": 1,
     "solution": true
    }
   },
   "outputs": [],
   "source": [
    "from sympy import var\n",
    "# ESCRIBE TU CODIGO AQUI\n",
    "raise NotImplementedError\n",
    "matrices"
   ]
  },
  {
   "cell_type": "code",
   "execution_count": null,
   "metadata": {
    "deletable": false,
    "editable": false,
    "nbgrader": {
     "checksum": "341b61176723e50a362bba1db925ef11",
     "grade": true,
     "grade_id": "cell-702c5cd562b19871",
     "locked": true,
     "points": 2,
     "schema_version": 1,
     "solution": false
    }
   },
   "outputs": [],
   "source": [
    "from nose.tools import assert_equal\n",
    "from sympy import Matrix, var, sin, cos\n",
    "l1, q1, cero = var(\"l1\"), var(\"q1\"), var(\"0\")\n",
    "A1 = Matrix([[cos(q1), -sin(q1)*cos(cero), sin(cero)*sin(q1), cero*cos(q1)],\n",
    "             [sin(q1), cos(cero)*cos(q1), -sin(cero)*cos(q1), cero*sin(q1)],\n",
    "             [0, sin(cero), cos(cero), l1],\n",
    "             [0, 0, 0, 1]])\n",
    "assert_equal(matrices[0], A1)\n",
    "l2, q2, cero = var(\"l2\"), var(\"q2\"), var(\"0\")\n",
    "A2 = Matrix([[cos(q2), -sin(q2)*cos(cero), sin(cero)*sin(q2), l2*cos(q2)],\n",
    "             [sin(q2), cos(cero)*cos(q2), -sin(cero)*cos(q2), l2*sin(q2)],\n",
    "             [0, sin(cero), cos(cero), cero],\n",
    "             [0, 0, 0, 1]])\n",
    "assert_equal(matrices[1], A2)\n",
    "l3, q3, cero = var(\"l3\"), var(\"q3\"), var(\"0\")\n",
    "A3 = Matrix([[cos(q3), -sin(q3)*cos(cero), sin(cero)*sin(q3), cero*cos(q3)],\n",
    "             [sin(q3), cos(cero)*cos(q3), -sin(cero)*cos(q3), cero*sin(q3)],\n",
    "             [0, sin(cero), cos(cero), l3],\n",
    "             [0, 0, 0, 1]])\n",
    "assert_equal(matrices[2], A3)\n",
    "l4, q4, cero = var(\"l4\"), var(\"q4\"), var(\"0\")\n",
    "A4 = Matrix([[cos(q4), -sin(q4)*cos(cero), sin(cero)*sin(q4), l4*cos(q4)],\n",
    "             [sin(q4), cos(cero)*cos(q4), -sin(cero)*cos(q4), l4*sin(q4)],\n",
    "             [0, sin(cero), cos(cero), cero],\n",
    "             [0, 0, 0, 1]])\n",
    "assert_equal(matrices[3], A4)\n",
    "l5, q5, cero = var(\"l5\"), var(\"q5\"), var(\"0\")\n",
    "A5 = Matrix([[cos(q5), -sin(q5)*cos(cero), sin(cero)*sin(q5), cero*cos(q5)],\n",
    "             [sin(q5), cos(cero)*cos(q5), -sin(cero)*cos(q5), cero*sin(q5)],\n",
    "             [0, sin(cero), cos(cero), l5],\n",
    "             [0, 0, 0, 1]])\n",
    "assert_equal(matrices[4], A5)"
   ]
  }
 ],
 "metadata": {
  "kernelspec": {
   "display_name": "Python 3",
   "language": "python",
   "name": "python3"
  },
  "language_info": {
   "codemirror_mode": {
    "name": "ipython",
    "version": 3
   },
   "file_extension": ".py",
   "mimetype": "text/x-python",
   "name": "python",
   "nbconvert_exporter": "python",
   "pygments_lexer": "ipython3",
   "version": "3.6.6"
  }
 },
 "nbformat": 4,
 "nbformat_minor": 2
}
