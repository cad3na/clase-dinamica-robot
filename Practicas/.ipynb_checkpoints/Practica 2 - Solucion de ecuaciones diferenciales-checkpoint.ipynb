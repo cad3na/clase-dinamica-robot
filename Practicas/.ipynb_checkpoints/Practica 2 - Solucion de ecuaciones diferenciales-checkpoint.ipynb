{
 "cells": [
  {
   "cell_type": "markdown",
   "metadata": {},
   "source": [
    "# Solución de ecuaciones diferenciales"
   ]
  },
  {
   "cell_type": "markdown",
   "metadata": {},
   "source": [
    "Dada la siguiente ecuación diferencial:\n",
    "\n",
    "$$\n",
    "\\dot{x} = -x\n",
    "$$\n",
    "\n",
    "queremos obtener la respuesta del sistema que representa, es decir, los valores que va tomando $x$.\n",
    "\n",
    "Si analizamos esta ecuación diferencial, podremos notar que la solución de este sistema es una función $\\varphi(t)$, tal que cuando la derivemos obtengamos el negativo de esta misma función, es decir:\n",
    "\n",
    "$$\n",
    "\\frac{d}{dt} \\varphi(t) = -\\varphi(t)\n",
    "$$\n",
    "\n",
    "y despues de un poco de pensar, podemos darnos cuenta de que la función que queremos es:\n",
    "\n",
    "$$\n",
    "\\varphi(t) = e^{-t}\n",
    "$$\n",
    "\n",
    "Sin embargo muchas veces no tendremos funciones tan sencillas (ciertamente no es el caso en la robótica, donde usualmente tenemos ecuaciones diferenciales no lineales de orden $n$), por lo que en esta práctica veremos algunas estrategias para obtener soluciones a esta ecuación diferencial, tanto numéricas como simbolicas."
   ]
  },
  {
   "cell_type": "markdown",
   "metadata": {},
   "source": [
    "## Método de Euler"
   ]
  },
  {
   "cell_type": "markdown",
   "metadata": {},
   "source": [
    "El [método de Euler](http://es.wikipedia.org/wiki/Método_de_Euler) para obtener el comportamiento de una ecuación diferencial, se basa en la intuición básica de la derivada; digamos que tenemos una ecuación diferencial general:\n",
    "\n",
    "$$\n",
    "\\frac{dy}{dx} = y' = F(x, y)\n",
    "$$\n",
    "\n",
    "en donde $F(x, y)$ puede ser cualquier función que depende de $x$ y/o de $y$, entonces podemos dividir en pedazos el comportamiento de la gráfica de tal manera que solo calculemos un pequeño pedazo cada vez, aproximando el comportamiento de la ecuación diferencial, con el de una recta, cuya pendiente será la derivada:\n",
    "\n",
    "![Método de Euler](./imagenes/euler.jpg)\n",
    "\n",
    "«<a href=\"http://commons.wikimedia.org/wiki/File:M%C3%A9todo_de_Euler.jpg#/media/File:M%C3%A9todo_de_Euler.jpg\">Método de Euler</a>» por <a href=\"//commons.wikimedia.org/w/index.php?title=User:Vero.delgado&amp;action=edit&amp;redlink=1\" class=\"new\" title=\"User:Vero.delgado (la página no existe)\">Vero.delgado</a> - <span class=\"int-own-work\" lang=\"es\">Trabajo propio</span>. Disponible bajo la licencia <a href=\"http://creativecommons.org/licenses/by-sa/3.0\" title=\"Creative Commons Attribution-Share Alike 3.0\">CC BY-SA 3.0</a> vía <a href=\"//commons.wikimedia.org/wiki/\">Wikimedia Commons</a>.\n",
    "\n",
    "Esta recta que aproxima a la ecuación diferencial, podemos recordar que tiene una estructura:\n",
    "\n",
    "$$\n",
    "y = b + mx\n",
    "$$\n",
    "\n",
    "por lo que si sustituimos en $m$ la derivada y $b$ con el valor anterior de la ecuación diferencial, obtendremos algo como:\n",
    "\n",
    "$$\n",
    "\\overbrace{y_{i+1}}^{\\text{nuevo valor de }y} = \\overbrace{y_i}^{\\text{viejo valor de }y} + \\overbrace{\\frac{dy}{dx}}^{\\text{pendiente}} \\overbrace{\\Delta x}^{\\text{distancia en }x}\n",
    "$$\n",
    "\n",
    "pero conocemos el valor de $\\frac{dy}{dx}$, es nuestra ecuación diferencial; por lo que podemos escribir esto como:\n",
    "\n",
    "$$\n",
    "y_{i+1} = y_i + F(x_i, y_i) \\Delta x\n",
    "$$\n",
    "\n",
    "Resolvamos algunas iteraciones de nuestro sistema; empecemos haciendo 10 iteraciones a lo largo de 10 segundos, con condiciones iniciales $x(0) = 1$, eso quiere decir que:\n",
    "\n",
    "$$\n",
    "\\begin{align}\n",
    "\\Delta t &= 1 \\\\\n",
    "x(0) &= 1 \\\\\n",
    "\\dot{x}(0) &= 1\n",
    "\\end{align}\n",
    "$$"
   ]
  },
  {
   "cell_type": "code",
   "execution_count": null,
   "metadata": {
    "collapsed": false
   },
   "outputs": [],
   "source": [
    "x0 = 1\n",
    "Δt = 1 \n",
    "\n",
    "# Para escribir simbolos griegos como Δ, tan solo tienes que escribir su nombre\n",
    "# precedido de una diagonal (\\Delta) y teclear tabulador una vez\n",
    "\n",
    "F = lambda x : -x\n",
    "x1 = x0 + F(x0)*Δt\n",
    "x1"
   ]
  },
  {
   "cell_type": "code",
   "execution_count": null,
   "metadata": {
    "collapsed": false
   },
   "outputs": [],
   "source": [
    "x2 = x1 + F(x1)*Δt\n",
    "x2"
   ]
  },
  {
   "cell_type": "markdown",
   "metadata": {},
   "source": [
    "### Ejercicio"
   ]
  },
  {
   "cell_type": "markdown",
   "metadata": {},
   "source": [
    "Crea codigo para una iteración mas con estos mismos parametros y despliega el resultado."
   ]
  },
  {
   "cell_type": "code",
   "execution_count": null,
   "metadata": {
    "collapsed": true
   },
   "outputs": [],
   "source": [
    "x3 = # Escribe el codigo de tus calculos aqui"
   ]
  },
  {
   "cell_type": "code",
   "execution_count": null,
   "metadata": {
    "collapsed": false
   },
   "outputs": [],
   "source": [
    "from pruebas_2 import prueba_2_1\n",
    "prueba_2_1(x0, x1, x2, x3, _)"
   ]
  },
  {
   "cell_type": "markdown",
   "metadata": {},
   "source": [
    "Momento... que esta pasando? Resulta que este $\\Delta t$ es demasiado grande, intentemos con 20 iteraciones:\n",
    "\n",
    "$$\n",
    "\\begin{align}\n",
    "\\Delta t &= 0.5 \\\\\n",
    "x(0) &= 1\n",
    "\\end{align}\n",
    "$$"
   ]
  },
  {
   "cell_type": "code",
   "execution_count": null,
   "metadata": {
    "collapsed": false
   },
   "outputs": [],
   "source": [
    "x0 = 1\n",
    "n = 20\n",
    "Δt = 10/n\n",
    "\n",
    "F = lambda x : -x\n",
    "x1 = x0 + F(x0)*Δt\n",
    "x1"
   ]
  },
  {
   "cell_type": "code",
   "execution_count": null,
   "metadata": {
    "collapsed": false
   },
   "outputs": [],
   "source": [
    "x2 = x1 + F(x1)*Δt\n",
    "x2"
   ]
  },
  {
   "cell_type": "code",
   "execution_count": null,
   "metadata": {
    "collapsed": false
   },
   "outputs": [],
   "source": [
    "x3 = x2 + F(x2)*Δt\n",
    "x3"
   ]
  },
  {
   "cell_type": "markdown",
   "metadata": {},
   "source": [
    "Esto va a ser tardado, mejor digamosle a Python que es lo que tenemos que hacer, y que no nos moleste hasta que acabe, podemos usar un ciclo ```for``` y una lista para guardar todos los valores de la trayectoria:"
   ]
  },
  {
   "cell_type": "code",
   "execution_count": null,
   "metadata": {
    "collapsed": false
   },
   "outputs": [],
   "source": [
    "xs = [x0]\n",
    "for t in range(20):\n",
    "    xs.append(xs[-1] + F(xs[-1])*Δt)\n",
    "\n",
    "xs"
   ]
  },
  {
   "cell_type": "markdown",
   "metadata": {},
   "source": [
    "Ahora que tenemos estos valores, podemos graficar el comportamiento de este sistema, primero importamos la libreria ```matplotlib```:"
   ]
  },
  {
   "cell_type": "code",
   "execution_count": null,
   "metadata": {
    "collapsed": true
   },
   "outputs": [],
   "source": [
    "%matplotlib inline\n",
    "from matplotlib.pyplot import plot"
   ]
  },
  {
   "cell_type": "markdown",
   "metadata": {},
   "source": [
    "Mandamos a llamar la función ```plot```:"
   ]
  },
  {
   "cell_type": "code",
   "execution_count": null,
   "metadata": {
    "collapsed": false
   },
   "outputs": [],
   "source": [
    "plot(xs);"
   ]
  },
  {
   "cell_type": "markdown",
   "metadata": {},
   "source": [
    "Sin embargo debido a que el periodo de integración que utilizamos es demasiado grande, la solución es bastante inexacta, podemos verlo al graficar contra la que sabemos es la solución de nuestro problema:"
   ]
  },
  {
   "cell_type": "code",
   "execution_count": null,
   "metadata": {
    "collapsed": true
   },
   "outputs": [],
   "source": [
    "from numpy import linspace, exp"
   ]
  },
  {
   "cell_type": "code",
   "execution_count": null,
   "metadata": {
    "collapsed": false
   },
   "outputs": [],
   "source": [
    "ts = linspace(0, 10, 20)\n",
    "plot(xs)\n",
    "plot(exp(-ts));"
   ]
  },
  {
   "cell_type": "markdown",
   "metadata": {},
   "source": [
    "Si ahora utilizamos un numero de pedazos muy grande, podemos mejorar nuestra aproximación:"
   ]
  },
  {
   "cell_type": "code",
   "execution_count": null,
   "metadata": {
    "collapsed": false
   },
   "outputs": [],
   "source": [
    "xs = [x0]\n",
    "n = 100\n",
    "Δt = 10/n\n",
    "\n",
    "for t in range(100):\n",
    "    xs.append(xs[-1] + F(xs[-1])*Δt)\n",
    "    \n",
    "ts = linspace(0, 10, 100)"
   ]
  },
  {
   "cell_type": "code",
   "execution_count": null,
   "metadata": {
    "collapsed": false
   },
   "outputs": [],
   "source": [
    "plot(xs)\n",
    "plot(exp(-ts));"
   ]
  },
  {
   "cell_type": "markdown",
   "metadata": {},
   "source": [
    "## odeint"
   ]
  },
  {
   "cell_type": "markdown",
   "metadata": {},
   "source": [
    "Este método funciona tan bien, que ya viene programado dentro de la libreria ```scipy```, por lo que solo tenemos que importar esta librería para utilizar este método.\n",
    "\n",
    "Sin embargo debemos de tener cuidado al declarar la función $F(x, t)$. El primer argumento de la función se debe de referir al estado de la función, es decir $x$, y el segundo debe de ser la variable independiente, en nuestro caso el tiempo."
   ]
  },
  {
   "cell_type": "code",
   "execution_count": null,
   "metadata": {
    "collapsed": false
   },
   "outputs": [],
   "source": [
    "from scipy.integrate import odeint"
   ]
  },
  {
   "cell_type": "code",
   "execution_count": null,
   "metadata": {
    "collapsed": true
   },
   "outputs": [],
   "source": [
    "F = lambda x, t : -x"
   ]
  },
  {
   "cell_type": "code",
   "execution_count": null,
   "metadata": {
    "collapsed": false
   },
   "outputs": [],
   "source": [
    "x0 = 1\n",
    "ts = linspace(0, 10, 100)\n",
    "xs = odeint(func=F, y0=x0, t=ts)"
   ]
  },
  {
   "cell_type": "code",
   "execution_count": null,
   "metadata": {
    "collapsed": false
   },
   "outputs": [],
   "source": [
    "plot(ts, xs);"
   ]
  },
  {
   "cell_type": "markdown",
   "metadata": {},
   "source": [
    "### Ejercicio"
   ]
  },
  {
   "cell_type": "markdown",
   "metadata": {},
   "source": [
    "Grafica el comportamiento de la siguiente ecuación diferencial.\n",
    "\n",
    "$$\n",
    "\\dot{x}  = x^2 - 5 x + \\frac{1}{2} \\sin{x} - 2\n",
    "$$\n",
    "\n",
    "> Nota: Asegurate de impotar todas las librerias que puedas necesitar"
   ]
  },
  {
   "cell_type": "code",
   "execution_count": null,
   "metadata": {
    "collapsed": false
   },
   "outputs": [],
   "source": [
    "ts = # Escribe aqui el codigo que genera un arreglo de puntos equidistantes (linspace)\n",
    "x0 = # Escribe el valor de la condicion inicial\n",
    "\n",
    "# Importa las funciones de librerias que necesites aqui\n",
    "\n",
    "G = lambda x, t: # Escribe aqui el codigo que describe los calculos que debe hacer la funcion\n",
    "\n",
    "xs = # Escribe aqui el comando necesario para simular la ecuación diferencial\n",
    "\n",
    "plot(ts, xs);"
   ]
  },
  {
   "cell_type": "code",
   "execution_count": null,
   "metadata": {
    "collapsed": false
   },
   "outputs": [],
   "source": [
    "from pruebas_2 import prueba_2_2\n",
    "prueba_2_2(ts, xs)"
   ]
  },
  {
   "cell_type": "markdown",
   "metadata": {},
   "source": [
    "## Sympy"
   ]
  },
  {
   "cell_type": "markdown",
   "metadata": {},
   "source": [
    "Y por ultimo, hay veces en las que incluso podemos obtener una solución analítica de una ecuación diferencial, siempre y cuando cumpla ciertas condiciones de simplicidad."
   ]
  },
  {
   "cell_type": "code",
   "execution_count": null,
   "metadata": {
    "collapsed": true
   },
   "outputs": [],
   "source": [
    "from sympy import var, Function, dsolve\n",
    "from sympy.physics.mechanics import mlatex, mechanics_printing\n",
    "mechanics_printing()"
   ]
  },
  {
   "cell_type": "code",
   "execution_count": null,
   "metadata": {
    "collapsed": false
   },
   "outputs": [],
   "source": [
    "var(\"t\")"
   ]
  },
  {
   "cell_type": "code",
   "execution_count": null,
   "metadata": {
    "collapsed": false
   },
   "outputs": [],
   "source": [
    "x = Function(\"x\")(t)\n",
    "x, x.diff(t)"
   ]
  },
  {
   "cell_type": "code",
   "execution_count": null,
   "metadata": {
    "collapsed": false
   },
   "outputs": [],
   "source": [
    "solucion = dsolve(x.diff(t) + x, x)\n",
    "solucion"
   ]
  },
  {
   "cell_type": "markdown",
   "metadata": {},
   "source": [
    "### Ejercicio"
   ]
  },
  {
   "cell_type": "markdown",
   "metadata": {},
   "source": [
    "Implementa el codigo necesario para obtener la solución analítica de la siguiente ecuación diferencial:\n",
    "\n",
    "$$\n",
    "\\dot{x} = x^2 - 5x\n",
    "$$"
   ]
  },
  {
   "cell_type": "code",
   "execution_count": null,
   "metadata": {
    "collapsed": false
   },
   "outputs": [],
   "source": [
    "# Declara la variable independiente de la ecuación diferencial\n",
    "var(\"\")\n",
    "\n",
    "# Declara la variable dependiente de la ecuación diferencial\n",
    " = Function(\"\")()\n",
    "\n",
    "# Escribe la ecuación diferencial con el formato necesario (Ecuacion = 0)\n",
    "# adentro de la función dsolve\n",
    "sol = dsolve()\n",
    "sol"
   ]
  },
  {
   "cell_type": "code",
   "execution_count": null,
   "metadata": {
    "collapsed": false
   },
   "outputs": [],
   "source": [
    "from pruebas_2 import prueba_2_3\n",
    "prueba_2_3(sol)"
   ]
  },
  {
   "cell_type": "markdown",
   "metadata": {},
   "source": [
    "## Solución a ecuaciones diferenciales de orden superior"
   ]
  },
  {
   "cell_type": "markdown",
   "metadata": {},
   "source": [
    "Si ahora queremos obtener el comportamiento de una ecuacion diferencial de orden superior, como:\n",
    "\n",
    "$$\n",
    "\\ddot{x} = -\\dot{x} - x + 1\n",
    "$$\n",
    "\n",
    "Tenemos que convertirla en una ecuación diferencial de primer orden para poder resolverla numericamente, por lo que necesitaremos convertirla en una ecuación diferencial matricial, por lo que empezamos escribiendola junto con la identidad $\\dot{x} = \\dot{x}$ en un sistema de ecuaciones:\n",
    "\n",
    "$$\n",
    "\\begin{align}\n",
    "\\dot{x} &= \\dot{x} \\\\\n",
    "\\ddot{x} &= -\\dot{x} - x + 1\n",
    "\\end{align}\n",
    "$$\n",
    "\n",
    "Si extraemos el operador derivada del lado izquierda, tenemos:\n",
    "\n",
    "$$\n",
    "$$\n",
    "\\begin{align}\n",
    "\\frac{d}{dt} x &= \\dot{x} \\\\\n",
    "\\frac{d}{dt} \\dot{x} &= -\\dot{x} - x + 1\n",
    "\\end{align}\n",
    "$$\n",
    "$$\n",
    "\n",
    "O bien, de manera matricial:\n",
    "\n",
    "$$\n",
    "\\frac{d}{dt}\n",
    "\\begin{pmatrix}\n",
    "x \\\\\n",
    "\\dot{x}\n",
    "\\end{pmatrix} =\n",
    "\\begin{pmatrix}\n",
    "0 & 1 \\\\\n",
    "-1 & -1\n",
    "\\end{pmatrix}\n",
    "\\begin{pmatrix}\n",
    "x \\\\\n",
    "\\dot{x}\n",
    "\\end{pmatrix} +\n",
    "\\begin{pmatrix}\n",
    "0 \\\\\n",
    "1\n",
    "\\end{pmatrix}\n",
    "$$\n",
    "\n",
    "Esta ecuación ya _no_ es de segundo orden, es de hecho, de primer orden, sin embargo nuestra variable ha crecido a ser un vector de estados, por el momento le llamaremos $X$, asi pues, lo podemos escribir como:\n",
    "\n",
    "$$\n",
    "\\frac{d}{dt} X = A X + B\n",
    "$$\n",
    "\n",
    "en donde:\n",
    "\n",
    "$$\n",
    "A = \\begin{pmatrix}\n",
    "0 & 1 \\\\\n",
    "-1 & -1\n",
    "\\end{pmatrix} \\quad \\text{y} \\quad B =\n",
    "\\begin{pmatrix}\n",
    "0 \\\\\n",
    "1\n",
    "\\end{pmatrix}\n",
    "$$\n",
    "\n",
    "y de manera similar, declarar una función para dar a ```odeint```."
   ]
  },
  {
   "cell_type": "code",
   "execution_count": null,
   "metadata": {
    "collapsed": true
   },
   "outputs": [],
   "source": [
    "from numpy import matrix, array"
   ]
  },
  {
   "cell_type": "code",
   "execution_count": null,
   "metadata": {
    "collapsed": true
   },
   "outputs": [],
   "source": [
    "def F(X, t):\n",
    "    A = matrix([[0, 1], [-1, -1]])\n",
    "    B = matrix([[0], [1]])\n",
    "    return array((A*matrix(X).T + B).T).tolist()[0]"
   ]
  },
  {
   "cell_type": "code",
   "execution_count": null,
   "metadata": {
    "collapsed": false
   },
   "outputs": [],
   "source": [
    "ts = linspace(0, 10, 100)\n",
    "xs = odeint(func=F, y0=[0, 0], t=ts)"
   ]
  },
  {
   "cell_type": "code",
   "execution_count": null,
   "metadata": {
    "collapsed": false
   },
   "outputs": [],
   "source": [
    "plot(xs);"
   ]
  },
  {
   "cell_type": "markdown",
   "metadata": {},
   "source": [
    "### Ejercicio"
   ]
  },
  {
   "cell_type": "markdown",
   "metadata": {},
   "source": [
    "Implementa la solución de la siguiente ecuación diferencial, por medio de un modelo en representación de espacio de estados:\n",
    "\n",
    "$$\n",
    "\\ddot{x} = -8\\dot{x} - 15x + 1\n",
    "$$\n",
    "\n",
    "> Nota: Tomalo con calma y paso a paso\n",
    "> * Empieza anotando la ecuación diferencial en tu cuaderno, junto a la misma identidad del ejemplo\n",
    "> * Extrae la derivada del lado izquierdo, para que obtengas el _estado_ de tu sistema\n",
    "> * Extrae las matrices A y B que corresponden a este sistema\n",
    "> * Escribe el codigo necesario para representar estas matrices"
   ]
  },
  {
   "cell_type": "code",
   "execution_count": null,
   "metadata": {
    "collapsed": true
   },
   "outputs": [],
   "source": [
    "def G(X, t):\n",
    "    A = matrix([[0, 1], [-15, -8]])# Escribe aqui el codigo para la matriz A\n",
    "    B = matrix([[0], [1]])# Escribe aqui el codigo para el vector B\n",
    "    return array((A*matrix(X).T + B).T).tolist()[0]\n",
    "\n",
    "ts = linspace(0, 10, 100) \n",
    "xs = odeint(func=G, y0=[0, 0], t=ts)"
   ]
  },
  {
   "cell_type": "code",
   "execution_count": null,
   "metadata": {
    "collapsed": false
   },
   "outputs": [],
   "source": [
    "plot(xs);"
   ]
  },
  {
   "cell_type": "code",
   "execution_count": null,
   "metadata": {
    "collapsed": false
   },
   "outputs": [],
   "source": [
    "from pruebas_2 import prueba_2_4\n",
    "prueba_2_4(xs)"
   ]
  },
  {
   "cell_type": "markdown",
   "metadata": {},
   "source": [
    "## Funciones de transferencia"
   ]
  },
  {
   "cell_type": "markdown",
   "metadata": {},
   "source": [
    "Sin embargo, no es la manera mas facil de obtener la solución, tambien podemos aplicar una transformada de Laplace, y aplicar las funciones de la libreria de control para simular la función de transferencia de esta ecuación; al aplicar la transformada de Laplace, obtendremos:\n",
    "\n",
    "$$\n",
    "G(s) = \\frac{1}{s^2 + s + 1}\n",
    "$$"
   ]
  },
  {
   "cell_type": "code",
   "execution_count": null,
   "metadata": {
    "collapsed": true
   },
   "outputs": [],
   "source": [
    "from control import tf, step"
   ]
  },
  {
   "cell_type": "code",
   "execution_count": null,
   "metadata": {
    "collapsed": false
   },
   "outputs": [],
   "source": [
    "F = tf([0, 0, 1], [1, 1, 1])"
   ]
  },
  {
   "cell_type": "code",
   "execution_count": null,
   "metadata": {
    "collapsed": false
   },
   "outputs": [],
   "source": [
    "xs, ts = step(F)"
   ]
  },
  {
   "cell_type": "code",
   "execution_count": null,
   "metadata": {
    "collapsed": false
   },
   "outputs": [],
   "source": [
    "plot(ts, xs);"
   ]
  },
  {
   "cell_type": "markdown",
   "metadata": {},
   "source": [
    "### Ejercicio"
   ]
  },
  {
   "cell_type": "markdown",
   "metadata": {},
   "source": [
    "Modela matematicamente la ecuación diferencial del ejercicio anterior, usando una representación de función de transferencia.\n",
    "\n",
    "> Nota: De nuevo, no desesperes, escribe tu ecuación diferencial y aplica la transformada de Laplaca tal como te enseñaron tus abuelos hace tantos años..."
   ]
  },
  {
   "cell_type": "code",
   "execution_count": null,
   "metadata": {
    "collapsed": false
   },
   "outputs": [],
   "source": [
    "G = tf([0, 0, 1], [1, 8, 15]) # Escribe los coeficientes de la función de transferencia \n",
    "\n",
    "xs, ts = step(G)\n",
    "plot(ts, xs);"
   ]
  },
  {
   "cell_type": "code",
   "execution_count": null,
   "metadata": {
    "collapsed": false
   },
   "outputs": [],
   "source": [
    "from pruebas_2 import prueba_2_5\n",
    "prueba_2_5(ts, xs)"
   ]
  },
  {
   "cell_type": "markdown",
   "metadata": {},
   "source": [
    "## Problemas"
   ]
  },
  {
   "cell_type": "markdown",
   "metadata": {},
   "source": [
    "1. Modela matematicamente la suspensión de un automovil de masa $m = 1200 kg$, considera que los resortes de su suspensión tienen una constante $k = 15,000 \\frac{N}{m}$ y un amortiguador con constante $c = 1,500 \\frac{N s}{m}$.\n",
    "\n",
    "2. Gráfica el comportamiento del sistema ante una fuerza $F = 1 N$.\n",
    "3. Que tipo de comportamiento presenta este sistema? Estable, criticamente estable, inestable?"
   ]
  }
 ],
 "metadata": {
  "kernelspec": {
   "display_name": "Python 3",
   "language": "python",
   "name": "python3"
  },
  "language_info": {
   "codemirror_mode": {
    "name": "ipython",
    "version": 3
   },
   "file_extension": ".py",
   "mimetype": "text/x-python",
   "name": "python",
   "nbconvert_exporter": "python",
   "pygments_lexer": "ipython3",
   "version": "3.4.3"
  }
 },
 "nbformat": 4,
 "nbformat_minor": 0
}
