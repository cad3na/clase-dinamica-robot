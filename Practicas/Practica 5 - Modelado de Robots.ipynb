{
 "cells": [
  {
   "cell_type": "markdown",
   "metadata": {},
   "source": [
    "# Modelado de Robots"
   ]
  },
  {
   "cell_type": "markdown",
   "metadata": {
    "collapsed": true
   },
   "source": [
    "Recordando la práctica anterior, tenemos que la ecuación diferencial que caracteriza a un sistema masa-resorte-amoritguador es:\n",
    "\n",
    "$$\n",
    "m \\ddot{x} + c \\dot{x} + k x = F\n",
    "$$\n",
    "\n",
    "y revisamos 3 maneras de obtener el comportamiento de ese sistema, sin embargo nos interesa saber el comportamiento de un sistema mas complejo, un robot; empezaremos con un pendulo simple, el cual tiene la siguiente ecuación de movimiento:\n",
    "\n",
    "$$\n",
    "m l^2  \\ddot{q} + m g l \\cos{q} = \\tau\n",
    "$$\n",
    "\n",
    "Como podemos ver, son similares en el sentido de que involucran una sola variable, sin embargo, en la segunda ecuación, nuestra variable esta involucrada adentro de una función no lineal ($\\cos{q}$), por lo que nuestra ecuación diferencial es no lineal, y por lo tanto _no_ podemos usar el formalismo de función de transferencia para resolverla; tenemos que usar la función ```odeint``` para poder resolverla.\n",
    "\n",
    "Como es de segundo grado, tenemos que dividir nuestra ecuación diferencial en dos mas simples, por lo tanto usaremos el siguiente truco:\n",
    "\n",
    "$$\n",
    "\\frac{d}{dt} q = \\dot{q}\n",
    "$$\n",
    "\n",
    "entonces, tenemos dos ecuaciones diferenciales, por lo que podemos resolver dos incognitas $q$ y $\\dot{q}$.\n",
    "\n",
    "Utilizando nuestros conocimientos de algebra lineal, podemos acomodar nuestro sistema de ecuaciones en una matriz, de tal manera que si antes teniamos que:\n",
    "\n",
    "$$\n",
    "\\begin{align}\n",
    "\\frac{d}{dt} q &= \\dot{q} \\\\\n",
    "\\frac{d}{dt} \\dot{q} &= \\ddot{q} = \\frac{\\tau  - m g l \\cos{q}}{ml^2}\n",
    "\\end{align}\n",
    "$$\n",
    "\n",
    "Por lo que podemos ver que nuestro sistema de ecuaciones tiene un estado mas grande que antes; la ecuación diferencial que teniamos como no lineal, de segundo orden, podemos escribirla como no lineal, de primer orden siempre y cuando nuestro estado sea mas grande.\n",
    "\n",
    "Definamos a lo que nos referimos con estado:\n",
    "\n",
    "$$\n",
    "x =\n",
    "\\begin{pmatrix}\n",
    "q \\\\\n",
    "\\dot{q}\n",
    "\\end{pmatrix}\n",
    "$$\n",
    "\n",
    "con esta definición de estado, podemos escribir el sistema de ecuaciónes de arriba como:\n",
    "\n",
    "$$\n",
    "\\frac{d}{dt} x = \\dot{x} = \\frac{d}{dt}\n",
    "\\begin{pmatrix}\n",
    "q \\\\\n",
    "\\dot{q}\n",
    "\\end{pmatrix} =\n",
    "\\begin{pmatrix}\n",
    "\\dot{q} \\\\\n",
    "\\frac{\\tau  - m g l \\cos{q}}{ml^2}\n",
    "\\end{pmatrix}\n",
    "$$\n",
    "\n",
    "o bien $\\dot{x} = f(x)$, en donde $f(x)$ es una función vectorial, o bien, un vector de funciones:\n",
    "\n",
    "$$\n",
    "f(x) =\n",
    "\\begin{pmatrix}\n",
    "\\dot{q} \\\\\n",
    "\\frac{\\tau  - m g l \\cos{q}}{ml^2}\n",
    "\\end{pmatrix}\n",
    "$$\n",
    "\n",
    "Por lo que ya estamos listos para simular este sistema mecánico, con la ayuda de ```odeint()```; empecemos importando laas librerias necesarias:"
   ]
  },
  {
   "cell_type": "code",
   "execution_count": null,
   "metadata": {
    "collapsed": true
   },
   "outputs": [],
   "source": [
    "from scipy.integrate import odeint"
   ]
  },
  {
   "cell_type": "code",
   "execution_count": null,
   "metadata": {
    "collapsed": true
   },
   "outputs": [],
   "source": [
    "from numpy import linspace"
   ]
  },
  {
   "cell_type": "markdown",
   "metadata": {},
   "source": [
    "y definiendo una función que devuelva un arreglo con los valores de $f(x)$"
   ]
  },
  {
   "cell_type": "code",
   "execution_count": null,
   "metadata": {
    "collapsed": true
   },
   "outputs": [],
   "source": [
    "def f(x, t):\n",
    "    from numpy import cos\n",
    "    q, q̇ = x\n",
    "    τ = 0\n",
    "    m = 1\n",
    "    g = 9.81\n",
    "    l = 1\n",
    "    return [q̇, τ - m*g*l*cos(q)/(m*l**2)]"
   ]
  },
  {
   "cell_type": "markdown",
   "metadata": {},
   "source": [
    "Vamos a simular desde el tiempo $0$, hasta $10$, y las condiciones iniciales del pendulo son $q=0$ y $\\dot{q} = 0$."
   ]
  },
  {
   "cell_type": "code",
   "execution_count": null,
   "metadata": {
    "collapsed": true
   },
   "outputs": [],
   "source": [
    "ts = linspace(0, 10, 100)\n",
    "x0 = [0, 0]"
   ]
  },
  {
   "cell_type": "markdown",
   "metadata": {},
   "source": [
    "Utilizamos la función ```odeint``` para simular el comportamiento del pendulo, dandole la función que programamos con la dinámica de $f(x)$ y sacamos los valores de $q$ y $\\dot{q}$ que nos devolvió ```odeint``` envueltos en el estado $x$"
   ]
  },
  {
   "cell_type": "code",
   "execution_count": null,
   "metadata": {
    "collapsed": false
   },
   "outputs": [],
   "source": [
    "xs = odeint(func = f, y0 = x0, t = ts)\n",
    "qs, q̇s = list(zip(*xs.tolist()))"
   ]
  },
  {
   "cell_type": "markdown",
   "metadata": {},
   "source": [
    "En este punto ya tenemos nuestros datos de la simulación, tan solo queda graficarlos para interpretar los resultados:"
   ]
  },
  {
   "cell_type": "code",
   "execution_count": null,
   "metadata": {
    "collapsed": true
   },
   "outputs": [],
   "source": [
    "%matplotlib inline\n",
    "from matplotlib.pyplot import style, plot, figure\n",
    "style.use(\"ggplot\")"
   ]
  },
  {
   "cell_type": "code",
   "execution_count": null,
   "metadata": {
    "collapsed": false
   },
   "outputs": [],
   "source": [
    "fig1 = figure(figsize = (8, 8))\n",
    "\n",
    "ax1 = fig1.gca()\n",
    "\n",
    "ax1.plot(xs);"
   ]
  },
  {
   "cell_type": "code",
   "execution_count": null,
   "metadata": {
    "collapsed": false
   },
   "outputs": [],
   "source": [
    "fig2 = figure(figsize = (8, 8))\n",
    "\n",
    "ax2 = fig2.gca()\n",
    "\n",
    "ax2.plot(qs)\n",
    "ax2.plot(q̇s);"
   ]
  },
  {
   "cell_type": "markdown",
   "metadata": {},
   "source": [
    "Pero las gráficas de trayectoria son aburridas, recordemos que podemos hacer una animación con matplotlib:"
   ]
  },
  {
   "cell_type": "code",
   "execution_count": null,
   "metadata": {
    "collapsed": false
   },
   "outputs": [],
   "source": [
    "from matplotlib import animation\n",
    "from numpy import sin, cos, arange"
   ]
  },
  {
   "cell_type": "code",
   "execution_count": null,
   "metadata": {
    "collapsed": false
   },
   "outputs": [],
   "source": [
    "# Se define el tamaño de la figura\n",
    "fig = figure(figsize=(8, 8))\n",
    "\n",
    "# Se define una sola grafica en la figura y se dan los limites de los ejes x y y\n",
    "axi = fig.add_subplot(111, autoscale_on=False, xlim=(-1.5, 1.5), ylim=(-2, 1))\n",
    "\n",
    "# Se utilizan graficas de linea para el eslabon del pendulo\n",
    "linea, = axi.plot([], [], \"-o\", lw=2, color='gray')\n",
    "\n",
    "def init():\n",
    "    # Esta funcion se ejecuta una sola vez y sirve para inicializar el sistema\n",
    "    linea.set_data([], [])\n",
    "    return linea\n",
    "\n",
    "def animate(i):\n",
    "    # Esta funcion se ejecuta para cada cuadro del GIF\n",
    "    \n",
    "    # Se obtienen las coordenadas x y y para el eslabon\n",
    "    xs, ys = [[0, cos(qs[i])], [0, sin(qs[i])]]\n",
    "    linea.set_data(xs, ys)\n",
    "    \n",
    "    return linea\n",
    "\n",
    "# Se hace la animacion dandole el nombre de la figura definida al principio, la funcion que\n",
    "# se debe ejecutar para cada cuadro, el numero de cuadros que se debe de hacer, el periodo \n",
    "# de cada cuadro y la funcion inicial\n",
    "ani = animation.FuncAnimation(fig, animate, arange(1, len(qs)), interval=25,\n",
    "                              blit=True, init_func=init)\n",
    "\n",
    "# Se guarda el GIF en el archivo indicado\n",
    "ani.save('./imagenes/pendulo-simple.gif', writer='imagemagick');"
   ]
  },
  {
   "cell_type": "markdown",
   "metadata": {},
   "source": [
    "![](./imagenes/pendulo-simple.gif)"
   ]
  },
  {
   "cell_type": "markdown",
   "metadata": {},
   "source": [
    "# Problemas"
   ]
  },
  {
   "cell_type": "markdown",
   "metadata": {},
   "source": [
    "1. Realiza una gráfica de trayectoria y una animación de un pendulo doble."
   ]
  }
 ],
 "metadata": {
  "kernelspec": {
   "display_name": "Python 3",
   "language": "python",
   "name": "python3"
  },
  "language_info": {
   "codemirror_mode": {
    "name": "ipython",
    "version": 3
   },
   "file_extension": ".py",
   "mimetype": "text/x-python",
   "name": "python",
   "nbconvert_exporter": "python",
   "pygments_lexer": "ipython3",
   "version": "3.4.3"
  }
 },
 "nbformat": 4,
 "nbformat_minor": 0
}
