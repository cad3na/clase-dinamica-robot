{
 "cells": [
  {
   "cell_type": "markdown",
   "metadata": {},
   "source": [
    "# Práctica 2 - Cinemática directa y dinámica de manipuladores"
   ]
  },
  {
   "cell_type": "markdown",
   "metadata": {},
   "source": [
    "## Clases y objetos"
   ]
  },
  {
   "cell_type": "markdown",
   "metadata": {},
   "source": [
    "En esta segunda práctica nos tomaremos un tiempo para definir un concepto clave de la programación orientada a objetos (POO) util para definir estructuras, metodos especiales aun tipo de datos, herencia, etc.\n",
    "\n",
    "Un objeto, desde el punto de vista de la POO, es una estructura capaz de contener datos, funciones, etc., tanto públicos como privados.\n",
    "\n",
    "Un dato público en un objeto, es todo aquel que se puede revisar desde afuera del objeto, por ejemplo:"
   ]
  },
  {
   "cell_type": "code",
   "execution_count": null,
   "metadata": {},
   "outputs": [],
   "source": [
    "class Gato:\n",
    "    def __init__(self, nom):\n",
    "        self.nombre = nom"
   ]
  },
  {
   "cell_type": "markdown",
   "metadata": {},
   "source": [
    "Si usamos esta definición de clase, diseñada para guardar nombres de gatos, podemos guardar nuestro primer gato que se llamará ```Leonidas```."
   ]
  },
  {
   "cell_type": "code",
   "execution_count": null,
   "metadata": {},
   "outputs": [],
   "source": [
    "gato1 = Gato(\"Leonidas\")"
   ]
  },
  {
   "cell_type": "markdown",
   "metadata": {},
   "source": [
    "Si ahora, en la siguiente celda, me posiciono con el cursor justo despues de ```gato1.```, y presiono la tecla __Tabulador__, intentará autocompletar con los datos que estan guardados dentro de este objeto, en este caso el nombre; si seleccionamos nombre y ejecutamos esta celda, el resultado será el nombre que le dimos a este primer gato:"
   ]
  },
  {
   "cell_type": "code",
   "execution_count": null,
   "metadata": {},
   "outputs": [],
   "source": [
    "gato1."
   ]
  },
  {
   "cell_type": "markdown",
   "metadata": {},
   "source": [
    "Sin embargo darle nombres a gatos no es lo suficientemente util para esta clase, por eso es que nuestro siguiente ejemplo será hacer un recetario de  __Pizzas!__"
   ]
  },
  {
   "cell_type": "markdown",
   "metadata": {},
   "source": [
    "Pero antes, esta variable que ejecutamos es una variable pública ya que pudimos crear código nuevo afuera de este objetoel cual pudo acceder al nombre del gato.\n",
    "\n",
    "> Todas las variables guardadas en un objeto en Python son públicas, de la misma manera veremos que es el mismo caso para las funciones (métodos)."
   ]
  },
  {
   "cell_type": "markdown",
   "metadata": {},
   "source": [
    "Revisa la siguiente definición para la clase ```Pizza```:"
   ]
  },
  {
   "cell_type": "code",
   "execution_count": null,
   "metadata": {},
   "outputs": [],
   "source": [
    "class Pizza:\n",
    "    def __init__(self, nombre, configuracion, tamaño):\n",
    "        self.nombre = nombre\n",
    "        if tamaño == \"individual\":\n",
    "            self.diam = 5\n",
    "        if tamaño == \"mediana\":\n",
    "            self.diam = 8\n",
    "        if tamaño == \"grande\":\n",
    "            self.diam = 11\n",
    "        if tamaño == \"jumbo\":\n",
    "            self.diam = 15"
   ]
  },
  {
   "cell_type": "markdown",
   "metadata": {},
   "source": [
    "En esta clase definimos que para inicializar nuestro objeto necesitamos tres datos, el nombre de la pizza, que configuración de pizza es y el tamaño.\n",
    "\n",
    "Guardamos el nombre en una variable interna llamada ```self.nombre``` (como te darás cuenta, todas las variables internas al objeto empiezan con ```self.```) y dependiendo del tamaño que le demos a la pizza, guardaremos el diametro de la pizza; así pues, si definimos una pizza hawaiiana mediana, tendremos que:"
   ]
  },
  {
   "cell_type": "code",
   "execution_count": null,
   "metadata": {},
   "outputs": [],
   "source": [
    "pizza1 = Pizza(\"Hawaiiana mediana\", \"H\", \"mediana\")"
   ]
  },
  {
   "cell_type": "code",
   "execution_count": null,
   "metadata": {},
   "outputs": [],
   "source": [
    "pizza1.diam"
   ]
  },
  {
   "cell_type": "code",
   "execution_count": null,
   "metadata": {},
   "outputs": [],
   "source": [
    "pizza1.nombre"
   ]
  },
  {
   "cell_type": "markdown",
   "metadata": {},
   "source": [
    "---\n",
    "### Ejercicio"
   ]
  },
  {
   "cell_type": "markdown",
   "metadata": {},
   "source": [
    "Actualiza la clase definida anteriormente, de tal manera que despues de definirse el diametro de la pizza se calcule el area de la misma."
   ]
  },
  {
   "cell_type": "code",
   "execution_count": null,
   "metadata": {
    "deletable": false,
    "nbgrader": {
     "checksum": "5291db2fcbccd09e240e6748816705e9",
     "grade": false,
     "grade_id": "cell-78c2e2820d00f49c",
     "locked": false,
     "schema_version": 1,
     "solution": true
    }
   },
   "outputs": [],
   "source": [
    "class Pizza:\n",
    "    def __init__(self, nombre, configuracion, tamaño):\n",
    "        self.nombre = nombre\n",
    "        if tamaño == \"individual\":\n",
    "            self.diam = 5\n",
    "        if tamaño == \"mediana\":\n",
    "            self.diam = 8\n",
    "        if tamaño == \"grande\":\n",
    "            self.diam = 11\n",
    "        if tamaño == \"jumbo\":\n",
    "            self.diam = 15\n",
    "        # ESCRIBE TU CODIGO AQUI\n",
    "        raise NotImplementedError"
   ]
  },
  {
   "cell_type": "markdown",
   "metadata": {},
   "source": [
    "Ejecuta la prueba de abajo para saber si has creado el codigo correcto"
   ]
  },
  {
   "cell_type": "code",
   "execution_count": null,
   "metadata": {
    "deletable": false,
    "editable": false,
    "nbgrader": {
     "checksum": "2f7bfda71eb21c8b4787a5426786d40b",
     "grade": true,
     "grade_id": "cell-87bee619e6dfd6b7",
     "locked": true,
     "points": 2,
     "schema_version": 1,
     "solution": false
    }
   },
   "outputs": [],
   "source": [
    "from nose.tools import assert_almost_equal\n",
    "pizza_de_prueba = Pizza(\"Hawaiiana individual\", \"H\", \"individual\")\n",
    "assert_almost_equal(pizza_de_prueba.area, 19.6349, 3)\n",
    "print(\"Sin errores\")"
   ]
  },
  {
   "cell_type": "markdown",
   "metadata": {},
   "source": [
    "Ahora que tenemos el area de la pizza, podemos calcular el número de piezas de condimentos necesarias, dependiendo del tipo de pizza:"
   ]
  },
  {
   "cell_type": "code",
   "execution_count": null,
   "metadata": {},
   "outputs": [],
   "source": [
    "class Pizza:\n",
    "    def __init__(self, nombre, configuracion, tamaño):\n",
    "        from numpy import pi, round\n",
    "        self.nombre = nombre\n",
    "        if tamaño == \"individual\":\n",
    "            self.diam = 5\n",
    "        if tamaño == \"mediana\":\n",
    "            self.diam = 8\n",
    "        if tamaño == \"grande\":\n",
    "            self.diam = 11\n",
    "        if tamaño == \"jumbo\":\n",
    "            self.diam = 15\n",
    "        self.area = pi*(self.diam/2)**2\n",
    "        if configuracion == \"H\":\n",
    "            self.npiñas = int(round(self.area/3.3))\n",
    "            self.njamon = int(round(self.area/2.1))\n",
    "        if configuracion == \"P\":\n",
    "            self.npepperoni = int(round(self.area/3.1))"
   ]
  },
  {
   "cell_type": "markdown",
   "metadata": {},
   "source": [
    "Por lo que ahora, si defino una pizza de pepperoni grande, puedo saber cuantas piezas de pepperoni necesitaré:"
   ]
  },
  {
   "cell_type": "code",
   "execution_count": null,
   "metadata": {},
   "outputs": [],
   "source": [
    "pizza2 = Pizza(\"Pepperoni grande\", \"P\", \"grande\")"
   ]
  },
  {
   "cell_type": "code",
   "execution_count": null,
   "metadata": {},
   "outputs": [],
   "source": [
    "pizza2.npepperoni"
   ]
  },
  {
   "cell_type": "markdown",
   "metadata": {},
   "source": [
    "Hasta el momento solo he guardado datos en variables internas al objeto y accedido a estas, sin embargo tambien puedo definir funciones diseñadas especificamente para interactuar con estos datos internos, por ejemplo, podemos definir una función que nos dara la receta de cada pizza dependiendo del tipo, tamaño y nombre que le guardemos:"
   ]
  },
  {
   "cell_type": "code",
   "execution_count": null,
   "metadata": {},
   "outputs": [],
   "source": [
    "class Pizza:\n",
    "    def __init__(self, nombre, configuracion, tamaño):\n",
    "        from numpy import pi, round\n",
    "        self.nombre = nombre\n",
    "        self.conf = configuracion\n",
    "        if tamaño == \"individual\":\n",
    "            self.diam = 5\n",
    "        if tamaño == \"mediana\":\n",
    "            self.diam = 8\n",
    "        if tamaño == \"grande\":\n",
    "            self.diam = 11\n",
    "        if tamaño == \"jumbo\":\n",
    "            self.diam = 15\n",
    "            \n",
    "        self.area = pi*(self.diam/2)**2\n",
    "        \n",
    "        if self.conf == \"H\":\n",
    "            self.npiñas = int(round(self.area/3.3))\n",
    "            self.njamon = int(round(self.area/2.1))\n",
    "        if self.conf == \"P\":\n",
    "            self.npepperoni = int(round(self.area/3.1))\n",
    "            \n",
    "    def imp_receta(self):\n",
    "        if self.conf == \"H\":\n",
    "            self.receta = \"Para preparar una pizza del tipo \"\n",
    "            self.receta += self.nombre + \" es necesario:\\n\" + \"Piña: \"\n",
    "            self.receta += str(self.npiñas) + \" piezas\\n\" + \"Jamón: \"\n",
    "            self.receta += str(self.njamon) + \" piezas\"\n",
    "            print(self.receta)"
   ]
  },
  {
   "cell_type": "markdown",
   "metadata": {},
   "source": [
    "Por lo que ahora, si defino una pizza hawaiiana jumbo, puedo obtener su receta, mandando a llamar este método (función interna al objeto):"
   ]
  },
  {
   "cell_type": "code",
   "execution_count": null,
   "metadata": {},
   "outputs": [],
   "source": [
    "pizza3 = Pizza(\"Hawiana jumbo\", \"H\", \"jumbo\")"
   ]
  },
  {
   "cell_type": "code",
   "execution_count": null,
   "metadata": {},
   "outputs": [],
   "source": [
    "pizza3.imp_receta()"
   ]
  },
  {
   "cell_type": "markdown",
   "metadata": {},
   "source": [
    "---\n",
    "### Ejercicio"
   ]
  },
  {
   "cell_type": "markdown",
   "metadata": {},
   "source": [
    "Actualiza el código para que pueda imprimir la receta de una pizza de pepperoni e imprime la receta de una pizza de pepperoni individual."
   ]
  },
  {
   "cell_type": "code",
   "execution_count": null,
   "metadata": {
    "deletable": false,
    "nbgrader": {
     "checksum": "afb0e531491e2bcaad61d000c4290c84",
     "grade": false,
     "grade_id": "cell-75ef093a03ce4d9c",
     "locked": false,
     "schema_version": 1,
     "solution": true
    }
   },
   "outputs": [],
   "source": [
    "class Pizza:\n",
    "    def __init__(self, nombre, configuracion, tamaño):\n",
    "        from numpy import pi, round\n",
    "        self.nombre = nombre\n",
    "        self.conf = configuracion\n",
    "        if tamaño == \"individual\":\n",
    "            self.diam = 5\n",
    "        if tamaño == \"mediana\":\n",
    "            self.diam = 8\n",
    "        if tamaño == \"grande\":\n",
    "            self.diam = 11\n",
    "        if tamaño == \"jumbo\":\n",
    "            self.diam = 15\n",
    "            \n",
    "        self.area = pi*(self.diam/2)**2\n",
    "        \n",
    "        if self.conf == \"H\":\n",
    "            self.npiñas = int(round(self.area/3.3))\n",
    "            self.njamon = int(round(self.area/2.1))\n",
    "        if self.conf == \"P\":\n",
    "            self.npepperoni = int(round(self.area/3.1))\n",
    "            \n",
    "    def imp_receta(self):\n",
    "        if self.conf == \"H\":\n",
    "            self.receta = \"Para preparar una pizza del tipo \"\n",
    "            self.receta += self.nombre + \" es necesario:\\n\" + \"Piña: \"\n",
    "            self.receta += str(self.npiñas) + \" piezas\\n\" + \"Jamón: \"\n",
    "            self.receta += str(self.njamon) + \" piezas\"\n",
    "            print(self.receta)\n",
    "        # ESCRIBE TU CODIGO AQUI\n",
    "        raise NotImplementedError"
   ]
  },
  {
   "cell_type": "code",
   "execution_count": null,
   "metadata": {
    "deletable": false,
    "nbgrader": {
     "checksum": "c042ab50538a44a7eb509d0975fed6ea",
     "grade": false,
     "grade_id": "cell-cdeeddd203b4d25b",
     "locked": false,
     "schema_version": 1,
     "solution": true
    }
   },
   "outputs": [],
   "source": [
    "# ESCRIBE TU CODIGO AQUI\n",
    "raise NotImplementedError\n",
    "pizza4.imp_receta()"
   ]
  },
  {
   "cell_type": "markdown",
   "metadata": {},
   "source": [
    "Ejecuta las pruebas de abajo"
   ]
  },
  {
   "cell_type": "code",
   "execution_count": null,
   "metadata": {
    "deletable": false,
    "editable": false,
    "nbgrader": {
     "checksum": "566cdfe26a274c9c93b839317722abeb",
     "grade": true,
     "grade_id": "cell-a818d5ab9f33b2c9",
     "locked": true,
     "points": 2,
     "schema_version": 1,
     "solution": false
    }
   },
   "outputs": [],
   "source": [
    "from nose.tools import assert_equal\n",
    "assert_equal(pizza4.receta, \"Para preparar una pizza del tipo Pepperoni individual es necesario:\\nPepperoni: 6 piezas\")\n",
    "print(\"Sin errores\")"
   ]
  }
 ],
 "metadata": {
  "kernelspec": {
   "display_name": "Python 3",
   "language": "python",
   "name": "python3"
  },
  "language_info": {
   "codemirror_mode": {
    "name": "ipython",
    "version": 3
   },
   "file_extension": ".py",
   "mimetype": "text/x-python",
   "name": "python",
   "nbconvert_exporter": "python",
   "pygments_lexer": "ipython3",
   "version": "3.6.6"
  }
 },
 "nbformat": 4,
 "nbformat_minor": 2
}
