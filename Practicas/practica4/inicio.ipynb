{
 "cells": [
  {
   "cell_type": "markdown",
   "metadata": {},
   "source": [
    "# Práctica 4 - Control"
   ]
  },
  {
   "cell_type": "markdown",
   "metadata": {},
   "source": [
    "En esta práctica nos enfocaremos a entender las metodologías para hacer y sintonizar controladores, para lo cual necesitaremos empezar con sistemas simples, nuestro primer ejemplo será la ecuación diferencial:\n",
    "\n",
    "$$\n",
    "\\dot{x}(t) + x(t) = u(t)\n",
    "$$"
   ]
  },
  {
   "cell_type": "markdown",
   "metadata": {},
   "source": [
    "Lo primero que hacemos es aplicar una transformada de Laplace para obtener la siguiente función de transferencia:\n",
    "\n",
    "$$\n",
    "G(s) = \\frac{X(s)}{U(s)} = \\frac{1}{s+1}\n",
    "$$"
   ]
  },
  {
   "cell_type": "markdown",
   "metadata": {},
   "source": [
    "Una vez que tenemos esta función de transferencia, podemos ingresarla a una función de transferencia por medio de la librería ```control```, de donde obtenemos la función ```tf```:"
   ]
  },
  {
   "cell_type": "code",
   "execution_count": null,
   "metadata": {},
   "outputs": [],
   "source": [
    "from control import tf"
   ]
  },
  {
   "cell_type": "markdown",
   "metadata": {},
   "source": [
    "Para utilizar esta función, le damos un arreglo con los coeficientes del numerador y denominador de la función de transferencia, de tal manera que:"
   ]
  },
  {
   "cell_type": "code",
   "execution_count": null,
   "metadata": {},
   "outputs": [],
   "source": [
    "G1 = tf([1],[1,1])\n",
    "G1"
   ]
  },
  {
   "cell_type": "markdown",
   "metadata": {},
   "source": [
    "Ya que tenemos definida la función de transferencia, podemos simular su comportamiento por medio de la función ```step_response```:"
   ]
  },
  {
   "cell_type": "code",
   "execution_count": null,
   "metadata": {},
   "outputs": [],
   "source": [
    "from control import step_response"
   ]
  },
  {
   "cell_type": "code",
   "execution_count": null,
   "metadata": {},
   "outputs": [],
   "source": [
    "t, y = step_response(G1)"
   ]
  },
  {
   "cell_type": "markdown",
   "metadata": {},
   "source": [
    "Y una vez simulado, graficar los datos:"
   ]
  },
  {
   "cell_type": "code",
   "execution_count": null,
   "metadata": {},
   "outputs": [],
   "source": [
    "%matplotlib inline"
   ]
  },
  {
   "cell_type": "code",
   "execution_count": null,
   "metadata": {},
   "outputs": [],
   "source": [
    "from matplotlib.pyplot import figure, close, style\n",
    "style.use(\"ggplot\")"
   ]
  },
  {
   "cell_type": "code",
   "execution_count": null,
   "metadata": {},
   "outputs": [],
   "source": [
    "fig = figure(figsize=(12,3))\n",
    "ax = fig.gca()\n",
    "ax.plot(t, y)"
   ]
  },
  {
   "cell_type": "markdown",
   "metadata": {},
   "source": [
    "Sin embargo un sistema tan sencillo no tiene el comportamiento que necesitamos para este analisis; podemos utilizar el sistema masa resorte amortiguador para el siguiente ejemplo, recordemos que su función de transferencia es:\n",
    "\n",
    "$$\n",
    "G(s) = \\frac{1}{ms^2 + cs + k}\n",
    "$$\n",
    "\n",
    "por lo que definimos su función de tranferencia, simulamos y graficamos:"
   ]
  },
  {
   "cell_type": "code",
   "execution_count": null,
   "metadata": {},
   "outputs": [],
   "source": [
    "m = 1000\n",
    "c = 1500\n",
    "k = 15000\n",
    "G2 = tf([1], [m, c, k])"
   ]
  },
  {
   "cell_type": "code",
   "execution_count": null,
   "metadata": {},
   "outputs": [],
   "source": [
    "t, y = step_response(G2)"
   ]
  },
  {
   "cell_type": "code",
   "execution_count": null,
   "metadata": {},
   "outputs": [],
   "source": [
    "fig = figure(figsize=(12,3))\n",
    "ax = fig.gca()\n",
    "ax.plot(t, y)"
   ]
  },
  {
   "cell_type": "markdown",
   "metadata": {},
   "source": [
    "---\n",
    "## Ejercicio"
   ]
  },
  {
   "cell_type": "markdown",
   "metadata": {},
   "source": [
    "Basado en la función de transferencia de un sistema masa resorte amortiguador:\n",
    "\n",
    "* Define una función de transferencia $G_3$ con comportamiento estable, subamortiguado.\n",
    "* Define una función de transferencia $G_4$ con comportamiento estable, sobreamortiguado.\n",
    "* Define una función de transferencia $G_5$ con comportamiento criticamente estable.\n",
    "* Define una función de transferencia $G_6$ con comportamiento inestable"
   ]
  },
  {
   "cell_type": "code",
   "execution_count": null,
   "metadata": {
    "deletable": false,
    "nbgrader": {
     "checksum": "38a909043d8bdf16ca5e728ba79b3dde",
     "grade": false,
     "grade_id": "cell-6360918605f7581d",
     "locked": false,
     "schema_version": 1,
     "solution": true
    }
   },
   "outputs": [],
   "source": [
    "# ESCRIBE TU CODIGO AQUI\n",
    "raise NotImplementedError\n",
    "t, y = step_response(G3)\n",
    "fig = figure(figsize=(12,3))\n",
    "ax = fig.gca()\n",
    "ax.plot(t, y);"
   ]
  },
  {
   "cell_type": "code",
   "execution_count": null,
   "metadata": {
    "deletable": false,
    "editable": false,
    "nbgrader": {
     "checksum": "d0037338965879676b2927672650cc1e",
     "grade": true,
     "grade_id": "cell-1eabd95d22890302",
     "locked": true,
     "points": 1,
     "schema_version": 1,
     "solution": false
    }
   },
   "outputs": [],
   "source": [
    "from numpy import sqrt\n",
    "num = G3.num[0][0]/G3.den[0][0][0]\n",
    "denom = (G3.den[0][0])/G3.den[0][0][0]\n",
    "assert len(denom) is 3, \"¿Estas usando la función del sistema masa resorte amortiguador?\"\n",
    "ωn = sqrt(denom[2])\n",
    "ζ = denom[1]/(2*ωn)\n",
    "assert 0 < ζ < 1, \"Este sistema no es subamortiguado\""
   ]
  },
  {
   "cell_type": "code",
   "execution_count": null,
   "metadata": {
    "deletable": false,
    "nbgrader": {
     "checksum": "a8bc407751edbc916cfcd6f5ab7cf3da",
     "grade": false,
     "grade_id": "cell-d0fbd84c251b72af",
     "locked": false,
     "schema_version": 1,
     "solution": true
    }
   },
   "outputs": [],
   "source": [
    "# ESCRIBE TU CODIGO AQUI\n",
    "raise NotImplementedError\n",
    "t, y = step_response(G4)\n",
    "fig = figure(figsize=(12,3))\n",
    "ax = fig.gca()\n",
    "ax.plot(t, y);"
   ]
  },
  {
   "cell_type": "code",
   "execution_count": null,
   "metadata": {
    "deletable": false,
    "editable": false,
    "nbgrader": {
     "checksum": "3acd91771353d0f52139540c65f4dcf6",
     "grade": true,
     "grade_id": "cell-482486621c000942",
     "locked": true,
     "points": 1,
     "schema_version": 1,
     "solution": false
    }
   },
   "outputs": [],
   "source": [
    "from numpy import sqrt\n",
    "num = G4.num[0][0]/G4.den[0][0][0]\n",
    "denom = (G4.den[0][0])/G4.den[0][0][0]\n",
    "assert len(denom) is 3, \"¿Estas usando la función del sistema masa resorte amortiguador?\"\n",
    "ωn = sqrt(denom[2])\n",
    "ζ = denom[1]/(2*ωn)\n",
    "assert ζ > 1, \"Este sistema no es sobreamortiguado\""
   ]
  },
  {
   "cell_type": "code",
   "execution_count": null,
   "metadata": {
    "deletable": false,
    "nbgrader": {
     "checksum": "1330349cb4c129162a0c71b6ffb521ec",
     "grade": false,
     "grade_id": "cell-5c7e60c1a3cce416",
     "locked": false,
     "schema_version": 1,
     "solution": true
    }
   },
   "outputs": [],
   "source": [
    "# ESCRIBE TU CODIGO AQUI\n",
    "raise NotImplementedError\n",
    "t, y = step_response(G5)\n",
    "fig = figure(figsize=(12,3))\n",
    "ax = fig.gca()\n",
    "ax.plot(t, y);"
   ]
  },
  {
   "cell_type": "code",
   "execution_count": null,
   "metadata": {
    "deletable": false,
    "editable": false,
    "nbgrader": {
     "checksum": "bd24e27440e87a6fb85fce8fcc6f18eb",
     "grade": true,
     "grade_id": "cell-47429e4312b2f105",
     "locked": true,
     "points": 1,
     "schema_version": 1,
     "solution": false
    }
   },
   "outputs": [],
   "source": [
    "from numpy.testing import assert_array_equal\n",
    "from numpy import array\n",
    "polos = G5.pole()\n",
    "polos_real = [p.real for p in polos]\n",
    "polos_crit = array([p == 0 for p in polos_real])\n",
    "polos_ines = array([p > 0 for p in polos_real])\n",
    "assert polos_crit.any() and not polos_ines.any(), \"Este sistema no es criticamente estable\""
   ]
  },
  {
   "cell_type": "code",
   "execution_count": null,
   "metadata": {
    "deletable": false,
    "nbgrader": {
     "checksum": "f47132d1fb6d2ce062b24f0272e6635b",
     "grade": false,
     "grade_id": "cell-767080eb937497a0",
     "locked": false,
     "schema_version": 1,
     "solution": true
    }
   },
   "outputs": [],
   "source": [
    "# ESCRIBE TU CODIGO AQUI\n",
    "raise NotImplementedError\n",
    "t, y = step_response(G5)\n",
    "fig = figure(figsize=(12,3))\n",
    "ax = fig.gca()\n",
    "ax.plot(t, y);"
   ]
  },
  {
   "cell_type": "code",
   "execution_count": null,
   "metadata": {
    "deletable": false,
    "editable": false,
    "nbgrader": {
     "checksum": "7ad751e3d8568084690e5c4c7f718e3d",
     "grade": true,
     "grade_id": "cell-0de033800bc5b026",
     "locked": true,
     "points": 1,
     "schema_version": 1,
     "solution": false
    }
   },
   "outputs": [],
   "source": [
    "from numpy.testing import assert_array_equal\n",
    "from numpy import array\n",
    "polos = G6.pole()\n",
    "polos_real = [p.real for p in polos]\n",
    "polos_crit = array([p == 0 for p in polos_real])\n",
    "polos_ines = array([p > 0 for p in polos_real])\n",
    "assert polos_ines.any(), \"Este sistema no es inestable\""
   ]
  },
  {
   "cell_type": "markdown",
   "metadata": {},
   "source": [
    "Podemos incluso graficar el comportamiento del sistema con diferentes parametros al mismo tiempo; para esto definiremos varios sistemas con una list comprehension:"
   ]
  },
  {
   "cell_type": "code",
   "execution_count": null,
   "metadata": {},
   "outputs": [],
   "source": [
    "m = 1000\n",
    "k = 15000\n",
    "cs = [1500, 500, 0, -100, -500]\n",
    "F = 1000\n",
    "Gs = [tf([F], [m,c,k]) for c in cs]"
   ]
  },
  {
   "cell_type": "markdown",
   "metadata": {},
   "source": [
    "Para asegurar que todas las simulaciones se harán con los mismos tiempos iniciales y finales, definiremos un arreglo desde $0$ hasta $10$ con $1000$ puntos para simular:"
   ]
  },
  {
   "cell_type": "code",
   "execution_count": null,
   "metadata": {},
   "outputs": [],
   "source": [
    "from numpy import linspace\n",
    "ts = linspace(0, 10, 1000)"
   ]
  },
  {
   "cell_type": "markdown",
   "metadata": {},
   "source": [
    "Entonces, podremos simular el comportamiento de cada uno de estos sistemas con otra list comprehension:"
   ]
  },
  {
   "cell_type": "code",
   "execution_count": null,
   "metadata": {},
   "outputs": [],
   "source": [
    "respuestas = [step_response(G, ts) for G in Gs]"
   ]
  },
  {
   "cell_type": "markdown",
   "metadata": {},
   "source": [
    "y graficar, tambien, con una list comprehension:"
   ]
  },
  {
   "cell_type": "code",
   "execution_count": null,
   "metadata": {},
   "outputs": [],
   "source": [
    "fig = figure(figsize=(12,3))\n",
    "ax = fig.gca()\n",
    "ps = [ax.plot(resp[0], resp[1]) for resp in respuestas]\n",
    "ax.set_ylim(-0.01, 0.16)\n",
    "ax.legend([ ps[0][0],  ps[1][0],        ps[2][0],    ps[3][0],    ps[4][0]],\n",
    "          [\"Estable\", \"Estable\", \"Crit. estable\", \"Inestable\", \"Inestable\"]);"
   ]
  },
  {
   "cell_type": "markdown",
   "metadata": {},
   "source": [
    "Si ahora tomamos uno de los sistemas inestables, podemos proponer un controlador que estabilice el sistema:"
   ]
  },
  {
   "cell_type": "code",
   "execution_count": null,
   "metadata": {},
   "outputs": [],
   "source": [
    "ts = linspace(0, 10, 1000)\n",
    "t, y = step_response(Gs[3], ts)\n",
    "\n",
    "fig = figure(figsize=(12,3))\n",
    "ax = fig.gca()\n",
    "ax.plot(t, y)"
   ]
  },
  {
   "cell_type": "markdown",
   "metadata": {},
   "source": [
    "por ejemplo, podemos proponer el controlador\n",
    "\n",
    "$$\n",
    "C(s) = K_P + s K_D\n",
    "$$\n",
    "\n",
    "en donde $K_P = 1$ y $K_D = 1$ como valores iniciales:"
   ]
  },
  {
   "cell_type": "code",
   "execution_count": null,
   "metadata": {},
   "outputs": [],
   "source": [
    "ts = linspace(0, 10, 1000)\n",
    "Con = tf([1, 1], [1])\n",
    "t, y = step_response((Con*Gs[3]).feedback(), ts)\n",
    "\n",
    "fig = figure(figsize=(12,3))\n",
    "ax = fig.gca()\n",
    "ax.plot(t, y)"
   ]
  },
  {
   "cell_type": "markdown",
   "metadata": {},
   "source": [
    "Este controlador PD funciona para estabilizar el sistema, sin embargo aun no tiene las propiedades que deseo, por lo que tengo que sintonizar el sistema, para este proceso necesito cambiar $K_P$ y $K_D$ hasta obtener un comportamiento adecuado, propondré una notación alternativa para ayudarnos a escribir una ley de control mas compleja, primero analicemos el siguiente ejemplo:\n",
    "\n",
    "$$\n",
    "\\frac{1}{s} + \\frac{1}{s+1} = \\frac{(s+1)}{s(s+1)} + \\frac{s}{(s+1)s} = \\frac{(s+1)+s}{s(s+1)} = \\frac{2s+1}{s^2+s}\n",
    "$$"
   ]
  },
  {
   "cell_type": "code",
   "execution_count": null,
   "metadata": {},
   "outputs": [],
   "source": [
    "tf([1], [1,0]) + tf([1], [1,1])"
   ]
  },
  {
   "cell_type": "markdown",
   "metadata": {},
   "source": [
    "por lo que podemos concluir que si hacemos operaciones con las funciones de transferencia, el motor de algebra de las funciones de transferencia simplificará hasta el mínimo cualquier expresión, esto es resultado del hecho que las operaciones en Python, estan definidas como metodos de la clase que las define, por ejemplo, podemos preguntarle a un numero entero como se hace la suma en su clase:"
   ]
  },
  {
   "cell_type": "code",
   "execution_count": null,
   "metadata": {},
   "outputs": [],
   "source": [
    "a = 1"
   ]
  },
  {
   "cell_type": "code",
   "execution_count": null,
   "metadata": {},
   "outputs": [],
   "source": [
    "a.__add__??"
   ]
  },
  {
   "cell_type": "markdown",
   "metadata": {},
   "source": [
    "o bien, a alguna de las funciones de transferencia:"
   ]
  },
  {
   "cell_type": "code",
   "execution_count": null,
   "metadata": {},
   "outputs": [],
   "source": [
    "G1.__add__??"
   ]
  },
  {
   "cell_type": "markdown",
   "metadata": {},
   "source": [
    "podriamos pensar hasta en sumar gatitos, pero esto quedará para otra práctica... por ahora conformemonos con definir el simbolo $s$, de tal manera que:"
   ]
  },
  {
   "cell_type": "code",
   "execution_count": null,
   "metadata": {},
   "outputs": [],
   "source": [
    "s = tf([1, 0], [1])\n",
    "s"
   ]
  },
  {
   "cell_type": "code",
   "execution_count": null,
   "metadata": {},
   "outputs": [],
   "source": [
    "4*s + 1/s"
   ]
  },
  {
   "cell_type": "markdown",
   "metadata": {},
   "source": [
    "Ahora definiremos nuestro controlador PID, el cual tiene la siguiente formula:\n",
    "\n",
    "$$\n",
    "C(s) = K_P + s K_D + \\frac{1}{s} K_I\n",
    "$$"
   ]
  },
  {
   "cell_type": "code",
   "execution_count": null,
   "metadata": {},
   "outputs": [],
   "source": [
    "kp, kd, ki = 10, 2, 1\n",
    "Con = kp + kd*s + ki/s\n",
    "Con"
   ]
  },
  {
   "cell_type": "markdown",
   "metadata": {},
   "source": [
    "Pero como un solo ejemplo de controlador es muy aburrido, definiremos una función que simule el comportamiento de cualquier controlador PID que le demos:"
   ]
  },
  {
   "cell_type": "code",
   "execution_count": null,
   "metadata": {},
   "outputs": [],
   "source": [
    "def sistema_controlado(kp, ki, kd):\n",
    "    Con = kp + kd*s + ki/s\n",
    "    ts = linspace(0, 10, 1000)\n",
    "    t, y = step_response((Con*Gs[3]).feedback(), ts)\n",
    "\n",
    "    fig = figure(figsize=(12,3))\n",
    "    ax = fig.gca()\n",
    "    ax.plot(t, y)"
   ]
  },
  {
   "cell_type": "code",
   "execution_count": null,
   "metadata": {},
   "outputs": [],
   "source": [
    "sistema_controlado(1,1,1)"
   ]
  },
  {
   "cell_type": "markdown",
   "metadata": {},
   "source": [
    "y recordando que podemos interactuar con estas variables, podemos hacer modificar nuestro controlador hasta que obtengamos un comportamiento adecuado:"
   ]
  },
  {
   "cell_type": "code",
   "execution_count": null,
   "metadata": {},
   "outputs": [],
   "source": [
    "from ipywidgets import interact"
   ]
  },
  {
   "cell_type": "code",
   "execution_count": null,
   "metadata": {},
   "outputs": [],
   "source": [
    "interact(sistema_controlado, kp=(0,20), ki=(0,20), kd=(0,20))"
   ]
  },
  {
   "cell_type": "markdown",
   "metadata": {},
   "source": [
    "Sin embargo este sistema es lineal, y nuestros manipuladores robóticos no lo son; necesitaremos mas herramientas para simular el comportamiento de los robots, lo cual se verá en el documento llamado ```numerico.ipynb```."
   ]
  }
 ],
 "metadata": {
  "kernelspec": {
   "display_name": "Python 3",
   "language": "python",
   "name": "python3"
  },
  "language_info": {
   "codemirror_mode": {
    "name": "ipython",
    "version": 3
   },
   "file_extension": ".py",
   "mimetype": "text/x-python",
   "name": "python",
   "nbconvert_exporter": "python",
   "pygments_lexer": "ipython3",
   "version": "3.6.6"
  }
 },
 "nbformat": 4,
 "nbformat_minor": 2
}
