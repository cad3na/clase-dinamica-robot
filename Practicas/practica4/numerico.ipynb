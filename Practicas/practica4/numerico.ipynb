{
 "cells": [
  {
   "cell_type": "markdown",
   "metadata": {},
   "source": [
    "# Práctica 4 - Control"
   ]
  },
  {
   "cell_type": "markdown",
   "metadata": {},
   "source": [
    "Para definir sistemas complejos como un robot manipulador, vamos a tener que usar funciones, de tal manera que:\n",
    "\n",
    "$$\n",
    "\\dot{x} = f(x)\n",
    "$$\n",
    "\n",
    "como lo hicimos en cada simulación anterior; empezaremos utilizando la de un pendulo simple:"
   ]
  },
  {
   "cell_type": "code",
   "execution_count": null,
   "metadata": {},
   "outputs": [],
   "source": [
    "def f(t, x):\n",
    "    # Se importan funciones matematicas necesarias\n",
    "    from numpy import cos\n",
    "    # Se desenvuelven las variables que componen al estado\n",
    "    q1, q̇1 = x\n",
    "    # Se definen constantes del sistema\n",
    "    g = 9.81\n",
    "    m1, J1 = 0.3, 0.0005\n",
    "    l1 = 0.4\n",
    "    τ1 = 0\n",
    "    # Se calculan las variables a devolver por el sistema\n",
    "    q1p = q̇1\n",
    "    q1pp = 1/(m1*l1**2 + J1)*(τ1 - g*m1*l1*cos(q1))\n",
    "    # Se devuelve la derivada de las variables de entrada\n",
    "    return [q1p, q1pp]"
   ]
  },
  {
   "cell_type": "markdown",
   "metadata": {},
   "source": [
    "Para simular utilizaremos la función ```ode```, la cual devolvera un objeto con metodos especiales para simular un sistema como el nuestro:"
   ]
  },
  {
   "cell_type": "code",
   "execution_count": null,
   "metadata": {},
   "outputs": [],
   "source": [
    "from scipy.integrate import ode\n",
    "from numpy import linspace, degrees, radians"
   ]
  },
  {
   "cell_type": "code",
   "execution_count": null,
   "metadata": {},
   "outputs": [],
   "source": [
    "sis = ode(f)"
   ]
  },
  {
   "cell_type": "markdown",
   "metadata": {},
   "source": [
    "Por ejemplo, podemos darle valores iniciales:"
   ]
  },
  {
   "cell_type": "code",
   "execution_count": null,
   "metadata": {},
   "outputs": [],
   "source": [
    "sis.set_initial_value([0,0])"
   ]
  },
  {
   "cell_type": "code",
   "execution_count": null,
   "metadata": {},
   "outputs": [],
   "source": [
    "ts = linspace(0, 5, 1000)"
   ]
  },
  {
   "cell_type": "markdown",
   "metadata": {},
   "source": [
    "Y usar una list comprehension para simular el comportamiento del sistema en cada uno de los puntos siguientes:"
   ]
  },
  {
   "cell_type": "code",
   "execution_count": null,
   "metadata": {},
   "outputs": [],
   "source": [
    "ys = [sis.integrate(t) for t in ts[1:]]\n",
    "ys.insert(0,[0,0])"
   ]
  },
  {
   "cell_type": "markdown",
   "metadata": {},
   "source": [
    "Si ahora queremos graficar el comportamiento del sistema, podemos importar las librerias necesarias:"
   ]
  },
  {
   "cell_type": "code",
   "execution_count": null,
   "metadata": {},
   "outputs": [],
   "source": [
    "%matplotlib inline"
   ]
  },
  {
   "cell_type": "code",
   "execution_count": null,
   "metadata": {},
   "outputs": [],
   "source": [
    "from matplotlib.pyplot import figure, style\n",
    "style.use(\"ggplot\")\n",
    "from matplotlib import rc, rcParams\n",
    "rcParams['text.latex.preamble']=[r\"\\usepackage{cmbright}\"]\n",
    "\n",
    "params = {'text.usetex' : True,\n",
    "          'font.size' : 18}\n",
    "rcParams.update(params) \n",
    "\n",
    "rc('font',**{'family':'sans-serif','sans-serif':['Noto Sans']})"
   ]
  },
  {
   "cell_type": "markdown",
   "metadata": {},
   "source": [
    "Y graficar:"
   ]
  },
  {
   "cell_type": "code",
   "execution_count": null,
   "metadata": {},
   "outputs": [],
   "source": [
    "fig = figure(figsize=(20,5))\n",
    "ax = fig.gca()\n",
    "ps = ax.plot(ts, degrees(ys))\n",
    "ax.legend([ps[0], ps[1]], [r\"$q$\", r\"$\\dot{q}$\"])\n",
    "ax.set_title(\"Sistema sin control\");"
   ]
  },
  {
   "cell_type": "markdown",
   "metadata": {},
   "source": [
    "Sin embargo, este es el comportamiento del sistema sin control, lo que en realidad queremos es que el sistema se mueva a una posición especifica, por lo que necesitamos darle a la función a simular este valor como un parametro extra:"
   ]
  },
  {
   "cell_type": "code",
   "execution_count": null,
   "metadata": {},
   "outputs": [],
   "source": [
    "def f(t, x, params):\n",
    "    qd = params[0]\n",
    "    # Se importan funciones matematicas necesarias\n",
    "    from numpy import cos\n",
    "    # Se desenvuelven las variables que componen al estado\n",
    "    q1, q̇1 = x\n",
    "    # Se definen constantes del sistema\n",
    "    g = 9.81\n",
    "    m1, J1 = 0.3, 0.0005\n",
    "    l1 = 0.4\n",
    "    τ1 = qd\n",
    "    # Se calculan las variables a devolver por el sistema\n",
    "    q1p = q̇1\n",
    "    q1pp = 1/(m1*l1**2 + J1)*(τ1 - g*m1*l1*cos(q1))\n",
    "    # Se devuelve la derivada de las variables de entrada\n",
    "    return [q1p, q1pp]"
   ]
  },
  {
   "cell_type": "markdown",
   "metadata": {},
   "source": [
    "Por el momento utilizare la posición deseada como la función de control \n",
    "\n",
    "$$\n",
    "\\tau_1 = q_d\n",
    "$$\n",
    "\n",
    "con lo que al simular y graficar, tenemos:"
   ]
  },
  {
   "cell_type": "code",
   "execution_count": null,
   "metadata": {},
   "outputs": [],
   "source": [
    "sis = ode(f)\n",
    "sis.set_initial_value([0,0])\n",
    "sis.set_f_params([radians(20)])"
   ]
  },
  {
   "cell_type": "code",
   "execution_count": null,
   "metadata": {},
   "outputs": [],
   "source": [
    "ts = linspace(0, 5, 1000)\n",
    "ys = [sis.integrate(t) for t in ts[1:]]\n",
    "ys.insert(0,[0,0])"
   ]
  },
  {
   "cell_type": "code",
   "execution_count": null,
   "metadata": {},
   "outputs": [],
   "source": [
    "fig = figure(figsize=(20,5))\n",
    "ax = fig.gca()\n",
    "ps = ax.plot(ts, degrees(ys))\n",
    "ax.legend([ps[0], ps[1]], [r\"$q$\", r\"$\\dot{q}$\"])\n",
    "ax.set_title(\"Sistema con control en lazo abierto\");"
   ]
  },
  {
   "cell_type": "markdown",
   "metadata": {},
   "source": [
    "Sin embargo esta ley de control no toma en cuenta la posición real del sistema, podemos definir una ley de control que se calcule con la diferencia de la posición deseada y la posición real:\n",
    "\n",
    "$$\n",
    "\\tau_1 = q_d - q_1\n",
    "$$"
   ]
  },
  {
   "cell_type": "code",
   "execution_count": null,
   "metadata": {},
   "outputs": [],
   "source": [
    "def f(t, x, params):\n",
    "    qd = params[0]\n",
    "    # Se importan funciones matematicas necesarias\n",
    "    from numpy import cos\n",
    "    # Se desenvuelven las variables que componen al estado\n",
    "    q1, q̇1 = x\n",
    "    # Se definen constantes del sistema\n",
    "    g = 9.81\n",
    "    m1, J1 = 0.3, 0.0005\n",
    "    l1 = 0.4\n",
    "    τ1 = qd - q1\n",
    "    # Se calculan las variables a devolver por el sistema\n",
    "    q1p = q̇1\n",
    "    q1pp = 1/(m1*l1**2 + J1)*(τ1 - g*m1*l1*cos(q1))\n",
    "    # Se devuelve la derivada de las variables de entrada\n",
    "    return [q1p, q1pp]"
   ]
  },
  {
   "cell_type": "code",
   "execution_count": null,
   "metadata": {},
   "outputs": [],
   "source": [
    "sis = ode(f)\n",
    "sis.set_initial_value([0,0])\n",
    "sis.set_f_params([radians(20)])"
   ]
  },
  {
   "cell_type": "code",
   "execution_count": null,
   "metadata": {},
   "outputs": [],
   "source": [
    "ts = linspace(0, 5, 1000)\n",
    "ys = [sis.integrate(t) for t in ts[1:]]\n",
    "ys.insert(0,[0,0])"
   ]
  },
  {
   "cell_type": "code",
   "execution_count": null,
   "metadata": {},
   "outputs": [],
   "source": [
    "fig = figure(figsize=(20,5))\n",
    "ax = fig.gca()\n",
    "ax.plot(ts, degrees(ys))\n",
    "ax.legend([ps[0], ps[1]], [r\"$q$\", r\"$\\dot{q}$\"])\n",
    "ax.set_title(r\"Sistema con control $k_p=1$\");"
   ]
  },
  {
   "cell_type": "markdown",
   "metadata": {},
   "source": [
    "Esta ley de control mejoró el comportamiento del sistema (en las primeras 2 simulaciones la amplitud es mayor, cada vez estamos limitando mas el error del sistema), pero aun oscila; el problema por el momento es que si llega a la posición deseada, pero cuando llega a esa posición, su velocidad es mayor que $0$, lo que queremos es que llegue a la posición deseada con velocidad $0$, es decir que llegue a la posición deseada y se quede ahi:\n",
    "\n",
    "$$\n",
    "\\tau_1 = (q_d - q_1) + (\\dot{q}_d - \\dot{q}_1) = (q_d - q_1) + (0 - \\dot{q}_1)\n",
    "$$"
   ]
  },
  {
   "cell_type": "code",
   "execution_count": null,
   "metadata": {},
   "outputs": [],
   "source": [
    "def f(t, x, params):\n",
    "    qd = params[0]\n",
    "    # Se importan funciones matematicas necesarias\n",
    "    from numpy import cos\n",
    "    # Se desenvuelven las variables que componen al estado\n",
    "    q1, q̇1 = x\n",
    "    # Se definen constantes del sistema\n",
    "    g = 9.81\n",
    "    m1, J1 = 0.3, 0.0005\n",
    "    l1 = 0.4\n",
    "    τ1 = (qd - q1) + (0 - q̇1)\n",
    "    # Se calculan las variables a devolver por el sistema\n",
    "    q1p = q̇1\n",
    "    q1pp = 1/(m1*l1**2 + J1)*(τ1 - g*m1*l1*cos(q1))\n",
    "    # Se devuelve la derivada de las variables de entrada\n",
    "    return [q1p, q1pp]"
   ]
  },
  {
   "cell_type": "code",
   "execution_count": null,
   "metadata": {},
   "outputs": [],
   "source": [
    "sis = ode(f)\n",
    "sis.set_initial_value([0,0])\n",
    "sis.set_f_params([radians(20)])"
   ]
  },
  {
   "cell_type": "code",
   "execution_count": null,
   "metadata": {},
   "outputs": [],
   "source": [
    "ts = linspace(0, 5, 1000)\n",
    "ys = [sis.integrate(t) for t in ts[1:]]\n",
    "ys.insert(0,[0,0])"
   ]
  },
  {
   "cell_type": "code",
   "execution_count": null,
   "metadata": {},
   "outputs": [],
   "source": [
    "fig = figure(figsize=(20,5))\n",
    "ax = fig.gca()\n",
    "ax.plot(ts, degrees(ys))\n",
    "ax.legend([ps[0], ps[1]], [r\"$q$\", r\"$\\dot{q}$\"])\n",
    "ax.set_title(\"Sistema con control $k_p=1$, $k_d=1$\");"
   ]
  },
  {
   "cell_type": "markdown",
   "metadata": {},
   "source": [
    "Este sistema ya empieza a intentar funcionar como debería, sin embargo la posición $q$ no alcanza a llegar a $20^o$ como le dijimos, necesitamos darle una mayor ganacia de control para que intente llegar mas rápido a la posición deseada antes de que la velocidad se vuelva $0$; utilizaremos una ley de control:\n",
    "\n",
    "$$\n",
    "\\tau_1 = k_p (q_d - q_1) + k_d (0 - \\dot{q}_1)\n",
    "$$\n",
    "\n",
    "en donde $k_p$ y $k_d$ son las ganancias proporcionales y derivativas (corresponden a la posicion y a la velocidad), si les damos valores de $10$ y $2$:"
   ]
  },
  {
   "cell_type": "code",
   "execution_count": null,
   "metadata": {},
   "outputs": [],
   "source": [
    "def f(t, x, params):\n",
    "    qd = params[0]\n",
    "    # Se importan funciones matematicas necesarias\n",
    "    from numpy import cos\n",
    "    # Se desenvuelven las variables que componen al estado\n",
    "    q1, q̇1 = x\n",
    "    # Se definen constantes del sistema\n",
    "    g = 9.81\n",
    "    m1, J1 = 0.3, 0.0005\n",
    "    l1 = 0.4\n",
    "    kp, kd = 10, 2\n",
    "    τ1 = kp*(qd - q1) + kd*(0 - q̇1)\n",
    "    # Se calculan las variables a devolver por el sistema\n",
    "    q1p = q̇1\n",
    "    q1pp = 1/(m1*l1**2 + J1)*(τ1 - g*m1*l1*cos(q1))\n",
    "    # Se devuelve la derivada de las variables de entrada\n",
    "    return [q1p, q1pp]"
   ]
  },
  {
   "cell_type": "code",
   "execution_count": null,
   "metadata": {},
   "outputs": [],
   "source": [
    "sis = ode(f)\n",
    "sis.set_initial_value([0,0])\n",
    "sis.set_f_params([radians(20)])"
   ]
  },
  {
   "cell_type": "code",
   "execution_count": null,
   "metadata": {},
   "outputs": [],
   "source": [
    "ts = linspace(0, 5, 1000)\n",
    "ys = [sis.integrate(t) for t in ts[1:]]\n",
    "ys.insert(0,[0,0])"
   ]
  },
  {
   "cell_type": "code",
   "execution_count": null,
   "metadata": {},
   "outputs": [],
   "source": [
    "fig = figure(figsize=(20,5))\n",
    "ax = fig.gca()\n",
    "ax.plot(ts, degrees(ys))\n",
    "ax.legend([ps[0], ps[1]], [r\"$q$\", r\"$\\dot{q}$\"])\n",
    "ax.set_title(\"Sistema con control $k_p=10$, $k_d=2$\");"
   ]
  },
  {
   "cell_type": "markdown",
   "metadata": {},
   "source": [
    "En este punto tenemos un sistema estable, el cual casi llega a la posición deseada, tan solo tenemos que sintonizar las ganancias $k_p$ y $k_d$. Para este procedimiento tenemos que modificar el valor de $k_p$ y $k_d$, por prueba y error, para mejorar el comportamiento del sistema. Sin embargo, con la ayuda de Jupyter podemos hacer algo mejor... primero defino la función de tal manera que los parametros de entrada me den no solo $q_d$, sino $k_p$ y $k_d$ tambien:"
   ]
  },
  {
   "cell_type": "code",
   "execution_count": null,
   "metadata": {},
   "outputs": [],
   "source": [
    "def f(t, x, params):\n",
    "    qd, kp, kd = params\n",
    "    # Se importan funciones matematicas necesarias\n",
    "    from numpy import cos\n",
    "    # Se desenvuelven las variables que componen al estado\n",
    "    q1, q̇1 = x\n",
    "    # Se definen constantes del sistema\n",
    "    g = 9.81\n",
    "    m1, J1 = 0.3, 0.0005\n",
    "    l1 = 0.4\n",
    "    τ1 = kp*(qd - q1) + kd*(0 - q̇1)\n",
    "    # Se calculan las variables a devolver por el sistema\n",
    "    q1p = q̇1\n",
    "    q1pp = 1/(m1*l1**2 + J1)*(τ1 - g*m1*l1*cos(q1))\n",
    "    # Se devuelve la derivada de las variables de entrada\n",
    "    return [q1p, q1pp]"
   ]
  },
  {
   "cell_type": "markdown",
   "metadata": {},
   "source": [
    "Despues, definimos una función que va a simular el comportamiento del sistema, usando como variables de entrada los valores que queremos variar:"
   ]
  },
  {
   "cell_type": "code",
   "execution_count": null,
   "metadata": {},
   "outputs": [],
   "source": [
    "def sim_sist_cont(qd=0, kp=1, kd=1):\n",
    "    sis = ode(f)\n",
    "    sis.set_initial_value([0,0])\n",
    "    sis.set_f_params([radians(qd), kp, kd])\n",
    "    ts = linspace(0, 1, 100)\n",
    "    ys = [sis.integrate(t) for t in ts[1:]]\n",
    "    ys.insert(0,[0,0])\n",
    "    fig = figure(figsize=(20,5))\n",
    "    ax = fig.gca()\n",
    "    ax.plot(ts, degrees(ys))\n",
    "    ax.set_ylim(-200, 200)\n",
    "    ax.legend([ps[0], ps[1]], [r\"$q$\", r\"$\\dot{q}$\"])\n",
    "    ax.set_title(\"Sistema con control $k_p=\"+str(kp)+\"$, $k_d=\"+str(kd)+\"$\");"
   ]
  },
  {
   "cell_type": "markdown",
   "metadata": {},
   "source": [
    "Una vez que tenemos esto, importamos ```interact``` para modificar los valores interactivamente:"
   ]
  },
  {
   "cell_type": "code",
   "execution_count": null,
   "metadata": {},
   "outputs": [],
   "source": [
    "from ipywidgets import interact"
   ]
  },
  {
   "cell_type": "code",
   "execution_count": null,
   "metadata": {},
   "outputs": [],
   "source": [
    "interact(sim_sist_cont, qd=(-180.0, 180.0), kp=(0,100.0), kd=(0,5.0))"
   ]
  },
  {
   "cell_type": "markdown",
   "metadata": {},
   "source": [
    "---\n",
    "## Ejercicio"
   ]
  },
  {
   "cell_type": "markdown",
   "metadata": {},
   "source": [
    "Utiliza esta visualización interactiva para sintonizar el sistema controlado, de tal manera que el tiempo de estabilización sea menor a $0.2s$ y el sobrepaso máximo sea menor a $5\\%$.\n",
    "\n",
    "Define las variables ```kp``` y ```kd``` con los resultados de esta sintonización:"
   ]
  },
  {
   "cell_type": "code",
   "execution_count": null,
   "metadata": {
    "deletable": false,
    "nbgrader": {
     "checksum": "e11b76735d6271643c563da7ed33456b",
     "grade": false,
     "grade_id": "cell-93a4e5da791841e0",
     "locked": false,
     "schema_version": 1,
     "solution": true
    }
   },
   "outputs": [],
   "source": [
    "# ESCRIBE TU CODIGO AQUI\n",
    "raise NotImplementedError"
   ]
  },
  {
   "cell_type": "code",
   "execution_count": null,
   "metadata": {
    "deletable": false,
    "editable": false,
    "nbgrader": {
     "checksum": "8533875ff91241b499cf19e520e650ca",
     "grade": true,
     "grade_id": "cell-07ea5f10c4ed45ce",
     "locked": true,
     "points": 3,
     "schema_version": 1,
     "solution": false
    }
   },
   "outputs": [],
   "source": [
    "from nose.tools import assert_almost_equal\n",
    "def prueba_sist_cont(qd, kp, kd):\n",
    "    sis = ode(f)\n",
    "    sis.set_initial_value([0,0])\n",
    "    sis.set_f_params([radians(qd), kp, kd])\n",
    "    ts = linspace(0, 1, 100)\n",
    "    ys = [sis.integrate(t) for t in ts[1:]]\n",
    "    ys.insert(0,[0,0])\n",
    "    return ts, ys\n",
    "\n",
    "ts, ys = prueba_sist_cont(120, kp, kd)\n",
    "ps, vs = zip(*ys)\n",
    "ve = ps[-1]\n",
    "sm = max([p-ve for p in ps])\n",
    "for i in range(len(ps)-1):\n",
    "    if ps[i+1] - ps[i] < 0.01:\n",
    "        te = ts[i]\n",
    "        break\n",
    "\n",
    "assert 0 < te <= 0.2, \"El tiempo de estabilización es mayor a 0.2s\"\n",
    "assert 0 < sm <= 0.05*radians(180), \"El sobrepaso maximo es mayor al 5%\""
   ]
  },
  {
   "cell_type": "markdown",
   "metadata": {},
   "source": [
    "Una vez que terminamos esto, podemos pasar adelante al documento ```simulador.ipynb```"
   ]
  }
 ],
 "metadata": {
  "kernelspec": {
   "display_name": "Python 3",
   "language": "python",
   "name": "python3"
  },
  "language_info": {
   "codemirror_mode": {
    "name": "ipython",
    "version": 3
   },
   "file_extension": ".py",
   "mimetype": "text/x-python",
   "name": "python",
   "nbconvert_exporter": "python",
   "pygments_lexer": "ipython3",
   "version": "3.6.6"
  }
 },
 "nbformat": 4,
 "nbformat_minor": 2
}
