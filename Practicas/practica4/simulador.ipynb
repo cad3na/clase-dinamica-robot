{
 "cells": [
  {
   "cell_type": "markdown",
   "metadata": {},
   "source": [
    "# Práctica 4 - Control"
   ]
  },
  {
   "cell_type": "markdown",
   "metadata": {},
   "source": [
    "El objetivo de esta simulación va a ser comprobar las ganancias obtenidas en la sintonización del documento ```numerico.ipynb```, por lo que es necesario que sustituyas estas en la función en donde se calcula la señal de control:"
   ]
  },
  {
   "cell_type": "code",
   "execution_count": null,
   "metadata": {
    "deletable": false,
    "nbgrader": {
     "checksum": "49e7de7f70038e433e0f56c52274f824",
     "grade": false,
     "grade_id": "cell-f34c4d5201ef0e67",
     "locked": false,
     "schema_version": 1,
     "solution": true
    }
   },
   "outputs": [],
   "source": [
    "def f(t, x, params):\n",
    "    def control(x, params):\n",
    "        qd = params[0]\n",
    "        q1, q̇1 = x\n",
    "        # ESCRIBE TU CODIGO AQUI\n",
    "        raise NotImplementedError\n",
    "        u = kp*(qd - q1) + kd*(0 - q̇1)\n",
    "        return u\n",
    "    \n",
    "    # Se importan funciones matematicas necesarias\n",
    "    from numpy import cos\n",
    "    # Se desenvuelven las variables que componen al estado\n",
    "    q1, q̇1 = x\n",
    "    # Se definen constantes del sistema\n",
    "    g = 9.81\n",
    "    m1, J1 = 0.3, 0.0005\n",
    "    l1 = 0.4\n",
    "    τ1 = control(x, params)\n",
    "    \n",
    "    # Se calculan las variables a devolver por el sistema\n",
    "    q1p = q̇1\n",
    "    q1pp = 1/(m1*l1**2 + J1)*(τ1 - g*m1*l1*cos(q1))\n",
    "    # Se devuelve la derivada de las variables de entrada\n",
    "    return [q1p, q1pp]"
   ]
  },
  {
   "cell_type": "code",
   "execution_count": null,
   "metadata": {
    "deletable": false,
    "editable": false,
    "nbgrader": {
     "checksum": "03450c274371487b2a53e701edc41f8c",
     "grade": true,
     "grade_id": "cell-38c4d0977442c793",
     "locked": true,
     "points": 3,
     "schema_version": 1,
     "solution": false
    }
   },
   "outputs": [],
   "source": [
    "from numpy.testing import assert_almost_equal\n",
    "assert_almost_equal(f(0, [0,0], [0.1]), [0, 140.67], 2)\n",
    "assert_almost_equal(f(0, [0.1,0], [0.1]), [0, -24.15], 2)\n",
    "print(\"Sin errores\")"
   ]
  },
  {
   "cell_type": "markdown",
   "metadata": {},
   "source": [
    "Mandamos llamar al simulador"
   ]
  },
  {
   "cell_type": "code",
   "execution_count": null,
   "metadata": {},
   "outputs": [],
   "source": [
    "from robots.simuladores import simulador"
   ]
  },
  {
   "cell_type": "code",
   "execution_count": null,
   "metadata": {},
   "outputs": [],
   "source": [
    "%matplotlib widget\n",
    "ts, xs = simulador(f=f, x0=[0, 0], dt=0.02, puertos_zmq=[\"5551\", \"5552\"], control=True)"
   ]
  },
  {
   "cell_type": "markdown",
   "metadata": {},
   "source": [
    "Este simulador no solo se puede visualizar por medio del documento ```visualizacion.ipynb```, sino que tambien necesita del documento ```referencias.ipynb``` para tomar la posición deseada del manipulador."
   ]
  }
 ],
 "metadata": {
  "kernelspec": {
   "display_name": "Python 3",
   "language": "python",
   "name": "python3"
  },
  "language_info": {
   "codemirror_mode": {
    "name": "ipython",
    "version": 3
   },
   "file_extension": ".py",
   "mimetype": "text/x-python",
   "name": "python",
   "nbconvert_exporter": "python",
   "pygments_lexer": "ipython3",
   "version": "3.6.6"
  }
 },
 "nbformat": 4,
 "nbformat_minor": 2
}
