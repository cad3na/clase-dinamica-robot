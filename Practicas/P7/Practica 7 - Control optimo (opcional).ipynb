{
 "cells": [
  {
   "cell_type": "markdown",
   "metadata": {},
   "source": [
    "#  Control óptimo"
   ]
  },
  {
   "cell_type": "markdown",
   "metadata": {},
   "source": [
    "En la práctica anterior se pidio la implementación de una ley de control que fuera capaz de controlar automaticamente la posición de nuestro manipulador planar de dos grados de libertad (pendulo doble), de cualquier manera posible; el objetivo de esta práctica, será el hacerlo optimamente."
   ]
  },
  {
   "cell_type": "markdown",
   "metadata": {},
   "source": [
    "Por supuesto, empezaremos con un ejemplo simple, un pendulo simple:\n",
    "\n",
    "De la práctica 5, sabemos que su representación en espacio de estados es:\n",
    "\n",
    "$$\n",
    "\\dot{x} = f(x) =\n",
    "\\begin{pmatrix}\n",
    "\\dot{q} \\\\\n",
    "\\frac{\\tau  - m g l \\cos{q}}{ml^2}\n",
    "\\end{pmatrix}\n",
    "$$\n",
    "\n",
    "en donde el estado del sistema, $x$, esta compuesto por:\n",
    "\n",
    "$$\n",
    "x = \n",
    "\\begin{pmatrix}\n",
    "q \\\\\n",
    "\\dot{q}\n",
    "\\end{pmatrix}\n",
    "$$\n",
    "\n",
    "Sin embargo, podemos notar dos cosas, esta expresión no es lineal y esta expresión no está escrita en forma matricial. Es importante que la expresión que obtengamos sea lineal para que el algoritmo del regulador cuadrático lineal (LQR) pueda usarse."
   ]
  },
  {
   "cell_type": "code",
   "execution_count": 2,
   "metadata": {
    "collapsed": false
   },
   "outputs": [],
   "source": [
    "from control import step, lqr"
   ]
  },
  {
   "cell_type": "markdown",
   "metadata": {},
   "source": [
    "## Problemas"
   ]
  },
  {
   "cell_type": "markdown",
   "metadata": {},
   "source": [
    "* Utilizando el modelo del pendulo doble, da valores a las señales de los motores $\\tau_1$ y $\\tau_2$ para un control automático que lleve el final del robot con brazos de longitud $l_1 = 1m$ y $l_2 = 1m$ al punto $(1, 1)$."
   ]
  }
 ],
 "metadata": {
  "kernelspec": {
   "display_name": "Python 3",
   "language": "python",
   "name": "python3"
  },
  "language_info": {
   "codemirror_mode": {
    "name": "ipython",
    "version": 3
   },
   "file_extension": ".py",
   "mimetype": "text/x-python",
   "name": "python",
   "nbconvert_exporter": "python",
   "pygments_lexer": "ipython3",
   "version": "3.5.1"
  }
 },
 "nbformat": 4,
 "nbformat_minor": 0
}
