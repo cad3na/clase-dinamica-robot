{
 "cells": [
  {
   "cell_type": "markdown",
   "metadata": {},
   "source": [
    "# Matrices de Transformación"
   ]
  },
  {
   "cell_type": "markdown",
   "metadata": {},
   "source": [
    "Las matrices de rotación y traslación nos sirven para transformar una coordenada entre diferentes sistemas coordenados, pero tambien lo podemos ver, como la transformación que le hace cada eslabon a nuestro punto de ubicación.\n",
    "\n",
    "Empecemos con la rotación:\n",
    "\n",
    "$$\n",
    "R_z =\n",
    "\\begin{pmatrix}\n",
    "\\cos{\\theta} & -\\sin{\\theta} & 0 & 0 \\\\\n",
    "\\sin{\\theta} & \\cos{\\theta} & 0 & 0 \\\\\n",
    "0 & 0 & 1 & 0 \\\\\n",
    "0 & 0 & 0 & 1\n",
    "\\end{pmatrix}\n",
    "$$\n",
    "\n",
    "La matriz que escribimos, girará nuestro de eje de coordenadas con respecto al eje $z$ un angulo $\\theta$.\n",
    "\n",
    "![Rotación en el eje Z](./imagenes/rotacion.svg)\n",
    "\n",
    "Por cierto, las funciones trigonometricas toman como argumento el angulo en radianes, por lo que tomaré la convencion de llamar a $\\tau = 2 \\pi$, para definir los angulos como fracciones de la vuelta completa."
   ]
  },
  {
   "cell_type": "code",
   "execution_count": null,
   "metadata": {
    "collapsed": true
   },
   "outputs": [],
   "source": [
    "from math import pi, sin, cos\n",
    "from numpy import matrix\n",
    "from matplotlib.pyplot import figure, plot, style\n",
    "style.use(\"ggplot\")\n",
    "%matplotlib inline"
   ]
  },
  {
   "cell_type": "code",
   "execution_count": null,
   "metadata": {
    "collapsed": true
   },
   "outputs": [],
   "source": [
    "τ = 2*pi"
   ]
  },
  {
   "cell_type": "markdown",
   "metadata": {},
   "source": [
    "Para empezar definiremos nuestra posición de inicio, como la coordenada:\n",
    "\n",
    "$$\n",
    "P_1 =\n",
    "\\begin{pmatrix}\n",
    "1 \\\\\n",
    "0 \\\\\n",
    "0\n",
    "\\end{pmatrix}\n",
    "$$"
   ]
  },
  {
   "cell_type": "code",
   "execution_count": null,
   "metadata": {
    "collapsed": true
   },
   "outputs": [],
   "source": [
    "pos_1 = matrix([[1],\n",
    "                [0],\n",
    "                [0],\n",
    "                [1]])"
   ]
  },
  {
   "cell_type": "markdown",
   "metadata": {},
   "source": [
    "Agregamos un $1$ al final, debido a que  las matrices de transformación homogenea son de dimensión $\\Re^{4\\times 4}$ y de otra manera no concordarian las dimensiones. Ahora podemos graficar en el plano $XY$ de la siguiente manera:"
   ]
  },
  {
   "cell_type": "code",
   "execution_count": null,
   "metadata": {
    "collapsed": false
   },
   "outputs": [],
   "source": [
    "f1 = figure(figsize=(8, 8))\n",
    "a1 = f1.gca()\n",
    "a1.plot([0, pos_1[0]], [0, pos_1[1]], \"-o\")\n",
    "a1.set_xlim(-0.1, 1.1)\n",
    "a1.set_ylim(-0.1, 1.1);"
   ]
  },
  {
   "cell_type": "markdown",
   "metadata": {},
   "source": [
    "Podemos definir matrices de la siguiente manera, y ver que el resultado es lo que esperariamos si quisieramos rotar el vector unitario $\\hat{i}$ , con $30^o$ es decir $\\frac{\\tau}{12}$."
   ]
  },
  {
   "cell_type": "code",
   "execution_count": null,
   "metadata": {
    "collapsed": false
   },
   "outputs": [],
   "source": [
    "rot_1 = matrix([[cos(τ/12), -sin(τ/12), 0, 0],\n",
    "              [sin(τ/12), cos(τ/12), 0, 0],\n",
    "              [0, 0, 1, 0],\n",
    "              [0, 0, 0, 1]])\n",
    "\n",
    "rot_1*pos_1"
   ]
  },
  {
   "cell_type": "markdown",
   "metadata": {},
   "source": [
    "Pero podemos hacer algo mejor, podemos definir una función que nos devuelva una matriz de rotación, dandole como argumento el angulo de rotación."
   ]
  },
  {
   "cell_type": "code",
   "execution_count": null,
   "metadata": {
    "collapsed": true
   },
   "outputs": [],
   "source": [
    "def rotacion_z(θ):\n",
    "    A = matrix([[cos(θ), -sin(θ), 0, 0],\n",
    "                [sin(θ), cos(θ), 0, 0],\n",
    "                [0, 0, 1, 0],\n",
    "                [0, 0, 0, 1]])\n",
    "    return A"
   ]
  },
  {
   "cell_type": "markdown",
   "metadata": {},
   "source": [
    "Entonces, tendremos el mismo resultado, con un codigo mas limpio."
   ]
  },
  {
   "cell_type": "code",
   "execution_count": null,
   "metadata": {
    "collapsed": false
   },
   "outputs": [],
   "source": [
    "rot_2 = rotacion_z(τ/12)\n",
    "p = rot_2*pos_1\n",
    "p"
   ]
  },
  {
   "cell_type": "code",
   "execution_count": null,
   "metadata": {
    "collapsed": false
   },
   "outputs": [],
   "source": [
    "f1 = figure(figsize=(8, 8))\n",
    "a1 = f1.gca()\n",
    "a1.plot([0, p[0]], [0, p[1]], \"-o\")\n",
    "a1.set_xlim(-0.1, 1.1)\n",
    "a1.set_ylim(-0.1, 1.1);"
   ]
  },
  {
   "cell_type": "markdown",
   "metadata": {},
   "source": [
    "# Ejercicio"
   ]
  },
  {
   "cell_type": "markdown",
   "metadata": {},
   "source": [
    "1. Implemente el código para las funciones que devuelvan matrices de rotación en $x$ y $y$.\n",
    "2. Implemente el código para las funciones que devuelvan matrices de traslación en $x$, $y$ y $z$.\n",
    "3. Implemente una cadena cinemática que describa la transformación hecha por una rotacion en $z$ de $30^o$, una rotación en $y$ de $50^o$ y una traslación en $z$ de $1m$.\n",
    "4. Sabemos que un pendulo doble puede ser descrito por una cadena cinemática, implemente una función que tome como argumento los parametros de rotación y traslación de cada uno de sus ejes, y devuelva la posición del actuador final."
   ]
  },
  {
   "cell_type": "markdown",
   "metadata": {},
   "source": [
    "## Notas\n",
    "\n",
    "* Toma en cuenta que $R_x$ y $R_y$ son:\n",
    "\n",
    "$$\n",
    "R_x =\n",
    "\\begin{pmatrix}\n",
    "1 & 0 & 0 & 0 \\\\\n",
    "0 & \\cos{\\theta} & -\\sin{\\theta} & 0 \\\\\n",
    "0 & \\sin{\\theta} & \\cos{\\theta} & 0 \\\\\n",
    "0 & 0 & 0 & 1\n",
    "\\end{pmatrix}\n",
    "$$\n",
    "\n",
    "$$\n",
    "R_y = \n",
    "\\begin{pmatrix}\n",
    "\\cos{\\theta} & 0 & \\sin{\\theta} & 0 \\\\\n",
    "0 & 1 & 0 & 0 \\\\\n",
    "-\\sin{\\theta} & 0 & \\cos{\\theta} & 0 \\\\\n",
    "0 & 0 & 0 & 1\n",
    "\\end{pmatrix}\n",
    "$$\n",
    "\n",
    "* Las matrices de Traslación son muy faciles, un ejemplo es:\n",
    "\n",
    "$$\n",
    "T_x =\n",
    "\\begin{pmatrix}\n",
    "1 & 0 & 0 & x \\\\\n",
    "0 & 1 & 0 & 0 \\\\\n",
    "0 & 0 & 1 & 0 \\\\\n",
    "0 & 0 & 0 & 1\n",
    "\\end{pmatrix}\n",
    "$$"
   ]
  }
 ],
 "metadata": {
  "kernelspec": {
   "display_name": "Python 3",
   "language": "python",
   "name": "python3"
  },
  "language_info": {
   "codemirror_mode": {
    "name": "ipython",
    "version": 3
   },
   "file_extension": ".py",
   "mimetype": "text/x-python",
   "name": "python",
   "nbconvert_exporter": "python",
   "pygments_lexer": "ipython3",
   "version": "3.4.3"
  }
 },
 "nbformat": 4,
 "nbformat_minor": 0
}
