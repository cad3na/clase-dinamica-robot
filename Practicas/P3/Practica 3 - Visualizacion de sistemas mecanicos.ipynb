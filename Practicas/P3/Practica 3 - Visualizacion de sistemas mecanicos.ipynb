{
 "cells": [
  {
   "cell_type": "markdown",
   "metadata": {},
   "source": [
    "# Visualización de sistemas mecánicos"
   ]
  },
  {
   "cell_type": "markdown",
   "metadata": {},
   "source": [
    "Dado un sistema masa resorte amortiguador como el de la figura siguiente:\n",
    "\n",
    "![](./imagenes/mra.png)\n",
    "\n",
    "Graficar la trayectoria del sistema, y animar los componentes fisicos de manera esquematica."
   ]
  },
  {
   "cell_type": "markdown",
   "metadata": {},
   "source": [
    "## Funciones de transferencia"
   ]
  },
  {
   "cell_type": "markdown",
   "metadata": {},
   "source": [
    "Recordando la práctica anterior, podemos obtener el comportamiento del sistema:\n",
    "\n",
    "$$\n",
    "F(t) - k x(t)  - c \\dot{x}(t) =  m \\ddot{x}(t)\n",
    "$$\n",
    "\n",
    "a traves de su función de transferencia:\n",
    "\n",
    "$$\n",
    "G(s) = \\frac{\\frac{1}{m}}{s^2 + \\frac{c}{m} s + \\frac{k}{m}}\n",
    "$$"
   ]
  },
  {
   "cell_type": "code",
   "execution_count": null,
   "metadata": {
    "collapsed": false
   },
   "outputs": [],
   "source": [
    "from control import step, tf"
   ]
  },
  {
   "cell_type": "code",
   "execution_count": null,
   "metadata": {
    "collapsed": true
   },
   "outputs": [],
   "source": [
    "m = 1200\n",
    "k = 15000\n",
    "c = 1500\n",
    "F = 1"
   ]
  },
  {
   "cell_type": "code",
   "execution_count": null,
   "metadata": {
    "collapsed": false
   },
   "outputs": [],
   "source": [
    "G = tf([0, 0, 1/m], [1, c/m, k/m])\n",
    "G"
   ]
  },
  {
   "cell_type": "code",
   "execution_count": null,
   "metadata": {
    "collapsed": false
   },
   "outputs": [],
   "source": [
    "y, t = step(G)"
   ]
  },
  {
   "cell_type": "markdown",
   "metadata": {},
   "source": [
    "## Graficas"
   ]
  },
  {
   "cell_type": "markdown",
   "metadata": {},
   "source": [
    "Una vez que tenemos los datos, nos disponemos a graficarlos, ahora utilizaremos un estilo de ```matplotlib```, para ver los estilos disponibles, tan solo tenemos que preguntar:"
   ]
  },
  {
   "cell_type": "code",
   "execution_count": null,
   "metadata": {
    "collapsed": true
   },
   "outputs": [],
   "source": [
    "%matplotlib inline\n",
    "from matplotlib.pyplot import figure, style, plot\n",
    "style.use(\"ggplot\")"
   ]
  },
  {
   "cell_type": "code",
   "execution_count": null,
   "metadata": {
    "collapsed": false
   },
   "outputs": [],
   "source": [
    "style.available"
   ]
  },
  {
   "cell_type": "markdown",
   "metadata": {},
   "source": [
    "Ahora solo damos el tamaño de la imagen, y obtenemos el objeto del *axis* de la grafica con el metodo ```gca``` para poder graficar:"
   ]
  },
  {
   "cell_type": "code",
   "execution_count": null,
   "metadata": {
    "collapsed": false
   },
   "outputs": [],
   "source": [
    "f = figure(figsize=(8, 8))\n",
    "axi = f.gca()\n",
    "\n",
    "axi.plot(t, y);"
   ]
  },
  {
   "cell_type": "markdown",
   "metadata": {},
   "source": [
    "Sin embargo el comportamiento del sistema a penas es visible, $0.00006 m = .6 mm$ en posición es practicamente nada. Recordemos que usamos tan solo usamos una fuerza de $1 N$, para amplificar esta entrada del sistema utilizamos otro bloque con una ganancia de la magnitud de la fuerza a aplicar:"
   ]
  },
  {
   "cell_type": "code",
   "execution_count": null,
   "metadata": {
    "collapsed": false
   },
   "outputs": [],
   "source": [
    "K = tf([1000], [1])\n",
    "K"
   ]
  },
  {
   "cell_type": "code",
   "execution_count": null,
   "metadata": {
    "collapsed": false
   },
   "outputs": [],
   "source": [
    "y, t = step(K*G)\n",
    "\n",
    "f = figure(figsize=(8, 8))\n",
    "axi = f.gca()\n",
    "\n",
    "axi.plot(t, y);"
   ]
  },
  {
   "cell_type": "markdown",
   "metadata": {},
   "source": [
    "Muy bien, nuestra suspensión se ha movido $10 cm$ con una fuerza comparable con el peso de una persona. Ahora notamos que a la derecha tenemos espacio vacio, por lo que pondremos limite al eje $x$:"
   ]
  },
  {
   "cell_type": "code",
   "execution_count": null,
   "metadata": {
    "collapsed": false
   },
   "outputs": [],
   "source": [
    "f = figure(figsize=(16, 8))\n",
    "axi = f.gca()\n",
    "\n",
    "axi.plot(t, y)\n",
    "\n",
    "axi.set_xlim(0, 10);"
   ]
  },
  {
   "cell_type": "markdown",
   "metadata": {},
   "source": [
    "Y la suspensión no se mueve de abajo hacia arriba, sino al reves, multiplicamos por $-1$ los datos de $y$:"
   ]
  },
  {
   "cell_type": "code",
   "execution_count": null,
   "metadata": {
    "collapsed": false
   },
   "outputs": [],
   "source": [
    "f = figure(figsize=(16, 8))\n",
    "axi = f.gca()\n",
    "\n",
    "axi.plot(t, -y)\n",
    "\n",
    "axi.set_xlim(0, 10);"
   ]
  },
  {
   "cell_type": "markdown",
   "metadata": {},
   "source": [
    "Para poder ver en una escala razonable esta gráfica pondremos un limite al eje $y$ tambien:"
   ]
  },
  {
   "cell_type": "code",
   "execution_count": null,
   "metadata": {
    "collapsed": true
   },
   "outputs": [],
   "source": [
    "from numpy import linspace"
   ]
  },
  {
   "cell_type": "code",
   "execution_count": null,
   "metadata": {
    "collapsed": false
   },
   "outputs": [],
   "source": [
    "t = linspace(0, 10, 1000)\n",
    "y, t = step(K*G, t)\n",
    "\n",
    "f = figure(figsize=(16, 8))\n",
    "axi = f.gca()\n",
    "\n",
    "axi.plot(t, -y)\n",
    "\n",
    "axi.set_xlim(0, 10)\n",
    "axi.set_ylim(-1.2, 0);"
   ]
  },
  {
   "cell_type": "markdown",
   "metadata": {},
   "source": [
    "Si ahora metemos todo este codigo dentro de una función para graficar, dependiendo de los datos del problema, se verá asi:"
   ]
  },
  {
   "cell_type": "code",
   "execution_count": null,
   "metadata": {
    "collapsed": false
   },
   "outputs": [],
   "source": [
    "def suspension(m, c, k, F):\n",
    "    G = tf([0, 0, 1/m], [1, c/m, k/m])\n",
    "    K = tf([F], [1])\n",
    "    t = linspace(0, 10, 1000)\n",
    "\n",
    "    y, t = step(K*G, t)\n",
    "    \n",
    "    f = figure(figsize=(16, 8))\n",
    "    axi = f.gca()\n",
    "    \n",
    "    axi.plot(t, -y)\n",
    "\n",
    "    axi.set_xlim(0, 10)\n",
    "    axi.set_ylim(-1.2, 0);\n",
    "    \n",
    "    # La siguiente linea devuelve los resultados numericos de la simulacion,\n",
    "    # si pones un punto y coma (;) despues de usar la funcion, o si guardas\n",
    "    # en variables, podras ver la grafica solamente\n",
    "    return t, y"
   ]
  },
  {
   "cell_type": "code",
   "execution_count": null,
   "metadata": {
    "collapsed": false
   },
   "outputs": [],
   "source": [
    "suspension(1200, 1500, 15000, 100*9.81);"
   ]
  },
  {
   "cell_type": "markdown",
   "metadata": {},
   "source": [
    "## Ejercicio"
   ]
  },
  {
   "cell_type": "markdown",
   "metadata": {},
   "source": [
    "¿Cuanto crees que pese una bola de demolición? ¿$500 kg$? ¿$1000 kg$? Grafica el comportamiento del sistema ante una fuerza de estas magnitudes, utilizando la función que acabamos de crear."
   ]
  },
  {
   "cell_type": "code",
   "execution_count": null,
   "metadata": {
    "collapsed": false
   },
   "outputs": [],
   "source": [
    "t1, x1 = suspension(1200, 1500, 15000, ) # Agrega la fuerza necesaria para la primer simulacion"
   ]
  },
  {
   "cell_type": "code",
   "execution_count": null,
   "metadata": {
    "collapsed": false
   },
   "outputs": [],
   "source": [
    "t2, x2 = # Completa el codigo para la segunda simulacion"
   ]
  },
  {
   "cell_type": "code",
   "execution_count": null,
   "metadata": {
    "collapsed": false
   },
   "outputs": [],
   "source": [
    "from pruebas_3 import prueba_3_1\n",
    "prueba_3_1(t1, x1, t2, x2)"
   ]
  },
  {
   "cell_type": "markdown",
   "metadata": {},
   "source": [
    "## Interactividad"
   ]
  },
  {
   "cell_type": "markdown",
   "metadata": {},
   "source": [
    "Esta es la parte divertida, para interactuar con los datos del problema, podemos usar una función especifica de IPython, tan solo tenemos que dar una función, y los rangos de variación de sus argumentos, para tener:"
   ]
  },
  {
   "cell_type": "code",
   "execution_count": null,
   "metadata": {
    "collapsed": false
   },
   "outputs": [],
   "source": [
    "# Se importan widgets de IPython para interactuar con la funcion\n",
    "from IPython.html.widgets import interact, fixed"
   ]
  },
  {
   "cell_type": "code",
   "execution_count": null,
   "metadata": {
    "collapsed": false
   },
   "outputs": [],
   "source": [
    "# Se llama a la funcion interactiva\n",
    "interact(suspension, m=(1000, 2500), c=(0, 2500), k=(0, 20000), F=(1, 10000));"
   ]
  },
  {
   "cell_type": "markdown",
   "metadata": {},
   "source": [
    "## GIF's"
   ]
  },
  {
   "cell_type": "markdown",
   "metadata": {},
   "source": [
    "A quien no le gustan los GIF's?\n",
    "\n",
    "![](./imagenes/1.gif)\n",
    "\n",
    "Hasta Chuck Norris lo sabe...\n",
    "\n",
    "![](./imagenes/2.gif)\n",
    "\n",
    "En fin, hoy haremos nuestro GIF... del comportamiento del sistema!\n",
    "\n",
    "Pero antes, tenemos que definir como graficaremos nuestros elementos, empecemos con el resorte. Basicamente en una linea retorcida, por lo que podemos simplemente dar las coordenadas y decirle a plot que haga una linea entre estas:"
   ]
  },
  {
   "cell_type": "code",
   "execution_count": null,
   "metadata": {
    "collapsed": true
   },
   "outputs": [],
   "source": [
    "from numpy import zeros, arange"
   ]
  },
  {
   "cell_type": "code",
   "execution_count": null,
   "metadata": {
    "collapsed": true
   },
   "outputs": [],
   "source": [
    "coordenadas_resorte = zeros(20)"
   ]
  },
  {
   "cell_type": "code",
   "execution_count": null,
   "metadata": {
    "collapsed": false
   },
   "outputs": [],
   "source": [
    "coordenadas_resorte[5:15] = 0.5*(-1)**arange(10)"
   ]
  },
  {
   "cell_type": "code",
   "execution_count": null,
   "metadata": {
    "collapsed": false
   },
   "outputs": [],
   "source": [
    "coordenadas_resorte"
   ]
  },
  {
   "cell_type": "code",
   "execution_count": null,
   "metadata": {
    "collapsed": false
   },
   "outputs": [],
   "source": [
    "plot(coordenadas_resorte, arange(20), lw = 2, color=\"gray\")"
   ]
  },
  {
   "cell_type": "markdown",
   "metadata": {},
   "source": [
    "Ya que tenemos esto, podemos meterlo en una funcion que nos de las coordenadas y el codigo nos queda mas simple:"
   ]
  },
  {
   "cell_type": "code",
   "execution_count": null,
   "metadata": {
    "collapsed": true
   },
   "outputs": [],
   "source": [
    "def coordenadas_resorte(y0, yf, x, ancho, N):\n",
    "    \n",
    "    xs = zeros(N) + x\n",
    "    xs[N/4:N*3/4] = ancho*0.5*(-1)**arange(N/2) + x\n",
    "    \n",
    "    return xs, linspace(y0, yf, N)"
   ]
  },
  {
   "cell_type": "code",
   "execution_count": null,
   "metadata": {
    "collapsed": false
   },
   "outputs": [],
   "source": [
    "x, y = coordenadas_resorte(-5, 5, 0, 2, 20)\n",
    "\n",
    "f = figure(figsize=(8, 8))\n",
    "axi = f.gca()\n",
    "\n",
    "axi.plot(x, y, lw=2, color=\"gray\")\n",
    "\n",
    "axi.set_xlim(-10, 10)\n",
    "axi.set_ylim(-10, 10);"
   ]
  },
  {
   "cell_type": "markdown",
   "metadata": {},
   "source": [
    "El amortiguador es un poco mas complejo, son 3 lineas, 2 para las patitas y una para el cuerpo:"
   ]
  },
  {
   "cell_type": "code",
   "execution_count": null,
   "metadata": {
    "collapsed": false
   },
   "outputs": [],
   "source": [
    "y0 = -5\n",
    "yf = 5\n",
    "alto = yf - y0\n",
    "cuerpo = alto/2\n",
    "pata = alto/4\n",
    "ancho = (yf - y0)/5\n",
    "x = 2\n",
    "\n",
    "f = figure(figsize=(8, 8))\n",
    "axi = f.gca()\n",
    "\n",
    "axi.plot([-0.5*ancho + x, -0.5*ancho + x, 0.5*ancho + x, 0.5*ancho + x],\n",
    "         [yf - pata, y0 + pata, y0 + pata, yf - pata],\n",
    "         [x, x], [y0 + cuerpo, yf],\n",
    "         [x, x], [y0, y0 + pata], lw=2, color=\"gray\")\n",
    "\n",
    "axi.set_xlim(-10, 10)\n",
    "axi.set_ylim(-10, 10);"
   ]
  },
  {
   "cell_type": "markdown",
   "metadata": {},
   "source": [
    "De la misma manera lo metemos en una función, para que nuestro codigo quede:"
   ]
  },
  {
   "cell_type": "code",
   "execution_count": null,
   "metadata": {
    "collapsed": true
   },
   "outputs": [],
   "source": [
    "def coordenadas_amortiguador(y0, yf, ancho, x):\n",
    "    \n",
    "    alto = yf - y0\n",
    "    cuerpo = alto/2\n",
    "    pata = alto/4\n",
    "\n",
    "    ax = [-0.5*ancho + x, -0.5*ancho + x, 0.5*ancho + x, 0.5*ancho + x]\n",
    "    ay = [yf - pata, y0 + pata, y0 + pata, yf - pata]\n",
    "    bx = [x, x]\n",
    "    by = [y0 + cuerpo, yf]\n",
    "    cx = [x, x]\n",
    "    cy = [y0, y0 + pata]\n",
    "    \n",
    "    return ax, ay, bx, by, cx, cy"
   ]
  },
  {
   "cell_type": "code",
   "execution_count": null,
   "metadata": {
    "collapsed": false
   },
   "outputs": [],
   "source": [
    "ax, ay, bx, by, cx, cy = coordenadas_amortiguador(-4, 6, 2, 1)\n",
    "\n",
    "f = figure(figsize=(8, 8))\n",
    "axi = f.gca()\n",
    "\n",
    "axi.plot(ax, ay, bx, by, cx, cy, lw=2, color=\"gray\")\n",
    "\n",
    "axi.set_xlim(-10, 10)\n",
    "axi.set_ylim(-10, 10);"
   ]
  },
  {
   "cell_type": "markdown",
   "metadata": {},
   "source": [
    "Por ultimo, para la masa tan solo necesitamos un rectangulo, el cual tenemos que importar de la libreria de ```matplotlib``` del modulo ```patches```:"
   ]
  },
  {
   "cell_type": "code",
   "execution_count": null,
   "metadata": {
    "collapsed": true
   },
   "outputs": [],
   "source": [
    "from matplotlib.patches import Rectangle"
   ]
  },
  {
   "cell_type": "code",
   "execution_count": null,
   "metadata": {
    "collapsed": false
   },
   "outputs": [],
   "source": [
    "f = figure(figsize=(8, 8))\n",
    "axi = f.add_subplot(111, autoscale_on=False, xlim=(-3, 3), ylim=(-3, 3))\n",
    "\n",
    "carro = Rectangle((0,0), 1, 1, lw=0.5)\n",
    "\n",
    "carro.set_xy((-0.5, -0.5))\n",
    "\n",
    "axi.add_patch(carro);"
   ]
  },
  {
   "cell_type": "markdown",
   "metadata": {},
   "source": [
    "Y uniendo todo, nos queda el codigo:"
   ]
  },
  {
   "cell_type": "code",
   "execution_count": null,
   "metadata": {
    "collapsed": false
   },
   "outputs": [],
   "source": [
    "f = figure(figsize=(8, 8))\n",
    "axi = f.add_subplot(111, autoscale_on=False, xlim=(-2, 2), ylim=(-3, 1))\n",
    "\n",
    "carro = Rectangle((0,0), 1, 1, lw=0.5)\n",
    "carro.set_xy((-0.5, -3))\n",
    "axi.add_patch(carro)\n",
    "\n",
    "x, y = coordenadas_resorte(0, -2, -0.25, 0.25, 20)\n",
    "axi.plot(x, y, lw=2, color=\"gray\")\n",
    "\n",
    "ax, ay, bx, by, cx, cy = coordenadas_amortiguador(-2, 0, 0.25, 0.25)\n",
    "axi.plot(ax, ay, bx, by, cx, cy, lw=2, color=\"gray\");\n",
    "\n",
    "axi.set_ylim(-4, 0);"
   ]
  },
  {
   "cell_type": "markdown",
   "metadata": {},
   "source": [
    "Por ultimo, para animar esto, tenemos que obtener los puntos de la trayectoria:"
   ]
  },
  {
   "cell_type": "code",
   "execution_count": null,
   "metadata": {
    "collapsed": true
   },
   "outputs": [],
   "source": [
    "m = 1200\n",
    "c = 1500\n",
    "k = 15000\n",
    "F = 4000\n",
    "\n",
    "G = tf([0, 0, 1/m], [1, c/m, k/m])\n",
    "K = tf([F], [1])\n",
    "t = linspace(0, 10, 1000)\n",
    "\n",
    "y, t = step(K*G, t)"
   ]
  },
  {
   "cell_type": "markdown",
   "metadata": {},
   "source": [
    "Importamos el modulo de animacion de la libreria ```matplotlib```:"
   ]
  },
  {
   "cell_type": "code",
   "execution_count": null,
   "metadata": {
    "collapsed": true
   },
   "outputs": [],
   "source": [
    "from matplotlib import animation"
   ]
  },
  {
   "cell_type": "markdown",
   "metadata": {},
   "source": [
    "Y utilizamos el siguiente codigo para la creacion de cada uno de los cuadros del GIF:"
   ]
  },
  {
   "cell_type": "code",
   "execution_count": null,
   "metadata": {
    "collapsed": false
   },
   "outputs": [],
   "source": [
    "# Se define el nombre del archivo con el que se va a guardar\n",
    "nombre = 'masa-resorte-amortiguador'\n",
    "\n",
    "# Se define el tamaño de la figura\n",
    "fig = figure(figsize=(8, 8))\n",
    "\n",
    "# Se define una sola grafica en la figura y se dan los limites de los ejes x y y\n",
    "axi = fig.add_subplot(111, autoscale_on=False, xlim=(-1.5, 1.5), ylim=(-2, 1))\n",
    "\n",
    "# Se hacen invisibles los ejes\n",
    "axi.axes.get_xaxis().set_visible(False)\n",
    "axi.axes.get_yaxis().set_visible(False)\n",
    "\n",
    "# Se quitan los bordes de la grafica\n",
    "axi.axes.spines[\"right\"].set_color(\"none\")\n",
    "axi.axes.spines[\"left\"].set_color(\"none\")\n",
    "axi.axes.spines[\"top\"].set_color(\"none\")\n",
    "axi.axes.spines[\"bottom\"].set_color(\"none\")\n",
    "\n",
    "# Se utilizan graficas de linea para el resorte y amortiguador\n",
    "resorte, = axi.plot([], [], lw=2, color='gray')\n",
    "amor1, = axi.plot([], [], lw=2, color='gray')\n",
    "amor2, = axi.plot([], [], lw=2, color='gray')\n",
    "amor3, = axi.plot([], [], lw=2, color='gray')\n",
    "# Se utiliza un rectangulo para la masa\n",
    "masa = Rectangle((10,10), 1, 1, lw=0.5)\n",
    "\n",
    "def init():\n",
    "    # Esta funcion se ejecuta una sola vez y sirve para inicializar el sistema\n",
    "    resorte.set_data([], [])\n",
    "    amor1.set_data([], [])\n",
    "    amor2.set_data([], [])\n",
    "    amor3.set_data([], [])\n",
    "    masa.set_xy((0, 0))\n",
    "    axi.add_patch(masa)\n",
    "    return resorte, amor1, amor2, amor3, masa\n",
    "\n",
    "def animate(i):\n",
    "    # Esta funcion se ejecuta para cada cuadro del GIF\n",
    "    \n",
    "    # Se obtienen las coordenadas del resorte y se meten los datos en su grafica de linea\n",
    "    xs, ys = coordenadas_resorte(-y[i], 1, -0.25, 0.25, 20)\n",
    "    resorte.set_data(xs, ys)\n",
    "    \n",
    "    # Se obtienen las coordenadas del amortiguador y se meten los datos en cada una de \n",
    "    # las graficas de linea\n",
    "    ax, ay, bx, by, cx, cy = coordenadas_amortiguador(-y[i], 1, 0.25, 0.25)\n",
    "    amor1.set_data(ax, ay)\n",
    "    amor2.set_data(bx, by)\n",
    "    amor3.set_data(cx, cy)\n",
    "    \n",
    "    # Se meten los datos de ubicacion de la masa\n",
    "    masa.set_xy((-0.5, -1 - y[i]))\n",
    "    return resorte, amor1, amor2, amor3, masa\n",
    "\n",
    "# Se hace la animacion dandole el nombre de la figura definida al principio, la funcion que\n",
    "# se debe ejecutar para cada cuadro, el numero de cuadros que se debe de hacer, el periodo \n",
    "# de cada cuadro y la funcion inicial\n",
    "ani = animation.FuncAnimation(fig, animate, arange(1, len(y)), interval=25, init_func=init)\n",
    "\n",
    "# Se guarda el GIF en el archivo indicado en la carpeta llamada 'imagenes'\n",
    "ani.save('./imagenes/' + nombre + '.gif', writer='imagemagick');"
   ]
  },
  {
   "cell_type": "markdown",
   "metadata": {},
   "source": [
    "![](../imagenes/masa-resorte-amortiguador.gif)"
   ]
  },
  {
   "cell_type": "markdown",
   "metadata": {},
   "source": [
    "## Ejercicio"
   ]
  },
  {
   "cell_type": "markdown",
   "metadata": {},
   "source": [
    "Crea una función que contenga todo el codigo para crear la animación."
   ]
  },
  {
   "cell_type": "code",
   "execution_count": null,
   "metadata": {
    "collapsed": true
   },
   "outputs": [],
   "source": []
  },
  {
   "cell_type": "markdown",
   "metadata": {},
   "source": [
    "# Problemas"
   ]
  },
  {
   "cell_type": "markdown",
   "metadata": {},
   "source": [
    "1. Cambia los parametros para crear un comportamiento estable y animalo.\n",
    "2. Cambia los parametros para crear un comportamiento criticamente estable y animalo.\n",
    "3. Cambia los parametros para crear un comportamiento inestable y animalo.\n",
    "\n",
    "\n",
    "* Utiliza un estilo diferente en cada animacion"
   ]
  }
 ],
 "metadata": {
  "anaconda-cloud": {},
  "kernelspec": {
   "display_name": "Python [default]",
   "language": "python",
   "name": "python3"
  },
  "language_info": {
   "codemirror_mode": {
    "name": "ipython",
    "version": 3
   },
   "file_extension": ".py",
   "mimetype": "text/x-python",
   "name": "python",
   "nbconvert_exporter": "python",
   "pygments_lexer": "ipython3",
   "version": "3.5.2"
  }
 },
 "nbformat": 4,
 "nbformat_minor": 0
}
